{
  "cells": [
    {
      "cell_type": "markdown",
      "metadata": {
        "id": "6wKr_F0XBTvV"
      },
      "source": [
        "# Text generation with a miniature GPT\n",
        "\n",
        "**Author:** [Apoorv Nandan](https://twitter.com/NandanApoorv)<br>\n",
        "**Date created:** 2020/05/29<br>\n",
        "**Last modified:** 2020/05/29<br>\n",
        "**Description:** Implement a miniature version of GPT and train it to generate text."
      ]
    },
    {
      "cell_type": "markdown",
      "metadata": {
        "id": "biXp5ZAHBTvW"
      },
      "source": [
        "## Introduction\n",
        "\n",
        "This example demonstrates how to implement an autoregressive language model\n",
        "using a miniature version of the GPT model.\n",
        "The model consists of a single Transformer block with causal masking\n",
        "in its attention layer.\n",
        "We use the text from the IMDB sentiment classification dataset for training\n",
        "and generate new movie reviews for a given prompt.\n",
        "When using this script with your own dataset, make sure it has at least\n",
        "1 million words.\n",
        "\n",
        "This example should be run with `tf-nightly>=2.3.0-dev20200531` or\n",
        "with TensorFlow 2.3 or higher.\n",
        "\n",
        "**References:**\n",
        "\n",
        "- [GPT](https://www.semanticscholar.org/paper/Improving-Language-Understanding-by-Generative-Radford/cd18800a0fe0b668a1cc19f2ec95b5003d0a5035)\n",
        "- [GPT-2](https://www.semanticscholar.org/paper/Language-Models-are-Unsupervised-Multitask-Learners-Radford-Wu/9405cc0d6169988371b2755e573cc28650d14dfe)\n",
        "- [GPT-3](https://arxiv.org/abs/2005.14165)"
      ]
    },
    {
      "cell_type": "markdown",
      "metadata": {
        "id": "0pdgLri8BTvW"
      },
      "source": [
        "## Setup"
      ]
    },
    {
      "cell_type": "code",
      "execution_count": 1,
      "metadata": {
        "id": "okpr6TTVBTvW"
      },
      "outputs": [],
      "source": [
        "# We set the backend to TensorFlow. The code works with\n",
        "# both `tensorflow` and `torch`. It does not work with JAX\n",
        "# due to the behavior of `jax.numpy.tile` in a jit scope\n",
        "# (used in `causal_attention_mask()`: `tile` in JAX does\n",
        "# not support a dynamic `reps` argument.\n",
        "# You can make the code work in JAX by wrapping the\n",
        "# inside of the `causal_attention_mask` function in\n",
        "# a decorator to prevent jit compilation:\n",
        "# `with jax.ensure_compile_time_eval():`.\n",
        "import os\n",
        "\n",
        "os.environ[\"KERAS_BACKEND\"] = \"tensorflow\"\n",
        "\n",
        "import keras\n",
        "from keras import layers\n",
        "from keras import ops\n",
        "from keras.layers import TextVectorization\n",
        "import numpy as np\n",
        "import os\n",
        "import string\n",
        "import random\n",
        "import tensorflow\n",
        "import tensorflow.data as tf_data\n",
        "import tensorflow.strings as tf_strings\n"
      ]
    },
    {
      "cell_type": "markdown",
      "metadata": {
        "id": "j3er8NGvBTvX"
      },
      "source": [
        "## Implement a Transformer block as a layer"
      ]
    },
    {
      "cell_type": "code",
      "execution_count": 2,
      "metadata": {
        "id": "Rnl6dKYXBTvX"
      },
      "outputs": [],
      "source": [
        "\n",
        "def causal_attention_mask(batch_size, n_dest, n_src, dtype):\n",
        "    \"\"\"\n",
        "    Mask the upper half of the dot product matrix in self attention.\n",
        "    This prevents flow of information from future tokens to current token.\n",
        "    1's in the lower triangle, counting from the lower right corner.\n",
        "    \"\"\"\n",
        "    i = ops.arange(n_dest)[:, None]\n",
        "    j = ops.arange(n_src)\n",
        "    m = i >= j - n_src + n_dest\n",
        "    mask = ops.cast(m, dtype)\n",
        "    mask = ops.reshape(mask, [1, n_dest, n_src])\n",
        "    mult = ops.concatenate(\n",
        "        [ops.expand_dims(batch_size, -1), ops.convert_to_tensor([1, 1])], 0\n",
        "    )\n",
        "    return ops.tile(mask, mult)\n",
        "\n",
        "\n",
        "class TransformerBlock(layers.Layer):\n",
        "    def __init__(self, embed_dim, num_heads, ff_dim, rate=0.1):\n",
        "        super().__init__()\n",
        "        self.att = layers.MultiHeadAttention(num_heads, embed_dim)\n",
        "        self.ffn = keras.Sequential(\n",
        "            [\n",
        "                layers.Dense(ff_dim, activation=\"relu\"),\n",
        "                layers.Dense(embed_dim),\n",
        "            ]\n",
        "        )\n",
        "        self.layernorm1 = layers.LayerNormalization(epsilon=1e-6)\n",
        "        self.layernorm2 = layers.LayerNormalization(epsilon=1e-6)\n",
        "        self.dropout1 = layers.Dropout(rate)\n",
        "        self.dropout2 = layers.Dropout(rate)\n",
        "\n",
        "    def call(self, inputs):\n",
        "        input_shape = ops.shape(inputs)\n",
        "        batch_size = input_shape[0]\n",
        "        seq_len = input_shape[1]\n",
        "        causal_mask = causal_attention_mask(batch_size, seq_len, seq_len, \"bool\")\n",
        "        attention_output = self.att(inputs, inputs, attention_mask=causal_mask)\n",
        "        attention_output = self.dropout1(attention_output)\n",
        "        out1 = self.layernorm1(inputs + attention_output)\n",
        "        ffn_output = self.ffn(out1)\n",
        "        ffn_output = self.dropout2(ffn_output)\n",
        "        return self.layernorm2(out1 + ffn_output)\n"
      ]
    },
    {
      "cell_type": "markdown",
      "metadata": {
        "id": "NE45qrRdBTvX"
      },
      "source": [
        "## Implement an embedding layer\n",
        "\n",
        "Create two separate embedding layers: one for tokens and one for token index\n",
        "(positions)."
      ]
    },
    {
      "cell_type": "code",
      "execution_count": 3,
      "metadata": {
        "id": "HiW_hhawBTvX"
      },
      "outputs": [],
      "source": [
        "\n",
        "class TokenAndPositionEmbedding(layers.Layer):\n",
        "    def __init__(self, maxlen, vocab_size, embed_dim):\n",
        "        super().__init__()\n",
        "        self.token_emb = layers.Embedding(input_dim=vocab_size, output_dim=embed_dim)\n",
        "        self.pos_emb = layers.Embedding(input_dim=maxlen, output_dim=embed_dim)\n",
        "\n",
        "    def call(self, x):\n",
        "        maxlen = ops.shape(x)[-1]\n",
        "        positions = ops.arange(0, maxlen, 1)\n",
        "        positions = self.pos_emb(positions)\n",
        "        x = self.token_emb(x)\n",
        "        return x + positions\n"
      ]
    },
    {
      "cell_type": "markdown",
      "metadata": {
        "id": "9QTSnNKyBTvY"
      },
      "source": [
        "## Implement the miniature GPT model"
      ]
    },
    {
      "cell_type": "code",
      "execution_count": 4,
      "metadata": {
        "id": "wFq7W3rZBTvY"
      },
      "outputs": [],
      "source": [
        "vocab_size = 20000  # Only consider the top 20k words\n",
        "maxlen = 80  # Max sequence size\n",
        "embed_dim = 256  # Embedding size for each token\n",
        "num_heads = 2  # Number of attention heads\n",
        "feed_forward_dim = 256  # Hidden layer size in feed forward network inside transformer\n",
        "\n",
        "\n",
        "def create_model():\n",
        "    inputs = layers.Input(shape=(maxlen,), dtype=\"int32\")\n",
        "    embedding_layer = TokenAndPositionEmbedding(maxlen, vocab_size, embed_dim)\n",
        "    x = embedding_layer(inputs)\n",
        "    transformer_block = TransformerBlock(embed_dim, num_heads, feed_forward_dim)\n",
        "    x = transformer_block(x)\n",
        "    outputs = layers.Dense(vocab_size)(x)\n",
        "    model = keras.Model(inputs=inputs, outputs=[outputs, x])\n",
        "    loss_fn = keras.losses.SparseCategoricalCrossentropy(from_logits=True)\n",
        "    model.compile(\n",
        "        \"adam\",\n",
        "        loss=[loss_fn, None],\n",
        "    )  # No loss and optimization based on word embeddings from transformer block\n",
        "    return model\n"
      ]
    },
    {
      "cell_type": "markdown",
      "metadata": {
        "id": "MXqj5og2BTvY"
      },
      "source": [
        "## Prepare the data for word-level language modelling\n",
        "\n",
        "Download the IMDB dataset and combine training and validation sets for a text\n",
        "generation task."
      ]
    },
    {
      "cell_type": "code",
      "execution_count": 5,
      "metadata": {
        "id": "xidERr0GBTvY",
        "colab": {
          "base_uri": "https://localhost:8080/"
        },
        "outputId": "398d222e-9ea6-4709-f947-3859ea4ce96a"
      },
      "outputs": [
        {
          "output_type": "stream",
          "name": "stdout",
          "text": [
            "  % Total    % Received % Xferd  Average Speed   Time    Time     Time  Current\n",
            "                                 Dload  Upload   Total   Spent    Left  Speed\n",
            "100 80.2M  100 80.2M    0     0  42.4M      0  0:00:01  0:00:01 --:--:-- 42.4M\n"
          ]
        }
      ],
      "source": [
        "!curl -O https://ai.stanford.edu/~amaas/data/sentiment/aclImdb_v1.tar.gz\n",
        "!tar -xf aclImdb_v1.tar.gz"
      ]
    },
    {
      "cell_type": "code",
      "execution_count": 6,
      "metadata": {
        "id": "OBzLXaNDBTvY",
        "colab": {
          "base_uri": "https://localhost:8080/"
        },
        "outputId": "80cb3392-d7a0-4584-df59-f7d265be983c"
      },
      "outputs": [
        {
          "output_type": "stream",
          "name": "stdout",
          "text": [
            "50000 files\n"
          ]
        }
      ],
      "source": [
        "\n",
        "batch_size = 128\n",
        "\n",
        "# The dataset contains each review in a separate text file\n",
        "# The text files are present in four different folders\n",
        "# Create a list all files\n",
        "filenames = []\n",
        "directories = [\n",
        "    \"aclImdb/train/pos\",\n",
        "    \"aclImdb/train/neg\",\n",
        "    \"aclImdb/test/pos\",\n",
        "    \"aclImdb/test/neg\",\n",
        "]\n",
        "for dir in directories:\n",
        "    for f in os.listdir(dir):\n",
        "        filenames.append(os.path.join(dir, f))\n",
        "\n",
        "print(f\"{len(filenames)} files\")\n",
        "\n",
        "# Create a dataset from text files\n",
        "random.shuffle(filenames)\n",
        "text_ds = tf_data.TextLineDataset(filenames)\n",
        "text_ds = text_ds.shuffle(buffer_size=256)\n",
        "text_ds = text_ds.batch(batch_size)\n",
        "\n",
        "\n",
        "def custom_standardization(input_string):\n",
        "    \"\"\"Remove html line-break tags and handle punctuation\"\"\"\n",
        "    lowercased = tf_strings.lower(input_string)\n",
        "    stripped_html = tf_strings.regex_replace(lowercased, \"<br />\", \" \")\n",
        "    return tf_strings.regex_replace(stripped_html, f\"([{string.punctuation}])\", r\" \\1\")\n",
        "\n",
        "\n",
        "# Create a vectorization layer and adapt it to the text\n",
        "vectorize_layer = TextVectorization(\n",
        "    standardize=custom_standardization,\n",
        "    max_tokens=vocab_size - 1,\n",
        "    output_mode=\"int\",\n",
        "    output_sequence_length=maxlen + 1,\n",
        ")\n",
        "vectorize_layer.adapt(text_ds)\n",
        "vocab = vectorize_layer.get_vocabulary()  # To get words back from token indices\n",
        "\n",
        "\n",
        "def prepare_lm_inputs_labels(text):\n",
        "    \"\"\"\n",
        "    Shift word sequences by 1 position so that the target for position (i) is\n",
        "    word at position (i+1). The model will use all words up till position (i)\n",
        "    to predict the next word.\n",
        "    \"\"\"\n",
        "    text = tensorflow.expand_dims(text, -1)\n",
        "    tokenized_sentences = vectorize_layer(text)\n",
        "    x = tokenized_sentences[:, :-1]\n",
        "    y = tokenized_sentences[:, 1:]\n",
        "    return x, y\n",
        "\n",
        "\n",
        "text_ds = text_ds.map(prepare_lm_inputs_labels, num_parallel_calls=tf_data.AUTOTUNE)\n",
        "text_ds = text_ds.prefetch(tf_data.AUTOTUNE)\n"
      ]
    },
    {
      "cell_type": "markdown",
      "metadata": {
        "id": "x85YGdUyBTvY"
      },
      "source": [
        "## Implement a Keras callback for generating text"
      ]
    },
    {
      "cell_type": "code",
      "execution_count": 7,
      "metadata": {
        "id": "2EV3YUt8BTvY"
      },
      "outputs": [],
      "source": [
        "\n",
        "class TextGenerator(keras.callbacks.Callback):\n",
        "    \"\"\"A callback to generate text from a trained model.\n",
        "    1. Feed some starting prompt to the model\n",
        "    2. Predict probabilities for the next token\n",
        "    3. Sample the next token and add it to the next input\n",
        "\n",
        "    Arguments:\n",
        "        max_tokens: Integer, the number of tokens to be generated after prompt.\n",
        "        start_tokens: List of integers, the token indices for the starting prompt.\n",
        "        index_to_word: List of strings, obtained from the TextVectorization layer.\n",
        "        top_k: Integer, sample from the `top_k` token predictions.\n",
        "        print_every: Integer, print after this many epochs.\n",
        "    \"\"\"\n",
        "\n",
        "    def __init__(\n",
        "        self, max_tokens, start_tokens, index_to_word, top_k=10, print_every=1\n",
        "    ):\n",
        "        self.max_tokens = max_tokens\n",
        "        self.start_tokens = start_tokens\n",
        "        self.index_to_word = index_to_word\n",
        "        self.print_every = print_every\n",
        "        self.k = top_k\n",
        "\n",
        "    def sample_from(self, logits):\n",
        "        logits, indices = ops.top_k(logits, k=self.k, sorted=True)\n",
        "        indices = np.asarray(indices).astype(\"int32\")\n",
        "        preds = keras.activations.softmax(ops.expand_dims(logits, 0))[0]\n",
        "        preds = np.asarray(preds).astype(\"float32\")\n",
        "        return np.random.choice(indices, p=preds)\n",
        "\n",
        "    def detokenize(self, number):\n",
        "        return self.index_to_word[number]\n",
        "\n",
        "    def on_epoch_end(self, epoch, logs=None):\n",
        "        start_tokens = [_ for _ in self.start_tokens]\n",
        "        if (epoch + 1) % self.print_every != 0:\n",
        "            return\n",
        "        num_tokens_generated = 0\n",
        "        tokens_generated = []\n",
        "        while num_tokens_generated <= self.max_tokens:\n",
        "            pad_len = maxlen - len(start_tokens)\n",
        "            sample_index = len(start_tokens) - 1\n",
        "            if pad_len < 0:\n",
        "                x = start_tokens[:maxlen]\n",
        "                sample_index = maxlen - 1\n",
        "            elif pad_len > 0:\n",
        "                x = start_tokens + [0] * pad_len\n",
        "            else:\n",
        "                x = start_tokens\n",
        "            x = np.array([x])\n",
        "            y, _ = self.model.predict(x, verbose=0)\n",
        "            sample_token = self.sample_from(y[0][sample_index])\n",
        "            tokens_generated.append(sample_token)\n",
        "            start_tokens.append(sample_token)\n",
        "            num_tokens_generated = len(tokens_generated)\n",
        "        txt = \" \".join(\n",
        "            [self.detokenize(_) for _ in self.start_tokens + tokens_generated]\n",
        "        )\n",
        "        print(f\"generated text:\\n{txt}\\n\")\n",
        "\n",
        "\n",
        "# Tokenize starting prompt\n",
        "word_to_index = {}\n",
        "for index, word in enumerate(vocab):\n",
        "    word_to_index[word] = index\n",
        "\n",
        "start_prompt = \"this movie is\"\n",
        "start_tokens = [word_to_index.get(_, 1) for _ in start_prompt.split()]\n",
        "num_tokens_generated = 40\n",
        "text_gen_callback = TextGenerator(num_tokens_generated, start_tokens, vocab)\n"
      ]
    },
    {
      "cell_type": "markdown",
      "metadata": {
        "id": "lpIjDc1LBTvY"
      },
      "source": [
        "## Train the model\n",
        "\n",
        "Note: This code should preferably be run on GPU."
      ]
    },
    {
      "cell_type": "code",
      "execution_count": 8,
      "metadata": {
        "id": "0BChadYhBTvY"
      },
      "outputs": [],
      "source": [
        "model = create_model()"
      ]
    },
    {
      "cell_type": "markdown",
      "source": [
        "#Calculating carbon emissions for tracking"
      ],
      "metadata": {
        "id": "EmxdClTWB7qc"
      }
    },
    {
      "cell_type": "code",
      "source": [
        "!pip install codecarbon\n",
        "from codecarbon import EmissionsTracker"
      ],
      "metadata": {
        "id": "VXyStiFiB5VG"
      },
      "execution_count": null,
      "outputs": []
    },
    {
      "cell_type": "code",
      "source": [
        "#start emissions tracking\n",
        "tracker = EmissionsTracker()\n",
        "tracker.start()\n",
        "\n",
        "model.fit(text_ds, verbose=2, epochs=25, callbacks=[text_gen_callback])\n",
        "\n",
        "#stop emissions tracking\n",
        "emissions: float = tracker.stop()\n",
        "print(f\"Emissions during training: {emissions} kg CO2\")"
      ],
      "metadata": {
        "colab": {
          "base_uri": "https://localhost:8080/"
        },
        "id": "ANKfkRCjB4tk",
        "outputId": "1acd7454-4a37-4200-f336-cbc975970a3d"
      },
      "execution_count": 10,
      "outputs": [
        {
          "output_type": "stream",
          "name": "stderr",
          "text": [
            "[codecarbon WARNING @ 18:09:18] Multiple instances of codecarbon are allowed to run at the same time.\n",
            "[codecarbon INFO @ 18:09:18] [setup] RAM Tracking...\n",
            "[codecarbon INFO @ 18:09:18] [setup] CPU Tracking...\n",
            "[codecarbon WARNING @ 18:09:19] We saw that you have a Intel(R) Xeon(R) CPU @ 2.20GHz but we don't know it. Please contact us.\n",
            "[codecarbon WARNING @ 18:09:19] No CPU tracking mode found. Falling back on estimation based on TDP for CPU. \n",
            " Linux OS detected: Please ensure RAPL files exist at /sys/class/powercap/intel-rapl/subsystem to measure CPU\n",
            "\n",
            "[codecarbon INFO @ 18:09:19] CPU Model on constant consumption mode: Intel(R) Xeon(R) CPU @ 2.20GHz\n",
            "[codecarbon WARNING @ 18:09:19] No CPU tracking mode found. Falling back on CPU constant mode.\n",
            "[codecarbon INFO @ 18:09:19] [setup] GPU Tracking...\n",
            "[codecarbon INFO @ 18:09:19] Tracking Nvidia GPU via pynvml\n",
            "[codecarbon INFO @ 18:09:19] The below tracking methods have been set up:\n",
            "                RAM Tracking Method: RAM power estimation model\n",
            "                CPU Tracking Method: global constant\n",
            "                GPU Tracking Method: pynvml\n",
            "            \n",
            "[codecarbon INFO @ 18:09:19] >>> Tracker's metadata:\n",
            "[codecarbon INFO @ 18:09:19]   Platform system: Linux-6.1.123+-x86_64-with-glibc2.35\n",
            "[codecarbon INFO @ 18:09:19]   Python version: 3.11.12\n",
            "[codecarbon INFO @ 18:09:19]   CodeCarbon version: 3.0.0\n",
            "[codecarbon INFO @ 18:09:19]   Available RAM : 12.674 GB\n",
            "[codecarbon INFO @ 18:09:19]   CPU count: 2 thread(s) in 1 physical CPU(s)\n",
            "[codecarbon INFO @ 18:09:19]   CPU model: Intel(R) Xeon(R) CPU @ 2.20GHz\n",
            "[codecarbon INFO @ 18:09:19]   GPU count: 1\n",
            "[codecarbon INFO @ 18:09:19]   GPU model: 1 x Tesla T4\n",
            "[codecarbon INFO @ 18:09:19] Emissions data (if any) will be saved to file /content/emissions.csv\n"
          ]
        },
        {
          "output_type": "stream",
          "name": "stdout",
          "text": [
            "Epoch 1/25\n"
          ]
        },
        {
          "output_type": "stream",
          "name": "stderr",
          "text": [
            "[codecarbon INFO @ 18:09:34] Energy consumed for RAM : 0.000042 kWh. RAM Power : 10.0 W\n",
            "[codecarbon INFO @ 18:09:34] Delta energy consumed for CPU with constant : 0.000177 kWh, power : 42.5 W\n",
            "[codecarbon INFO @ 18:09:34] Energy consumed for All CPU : 0.000177 kWh\n",
            "[codecarbon INFO @ 18:09:34] Energy consumed for all GPUs : 0.000180 kWh. Total GPU Power : 43.03518079101798 W\n",
            "[codecarbon INFO @ 18:09:34] 0.000398 kWh of electricity used since the beginning.\n",
            "[codecarbon INFO @ 18:09:49] Energy consumed for RAM : 0.000083 kWh. RAM Power : 10.0 W\n",
            "[codecarbon INFO @ 18:09:49] Delta energy consumed for CPU with constant : 0.000177 kWh, power : 42.5 W\n",
            "[codecarbon INFO @ 18:09:49] Energy consumed for All CPU : 0.000354 kWh\n",
            "[codecarbon INFO @ 18:09:49] Energy consumed for all GPUs : 0.000440 kWh. Total GPU Power : 62.443626008941315 W\n",
            "[codecarbon INFO @ 18:09:49] 0.000878 kWh of electricity used since the beginning.\n",
            "[codecarbon INFO @ 18:10:04] Energy consumed for RAM : 0.000125 kWh. RAM Power : 10.0 W\n",
            "[codecarbon INFO @ 18:10:04] Delta energy consumed for CPU with constant : 0.000177 kWh, power : 42.5 W\n",
            "[codecarbon INFO @ 18:10:04] Energy consumed for All CPU : 0.000531 kWh\n",
            "[codecarbon INFO @ 18:10:04] Energy consumed for all GPUs : 0.000729 kWh. Total GPU Power : 69.47439713562332 W\n",
            "[codecarbon INFO @ 18:10:04] 0.001386 kWh of electricity used since the beginning.\n",
            "[codecarbon INFO @ 18:10:19] Energy consumed for RAM : 0.000167 kWh. RAM Power : 10.0 W\n",
            "[codecarbon INFO @ 18:10:19] Delta energy consumed for CPU with constant : 0.000177 kWh, power : 42.5 W\n",
            "[codecarbon INFO @ 18:10:19] Energy consumed for All CPU : 0.000708 kWh\n",
            "[codecarbon INFO @ 18:10:19] Energy consumed for all GPUs : 0.001021 kWh. Total GPU Power : 69.99422049216889 W\n",
            "[codecarbon INFO @ 18:10:19] 0.001896 kWh of electricity used since the beginning.\n",
            "[codecarbon INFO @ 18:10:34] Energy consumed for RAM : 0.000208 kWh. RAM Power : 10.0 W\n",
            "[codecarbon INFO @ 18:10:34] Delta energy consumed for CPU with constant : 0.000177 kWh, power : 42.5 W\n",
            "[codecarbon INFO @ 18:10:34] Energy consumed for All CPU : 0.000885 kWh\n",
            "[codecarbon INFO @ 18:10:34] Energy consumed for all GPUs : 0.001291 kWh. Total GPU Power : 64.97143705728448 W\n",
            "[codecarbon INFO @ 18:10:34] 0.002385 kWh of electricity used since the beginning.\n",
            "/usr/local/lib/python3.11/dist-packages/keras/src/trainers/epoch_iterator.py:151: UserWarning: Your input ran out of data; interrupting training. Make sure that your dataset or generator can generate at least `steps_per_epoch * epochs` batches. You may need to use the `.repeat()` function when building your dataset.\n",
            "  self._interrupted_warning()\n"
          ]
        },
        {
          "output_type": "stream",
          "name": "stdout",
          "text": [
            "generated text:\n",
            "this movie is one of the best of my favourite . i have never seen this , but this film would have no longer have been done with the most underrated . the first time of the first , i 'm not one of\n",
            "\n",
            "391/391 - 82s - 210ms/step - loss: 5.4551\n",
            "Epoch 2/25\n"
          ]
        },
        {
          "output_type": "stream",
          "name": "stderr",
          "text": [
            "[codecarbon INFO @ 18:10:49] Energy consumed for RAM : 0.000250 kWh. RAM Power : 10.0 W\n",
            "[codecarbon INFO @ 18:10:49] Delta energy consumed for CPU with constant : 0.000177 kWh, power : 42.5 W\n",
            "[codecarbon INFO @ 18:10:49] Energy consumed for All CPU : 0.001063 kWh\n",
            "[codecarbon INFO @ 18:10:49] Energy consumed for all GPUs : 0.001509 kWh. Total GPU Power : 52.14966673272182 W\n",
            "[codecarbon INFO @ 18:10:49] 0.002821 kWh of electricity used since the beginning.\n",
            "[codecarbon INFO @ 18:11:04] Energy consumed for RAM : 0.000292 kWh. RAM Power : 10.0 W\n",
            "[codecarbon INFO @ 18:11:04] Delta energy consumed for CPU with constant : 0.000177 kWh, power : 42.5 W\n",
            "[codecarbon INFO @ 18:11:04] Energy consumed for All CPU : 0.001239 kWh\n",
            "[codecarbon INFO @ 18:11:04] Energy consumed for all GPUs : 0.001798 kWh. Total GPU Power : 69.48058215820235 W\n",
            "[codecarbon INFO @ 18:11:04] 0.003329 kWh of electricity used since the beginning.\n",
            "[codecarbon INFO @ 18:11:19] Energy consumed for RAM : 0.000333 kWh. RAM Power : 10.0 W\n",
            "[codecarbon INFO @ 18:11:19] Delta energy consumed for CPU with constant : 0.000177 kWh, power : 42.5 W\n",
            "[codecarbon INFO @ 18:11:19] Energy consumed for All CPU : 0.001417 kWh\n",
            "[codecarbon INFO @ 18:11:19] Energy consumed for all GPUs : 0.002088 kWh. Total GPU Power : 69.48684124159672 W\n",
            "[codecarbon INFO @ 18:11:19] 0.003837 kWh of electricity used since the beginning.\n",
            "[codecarbon INFO @ 18:11:19] 0.004435 g.CO2eq/s mean an estimation of 139.86460133503329 kg.CO2eq/year\n",
            "[codecarbon INFO @ 18:11:34] Energy consumed for RAM : 0.000375 kWh. RAM Power : 10.0 W\n",
            "[codecarbon INFO @ 18:11:34] Delta energy consumed for CPU with constant : 0.000177 kWh, power : 42.5 W\n",
            "[codecarbon INFO @ 18:11:34] Energy consumed for All CPU : 0.001594 kWh\n",
            "[codecarbon INFO @ 18:11:34] Energy consumed for all GPUs : 0.002379 kWh. Total GPU Power : 70.01878354039039 W\n",
            "[codecarbon INFO @ 18:11:34] 0.004348 kWh of electricity used since the beginning.\n"
          ]
        },
        {
          "output_type": "stream",
          "name": "stdout",
          "text": [
            "generated text:\n",
            "this movie is a great . the characters are all of the actors and are the best performances by [UNK] . the movie is a good example in which it , is very good ! but the plot is so good that i was\n",
            "\n",
            "391/391 - 57s - 145ms/step - loss: 4.6913\n",
            "Epoch 3/25\n"
          ]
        },
        {
          "output_type": "stream",
          "name": "stderr",
          "text": [
            "[codecarbon INFO @ 18:11:49] Energy consumed for RAM : 0.000417 kWh. RAM Power : 10.0 W\n",
            "[codecarbon INFO @ 18:11:49] Delta energy consumed for CPU with constant : 0.000177 kWh, power : 42.5 W\n",
            "[codecarbon INFO @ 18:11:49] Energy consumed for All CPU : 0.001770 kWh\n",
            "[codecarbon INFO @ 18:11:49] Energy consumed for all GPUs : 0.002517 kWh. Total GPU Power : 32.988666739571045 W\n",
            "[codecarbon INFO @ 18:11:49] 0.004704 kWh of electricity used since the beginning.\n",
            "[codecarbon INFO @ 18:12:04] Energy consumed for RAM : 0.000458 kWh. RAM Power : 10.0 W\n",
            "[codecarbon INFO @ 18:12:04] Delta energy consumed for CPU with constant : 0.000177 kWh, power : 42.5 W\n",
            "[codecarbon INFO @ 18:12:04] Energy consumed for All CPU : 0.001947 kWh\n",
            "[codecarbon INFO @ 18:12:04] Energy consumed for all GPUs : 0.002648 kWh. Total GPU Power : 31.655446489733322 W\n",
            "[codecarbon INFO @ 18:12:04] 0.005054 kWh of electricity used since the beginning.\n",
            "[codecarbon INFO @ 18:12:19] Energy consumed for RAM : 0.000500 kWh. RAM Power : 10.0 W\n",
            "[codecarbon INFO @ 18:12:19] Delta energy consumed for CPU with constant : 0.000177 kWh, power : 42.5 W\n",
            "[codecarbon INFO @ 18:12:19] Energy consumed for All CPU : 0.002124 kWh\n",
            "[codecarbon INFO @ 18:12:19] Energy consumed for all GPUs : 0.002940 kWh. Total GPU Power : 69.9271961015292 W\n",
            "[codecarbon INFO @ 18:12:19] 0.005564 kWh of electricity used since the beginning.\n",
            "[codecarbon INFO @ 18:12:34] Energy consumed for RAM : 0.000541 kWh. RAM Power : 10.0 W\n",
            "[codecarbon INFO @ 18:12:34] Delta energy consumed for CPU with constant : 0.000177 kWh, power : 42.5 W\n",
            "[codecarbon INFO @ 18:12:34] Energy consumed for All CPU : 0.002302 kWh\n",
            "[codecarbon INFO @ 18:12:34] Energy consumed for all GPUs : 0.003229 kWh. Total GPU Power : 69.50140581494524 W\n",
            "[codecarbon INFO @ 18:12:34] 0.006072 kWh of electricity used since the beginning.\n",
            "[codecarbon INFO @ 18:12:49] Energy consumed for RAM : 0.000583 kWh. RAM Power : 10.0 W\n",
            "[codecarbon INFO @ 18:12:49] Delta energy consumed for CPU with constant : 0.000177 kWh, power : 42.5 W\n",
            "[codecarbon INFO @ 18:12:49] Energy consumed for All CPU : 0.002478 kWh\n",
            "[codecarbon INFO @ 18:12:49] Energy consumed for all GPUs : 0.003519 kWh. Total GPU Power : 69.58897474786535 W\n",
            "[codecarbon INFO @ 18:12:49] 0.006581 kWh of electricity used since the beginning.\n"
          ]
        },
        {
          "output_type": "stream",
          "name": "stdout",
          "text": [
            "generated text:\n",
            "this movie is one of the best actors in my opinion . i am a fan of the worst films ever made . the story is simple and a very good film . the characters are all very good . i like the movie\n",
            "\n",
            "391/391 - 82s - 210ms/step - loss: 4.4507\n",
            "Epoch 4/25\n"
          ]
        },
        {
          "output_type": "stream",
          "name": "stderr",
          "text": [
            "[codecarbon INFO @ 18:13:04] Energy consumed for RAM : 0.000625 kWh. RAM Power : 10.0 W\n",
            "[codecarbon INFO @ 18:13:04] Delta energy consumed for CPU with constant : 0.000177 kWh, power : 42.5 W\n",
            "[codecarbon INFO @ 18:13:04] Energy consumed for All CPU : 0.002656 kWh\n",
            "[codecarbon INFO @ 18:13:04] Energy consumed for all GPUs : 0.003737 kWh. Total GPU Power : 52.335821762527125 W\n",
            "[codecarbon INFO @ 18:13:04] 0.007017 kWh of electricity used since the beginning.\n",
            "[codecarbon INFO @ 18:13:19] Energy consumed for RAM : 0.000666 kWh. RAM Power : 10.0 W\n",
            "[codecarbon INFO @ 18:13:19] Delta energy consumed for CPU with constant : 0.000177 kWh, power : 42.5 W\n",
            "[codecarbon INFO @ 18:13:19] Energy consumed for All CPU : 0.002833 kWh\n",
            "[codecarbon INFO @ 18:13:19] Energy consumed for all GPUs : 0.003865 kWh. Total GPU Power : 30.804583635100723 W\n",
            "[codecarbon INFO @ 18:13:19] 0.007364 kWh of electricity used since the beginning.\n",
            "[codecarbon INFO @ 18:13:19] 0.004078 g.CO2eq/s mean an estimation of 128.60610988377593 kg.CO2eq/year\n",
            "[codecarbon INFO @ 18:13:34] Energy consumed for RAM : 0.000708 kWh. RAM Power : 10.0 W\n",
            "[codecarbon INFO @ 18:13:34] Delta energy consumed for CPU with constant : 0.000177 kWh, power : 42.5 W\n",
            "[codecarbon INFO @ 18:13:34] Energy consumed for All CPU : 0.003010 kWh\n",
            "[codecarbon INFO @ 18:13:34] Energy consumed for all GPUs : 0.004090 kWh. Total GPU Power : 53.944985059507786 W\n",
            "[codecarbon INFO @ 18:13:34] 0.007808 kWh of electricity used since the beginning.\n",
            "[codecarbon INFO @ 18:13:49] Energy consumed for RAM : 0.000750 kWh. RAM Power : 10.0 W\n",
            "[codecarbon INFO @ 18:13:49] Delta energy consumed for CPU with constant : 0.000177 kWh, power : 42.5 W\n",
            "[codecarbon INFO @ 18:13:49] Energy consumed for All CPU : 0.003187 kWh\n",
            "[codecarbon INFO @ 18:13:49] Energy consumed for all GPUs : 0.004380 kWh. Total GPU Power : 69.62173831077605 W\n",
            "[codecarbon INFO @ 18:13:49] 0.008316 kWh of electricity used since the beginning.\n",
            "[codecarbon INFO @ 18:14:04] Energy consumed for RAM : 0.000791 kWh. RAM Power : 10.0 W\n",
            "[codecarbon INFO @ 18:14:04] Delta energy consumed for CPU with constant : 0.000177 kWh, power : 42.5 W\n",
            "[codecarbon INFO @ 18:14:04] Energy consumed for All CPU : 0.003364 kWh\n",
            "[codecarbon INFO @ 18:14:04] Energy consumed for all GPUs : 0.004670 kWh. Total GPU Power : 69.63524235089803 W\n",
            "[codecarbon INFO @ 18:14:04] 0.008825 kWh of electricity used since the beginning.\n",
            "[codecarbon INFO @ 18:14:19] Energy consumed for RAM : 0.000833 kWh. RAM Power : 10.0 W\n",
            "[codecarbon INFO @ 18:14:19] Delta energy consumed for CPU with constant : 0.000177 kWh, power : 42.5 W\n",
            "[codecarbon INFO @ 18:14:19] Energy consumed for All CPU : 0.003541 kWh\n",
            "[codecarbon INFO @ 18:14:19] Energy consumed for all GPUs : 0.004962 kWh. Total GPU Power : 70.01840228270395 W\n",
            "[codecarbon INFO @ 18:14:19] 0.009335 kWh of electricity used since the beginning.\n"
          ]
        },
        {
          "output_type": "stream",
          "name": "stdout",
          "text": [
            "generated text:\n",
            "this movie is a really good movie . it is a good movie , but not even if the actors are a good movie , you can 't watch the whole movie you will get to see , you will never be able to\n",
            "\n",
            "391/391 - 87s - 222ms/step - loss: 4.2976\n",
            "Epoch 5/25\n"
          ]
        },
        {
          "output_type": "stream",
          "name": "stderr",
          "text": [
            "[codecarbon INFO @ 18:14:34] Energy consumed for RAM : 0.000875 kWh. RAM Power : 10.0 W\n",
            "[codecarbon INFO @ 18:14:34] Delta energy consumed for CPU with constant : 0.000177 kWh, power : 42.5 W\n",
            "[codecarbon INFO @ 18:14:34] Energy consumed for All CPU : 0.003718 kWh\n",
            "[codecarbon INFO @ 18:14:34] Energy consumed for all GPUs : 0.005157 kWh. Total GPU Power : 46.802640189037334 W\n",
            "[codecarbon INFO @ 18:14:34] 0.009749 kWh of electricity used since the beginning.\n",
            "[codecarbon INFO @ 18:14:49] Energy consumed for RAM : 0.000916 kWh. RAM Power : 10.0 W\n",
            "[codecarbon INFO @ 18:14:49] Delta energy consumed for CPU with constant : 0.000177 kWh, power : 42.5 W\n",
            "[codecarbon INFO @ 18:14:49] Energy consumed for All CPU : 0.003895 kWh\n",
            "[codecarbon INFO @ 18:14:49] Energy consumed for all GPUs : 0.005312 kWh. Total GPU Power : 37.21428911762123 W\n",
            "[codecarbon INFO @ 18:14:49] 0.010123 kWh of electricity used since the beginning.\n",
            "[codecarbon INFO @ 18:15:04] Energy consumed for RAM : 0.000958 kWh. RAM Power : 10.0 W\n",
            "[codecarbon INFO @ 18:15:04] Delta energy consumed for CPU with constant : 0.000177 kWh, power : 42.5 W\n",
            "[codecarbon INFO @ 18:15:04] Energy consumed for All CPU : 0.004072 kWh\n",
            "[codecarbon INFO @ 18:15:04] Energy consumed for all GPUs : 0.005602 kWh. Total GPU Power : 69.60363077988536 W\n",
            "[codecarbon INFO @ 18:15:04] 0.010631 kWh of electricity used since the beginning.\n",
            "[codecarbon INFO @ 18:15:19] Energy consumed for RAM : 0.001000 kWh. RAM Power : 10.0 W\n",
            "[codecarbon INFO @ 18:15:19] Delta energy consumed for CPU with constant : 0.000177 kWh, power : 42.5 W\n",
            "[codecarbon INFO @ 18:15:19] Energy consumed for All CPU : 0.004249 kWh\n",
            "[codecarbon INFO @ 18:15:19] Energy consumed for all GPUs : 0.005892 kWh. Total GPU Power : 69.58231454452512 W\n",
            "[codecarbon INFO @ 18:15:19] 0.011140 kWh of electricity used since the beginning.\n",
            "[codecarbon INFO @ 18:15:19] 0.004365 g.CO2eq/s mean an estimation of 137.6541327876017 kg.CO2eq/year\n",
            "[codecarbon INFO @ 18:15:34] Energy consumed for RAM : 0.001041 kWh. RAM Power : 10.0 W\n",
            "[codecarbon INFO @ 18:15:34] Delta energy consumed for CPU with constant : 0.000177 kWh, power : 42.5 W\n",
            "[codecarbon INFO @ 18:15:34] Energy consumed for All CPU : 0.004425 kWh\n",
            "[codecarbon INFO @ 18:15:34] Energy consumed for all GPUs : 0.006183 kWh. Total GPU Power : 70.01325901900704 W\n",
            "[codecarbon INFO @ 18:15:34] 0.011650 kWh of electricity used since the beginning.\n",
            "[codecarbon INFO @ 18:15:49] Energy consumed for RAM : 0.001083 kWh. RAM Power : 10.0 W\n",
            "[codecarbon INFO @ 18:15:49] Delta energy consumed for CPU with constant : 0.000177 kWh, power : 42.5 W\n",
            "[codecarbon INFO @ 18:15:49] Energy consumed for All CPU : 0.004602 kWh\n",
            "[codecarbon INFO @ 18:15:49] Energy consumed for all GPUs : 0.006460 kWh. Total GPU Power : 66.46173747589894 W\n",
            "[codecarbon INFO @ 18:15:49] 0.012145 kWh of electricity used since the beginning.\n"
          ]
        },
        {
          "output_type": "stream",
          "name": "stdout",
          "text": [
            "generated text:\n",
            "this movie is a real piece of garbage . i don 't know how bad is this movie ? this is the worst i 've ever watched . the acting is bad , the dialogue is horrible , the characters are all lame ,\n",
            "\n",
            "391/391 - 83s - 212ms/step - loss: 4.1801\n",
            "Epoch 6/25\n"
          ]
        },
        {
          "output_type": "stream",
          "name": "stderr",
          "text": [
            "[codecarbon INFO @ 18:16:04] Energy consumed for RAM : 0.001124 kWh. RAM Power : 10.0 W\n",
            "[codecarbon INFO @ 18:16:04] Delta energy consumed for CPU with constant : 0.000177 kWh, power : 42.5 W\n",
            "[codecarbon INFO @ 18:16:04] Energy consumed for All CPU : 0.004779 kWh\n",
            "[codecarbon INFO @ 18:16:04] Energy consumed for all GPUs : 0.006595 kWh. Total GPU Power : 32.430309145912325 W\n",
            "[codecarbon INFO @ 18:16:04] 0.012499 kWh of electricity used since the beginning.\n",
            "[codecarbon INFO @ 18:16:19] Energy consumed for RAM : 0.001166 kWh. RAM Power : 10.0 W\n",
            "[codecarbon INFO @ 18:16:19] Delta energy consumed for CPU with constant : 0.000177 kWh, power : 42.5 W\n",
            "[codecarbon INFO @ 18:16:19] Energy consumed for All CPU : 0.004956 kWh\n",
            "[codecarbon INFO @ 18:16:19] Energy consumed for all GPUs : 0.006833 kWh. Total GPU Power : 57.22196402227094 W\n",
            "[codecarbon INFO @ 18:16:19] 0.012956 kWh of electricity used since the beginning.\n",
            "[codecarbon INFO @ 18:16:34] Energy consumed for RAM : 0.001208 kWh. RAM Power : 10.0 W\n",
            "[codecarbon INFO @ 18:16:34] Delta energy consumed for CPU with constant : 0.000177 kWh, power : 42.5 W\n",
            "[codecarbon INFO @ 18:16:34] Energy consumed for All CPU : 0.005134 kWh\n",
            "[codecarbon INFO @ 18:16:34] Energy consumed for all GPUs : 0.007124 kWh. Total GPU Power : 69.62461004094186 W\n",
            "[codecarbon INFO @ 18:16:34] 0.013465 kWh of electricity used since the beginning.\n",
            "[codecarbon INFO @ 18:16:49] Energy consumed for RAM : 0.001249 kWh. RAM Power : 10.0 W\n",
            "[codecarbon INFO @ 18:16:49] Delta energy consumed for CPU with constant : 0.000177 kWh, power : 42.5 W\n",
            "[codecarbon INFO @ 18:16:49] Energy consumed for All CPU : 0.005311 kWh\n",
            "[codecarbon INFO @ 18:16:49] Energy consumed for all GPUs : 0.007415 kWh. Total GPU Power : 69.90720195971895 W\n",
            "[codecarbon INFO @ 18:16:49] 0.013975 kWh of electricity used since the beginning.\n",
            "[codecarbon INFO @ 18:17:04] Energy consumed for RAM : 0.001291 kWh. RAM Power : 10.0 W\n",
            "[codecarbon INFO @ 18:17:04] Delta energy consumed for CPU with constant : 0.000177 kWh, power : 42.5 W\n",
            "[codecarbon INFO @ 18:17:04] Energy consumed for All CPU : 0.005488 kWh\n",
            "[codecarbon INFO @ 18:17:04] Energy consumed for all GPUs : 0.007704 kWh. Total GPU Power : 69.43429142463093 W\n",
            "[codecarbon INFO @ 18:17:04] 0.014483 kWh of electricity used since the beginning.\n"
          ]
        },
        {
          "output_type": "stream",
          "name": "stdout",
          "text": [
            "generated text:\n",
            "this movie is not so bad , i thought that the movie has got to be funny and laughed at times , even if i was watching a movie and it was so predictable and i was shocked that i had never imagined it\n",
            "\n",
            "391/391 - 82s - 209ms/step - loss: 4.0826\n",
            "Epoch 7/25\n"
          ]
        },
        {
          "output_type": "stream",
          "name": "stderr",
          "text": [
            "[codecarbon INFO @ 18:17:19] Energy consumed for RAM : 0.001333 kWh. RAM Power : 10.0 W\n",
            "[codecarbon INFO @ 18:17:19] Delta energy consumed for CPU with constant : 0.000177 kWh, power : 42.5 W\n",
            "[codecarbon INFO @ 18:17:19] Energy consumed for All CPU : 0.005664 kWh\n",
            "[codecarbon INFO @ 18:17:19] Energy consumed for all GPUs : 0.007895 kWh. Total GPU Power : 45.94646639367289 W\n",
            "[codecarbon INFO @ 18:17:19] 0.014893 kWh of electricity used since the beginning.\n",
            "[codecarbon INFO @ 18:17:19] 0.004339 g.CO2eq/s mean an estimation of 136.83882711313058 kg.CO2eq/year\n",
            "[codecarbon INFO @ 18:17:34] Energy consumed for RAM : 0.001374 kWh. RAM Power : 10.0 W\n",
            "[codecarbon INFO @ 18:17:34] Delta energy consumed for CPU with constant : 0.000177 kWh, power : 42.5 W\n",
            "[codecarbon INFO @ 18:17:34] Energy consumed for All CPU : 0.005842 kWh\n",
            "[codecarbon INFO @ 18:17:34] Energy consumed for all GPUs : 0.008061 kWh. Total GPU Power : 39.70366652260269 W\n",
            "[codecarbon INFO @ 18:17:34] 0.015277 kWh of electricity used since the beginning.\n",
            "[codecarbon INFO @ 18:17:49] Energy consumed for RAM : 0.001416 kWh. RAM Power : 10.0 W\n",
            "[codecarbon INFO @ 18:17:49] Delta energy consumed for CPU with constant : 0.000177 kWh, power : 42.5 W\n",
            "[codecarbon INFO @ 18:17:49] Energy consumed for All CPU : 0.006019 kWh\n",
            "[codecarbon INFO @ 18:17:49] Energy consumed for all GPUs : 0.008353 kWh. Total GPU Power : 70.09294222562737 W\n",
            "[codecarbon INFO @ 18:17:49] 0.015788 kWh of electricity used since the beginning.\n",
            "[codecarbon INFO @ 18:18:04] Energy consumed for RAM : 0.001458 kWh. RAM Power : 10.0 W\n",
            "[codecarbon INFO @ 18:18:04] Delta energy consumed for CPU with constant : 0.000177 kWh, power : 42.5 W\n",
            "[codecarbon INFO @ 18:18:04] Energy consumed for All CPU : 0.006196 kWh\n",
            "[codecarbon INFO @ 18:18:04] Energy consumed for all GPUs : 0.008642 kWh. Total GPU Power : 69.50921107600576 W\n",
            "[codecarbon INFO @ 18:18:04] 0.016296 kWh of electricity used since the beginning.\n",
            "[codecarbon INFO @ 18:18:19] Energy consumed for RAM : 0.001499 kWh. RAM Power : 10.0 W\n",
            "[codecarbon INFO @ 18:18:19] Delta energy consumed for CPU with constant : 0.000177 kWh, power : 42.5 W\n",
            "[codecarbon INFO @ 18:18:19] Energy consumed for All CPU : 0.006372 kWh\n",
            "[codecarbon INFO @ 18:18:19] Energy consumed for all GPUs : 0.008932 kWh. Total GPU Power : 69.48077345317496 W\n",
            "[codecarbon INFO @ 18:18:19] 0.016803 kWh of electricity used since the beginning.\n"
          ]
        },
        {
          "output_type": "stream",
          "name": "stdout",
          "text": [
            "generated text:\n",
            "this movie is a great movie . it is very good . the plot was good , especially the acting and the script . i 'm not a big fan of this movie . i think of that 's the best . i was\n",
            "\n",
            "391/391 - 82s - 210ms/step - loss: 3.9989\n",
            "Epoch 8/25\n"
          ]
        },
        {
          "output_type": "stream",
          "name": "stderr",
          "text": [
            "[codecarbon INFO @ 18:18:34] Energy consumed for RAM : 0.001541 kWh. RAM Power : 10.0 W\n",
            "[codecarbon INFO @ 18:18:34] Delta energy consumed for CPU with constant : 0.000177 kWh, power : 42.5 W\n",
            "[codecarbon INFO @ 18:18:34] Energy consumed for All CPU : 0.006550 kWh\n",
            "[codecarbon INFO @ 18:18:34] Energy consumed for all GPUs : 0.009194 kWh. Total GPU Power : 63.04900544504308 W\n",
            "[codecarbon INFO @ 18:18:34] 0.017285 kWh of electricity used since the beginning.\n",
            "[codecarbon INFO @ 18:18:49] Energy consumed for RAM : 0.001583 kWh. RAM Power : 10.0 W\n",
            "[codecarbon INFO @ 18:18:49] Delta energy consumed for CPU with constant : 0.000177 kWh, power : 42.5 W\n",
            "[codecarbon INFO @ 18:18:49] Energy consumed for All CPU : 0.006727 kWh\n",
            "[codecarbon INFO @ 18:18:49] Energy consumed for all GPUs : 0.009328 kWh. Total GPU Power : 32.04531842008526 W\n",
            "[codecarbon INFO @ 18:18:49] 0.017637 kWh of electricity used since the beginning.\n",
            "[codecarbon INFO @ 18:19:04] Energy consumed for RAM : 0.001624 kWh. RAM Power : 10.0 W\n",
            "[codecarbon INFO @ 18:19:04] Delta energy consumed for CPU with constant : 0.000177 kWh, power : 42.5 W\n",
            "[codecarbon INFO @ 18:19:04] Energy consumed for All CPU : 0.006904 kWh\n",
            "[codecarbon INFO @ 18:19:04] Energy consumed for all GPUs : 0.009579 kWh. Total GPU Power : 60.358385274077975 W\n",
            "[codecarbon INFO @ 18:19:04] 0.018107 kWh of electricity used since the beginning.\n",
            "[codecarbon INFO @ 18:19:19] Energy consumed for RAM : 0.001666 kWh. RAM Power : 10.0 W\n",
            "[codecarbon INFO @ 18:19:19] Delta energy consumed for CPU with constant : 0.000177 kWh, power : 42.5 W\n",
            "[codecarbon INFO @ 18:19:19] Energy consumed for All CPU : 0.007080 kWh\n",
            "[codecarbon INFO @ 18:19:19] Energy consumed for all GPUs : 0.009870 kWh. Total GPU Power : 69.68604478055113 W\n",
            "[codecarbon INFO @ 18:19:19] 0.018616 kWh of electricity used since the beginning.\n",
            "[codecarbon INFO @ 18:19:19] 0.004304 g.CO2eq/s mean an estimation of 135.73994564935188 kg.CO2eq/year\n",
            "[codecarbon INFO @ 18:19:34] Energy consumed for RAM : 0.001707 kWh. RAM Power : 10.0 W\n",
            "[codecarbon INFO @ 18:19:34] Delta energy consumed for CPU with constant : 0.000177 kWh, power : 42.5 W\n",
            "[codecarbon INFO @ 18:19:34] Energy consumed for All CPU : 0.007257 kWh\n",
            "[codecarbon INFO @ 18:19:34] Energy consumed for all GPUs : 0.010159 kWh. Total GPU Power : 69.5576525236672 W\n",
            "[codecarbon INFO @ 18:19:34] 0.019124 kWh of electricity used since the beginning.\n",
            "[codecarbon INFO @ 18:19:49] Energy consumed for RAM : 0.001749 kWh. RAM Power : 10.0 W\n",
            "[codecarbon INFO @ 18:19:49] Delta energy consumed for CPU with constant : 0.000177 kWh, power : 42.5 W\n",
            "[codecarbon INFO @ 18:19:49] Energy consumed for All CPU : 0.007434 kWh\n",
            "[codecarbon INFO @ 18:19:49] Energy consumed for all GPUs : 0.010451 kWh. Total GPU Power : 70.0438394547432 W\n",
            "[codecarbon INFO @ 18:19:49] 0.019634 kWh of electricity used since the beginning.\n"
          ]
        },
        {
          "output_type": "stream",
          "name": "stdout",
          "text": [
            "generated text:\n",
            "this movie is one of the most boring and boring . the acting is awful , the story is awful . the direction is awful , the directing [UNK] and script is terrible . even the story takes the whole movie to make you\n",
            "\n",
            "391/391 - 82s - 211ms/step - loss: 3.9263\n",
            "Epoch 9/25\n"
          ]
        },
        {
          "output_type": "stream",
          "name": "stderr",
          "text": [
            "[codecarbon INFO @ 18:20:04] Energy consumed for RAM : 0.001791 kWh. RAM Power : 10.0 W\n",
            "[codecarbon INFO @ 18:20:04] Delta energy consumed for CPU with constant : 0.000177 kWh, power : 42.5 W\n",
            "[codecarbon INFO @ 18:20:04] Energy consumed for All CPU : 0.007611 kWh\n",
            "[codecarbon INFO @ 18:20:04] Energy consumed for all GPUs : 0.010630 kWh. Total GPU Power : 42.959266856182566 W\n",
            "[codecarbon INFO @ 18:20:04] 0.020032 kWh of electricity used since the beginning.\n",
            "[codecarbon INFO @ 18:20:19] Energy consumed for RAM : 0.001832 kWh. RAM Power : 10.0 W\n",
            "[codecarbon INFO @ 18:20:19] Delta energy consumed for CPU with constant : 0.000177 kWh, power : 42.5 W\n",
            "[codecarbon INFO @ 18:20:19] Energy consumed for All CPU : 0.007788 kWh\n",
            "[codecarbon INFO @ 18:20:19] Energy consumed for all GPUs : 0.010809 kWh. Total GPU Power : 43.01228595533405 W\n",
            "[codecarbon INFO @ 18:20:19] 0.020430 kWh of electricity used since the beginning.\n",
            "[codecarbon INFO @ 18:20:34] Energy consumed for RAM : 0.001874 kWh. RAM Power : 10.0 W\n",
            "[codecarbon INFO @ 18:20:34] Delta energy consumed for CPU with constant : 0.000177 kWh, power : 42.5 W\n",
            "[codecarbon INFO @ 18:20:34] Energy consumed for All CPU : 0.007965 kWh\n",
            "[codecarbon INFO @ 18:20:34] Energy consumed for all GPUs : 0.011099 kWh. Total GPU Power : 69.57984715328186 W\n",
            "[codecarbon INFO @ 18:20:34] 0.020938 kWh of electricity used since the beginning.\n",
            "[codecarbon INFO @ 18:20:49] Energy consumed for RAM : 0.001916 kWh. RAM Power : 10.0 W\n",
            "[codecarbon INFO @ 18:20:49] Delta energy consumed for CPU with constant : 0.000177 kWh, power : 42.5 W\n",
            "[codecarbon INFO @ 18:20:49] Energy consumed for All CPU : 0.008142 kWh\n",
            "[codecarbon INFO @ 18:20:49] Energy consumed for all GPUs : 0.011389 kWh. Total GPU Power : 69.58500872956715 W\n",
            "[codecarbon INFO @ 18:20:49] 0.021447 kWh of electricity used since the beginning.\n",
            "[codecarbon INFO @ 18:21:04] Energy consumed for RAM : 0.001957 kWh. RAM Power : 10.0 W\n",
            "[codecarbon INFO @ 18:21:04] Delta energy consumed for CPU with constant : 0.000177 kWh, power : 42.5 W\n",
            "[codecarbon INFO @ 18:21:04] Energy consumed for All CPU : 0.008319 kWh\n",
            "[codecarbon INFO @ 18:21:04] Energy consumed for all GPUs : 0.011680 kWh. Total GPU Power : 70.0062346202873 W\n",
            "[codecarbon INFO @ 18:21:04] 0.021957 kWh of electricity used since the beginning.\n"
          ]
        },
        {
          "output_type": "stream",
          "name": "stdout",
          "text": [
            "generated text:\n",
            "this movie is not just a very good movie but i think this is a very good movie , and i really liked it because it doesn 't have the whole thing to do with it , but i have to admit that i\n",
            "\n",
            "391/391 - 82s - 210ms/step - loss: 3.8615\n",
            "Epoch 10/25\n"
          ]
        },
        {
          "output_type": "stream",
          "name": "stderr",
          "text": [
            "[codecarbon INFO @ 18:21:19] Energy consumed for RAM : 0.001999 kWh. RAM Power : 10.0 W\n",
            "[codecarbon INFO @ 18:21:19] Delta energy consumed for CPU with constant : 0.000177 kWh, power : 42.5 W\n",
            "[codecarbon INFO @ 18:21:19] Energy consumed for All CPU : 0.008496 kWh\n",
            "[codecarbon INFO @ 18:21:19] Energy consumed for all GPUs : 0.011934 kWh. Total GPU Power : 60.94207659596792 W\n",
            "[codecarbon INFO @ 18:21:19] 0.022430 kWh of electricity used since the beginning.\n",
            "[codecarbon INFO @ 18:21:19] 0.004409 g.CO2eq/s mean an estimation of 139.05678300308668 kg.CO2eq/year\n",
            "[codecarbon INFO @ 18:21:34] Energy consumed for RAM : 0.002041 kWh. RAM Power : 10.0 W\n",
            "[codecarbon INFO @ 18:21:34] Delta energy consumed for CPU with constant : 0.000177 kWh, power : 42.5 W\n",
            "[codecarbon INFO @ 18:21:34] Energy consumed for All CPU : 0.008674 kWh\n",
            "[codecarbon INFO @ 18:21:34] Energy consumed for all GPUs : 0.012226 kWh. Total GPU Power : 70.01369567818895 W\n",
            "[codecarbon INFO @ 18:21:34] 0.022940 kWh of electricity used since the beginning.\n",
            "[codecarbon INFO @ 18:21:49] Energy consumed for RAM : 0.002082 kWh. RAM Power : 10.0 W\n",
            "[codecarbon INFO @ 18:21:49] Delta energy consumed for CPU with constant : 0.000177 kWh, power : 42.5 W\n",
            "[codecarbon INFO @ 18:21:49] Energy consumed for All CPU : 0.008851 kWh\n",
            "[codecarbon INFO @ 18:21:49] Energy consumed for all GPUs : 0.012516 kWh. Total GPU Power : 69.53641928682329 W\n",
            "[codecarbon INFO @ 18:21:49] 0.023448 kWh of electricity used since the beginning.\n",
            "[codecarbon INFO @ 18:22:04] Energy consumed for RAM : 0.002124 kWh. RAM Power : 10.0 W\n",
            "[codecarbon INFO @ 18:22:04] Delta energy consumed for CPU with constant : 0.000177 kWh, power : 42.5 W\n",
            "[codecarbon INFO @ 18:22:04] Energy consumed for All CPU : 0.009028 kWh\n",
            "[codecarbon INFO @ 18:22:04] Energy consumed for all GPUs : 0.012806 kWh. Total GPU Power : 69.6839800904802 W\n",
            "[codecarbon INFO @ 18:22:04] 0.023957 kWh of electricity used since the beginning.\n",
            "[codecarbon INFO @ 18:22:19] Energy consumed for RAM : 0.002166 kWh. RAM Power : 10.0 W\n",
            "[codecarbon INFO @ 18:22:19] Delta energy consumed for CPU with constant : 0.000177 kWh, power : 42.5 W\n",
            "[codecarbon INFO @ 18:22:19] Energy consumed for All CPU : 0.009205 kWh\n",
            "[codecarbon INFO @ 18:22:19] Energy consumed for all GPUs : 0.013082 kWh. Total GPU Power : 66.11783289273627 W\n",
            "[codecarbon INFO @ 18:22:19] 0.024452 kWh of electricity used since the beginning.\n"
          ]
        },
        {
          "output_type": "stream",
          "name": "stdout",
          "text": [
            "generated text:\n",
            "this movie is a complete mess with my worst movies ever and i can 't say this movie has the worst plot to be the worst movie i 've ever seen . the worst acting is awful . i 've ever seen . .\n",
            "\n",
            "391/391 - 62s - 159ms/step - loss: 3.8023\n",
            "Epoch 11/25\n"
          ]
        },
        {
          "output_type": "stream",
          "name": "stderr",
          "text": [
            "[codecarbon INFO @ 18:22:34] Energy consumed for RAM : 0.002207 kWh. RAM Power : 10.0 W\n",
            "[codecarbon INFO @ 18:22:34] Delta energy consumed for CPU with constant : 0.000177 kWh, power : 42.5 W\n",
            "[codecarbon INFO @ 18:22:34] Energy consumed for All CPU : 0.009382 kWh\n",
            "[codecarbon INFO @ 18:22:34] Energy consumed for all GPUs : 0.013218 kWh. Total GPU Power : 32.777999312484624 W\n",
            "[codecarbon INFO @ 18:22:34] 0.024807 kWh of electricity used since the beginning.\n",
            "[codecarbon INFO @ 18:22:49] Energy consumed for RAM : 0.002249 kWh. RAM Power : 10.0 W\n",
            "[codecarbon INFO @ 18:22:49] Delta energy consumed for CPU with constant : 0.000177 kWh, power : 42.5 W\n",
            "[codecarbon INFO @ 18:22:49] Energy consumed for All CPU : 0.009559 kWh\n",
            "[codecarbon INFO @ 18:22:49] Energy consumed for all GPUs : 0.013444 kWh. Total GPU Power : 54.343181406445765 W\n",
            "[codecarbon INFO @ 18:22:49] 0.025252 kWh of electricity used since the beginning.\n",
            "[codecarbon INFO @ 18:23:04] Energy consumed for RAM : 0.002290 kWh. RAM Power : 10.0 W\n",
            "[codecarbon INFO @ 18:23:04] Delta energy consumed for CPU with constant : 0.000177 kWh, power : 42.5 W\n",
            "[codecarbon INFO @ 18:23:04] Energy consumed for All CPU : 0.009736 kWh\n",
            "[codecarbon INFO @ 18:23:04] Energy consumed for all GPUs : 0.013735 kWh. Total GPU Power : 69.63954508207058 W\n",
            "[codecarbon INFO @ 18:23:04] 0.025761 kWh of electricity used since the beginning.\n",
            "[codecarbon INFO @ 18:23:19] Energy consumed for RAM : 0.002332 kWh. RAM Power : 10.0 W\n",
            "[codecarbon INFO @ 18:23:19] Delta energy consumed for CPU with constant : 0.000177 kWh, power : 42.5 W\n",
            "[codecarbon INFO @ 18:23:19] Energy consumed for All CPU : 0.009912 kWh\n",
            "[codecarbon INFO @ 18:23:19] Energy consumed for all GPUs : 0.014024 kWh. Total GPU Power : 69.55545856218812 W\n",
            "[codecarbon INFO @ 18:23:19] 0.026269 kWh of electricity used since the beginning.\n",
            "[codecarbon INFO @ 18:23:20] 0.004438 g.CO2eq/s mean an estimation of 139.9571401989656 kg.CO2eq/year\n",
            "[codecarbon INFO @ 18:23:34] Energy consumed for RAM : 0.002374 kWh. RAM Power : 10.0 W\n",
            "[codecarbon INFO @ 18:23:34] Delta energy consumed for CPU with constant : 0.000177 kWh, power : 42.5 W\n",
            "[codecarbon INFO @ 18:23:34] Energy consumed for All CPU : 0.010089 kWh\n",
            "[codecarbon INFO @ 18:23:34] Energy consumed for all GPUs : 0.014314 kWh. Total GPU Power : 69.58766103977935 W\n",
            "[codecarbon INFO @ 18:23:34] 0.026777 kWh of electricity used since the beginning.\n"
          ]
        },
        {
          "output_type": "stream",
          "name": "stdout",
          "text": [
            "generated text:\n",
            "this movie is one of those [UNK] that is the best movie i 've seen . the whole family dynamics of the family and families who live with a family . but this movie really shows what 's like to expect . there was\n",
            "\n",
            "391/391 - 83s - 212ms/step - loss: 3.7497\n",
            "Epoch 12/25\n"
          ]
        },
        {
          "output_type": "stream",
          "name": "stderr",
          "text": [
            "[codecarbon INFO @ 18:23:49] Energy consumed for RAM : 0.002415 kWh. RAM Power : 10.0 W\n",
            "[codecarbon INFO @ 18:23:49] Delta energy consumed for CPU with constant : 0.000177 kWh, power : 42.5 W\n",
            "[codecarbon INFO @ 18:23:49] Energy consumed for All CPU : 0.010266 kWh\n",
            "[codecarbon INFO @ 18:23:49] Energy consumed for all GPUs : 0.014555 kWh. Total GPU Power : 57.89773087999302 W\n",
            "[codecarbon INFO @ 18:23:49] 0.027237 kWh of electricity used since the beginning.\n",
            "[codecarbon INFO @ 18:24:04] Energy consumed for RAM : 0.002457 kWh. RAM Power : 10.0 W\n",
            "[codecarbon INFO @ 18:24:04] Delta energy consumed for CPU with constant : 0.000177 kWh, power : 42.5 W\n",
            "[codecarbon INFO @ 18:24:04] Energy consumed for All CPU : 0.010443 kWh\n",
            "[codecarbon INFO @ 18:24:04] Energy consumed for all GPUs : 0.014845 kWh. Total GPU Power : 69.58548386775544 W\n",
            "[codecarbon INFO @ 18:24:04] 0.027745 kWh of electricity used since the beginning.\n",
            "[codecarbon INFO @ 18:24:19] Energy consumed for RAM : 0.002499 kWh. RAM Power : 10.0 W\n",
            "[codecarbon INFO @ 18:24:19] Delta energy consumed for CPU with constant : 0.000177 kWh, power : 42.5 W\n",
            "[codecarbon INFO @ 18:24:19] Energy consumed for All CPU : 0.010620 kWh\n",
            "[codecarbon INFO @ 18:24:20] Energy consumed for all GPUs : 0.015135 kWh. Total GPU Power : 69.65317797928881 W\n",
            "[codecarbon INFO @ 18:24:20] 0.028254 kWh of electricity used since the beginning.\n",
            "[codecarbon INFO @ 18:24:34] Energy consumed for RAM : 0.002540 kWh. RAM Power : 10.0 W\n",
            "[codecarbon INFO @ 18:24:34] Delta energy consumed for CPU with constant : 0.000177 kWh, power : 42.5 W\n",
            "[codecarbon INFO @ 18:24:34] Energy consumed for All CPU : 0.010797 kWh\n",
            "[codecarbon INFO @ 18:24:35] Energy consumed for all GPUs : 0.015426 kWh. Total GPU Power : 70.00023466493002 W\n",
            "[codecarbon INFO @ 18:24:35] 0.028764 kWh of electricity used since the beginning.\n"
          ]
        },
        {
          "output_type": "stream",
          "name": "stdout",
          "text": [
            "generated text:\n",
            "this movie is the worst movie i have ever seen . if you have ever seen a long time i would love to sit through , but i think the acting was great , especially when i was a kid and i was still\n",
            "\n",
            "391/391 - 62s - 159ms/step - loss: 3.7013\n",
            "Epoch 13/25\n"
          ]
        },
        {
          "output_type": "stream",
          "name": "stderr",
          "text": [
            "[codecarbon INFO @ 18:24:49] Energy consumed for RAM : 0.002582 kWh. RAM Power : 10.0 W\n",
            "[codecarbon INFO @ 18:24:49] Delta energy consumed for CPU with constant : 0.000177 kWh, power : 42.5 W\n",
            "[codecarbon INFO @ 18:24:49] Energy consumed for All CPU : 0.010974 kWh\n",
            "[codecarbon INFO @ 18:24:49] Energy consumed for all GPUs : 0.015648 kWh. Total GPU Power : 53.1869585480688 W\n",
            "[codecarbon INFO @ 18:24:49] 0.029204 kWh of electricity used since the beginning.\n",
            "[codecarbon INFO @ 18:25:04] Energy consumed for RAM : 0.002624 kWh. RAM Power : 10.0 W\n",
            "[codecarbon INFO @ 18:25:04] Delta energy consumed for CPU with constant : 0.000177 kWh, power : 42.5 W\n",
            "[codecarbon INFO @ 18:25:04] Energy consumed for All CPU : 0.011151 kWh\n",
            "[codecarbon INFO @ 18:25:04] Energy consumed for all GPUs : 0.015783 kWh. Total GPU Power : 32.38857133520796 W\n",
            "[codecarbon INFO @ 18:25:04] 0.029558 kWh of electricity used since the beginning.\n",
            "[codecarbon INFO @ 18:25:19] Energy consumed for RAM : 0.002665 kWh. RAM Power : 10.0 W\n",
            "[codecarbon INFO @ 18:25:19] Delta energy consumed for CPU with constant : 0.000177 kWh, power : 42.5 W\n",
            "[codecarbon INFO @ 18:25:19] Energy consumed for All CPU : 0.011328 kWh\n",
            "[codecarbon INFO @ 18:25:19] Energy consumed for all GPUs : 0.016062 kWh. Total GPU Power : 67.07848742866874 W\n",
            "[codecarbon INFO @ 18:25:20] 0.030056 kWh of electricity used since the beginning.\n",
            "[codecarbon INFO @ 18:25:20] 0.004379 g.CO2eq/s mean an estimation of 138.0894998451557 kg.CO2eq/year\n",
            "[codecarbon INFO @ 18:25:34] Energy consumed for RAM : 0.002707 kWh. RAM Power : 10.0 W\n",
            "[codecarbon INFO @ 18:25:34] Delta energy consumed for CPU with constant : 0.000177 kWh, power : 42.5 W\n",
            "[codecarbon INFO @ 18:25:34] Energy consumed for All CPU : 0.011505 kWh\n",
            "[codecarbon INFO @ 18:25:34] Energy consumed for all GPUs : 0.016352 kWh. Total GPU Power : 69.61950110236222 W\n",
            "[codecarbon INFO @ 18:25:34] 0.030564 kWh of electricity used since the beginning.\n",
            "[codecarbon INFO @ 18:25:49] Energy consumed for RAM : 0.002749 kWh. RAM Power : 10.0 W\n",
            "[codecarbon INFO @ 18:25:49] Delta energy consumed for CPU with constant : 0.000177 kWh, power : 42.5 W\n",
            "[codecarbon INFO @ 18:25:49] Energy consumed for All CPU : 0.011682 kWh\n",
            "[codecarbon INFO @ 18:25:50] Energy consumed for all GPUs : 0.016644 kWh. Total GPU Power : 70.10978677259236 W\n",
            "[codecarbon INFO @ 18:25:50] 0.031075 kWh of electricity used since the beginning.\n",
            "[codecarbon INFO @ 18:26:04] Energy consumed for RAM : 0.002790 kWh. RAM Power : 10.0 W\n",
            "[codecarbon INFO @ 18:26:04] Delta energy consumed for CPU with constant : 0.000177 kWh, power : 42.5 W\n",
            "[codecarbon INFO @ 18:26:04] Energy consumed for All CPU : 0.011859 kWh\n",
            "[codecarbon INFO @ 18:26:05] Energy consumed for all GPUs : 0.016916 kWh. Total GPU Power : 65.0947405540347 W\n",
            "[codecarbon INFO @ 18:26:05] 0.031565 kWh of electricity used since the beginning.\n"
          ]
        },
        {
          "output_type": "stream",
          "name": "stdout",
          "text": [
            "generated text:\n",
            "this movie is an amazing example of how the film was to lose all the sense of the word \"stupid \" . this is the first rate actors are given to top it . the plot is the acting is terrible . and the\n",
            "\n",
            "391/391 - 79s - 203ms/step - loss: 3.6574\n",
            "Epoch 14/25\n"
          ]
        },
        {
          "output_type": "stream",
          "name": "stderr",
          "text": [
            "[codecarbon INFO @ 18:26:19] Energy consumed for RAM : 0.002832 kWh. RAM Power : 10.0 W\n",
            "[codecarbon INFO @ 18:26:19] Delta energy consumed for CPU with constant : 0.000177 kWh, power : 42.5 W\n",
            "[codecarbon INFO @ 18:26:19] Energy consumed for All CPU : 0.012036 kWh\n",
            "[codecarbon INFO @ 18:26:20] Energy consumed for all GPUs : 0.017197 kWh. Total GPU Power : 67.62574798123498 W\n",
            "[codecarbon INFO @ 18:26:20] 0.032065 kWh of electricity used since the beginning.\n",
            "[codecarbon INFO @ 18:26:34] Energy consumed for RAM : 0.002873 kWh. RAM Power : 10.0 W\n",
            "[codecarbon INFO @ 18:26:34] Delta energy consumed for CPU with constant : 0.000177 kWh, power : 42.5 W\n",
            "[codecarbon INFO @ 18:26:34] Energy consumed for All CPU : 0.012213 kWh\n",
            "[codecarbon INFO @ 18:26:35] Energy consumed for all GPUs : 0.017487 kWh. Total GPU Power : 69.68673841545333 W\n",
            "[codecarbon INFO @ 18:26:35] 0.032574 kWh of electricity used since the beginning.\n",
            "[codecarbon INFO @ 18:26:49] Energy consumed for RAM : 0.002915 kWh. RAM Power : 10.0 W\n",
            "[codecarbon INFO @ 18:26:49] Delta energy consumed for CPU with constant : 0.000177 kWh, power : 42.5 W\n",
            "[codecarbon INFO @ 18:26:49] Energy consumed for All CPU : 0.012390 kWh\n",
            "[codecarbon INFO @ 18:26:50] Energy consumed for all GPUs : 0.017779 kWh. Total GPU Power : 70.0909390679398 W\n",
            "[codecarbon INFO @ 18:26:50] 0.033085 kWh of electricity used since the beginning.\n",
            "[codecarbon INFO @ 18:27:04] Energy consumed for RAM : 0.002957 kWh. RAM Power : 10.0 W\n",
            "[codecarbon INFO @ 18:27:05] Delta energy consumed for CPU with constant : 0.000177 kWh, power : 42.5 W\n",
            "[codecarbon INFO @ 18:27:05] Energy consumed for All CPU : 0.012567 kWh\n",
            "[codecarbon INFO @ 18:27:05] Energy consumed for all GPUs : 0.018052 kWh. Total GPU Power : 65.41193002904349 W\n",
            "[codecarbon INFO @ 18:27:05] 0.033576 kWh of electricity used since the beginning.\n"
          ]
        },
        {
          "output_type": "stream",
          "name": "stdout",
          "text": [
            "generated text:\n",
            "this movie is an absolute garbage . i 'm glad i was not expecting to see the worst movie that i 've ever seen . it 's so bad . i 've never been a fan of the entire movie and it wasn 't\n",
            "\n",
            "391/391 - 61s - 155ms/step - loss: 3.6169\n",
            "Epoch 15/25\n"
          ]
        },
        {
          "output_type": "stream",
          "name": "stderr",
          "text": [
            "[codecarbon INFO @ 18:27:19] Energy consumed for RAM : 0.002998 kWh. RAM Power : 10.0 W\n",
            "[codecarbon INFO @ 18:27:20] Delta energy consumed for CPU with constant : 0.000177 kWh, power : 42.5 W\n",
            "[codecarbon INFO @ 18:27:20] Energy consumed for All CPU : 0.012744 kWh\n",
            "[codecarbon INFO @ 18:27:20] Energy consumed for all GPUs : 0.018185 kWh. Total GPU Power : 31.894043216781924 W\n",
            "[codecarbon INFO @ 18:27:20] 0.033927 kWh of electricity used since the beginning.\n",
            "[codecarbon INFO @ 18:27:20] 0.004476 g.CO2eq/s mean an estimation of 141.16474126819455 kg.CO2eq/year\n",
            "[codecarbon INFO @ 18:27:35] Energy consumed for RAM : 0.003040 kWh. RAM Power : 10.0 W\n",
            "[codecarbon INFO @ 18:27:35] Delta energy consumed for CPU with constant : 0.000177 kWh, power : 42.5 W\n",
            "[codecarbon INFO @ 18:27:35] Energy consumed for All CPU : 0.012921 kWh\n",
            "[codecarbon INFO @ 18:27:35] Energy consumed for all GPUs : 0.018392 kWh. Total GPU Power : 49.688445050446354 W\n",
            "[codecarbon INFO @ 18:27:35] 0.034353 kWh of electricity used since the beginning.\n",
            "[codecarbon INFO @ 18:27:50] Energy consumed for RAM : 0.003082 kWh. RAM Power : 10.0 W\n",
            "[codecarbon INFO @ 18:27:50] Delta energy consumed for CPU with constant : 0.000177 kWh, power : 42.5 W\n",
            "[codecarbon INFO @ 18:27:50] Energy consumed for All CPU : 0.013098 kWh\n",
            "[codecarbon INFO @ 18:27:50] Energy consumed for all GPUs : 0.018684 kWh. Total GPU Power : 70.10020249133873 W\n",
            "[codecarbon INFO @ 18:27:50] 0.034864 kWh of electricity used since the beginning.\n",
            "[codecarbon INFO @ 18:28:05] Energy consumed for RAM : 0.003123 kWh. RAM Power : 10.0 W\n",
            "[codecarbon INFO @ 18:28:05] Delta energy consumed for CPU with constant : 0.000177 kWh, power : 42.5 W\n",
            "[codecarbon INFO @ 18:28:05] Energy consumed for All CPU : 0.013275 kWh\n",
            "[codecarbon INFO @ 18:28:05] Energy consumed for all GPUs : 0.018974 kWh. Total GPU Power : 69.61957379437959 W\n",
            "[codecarbon INFO @ 18:28:05] 0.035372 kWh of electricity used since the beginning.\n",
            "[codecarbon INFO @ 18:28:20] Energy consumed for RAM : 0.003165 kWh. RAM Power : 10.0 W\n",
            "[codecarbon INFO @ 18:28:20] Delta energy consumed for CPU with constant : 0.000177 kWh, power : 42.5 W\n",
            "[codecarbon INFO @ 18:28:20] Energy consumed for All CPU : 0.013452 kWh\n",
            "[codecarbon INFO @ 18:28:20] Energy consumed for all GPUs : 0.019263 kWh. Total GPU Power : 69.5837404667005 W\n",
            "[codecarbon INFO @ 18:28:20] 0.035881 kWh of electricity used since the beginning.\n"
          ]
        },
        {
          "output_type": "stream",
          "name": "stdout",
          "text": [
            "generated text:\n",
            "this movie is about one of the worst movies i have ever seen , but i can 't think about anything . i have seen worse movies that i saw this movie , but i can 't help but wonder why this film is\n",
            "\n",
            "391/391 - 81s - 207ms/step - loss: 3.5796\n",
            "Epoch 16/25\n"
          ]
        },
        {
          "output_type": "stream",
          "name": "stderr",
          "text": [
            "[codecarbon INFO @ 18:28:35] Energy consumed for RAM : 0.003207 kWh. RAM Power : 10.0 W\n",
            "[codecarbon INFO @ 18:28:35] Delta energy consumed for CPU with constant : 0.000177 kWh, power : 42.5 W\n",
            "[codecarbon INFO @ 18:28:35] Energy consumed for All CPU : 0.013629 kWh\n",
            "[codecarbon INFO @ 18:28:35] Energy consumed for all GPUs : 0.019448 kWh. Total GPU Power : 44.28389920045256 W\n",
            "[codecarbon INFO @ 18:28:35] 0.036284 kWh of electricity used since the beginning.\n",
            "[codecarbon INFO @ 18:28:50] Energy consumed for RAM : 0.003248 kWh. RAM Power : 10.0 W\n",
            "[codecarbon INFO @ 18:28:50] Delta energy consumed for CPU with constant : 0.000177 kWh, power : 42.5 W\n",
            "[codecarbon INFO @ 18:28:50] Energy consumed for All CPU : 0.013806 kWh\n",
            "[codecarbon INFO @ 18:28:50] Energy consumed for all GPUs : 0.019582 kWh. Total GPU Power : 32.15522896764033 W\n",
            "[codecarbon INFO @ 18:28:50] 0.036637 kWh of electricity used since the beginning.\n",
            "[codecarbon INFO @ 18:29:05] Energy consumed for RAM : 0.003290 kWh. RAM Power : 10.0 W\n",
            "[codecarbon INFO @ 18:29:05] Delta energy consumed for CPU with constant : 0.000177 kWh, power : 42.5 W\n",
            "[codecarbon INFO @ 18:29:05] Energy consumed for All CPU : 0.013983 kWh\n",
            "[codecarbon INFO @ 18:29:05] Energy consumed for all GPUs : 0.019871 kWh. Total GPU Power : 69.50569269044648 W\n",
            "[codecarbon INFO @ 18:29:05] 0.037145 kWh of electricity used since the beginning.\n",
            "[codecarbon INFO @ 18:29:20] Energy consumed for RAM : 0.003332 kWh. RAM Power : 10.0 W\n",
            "[codecarbon INFO @ 18:29:20] Delta energy consumed for CPU with constant : 0.000177 kWh, power : 42.5 W\n",
            "[codecarbon INFO @ 18:29:20] Energy consumed for All CPU : 0.014160 kWh\n",
            "[codecarbon INFO @ 18:29:20] Energy consumed for all GPUs : 0.020161 kWh. Total GPU Power : 69.61809054650396 W\n",
            "[codecarbon INFO @ 18:29:20] 0.037653 kWh of electricity used since the beginning.\n",
            "[codecarbon INFO @ 18:29:20] 0.004308 g.CO2eq/s mean an estimation of 135.8557604903678 kg.CO2eq/year\n",
            "[codecarbon INFO @ 18:29:35] Energy consumed for RAM : 0.003373 kWh. RAM Power : 10.0 W\n",
            "[codecarbon INFO @ 18:29:35] Delta energy consumed for CPU with constant : 0.000177 kWh, power : 42.5 W\n",
            "[codecarbon INFO @ 18:29:35] Energy consumed for All CPU : 0.014337 kWh\n",
            "[codecarbon INFO @ 18:29:35] Energy consumed for all GPUs : 0.020453 kWh. Total GPU Power : 70.01739901403944 W\n",
            "[codecarbon INFO @ 18:29:35] 0.038164 kWh of electricity used since the beginning.\n"
          ]
        },
        {
          "output_type": "stream",
          "name": "stdout",
          "text": [
            "generated text:\n",
            "this movie is an insult to the sa [UNK] , who 's saying that it was not bad , you can 't help but enjoy it . it was the only good , the film 's good to see it , the movie 's\n",
            "\n",
            "391/391 - 81s - 207ms/step - loss: 3.5452\n",
            "Epoch 17/25\n"
          ]
        },
        {
          "output_type": "stream",
          "name": "stderr",
          "text": [
            "[codecarbon INFO @ 18:29:50] Energy consumed for RAM : 0.003415 kWh. RAM Power : 10.0 W\n",
            "[codecarbon INFO @ 18:29:50] Delta energy consumed for CPU with constant : 0.000177 kWh, power : 42.5 W\n",
            "[codecarbon INFO @ 18:29:50] Energy consumed for All CPU : 0.014514 kWh\n",
            "[codecarbon INFO @ 18:29:50] Energy consumed for all GPUs : 0.020699 kWh. Total GPU Power : 58.93895503669706 W\n",
            "[codecarbon INFO @ 18:29:50] 0.038628 kWh of electricity used since the beginning.\n",
            "[codecarbon INFO @ 18:30:05] Energy consumed for RAM : 0.003456 kWh. RAM Power : 10.0 W\n",
            "[codecarbon INFO @ 18:30:05] Delta energy consumed for CPU with constant : 0.000177 kWh, power : 42.5 W\n",
            "[codecarbon INFO @ 18:30:05] Energy consumed for All CPU : 0.014691 kWh\n",
            "[codecarbon INFO @ 18:30:05] Energy consumed for all GPUs : 0.020828 kWh. Total GPU Power : 31.04177562573661 W\n",
            "[codecarbon INFO @ 18:30:05] 0.038976 kWh of electricity used since the beginning.\n",
            "[codecarbon INFO @ 18:30:20] Energy consumed for RAM : 0.003498 kWh. RAM Power : 10.0 W\n",
            "[codecarbon INFO @ 18:30:20] Delta energy consumed for CPU with constant : 0.000177 kWh, power : 42.5 W\n",
            "[codecarbon INFO @ 18:30:20] Energy consumed for All CPU : 0.014869 kWh\n",
            "[codecarbon INFO @ 18:30:20] Energy consumed for all GPUs : 0.021048 kWh. Total GPU Power : 52.797540278280536 W\n",
            "[codecarbon INFO @ 18:30:20] 0.039415 kWh of electricity used since the beginning.\n",
            "[codecarbon INFO @ 18:30:35] Energy consumed for RAM : 0.003540 kWh. RAM Power : 10.0 W\n",
            "[codecarbon INFO @ 18:30:35] Delta energy consumed for CPU with constant : 0.000177 kWh, power : 42.5 W\n",
            "[codecarbon INFO @ 18:30:35] Energy consumed for All CPU : 0.015046 kWh\n",
            "[codecarbon INFO @ 18:30:35] Energy consumed for all GPUs : 0.021338 kWh. Total GPU Power : 69.52389711521968 W\n",
            "[codecarbon INFO @ 18:30:35] 0.039923 kWh of electricity used since the beginning.\n",
            "[codecarbon INFO @ 18:30:50] Energy consumed for RAM : 0.003581 kWh. RAM Power : 10.0 W\n",
            "[codecarbon INFO @ 18:30:50] Delta energy consumed for CPU with constant : 0.000177 kWh, power : 42.5 W\n",
            "[codecarbon INFO @ 18:30:50] Energy consumed for All CPU : 0.015223 kWh\n",
            "[codecarbon INFO @ 18:30:50] Energy consumed for all GPUs : 0.021627 kWh. Total GPU Power : 69.58587091622918 W\n",
            "[codecarbon INFO @ 18:30:50] 0.040431 kWh of electricity used since the beginning.\n",
            "[codecarbon INFO @ 18:31:05] Energy consumed for RAM : 0.003623 kWh. RAM Power : 10.0 W\n",
            "[codecarbon INFO @ 18:31:05] Delta energy consumed for CPU with constant : 0.000177 kWh, power : 42.5 W\n",
            "[codecarbon INFO @ 18:31:05] Energy consumed for All CPU : 0.015400 kWh\n",
            "[codecarbon INFO @ 18:31:05] Energy consumed for all GPUs : 0.021918 kWh. Total GPU Power : 69.62046772821921 W\n",
            "[codecarbon INFO @ 18:31:05] 0.040940 kWh of electricity used since the beginning.\n"
          ]
        },
        {
          "output_type": "stream",
          "name": "stdout",
          "text": [
            "generated text:\n",
            "this movie is not a horror movie . a movie i have a long time . it was a waste of my time . the story line is very boring . there are no real plot . the acting in the film that are\n",
            "\n",
            "391/391 - 82s - 209ms/step - loss: 3.5132\n",
            "Epoch 18/25\n"
          ]
        },
        {
          "output_type": "stream",
          "name": "stderr",
          "text": [
            "[codecarbon INFO @ 18:31:20] Energy consumed for RAM : 0.003665 kWh. RAM Power : 10.0 W\n",
            "[codecarbon INFO @ 18:31:20] Delta energy consumed for CPU with constant : 0.000177 kWh, power : 42.5 W\n",
            "[codecarbon INFO @ 18:31:20] Energy consumed for All CPU : 0.015577 kWh\n",
            "[codecarbon INFO @ 18:31:20] Energy consumed for all GPUs : 0.022182 kWh. Total GPU Power : 63.43014045777977 W\n",
            "[codecarbon INFO @ 18:31:20] 0.041423 kWh of electricity used since the beginning.\n",
            "[codecarbon INFO @ 18:31:20] 0.004358 g.CO2eq/s mean an estimation of 137.44127528098562 kg.CO2eq/year\n",
            "[codecarbon INFO @ 18:31:35] Energy consumed for RAM : 0.003706 kWh. RAM Power : 10.0 W\n",
            "[codecarbon INFO @ 18:31:35] Delta energy consumed for CPU with constant : 0.000177 kWh, power : 42.5 W\n",
            "[codecarbon INFO @ 18:31:35] Energy consumed for All CPU : 0.015754 kWh\n",
            "[codecarbon INFO @ 18:31:35] Energy consumed for all GPUs : 0.022472 kWh. Total GPU Power : 69.61849510862137 W\n",
            "[codecarbon INFO @ 18:31:35] 0.041932 kWh of electricity used since the beginning.\n",
            "[codecarbon INFO @ 18:31:50] Energy consumed for RAM : 0.003748 kWh. RAM Power : 10.0 W\n",
            "[codecarbon INFO @ 18:31:50] Delta energy consumed for CPU with constant : 0.000177 kWh, power : 42.5 W\n",
            "[codecarbon INFO @ 18:31:50] Energy consumed for All CPU : 0.015931 kWh\n",
            "[codecarbon INFO @ 18:31:50] Energy consumed for all GPUs : 0.022761 kWh. Total GPU Power : 69.44640021036034 W\n",
            "[codecarbon INFO @ 18:31:50] 0.042440 kWh of electricity used since the beginning.\n",
            "[codecarbon INFO @ 18:32:05] Energy consumed for RAM : 0.003790 kWh. RAM Power : 10.0 W\n",
            "[codecarbon INFO @ 18:32:05] Delta energy consumed for CPU with constant : 0.000177 kWh, power : 42.5 W\n",
            "[codecarbon INFO @ 18:32:05] Energy consumed for All CPU : 0.016108 kWh\n",
            "[codecarbon INFO @ 18:32:05] Energy consumed for all GPUs : 0.023051 kWh. Total GPU Power : 69.60717656375232 W\n",
            "[codecarbon INFO @ 18:32:05] 0.042948 kWh of electricity used since the beginning.\n"
          ]
        },
        {
          "output_type": "stream",
          "name": "stdout",
          "text": [
            "generated text:\n",
            "this movie is one of the most boring and boring and boring , the acting is bad and is it that it was made for the whole plot . the characters are stupid , the story is not a bad movie to watch .\n",
            "\n",
            "391/391 - 63s - 161ms/step - loss: 3.4836\n",
            "Epoch 19/25\n"
          ]
        },
        {
          "output_type": "stream",
          "name": "stderr",
          "text": [
            "[codecarbon INFO @ 18:32:20] Energy consumed for RAM : 0.003831 kWh. RAM Power : 10.0 W\n",
            "[codecarbon INFO @ 18:32:20] Delta energy consumed for CPU with constant : 0.000177 kWh, power : 42.5 W\n",
            "[codecarbon INFO @ 18:32:20] Energy consumed for All CPU : 0.016285 kWh\n",
            "[codecarbon INFO @ 18:32:20] Energy consumed for all GPUs : 0.023246 kWh. Total GPU Power : 46.79479316329283 W\n",
            "[codecarbon INFO @ 18:32:20] 0.043362 kWh of electricity used since the beginning.\n",
            "[codecarbon INFO @ 18:32:35] Energy consumed for RAM : 0.003873 kWh. RAM Power : 10.0 W\n",
            "[codecarbon INFO @ 18:32:35] Delta energy consumed for CPU with constant : 0.000177 kWh, power : 42.5 W\n",
            "[codecarbon INFO @ 18:32:35] Energy consumed for All CPU : 0.016462 kWh\n",
            "[codecarbon INFO @ 18:32:35] Energy consumed for all GPUs : 0.023414 kWh. Total GPU Power : 40.24304863956497 W\n",
            "[codecarbon INFO @ 18:32:35] 0.043748 kWh of electricity used since the beginning.\n",
            "[codecarbon INFO @ 18:32:50] Energy consumed for RAM : 0.003915 kWh. RAM Power : 10.0 W\n",
            "[codecarbon INFO @ 18:32:50] Delta energy consumed for CPU with constant : 0.000177 kWh, power : 42.5 W\n",
            "[codecarbon INFO @ 18:32:50] Energy consumed for All CPU : 0.016639 kWh\n",
            "[codecarbon INFO @ 18:32:50] Energy consumed for all GPUs : 0.023703 kWh. Total GPU Power : 69.58894023098145 W\n",
            "[codecarbon INFO @ 18:32:50] 0.044257 kWh of electricity used since the beginning.\n",
            "[codecarbon INFO @ 18:33:05] Energy consumed for RAM : 0.003956 kWh. RAM Power : 10.0 W\n",
            "[codecarbon INFO @ 18:33:05] Delta energy consumed for CPU with constant : 0.000177 kWh, power : 42.5 W\n",
            "[codecarbon INFO @ 18:33:05] Energy consumed for All CPU : 0.016816 kWh\n",
            "[codecarbon INFO @ 18:33:05] Energy consumed for all GPUs : 0.023993 kWh. Total GPU Power : 69.6728438785042 W\n",
            "[codecarbon INFO @ 18:33:05] 0.044765 kWh of electricity used since the beginning.\n",
            "[codecarbon INFO @ 18:33:20] Energy consumed for RAM : 0.003998 kWh. RAM Power : 10.0 W\n",
            "[codecarbon INFO @ 18:33:20] Delta energy consumed for CPU with constant : 0.000177 kWh, power : 42.5 W\n",
            "[codecarbon INFO @ 18:33:20] Energy consumed for All CPU : 0.016993 kWh\n",
            "[codecarbon INFO @ 18:33:20] Energy consumed for all GPUs : 0.024283 kWh. Total GPU Power : 69.52272084373529 W\n",
            "[codecarbon INFO @ 18:33:20] 0.045274 kWh of electricity used since the beginning.\n",
            "[codecarbon INFO @ 18:33:20] 0.004451 g.CO2eq/s mean an estimation of 140.37785798672934 kg.CO2eq/year\n"
          ]
        },
        {
          "output_type": "stream",
          "name": "stdout",
          "text": [
            "generated text:\n",
            "this movie is so bad that it could have easily gotten further by the plot line . the acting was terrible . i think that i was laughing hysterically . the actors were horrible , the dialogue was terrible and the acting were just\n",
            "\n",
            "391/391 - 82s - 210ms/step - loss: 3.4558\n",
            "Epoch 20/25\n"
          ]
        },
        {
          "output_type": "stream",
          "name": "stderr",
          "text": [
            "[codecarbon INFO @ 18:33:35] Energy consumed for RAM : 0.004039 kWh. RAM Power : 10.0 W\n",
            "[codecarbon INFO @ 18:33:35] Delta energy consumed for CPU with constant : 0.000177 kWh, power : 42.5 W\n",
            "[codecarbon INFO @ 18:33:35] Energy consumed for All CPU : 0.017170 kWh\n",
            "[codecarbon INFO @ 18:33:35] Energy consumed for all GPUs : 0.024548 kWh. Total GPU Power : 63.63729934337799 W\n",
            "[codecarbon INFO @ 18:33:35] 0.045757 kWh of electricity used since the beginning.\n",
            "[codecarbon INFO @ 18:33:50] Energy consumed for RAM : 0.004081 kWh. RAM Power : 10.0 W\n",
            "[codecarbon INFO @ 18:33:50] Delta energy consumed for CPU with constant : 0.000177 kWh, power : 42.5 W\n",
            "[codecarbon INFO @ 18:33:50] Energy consumed for All CPU : 0.017347 kWh\n",
            "[codecarbon INFO @ 18:33:50] Energy consumed for all GPUs : 0.024682 kWh. Total GPU Power : 32.13464819831869 W\n",
            "[codecarbon INFO @ 18:33:50] 0.046110 kWh of electricity used since the beginning.\n",
            "[codecarbon INFO @ 18:34:05] Energy consumed for RAM : 0.004123 kWh. RAM Power : 10.0 W\n",
            "[codecarbon INFO @ 18:34:05] Delta energy consumed for CPU with constant : 0.000177 kWh, power : 42.5 W\n",
            "[codecarbon INFO @ 18:34:05] Energy consumed for All CPU : 0.017524 kWh\n",
            "[codecarbon INFO @ 18:34:05] Energy consumed for all GPUs : 0.024934 kWh. Total GPU Power : 60.446153084020956 W\n",
            "[codecarbon INFO @ 18:34:05] 0.046580 kWh of electricity used since the beginning.\n",
            "[codecarbon INFO @ 18:34:20] Energy consumed for RAM : 0.004164 kWh. RAM Power : 10.0 W\n",
            "[codecarbon INFO @ 18:34:20] Delta energy consumed for CPU with constant : 0.000177 kWh, power : 42.5 W\n",
            "[codecarbon INFO @ 18:34:20] Energy consumed for All CPU : 0.017701 kWh\n",
            "[codecarbon INFO @ 18:34:20] Energy consumed for all GPUs : 0.025224 kWh. Total GPU Power : 69.70666573986307 W\n",
            "[codecarbon INFO @ 18:34:20] 0.047089 kWh of electricity used since the beginning.\n",
            "[codecarbon INFO @ 18:34:35] Energy consumed for RAM : 0.004206 kWh. RAM Power : 10.0 W\n",
            "[codecarbon INFO @ 18:34:35] Delta energy consumed for CPU with constant : 0.000177 kWh, power : 42.5 W\n",
            "[codecarbon INFO @ 18:34:35] Energy consumed for All CPU : 0.017878 kWh\n",
            "[codecarbon INFO @ 18:34:35] Energy consumed for all GPUs : 0.025514 kWh. Total GPU Power : 69.51821174308823 W\n",
            "[codecarbon INFO @ 18:34:35] 0.047597 kWh of electricity used since the beginning.\n",
            "[codecarbon INFO @ 18:34:50] Energy consumed for RAM : 0.004248 kWh. RAM Power : 10.0 W\n",
            "[codecarbon INFO @ 18:34:50] Delta energy consumed for CPU with constant : 0.000177 kWh, power : 42.5 W\n",
            "[codecarbon INFO @ 18:34:50] Energy consumed for All CPU : 0.018054 kWh\n",
            "[codecarbon INFO @ 18:34:50] Energy consumed for all GPUs : 0.025805 kWh. Total GPU Power : 69.99029562764281 W\n",
            "[codecarbon INFO @ 18:34:50] 0.048107 kWh of electricity used since the beginning.\n"
          ]
        },
        {
          "output_type": "stream",
          "name": "stdout",
          "text": [
            "generated text:\n",
            "this movie is one of those movies where the characters do the story line and dialogue , and a [UNK] that doesn 't even have a shred of sentimentality . it is a [UNK] , and it has the most melodramatic moments [UNK] and\n",
            "\n",
            "391/391 - 82s - 209ms/step - loss: 3.4297\n",
            "Epoch 21/25\n"
          ]
        },
        {
          "output_type": "stream",
          "name": "stderr",
          "text": [
            "[codecarbon INFO @ 18:35:05] Energy consumed for RAM : 0.004289 kWh. RAM Power : 10.0 W\n",
            "[codecarbon INFO @ 18:35:05] Delta energy consumed for CPU with constant : 0.000177 kWh, power : 42.5 W\n",
            "[codecarbon INFO @ 18:35:05] Energy consumed for All CPU : 0.018232 kWh\n",
            "[codecarbon INFO @ 18:35:05] Energy consumed for all GPUs : 0.026072 kWh. Total GPU Power : 64.07714895706849 W\n",
            "[codecarbon INFO @ 18:35:05] 0.048593 kWh of electricity used since the beginning.\n",
            "[codecarbon INFO @ 18:35:20] Energy consumed for RAM : 0.004331 kWh. RAM Power : 10.0 W\n",
            "[codecarbon INFO @ 18:35:20] Delta energy consumed for CPU with constant : 0.000177 kWh, power : 42.5 W\n",
            "[codecarbon INFO @ 18:35:20] Energy consumed for All CPU : 0.018409 kWh\n",
            "[codecarbon INFO @ 18:35:20] Energy consumed for all GPUs : 0.026362 kWh. Total GPU Power : 69.56791201301589 W\n",
            "[codecarbon INFO @ 18:35:20] 0.049101 kWh of electricity used since the beginning.\n",
            "[codecarbon INFO @ 18:35:20] 0.004426 g.CO2eq/s mean an estimation of 139.5732800592635 kg.CO2eq/year\n",
            "[codecarbon INFO @ 18:35:35] Energy consumed for RAM : 0.004373 kWh. RAM Power : 10.0 W\n",
            "[codecarbon INFO @ 18:35:35] Delta energy consumed for CPU with constant : 0.000177 kWh, power : 42.5 W\n",
            "[codecarbon INFO @ 18:35:35] Energy consumed for All CPU : 0.018586 kWh\n",
            "[codecarbon INFO @ 18:35:35] Energy consumed for all GPUs : 0.026651 kWh. Total GPU Power : 69.49063170449953 W\n",
            "[codecarbon INFO @ 18:35:35] 0.049609 kWh of electricity used since the beginning.\n",
            "[codecarbon INFO @ 18:35:50] Energy consumed for RAM : 0.004414 kWh. RAM Power : 10.0 W\n",
            "[codecarbon INFO @ 18:35:50] Delta energy consumed for CPU with constant : 0.000177 kWh, power : 42.5 W\n",
            "[codecarbon INFO @ 18:35:50] Energy consumed for All CPU : 0.018762 kWh\n",
            "[codecarbon INFO @ 18:35:50] Energy consumed for all GPUs : 0.026943 kWh. Total GPU Power : 70.12375610082057 W\n",
            "[codecarbon INFO @ 18:35:50] 0.050119 kWh of electricity used since the beginning.\n"
          ]
        },
        {
          "output_type": "stream",
          "name": "stdout",
          "text": [
            "generated text:\n",
            "this movie is a great example of how to make the movie , this is a must -see movie . it is an amazing movie . you can 't see any of the bible [UNK] bible \" , or preach it is a perfect\n",
            "\n",
            "391/391 - 62s - 158ms/step - loss: 3.4060\n",
            "Epoch 22/25\n"
          ]
        },
        {
          "output_type": "stream",
          "name": "stderr",
          "text": [
            "[codecarbon INFO @ 18:36:05] Energy consumed for RAM : 0.004456 kWh. RAM Power : 10.0 W\n",
            "[codecarbon INFO @ 18:36:05] Delta energy consumed for CPU with constant : 0.000177 kWh, power : 42.5 W\n",
            "[codecarbon INFO @ 18:36:05] Energy consumed for All CPU : 0.018939 kWh\n",
            "[codecarbon INFO @ 18:36:05] Energy consumed for all GPUs : 0.027140 kWh. Total GPU Power : 47.199722172667286 W\n",
            "[codecarbon INFO @ 18:36:05] 0.050535 kWh of electricity used since the beginning.\n",
            "[codecarbon INFO @ 18:36:20] Energy consumed for RAM : 0.004497 kWh. RAM Power : 10.0 W\n",
            "[codecarbon INFO @ 18:36:20] Delta energy consumed for CPU with constant : 0.000177 kWh, power : 42.5 W\n",
            "[codecarbon INFO @ 18:36:20] Energy consumed for All CPU : 0.019116 kWh\n",
            "[codecarbon INFO @ 18:36:20] Energy consumed for all GPUs : 0.027289 kWh. Total GPU Power : 35.77086987125623 W\n",
            "[codecarbon INFO @ 18:36:20] 0.050902 kWh of electricity used since the beginning.\n",
            "[codecarbon INFO @ 18:36:35] Energy consumed for RAM : 0.004539 kWh. RAM Power : 10.0 W\n",
            "[codecarbon INFO @ 18:36:35] Delta energy consumed for CPU with constant : 0.000177 kWh, power : 42.5 W\n",
            "[codecarbon INFO @ 18:36:35] Energy consumed for All CPU : 0.019293 kWh\n",
            "[codecarbon INFO @ 18:36:35] Energy consumed for all GPUs : 0.027579 kWh. Total GPU Power : 69.64889584249687 W\n",
            "[codecarbon INFO @ 18:36:35] 0.051411 kWh of electricity used since the beginning.\n",
            "[codecarbon INFO @ 18:36:50] Energy consumed for RAM : 0.004581 kWh. RAM Power : 10.0 W\n",
            "[codecarbon INFO @ 18:36:50] Delta energy consumed for CPU with constant : 0.000177 kWh, power : 42.5 W\n",
            "[codecarbon INFO @ 18:36:50] Energy consumed for All CPU : 0.019470 kWh\n",
            "[codecarbon INFO @ 18:36:50] Energy consumed for all GPUs : 0.027869 kWh. Total GPU Power : 69.54663075881332 W\n",
            "[codecarbon INFO @ 18:36:50] 0.051920 kWh of electricity used since the beginning.\n",
            "[codecarbon INFO @ 18:37:05] Energy consumed for RAM : 0.004622 kWh. RAM Power : 10.0 W\n",
            "[codecarbon INFO @ 18:37:05] Delta energy consumed for CPU with constant : 0.000177 kWh, power : 42.5 W\n",
            "[codecarbon INFO @ 18:37:05] Energy consumed for All CPU : 0.019647 kWh\n",
            "[codecarbon INFO @ 18:37:05] Energy consumed for all GPUs : 0.028160 kWh. Total GPU Power : 69.96650127079555 W\n",
            "[codecarbon INFO @ 18:37:05] 0.052430 kWh of electricity used since the beginning.\n",
            "[codecarbon INFO @ 18:37:20] Energy consumed for RAM : 0.004664 kWh. RAM Power : 10.0 W\n",
            "[codecarbon INFO @ 18:37:20] Delta energy consumed for CPU with constant : 0.000177 kWh, power : 42.5 W\n",
            "[codecarbon INFO @ 18:37:20] Energy consumed for All CPU : 0.019824 kWh\n",
            "[codecarbon INFO @ 18:37:20] Energy consumed for all GPUs : 0.028440 kWh. Total GPU Power : 67.24954965256626 W\n",
            "[codecarbon INFO @ 18:37:20] 0.052929 kWh of electricity used since the beginning.\n",
            "[codecarbon INFO @ 18:37:20] 0.004425 g.CO2eq/s mean an estimation of 139.53418486915578 kg.CO2eq/year\n"
          ]
        },
        {
          "output_type": "stream",
          "name": "stdout",
          "text": [
            "generated text:\n",
            "this movie is one of the best i 've ever seen . the plot is simple and straightforward and armand assante 's doing it 's a very bad movie . udo does not , the acting is terrible , but the script is atrocious\n",
            "\n",
            "391/391 - 84s - 215ms/step - loss: 3.3840\n",
            "Epoch 23/25\n"
          ]
        },
        {
          "output_type": "stream",
          "name": "stderr",
          "text": [
            "[codecarbon INFO @ 18:37:35] Energy consumed for RAM : 0.004706 kWh. RAM Power : 10.0 W\n",
            "[codecarbon INFO @ 18:37:35] Delta energy consumed for CPU with constant : 0.000177 kWh, power : 42.5 W\n",
            "[codecarbon INFO @ 18:37:35] Energy consumed for All CPU : 0.020001 kWh\n",
            "[codecarbon INFO @ 18:37:35] Energy consumed for all GPUs : 0.028576 kWh. Total GPU Power : 32.55820681981255 W\n",
            "[codecarbon INFO @ 18:37:35] 0.053283 kWh of electricity used since the beginning.\n",
            "[codecarbon INFO @ 18:37:50] Energy consumed for RAM : 0.004747 kWh. RAM Power : 10.0 W\n",
            "[codecarbon INFO @ 18:37:50] Delta energy consumed for CPU with constant : 0.000177 kWh, power : 42.5 W\n",
            "[codecarbon INFO @ 18:37:50] Energy consumed for All CPU : 0.020178 kWh\n",
            "[codecarbon INFO @ 18:37:50] Energy consumed for all GPUs : 0.028808 kWh. Total GPU Power : 55.78750029033722 W\n",
            "[codecarbon INFO @ 18:37:50] 0.053734 kWh of electricity used since the beginning.\n",
            "[codecarbon INFO @ 18:38:05] Energy consumed for RAM : 0.004789 kWh. RAM Power : 10.0 W\n",
            "[codecarbon INFO @ 18:38:05] Delta energy consumed for CPU with constant : 0.000177 kWh, power : 42.5 W\n",
            "[codecarbon INFO @ 18:38:05] Energy consumed for All CPU : 0.020355 kWh\n",
            "[codecarbon INFO @ 18:38:05] Energy consumed for all GPUs : 0.029098 kWh. Total GPU Power : 69.63297988563738 W\n",
            "[codecarbon INFO @ 18:38:05] 0.054243 kWh of electricity used since the beginning.\n",
            "[codecarbon INFO @ 18:38:20] Energy consumed for RAM : 0.004831 kWh. RAM Power : 10.0 W\n",
            "[codecarbon INFO @ 18:38:20] Delta energy consumed for CPU with constant : 0.000177 kWh, power : 42.5 W\n",
            "[codecarbon INFO @ 18:38:20] Energy consumed for All CPU : 0.020532 kWh\n",
            "[codecarbon INFO @ 18:38:20] Energy consumed for all GPUs : 0.029390 kWh. Total GPU Power : 69.93570052370285 W\n",
            "[codecarbon INFO @ 18:38:20] 0.054753 kWh of electricity used since the beginning.\n",
            "[codecarbon INFO @ 18:38:35] Energy consumed for RAM : 0.004872 kWh. RAM Power : 10.0 W\n",
            "[codecarbon INFO @ 18:38:35] Delta energy consumed for CPU with constant : 0.000177 kWh, power : 42.5 W\n",
            "[codecarbon INFO @ 18:38:35] Energy consumed for All CPU : 0.020709 kWh\n",
            "[codecarbon INFO @ 18:38:35] Energy consumed for all GPUs : 0.029679 kWh. Total GPU Power : 69.40886946377626 W\n",
            "[codecarbon INFO @ 18:38:35] 0.055261 kWh of electricity used since the beginning.\n"
          ]
        },
        {
          "output_type": "stream",
          "name": "stdout",
          "text": [
            "generated text:\n",
            "this movie is not just about your everyday . i saw it in a very funny way . i have never seen it again and i can 't think of a movie . it is a very good movie . i think that the\n",
            "\n",
            "391/391 - 81s - 207ms/step - loss: 3.3622\n",
            "Epoch 24/25\n"
          ]
        },
        {
          "output_type": "stream",
          "name": "stderr",
          "text": [
            "[codecarbon INFO @ 18:38:50] Energy consumed for RAM : 0.004914 kWh. RAM Power : 10.0 W\n",
            "[codecarbon INFO @ 18:38:50] Delta energy consumed for CPU with constant : 0.000177 kWh, power : 42.5 W\n",
            "[codecarbon INFO @ 18:38:50] Energy consumed for All CPU : 0.020886 kWh\n",
            "[codecarbon INFO @ 18:38:50] Energy consumed for all GPUs : 0.029874 kWh. Total GPU Power : 46.88926498893938 W\n",
            "[codecarbon INFO @ 18:38:50] 0.055675 kWh of electricity used since the beginning.\n",
            "[codecarbon INFO @ 18:39:05] Energy consumed for RAM : 0.004956 kWh. RAM Power : 10.0 W\n",
            "[codecarbon INFO @ 18:39:05] Delta energy consumed for CPU with constant : 0.000177 kWh, power : 42.5 W\n",
            "[codecarbon INFO @ 18:39:05] Energy consumed for All CPU : 0.021064 kWh\n",
            "[codecarbon INFO @ 18:39:05] Energy consumed for all GPUs : 0.030036 kWh. Total GPU Power : 38.88406318927988 W\n",
            "[codecarbon INFO @ 18:39:05] 0.056055 kWh of electricity used since the beginning.\n",
            "[codecarbon INFO @ 18:39:20] Energy consumed for RAM : 0.004997 kWh. RAM Power : 10.0 W\n",
            "[codecarbon INFO @ 18:39:20] Delta energy consumed for CPU with constant : 0.000177 kWh, power : 42.5 W\n",
            "[codecarbon INFO @ 18:39:20] Energy consumed for All CPU : 0.021240 kWh\n",
            "[codecarbon INFO @ 18:39:20] Energy consumed for all GPUs : 0.030326 kWh. Total GPU Power : 69.54038491640235 W\n",
            "[codecarbon INFO @ 18:39:20] 0.056564 kWh of electricity used since the beginning.\n",
            "[codecarbon INFO @ 18:39:20] 0.004202 g.CO2eq/s mean an estimation of 132.5216888905391 kg.CO2eq/year\n",
            "[codecarbon INFO @ 18:39:35] Energy consumed for RAM : 0.005039 kWh. RAM Power : 10.0 W\n",
            "[codecarbon INFO @ 18:39:35] Delta energy consumed for CPU with constant : 0.000177 kWh, power : 42.5 W\n",
            "[codecarbon INFO @ 18:39:35] Energy consumed for All CPU : 0.021417 kWh\n",
            "[codecarbon INFO @ 18:39:35] Energy consumed for all GPUs : 0.030615 kWh. Total GPU Power : 69.51309736179792 W\n",
            "[codecarbon INFO @ 18:39:35] 0.057072 kWh of electricity used since the beginning.\n",
            "[codecarbon INFO @ 18:39:50] Energy consumed for RAM : 0.005080 kWh. RAM Power : 10.0 W\n",
            "[codecarbon INFO @ 18:39:50] Delta energy consumed for CPU with constant : 0.000177 kWh, power : 42.5 W\n",
            "[codecarbon INFO @ 18:39:50] Energy consumed for All CPU : 0.021594 kWh\n",
            "[codecarbon INFO @ 18:39:50] Energy consumed for all GPUs : 0.030905 kWh. Total GPU Power : 69.579441098822 W\n",
            "[codecarbon INFO @ 18:39:50] 0.057580 kWh of electricity used since the beginning.\n",
            "[codecarbon INFO @ 18:40:05] Energy consumed for RAM : 0.005122 kWh. RAM Power : 10.0 W\n",
            "[codecarbon INFO @ 18:40:05] Delta energy consumed for CPU with constant : 0.000177 kWh, power : 42.5 W\n",
            "[codecarbon INFO @ 18:40:05] Energy consumed for All CPU : 0.021771 kWh\n",
            "[codecarbon INFO @ 18:40:05] Energy consumed for all GPUs : 0.031176 kWh. Total GPU Power : 64.97618853715993 W\n",
            "[codecarbon INFO @ 18:40:05] 0.058069 kWh of electricity used since the beginning.\n"
          ]
        },
        {
          "output_type": "stream",
          "name": "stdout",
          "text": [
            "generated text:\n",
            "this movie is one of the funniest movies i have seen in my life . it makes you cringe at the time . i have a great idea to have the potential to be a bad idea to make movies about the characters ,\n",
            "\n",
            "391/391 - 82s - 210ms/step - loss: 3.3418\n",
            "Epoch 25/25\n"
          ]
        },
        {
          "output_type": "stream",
          "name": "stderr",
          "text": [
            "[codecarbon INFO @ 18:40:20] Energy consumed for RAM : 0.005164 kWh. RAM Power : 10.0 W\n",
            "[codecarbon INFO @ 18:40:20] Delta energy consumed for CPU with constant : 0.000177 kWh, power : 42.5 W\n",
            "[codecarbon INFO @ 18:40:20] Energy consumed for All CPU : 0.021948 kWh\n",
            "[codecarbon INFO @ 18:40:20] Energy consumed for all GPUs : 0.031310 kWh. Total GPU Power : 32.098578135609095 W\n",
            "[codecarbon INFO @ 18:40:20] 0.058422 kWh of electricity used since the beginning.\n",
            "[codecarbon INFO @ 18:40:35] Energy consumed for RAM : 0.005205 kWh. RAM Power : 10.0 W\n",
            "[codecarbon INFO @ 18:40:35] Delta energy consumed for CPU with constant : 0.000177 kWh, power : 42.5 W\n",
            "[codecarbon INFO @ 18:40:35] Energy consumed for All CPU : 0.022125 kWh\n",
            "[codecarbon INFO @ 18:40:35] Energy consumed for all GPUs : 0.031555 kWh. Total GPU Power : 58.9948365685441 W\n",
            "[codecarbon INFO @ 18:40:35] 0.058886 kWh of electricity used since the beginning.\n",
            "[codecarbon INFO @ 18:40:50] Energy consumed for RAM : 0.005247 kWh. RAM Power : 10.0 W\n",
            "[codecarbon INFO @ 18:40:50] Delta energy consumed for CPU with constant : 0.000177 kWh, power : 42.5 W\n",
            "[codecarbon INFO @ 18:40:50] Energy consumed for All CPU : 0.022302 kWh\n",
            "[codecarbon INFO @ 18:40:50] Energy consumed for all GPUs : 0.031845 kWh. Total GPU Power : 69.53791623278374 W\n",
            "[codecarbon INFO @ 18:40:50] 0.059394 kWh of electricity used since the beginning.\n",
            "[codecarbon INFO @ 18:41:05] Energy consumed for RAM : 0.005289 kWh. RAM Power : 10.0 W\n",
            "[codecarbon INFO @ 18:41:05] Delta energy consumed for CPU with constant : 0.000177 kWh, power : 42.5 W\n",
            "[codecarbon INFO @ 18:41:05] Energy consumed for All CPU : 0.022479 kWh\n",
            "[codecarbon INFO @ 18:41:05] Energy consumed for all GPUs : 0.032135 kWh. Total GPU Power : 69.59267251661038 W\n",
            "[codecarbon INFO @ 18:41:05] 0.059903 kWh of electricity used since the beginning.\n",
            "[codecarbon INFO @ 18:41:20] Energy consumed for RAM : 0.005330 kWh. RAM Power : 10.0 W\n",
            "[codecarbon INFO @ 18:41:20] Delta energy consumed for CPU with constant : 0.000177 kWh, power : 42.5 W\n",
            "[codecarbon INFO @ 18:41:20] Energy consumed for All CPU : 0.022656 kWh\n",
            "[codecarbon INFO @ 18:41:20] Energy consumed for all GPUs : 0.032426 kWh. Total GPU Power : 69.98697911316557 W\n",
            "[codecarbon INFO @ 18:41:20] 0.060413 kWh of electricity used since the beginning.\n",
            "[codecarbon INFO @ 18:41:20] 0.004451 g.CO2eq/s mean an estimation of 140.3527884138851 kg.CO2eq/year\n"
          ]
        },
        {
          "output_type": "stream",
          "name": "stdout",
          "text": [
            "generated text:\n",
            "this movie is one of the best i have seen in the first place in the late 70s , it follows the footsteps of the likes of chris chan films and john cusack are having the other two films . i am sorely disappointed\n",
            "\n",
            "391/391 - 82s - 210ms/step - loss: 3.3236\n"
          ]
        },
        {
          "output_type": "stream",
          "name": "stderr",
          "text": [
            "[codecarbon INFO @ 18:41:35] Energy consumed for RAM : 0.005372 kWh. RAM Power : 10.0 W\n",
            "[codecarbon INFO @ 18:41:35] Delta energy consumed for CPU with constant : 0.000177 kWh, power : 42.5 W\n",
            "[codecarbon INFO @ 18:41:35] Energy consumed for All CPU : 0.022833 kWh\n",
            "[codecarbon INFO @ 18:41:35] Energy consumed for all GPUs : 0.032613 kWh. Total GPU Power : 44.72857464741342 W\n",
            "[codecarbon INFO @ 18:41:35] 0.060818 kWh of electricity used since the beginning.\n",
            "[codecarbon INFO @ 18:41:46] Energy consumed for RAM : 0.005403 kWh. RAM Power : 10.0 W\n",
            "[codecarbon INFO @ 18:41:46] Delta energy consumed for CPU with constant : 0.000130 kWh, power : 42.5 W\n",
            "[codecarbon INFO @ 18:41:46] Energy consumed for All CPU : 0.022963 kWh\n",
            "[codecarbon INFO @ 18:41:46] Energy consumed for all GPUs : 0.032710 kWh. Total GPU Power : 31.849788595112145 W\n",
            "[codecarbon INFO @ 18:41:46] 0.061076 kWh of electricity used since the beginning.\n"
          ]
        },
        {
          "output_type": "stream",
          "name": "stdout",
          "text": [
            "Emissions during training: 0.008474259048095772 kg CO2\n"
          ]
        }
      ]
    },
    {
      "cell_type": "code",
      "source": [
        "emissions_data = tracker.final_emissions_data\n",
        "print(f\"Energy consumed: {emissions_data.energy_consumed:.6f} kWh\")\n",
        "print(f\"Execution Time: {emissions_data.duration:.2f} seconds\")\n",
        "print(f\"Emissions: {emissions_data.emissions} kg CO2\")"
      ],
      "metadata": {
        "colab": {
          "base_uri": "https://localhost:8080/"
        },
        "id": "SGz0zLbsCZ3C",
        "outputId": "7bd3bb21-f725-495d-c1ff-ada92e26d6ea"
      },
      "execution_count": 11,
      "outputs": [
        {
          "output_type": "stream",
          "name": "stdout",
          "text": [
            "Energy consumed: 0.061076 kWh\n",
            "Execution Time: 1946.22 seconds\n",
            "Emissions: 0.008474259048095772 kg CO2\n"
          ]
        }
      ]
    }
  ],
  "metadata": {
    "accelerator": "GPU",
    "colab": {
      "provenance": [],
      "toc_visible": true
    },
    "kernelspec": {
      "display_name": "Python 3",
      "language": "python",
      "name": "python3"
    },
    "language_info": {
      "codemirror_mode": {
        "name": "ipython",
        "version": 3
      },
      "file_extension": ".py",
      "mimetype": "text/x-python",
      "name": "python",
      "nbconvert_exporter": "python",
      "pygments_lexer": "ipython3",
      "version": "3.7.0"
    }
  },
  "nbformat": 4,
  "nbformat_minor": 0
}