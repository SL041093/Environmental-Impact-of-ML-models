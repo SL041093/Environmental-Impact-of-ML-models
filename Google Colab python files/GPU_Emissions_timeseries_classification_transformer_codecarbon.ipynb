{
  "cells": [
    {
      "cell_type": "markdown",
      "metadata": {
        "id": "3SZ2V_vrCXJ3"
      },
      "source": [
        "# Timeseries classification with a Transformer model\n",
        "\n",
        "**Author:** [Theodoros Ntakouris](https://github.com/ntakouris)<br>\n",
        "**Date created:** 2021/06/25<br>\n",
        "**Last modified:** 2021/08/05<br>\n",
        "**Description:** This notebook demonstrates how to do timeseries classification using a Transformer model."
      ]
    },
    {
      "cell_type": "markdown",
      "metadata": {
        "id": "KEANbo2YCXJ5"
      },
      "source": [
        "## Introduction\n",
        "\n",
        "This is the Transformer architecture from\n",
        "[Attention Is All You Need](https://arxiv.org/abs/1706.03762),\n",
        "applied to timeseries instead of natural language.\n",
        "\n",
        "This example requires TensorFlow 2.4 or higher.\n",
        "\n",
        "## Load the dataset\n",
        "\n",
        "We are going to use the same dataset and preprocessing as the\n",
        "[TimeSeries Classification from Scratch](https://keras.io/examples/timeseries/timeseries_classification_from_scratch)\n",
        "example."
      ]
    },
    {
      "cell_type": "code",
      "execution_count": 1,
      "metadata": {
        "id": "60TjYXxKCXJ7"
      },
      "outputs": [],
      "source": [
        "import numpy as np\n",
        "import keras\n",
        "from keras import layers\n",
        "\n",
        "\n",
        "def readucr(filename):\n",
        "    data = np.loadtxt(filename, delimiter=\"\\t\")\n",
        "    y = data[:, 0]\n",
        "    x = data[:, 1:]\n",
        "    return x, y.astype(int)\n",
        "\n",
        "\n",
        "root_url = \"https://raw.githubusercontent.com/hfawaz/cd-diagram/master/FordA/\"\n",
        "\n",
        "x_train, y_train = readucr(root_url + \"FordA_TRAIN.tsv\")\n",
        "x_test, y_test = readucr(root_url + \"FordA_TEST.tsv\")\n",
        "\n",
        "x_train = x_train.reshape((x_train.shape[0], x_train.shape[1], 1))\n",
        "x_test = x_test.reshape((x_test.shape[0], x_test.shape[1], 1))\n",
        "\n",
        "n_classes = len(np.unique(y_train))\n",
        "\n",
        "idx = np.random.permutation(len(x_train))\n",
        "x_train = x_train[idx]\n",
        "y_train = y_train[idx]\n",
        "\n",
        "y_train[y_train == -1] = 0\n",
        "y_test[y_test == -1] = 0"
      ]
    },
    {
      "cell_type": "markdown",
      "metadata": {
        "id": "DhGQWlgwCXJ8"
      },
      "source": [
        "## Build the model\n",
        "\n",
        "Our model processes a tensor of shape `(batch size, sequence length, features)`,\n",
        "where `sequence length` is the number of time steps and `features` is each input\n",
        "timeseries.\n",
        "\n",
        "You can replace your classification RNN layers with this one: the\n",
        "inputs are fully compatible!\n",
        "\n",
        "We include residual connections, layer normalization, and dropout.\n",
        "The resulting layer can be stacked multiple times.\n",
        "\n",
        "The projection layers are implemented through `keras.layers.Conv1D`."
      ]
    },
    {
      "cell_type": "code",
      "execution_count": 2,
      "metadata": {
        "id": "G4vaWfqmCXJ9"
      },
      "outputs": [],
      "source": [
        "\n",
        "def transformer_encoder(inputs, head_size, num_heads, ff_dim, dropout=0):\n",
        "    # Attention and Normalization\n",
        "    x = layers.MultiHeadAttention(\n",
        "        key_dim=head_size, num_heads=num_heads, dropout=dropout\n",
        "    )(inputs, inputs)\n",
        "    x = layers.Dropout(dropout)(x)\n",
        "    x = layers.LayerNormalization(epsilon=1e-6)(x)\n",
        "    res = x + inputs\n",
        "\n",
        "    # Feed Forward Part\n",
        "    x = layers.Conv1D(filters=ff_dim, kernel_size=1, activation=\"relu\")(res)\n",
        "    x = layers.Dropout(dropout)(x)\n",
        "    x = layers.Conv1D(filters=inputs.shape[-1], kernel_size=1)(x)\n",
        "    x = layers.LayerNormalization(epsilon=1e-6)(x)\n",
        "    return x + res\n"
      ]
    },
    {
      "cell_type": "markdown",
      "metadata": {
        "id": "0nVNI4znCXJ9"
      },
      "source": [
        "The main part of our model is now complete. We can stack multiple of those\n",
        "`transformer_encoder` blocks and we can also proceed to add the final\n",
        "Multi-Layer Perceptron classification head. Apart from a stack of `Dense`\n",
        "layers, we need to reduce the output tensor of the `TransformerEncoder` part of\n",
        "our model down to a vector of features for each data point in the current\n",
        "batch. A common way to achieve this is to use a pooling layer. For\n",
        "this example, a `GlobalAveragePooling1D` layer is sufficient."
      ]
    },
    {
      "cell_type": "code",
      "execution_count": 3,
      "metadata": {
        "id": "uGI2TYehCXJ-"
      },
      "outputs": [],
      "source": [
        "\n",
        "def build_model(\n",
        "    input_shape,\n",
        "    head_size,\n",
        "    num_heads,\n",
        "    ff_dim,\n",
        "    num_transformer_blocks,\n",
        "    mlp_units,\n",
        "    dropout=0,\n",
        "    mlp_dropout=0,\n",
        "):\n",
        "    inputs = keras.Input(shape=input_shape)\n",
        "    x = inputs\n",
        "    for _ in range(num_transformer_blocks):\n",
        "        x = transformer_encoder(x, head_size, num_heads, ff_dim, dropout)\n",
        "\n",
        "    x = layers.GlobalAveragePooling1D(data_format=\"channels_last\")(x)\n",
        "    for dim in mlp_units:\n",
        "        x = layers.Dense(dim, activation=\"relu\")(x)\n",
        "        x = layers.Dropout(mlp_dropout)(x)\n",
        "    outputs = layers.Dense(n_classes, activation=\"softmax\")(x)\n",
        "    return keras.Model(inputs, outputs)\n"
      ]
    },
    {
      "cell_type": "markdown",
      "metadata": {
        "id": "q9EEL5wXCXJ_"
      },
      "source": [
        "## Train and evaluate"
      ]
    },
    {
      "cell_type": "code",
      "execution_count": 4,
      "metadata": {
        "id": "MGBxQeG-CXKA",
        "colab": {
          "base_uri": "https://localhost:8080/",
          "height": 1000
        },
        "outputId": "9d966c24-7992-4bcc-fe3e-f08ad9fa03f0"
      },
      "outputs": [
        {
          "output_type": "display_data",
          "data": {
            "text/plain": [
              "\u001b[1mModel: \"functional\"\u001b[0m\n"
            ],
            "text/html": [
              "<pre style=\"white-space:pre;overflow-x:auto;line-height:normal;font-family:Menlo,'DejaVu Sans Mono',consolas,'Courier New',monospace\"><span style=\"font-weight: bold\">Model: \"functional\"</span>\n",
              "</pre>\n"
            ]
          },
          "metadata": {}
        },
        {
          "output_type": "display_data",
          "data": {
            "text/plain": [
              "┏━━━━━━━━━━━━━━━━━━━━━━━━━━━┳━━━━━━━━━━━━━━━━━━━━━━━━┳━━━━━━━━━━━━━━━━┳━━━━━━━━━━━━━━━━━━━━━━━━┓\n",
              "┃\u001b[1m \u001b[0m\u001b[1mLayer (type)             \u001b[0m\u001b[1m \u001b[0m┃\u001b[1m \u001b[0m\u001b[1mOutput Shape          \u001b[0m\u001b[1m \u001b[0m┃\u001b[1m \u001b[0m\u001b[1m       Param #\u001b[0m\u001b[1m \u001b[0m┃\u001b[1m \u001b[0m\u001b[1mConnected to          \u001b[0m\u001b[1m \u001b[0m┃\n",
              "┡━━━━━━━━━━━━━━━━━━━━━━━━━━━╇━━━━━━━━━━━━━━━━━━━━━━━━╇━━━━━━━━━━━━━━━━╇━━━━━━━━━━━━━━━━━━━━━━━━┩\n",
              "│ input_layer (\u001b[38;5;33mInputLayer\u001b[0m)  │ (\u001b[38;5;45mNone\u001b[0m, \u001b[38;5;34m500\u001b[0m, \u001b[38;5;34m1\u001b[0m)         │              \u001b[38;5;34m0\u001b[0m │ -                      │\n",
              "├───────────────────────────┼────────────────────────┼────────────────┼────────────────────────┤\n",
              "│ multi_head_attention      │ (\u001b[38;5;45mNone\u001b[0m, \u001b[38;5;34m500\u001b[0m, \u001b[38;5;34m1\u001b[0m)         │          \u001b[38;5;34m7,169\u001b[0m │ input_layer[\u001b[38;5;34m0\u001b[0m][\u001b[38;5;34m0\u001b[0m],     │\n",
              "│ (\u001b[38;5;33mMultiHeadAttention\u001b[0m)      │                        │                │ input_layer[\u001b[38;5;34m0\u001b[0m][\u001b[38;5;34m0\u001b[0m]      │\n",
              "├───────────────────────────┼────────────────────────┼────────────────┼────────────────────────┤\n",
              "│ dropout_1 (\u001b[38;5;33mDropout\u001b[0m)       │ (\u001b[38;5;45mNone\u001b[0m, \u001b[38;5;34m500\u001b[0m, \u001b[38;5;34m1\u001b[0m)         │              \u001b[38;5;34m0\u001b[0m │ multi_head_attention[\u001b[38;5;34m…\u001b[0m │\n",
              "├───────────────────────────┼────────────────────────┼────────────────┼────────────────────────┤\n",
              "│ layer_normalization       │ (\u001b[38;5;45mNone\u001b[0m, \u001b[38;5;34m500\u001b[0m, \u001b[38;5;34m1\u001b[0m)         │              \u001b[38;5;34m2\u001b[0m │ dropout_1[\u001b[38;5;34m0\u001b[0m][\u001b[38;5;34m0\u001b[0m]        │\n",
              "│ (\u001b[38;5;33mLayerNormalization\u001b[0m)      │                        │                │                        │\n",
              "├───────────────────────────┼────────────────────────┼────────────────┼────────────────────────┤\n",
              "│ add (\u001b[38;5;33mAdd\u001b[0m)                 │ (\u001b[38;5;45mNone\u001b[0m, \u001b[38;5;34m500\u001b[0m, \u001b[38;5;34m1\u001b[0m)         │              \u001b[38;5;34m0\u001b[0m │ layer_normalization[\u001b[38;5;34m0\u001b[0m… │\n",
              "│                           │                        │                │ input_layer[\u001b[38;5;34m0\u001b[0m][\u001b[38;5;34m0\u001b[0m]      │\n",
              "├───────────────────────────┼────────────────────────┼────────────────┼────────────────────────┤\n",
              "│ conv1d (\u001b[38;5;33mConv1D\u001b[0m)           │ (\u001b[38;5;45mNone\u001b[0m, \u001b[38;5;34m500\u001b[0m, \u001b[38;5;34m4\u001b[0m)         │              \u001b[38;5;34m8\u001b[0m │ add[\u001b[38;5;34m0\u001b[0m][\u001b[38;5;34m0\u001b[0m]              │\n",
              "├───────────────────────────┼────────────────────────┼────────────────┼────────────────────────┤\n",
              "│ dropout_2 (\u001b[38;5;33mDropout\u001b[0m)       │ (\u001b[38;5;45mNone\u001b[0m, \u001b[38;5;34m500\u001b[0m, \u001b[38;5;34m4\u001b[0m)         │              \u001b[38;5;34m0\u001b[0m │ conv1d[\u001b[38;5;34m0\u001b[0m][\u001b[38;5;34m0\u001b[0m]           │\n",
              "├───────────────────────────┼────────────────────────┼────────────────┼────────────────────────┤\n",
              "│ conv1d_1 (\u001b[38;5;33mConv1D\u001b[0m)         │ (\u001b[38;5;45mNone\u001b[0m, \u001b[38;5;34m500\u001b[0m, \u001b[38;5;34m1\u001b[0m)         │              \u001b[38;5;34m5\u001b[0m │ dropout_2[\u001b[38;5;34m0\u001b[0m][\u001b[38;5;34m0\u001b[0m]        │\n",
              "├───────────────────────────┼────────────────────────┼────────────────┼────────────────────────┤\n",
              "│ layer_normalization_1     │ (\u001b[38;5;45mNone\u001b[0m, \u001b[38;5;34m500\u001b[0m, \u001b[38;5;34m1\u001b[0m)         │              \u001b[38;5;34m2\u001b[0m │ conv1d_1[\u001b[38;5;34m0\u001b[0m][\u001b[38;5;34m0\u001b[0m]         │\n",
              "│ (\u001b[38;5;33mLayerNormalization\u001b[0m)      │                        │                │                        │\n",
              "├───────────────────────────┼────────────────────────┼────────────────┼────────────────────────┤\n",
              "│ add_1 (\u001b[38;5;33mAdd\u001b[0m)               │ (\u001b[38;5;45mNone\u001b[0m, \u001b[38;5;34m500\u001b[0m, \u001b[38;5;34m1\u001b[0m)         │              \u001b[38;5;34m0\u001b[0m │ layer_normalization_1… │\n",
              "│                           │                        │                │ add[\u001b[38;5;34m0\u001b[0m][\u001b[38;5;34m0\u001b[0m]              │\n",
              "├───────────────────────────┼────────────────────────┼────────────────┼────────────────────────┤\n",
              "│ multi_head_attention_1    │ (\u001b[38;5;45mNone\u001b[0m, \u001b[38;5;34m500\u001b[0m, \u001b[38;5;34m1\u001b[0m)         │          \u001b[38;5;34m7,169\u001b[0m │ add_1[\u001b[38;5;34m0\u001b[0m][\u001b[38;5;34m0\u001b[0m],           │\n",
              "│ (\u001b[38;5;33mMultiHeadAttention\u001b[0m)      │                        │                │ add_1[\u001b[38;5;34m0\u001b[0m][\u001b[38;5;34m0\u001b[0m]            │\n",
              "├───────────────────────────┼────────────────────────┼────────────────┼────────────────────────┤\n",
              "│ dropout_4 (\u001b[38;5;33mDropout\u001b[0m)       │ (\u001b[38;5;45mNone\u001b[0m, \u001b[38;5;34m500\u001b[0m, \u001b[38;5;34m1\u001b[0m)         │              \u001b[38;5;34m0\u001b[0m │ multi_head_attention_… │\n",
              "├───────────────────────────┼────────────────────────┼────────────────┼────────────────────────┤\n",
              "│ layer_normalization_2     │ (\u001b[38;5;45mNone\u001b[0m, \u001b[38;5;34m500\u001b[0m, \u001b[38;5;34m1\u001b[0m)         │              \u001b[38;5;34m2\u001b[0m │ dropout_4[\u001b[38;5;34m0\u001b[0m][\u001b[38;5;34m0\u001b[0m]        │\n",
              "│ (\u001b[38;5;33mLayerNormalization\u001b[0m)      │                        │                │                        │\n",
              "├───────────────────────────┼────────────────────────┼────────────────┼────────────────────────┤\n",
              "│ add_2 (\u001b[38;5;33mAdd\u001b[0m)               │ (\u001b[38;5;45mNone\u001b[0m, \u001b[38;5;34m500\u001b[0m, \u001b[38;5;34m1\u001b[0m)         │              \u001b[38;5;34m0\u001b[0m │ layer_normalization_2… │\n",
              "│                           │                        │                │ add_1[\u001b[38;5;34m0\u001b[0m][\u001b[38;5;34m0\u001b[0m]            │\n",
              "├───────────────────────────┼────────────────────────┼────────────────┼────────────────────────┤\n",
              "│ conv1d_2 (\u001b[38;5;33mConv1D\u001b[0m)         │ (\u001b[38;5;45mNone\u001b[0m, \u001b[38;5;34m500\u001b[0m, \u001b[38;5;34m4\u001b[0m)         │              \u001b[38;5;34m8\u001b[0m │ add_2[\u001b[38;5;34m0\u001b[0m][\u001b[38;5;34m0\u001b[0m]            │\n",
              "├───────────────────────────┼────────────────────────┼────────────────┼────────────────────────┤\n",
              "│ dropout_5 (\u001b[38;5;33mDropout\u001b[0m)       │ (\u001b[38;5;45mNone\u001b[0m, \u001b[38;5;34m500\u001b[0m, \u001b[38;5;34m4\u001b[0m)         │              \u001b[38;5;34m0\u001b[0m │ conv1d_2[\u001b[38;5;34m0\u001b[0m][\u001b[38;5;34m0\u001b[0m]         │\n",
              "├───────────────────────────┼────────────────────────┼────────────────┼────────────────────────┤\n",
              "│ conv1d_3 (\u001b[38;5;33mConv1D\u001b[0m)         │ (\u001b[38;5;45mNone\u001b[0m, \u001b[38;5;34m500\u001b[0m, \u001b[38;5;34m1\u001b[0m)         │              \u001b[38;5;34m5\u001b[0m │ dropout_5[\u001b[38;5;34m0\u001b[0m][\u001b[38;5;34m0\u001b[0m]        │\n",
              "├───────────────────────────┼────────────────────────┼────────────────┼────────────────────────┤\n",
              "│ layer_normalization_3     │ (\u001b[38;5;45mNone\u001b[0m, \u001b[38;5;34m500\u001b[0m, \u001b[38;5;34m1\u001b[0m)         │              \u001b[38;5;34m2\u001b[0m │ conv1d_3[\u001b[38;5;34m0\u001b[0m][\u001b[38;5;34m0\u001b[0m]         │\n",
              "│ (\u001b[38;5;33mLayerNormalization\u001b[0m)      │                        │                │                        │\n",
              "├───────────────────────────┼────────────────────────┼────────────────┼────────────────────────┤\n",
              "│ add_3 (\u001b[38;5;33mAdd\u001b[0m)               │ (\u001b[38;5;45mNone\u001b[0m, \u001b[38;5;34m500\u001b[0m, \u001b[38;5;34m1\u001b[0m)         │              \u001b[38;5;34m0\u001b[0m │ layer_normalization_3… │\n",
              "│                           │                        │                │ add_2[\u001b[38;5;34m0\u001b[0m][\u001b[38;5;34m0\u001b[0m]            │\n",
              "├───────────────────────────┼────────────────────────┼────────────────┼────────────────────────┤\n",
              "│ multi_head_attention_2    │ (\u001b[38;5;45mNone\u001b[0m, \u001b[38;5;34m500\u001b[0m, \u001b[38;5;34m1\u001b[0m)         │          \u001b[38;5;34m7,169\u001b[0m │ add_3[\u001b[38;5;34m0\u001b[0m][\u001b[38;5;34m0\u001b[0m],           │\n",
              "│ (\u001b[38;5;33mMultiHeadAttention\u001b[0m)      │                        │                │ add_3[\u001b[38;5;34m0\u001b[0m][\u001b[38;5;34m0\u001b[0m]            │\n",
              "├───────────────────────────┼────────────────────────┼────────────────┼────────────────────────┤\n",
              "│ dropout_7 (\u001b[38;5;33mDropout\u001b[0m)       │ (\u001b[38;5;45mNone\u001b[0m, \u001b[38;5;34m500\u001b[0m, \u001b[38;5;34m1\u001b[0m)         │              \u001b[38;5;34m0\u001b[0m │ multi_head_attention_… │\n",
              "├───────────────────────────┼────────────────────────┼────────────────┼────────────────────────┤\n",
              "│ layer_normalization_4     │ (\u001b[38;5;45mNone\u001b[0m, \u001b[38;5;34m500\u001b[0m, \u001b[38;5;34m1\u001b[0m)         │              \u001b[38;5;34m2\u001b[0m │ dropout_7[\u001b[38;5;34m0\u001b[0m][\u001b[38;5;34m0\u001b[0m]        │\n",
              "│ (\u001b[38;5;33mLayerNormalization\u001b[0m)      │                        │                │                        │\n",
              "├───────────────────────────┼────────────────────────┼────────────────┼────────────────────────┤\n",
              "│ add_4 (\u001b[38;5;33mAdd\u001b[0m)               │ (\u001b[38;5;45mNone\u001b[0m, \u001b[38;5;34m500\u001b[0m, \u001b[38;5;34m1\u001b[0m)         │              \u001b[38;5;34m0\u001b[0m │ layer_normalization_4… │\n",
              "│                           │                        │                │ add_3[\u001b[38;5;34m0\u001b[0m][\u001b[38;5;34m0\u001b[0m]            │\n",
              "├───────────────────────────┼────────────────────────┼────────────────┼────────────────────────┤\n",
              "│ conv1d_4 (\u001b[38;5;33mConv1D\u001b[0m)         │ (\u001b[38;5;45mNone\u001b[0m, \u001b[38;5;34m500\u001b[0m, \u001b[38;5;34m4\u001b[0m)         │              \u001b[38;5;34m8\u001b[0m │ add_4[\u001b[38;5;34m0\u001b[0m][\u001b[38;5;34m0\u001b[0m]            │\n",
              "├───────────────────────────┼────────────────────────┼────────────────┼────────────────────────┤\n",
              "│ dropout_8 (\u001b[38;5;33mDropout\u001b[0m)       │ (\u001b[38;5;45mNone\u001b[0m, \u001b[38;5;34m500\u001b[0m, \u001b[38;5;34m4\u001b[0m)         │              \u001b[38;5;34m0\u001b[0m │ conv1d_4[\u001b[38;5;34m0\u001b[0m][\u001b[38;5;34m0\u001b[0m]         │\n",
              "├───────────────────────────┼────────────────────────┼────────────────┼────────────────────────┤\n",
              "│ conv1d_5 (\u001b[38;5;33mConv1D\u001b[0m)         │ (\u001b[38;5;45mNone\u001b[0m, \u001b[38;5;34m500\u001b[0m, \u001b[38;5;34m1\u001b[0m)         │              \u001b[38;5;34m5\u001b[0m │ dropout_8[\u001b[38;5;34m0\u001b[0m][\u001b[38;5;34m0\u001b[0m]        │\n",
              "├───────────────────────────┼────────────────────────┼────────────────┼────────────────────────┤\n",
              "│ layer_normalization_5     │ (\u001b[38;5;45mNone\u001b[0m, \u001b[38;5;34m500\u001b[0m, \u001b[38;5;34m1\u001b[0m)         │              \u001b[38;5;34m2\u001b[0m │ conv1d_5[\u001b[38;5;34m0\u001b[0m][\u001b[38;5;34m0\u001b[0m]         │\n",
              "│ (\u001b[38;5;33mLayerNormalization\u001b[0m)      │                        │                │                        │\n",
              "├───────────────────────────┼────────────────────────┼────────────────┼────────────────────────┤\n",
              "│ add_5 (\u001b[38;5;33mAdd\u001b[0m)               │ (\u001b[38;5;45mNone\u001b[0m, \u001b[38;5;34m500\u001b[0m, \u001b[38;5;34m1\u001b[0m)         │              \u001b[38;5;34m0\u001b[0m │ layer_normalization_5… │\n",
              "│                           │                        │                │ add_4[\u001b[38;5;34m0\u001b[0m][\u001b[38;5;34m0\u001b[0m]            │\n",
              "├───────────────────────────┼────────────────────────┼────────────────┼────────────────────────┤\n",
              "│ multi_head_attention_3    │ (\u001b[38;5;45mNone\u001b[0m, \u001b[38;5;34m500\u001b[0m, \u001b[38;5;34m1\u001b[0m)         │          \u001b[38;5;34m7,169\u001b[0m │ add_5[\u001b[38;5;34m0\u001b[0m][\u001b[38;5;34m0\u001b[0m],           │\n",
              "│ (\u001b[38;5;33mMultiHeadAttention\u001b[0m)      │                        │                │ add_5[\u001b[38;5;34m0\u001b[0m][\u001b[38;5;34m0\u001b[0m]            │\n",
              "├───────────────────────────┼────────────────────────┼────────────────┼────────────────────────┤\n",
              "│ dropout_10 (\u001b[38;5;33mDropout\u001b[0m)      │ (\u001b[38;5;45mNone\u001b[0m, \u001b[38;5;34m500\u001b[0m, \u001b[38;5;34m1\u001b[0m)         │              \u001b[38;5;34m0\u001b[0m │ multi_head_attention_… │\n",
              "├───────────────────────────┼────────────────────────┼────────────────┼────────────────────────┤\n",
              "│ layer_normalization_6     │ (\u001b[38;5;45mNone\u001b[0m, \u001b[38;5;34m500\u001b[0m, \u001b[38;5;34m1\u001b[0m)         │              \u001b[38;5;34m2\u001b[0m │ dropout_10[\u001b[38;5;34m0\u001b[0m][\u001b[38;5;34m0\u001b[0m]       │\n",
              "│ (\u001b[38;5;33mLayerNormalization\u001b[0m)      │                        │                │                        │\n",
              "├───────────────────────────┼────────────────────────┼────────────────┼────────────────────────┤\n",
              "│ add_6 (\u001b[38;5;33mAdd\u001b[0m)               │ (\u001b[38;5;45mNone\u001b[0m, \u001b[38;5;34m500\u001b[0m, \u001b[38;5;34m1\u001b[0m)         │              \u001b[38;5;34m0\u001b[0m │ layer_normalization_6… │\n",
              "│                           │                        │                │ add_5[\u001b[38;5;34m0\u001b[0m][\u001b[38;5;34m0\u001b[0m]            │\n",
              "├───────────────────────────┼────────────────────────┼────────────────┼────────────────────────┤\n",
              "│ conv1d_6 (\u001b[38;5;33mConv1D\u001b[0m)         │ (\u001b[38;5;45mNone\u001b[0m, \u001b[38;5;34m500\u001b[0m, \u001b[38;5;34m4\u001b[0m)         │              \u001b[38;5;34m8\u001b[0m │ add_6[\u001b[38;5;34m0\u001b[0m][\u001b[38;5;34m0\u001b[0m]            │\n",
              "├───────────────────────────┼────────────────────────┼────────────────┼────────────────────────┤\n",
              "│ dropout_11 (\u001b[38;5;33mDropout\u001b[0m)      │ (\u001b[38;5;45mNone\u001b[0m, \u001b[38;5;34m500\u001b[0m, \u001b[38;5;34m4\u001b[0m)         │              \u001b[38;5;34m0\u001b[0m │ conv1d_6[\u001b[38;5;34m0\u001b[0m][\u001b[38;5;34m0\u001b[0m]         │\n",
              "├───────────────────────────┼────────────────────────┼────────────────┼────────────────────────┤\n",
              "│ conv1d_7 (\u001b[38;5;33mConv1D\u001b[0m)         │ (\u001b[38;5;45mNone\u001b[0m, \u001b[38;5;34m500\u001b[0m, \u001b[38;5;34m1\u001b[0m)         │              \u001b[38;5;34m5\u001b[0m │ dropout_11[\u001b[38;5;34m0\u001b[0m][\u001b[38;5;34m0\u001b[0m]       │\n",
              "├───────────────────────────┼────────────────────────┼────────────────┼────────────────────────┤\n",
              "│ layer_normalization_7     │ (\u001b[38;5;45mNone\u001b[0m, \u001b[38;5;34m500\u001b[0m, \u001b[38;5;34m1\u001b[0m)         │              \u001b[38;5;34m2\u001b[0m │ conv1d_7[\u001b[38;5;34m0\u001b[0m][\u001b[38;5;34m0\u001b[0m]         │\n",
              "│ (\u001b[38;5;33mLayerNormalization\u001b[0m)      │                        │                │                        │\n",
              "├───────────────────────────┼────────────────────────┼────────────────┼────────────────────────┤\n",
              "│ add_7 (\u001b[38;5;33mAdd\u001b[0m)               │ (\u001b[38;5;45mNone\u001b[0m, \u001b[38;5;34m500\u001b[0m, \u001b[38;5;34m1\u001b[0m)         │              \u001b[38;5;34m0\u001b[0m │ layer_normalization_7… │\n",
              "│                           │                        │                │ add_6[\u001b[38;5;34m0\u001b[0m][\u001b[38;5;34m0\u001b[0m]            │\n",
              "├───────────────────────────┼────────────────────────┼────────────────┼────────────────────────┤\n",
              "│ global_average_pooling1d  │ (\u001b[38;5;45mNone\u001b[0m, \u001b[38;5;34m1\u001b[0m)              │              \u001b[38;5;34m0\u001b[0m │ add_7[\u001b[38;5;34m0\u001b[0m][\u001b[38;5;34m0\u001b[0m]            │\n",
              "│ (\u001b[38;5;33mGlobalAveragePooling1D\u001b[0m)  │                        │                │                        │\n",
              "├───────────────────────────┼────────────────────────┼────────────────┼────────────────────────┤\n",
              "│ dense (\u001b[38;5;33mDense\u001b[0m)             │ (\u001b[38;5;45mNone\u001b[0m, \u001b[38;5;34m128\u001b[0m)            │            \u001b[38;5;34m256\u001b[0m │ global_average_poolin… │\n",
              "├───────────────────────────┼────────────────────────┼────────────────┼────────────────────────┤\n",
              "│ dropout_12 (\u001b[38;5;33mDropout\u001b[0m)      │ (\u001b[38;5;45mNone\u001b[0m, \u001b[38;5;34m128\u001b[0m)            │              \u001b[38;5;34m0\u001b[0m │ dense[\u001b[38;5;34m0\u001b[0m][\u001b[38;5;34m0\u001b[0m]            │\n",
              "├───────────────────────────┼────────────────────────┼────────────────┼────────────────────────┤\n",
              "│ dense_1 (\u001b[38;5;33mDense\u001b[0m)           │ (\u001b[38;5;45mNone\u001b[0m, \u001b[38;5;34m2\u001b[0m)              │            \u001b[38;5;34m258\u001b[0m │ dropout_12[\u001b[38;5;34m0\u001b[0m][\u001b[38;5;34m0\u001b[0m]       │\n",
              "└───────────────────────────┴────────────────────────┴────────────────┴────────────────────────┘\n"
            ],
            "text/html": [
              "<pre style=\"white-space:pre;overflow-x:auto;line-height:normal;font-family:Menlo,'DejaVu Sans Mono',consolas,'Courier New',monospace\">┏━━━━━━━━━━━━━━━━━━━━━━━━━━━┳━━━━━━━━━━━━━━━━━━━━━━━━┳━━━━━━━━━━━━━━━━┳━━━━━━━━━━━━━━━━━━━━━━━━┓\n",
              "┃<span style=\"font-weight: bold\"> Layer (type)              </span>┃<span style=\"font-weight: bold\"> Output Shape           </span>┃<span style=\"font-weight: bold\">        Param # </span>┃<span style=\"font-weight: bold\"> Connected to           </span>┃\n",
              "┡━━━━━━━━━━━━━━━━━━━━━━━━━━━╇━━━━━━━━━━━━━━━━━━━━━━━━╇━━━━━━━━━━━━━━━━╇━━━━━━━━━━━━━━━━━━━━━━━━┩\n",
              "│ input_layer (<span style=\"color: #0087ff; text-decoration-color: #0087ff\">InputLayer</span>)  │ (<span style=\"color: #00d7ff; text-decoration-color: #00d7ff\">None</span>, <span style=\"color: #00af00; text-decoration-color: #00af00\">500</span>, <span style=\"color: #00af00; text-decoration-color: #00af00\">1</span>)         │              <span style=\"color: #00af00; text-decoration-color: #00af00\">0</span> │ -                      │\n",
              "├───────────────────────────┼────────────────────────┼────────────────┼────────────────────────┤\n",
              "│ multi_head_attention      │ (<span style=\"color: #00d7ff; text-decoration-color: #00d7ff\">None</span>, <span style=\"color: #00af00; text-decoration-color: #00af00\">500</span>, <span style=\"color: #00af00; text-decoration-color: #00af00\">1</span>)         │          <span style=\"color: #00af00; text-decoration-color: #00af00\">7,169</span> │ input_layer[<span style=\"color: #00af00; text-decoration-color: #00af00\">0</span>][<span style=\"color: #00af00; text-decoration-color: #00af00\">0</span>],     │\n",
              "│ (<span style=\"color: #0087ff; text-decoration-color: #0087ff\">MultiHeadAttention</span>)      │                        │                │ input_layer[<span style=\"color: #00af00; text-decoration-color: #00af00\">0</span>][<span style=\"color: #00af00; text-decoration-color: #00af00\">0</span>]      │\n",
              "├───────────────────────────┼────────────────────────┼────────────────┼────────────────────────┤\n",
              "│ dropout_1 (<span style=\"color: #0087ff; text-decoration-color: #0087ff\">Dropout</span>)       │ (<span style=\"color: #00d7ff; text-decoration-color: #00d7ff\">None</span>, <span style=\"color: #00af00; text-decoration-color: #00af00\">500</span>, <span style=\"color: #00af00; text-decoration-color: #00af00\">1</span>)         │              <span style=\"color: #00af00; text-decoration-color: #00af00\">0</span> │ multi_head_attention[<span style=\"color: #00af00; text-decoration-color: #00af00\">…</span> │\n",
              "├───────────────────────────┼────────────────────────┼────────────────┼────────────────────────┤\n",
              "│ layer_normalization       │ (<span style=\"color: #00d7ff; text-decoration-color: #00d7ff\">None</span>, <span style=\"color: #00af00; text-decoration-color: #00af00\">500</span>, <span style=\"color: #00af00; text-decoration-color: #00af00\">1</span>)         │              <span style=\"color: #00af00; text-decoration-color: #00af00\">2</span> │ dropout_1[<span style=\"color: #00af00; text-decoration-color: #00af00\">0</span>][<span style=\"color: #00af00; text-decoration-color: #00af00\">0</span>]        │\n",
              "│ (<span style=\"color: #0087ff; text-decoration-color: #0087ff\">LayerNormalization</span>)      │                        │                │                        │\n",
              "├───────────────────────────┼────────────────────────┼────────────────┼────────────────────────┤\n",
              "│ add (<span style=\"color: #0087ff; text-decoration-color: #0087ff\">Add</span>)                 │ (<span style=\"color: #00d7ff; text-decoration-color: #00d7ff\">None</span>, <span style=\"color: #00af00; text-decoration-color: #00af00\">500</span>, <span style=\"color: #00af00; text-decoration-color: #00af00\">1</span>)         │              <span style=\"color: #00af00; text-decoration-color: #00af00\">0</span> │ layer_normalization[<span style=\"color: #00af00; text-decoration-color: #00af00\">0</span>… │\n",
              "│                           │                        │                │ input_layer[<span style=\"color: #00af00; text-decoration-color: #00af00\">0</span>][<span style=\"color: #00af00; text-decoration-color: #00af00\">0</span>]      │\n",
              "├───────────────────────────┼────────────────────────┼────────────────┼────────────────────────┤\n",
              "│ conv1d (<span style=\"color: #0087ff; text-decoration-color: #0087ff\">Conv1D</span>)           │ (<span style=\"color: #00d7ff; text-decoration-color: #00d7ff\">None</span>, <span style=\"color: #00af00; text-decoration-color: #00af00\">500</span>, <span style=\"color: #00af00; text-decoration-color: #00af00\">4</span>)         │              <span style=\"color: #00af00; text-decoration-color: #00af00\">8</span> │ add[<span style=\"color: #00af00; text-decoration-color: #00af00\">0</span>][<span style=\"color: #00af00; text-decoration-color: #00af00\">0</span>]              │\n",
              "├───────────────────────────┼────────────────────────┼────────────────┼────────────────────────┤\n",
              "│ dropout_2 (<span style=\"color: #0087ff; text-decoration-color: #0087ff\">Dropout</span>)       │ (<span style=\"color: #00d7ff; text-decoration-color: #00d7ff\">None</span>, <span style=\"color: #00af00; text-decoration-color: #00af00\">500</span>, <span style=\"color: #00af00; text-decoration-color: #00af00\">4</span>)         │              <span style=\"color: #00af00; text-decoration-color: #00af00\">0</span> │ conv1d[<span style=\"color: #00af00; text-decoration-color: #00af00\">0</span>][<span style=\"color: #00af00; text-decoration-color: #00af00\">0</span>]           │\n",
              "├───────────────────────────┼────────────────────────┼────────────────┼────────────────────────┤\n",
              "│ conv1d_1 (<span style=\"color: #0087ff; text-decoration-color: #0087ff\">Conv1D</span>)         │ (<span style=\"color: #00d7ff; text-decoration-color: #00d7ff\">None</span>, <span style=\"color: #00af00; text-decoration-color: #00af00\">500</span>, <span style=\"color: #00af00; text-decoration-color: #00af00\">1</span>)         │              <span style=\"color: #00af00; text-decoration-color: #00af00\">5</span> │ dropout_2[<span style=\"color: #00af00; text-decoration-color: #00af00\">0</span>][<span style=\"color: #00af00; text-decoration-color: #00af00\">0</span>]        │\n",
              "├───────────────────────────┼────────────────────────┼────────────────┼────────────────────────┤\n",
              "│ layer_normalization_1     │ (<span style=\"color: #00d7ff; text-decoration-color: #00d7ff\">None</span>, <span style=\"color: #00af00; text-decoration-color: #00af00\">500</span>, <span style=\"color: #00af00; text-decoration-color: #00af00\">1</span>)         │              <span style=\"color: #00af00; text-decoration-color: #00af00\">2</span> │ conv1d_1[<span style=\"color: #00af00; text-decoration-color: #00af00\">0</span>][<span style=\"color: #00af00; text-decoration-color: #00af00\">0</span>]         │\n",
              "│ (<span style=\"color: #0087ff; text-decoration-color: #0087ff\">LayerNormalization</span>)      │                        │                │                        │\n",
              "├───────────────────────────┼────────────────────────┼────────────────┼────────────────────────┤\n",
              "│ add_1 (<span style=\"color: #0087ff; text-decoration-color: #0087ff\">Add</span>)               │ (<span style=\"color: #00d7ff; text-decoration-color: #00d7ff\">None</span>, <span style=\"color: #00af00; text-decoration-color: #00af00\">500</span>, <span style=\"color: #00af00; text-decoration-color: #00af00\">1</span>)         │              <span style=\"color: #00af00; text-decoration-color: #00af00\">0</span> │ layer_normalization_1… │\n",
              "│                           │                        │                │ add[<span style=\"color: #00af00; text-decoration-color: #00af00\">0</span>][<span style=\"color: #00af00; text-decoration-color: #00af00\">0</span>]              │\n",
              "├───────────────────────────┼────────────────────────┼────────────────┼────────────────────────┤\n",
              "│ multi_head_attention_1    │ (<span style=\"color: #00d7ff; text-decoration-color: #00d7ff\">None</span>, <span style=\"color: #00af00; text-decoration-color: #00af00\">500</span>, <span style=\"color: #00af00; text-decoration-color: #00af00\">1</span>)         │          <span style=\"color: #00af00; text-decoration-color: #00af00\">7,169</span> │ add_1[<span style=\"color: #00af00; text-decoration-color: #00af00\">0</span>][<span style=\"color: #00af00; text-decoration-color: #00af00\">0</span>],           │\n",
              "│ (<span style=\"color: #0087ff; text-decoration-color: #0087ff\">MultiHeadAttention</span>)      │                        │                │ add_1[<span style=\"color: #00af00; text-decoration-color: #00af00\">0</span>][<span style=\"color: #00af00; text-decoration-color: #00af00\">0</span>]            │\n",
              "├───────────────────────────┼────────────────────────┼────────────────┼────────────────────────┤\n",
              "│ dropout_4 (<span style=\"color: #0087ff; text-decoration-color: #0087ff\">Dropout</span>)       │ (<span style=\"color: #00d7ff; text-decoration-color: #00d7ff\">None</span>, <span style=\"color: #00af00; text-decoration-color: #00af00\">500</span>, <span style=\"color: #00af00; text-decoration-color: #00af00\">1</span>)         │              <span style=\"color: #00af00; text-decoration-color: #00af00\">0</span> │ multi_head_attention_… │\n",
              "├───────────────────────────┼────────────────────────┼────────────────┼────────────────────────┤\n",
              "│ layer_normalization_2     │ (<span style=\"color: #00d7ff; text-decoration-color: #00d7ff\">None</span>, <span style=\"color: #00af00; text-decoration-color: #00af00\">500</span>, <span style=\"color: #00af00; text-decoration-color: #00af00\">1</span>)         │              <span style=\"color: #00af00; text-decoration-color: #00af00\">2</span> │ dropout_4[<span style=\"color: #00af00; text-decoration-color: #00af00\">0</span>][<span style=\"color: #00af00; text-decoration-color: #00af00\">0</span>]        │\n",
              "│ (<span style=\"color: #0087ff; text-decoration-color: #0087ff\">LayerNormalization</span>)      │                        │                │                        │\n",
              "├───────────────────────────┼────────────────────────┼────────────────┼────────────────────────┤\n",
              "│ add_2 (<span style=\"color: #0087ff; text-decoration-color: #0087ff\">Add</span>)               │ (<span style=\"color: #00d7ff; text-decoration-color: #00d7ff\">None</span>, <span style=\"color: #00af00; text-decoration-color: #00af00\">500</span>, <span style=\"color: #00af00; text-decoration-color: #00af00\">1</span>)         │              <span style=\"color: #00af00; text-decoration-color: #00af00\">0</span> │ layer_normalization_2… │\n",
              "│                           │                        │                │ add_1[<span style=\"color: #00af00; text-decoration-color: #00af00\">0</span>][<span style=\"color: #00af00; text-decoration-color: #00af00\">0</span>]            │\n",
              "├───────────────────────────┼────────────────────────┼────────────────┼────────────────────────┤\n",
              "│ conv1d_2 (<span style=\"color: #0087ff; text-decoration-color: #0087ff\">Conv1D</span>)         │ (<span style=\"color: #00d7ff; text-decoration-color: #00d7ff\">None</span>, <span style=\"color: #00af00; text-decoration-color: #00af00\">500</span>, <span style=\"color: #00af00; text-decoration-color: #00af00\">4</span>)         │              <span style=\"color: #00af00; text-decoration-color: #00af00\">8</span> │ add_2[<span style=\"color: #00af00; text-decoration-color: #00af00\">0</span>][<span style=\"color: #00af00; text-decoration-color: #00af00\">0</span>]            │\n",
              "├───────────────────────────┼────────────────────────┼────────────────┼────────────────────────┤\n",
              "│ dropout_5 (<span style=\"color: #0087ff; text-decoration-color: #0087ff\">Dropout</span>)       │ (<span style=\"color: #00d7ff; text-decoration-color: #00d7ff\">None</span>, <span style=\"color: #00af00; text-decoration-color: #00af00\">500</span>, <span style=\"color: #00af00; text-decoration-color: #00af00\">4</span>)         │              <span style=\"color: #00af00; text-decoration-color: #00af00\">0</span> │ conv1d_2[<span style=\"color: #00af00; text-decoration-color: #00af00\">0</span>][<span style=\"color: #00af00; text-decoration-color: #00af00\">0</span>]         │\n",
              "├───────────────────────────┼────────────────────────┼────────────────┼────────────────────────┤\n",
              "│ conv1d_3 (<span style=\"color: #0087ff; text-decoration-color: #0087ff\">Conv1D</span>)         │ (<span style=\"color: #00d7ff; text-decoration-color: #00d7ff\">None</span>, <span style=\"color: #00af00; text-decoration-color: #00af00\">500</span>, <span style=\"color: #00af00; text-decoration-color: #00af00\">1</span>)         │              <span style=\"color: #00af00; text-decoration-color: #00af00\">5</span> │ dropout_5[<span style=\"color: #00af00; text-decoration-color: #00af00\">0</span>][<span style=\"color: #00af00; text-decoration-color: #00af00\">0</span>]        │\n",
              "├───────────────────────────┼────────────────────────┼────────────────┼────────────────────────┤\n",
              "│ layer_normalization_3     │ (<span style=\"color: #00d7ff; text-decoration-color: #00d7ff\">None</span>, <span style=\"color: #00af00; text-decoration-color: #00af00\">500</span>, <span style=\"color: #00af00; text-decoration-color: #00af00\">1</span>)         │              <span style=\"color: #00af00; text-decoration-color: #00af00\">2</span> │ conv1d_3[<span style=\"color: #00af00; text-decoration-color: #00af00\">0</span>][<span style=\"color: #00af00; text-decoration-color: #00af00\">0</span>]         │\n",
              "│ (<span style=\"color: #0087ff; text-decoration-color: #0087ff\">LayerNormalization</span>)      │                        │                │                        │\n",
              "├───────────────────────────┼────────────────────────┼────────────────┼────────────────────────┤\n",
              "│ add_3 (<span style=\"color: #0087ff; text-decoration-color: #0087ff\">Add</span>)               │ (<span style=\"color: #00d7ff; text-decoration-color: #00d7ff\">None</span>, <span style=\"color: #00af00; text-decoration-color: #00af00\">500</span>, <span style=\"color: #00af00; text-decoration-color: #00af00\">1</span>)         │              <span style=\"color: #00af00; text-decoration-color: #00af00\">0</span> │ layer_normalization_3… │\n",
              "│                           │                        │                │ add_2[<span style=\"color: #00af00; text-decoration-color: #00af00\">0</span>][<span style=\"color: #00af00; text-decoration-color: #00af00\">0</span>]            │\n",
              "├───────────────────────────┼────────────────────────┼────────────────┼────────────────────────┤\n",
              "│ multi_head_attention_2    │ (<span style=\"color: #00d7ff; text-decoration-color: #00d7ff\">None</span>, <span style=\"color: #00af00; text-decoration-color: #00af00\">500</span>, <span style=\"color: #00af00; text-decoration-color: #00af00\">1</span>)         │          <span style=\"color: #00af00; text-decoration-color: #00af00\">7,169</span> │ add_3[<span style=\"color: #00af00; text-decoration-color: #00af00\">0</span>][<span style=\"color: #00af00; text-decoration-color: #00af00\">0</span>],           │\n",
              "│ (<span style=\"color: #0087ff; text-decoration-color: #0087ff\">MultiHeadAttention</span>)      │                        │                │ add_3[<span style=\"color: #00af00; text-decoration-color: #00af00\">0</span>][<span style=\"color: #00af00; text-decoration-color: #00af00\">0</span>]            │\n",
              "├───────────────────────────┼────────────────────────┼────────────────┼────────────────────────┤\n",
              "│ dropout_7 (<span style=\"color: #0087ff; text-decoration-color: #0087ff\">Dropout</span>)       │ (<span style=\"color: #00d7ff; text-decoration-color: #00d7ff\">None</span>, <span style=\"color: #00af00; text-decoration-color: #00af00\">500</span>, <span style=\"color: #00af00; text-decoration-color: #00af00\">1</span>)         │              <span style=\"color: #00af00; text-decoration-color: #00af00\">0</span> │ multi_head_attention_… │\n",
              "├───────────────────────────┼────────────────────────┼────────────────┼────────────────────────┤\n",
              "│ layer_normalization_4     │ (<span style=\"color: #00d7ff; text-decoration-color: #00d7ff\">None</span>, <span style=\"color: #00af00; text-decoration-color: #00af00\">500</span>, <span style=\"color: #00af00; text-decoration-color: #00af00\">1</span>)         │              <span style=\"color: #00af00; text-decoration-color: #00af00\">2</span> │ dropout_7[<span style=\"color: #00af00; text-decoration-color: #00af00\">0</span>][<span style=\"color: #00af00; text-decoration-color: #00af00\">0</span>]        │\n",
              "│ (<span style=\"color: #0087ff; text-decoration-color: #0087ff\">LayerNormalization</span>)      │                        │                │                        │\n",
              "├───────────────────────────┼────────────────────────┼────────────────┼────────────────────────┤\n",
              "│ add_4 (<span style=\"color: #0087ff; text-decoration-color: #0087ff\">Add</span>)               │ (<span style=\"color: #00d7ff; text-decoration-color: #00d7ff\">None</span>, <span style=\"color: #00af00; text-decoration-color: #00af00\">500</span>, <span style=\"color: #00af00; text-decoration-color: #00af00\">1</span>)         │              <span style=\"color: #00af00; text-decoration-color: #00af00\">0</span> │ layer_normalization_4… │\n",
              "│                           │                        │                │ add_3[<span style=\"color: #00af00; text-decoration-color: #00af00\">0</span>][<span style=\"color: #00af00; text-decoration-color: #00af00\">0</span>]            │\n",
              "├───────────────────────────┼────────────────────────┼────────────────┼────────────────────────┤\n",
              "│ conv1d_4 (<span style=\"color: #0087ff; text-decoration-color: #0087ff\">Conv1D</span>)         │ (<span style=\"color: #00d7ff; text-decoration-color: #00d7ff\">None</span>, <span style=\"color: #00af00; text-decoration-color: #00af00\">500</span>, <span style=\"color: #00af00; text-decoration-color: #00af00\">4</span>)         │              <span style=\"color: #00af00; text-decoration-color: #00af00\">8</span> │ add_4[<span style=\"color: #00af00; text-decoration-color: #00af00\">0</span>][<span style=\"color: #00af00; text-decoration-color: #00af00\">0</span>]            │\n",
              "├───────────────────────────┼────────────────────────┼────────────────┼────────────────────────┤\n",
              "│ dropout_8 (<span style=\"color: #0087ff; text-decoration-color: #0087ff\">Dropout</span>)       │ (<span style=\"color: #00d7ff; text-decoration-color: #00d7ff\">None</span>, <span style=\"color: #00af00; text-decoration-color: #00af00\">500</span>, <span style=\"color: #00af00; text-decoration-color: #00af00\">4</span>)         │              <span style=\"color: #00af00; text-decoration-color: #00af00\">0</span> │ conv1d_4[<span style=\"color: #00af00; text-decoration-color: #00af00\">0</span>][<span style=\"color: #00af00; text-decoration-color: #00af00\">0</span>]         │\n",
              "├───────────────────────────┼────────────────────────┼────────────────┼────────────────────────┤\n",
              "│ conv1d_5 (<span style=\"color: #0087ff; text-decoration-color: #0087ff\">Conv1D</span>)         │ (<span style=\"color: #00d7ff; text-decoration-color: #00d7ff\">None</span>, <span style=\"color: #00af00; text-decoration-color: #00af00\">500</span>, <span style=\"color: #00af00; text-decoration-color: #00af00\">1</span>)         │              <span style=\"color: #00af00; text-decoration-color: #00af00\">5</span> │ dropout_8[<span style=\"color: #00af00; text-decoration-color: #00af00\">0</span>][<span style=\"color: #00af00; text-decoration-color: #00af00\">0</span>]        │\n",
              "├───────────────────────────┼────────────────────────┼────────────────┼────────────────────────┤\n",
              "│ layer_normalization_5     │ (<span style=\"color: #00d7ff; text-decoration-color: #00d7ff\">None</span>, <span style=\"color: #00af00; text-decoration-color: #00af00\">500</span>, <span style=\"color: #00af00; text-decoration-color: #00af00\">1</span>)         │              <span style=\"color: #00af00; text-decoration-color: #00af00\">2</span> │ conv1d_5[<span style=\"color: #00af00; text-decoration-color: #00af00\">0</span>][<span style=\"color: #00af00; text-decoration-color: #00af00\">0</span>]         │\n",
              "│ (<span style=\"color: #0087ff; text-decoration-color: #0087ff\">LayerNormalization</span>)      │                        │                │                        │\n",
              "├───────────────────────────┼────────────────────────┼────────────────┼────────────────────────┤\n",
              "│ add_5 (<span style=\"color: #0087ff; text-decoration-color: #0087ff\">Add</span>)               │ (<span style=\"color: #00d7ff; text-decoration-color: #00d7ff\">None</span>, <span style=\"color: #00af00; text-decoration-color: #00af00\">500</span>, <span style=\"color: #00af00; text-decoration-color: #00af00\">1</span>)         │              <span style=\"color: #00af00; text-decoration-color: #00af00\">0</span> │ layer_normalization_5… │\n",
              "│                           │                        │                │ add_4[<span style=\"color: #00af00; text-decoration-color: #00af00\">0</span>][<span style=\"color: #00af00; text-decoration-color: #00af00\">0</span>]            │\n",
              "├───────────────────────────┼────────────────────────┼────────────────┼────────────────────────┤\n",
              "│ multi_head_attention_3    │ (<span style=\"color: #00d7ff; text-decoration-color: #00d7ff\">None</span>, <span style=\"color: #00af00; text-decoration-color: #00af00\">500</span>, <span style=\"color: #00af00; text-decoration-color: #00af00\">1</span>)         │          <span style=\"color: #00af00; text-decoration-color: #00af00\">7,169</span> │ add_5[<span style=\"color: #00af00; text-decoration-color: #00af00\">0</span>][<span style=\"color: #00af00; text-decoration-color: #00af00\">0</span>],           │\n",
              "│ (<span style=\"color: #0087ff; text-decoration-color: #0087ff\">MultiHeadAttention</span>)      │                        │                │ add_5[<span style=\"color: #00af00; text-decoration-color: #00af00\">0</span>][<span style=\"color: #00af00; text-decoration-color: #00af00\">0</span>]            │\n",
              "├───────────────────────────┼────────────────────────┼────────────────┼────────────────────────┤\n",
              "│ dropout_10 (<span style=\"color: #0087ff; text-decoration-color: #0087ff\">Dropout</span>)      │ (<span style=\"color: #00d7ff; text-decoration-color: #00d7ff\">None</span>, <span style=\"color: #00af00; text-decoration-color: #00af00\">500</span>, <span style=\"color: #00af00; text-decoration-color: #00af00\">1</span>)         │              <span style=\"color: #00af00; text-decoration-color: #00af00\">0</span> │ multi_head_attention_… │\n",
              "├───────────────────────────┼────────────────────────┼────────────────┼────────────────────────┤\n",
              "│ layer_normalization_6     │ (<span style=\"color: #00d7ff; text-decoration-color: #00d7ff\">None</span>, <span style=\"color: #00af00; text-decoration-color: #00af00\">500</span>, <span style=\"color: #00af00; text-decoration-color: #00af00\">1</span>)         │              <span style=\"color: #00af00; text-decoration-color: #00af00\">2</span> │ dropout_10[<span style=\"color: #00af00; text-decoration-color: #00af00\">0</span>][<span style=\"color: #00af00; text-decoration-color: #00af00\">0</span>]       │\n",
              "│ (<span style=\"color: #0087ff; text-decoration-color: #0087ff\">LayerNormalization</span>)      │                        │                │                        │\n",
              "├───────────────────────────┼────────────────────────┼────────────────┼────────────────────────┤\n",
              "│ add_6 (<span style=\"color: #0087ff; text-decoration-color: #0087ff\">Add</span>)               │ (<span style=\"color: #00d7ff; text-decoration-color: #00d7ff\">None</span>, <span style=\"color: #00af00; text-decoration-color: #00af00\">500</span>, <span style=\"color: #00af00; text-decoration-color: #00af00\">1</span>)         │              <span style=\"color: #00af00; text-decoration-color: #00af00\">0</span> │ layer_normalization_6… │\n",
              "│                           │                        │                │ add_5[<span style=\"color: #00af00; text-decoration-color: #00af00\">0</span>][<span style=\"color: #00af00; text-decoration-color: #00af00\">0</span>]            │\n",
              "├───────────────────────────┼────────────────────────┼────────────────┼────────────────────────┤\n",
              "│ conv1d_6 (<span style=\"color: #0087ff; text-decoration-color: #0087ff\">Conv1D</span>)         │ (<span style=\"color: #00d7ff; text-decoration-color: #00d7ff\">None</span>, <span style=\"color: #00af00; text-decoration-color: #00af00\">500</span>, <span style=\"color: #00af00; text-decoration-color: #00af00\">4</span>)         │              <span style=\"color: #00af00; text-decoration-color: #00af00\">8</span> │ add_6[<span style=\"color: #00af00; text-decoration-color: #00af00\">0</span>][<span style=\"color: #00af00; text-decoration-color: #00af00\">0</span>]            │\n",
              "├───────────────────────────┼────────────────────────┼────────────────┼────────────────────────┤\n",
              "│ dropout_11 (<span style=\"color: #0087ff; text-decoration-color: #0087ff\">Dropout</span>)      │ (<span style=\"color: #00d7ff; text-decoration-color: #00d7ff\">None</span>, <span style=\"color: #00af00; text-decoration-color: #00af00\">500</span>, <span style=\"color: #00af00; text-decoration-color: #00af00\">4</span>)         │              <span style=\"color: #00af00; text-decoration-color: #00af00\">0</span> │ conv1d_6[<span style=\"color: #00af00; text-decoration-color: #00af00\">0</span>][<span style=\"color: #00af00; text-decoration-color: #00af00\">0</span>]         │\n",
              "├───────────────────────────┼────────────────────────┼────────────────┼────────────────────────┤\n",
              "│ conv1d_7 (<span style=\"color: #0087ff; text-decoration-color: #0087ff\">Conv1D</span>)         │ (<span style=\"color: #00d7ff; text-decoration-color: #00d7ff\">None</span>, <span style=\"color: #00af00; text-decoration-color: #00af00\">500</span>, <span style=\"color: #00af00; text-decoration-color: #00af00\">1</span>)         │              <span style=\"color: #00af00; text-decoration-color: #00af00\">5</span> │ dropout_11[<span style=\"color: #00af00; text-decoration-color: #00af00\">0</span>][<span style=\"color: #00af00; text-decoration-color: #00af00\">0</span>]       │\n",
              "├───────────────────────────┼────────────────────────┼────────────────┼────────────────────────┤\n",
              "│ layer_normalization_7     │ (<span style=\"color: #00d7ff; text-decoration-color: #00d7ff\">None</span>, <span style=\"color: #00af00; text-decoration-color: #00af00\">500</span>, <span style=\"color: #00af00; text-decoration-color: #00af00\">1</span>)         │              <span style=\"color: #00af00; text-decoration-color: #00af00\">2</span> │ conv1d_7[<span style=\"color: #00af00; text-decoration-color: #00af00\">0</span>][<span style=\"color: #00af00; text-decoration-color: #00af00\">0</span>]         │\n",
              "│ (<span style=\"color: #0087ff; text-decoration-color: #0087ff\">LayerNormalization</span>)      │                        │                │                        │\n",
              "├───────────────────────────┼────────────────────────┼────────────────┼────────────────────────┤\n",
              "│ add_7 (<span style=\"color: #0087ff; text-decoration-color: #0087ff\">Add</span>)               │ (<span style=\"color: #00d7ff; text-decoration-color: #00d7ff\">None</span>, <span style=\"color: #00af00; text-decoration-color: #00af00\">500</span>, <span style=\"color: #00af00; text-decoration-color: #00af00\">1</span>)         │              <span style=\"color: #00af00; text-decoration-color: #00af00\">0</span> │ layer_normalization_7… │\n",
              "│                           │                        │                │ add_6[<span style=\"color: #00af00; text-decoration-color: #00af00\">0</span>][<span style=\"color: #00af00; text-decoration-color: #00af00\">0</span>]            │\n",
              "├───────────────────────────┼────────────────────────┼────────────────┼────────────────────────┤\n",
              "│ global_average_pooling1d  │ (<span style=\"color: #00d7ff; text-decoration-color: #00d7ff\">None</span>, <span style=\"color: #00af00; text-decoration-color: #00af00\">1</span>)              │              <span style=\"color: #00af00; text-decoration-color: #00af00\">0</span> │ add_7[<span style=\"color: #00af00; text-decoration-color: #00af00\">0</span>][<span style=\"color: #00af00; text-decoration-color: #00af00\">0</span>]            │\n",
              "│ (<span style=\"color: #0087ff; text-decoration-color: #0087ff\">GlobalAveragePooling1D</span>)  │                        │                │                        │\n",
              "├───────────────────────────┼────────────────────────┼────────────────┼────────────────────────┤\n",
              "│ dense (<span style=\"color: #0087ff; text-decoration-color: #0087ff\">Dense</span>)             │ (<span style=\"color: #00d7ff; text-decoration-color: #00d7ff\">None</span>, <span style=\"color: #00af00; text-decoration-color: #00af00\">128</span>)            │            <span style=\"color: #00af00; text-decoration-color: #00af00\">256</span> │ global_average_poolin… │\n",
              "├───────────────────────────┼────────────────────────┼────────────────┼────────────────────────┤\n",
              "│ dropout_12 (<span style=\"color: #0087ff; text-decoration-color: #0087ff\">Dropout</span>)      │ (<span style=\"color: #00d7ff; text-decoration-color: #00d7ff\">None</span>, <span style=\"color: #00af00; text-decoration-color: #00af00\">128</span>)            │              <span style=\"color: #00af00; text-decoration-color: #00af00\">0</span> │ dense[<span style=\"color: #00af00; text-decoration-color: #00af00\">0</span>][<span style=\"color: #00af00; text-decoration-color: #00af00\">0</span>]            │\n",
              "├───────────────────────────┼────────────────────────┼────────────────┼────────────────────────┤\n",
              "│ dense_1 (<span style=\"color: #0087ff; text-decoration-color: #0087ff\">Dense</span>)           │ (<span style=\"color: #00d7ff; text-decoration-color: #00d7ff\">None</span>, <span style=\"color: #00af00; text-decoration-color: #00af00\">2</span>)              │            <span style=\"color: #00af00; text-decoration-color: #00af00\">258</span> │ dropout_12[<span style=\"color: #00af00; text-decoration-color: #00af00\">0</span>][<span style=\"color: #00af00; text-decoration-color: #00af00\">0</span>]       │\n",
              "└───────────────────────────┴────────────────────────┴────────────────┴────────────────────────┘\n",
              "</pre>\n"
            ]
          },
          "metadata": {}
        },
        {
          "output_type": "display_data",
          "data": {
            "text/plain": [
              "\u001b[1m Total params: \u001b[0m\u001b[38;5;34m29,258\u001b[0m (114.29 KB)\n"
            ],
            "text/html": [
              "<pre style=\"white-space:pre;overflow-x:auto;line-height:normal;font-family:Menlo,'DejaVu Sans Mono',consolas,'Courier New',monospace\"><span style=\"font-weight: bold\"> Total params: </span><span style=\"color: #00af00; text-decoration-color: #00af00\">29,258</span> (114.29 KB)\n",
              "</pre>\n"
            ]
          },
          "metadata": {}
        },
        {
          "output_type": "display_data",
          "data": {
            "text/plain": [
              "\u001b[1m Trainable params: \u001b[0m\u001b[38;5;34m29,258\u001b[0m (114.29 KB)\n"
            ],
            "text/html": [
              "<pre style=\"white-space:pre;overflow-x:auto;line-height:normal;font-family:Menlo,'DejaVu Sans Mono',consolas,'Courier New',monospace\"><span style=\"font-weight: bold\"> Trainable params: </span><span style=\"color: #00af00; text-decoration-color: #00af00\">29,258</span> (114.29 KB)\n",
              "</pre>\n"
            ]
          },
          "metadata": {}
        },
        {
          "output_type": "display_data",
          "data": {
            "text/plain": [
              "\u001b[1m Non-trainable params: \u001b[0m\u001b[38;5;34m0\u001b[0m (0.00 B)\n"
            ],
            "text/html": [
              "<pre style=\"white-space:pre;overflow-x:auto;line-height:normal;font-family:Menlo,'DejaVu Sans Mono',consolas,'Courier New',monospace\"><span style=\"font-weight: bold\"> Non-trainable params: </span><span style=\"color: #00af00; text-decoration-color: #00af00\">0</span> (0.00 B)\n",
              "</pre>\n"
            ]
          },
          "metadata": {}
        }
      ],
      "source": [
        "input_shape = x_train.shape[1:]\n",
        "\n",
        "model = build_model(\n",
        "    input_shape,\n",
        "    head_size=256,\n",
        "    num_heads=4,\n",
        "    ff_dim=4,\n",
        "    num_transformer_blocks=4,\n",
        "    mlp_units=[128],\n",
        "    mlp_dropout=0.4,\n",
        "    dropout=0.25,\n",
        ")\n",
        "\n",
        "model.compile(\n",
        "    loss=\"sparse_categorical_crossentropy\",\n",
        "    optimizer=keras.optimizers.Adam(learning_rate=1e-4),\n",
        "    metrics=[\"sparse_categorical_accuracy\"],\n",
        ")\n",
        "model.summary()\n",
        "\n",
        "#callbacks = [keras.callbacks.EarlyStopping(patience=10, restore_best_weights=True)]"
      ]
    },
    {
      "cell_type": "code",
      "source": [
        "!pip install codecarbon\n",
        "from codecarbon import EmissionsTracker"
      ],
      "metadata": {
        "id": "oKzaT13nCyH7"
      },
      "execution_count": null,
      "outputs": []
    },
    {
      "cell_type": "code",
      "source": [
        "#start emissions tracking\n",
        "tracker = EmissionsTracker()\n",
        "tracker.start()\n",
        "\n",
        "model.fit(\n",
        "    x_train,\n",
        "    y_train,\n",
        "    validation_split=0.2,\n",
        "    epochs=150,\n",
        "    batch_size=64,\n",
        ")\n",
        "\n",
        "#stop emissions tracking\n",
        "emissions: float = tracker.stop()\n",
        "print(f\"Emissions during training: {emissions} kg CO2\")"
      ],
      "metadata": {
        "id": "b7d_aqzeCjlC",
        "colab": {
          "base_uri": "https://localhost:8080/"
        },
        "outputId": "0b4f05af-a572-47e1-98e4-ecf794e9bfd0"
      },
      "execution_count": 7,
      "outputs": [
        {
          "output_type": "stream",
          "name": "stderr",
          "text": [
            "[codecarbon WARNING @ 05:11:52] Multiple instances of codecarbon are allowed to run at the same time.\n",
            "[codecarbon INFO @ 05:11:52] [setup] RAM Tracking...\n",
            "[codecarbon INFO @ 05:11:52] [setup] CPU Tracking...\n",
            "[codecarbon WARNING @ 05:11:53] We saw that you have a Intel(R) Xeon(R) CPU @ 2.00GHz but we don't know it. Please contact us.\n",
            "[codecarbon WARNING @ 05:11:53] No CPU tracking mode found. Falling back on estimation based on TDP for CPU. \n",
            " Linux OS detected: Please ensure RAPL files exist at /sys/class/powercap/intel-rapl/subsystem to measure CPU\n",
            "\n",
            "[codecarbon INFO @ 05:11:53] CPU Model on constant consumption mode: Intel(R) Xeon(R) CPU @ 2.00GHz\n",
            "[codecarbon WARNING @ 05:11:53] No CPU tracking mode found. Falling back on CPU constant mode.\n",
            "[codecarbon INFO @ 05:11:53] [setup] GPU Tracking...\n",
            "[codecarbon INFO @ 05:11:53] Tracking Nvidia GPU via pynvml\n",
            "[codecarbon INFO @ 05:11:53] The below tracking methods have been set up:\n",
            "                RAM Tracking Method: RAM power estimation model\n",
            "                CPU Tracking Method: global constant\n",
            "                GPU Tracking Method: pynvml\n",
            "            \n",
            "[codecarbon INFO @ 05:11:54] >>> Tracker's metadata:\n",
            "[codecarbon INFO @ 05:11:54]   Platform system: Linux-6.1.123+-x86_64-with-glibc2.35\n",
            "[codecarbon INFO @ 05:11:54]   Python version: 3.11.11\n",
            "[codecarbon INFO @ 05:11:54]   CodeCarbon version: 3.0.1\n",
            "[codecarbon INFO @ 05:11:54]   Available RAM : 12.674 GB\n",
            "[codecarbon INFO @ 05:11:54]   CPU count: 2 thread(s) in 1 physical CPU(s)\n",
            "[codecarbon INFO @ 05:11:54]   CPU model: Intel(R) Xeon(R) CPU @ 2.00GHz\n",
            "[codecarbon INFO @ 05:11:54]   GPU count: 1\n",
            "[codecarbon INFO @ 05:11:54]   GPU model: 1 x Tesla T4\n",
            "[codecarbon INFO @ 05:11:54] Emissions data (if any) will be saved to file /content/emissions.csv\n"
          ]
        },
        {
          "output_type": "stream",
          "name": "stdout",
          "text": [
            "Epoch 1/150\n"
          ]
        },
        {
          "output_type": "stream",
          "name": "stderr",
          "text": [
            "[codecarbon INFO @ 05:11:56] Energy consumed for RAM : 0.000167 kWh. RAM Power : 10.0 W\n",
            "[codecarbon INFO @ 05:11:56] Delta energy consumed for CPU with constant : 0.000177 kWh, power : 42.5 W\n",
            "[codecarbon INFO @ 05:11:56] Energy consumed for All CPU : 0.000708 kWh\n",
            "[codecarbon INFO @ 05:11:56] Energy consumed for all GPUs : 0.000486 kWh. Total GPU Power : 29.658663380701313 W\n",
            "[codecarbon INFO @ 05:11:56] 0.001361 kWh of electricity used since the beginning.\n",
            "[codecarbon INFO @ 05:12:09] Energy consumed for RAM : 0.000042 kWh. RAM Power : 10.0 W\n",
            "[codecarbon INFO @ 05:12:09] Delta energy consumed for CPU with constant : 0.000177 kWh, power : 42.5 W\n",
            "[codecarbon INFO @ 05:12:09] Energy consumed for All CPU : 0.000177 kWh\n",
            "[codecarbon INFO @ 05:12:09] Energy consumed for all GPUs : 0.000128 kWh. Total GPU Power : 30.68358715838164 W\n",
            "[codecarbon INFO @ 05:12:09] 0.000347 kWh of electricity used since the beginning.\n",
            "[codecarbon INFO @ 05:12:11] Energy consumed for RAM : 0.000208 kWh. RAM Power : 10.0 W\n",
            "[codecarbon INFO @ 05:12:11] Delta energy consumed for CPU with constant : 0.000177 kWh, power : 42.5 W\n",
            "[codecarbon INFO @ 05:12:11] Energy consumed for All CPU : 0.000885 kWh\n",
            "[codecarbon INFO @ 05:12:11] Energy consumed for all GPUs : 0.000642 kWh. Total GPU Power : 37.27561438526697 W\n",
            "[codecarbon INFO @ 05:12:11] 0.001735 kWh of electricity used since the beginning.\n"
          ]
        },
        {
          "output_type": "stream",
          "name": "stdout",
          "text": [
            "\u001b[1m17/45\u001b[0m \u001b[32m━━━━━━━\u001b[0m\u001b[37m━━━━━━━━━━━━━\u001b[0m \u001b[1m8s\u001b[0m 287ms/step - loss: 0.6931 - sparse_categorical_accuracy: 0.5320"
          ]
        },
        {
          "output_type": "stream",
          "name": "stderr",
          "text": [
            "[codecarbon INFO @ 05:12:24] Energy consumed for RAM : 0.000083 kWh. RAM Power : 10.0 W\n",
            "[codecarbon INFO @ 05:12:24] Delta energy consumed for CPU with constant : 0.000177 kWh, power : 42.5 W\n",
            "[codecarbon INFO @ 05:12:24] Energy consumed for All CPU : 0.000354 kWh\n",
            "[codecarbon INFO @ 05:12:24] Energy consumed for all GPUs : 0.000345 kWh. Total GPU Power : 52.17263059735455 W\n",
            "[codecarbon INFO @ 05:12:24] 0.000783 kWh of electricity used since the beginning.\n"
          ]
        },
        {
          "output_type": "stream",
          "name": "stdout",
          "text": [
            "\u001b[1m26/45\u001b[0m \u001b[32m━━━━━━━━━━━\u001b[0m\u001b[37m━━━━━━━━━\u001b[0m \u001b[1m5s\u001b[0m 288ms/step - loss: 0.6931 - sparse_categorical_accuracy: 0.5261"
          ]
        },
        {
          "output_type": "stream",
          "name": "stderr",
          "text": [
            "[codecarbon INFO @ 05:12:26] Energy consumed for RAM : 0.000250 kWh. RAM Power : 10.0 W\n",
            "[codecarbon INFO @ 05:12:26] Delta energy consumed for CPU with constant : 0.000176 kWh, power : 42.5 W\n",
            "[codecarbon INFO @ 05:12:26] Energy consumed for All CPU : 0.001061 kWh\n",
            "[codecarbon INFO @ 05:12:26] Energy consumed for all GPUs : 0.000859 kWh. Total GPU Power : 52.39571276961764 W\n",
            "[codecarbon INFO @ 05:12:26] 0.002170 kWh of electricity used since the beginning.\n"
          ]
        },
        {
          "output_type": "stream",
          "name": "stdout",
          "text": [
            "\u001b[1m45/45\u001b[0m \u001b[32m━━━━━━━━━━━━━━━━━━━━\u001b[0m\u001b[37m\u001b[0m \u001b[1m42s\u001b[0m 390ms/step - loss: 0.6931 - sparse_categorical_accuracy: 0.5209 - val_loss: 0.6930 - val_sparse_categorical_accuracy: 0.5090\n",
            "Epoch 2/150\n"
          ]
        },
        {
          "output_type": "stream",
          "name": "stderr",
          "text": [
            "[codecarbon INFO @ 05:12:39] Energy consumed for RAM : 0.000125 kWh. RAM Power : 10.0 W\n",
            "[codecarbon INFO @ 05:12:39] Delta energy consumed for CPU with constant : 0.000177 kWh, power : 42.5 W\n",
            "[codecarbon INFO @ 05:12:39] Energy consumed for All CPU : 0.000531 kWh\n",
            "[codecarbon INFO @ 05:12:39] Energy consumed for all GPUs : 0.000590 kWh. Total GPU Power : 58.841584626934186 W\n",
            "[codecarbon INFO @ 05:12:39] 0.001246 kWh of electricity used since the beginning.\n",
            "[codecarbon INFO @ 05:12:41] Energy consumed for RAM : 0.000291 kWh. RAM Power : 10.0 W\n",
            "[codecarbon INFO @ 05:12:41] Delta energy consumed for CPU with constant : 0.000177 kWh, power : 42.5 W\n",
            "[codecarbon INFO @ 05:12:41] Energy consumed for All CPU : 0.001238 kWh\n",
            "[codecarbon INFO @ 05:12:41] Energy consumed for all GPUs : 0.001078 kWh. Total GPU Power : 52.63868202512499 W\n",
            "[codecarbon INFO @ 05:12:41] 0.002607 kWh of electricity used since the beginning.\n"
          ]
        },
        {
          "output_type": "stream",
          "name": "stdout",
          "text": [
            "\u001b[1m27/45\u001b[0m \u001b[32m━━━━━━━━━━━━\u001b[0m\u001b[37m━━━━━━━━\u001b[0m \u001b[1m5s\u001b[0m 298ms/step - loss: 0.6927 - sparse_categorical_accuracy: 0.5299"
          ]
        },
        {
          "output_type": "stream",
          "name": "stderr",
          "text": [
            "[codecarbon INFO @ 05:12:54] Energy consumed for RAM : 0.000167 kWh. RAM Power : 10.0 W\n",
            "[codecarbon INFO @ 05:12:54] Delta energy consumed for CPU with constant : 0.000177 kWh, power : 42.5 W\n",
            "[codecarbon INFO @ 05:12:54] Energy consumed for All CPU : 0.000708 kWh\n",
            "[codecarbon INFO @ 05:12:54] Energy consumed for all GPUs : 0.000808 kWh. Total GPU Power : 52.274822450330134 W\n",
            "[codecarbon INFO @ 05:12:54] 0.001683 kWh of electricity used since the beginning.\n"
          ]
        },
        {
          "output_type": "stream",
          "name": "stdout",
          "text": [
            "\u001b[1m35/45\u001b[0m \u001b[32m━━━━━━━━━━━━━━━\u001b[0m\u001b[37m━━━━━\u001b[0m \u001b[1m2s\u001b[0m 298ms/step - loss: 0.6927 - sparse_categorical_accuracy: 0.5278"
          ]
        },
        {
          "output_type": "stream",
          "name": "stderr",
          "text": [
            "[codecarbon INFO @ 05:12:56] Energy consumed for RAM : 0.000333 kWh. RAM Power : 10.0 W\n",
            "[codecarbon INFO @ 05:12:56] Delta energy consumed for CPU with constant : 0.000177 kWh, power : 42.5 W\n",
            "[codecarbon INFO @ 05:12:56] Energy consumed for All CPU : 0.001415 kWh\n",
            "[codecarbon INFO @ 05:12:56] Energy consumed for all GPUs : 0.001322 kWh. Total GPU Power : 58.52256849319255 W\n",
            "[codecarbon INFO @ 05:12:56] 0.003070 kWh of electricity used since the beginning.\n",
            "[codecarbon INFO @ 05:12:56] 0.012042 g.CO2eq/s mean an estimation of 379.75772317592066 kg.CO2eq/year\n"
          ]
        },
        {
          "output_type": "stream",
          "name": "stdout",
          "text": [
            "\u001b[1m45/45\u001b[0m \u001b[32m━━━━━━━━━━━━━━━━━━━━\u001b[0m\u001b[37m\u001b[0m \u001b[1m24s\u001b[0m 329ms/step - loss: 0.6928 - sparse_categorical_accuracy: 0.5250 - val_loss: 0.6930 - val_sparse_categorical_accuracy: 0.5090\n",
            "Epoch 3/150\n",
            "\u001b[1m 9/45\u001b[0m \u001b[32m━━━━\u001b[0m\u001b[37m━━━━━━━━━━━━━━━━\u001b[0m \u001b[1m10s\u001b[0m 304ms/step - loss: 0.6930 - sparse_categorical_accuracy: 0.5123"
          ]
        },
        {
          "output_type": "stream",
          "name": "stderr",
          "text": [
            "[codecarbon INFO @ 05:13:09] Energy consumed for RAM : 0.000208 kWh. RAM Power : 10.0 W\n",
            "[codecarbon INFO @ 05:13:09] Delta energy consumed for CPU with constant : 0.000177 kWh, power : 42.5 W\n",
            "[codecarbon INFO @ 05:13:09] Energy consumed for All CPU : 0.000885 kWh\n",
            "[codecarbon INFO @ 05:13:09] Energy consumed for all GPUs : 0.001045 kWh. Total GPU Power : 56.918389317670396 W\n",
            "[codecarbon INFO @ 05:13:09] 0.002139 kWh of electricity used since the beginning.\n"
          ]
        },
        {
          "output_type": "stream",
          "name": "stdout",
          "text": [
            "\u001b[1m17/45\u001b[0m \u001b[32m━━━━━━━\u001b[0m\u001b[37m━━━━━━━━━━━━━\u001b[0m \u001b[1m8s\u001b[0m 304ms/step - loss: 0.6927 - sparse_categorical_accuracy: 0.5207"
          ]
        },
        {
          "output_type": "stream",
          "name": "stderr",
          "text": [
            "[codecarbon INFO @ 05:13:11] Energy consumed for RAM : 0.000375 kWh. RAM Power : 10.0 W\n",
            "[codecarbon INFO @ 05:13:11] Delta energy consumed for CPU with constant : 0.000177 kWh, power : 42.5 W\n",
            "[codecarbon INFO @ 05:13:11] Energy consumed for All CPU : 0.001592 kWh\n",
            "[codecarbon INFO @ 05:13:11] Energy consumed for all GPUs : 0.001559 kWh. Total GPU Power : 56.96427464274385 W\n",
            "[codecarbon INFO @ 05:13:11] 0.003526 kWh of electricity used since the beginning.\n"
          ]
        },
        {
          "output_type": "stream",
          "name": "stdout",
          "text": [
            "\u001b[1m45/45\u001b[0m \u001b[32m━━━━━━━━━━━━━━━━━━━━\u001b[0m\u001b[37m\u001b[0m \u001b[1m21s\u001b[0m 340ms/step - loss: 0.6927 - sparse_categorical_accuracy: 0.5213 - val_loss: 0.6930 - val_sparse_categorical_accuracy: 0.5090\n",
            "Epoch 4/150\n"
          ]
        },
        {
          "output_type": "stream",
          "name": "stderr",
          "text": [
            "[codecarbon INFO @ 05:13:24] Energy consumed for RAM : 0.000250 kWh. RAM Power : 10.0 W\n",
            "[codecarbon INFO @ 05:13:24] Delta energy consumed for CPU with constant : 0.000177 kWh, power : 42.5 W\n",
            "[codecarbon INFO @ 05:13:24] Energy consumed for All CPU : 0.001062 kWh\n",
            "[codecarbon INFO @ 05:13:24] Energy consumed for all GPUs : 0.001312 kWh. Total GPU Power : 64.02488145763165 W\n",
            "[codecarbon INFO @ 05:13:24] 0.002624 kWh of electricity used since the beginning.\n",
            "[codecarbon INFO @ 05:13:26] Energy consumed for RAM : 0.000416 kWh. RAM Power : 10.0 W\n",
            "[codecarbon INFO @ 05:13:26] Delta energy consumed for CPU with constant : 0.000177 kWh, power : 42.5 W\n",
            "[codecarbon INFO @ 05:13:26] Energy consumed for All CPU : 0.001769 kWh\n",
            "[codecarbon INFO @ 05:13:26] Energy consumed for all GPUs : 0.001802 kWh. Total GPU Power : 58.43615719657283 W\n",
            "[codecarbon INFO @ 05:13:26] 0.003988 kWh of electricity used since the beginning.\n"
          ]
        },
        {
          "output_type": "stream",
          "name": "stdout",
          "text": [
            "\u001b[1m38/45\u001b[0m \u001b[32m━━━━━━━━━━━━━━━━\u001b[0m\u001b[37m━━━━\u001b[0m \u001b[1m2s\u001b[0m 321ms/step - loss: 0.6932 - sparse_categorical_accuracy: 0.5038"
          ]
        },
        {
          "output_type": "stream",
          "name": "stderr",
          "text": [
            "[codecarbon INFO @ 05:13:39] Energy consumed for RAM : 0.000292 kWh. RAM Power : 10.0 W\n",
            "[codecarbon INFO @ 05:13:39] Delta energy consumed for CPU with constant : 0.000177 kWh, power : 42.5 W\n",
            "[codecarbon INFO @ 05:13:39] Energy consumed for All CPU : 0.001239 kWh\n",
            "[codecarbon INFO @ 05:13:39] Energy consumed for all GPUs : 0.001577 kWh. Total GPU Power : 63.63210880218644 W\n",
            "[codecarbon INFO @ 05:13:39] 0.003108 kWh of electricity used since the beginning.\n"
          ]
        },
        {
          "output_type": "stream",
          "name": "stdout",
          "text": [
            "\u001b[1m45/45\u001b[0m \u001b[32m━━━━━━━━━━━━━━━━━━━━\u001b[0m\u001b[37m\u001b[0m \u001b[1m0s\u001b[0m 321ms/step - loss: 0.6931 - sparse_categorical_accuracy: 0.5052"
          ]
        },
        {
          "output_type": "stream",
          "name": "stderr",
          "text": [
            "[codecarbon INFO @ 05:13:41] Energy consumed for RAM : 0.000458 kWh. RAM Power : 10.0 W\n",
            "[codecarbon INFO @ 05:13:41] Delta energy consumed for CPU with constant : 0.000177 kWh, power : 42.5 W\n",
            "[codecarbon INFO @ 05:13:41] Energy consumed for All CPU : 0.001946 kWh\n",
            "[codecarbon INFO @ 05:13:41] Energy consumed for all GPUs : 0.002091 kWh. Total GPU Power : 69.15193248363404 W\n",
            "[codecarbon INFO @ 05:13:41] 0.004495 kWh of electricity used since the beginning.\n"
          ]
        },
        {
          "output_type": "stream",
          "name": "stdout",
          "text": [
            "\b\b\b\b\b\b\b\b\b\b\b\b\b\b\b\b\b\b\b\b\b\b\b\b\b\b\b\b\b\b\b\b\b\b\b\b\b\b\b\b\b\b\b\b\b\b\b\b\b\b\b\b\b\b\b\b\b\b\b\b\b\b\b\b\b\b\b\b\b\b\b\b\b\b\b\b\b\b\b\b\b\b\b\b\b\b\b\b\b\b\b\b\b\r\u001b[1m45/45\u001b[0m \u001b[32m━━━━━━━━━━━━━━━━━━━━\u001b[0m\u001b[37m\u001b[0m \u001b[1m22s\u001b[0m 380ms/step - loss: 0.6931 - sparse_categorical_accuracy: 0.5053 - val_loss: 0.6930 - val_sparse_categorical_accuracy: 0.5090\n",
            "Epoch 5/150\n",
            "\u001b[1m20/45\u001b[0m \u001b[32m━━━━━━━━\u001b[0m\u001b[37m━━━━━━━━━━━━\u001b[0m \u001b[1m8s\u001b[0m 332ms/step - loss: 0.6928 - sparse_categorical_accuracy: 0.5161"
          ]
        },
        {
          "output_type": "stream",
          "name": "stderr",
          "text": [
            "[codecarbon INFO @ 05:13:54] Energy consumed for RAM : 0.000333 kWh. RAM Power : 10.0 W\n",
            "[codecarbon INFO @ 05:13:54] Delta energy consumed for CPU with constant : 0.000177 kWh, power : 42.5 W\n",
            "[codecarbon INFO @ 05:13:54] Energy consumed for All CPU : 0.001416 kWh\n",
            "[codecarbon INFO @ 05:13:54] Energy consumed for all GPUs : 0.001825 kWh. Total GPU Power : 59.58341971240276 W\n",
            "[codecarbon INFO @ 05:13:54] 0.003575 kWh of electricity used since the beginning.\n",
            "[codecarbon INFO @ 05:13:54] 0.014022 g.CO2eq/s mean an estimation of 442.21065731298404 kg.CO2eq/year\n"
          ]
        },
        {
          "output_type": "stream",
          "name": "stdout",
          "text": [
            "\u001b[1m28/45\u001b[0m \u001b[32m━━━━━━━━━━━━\u001b[0m\u001b[37m━━━━━━━━\u001b[0m \u001b[1m5s\u001b[0m 333ms/step - loss: 0.6928 - sparse_categorical_accuracy: 0.5157"
          ]
        },
        {
          "output_type": "stream",
          "name": "stderr",
          "text": [
            "[codecarbon INFO @ 05:13:56] Energy consumed for RAM : 0.000500 kWh. RAM Power : 10.0 W\n",
            "[codecarbon INFO @ 05:13:56] Delta energy consumed for CPU with constant : 0.000177 kWh, power : 42.5 W\n",
            "[codecarbon INFO @ 05:13:56] Energy consumed for All CPU : 0.002123 kWh\n",
            "[codecarbon INFO @ 05:13:56] Energy consumed for all GPUs : 0.002339 kWh. Total GPU Power : 59.58219991262938 W\n",
            "[codecarbon INFO @ 05:13:56] 0.004962 kWh of electricity used since the beginning.\n"
          ]
        },
        {
          "output_type": "stream",
          "name": "stdout",
          "text": [
            "\u001b[1m45/45\u001b[0m \u001b[32m━━━━━━━━━━━━━━━━━━━━\u001b[0m\u001b[37m\u001b[0m \u001b[1m20s\u001b[0m 371ms/step - loss: 0.6928 - sparse_categorical_accuracy: 0.5144 - val_loss: 0.6930 - val_sparse_categorical_accuracy: 0.5090\n",
            "Epoch 6/150\n",
            "\u001b[1m 4/45\u001b[0m \u001b[32m━\u001b[0m\u001b[37m━━━━━━━━━━━━━━━━━━━\u001b[0m \u001b[1m13s\u001b[0m 341ms/step - loss: 0.6910 - sparse_categorical_accuracy: 0.5612"
          ]
        },
        {
          "output_type": "stream",
          "name": "stderr",
          "text": [
            "[codecarbon INFO @ 05:14:09] Energy consumed for RAM : 0.000375 kWh. RAM Power : 10.0 W\n",
            "[codecarbon INFO @ 05:14:09] Delta energy consumed for CPU with constant : 0.000177 kWh, power : 42.5 W\n",
            "[codecarbon INFO @ 05:14:09] Energy consumed for All CPU : 0.001593 kWh\n",
            "[codecarbon INFO @ 05:14:09] Energy consumed for all GPUs : 0.002088 kWh. Total GPU Power : 62.998286391232824 W\n",
            "[codecarbon INFO @ 05:14:09] 0.004056 kWh of electricity used since the beginning.\n"
          ]
        },
        {
          "output_type": "stream",
          "name": "stdout",
          "text": [
            "\u001b[1m11/45\u001b[0m \u001b[32m━━━━\u001b[0m\u001b[37m━━━━━━━━━━━━━━━━\u001b[0m \u001b[1m11s\u001b[0m 342ms/step - loss: 0.6920 - sparse_categorical_accuracy: 0.5373"
          ]
        },
        {
          "output_type": "stream",
          "name": "stderr",
          "text": [
            "[codecarbon INFO @ 05:14:11] Energy consumed for RAM : 0.000541 kWh. RAM Power : 10.0 W\n",
            "[codecarbon INFO @ 05:14:11] Delta energy consumed for CPU with constant : 0.000177 kWh, power : 42.5 W\n",
            "[codecarbon INFO @ 05:14:11] Energy consumed for All CPU : 0.002300 kWh\n",
            "[codecarbon INFO @ 05:14:11] Energy consumed for all GPUs : 0.002601 kWh. Total GPU Power : 63.035970289492646 W\n",
            "[codecarbon INFO @ 05:14:11] 0.005443 kWh of electricity used since the beginning.\n"
          ]
        },
        {
          "output_type": "stream",
          "name": "stdout",
          "text": [
            "\u001b[1m45/45\u001b[0m \u001b[32m━━━━━━━━━━━━━━━━━━━━\u001b[0m\u001b[37m\u001b[0m \u001b[1m0s\u001b[0m 340ms/step - loss: 0.6928 - sparse_categorical_accuracy: 0.5157"
          ]
        },
        {
          "output_type": "stream",
          "name": "stderr",
          "text": [
            "[codecarbon INFO @ 05:14:24] Energy consumed for RAM : 0.000417 kWh. RAM Power : 10.0 W\n",
            "[codecarbon INFO @ 05:14:24] Delta energy consumed for CPU with constant : 0.000177 kWh, power : 42.5 W\n",
            "[codecarbon INFO @ 05:14:24] Energy consumed for All CPU : 0.001770 kWh\n",
            "[codecarbon INFO @ 05:14:24] Energy consumed for all GPUs : 0.002377 kWh. Total GPU Power : 69.59051381743478 W\n",
            "[codecarbon INFO @ 05:14:24] 0.004564 kWh of electricity used since the beginning.\n"
          ]
        },
        {
          "output_type": "stream",
          "name": "stdout",
          "text": [
            "\b\b\b\b\b\b\b\b\b\b\b\b\b\b\b\b\b\b\b\b\b\b\b\b\b\b\b\b\b\b\b\b\b\b\b\b\b\b\b\b\b\b\b\b\b\b\b\b\b\b\b\b\b\b\b\b\b\b\b\b\b\b\b\b\b\b\b\b\b\b\b\b\b\b\b\b\b\b\b\b\b\b\b\b\b\b\b\b\b\b\b\b\b\r\u001b[1m45/45\u001b[0m \u001b[32m━━━━━━━━━━━━━━━━━━━━\u001b[0m\u001b[37m\u001b[0m \u001b[1m20s\u001b[0m 372ms/step - loss: 0.6928 - sparse_categorical_accuracy: 0.5156 - val_loss: 0.6930 - val_sparse_categorical_accuracy: 0.5090\n",
            "Epoch 7/150\n"
          ]
        },
        {
          "output_type": "stream",
          "name": "stderr",
          "text": [
            "[codecarbon INFO @ 05:14:26] Energy consumed for RAM : 0.000583 kWh. RAM Power : 10.0 W\n",
            "[codecarbon INFO @ 05:14:26] Delta energy consumed for CPU with constant : 0.000177 kWh, power : 42.5 W\n",
            "[codecarbon INFO @ 05:14:26] Energy consumed for All CPU : 0.002477 kWh\n",
            "[codecarbon INFO @ 05:14:26] Energy consumed for all GPUs : 0.002872 kWh. Total GPU Power : 64.86828186282834 W\n",
            "[codecarbon INFO @ 05:14:26] 0.005932 kWh of electricity used since the beginning.\n"
          ]
        },
        {
          "output_type": "stream",
          "name": "stdout",
          "text": [
            "\u001b[1m33/45\u001b[0m \u001b[32m━━━━━━━━━━━━━━\u001b[0m\u001b[37m━━━━━━\u001b[0m \u001b[1m3s\u001b[0m 326ms/step - loss: 0.6930 - sparse_categorical_accuracy: 0.5123"
          ]
        },
        {
          "output_type": "stream",
          "name": "stderr",
          "text": [
            "[codecarbon INFO @ 05:14:39] Energy consumed for RAM : 0.000458 kWh. RAM Power : 10.0 W\n",
            "[codecarbon INFO @ 05:14:39] Delta energy consumed for CPU with constant : 0.000177 kWh, power : 42.5 W\n",
            "[codecarbon INFO @ 05:14:39] Energy consumed for All CPU : 0.001947 kWh\n",
            "[codecarbon INFO @ 05:14:39] Energy consumed for all GPUs : 0.002634 kWh. Total GPU Power : 61.59096576094073 W\n",
            "[codecarbon INFO @ 05:14:39] 0.005039 kWh of electricity used since the beginning.\n"
          ]
        },
        {
          "output_type": "stream",
          "name": "stdout",
          "text": [
            "\u001b[1m41/45\u001b[0m \u001b[32m━━━━━━━━━━━━━━━━━━\u001b[0m\u001b[37m━━\u001b[0m \u001b[1m1s\u001b[0m 326ms/step - loss: 0.6929 - sparse_categorical_accuracy: 0.5134"
          ]
        },
        {
          "output_type": "stream",
          "name": "stderr",
          "text": [
            "[codecarbon INFO @ 05:14:41] Energy consumed for RAM : 0.000624 kWh. RAM Power : 10.0 W\n",
            "[codecarbon INFO @ 05:14:41] Delta energy consumed for CPU with constant : 0.000177 kWh, power : 42.5 W\n",
            "[codecarbon INFO @ 05:14:41] Energy consumed for All CPU : 0.002654 kWh\n",
            "[codecarbon INFO @ 05:14:41] Energy consumed for all GPUs : 0.003148 kWh. Total GPU Power : 66.28927124732309 W\n",
            "[codecarbon INFO @ 05:14:41] 0.006426 kWh of electricity used since the beginning.\n"
          ]
        },
        {
          "output_type": "stream",
          "name": "stdout",
          "text": [
            "\u001b[1m45/45\u001b[0m \u001b[32m━━━━━━━━━━━━━━━━━━━━\u001b[0m\u001b[37m\u001b[0m \u001b[1m20s\u001b[0m 358ms/step - loss: 0.6929 - sparse_categorical_accuracy: 0.5135 - val_loss: 0.6930 - val_sparse_categorical_accuracy: 0.5090\n",
            "Epoch 8/150\n",
            "\u001b[1m17/45\u001b[0m \u001b[32m━━━━━━━\u001b[0m\u001b[37m━━━━━━━━━━━━━\u001b[0m \u001b[1m9s\u001b[0m 322ms/step - loss: 0.6933 - sparse_categorical_accuracy: 0.5005"
          ]
        },
        {
          "output_type": "stream",
          "name": "stderr",
          "text": [
            "[codecarbon INFO @ 05:14:54] Energy consumed for RAM : 0.000500 kWh. RAM Power : 10.0 W\n",
            "[codecarbon INFO @ 05:14:54] Delta energy consumed for CPU with constant : 0.000177 kWh, power : 42.5 W\n",
            "[codecarbon INFO @ 05:14:54] Energy consumed for All CPU : 0.002124 kWh\n",
            "[codecarbon INFO @ 05:14:54] Energy consumed for all GPUs : 0.002882 kWh. Total GPU Power : 59.623149812885636 W\n",
            "[codecarbon INFO @ 05:14:54] 0.005507 kWh of electricity used since the beginning.\n"
          ]
        },
        {
          "output_type": "stream",
          "name": "stdout",
          "text": [
            "\u001b[1m24/45\u001b[0m \u001b[32m━━━━━━━━━━\u001b[0m\u001b[37m━━━━━━━━━━\u001b[0m \u001b[1m6s\u001b[0m 323ms/step - loss: 0.6933 - sparse_categorical_accuracy: 0.4995"
          ]
        },
        {
          "output_type": "stream",
          "name": "stderr",
          "text": [
            "[codecarbon INFO @ 05:14:56] Energy consumed for RAM : 0.000666 kWh. RAM Power : 10.0 W\n",
            "[codecarbon INFO @ 05:14:56] Delta energy consumed for CPU with constant : 0.000177 kWh, power : 42.5 W\n",
            "[codecarbon INFO @ 05:14:56] Energy consumed for All CPU : 0.002831 kWh\n",
            "[codecarbon INFO @ 05:14:56] Energy consumed for all GPUs : 0.003396 kWh. Total GPU Power : 59.610740785031744 W\n",
            "[codecarbon INFO @ 05:14:56] 0.006893 kWh of electricity used since the beginning.\n",
            "[codecarbon INFO @ 05:14:56] 0.015000 g.CO2eq/s mean an estimation of 473.0311946952688 kg.CO2eq/year\n"
          ]
        },
        {
          "output_type": "stream",
          "name": "stdout",
          "text": [
            "\u001b[1m45/45\u001b[0m \u001b[32m━━━━━━━━━━━━━━━━━━━━\u001b[0m\u001b[37m\u001b[0m \u001b[1m22s\u001b[0m 385ms/step - loss: 0.6932 - sparse_categorical_accuracy: 0.5022 - val_loss: 0.6930 - val_sparse_categorical_accuracy: 0.5090\n",
            "Epoch 9/150\n"
          ]
        },
        {
          "output_type": "stream",
          "name": "stderr",
          "text": [
            "[codecarbon INFO @ 05:15:09] Energy consumed for RAM : 0.000541 kWh. RAM Power : 10.0 W\n",
            "[codecarbon INFO @ 05:15:09] Delta energy consumed for CPU with constant : 0.000177 kWh, power : 42.5 W\n",
            "[codecarbon INFO @ 05:15:09] Energy consumed for All CPU : 0.002301 kWh\n",
            "[codecarbon INFO @ 05:15:09] Energy consumed for all GPUs : 0.003137 kWh. Total GPU Power : 61.22036228966442 W\n",
            "[codecarbon INFO @ 05:15:09] 0.005980 kWh of electricity used since the beginning.\n"
          ]
        },
        {
          "output_type": "stream",
          "name": "stdout",
          "text": [
            "\u001b[1m 7/45\u001b[0m \u001b[32m━━━\u001b[0m\u001b[37m━━━━━━━━━━━━━━━━━\u001b[0m \u001b[1m12s\u001b[0m 331ms/step - loss: 0.6934 - sparse_categorical_accuracy: 0.5020"
          ]
        },
        {
          "output_type": "stream",
          "name": "stderr",
          "text": [
            "[codecarbon INFO @ 05:15:11] Energy consumed for RAM : 0.000708 kWh. RAM Power : 10.0 W\n",
            "[codecarbon INFO @ 05:15:11] Delta energy consumed for CPU with constant : 0.000177 kWh, power : 42.5 W\n",
            "[codecarbon INFO @ 05:15:11] Energy consumed for All CPU : 0.003008 kWh\n",
            "[codecarbon INFO @ 05:15:11] Energy consumed for all GPUs : 0.003651 kWh. Total GPU Power : 61.138859085598305 W\n",
            "[codecarbon INFO @ 05:15:11] 0.007367 kWh of electricity used since the beginning.\n"
          ]
        },
        {
          "output_type": "stream",
          "name": "stdout",
          "text": [
            "\u001b[1m44/45\u001b[0m \u001b[32m━━━━━━━━━━━━━━━━━━━\u001b[0m\u001b[37m━\u001b[0m \u001b[1m0s\u001b[0m 337ms/step - loss: 0.6932 - sparse_categorical_accuracy: 0.5058"
          ]
        },
        {
          "output_type": "stream",
          "name": "stderr",
          "text": [
            "[codecarbon INFO @ 05:15:24] Energy consumed for RAM : 0.000583 kWh. RAM Power : 10.0 W\n",
            "[codecarbon INFO @ 05:15:24] Delta energy consumed for CPU with constant : 0.000177 kWh, power : 42.5 W\n",
            "[codecarbon INFO @ 05:15:24] Energy consumed for All CPU : 0.002478 kWh\n",
            "[codecarbon INFO @ 05:15:24] Energy consumed for all GPUs : 0.003427 kWh. Total GPU Power : 69.47989448675992 W\n",
            "[codecarbon INFO @ 05:15:24] 0.006489 kWh of electricity used since the beginning.\n"
          ]
        },
        {
          "output_type": "stream",
          "name": "stdout",
          "text": [
            "\b\b\b\b\b\b\b\b\b\b\b\b\b\b\b\b\b\b\b\b\b\b\b\b\b\b\b\b\b\b\b\b\b\b\b\b\b\b\b\b\b\b\b\b\b\b\b\b\b\b\b\b\b\b\b\b\b\b\b\b\b\b\b\b\b\b\b\b\b\b\b\b\b\b\b\b\b\b\b\b\b\b\b\b\b\b\b\b\b\b\b\b\b\r\u001b[1m45/45\u001b[0m \u001b[32m━━━━━━━━━━━━━━━━━━━━\u001b[0m\u001b[37m\u001b[0m \u001b[1m0s\u001b[0m 337ms/step - loss: 0.6932 - sparse_categorical_accuracy: 0.5060"
          ]
        },
        {
          "output_type": "stream",
          "name": "stderr",
          "text": [
            "[codecarbon INFO @ 05:15:26] Energy consumed for RAM : 0.000749 kWh. RAM Power : 10.0 W\n",
            "[codecarbon INFO @ 05:15:26] Delta energy consumed for CPU with constant : 0.000177 kWh, power : 42.5 W\n",
            "[codecarbon INFO @ 05:15:26] Energy consumed for All CPU : 0.003185 kWh\n",
            "[codecarbon INFO @ 05:15:26] Energy consumed for all GPUs : 0.003935 kWh. Total GPU Power : 68.25395541416589 W\n",
            "[codecarbon INFO @ 05:15:26] 0.007870 kWh of electricity used since the beginning.\n"
          ]
        },
        {
          "output_type": "stream",
          "name": "stdout",
          "text": [
            "\b\b\b\b\b\b\b\b\b\b\b\b\b\b\b\b\b\b\b\b\b\b\b\b\b\b\b\b\b\b\b\b\b\b\b\b\b\b\b\b\b\b\b\b\b\b\b\b\b\b\b\b\b\b\b\b\b\b\b\b\b\b\b\b\b\b\b\b\b\b\b\b\b\b\b\b\b\b\b\b\b\b\b\b\b\b\b\b\b\b\b\b\b\r\u001b[1m45/45\u001b[0m \u001b[32m━━━━━━━━━━━━━━━━━━━━\u001b[0m\u001b[37m\u001b[0m \u001b[1m21s\u001b[0m 396ms/step - loss: 0.6932 - sparse_categorical_accuracy: 0.5061 - val_loss: 0.6930 - val_sparse_categorical_accuracy: 0.5090\n",
            "Epoch 10/150\n",
            "\u001b[1m28/45\u001b[0m \u001b[32m━━━━━━━━━━━━\u001b[0m\u001b[37m━━━━━━━━\u001b[0m \u001b[1m5s\u001b[0m 335ms/step - loss: 0.6936 - sparse_categorical_accuracy: 0.5023"
          ]
        },
        {
          "output_type": "stream",
          "name": "stderr",
          "text": [
            "[codecarbon INFO @ 05:15:39] Energy consumed for RAM : 0.000625 kWh. RAM Power : 10.0 W\n",
            "[codecarbon INFO @ 05:15:39] Delta energy consumed for CPU with constant : 0.000177 kWh, power : 42.5 W\n",
            "[codecarbon INFO @ 05:15:39] Energy consumed for All CPU : 0.002655 kWh\n",
            "[codecarbon INFO @ 05:15:39] Energy consumed for all GPUs : 0.003688 kWh. Total GPU Power : 62.716856227504366 W\n",
            "[codecarbon INFO @ 05:15:39] 0.006968 kWh of electricity used since the beginning.\n"
          ]
        },
        {
          "output_type": "stream",
          "name": "stdout",
          "text": [
            "\u001b[1m36/45\u001b[0m \u001b[32m━━━━━━━━━━━━━━━━\u001b[0m\u001b[37m━━━━\u001b[0m \u001b[1m3s\u001b[0m 335ms/step - loss: 0.6935 - sparse_categorical_accuracy: 0.5038"
          ]
        },
        {
          "output_type": "stream",
          "name": "stderr",
          "text": [
            "[codecarbon INFO @ 05:15:41] Energy consumed for RAM : 0.000791 kWh. RAM Power : 10.0 W\n",
            "[codecarbon INFO @ 05:15:41] Delta energy consumed for CPU with constant : 0.000177 kWh, power : 42.5 W\n",
            "[codecarbon INFO @ 05:15:41] Energy consumed for All CPU : 0.003362 kWh\n",
            "[codecarbon INFO @ 05:15:41] Energy consumed for all GPUs : 0.004202 kWh. Total GPU Power : 64.00863874089568 W\n",
            "[codecarbon INFO @ 05:15:41] 0.008355 kWh of electricity used since the beginning.\n"
          ]
        },
        {
          "output_type": "stream",
          "name": "stdout",
          "text": [
            "\u001b[1m45/45\u001b[0m \u001b[32m━━━━━━━━━━━━━━━━━━━━\u001b[0m\u001b[37m\u001b[0m \u001b[1m19s\u001b[0m 367ms/step - loss: 0.6934 - sparse_categorical_accuracy: 0.5056 - val_loss: 0.6930 - val_sparse_categorical_accuracy: 0.5090\n",
            "Epoch 11/150\n",
            "\u001b[1m24/45\u001b[0m \u001b[32m━━━━━━━━━━\u001b[0m\u001b[37m━━━━━━━━━━\u001b[0m \u001b[1m7s\u001b[0m 335ms/step - loss: 0.6925 - sparse_categorical_accuracy: 0.5212"
          ]
        },
        {
          "output_type": "stream",
          "name": "stderr",
          "text": [
            "[codecarbon INFO @ 05:15:54] Energy consumed for RAM : 0.000666 kWh. RAM Power : 10.0 W\n",
            "[codecarbon INFO @ 05:15:54] Delta energy consumed for CPU with constant : 0.000177 kWh, power : 42.5 W\n",
            "[codecarbon INFO @ 05:15:54] Energy consumed for All CPU : 0.002832 kWh\n",
            "[codecarbon INFO @ 05:15:54] Energy consumed for all GPUs : 0.003978 kWh. Total GPU Power : 69.58309957966807 W\n",
            "[codecarbon INFO @ 05:15:54] 0.007477 kWh of electricity used since the beginning.\n",
            "[codecarbon INFO @ 05:15:54] 0.015307 g.CO2eq/s mean an estimation of 482.72941906389525 kg.CO2eq/year\n"
          ]
        },
        {
          "output_type": "stream",
          "name": "stdout",
          "text": [
            "\u001b[1m31/45\u001b[0m \u001b[32m━━━━━━━━━━━━━\u001b[0m\u001b[37m━━━━━━━\u001b[0m \u001b[1m4s\u001b[0m 334ms/step - loss: 0.6925 - sparse_categorical_accuracy: 0.5197"
          ]
        },
        {
          "output_type": "stream",
          "name": "stderr",
          "text": [
            "[codecarbon INFO @ 05:15:56] Energy consumed for RAM : 0.000833 kWh. RAM Power : 10.0 W\n",
            "[codecarbon INFO @ 05:15:56] Delta energy consumed for CPU with constant : 0.000177 kWh, power : 42.5 W\n",
            "[codecarbon INFO @ 05:15:56] Energy consumed for All CPU : 0.003539 kWh\n",
            "[codecarbon INFO @ 05:15:56] Energy consumed for all GPUs : 0.004491 kWh. Total GPU Power : 69.56182338964739 W\n",
            "[codecarbon INFO @ 05:15:56] 0.008864 kWh of electricity used since the beginning.\n"
          ]
        },
        {
          "output_type": "stream",
          "name": "stdout",
          "text": [
            "\u001b[1m45/45\u001b[0m \u001b[32m━━━━━━━━━━━━━━━━━━━━\u001b[0m\u001b[37m\u001b[0m \u001b[1m16s\u001b[0m 365ms/step - loss: 0.6926 - sparse_categorical_accuracy: 0.5194 - val_loss: 0.6930 - val_sparse_categorical_accuracy: 0.5090\n",
            "Epoch 12/150\n",
            "\u001b[1m20/45\u001b[0m \u001b[32m━━━━━━━━\u001b[0m\u001b[37m━━━━━━━━━━━━\u001b[0m \u001b[1m8s\u001b[0m 331ms/step - loss: 0.6922 - sparse_categorical_accuracy: 0.5250"
          ]
        },
        {
          "output_type": "stream",
          "name": "stderr",
          "text": [
            "[codecarbon INFO @ 05:16:09] Energy consumed for RAM : 0.000708 kWh. RAM Power : 10.0 W\n",
            "[codecarbon INFO @ 05:16:09] Delta energy consumed for CPU with constant : 0.000177 kWh, power : 42.5 W\n",
            "[codecarbon INFO @ 05:16:09] Energy consumed for All CPU : 0.003009 kWh\n",
            "[codecarbon INFO @ 05:16:09] Energy consumed for all GPUs : 0.004268 kWh. Total GPU Power : 69.53309414231491 W\n",
            "[codecarbon INFO @ 05:16:09] 0.007985 kWh of electricity used since the beginning.\n"
          ]
        },
        {
          "output_type": "stream",
          "name": "stdout",
          "text": [
            "\u001b[1m27/45\u001b[0m \u001b[32m━━━━━━━━━━━━\u001b[0m\u001b[37m━━━━━━━━\u001b[0m \u001b[1m5s\u001b[0m 331ms/step - loss: 0.6923 - sparse_categorical_accuracy: 0.5238"
          ]
        },
        {
          "output_type": "stream",
          "name": "stderr",
          "text": [
            "[codecarbon INFO @ 05:16:11] Energy consumed for RAM : 0.000874 kWh. RAM Power : 10.0 W\n",
            "[codecarbon INFO @ 05:16:11] Delta energy consumed for CPU with constant : 0.000177 kWh, power : 42.5 W\n",
            "[codecarbon INFO @ 05:16:11] Energy consumed for All CPU : 0.003717 kWh\n",
            "[codecarbon INFO @ 05:16:11] Energy consumed for all GPUs : 0.004781 kWh. Total GPU Power : 69.51174011374869 W\n",
            "[codecarbon INFO @ 05:16:11] 0.009372 kWh of electricity used since the beginning.\n"
          ]
        },
        {
          "output_type": "stream",
          "name": "stdout",
          "text": [
            "\u001b[1m45/45\u001b[0m \u001b[32m━━━━━━━━━━━━━━━━━━━━\u001b[0m\u001b[37m\u001b[0m \u001b[1m17s\u001b[0m 389ms/step - loss: 0.6925 - sparse_categorical_accuracy: 0.5194 - val_loss: 0.6930 - val_sparse_categorical_accuracy: 0.5090\n",
            "Epoch 13/150\n",
            "\u001b[1m 3/45\u001b[0m \u001b[32m━\u001b[0m\u001b[37m━━━━━━━━━━━━━━━━━━━\u001b[0m \u001b[1m13s\u001b[0m 317ms/step - loss: 0.6929 - sparse_categorical_accuracy: 0.5017"
          ]
        },
        {
          "output_type": "stream",
          "name": "stderr",
          "text": [
            "[codecarbon INFO @ 05:16:24] Energy consumed for RAM : 0.000750 kWh. RAM Power : 10.0 W\n",
            "[codecarbon INFO @ 05:16:24] Delta energy consumed for CPU with constant : 0.000177 kWh, power : 42.5 W\n",
            "[codecarbon INFO @ 05:16:24] Energy consumed for All CPU : 0.003187 kWh\n",
            "[codecarbon INFO @ 05:16:24] Energy consumed for all GPUs : 0.004523 kWh. Total GPU Power : 61.40154285538031 W\n",
            "[codecarbon INFO @ 05:16:24] 0.008460 kWh of electricity used since the beginning.\n"
          ]
        },
        {
          "output_type": "stream",
          "name": "stdout",
          "text": [
            "\u001b[1m11/45\u001b[0m \u001b[32m━━━━\u001b[0m\u001b[37m━━━━━━━━━━━━━━━━\u001b[0m \u001b[1m11s\u001b[0m 324ms/step - loss: 0.6920 - sparse_categorical_accuracy: 0.5230"
          ]
        },
        {
          "output_type": "stream",
          "name": "stderr",
          "text": [
            "[codecarbon INFO @ 05:16:26] Energy consumed for RAM : 0.000916 kWh. RAM Power : 10.0 W\n",
            "[codecarbon INFO @ 05:16:26] Delta energy consumed for CPU with constant : 0.000177 kWh, power : 42.5 W\n",
            "[codecarbon INFO @ 05:16:26] Energy consumed for All CPU : 0.003894 kWh\n",
            "[codecarbon INFO @ 05:16:26] Energy consumed for all GPUs : 0.005037 kWh. Total GPU Power : 61.457000089686616 W\n",
            "[codecarbon INFO @ 05:16:26] 0.009847 kWh of electricity used since the beginning.\n"
          ]
        },
        {
          "output_type": "stream",
          "name": "stdout",
          "text": [
            "\u001b[1m45/45\u001b[0m \u001b[32m━━━━━━━━━━━━━━━━━━━━\u001b[0m\u001b[37m\u001b[0m \u001b[1m0s\u001b[0m 328ms/step - loss: 0.6925 - sparse_categorical_accuracy: 0.5181"
          ]
        },
        {
          "output_type": "stream",
          "name": "stderr",
          "text": [
            "[codecarbon INFO @ 05:16:39] Energy consumed for RAM : 0.000791 kWh. RAM Power : 10.0 W\n",
            "[codecarbon INFO @ 05:16:39] Delta energy consumed for CPU with constant : 0.000177 kWh, power : 42.5 W\n",
            "[codecarbon INFO @ 05:16:39] Energy consumed for All CPU : 0.003364 kWh\n",
            "[codecarbon INFO @ 05:16:39] Energy consumed for all GPUs : 0.004813 kWh. Total GPU Power : 69.43926933299791 W\n",
            "[codecarbon INFO @ 05:16:39] 0.008968 kWh of electricity used since the beginning.\n"
          ]
        },
        {
          "output_type": "stream",
          "name": "stdout",
          "text": [
            "\b\b\b\b\b\b\b\b\b\b\b\b\b\b\b\b\b\b\b\b\b\b\b\b\b\b\b\b\b\b\b\b\b\b\b\b\b\b\b\b\b\b\b\b\b\b\b\b\b\b\b\b\b\b\b\b\b\b\b\b\b\b\b\b\b\b\b\b\b\b\b\b\b\b\b\b\b\b\b\b\b\b\b\b\b\b\b\b\b\b\b\b\b\r\u001b[1m45/45\u001b[0m \u001b[32m━━━━━━━━━━━━━━━━━━━━\u001b[0m\u001b[37m\u001b[0m \u001b[1m20s\u001b[0m 387ms/step - loss: 0.6925 - sparse_categorical_accuracy: 0.5180 - val_loss: 0.6930 - val_sparse_categorical_accuracy: 0.5090\n",
            "Epoch 14/150\n"
          ]
        },
        {
          "output_type": "stream",
          "name": "stderr",
          "text": [
            "[codecarbon INFO @ 05:16:41] Energy consumed for RAM : 0.000958 kWh. RAM Power : 10.0 W\n",
            "[codecarbon INFO @ 05:16:41] Delta energy consumed for CPU with constant : 0.000177 kWh, power : 42.5 W\n",
            "[codecarbon INFO @ 05:16:41] Energy consumed for All CPU : 0.004071 kWh\n",
            "[codecarbon INFO @ 05:16:41] Energy consumed for all GPUs : 0.005309 kWh. Total GPU Power : 65.17465262746488 W\n",
            "[codecarbon INFO @ 05:16:41] 0.010337 kWh of electricity used since the beginning.\n"
          ]
        },
        {
          "output_type": "stream",
          "name": "stdout",
          "text": [
            "\u001b[1m32/45\u001b[0m \u001b[32m━━━━━━━━━━━━━━\u001b[0m\u001b[37m━━━━━━\u001b[0m \u001b[1m4s\u001b[0m 332ms/step - loss: 0.6935 - sparse_categorical_accuracy: 0.4987"
          ]
        },
        {
          "output_type": "stream",
          "name": "stderr",
          "text": [
            "[codecarbon INFO @ 05:16:54] Energy consumed for RAM : 0.000833 kWh. RAM Power : 10.0 W\n",
            "[codecarbon INFO @ 05:16:54] Delta energy consumed for CPU with constant : 0.000177 kWh, power : 42.5 W\n",
            "[codecarbon INFO @ 05:16:54] Energy consumed for All CPU : 0.003541 kWh\n",
            "[codecarbon INFO @ 05:16:54] Energy consumed for all GPUs : 0.005067 kWh. Total GPU Power : 61.02151822257919 W\n",
            "[codecarbon INFO @ 05:16:54] 0.009440 kWh of electricity used since the beginning.\n"
          ]
        },
        {
          "output_type": "stream",
          "name": "stdout",
          "text": [
            "\u001b[1m39/45\u001b[0m \u001b[32m━━━━━━━━━━━━━━━━━\u001b[0m\u001b[37m━━━\u001b[0m \u001b[1m1s\u001b[0m 333ms/step - loss: 0.6933 - sparse_categorical_accuracy: 0.5020"
          ]
        },
        {
          "output_type": "stream",
          "name": "stderr",
          "text": [
            "[codecarbon INFO @ 05:16:56] Energy consumed for RAM : 0.000999 kWh. RAM Power : 10.0 W\n",
            "[codecarbon INFO @ 05:16:56] Delta energy consumed for CPU with constant : 0.000177 kWh, power : 42.5 W\n",
            "[codecarbon INFO @ 05:16:56] Energy consumed for All CPU : 0.004248 kWh\n",
            "[codecarbon INFO @ 05:16:56] Energy consumed for all GPUs : 0.005580 kWh. Total GPU Power : 65.26196398188532 W\n",
            "[codecarbon INFO @ 05:16:56] 0.010827 kWh of electricity used since the beginning.\n",
            "[codecarbon INFO @ 05:16:56] 0.015431 g.CO2eq/s mean an estimation of 486.63439916385846 kg.CO2eq/year\n"
          ]
        },
        {
          "output_type": "stream",
          "name": "stdout",
          "text": [
            "\u001b[1m45/45\u001b[0m \u001b[32m━━━━━━━━━━━━━━━━━━━━\u001b[0m\u001b[37m\u001b[0m \u001b[1m20s\u001b[0m 366ms/step - loss: 0.6932 - sparse_categorical_accuracy: 0.5040 - val_loss: 0.6930 - val_sparse_categorical_accuracy: 0.5090\n",
            "Epoch 15/150\n",
            "\u001b[1m15/45\u001b[0m \u001b[32m━━━━━━\u001b[0m\u001b[37m━━━━━━━━━━━━━━\u001b[0m \u001b[1m10s\u001b[0m 335ms/step - loss: 0.6931 - sparse_categorical_accuracy: 0.5070"
          ]
        },
        {
          "output_type": "stream",
          "name": "stderr",
          "text": [
            "[codecarbon INFO @ 05:17:09] Energy consumed for RAM : 0.000875 kWh. RAM Power : 10.0 W\n",
            "[codecarbon INFO @ 05:17:09] Delta energy consumed for CPU with constant : 0.000177 kWh, power : 42.5 W\n",
            "[codecarbon INFO @ 05:17:09] Energy consumed for All CPU : 0.003718 kWh\n",
            "[codecarbon INFO @ 05:17:09] Energy consumed for all GPUs : 0.005322 kWh. Total GPU Power : 61.26518533633804 W\n",
            "[codecarbon INFO @ 05:17:09] 0.009915 kWh of electricity used since the beginning.\n"
          ]
        },
        {
          "output_type": "stream",
          "name": "stdout",
          "text": [
            "\u001b[1m23/45\u001b[0m \u001b[32m━━━━━━━━━━\u001b[0m\u001b[37m━━━━━━━━━━\u001b[0m \u001b[1m7s\u001b[0m 336ms/step - loss: 0.6929 - sparse_categorical_accuracy: 0.5121"
          ]
        },
        {
          "output_type": "stream",
          "name": "stderr",
          "text": [
            "[codecarbon INFO @ 05:17:11] Energy consumed for RAM : 0.001041 kWh. RAM Power : 10.0 W\n",
            "[codecarbon INFO @ 05:17:11] Delta energy consumed for CPU with constant : 0.000177 kWh, power : 42.5 W\n",
            "[codecarbon INFO @ 05:17:11] Energy consumed for All CPU : 0.004425 kWh\n",
            "[codecarbon INFO @ 05:17:11] Energy consumed for all GPUs : 0.005836 kWh. Total GPU Power : 61.29394351274873 W\n",
            "[codecarbon INFO @ 05:17:11] 0.011301 kWh of electricity used since the beginning.\n"
          ]
        },
        {
          "output_type": "stream",
          "name": "stdout",
          "text": [
            "\u001b[1m45/45\u001b[0m \u001b[32m━━━━━━━━━━━━━━━━━━━━\u001b[0m\u001b[37m\u001b[0m \u001b[1m21s\u001b[0m 369ms/step - loss: 0.6928 - sparse_categorical_accuracy: 0.5139 - val_loss: 0.6930 - val_sparse_categorical_accuracy: 0.5090\n",
            "Epoch 16/150\n"
          ]
        },
        {
          "output_type": "stream",
          "name": "stderr",
          "text": [
            "[codecarbon INFO @ 05:17:24] Energy consumed for RAM : 0.000916 kWh. RAM Power : 10.0 W\n",
            "[codecarbon INFO @ 05:17:24] Delta energy consumed for CPU with constant : 0.000177 kWh, power : 42.5 W\n",
            "[codecarbon INFO @ 05:17:24] Energy consumed for All CPU : 0.003895 kWh\n",
            "[codecarbon INFO @ 05:17:24] Energy consumed for all GPUs : 0.005582 kWh. Total GPU Power : 62.4300214037536 W\n",
            "[codecarbon INFO @ 05:17:24] 0.010393 kWh of electricity used since the beginning.\n"
          ]
        },
        {
          "output_type": "stream",
          "name": "stdout",
          "text": [
            "\u001b[1m 6/45\u001b[0m \u001b[32m━━\u001b[0m\u001b[37m━━━━━━━━━━━━━━━━━━\u001b[0m \u001b[1m12s\u001b[0m 327ms/step - loss: 0.6911 - sparse_categorical_accuracy: 0.5452"
          ]
        },
        {
          "output_type": "stream",
          "name": "stderr",
          "text": [
            "[codecarbon INFO @ 05:17:26] Energy consumed for RAM : 0.001083 kWh. RAM Power : 10.0 W\n",
            "[codecarbon INFO @ 05:17:26] Delta energy consumed for CPU with constant : 0.000177 kWh, power : 42.5 W\n",
            "[codecarbon INFO @ 05:17:26] Energy consumed for All CPU : 0.004602 kWh\n",
            "[codecarbon INFO @ 05:17:26] Energy consumed for all GPUs : 0.006094 kWh. Total GPU Power : 62.04348196551903 W\n",
            "[codecarbon INFO @ 05:17:26] 0.011778 kWh of electricity used since the beginning.\n"
          ]
        },
        {
          "output_type": "stream",
          "name": "stdout",
          "text": [
            "\u001b[1m44/45\u001b[0m \u001b[32m━━━━━━━━━━━━━━━━━━━\u001b[0m\u001b[37m━\u001b[0m \u001b[1m0s\u001b[0m 333ms/step - loss: 0.6921 - sparse_categorical_accuracy: 0.5270"
          ]
        },
        {
          "output_type": "stream",
          "name": "stderr",
          "text": [
            "[codecarbon INFO @ 05:17:39] Energy consumed for RAM : 0.000958 kWh. RAM Power : 10.0 W\n",
            "[codecarbon INFO @ 05:17:39] Delta energy consumed for CPU with constant : 0.000177 kWh, power : 42.5 W\n",
            "[codecarbon INFO @ 05:17:39] Energy consumed for All CPU : 0.004072 kWh\n",
            "[codecarbon INFO @ 05:17:39] Energy consumed for all GPUs : 0.005871 kWh. Total GPU Power : 69.19013244989256 W\n",
            "[codecarbon INFO @ 05:17:39] 0.010900 kWh of electricity used since the beginning.\n"
          ]
        },
        {
          "output_type": "stream",
          "name": "stdout",
          "text": [
            "\u001b[1m45/45\u001b[0m \u001b[32m━━━━━━━━━━━━━━━━━━━━\u001b[0m\u001b[37m\u001b[0m \u001b[1m20s\u001b[0m 365ms/step - loss: 0.6922 - sparse_categorical_accuracy: 0.5264 - val_loss: 0.6930 - val_sparse_categorical_accuracy: 0.5090\n",
            "Epoch 17/150\n"
          ]
        },
        {
          "output_type": "stream",
          "name": "stderr",
          "text": [
            "[codecarbon INFO @ 05:17:41] Energy consumed for RAM : 0.001124 kWh. RAM Power : 10.0 W\n",
            "[codecarbon INFO @ 05:17:41] Delta energy consumed for CPU with constant : 0.000177 kWh, power : 42.5 W\n",
            "[codecarbon INFO @ 05:17:41] Energy consumed for All CPU : 0.004779 kWh\n",
            "[codecarbon INFO @ 05:17:41] Energy consumed for all GPUs : 0.006378 kWh. Total GPU Power : 68.20952214339854 W\n",
            "[codecarbon INFO @ 05:17:41] 0.012281 kWh of electricity used since the beginning.\n"
          ]
        },
        {
          "output_type": "stream",
          "name": "stdout",
          "text": [
            "\u001b[1m28/45\u001b[0m \u001b[32m━━━━━━━━━━━━\u001b[0m\u001b[37m━━━━━━━━\u001b[0m \u001b[1m5s\u001b[0m 330ms/step - loss: 0.6933 - sparse_categorical_accuracy: 0.5078"
          ]
        },
        {
          "output_type": "stream",
          "name": "stderr",
          "text": [
            "[codecarbon INFO @ 05:17:54] Energy consumed for RAM : 0.001000 kWh. RAM Power : 10.0 W\n",
            "[codecarbon INFO @ 05:17:54] Delta energy consumed for CPU with constant : 0.000177 kWh, power : 42.5 W\n",
            "[codecarbon INFO @ 05:17:54] Energy consumed for All CPU : 0.004249 kWh\n",
            "[codecarbon INFO @ 05:17:54] Energy consumed for all GPUs : 0.006127 kWh. Total GPU Power : 61.52588342197619 W\n",
            "[codecarbon INFO @ 05:17:54] 0.011375 kWh of electricity used since the beginning.\n",
            "[codecarbon INFO @ 05:17:54] 0.015292 g.CO2eq/s mean an estimation of 482.2435698667144 kg.CO2eq/year\n"
          ]
        },
        {
          "output_type": "stream",
          "name": "stdout",
          "text": [
            "\u001b[1m35/45\u001b[0m \u001b[32m━━━━━━━━━━━━━━━\u001b[0m\u001b[37m━━━━━\u001b[0m \u001b[1m3s\u001b[0m 331ms/step - loss: 0.6933 - sparse_categorical_accuracy: 0.5071"
          ]
        },
        {
          "output_type": "stream",
          "name": "stderr",
          "text": [
            "[codecarbon INFO @ 05:17:56] Energy consumed for RAM : 0.001166 kWh. RAM Power : 10.0 W\n",
            "[codecarbon INFO @ 05:17:56] Delta energy consumed for CPU with constant : 0.000177 kWh, power : 42.5 W\n",
            "[codecarbon INFO @ 05:17:56] Energy consumed for All CPU : 0.004956 kWh\n",
            "[codecarbon INFO @ 05:17:56] Energy consumed for all GPUs : 0.006640 kWh. Total GPU Power : 62.90814035390521 W\n",
            "[codecarbon INFO @ 05:17:56] 0.012762 kWh of electricity used since the beginning.\n"
          ]
        },
        {
          "output_type": "stream",
          "name": "stdout",
          "text": [
            "\u001b[1m45/45\u001b[0m \u001b[32m━━━━━━━━━━━━━━━━━━━━\u001b[0m\u001b[37m\u001b[0m \u001b[1m22s\u001b[0m 390ms/step - loss: 0.6932 - sparse_categorical_accuracy: 0.5084 - val_loss: 0.6930 - val_sparse_categorical_accuracy: 0.5090\n",
            "Epoch 18/150\n",
            "\u001b[1m11/45\u001b[0m \u001b[32m━━━━\u001b[0m\u001b[37m━━━━━━━━━━━━━━━━\u001b[0m \u001b[1m11s\u001b[0m 330ms/step - loss: 0.6916 - sparse_categorical_accuracy: 0.5371"
          ]
        },
        {
          "output_type": "stream",
          "name": "stderr",
          "text": [
            "[codecarbon INFO @ 05:18:09] Energy consumed for RAM : 0.001041 kWh. RAM Power : 10.0 W\n",
            "[codecarbon INFO @ 05:18:09] Delta energy consumed for CPU with constant : 0.000177 kWh, power : 42.5 W\n",
            "[codecarbon INFO @ 05:18:09] Energy consumed for All CPU : 0.004426 kWh\n",
            "[codecarbon INFO @ 05:18:09] Energy consumed for all GPUs : 0.006384 kWh. Total GPU Power : 61.722126559229615 W\n",
            "[codecarbon INFO @ 05:18:09] 0.011851 kWh of electricity used since the beginning.\n"
          ]
        },
        {
          "output_type": "stream",
          "name": "stdout",
          "text": [
            "\u001b[1m19/45\u001b[0m \u001b[32m━━━━━━━━\u001b[0m\u001b[37m━━━━━━━━━━━━\u001b[0m \u001b[1m8s\u001b[0m 330ms/step - loss: 0.6920 - sparse_categorical_accuracy: 0.5301"
          ]
        },
        {
          "output_type": "stream",
          "name": "stderr",
          "text": [
            "[codecarbon INFO @ 05:18:11] Energy consumed for RAM : 0.001208 kWh. RAM Power : 10.0 W\n",
            "[codecarbon INFO @ 05:18:11] Delta energy consumed for CPU with constant : 0.000177 kWh, power : 42.5 W\n",
            "[codecarbon INFO @ 05:18:11] Energy consumed for All CPU : 0.005133 kWh\n",
            "[codecarbon INFO @ 05:18:11] Energy consumed for all GPUs : 0.006898 kWh. Total GPU Power : 61.75626928522879 W\n",
            "[codecarbon INFO @ 05:18:11] 0.013238 kWh of electricity used since the beginning.\n"
          ]
        },
        {
          "output_type": "stream",
          "name": "stdout",
          "text": [
            "\u001b[1m45/45\u001b[0m \u001b[32m━━━━━━━━━━━━━━━━━━━━\u001b[0m\u001b[37m\u001b[0m \u001b[1m19s\u001b[0m 365ms/step - loss: 0.6925 - sparse_categorical_accuracy: 0.5213 - val_loss: 0.6930 - val_sparse_categorical_accuracy: 0.5090\n",
            "Epoch 19/150\n"
          ]
        },
        {
          "output_type": "stream",
          "name": "stderr",
          "text": [
            "[codecarbon INFO @ 05:18:24] Energy consumed for RAM : 0.001083 kWh. RAM Power : 10.0 W\n",
            "[codecarbon INFO @ 05:18:24] Delta energy consumed for CPU with constant : 0.000177 kWh, power : 42.5 W\n",
            "[codecarbon INFO @ 05:18:24] Energy consumed for All CPU : 0.004603 kWh\n",
            "[codecarbon INFO @ 05:18:24] Energy consumed for all GPUs : 0.006653 kWh. Total GPU Power : 64.65293185953719 W\n",
            "[codecarbon INFO @ 05:18:24] 0.012339 kWh of electricity used since the beginning.\n"
          ]
        },
        {
          "output_type": "stream",
          "name": "stdout",
          "text": [
            "\u001b[1m 2/45\u001b[0m \u001b[37m━━━━━━━━━━━━━━━━━━━━\u001b[0m \u001b[1m13s\u001b[0m 318ms/step - loss: 0.6909 - sparse_categorical_accuracy: 0.5508"
          ]
        },
        {
          "output_type": "stream",
          "name": "stderr",
          "text": [
            "[codecarbon INFO @ 05:18:26] Energy consumed for RAM : 0.001249 kWh. RAM Power : 10.0 W\n",
            "[codecarbon INFO @ 05:18:26] Delta energy consumed for CPU with constant : 0.000177 kWh, power : 42.5 W\n",
            "[codecarbon INFO @ 05:18:26] Energy consumed for All CPU : 0.005310 kWh\n",
            "[codecarbon INFO @ 05:18:26] Energy consumed for all GPUs : 0.007153 kWh. Total GPU Power : 61.372500493989385 W\n",
            "[codecarbon INFO @ 05:18:26] 0.013712 kWh of electricity used since the beginning.\n"
          ]
        },
        {
          "output_type": "stream",
          "name": "stdout",
          "text": [
            "\u001b[1m40/45\u001b[0m \u001b[32m━━━━━━━━━━━━━━━━━\u001b[0m\u001b[37m━━━\u001b[0m \u001b[1m1s\u001b[0m 333ms/step - loss: 0.6930 - sparse_categorical_accuracy: 0.5114"
          ]
        },
        {
          "output_type": "stream",
          "name": "stderr",
          "text": [
            "[codecarbon INFO @ 05:18:39] Energy consumed for RAM : 0.001125 kWh. RAM Power : 10.0 W\n",
            "[codecarbon INFO @ 05:18:39] Delta energy consumed for CPU with constant : 0.000177 kWh, power : 42.5 W\n",
            "[codecarbon INFO @ 05:18:39] Energy consumed for All CPU : 0.004780 kWh\n",
            "[codecarbon INFO @ 05:18:39] Energy consumed for all GPUs : 0.006930 kWh. Total GPU Power : 66.26823577480485 W\n",
            "[codecarbon INFO @ 05:18:39] 0.012834 kWh of electricity used since the beginning.\n"
          ]
        },
        {
          "output_type": "stream",
          "name": "stdout",
          "text": [
            "\u001b[1m45/45\u001b[0m \u001b[32m━━━━━━━━━━━━━━━━━━━━\u001b[0m\u001b[37m\u001b[0m \u001b[1m0s\u001b[0m 333ms/step - loss: 0.6930 - sparse_categorical_accuracy: 0.5115"
          ]
        },
        {
          "output_type": "stream",
          "name": "stderr",
          "text": [
            "[codecarbon INFO @ 05:18:41] Energy consumed for RAM : 0.001291 kWh. RAM Power : 10.0 W\n",
            "[codecarbon INFO @ 05:18:41] Delta energy consumed for CPU with constant : 0.000177 kWh, power : 42.5 W\n",
            "[codecarbon INFO @ 05:18:41] Energy consumed for All CPU : 0.005487 kWh\n",
            "[codecarbon INFO @ 05:18:41] Energy consumed for all GPUs : 0.007443 kWh. Total GPU Power : 69.5790390110514 W\n",
            "[codecarbon INFO @ 05:18:41] 0.014221 kWh of electricity used since the beginning.\n"
          ]
        },
        {
          "output_type": "stream",
          "name": "stdout",
          "text": [
            "\b\b\b\b\b\b\b\b\b\b\b\b\b\b\b\b\b\b\b\b\b\b\b\b\b\b\b\b\b\b\b\b\b\b\b\b\b\b\b\b\b\b\b\b\b\b\b\b\b\b\b\b\b\b\b\b\b\b\b\b\b\b\b\b\b\b\b\b\b\b\b\b\b\b\b\b\b\b\b\b\b\b\b\b\b\b\b\b\b\b\b\b\b\r\u001b[1m45/45\u001b[0m \u001b[32m━━━━━━━━━━━━━━━━━━━━\u001b[0m\u001b[37m\u001b[0m \u001b[1m22s\u001b[0m 392ms/step - loss: 0.6930 - sparse_categorical_accuracy: 0.5116 - val_loss: 0.6930 - val_sparse_categorical_accuracy: 0.5090\n",
            "Epoch 20/150\n",
            "\u001b[1m32/45\u001b[0m \u001b[32m━━━━━━━━━━━━━━\u001b[0m\u001b[37m━━━━━━\u001b[0m \u001b[1m4s\u001b[0m 335ms/step - loss: 0.6924 - sparse_categorical_accuracy: 0.5191"
          ]
        },
        {
          "output_type": "stream",
          "name": "stderr",
          "text": [
            "[codecarbon INFO @ 05:18:54] Energy consumed for RAM : 0.001166 kWh. RAM Power : 10.0 W\n",
            "[codecarbon INFO @ 05:18:54] Delta energy consumed for CPU with constant : 0.000177 kWh, power : 42.5 W\n",
            "[codecarbon INFO @ 05:18:54] Energy consumed for All CPU : 0.004957 kWh\n",
            "[codecarbon INFO @ 05:18:54] Energy consumed for all GPUs : 0.007212 kWh. Total GPU Power : 67.83892920602788 W\n",
            "[codecarbon INFO @ 05:18:54] 0.013335 kWh of electricity used since the beginning.\n"
          ]
        },
        {
          "output_type": "stream",
          "name": "stdout",
          "text": [
            "\u001b[1m39/45\u001b[0m \u001b[32m━━━━━━━━━━━━━━━━━\u001b[0m\u001b[37m━━━\u001b[0m \u001b[1m2s\u001b[0m 335ms/step - loss: 0.6925 - sparse_categorical_accuracy: 0.5181"
          ]
        },
        {
          "output_type": "stream",
          "name": "stderr",
          "text": [
            "[codecarbon INFO @ 05:18:56] Energy consumed for RAM : 0.001333 kWh. RAM Power : 10.0 W\n",
            "[codecarbon INFO @ 05:18:56] Delta energy consumed for CPU with constant : 0.000177 kWh, power : 42.5 W\n",
            "[codecarbon INFO @ 05:18:56] Energy consumed for All CPU : 0.005664 kWh\n",
            "[codecarbon INFO @ 05:18:56] Energy consumed for all GPUs : 0.007726 kWh. Total GPU Power : 67.77689735978471 W\n",
            "[codecarbon INFO @ 05:18:56] 0.014722 kWh of electricity used since the beginning.\n",
            "[codecarbon INFO @ 05:18:56] 0.015276 g.CO2eq/s mean an estimation of 481.7548520345176 kg.CO2eq/year\n"
          ]
        },
        {
          "output_type": "stream",
          "name": "stdout",
          "text": [
            "\u001b[1m45/45\u001b[0m \u001b[32m━━━━━━━━━━━━━━━━━━━━\u001b[0m\u001b[37m\u001b[0m \u001b[1m16s\u001b[0m 367ms/step - loss: 0.6925 - sparse_categorical_accuracy: 0.5173 - val_loss: 0.6930 - val_sparse_categorical_accuracy: 0.5090\n",
            "Epoch 21/150\n",
            "\u001b[1m28/45\u001b[0m \u001b[32m━━━━━━━━━━━━\u001b[0m\u001b[37m━━━━━━━━\u001b[0m \u001b[1m5s\u001b[0m 334ms/step - loss: 0.6926 - sparse_categorical_accuracy: 0.5200"
          ]
        },
        {
          "output_type": "stream",
          "name": "stderr",
          "text": [
            "[codecarbon INFO @ 05:19:09] Energy consumed for RAM : 0.001208 kWh. RAM Power : 10.0 W\n",
            "[codecarbon INFO @ 05:19:09] Delta energy consumed for CPU with constant : 0.000177 kWh, power : 42.5 W\n",
            "[codecarbon INFO @ 05:19:09] Energy consumed for All CPU : 0.005134 kWh\n",
            "[codecarbon INFO @ 05:19:09] Energy consumed for all GPUs : 0.007502 kWh. Total GPU Power : 69.52264055486363 W\n",
            "[codecarbon INFO @ 05:19:09] 0.013844 kWh of electricity used since the beginning.\n"
          ]
        },
        {
          "output_type": "stream",
          "name": "stdout",
          "text": [
            "\u001b[1m35/45\u001b[0m \u001b[32m━━━━━━━━━━━━━━━\u001b[0m\u001b[37m━━━━━\u001b[0m \u001b[1m3s\u001b[0m 333ms/step - loss: 0.6926 - sparse_categorical_accuracy: 0.5188"
          ]
        },
        {
          "output_type": "stream",
          "name": "stderr",
          "text": [
            "[codecarbon INFO @ 05:19:11] Energy consumed for RAM : 0.001374 kWh. RAM Power : 10.0 W\n",
            "[codecarbon INFO @ 05:19:11] Delta energy consumed for CPU with constant : 0.000177 kWh, power : 42.5 W\n",
            "[codecarbon INFO @ 05:19:11] Energy consumed for All CPU : 0.005841 kWh\n",
            "[codecarbon INFO @ 05:19:11] Energy consumed for all GPUs : 0.008015 kWh. Total GPU Power : 69.61831804674584 W\n",
            "[codecarbon INFO @ 05:19:11] 0.015230 kWh of electricity used since the beginning.\n"
          ]
        },
        {
          "output_type": "stream",
          "name": "stdout",
          "text": [
            "\u001b[1m45/45\u001b[0m \u001b[32m━━━━━━━━━━━━━━━━━━━━\u001b[0m\u001b[37m\u001b[0m \u001b[1m16s\u001b[0m 365ms/step - loss: 0.6927 - sparse_categorical_accuracy: 0.5178 - val_loss: 0.6930 - val_sparse_categorical_accuracy: 0.5090\n",
            "Epoch 22/150\n",
            "\u001b[1m24/45\u001b[0m \u001b[32m━━━━━━━━━━\u001b[0m\u001b[37m━━━━━━━━━━\u001b[0m \u001b[1m6s\u001b[0m 331ms/step - loss: 0.6929 - sparse_categorical_accuracy: 0.5072"
          ]
        },
        {
          "output_type": "stream",
          "name": "stderr",
          "text": [
            "[codecarbon INFO @ 05:19:24] Energy consumed for RAM : 0.001250 kWh. RAM Power : 10.0 W\n",
            "[codecarbon INFO @ 05:19:24] Delta energy consumed for CPU with constant : 0.000177 kWh, power : 42.5 W\n",
            "[codecarbon INFO @ 05:19:24] Energy consumed for All CPU : 0.005311 kWh\n",
            "[codecarbon INFO @ 05:19:24] Energy consumed for all GPUs : 0.007794 kWh. Total GPU Power : 70.10914546009946 W\n",
            "[codecarbon INFO @ 05:19:24] 0.014354 kWh of electricity used since the beginning.\n"
          ]
        },
        {
          "output_type": "stream",
          "name": "stdout",
          "text": [
            "\u001b[1m31/45\u001b[0m \u001b[32m━━━━━━━━━━━━━\u001b[0m\u001b[37m━━━━━━━\u001b[0m \u001b[1m4s\u001b[0m 331ms/step - loss: 0.6929 - sparse_categorical_accuracy: 0.5076"
          ]
        },
        {
          "output_type": "stream",
          "name": "stderr",
          "text": [
            "[codecarbon INFO @ 05:19:26] Energy consumed for RAM : 0.001416 kWh. RAM Power : 10.0 W\n",
            "[codecarbon INFO @ 05:19:26] Delta energy consumed for CPU with constant : 0.000177 kWh, power : 42.5 W\n",
            "[codecarbon INFO @ 05:19:26] Energy consumed for All CPU : 0.006018 kWh\n",
            "[codecarbon INFO @ 05:19:26] Energy consumed for all GPUs : 0.008305 kWh. Total GPU Power : 69.57940219779168 W\n",
            "[codecarbon INFO @ 05:19:26] 0.015739 kWh of electricity used since the beginning.\n"
          ]
        },
        {
          "output_type": "stream",
          "name": "stdout",
          "text": [
            "\u001b[1m45/45\u001b[0m \u001b[32m━━━━━━━━━━━━━━━━━━━━\u001b[0m\u001b[37m\u001b[0m \u001b[1m17s\u001b[0m 390ms/step - loss: 0.6928 - sparse_categorical_accuracy: 0.5102 - val_loss: 0.6930 - val_sparse_categorical_accuracy: 0.5090\n",
            "Epoch 23/150\n",
            "\u001b[1m 7/45\u001b[0m \u001b[32m━━━\u001b[0m\u001b[37m━━━━━━━━━━━━━━━━━\u001b[0m \u001b[1m12s\u001b[0m 325ms/step - loss: 0.6955 - sparse_categorical_accuracy: 0.4611"
          ]
        },
        {
          "output_type": "stream",
          "name": "stderr",
          "text": [
            "[codecarbon INFO @ 05:19:39] Energy consumed for RAM : 0.001291 kWh. RAM Power : 10.0 W\n",
            "[codecarbon INFO @ 05:19:39] Delta energy consumed for CPU with constant : 0.000177 kWh, power : 42.5 W\n",
            "[codecarbon INFO @ 05:19:39] Energy consumed for All CPU : 0.005488 kWh\n",
            "[codecarbon INFO @ 05:19:39] Energy consumed for all GPUs : 0.008046 kWh. Total GPU Power : 60.58619475978967 W\n",
            "[codecarbon INFO @ 05:19:39] 0.014825 kWh of electricity used since the beginning.\n"
          ]
        },
        {
          "output_type": "stream",
          "name": "stdout",
          "text": [
            "\u001b[1m15/45\u001b[0m \u001b[32m━━━━━━\u001b[0m\u001b[37m━━━━━━━━━━━━━━\u001b[0m \u001b[1m9s\u001b[0m 326ms/step - loss: 0.6949 - sparse_categorical_accuracy: 0.4752 "
          ]
        },
        {
          "output_type": "stream",
          "name": "stderr",
          "text": [
            "[codecarbon INFO @ 05:19:41] Energy consumed for RAM : 0.001457 kWh. RAM Power : 10.0 W\n",
            "[codecarbon INFO @ 05:19:41] Delta energy consumed for CPU with constant : 0.000177 kWh, power : 42.5 W\n",
            "[codecarbon INFO @ 05:19:41] Energy consumed for All CPU : 0.006195 kWh\n",
            "[codecarbon INFO @ 05:19:41] Energy consumed for all GPUs : 0.008560 kWh. Total GPU Power : 61.050425406213726 W\n",
            "[codecarbon INFO @ 05:19:41] 0.016212 kWh of electricity used since the beginning.\n"
          ]
        },
        {
          "output_type": "stream",
          "name": "stdout",
          "text": [
            "\u001b[1m45/45\u001b[0m \u001b[32m━━━━━━━━━━━━━━━━━━━━\u001b[0m\u001b[37m\u001b[0m \u001b[1m20s\u001b[0m 388ms/step - loss: 0.6936 - sparse_categorical_accuracy: 0.5007 - val_loss: 0.6930 - val_sparse_categorical_accuracy: 0.5090\n",
            "Epoch 24/150\n"
          ]
        },
        {
          "output_type": "stream",
          "name": "stderr",
          "text": [
            "[codecarbon INFO @ 05:19:54] Energy consumed for RAM : 0.001333 kWh. RAM Power : 10.0 W\n",
            "[codecarbon INFO @ 05:19:54] Delta energy consumed for CPU with constant : 0.000177 kWh, power : 42.5 W\n",
            "[codecarbon INFO @ 05:19:54] Energy consumed for All CPU : 0.005665 kWh\n",
            "[codecarbon INFO @ 05:19:54] Energy consumed for all GPUs : 0.008329 kWh. Total GPU Power : 67.99533874222544 W\n",
            "[codecarbon INFO @ 05:19:54] 0.015327 kWh of electricity used since the beginning.\n",
            "[codecarbon INFO @ 05:19:54] 0.015501 g.CO2eq/s mean an estimation of 488.85383234197747 kg.CO2eq/year\n",
            "[codecarbon INFO @ 05:19:56] Energy consumed for RAM : 0.001499 kWh. RAM Power : 10.0 W\n",
            "[codecarbon INFO @ 05:19:56] Delta energy consumed for CPU with constant : 0.000177 kWh, power : 42.5 W\n",
            "[codecarbon INFO @ 05:19:56] Energy consumed for All CPU : 0.006372 kWh\n",
            "[codecarbon INFO @ 05:19:56] Energy consumed for all GPUs : 0.008821 kWh. Total GPU Power : 62.84874200259538 W\n",
            "[codecarbon INFO @ 05:19:56] 0.016692 kWh of electricity used since the beginning.\n"
          ]
        },
        {
          "output_type": "stream",
          "name": "stdout",
          "text": [
            "\u001b[1m36/45\u001b[0m \u001b[32m━━━━━━━━━━━━━━━━\u001b[0m\u001b[37m━━━━\u001b[0m \u001b[1m3s\u001b[0m 334ms/step - loss: 0.6931 - sparse_categorical_accuracy: 0.5090"
          ]
        },
        {
          "output_type": "stream",
          "name": "stderr",
          "text": [
            "[codecarbon INFO @ 05:20:09] Energy consumed for RAM : 0.001374 kWh. RAM Power : 10.0 W\n",
            "[codecarbon INFO @ 05:20:09] Delta energy consumed for CPU with constant : 0.000177 kWh, power : 42.5 W\n",
            "[codecarbon INFO @ 05:20:09] Energy consumed for All CPU : 0.005842 kWh\n",
            "[codecarbon INFO @ 05:20:09] Energy consumed for all GPUs : 0.008593 kWh. Total GPU Power : 63.31226611628362 W\n",
            "[codecarbon INFO @ 05:20:09] 0.015809 kWh of electricity used since the beginning.\n"
          ]
        },
        {
          "output_type": "stream",
          "name": "stdout",
          "text": [
            "\u001b[1m43/45\u001b[0m \u001b[32m━━━━━━━━━━━━━━━━━━━\u001b[0m\u001b[37m━\u001b[0m \u001b[1m0s\u001b[0m 334ms/step - loss: 0.6931 - sparse_categorical_accuracy: 0.5091"
          ]
        },
        {
          "output_type": "stream",
          "name": "stderr",
          "text": [
            "[codecarbon INFO @ 05:20:11] Energy consumed for RAM : 0.001541 kWh. RAM Power : 10.0 W\n",
            "[codecarbon INFO @ 05:20:11] Delta energy consumed for CPU with constant : 0.000177 kWh, power : 42.5 W\n",
            "[codecarbon INFO @ 05:20:11] Energy consumed for All CPU : 0.006549 kWh\n",
            "[codecarbon INFO @ 05:20:11] Energy consumed for all GPUs : 0.009107 kWh. Total GPU Power : 68.49498889711795 W\n",
            "[codecarbon INFO @ 05:20:11] 0.017196 kWh of electricity used since the beginning.\n"
          ]
        },
        {
          "output_type": "stream",
          "name": "stdout",
          "text": [
            "\u001b[1m45/45\u001b[0m \u001b[32m━━━━━━━━━━━━━━━━━━━━\u001b[0m\u001b[37m\u001b[0m \u001b[1m20s\u001b[0m 367ms/step - loss: 0.6931 - sparse_categorical_accuracy: 0.5094 - val_loss: 0.6930 - val_sparse_categorical_accuracy: 0.5090\n",
            "Epoch 25/150\n",
            "\u001b[1m31/45\u001b[0m \u001b[32m━━━━━━━━━━━━━\u001b[0m\u001b[37m━━━━━━━\u001b[0m \u001b[1m4s\u001b[0m 339ms/step - loss: 0.6921 - sparse_categorical_accuracy: 0.5295"
          ]
        },
        {
          "output_type": "stream",
          "name": "stderr",
          "text": [
            "[codecarbon INFO @ 05:20:24] Energy consumed for RAM : 0.001416 kWh. RAM Power : 10.0 W\n",
            "[codecarbon INFO @ 05:20:24] Delta energy consumed for CPU with constant : 0.000177 kWh, power : 42.5 W\n",
            "[codecarbon INFO @ 05:20:24] Energy consumed for All CPU : 0.006019 kWh\n",
            "[codecarbon INFO @ 05:20:24] Energy consumed for all GPUs : 0.008883 kWh. Total GPU Power : 69.54924697134538 W\n",
            "[codecarbon INFO @ 05:20:24] 0.016318 kWh of electricity used since the beginning.\n"
          ]
        },
        {
          "output_type": "stream",
          "name": "stdout",
          "text": [
            "\u001b[1m38/45\u001b[0m \u001b[32m━━━━━━━━━━━━━━━━\u001b[0m\u001b[37m━━━━\u001b[0m \u001b[1m2s\u001b[0m 338ms/step - loss: 0.6922 - sparse_categorical_accuracy: 0.5274"
          ]
        },
        {
          "output_type": "stream",
          "name": "stderr",
          "text": [
            "[codecarbon INFO @ 05:20:26] Energy consumed for RAM : 0.001582 kWh. RAM Power : 10.0 W\n",
            "[codecarbon INFO @ 05:20:26] Delta energy consumed for CPU with constant : 0.000177 kWh, power : 42.5 W\n",
            "[codecarbon INFO @ 05:20:26] Energy consumed for All CPU : 0.006726 kWh\n",
            "[codecarbon INFO @ 05:20:26] Energy consumed for all GPUs : 0.009396 kWh. Total GPU Power : 69.52165777735702 W\n",
            "[codecarbon INFO @ 05:20:26] 0.017705 kWh of electricity used since the beginning.\n"
          ]
        },
        {
          "output_type": "stream",
          "name": "stdout",
          "text": [
            "\u001b[1m45/45\u001b[0m \u001b[32m━━━━━━━━━━━━━━━━━━━━\u001b[0m\u001b[37m\u001b[0m \u001b[1m17s\u001b[0m 370ms/step - loss: 0.6923 - sparse_categorical_accuracy: 0.5254 - val_loss: 0.6930 - val_sparse_categorical_accuracy: 0.5090\n",
            "Epoch 26/150\n",
            "\u001b[1m15/45\u001b[0m \u001b[32m━━━━━━\u001b[0m\u001b[37m━━━━━━━━━━━━━━\u001b[0m \u001b[1m9s\u001b[0m 329ms/step - loss: 0.6952 - sparse_categorical_accuracy: 0.4686 "
          ]
        },
        {
          "output_type": "stream",
          "name": "stderr",
          "text": [
            "[codecarbon INFO @ 05:20:39] Energy consumed for RAM : 0.001458 kWh. RAM Power : 10.0 W\n",
            "[codecarbon INFO @ 05:20:39] Delta energy consumed for CPU with constant : 0.000177 kWh, power : 42.5 W\n",
            "[codecarbon INFO @ 05:20:39] Energy consumed for All CPU : 0.006196 kWh\n",
            "[codecarbon INFO @ 05:20:39] Energy consumed for all GPUs : 0.009139 kWh. Total GPU Power : 61.60289068263684 W\n",
            "[codecarbon INFO @ 05:20:39] 0.016793 kWh of electricity used since the beginning.\n"
          ]
        },
        {
          "output_type": "stream",
          "name": "stdout",
          "text": [
            "\u001b[1m22/45\u001b[0m \u001b[32m━━━━━━━━━\u001b[0m\u001b[37m━━━━━━━━━━━\u001b[0m \u001b[1m7s\u001b[0m 329ms/step - loss: 0.6948 - sparse_categorical_accuracy: 0.4757"
          ]
        },
        {
          "output_type": "stream",
          "name": "stderr",
          "text": [
            "[codecarbon INFO @ 05:20:41] Energy consumed for RAM : 0.001624 kWh. RAM Power : 10.0 W\n",
            "[codecarbon INFO @ 05:20:41] Delta energy consumed for CPU with constant : 0.000177 kWh, power : 42.5 W\n",
            "[codecarbon INFO @ 05:20:41] Energy consumed for All CPU : 0.006903 kWh\n",
            "[codecarbon INFO @ 05:20:41] Energy consumed for all GPUs : 0.009653 kWh. Total GPU Power : 61.54772979575628 W\n",
            "[codecarbon INFO @ 05:20:41] 0.018180 kWh of electricity used since the beginning.\n"
          ]
        },
        {
          "output_type": "stream",
          "name": "stdout",
          "text": [
            "\u001b[1m45/45\u001b[0m \u001b[32m━━━━━━━━━━━━━━━━━━━━\u001b[0m\u001b[37m\u001b[0m \u001b[1m20s\u001b[0m 362ms/step - loss: 0.6939 - sparse_categorical_accuracy: 0.4930 - val_loss: 0.6930 - val_sparse_categorical_accuracy: 0.5090\n",
            "Epoch 27/150\n"
          ]
        },
        {
          "output_type": "stream",
          "name": "stderr",
          "text": [
            "[codecarbon INFO @ 05:20:54] Energy consumed for RAM : 0.001499 kWh. RAM Power : 10.0 W\n",
            "[codecarbon INFO @ 05:20:54] Delta energy consumed for CPU with constant : 0.000177 kWh, power : 42.5 W\n",
            "[codecarbon INFO @ 05:20:54] Energy consumed for All CPU : 0.006373 kWh\n",
            "[codecarbon INFO @ 05:20:54] Energy consumed for all GPUs : 0.009398 kWh. Total GPU Power : 62.08784840519514 W\n",
            "[codecarbon INFO @ 05:20:54] 0.017270 kWh of electricity used since the beginning.\n"
          ]
        },
        {
          "output_type": "stream",
          "name": "stdout",
          "text": [
            "\u001b[1m 6/45\u001b[0m \u001b[32m━━\u001b[0m\u001b[37m━━━━━━━━━━━━━━━━━━\u001b[0m \u001b[1m12s\u001b[0m 325ms/step - loss: 0.6933 - sparse_categorical_accuracy: 0.4995"
          ]
        },
        {
          "output_type": "stream",
          "name": "stderr",
          "text": [
            "[codecarbon INFO @ 05:20:56] Energy consumed for RAM : 0.001666 kWh. RAM Power : 10.0 W\n",
            "[codecarbon INFO @ 05:20:56] Delta energy consumed for CPU with constant : 0.000177 kWh, power : 42.5 W\n",
            "[codecarbon INFO @ 05:20:56] Energy consumed for All CPU : 0.007080 kWh\n",
            "[codecarbon INFO @ 05:20:56] Energy consumed for all GPUs : 0.009907 kWh. Total GPU Power : 61.08541213751155 W\n",
            "[codecarbon INFO @ 05:20:56] 0.018653 kWh of electricity used since the beginning.\n",
            "[codecarbon INFO @ 05:20:56] 0.015420 g.CO2eq/s mean an estimation of 486.3004708304749 kg.CO2eq/year\n"
          ]
        },
        {
          "output_type": "stream",
          "name": "stdout",
          "text": [
            "\u001b[1m44/45\u001b[0m \u001b[32m━━━━━━━━━━━━━━━━━━━\u001b[0m\u001b[37m━\u001b[0m \u001b[1m0s\u001b[0m 331ms/step - loss: 0.6924 - sparse_categorical_accuracy: 0.5204"
          ]
        },
        {
          "output_type": "stream",
          "name": "stderr",
          "text": [
            "[codecarbon INFO @ 05:21:09] Energy consumed for RAM : 0.001541 kWh. RAM Power : 10.0 W\n",
            "[codecarbon INFO @ 05:21:09] Delta energy consumed for CPU with constant : 0.000177 kWh, power : 42.5 W\n",
            "[codecarbon INFO @ 05:21:09] Energy consumed for All CPU : 0.006550 kWh\n",
            "[codecarbon INFO @ 05:21:09] Energy consumed for all GPUs : 0.009684 kWh. Total GPU Power : 68.55424661678117 W\n",
            "[codecarbon INFO @ 05:21:09] 0.017775 kWh of electricity used since the beginning.\n"
          ]
        },
        {
          "output_type": "stream",
          "name": "stdout",
          "text": [
            "\u001b[1m45/45\u001b[0m \u001b[32m━━━━━━━━━━━━━━━━━━━━\u001b[0m\u001b[37m\u001b[0m \u001b[1m20s\u001b[0m 363ms/step - loss: 0.6925 - sparse_categorical_accuracy: 0.5201 - val_loss: 0.6930 - val_sparse_categorical_accuracy: 0.5090\n",
            "Epoch 28/150\n"
          ]
        },
        {
          "output_type": "stream",
          "name": "stderr",
          "text": [
            "[codecarbon INFO @ 05:21:11] Energy consumed for RAM : 0.001707 kWh. RAM Power : 10.0 W\n",
            "[codecarbon INFO @ 05:21:11] Delta energy consumed for CPU with constant : 0.000177 kWh, power : 42.5 W\n",
            "[codecarbon INFO @ 05:21:11] Energy consumed for All CPU : 0.007257 kWh\n",
            "[codecarbon INFO @ 05:21:11] Energy consumed for all GPUs : 0.010192 kWh. Total GPU Power : 68.28462597078305 W\n",
            "[codecarbon INFO @ 05:21:11] 0.019156 kWh of electricity used since the beginning.\n"
          ]
        },
        {
          "output_type": "stream",
          "name": "stdout",
          "text": [
            "\u001b[1m27/45\u001b[0m \u001b[32m━━━━━━━━━━━━\u001b[0m\u001b[37m━━━━━━━━\u001b[0m \u001b[1m5s\u001b[0m 332ms/step - loss: 0.6936 - sparse_categorical_accuracy: 0.4962"
          ]
        },
        {
          "output_type": "stream",
          "name": "stderr",
          "text": [
            "[codecarbon INFO @ 05:21:24] Energy consumed for RAM : 0.001583 kWh. RAM Power : 10.0 W\n",
            "[codecarbon INFO @ 05:21:24] Delta energy consumed for CPU with constant : 0.000177 kWh, power : 42.5 W\n",
            "[codecarbon INFO @ 05:21:24] Energy consumed for All CPU : 0.006727 kWh\n",
            "[codecarbon INFO @ 05:21:24] Energy consumed for all GPUs : 0.009938 kWh. Total GPU Power : 61.08469660253211 W\n",
            "[codecarbon INFO @ 05:21:24] 0.018248 kWh of electricity used since the beginning.\n"
          ]
        },
        {
          "output_type": "stream",
          "name": "stdout",
          "text": [
            "\u001b[1m34/45\u001b[0m \u001b[32m━━━━━━━━━━━━━━━\u001b[0m\u001b[37m━━━━━\u001b[0m \u001b[1m3s\u001b[0m 333ms/step - loss: 0.6935 - sparse_categorical_accuracy: 0.4994"
          ]
        },
        {
          "output_type": "stream",
          "name": "stderr",
          "text": [
            "[codecarbon INFO @ 05:21:26] Energy consumed for RAM : 0.001749 kWh. RAM Power : 10.0 W\n",
            "[codecarbon INFO @ 05:21:26] Delta energy consumed for CPU with constant : 0.000177 kWh, power : 42.5 W\n",
            "[codecarbon INFO @ 05:21:26] Energy consumed for All CPU : 0.007434 kWh\n",
            "[codecarbon INFO @ 05:21:26] Energy consumed for all GPUs : 0.010451 kWh. Total GPU Power : 62.382185761865806 W\n",
            "[codecarbon INFO @ 05:21:26] 0.019634 kWh of electricity used since the beginning.\n"
          ]
        },
        {
          "output_type": "stream",
          "name": "stdout",
          "text": [
            "\u001b[1m45/45\u001b[0m \u001b[32m━━━━━━━━━━━━━━━━━━━━\u001b[0m\u001b[37m\u001b[0m \u001b[1m21s\u001b[0m 366ms/step - loss: 0.6933 - sparse_categorical_accuracy: 0.5031 - val_loss: 0.6930 - val_sparse_categorical_accuracy: 0.5090\n",
            "Epoch 29/150\n",
            "\u001b[1m11/45\u001b[0m \u001b[32m━━━━\u001b[0m\u001b[37m━━━━━━━━━━━━━━━━\u001b[0m \u001b[1m11s\u001b[0m 332ms/step - loss: 0.6917 - sparse_categorical_accuracy: 0.5327"
          ]
        },
        {
          "output_type": "stream",
          "name": "stderr",
          "text": [
            "[codecarbon INFO @ 05:21:39] Energy consumed for RAM : 0.001624 kWh. RAM Power : 10.0 W\n",
            "[codecarbon INFO @ 05:21:39] Delta energy consumed for CPU with constant : 0.000177 kWh, power : 42.5 W\n",
            "[codecarbon INFO @ 05:21:39] Energy consumed for All CPU : 0.006904 kWh\n",
            "[codecarbon INFO @ 05:21:39] Energy consumed for all GPUs : 0.010194 kWh. Total GPU Power : 61.36789268043292 W\n",
            "[codecarbon INFO @ 05:21:39] 0.018722 kWh of electricity used since the beginning.\n"
          ]
        },
        {
          "output_type": "stream",
          "name": "stdout",
          "text": [
            "\u001b[1m18/45\u001b[0m \u001b[32m━━━━━━━━\u001b[0m\u001b[37m━━━━━━━━━━━━\u001b[0m \u001b[1m8s\u001b[0m 333ms/step - loss: 0.6914 - sparse_categorical_accuracy: 0.5369"
          ]
        },
        {
          "output_type": "stream",
          "name": "stderr",
          "text": [
            "[codecarbon INFO @ 05:21:41] Energy consumed for RAM : 0.001791 kWh. RAM Power : 10.0 W\n",
            "[codecarbon INFO @ 05:21:41] Delta energy consumed for CPU with constant : 0.000177 kWh, power : 42.5 W\n",
            "[codecarbon INFO @ 05:21:41] Energy consumed for All CPU : 0.007611 kWh\n",
            "[codecarbon INFO @ 05:21:41] Energy consumed for all GPUs : 0.010707 kWh. Total GPU Power : 61.42376398780702 W\n",
            "[codecarbon INFO @ 05:21:41] 0.020109 kWh of electricity used since the beginning.\n"
          ]
        },
        {
          "output_type": "stream",
          "name": "stdout",
          "text": [
            "\u001b[1m45/45\u001b[0m \u001b[32m━━━━━━━━━━━━━━━━━━━━\u001b[0m\u001b[37m\u001b[0m \u001b[1m22s\u001b[0m 393ms/step - loss: 0.6920 - sparse_categorical_accuracy: 0.5273 - val_loss: 0.6930 - val_sparse_categorical_accuracy: 0.5090\n",
            "Epoch 30/150\n"
          ]
        },
        {
          "output_type": "stream",
          "name": "stderr",
          "text": [
            "[codecarbon INFO @ 05:21:54] Energy consumed for RAM : 0.001666 kWh. RAM Power : 10.0 W\n",
            "[codecarbon INFO @ 05:21:54] Delta energy consumed for CPU with constant : 0.000177 kWh, power : 42.5 W\n",
            "[codecarbon INFO @ 05:21:54] Energy consumed for All CPU : 0.007081 kWh\n",
            "[codecarbon INFO @ 05:21:54] Energy consumed for all GPUs : 0.010468 kWh. Total GPU Power : 65.90902269939272 W\n",
            "[codecarbon INFO @ 05:21:54] 0.019215 kWh of electricity used since the beginning.\n",
            "[codecarbon INFO @ 05:21:54] 0.015253 g.CO2eq/s mean an estimation of 481.0181262343116 kg.CO2eq/year\n"
          ]
        },
        {
          "output_type": "stream",
          "name": "stdout",
          "text": [
            "\u001b[1m 2/45\u001b[0m \u001b[37m━━━━━━━━━━━━━━━━━━━━\u001b[0m \u001b[1m13s\u001b[0m 321ms/step - loss: 0.6939 - sparse_categorical_accuracy: 0.4922"
          ]
        },
        {
          "output_type": "stream",
          "name": "stderr",
          "text": [
            "[codecarbon INFO @ 05:21:56] Energy consumed for RAM : 0.001832 kWh. RAM Power : 10.0 W\n",
            "[codecarbon INFO @ 05:21:56] Delta energy consumed for CPU with constant : 0.000177 kWh, power : 42.5 W\n",
            "[codecarbon INFO @ 05:21:56] Energy consumed for All CPU : 0.007788 kWh\n",
            "[codecarbon INFO @ 05:21:56] Energy consumed for all GPUs : 0.010964 kWh. Total GPU Power : 61.68905967678398 W\n",
            "[codecarbon INFO @ 05:21:56] 0.020584 kWh of electricity used since the beginning.\n"
          ]
        },
        {
          "output_type": "stream",
          "name": "stdout",
          "text": [
            "\u001b[1m39/45\u001b[0m \u001b[32m━━━━━━━━━━━━━━━━━\u001b[0m\u001b[37m━━━\u001b[0m \u001b[1m1s\u001b[0m 332ms/step - loss: 0.6927 - sparse_categorical_accuracy: 0.5143"
          ]
        },
        {
          "output_type": "stream",
          "name": "stderr",
          "text": [
            "[codecarbon INFO @ 05:22:09] Energy consumed for RAM : 0.001708 kWh. RAM Power : 10.0 W\n",
            "[codecarbon INFO @ 05:22:09] Delta energy consumed for CPU with constant : 0.000177 kWh, power : 42.5 W\n",
            "[codecarbon INFO @ 05:22:09] Energy consumed for All CPU : 0.007258 kWh\n",
            "[codecarbon INFO @ 05:22:09] Energy consumed for all GPUs : 0.010740 kWh. Total GPU Power : 65.36921876466864 W\n",
            "[codecarbon INFO @ 05:22:09] 0.019706 kWh of electricity used since the beginning.\n"
          ]
        },
        {
          "output_type": "stream",
          "name": "stdout",
          "text": [
            "\u001b[1m45/45\u001b[0m \u001b[32m━━━━━━━━━━━━━━━━━━━━\u001b[0m\u001b[37m\u001b[0m \u001b[1m0s\u001b[0m 333ms/step - loss: 0.6927 - sparse_categorical_accuracy: 0.5142"
          ]
        },
        {
          "output_type": "stream",
          "name": "stderr",
          "text": [
            "[codecarbon INFO @ 05:22:11] Energy consumed for RAM : 0.001874 kWh. RAM Power : 10.0 W\n",
            "[codecarbon INFO @ 05:22:11] Delta energy consumed for CPU with constant : 0.000177 kWh, power : 42.5 W\n",
            "[codecarbon INFO @ 05:22:11] Energy consumed for All CPU : 0.007965 kWh\n",
            "[codecarbon INFO @ 05:22:11] Energy consumed for all GPUs : 0.011254 kWh. Total GPU Power : 69.567650383636 W\n",
            "[codecarbon INFO @ 05:22:11] 0.021093 kWh of electricity used since the beginning.\n"
          ]
        },
        {
          "output_type": "stream",
          "name": "stdout",
          "text": [
            "\b\b\b\b\b\b\b\b\b\b\b\b\b\b\b\b\b\b\b\b\b\b\b\b\b\b\b\b\b\b\b\b\b\b\b\b\b\b\b\b\b\b\b\b\b\b\b\b\b\b\b\b\b\b\b\b\b\b\b\b\b\b\b\b\b\b\b\b\b\b\b\b\b\b\b\b\b\b\b\b\b\b\b\b\b\b\b\b\b\b\b\b\b\r\u001b[1m45/45\u001b[0m \u001b[32m━━━━━━━━━━━━━━━━━━━━\u001b[0m\u001b[37m\u001b[0m \u001b[1m19s\u001b[0m 364ms/step - loss: 0.6927 - sparse_categorical_accuracy: 0.5142 - val_loss: 0.6930 - val_sparse_categorical_accuracy: 0.5090\n",
            "Epoch 31/150\n",
            "\u001b[1m23/45\u001b[0m \u001b[32m━━━━━━━━━━\u001b[0m\u001b[37m━━━━━━━━━━\u001b[0m \u001b[1m7s\u001b[0m 330ms/step - loss: 0.6926 - sparse_categorical_accuracy: 0.5174"
          ]
        },
        {
          "output_type": "stream",
          "name": "stderr",
          "text": [
            "[codecarbon INFO @ 05:22:24] Energy consumed for RAM : 0.001749 kWh. RAM Power : 10.0 W\n",
            "[codecarbon INFO @ 05:22:24] Delta energy consumed for CPU with constant : 0.000177 kWh, power : 42.5 W\n",
            "[codecarbon INFO @ 05:22:24] Energy consumed for All CPU : 0.007435 kWh\n",
            "[codecarbon INFO @ 05:22:24] Energy consumed for all GPUs : 0.010997 kWh. Total GPU Power : 61.687129011279744 W\n",
            "[codecarbon INFO @ 05:22:24] 0.020182 kWh of electricity used since the beginning.\n"
          ]
        },
        {
          "output_type": "stream",
          "name": "stdout",
          "text": [
            "\u001b[1m30/45\u001b[0m \u001b[32m━━━━━━━━━━━━━\u001b[0m\u001b[37m━━━━━━━\u001b[0m \u001b[1m4s\u001b[0m 331ms/step - loss: 0.6926 - sparse_categorical_accuracy: 0.5171"
          ]
        },
        {
          "output_type": "stream",
          "name": "stderr",
          "text": [
            "[codecarbon INFO @ 05:22:26] Energy consumed for RAM : 0.001916 kWh. RAM Power : 10.0 W\n",
            "[codecarbon INFO @ 05:22:26] Delta energy consumed for CPU with constant : 0.000177 kWh, power : 42.5 W\n",
            "[codecarbon INFO @ 05:22:26] Energy consumed for All CPU : 0.008142 kWh\n",
            "[codecarbon INFO @ 05:22:26] Energy consumed for all GPUs : 0.011511 kWh. Total GPU Power : 61.675425458310514 W\n",
            "[codecarbon INFO @ 05:22:26] 0.021568 kWh of electricity used since the beginning.\n"
          ]
        },
        {
          "output_type": "stream",
          "name": "stdout",
          "text": [
            "\u001b[1m45/45\u001b[0m \u001b[32m━━━━━━━━━━━━━━━━━━━━\u001b[0m\u001b[37m\u001b[0m \u001b[1m20s\u001b[0m 364ms/step - loss: 0.6926 - sparse_categorical_accuracy: 0.5163 - val_loss: 0.6930 - val_sparse_categorical_accuracy: 0.5090\n",
            "Epoch 32/150\n",
            "\u001b[1m 6/45\u001b[0m \u001b[32m━━\u001b[0m\u001b[37m━━━━━━━━━━━━━━━━━━\u001b[0m \u001b[1m12s\u001b[0m 327ms/step - loss: 0.6916 - sparse_categorical_accuracy: 0.5284"
          ]
        },
        {
          "output_type": "stream",
          "name": "stderr",
          "text": [
            "[codecarbon INFO @ 05:22:39] Energy consumed for RAM : 0.001791 kWh. RAM Power : 10.0 W\n",
            "[codecarbon INFO @ 05:22:39] Delta energy consumed for CPU with constant : 0.000177 kWh, power : 42.5 W\n",
            "[codecarbon INFO @ 05:22:39] Energy consumed for All CPU : 0.007612 kWh\n",
            "[codecarbon INFO @ 05:22:39] Energy consumed for all GPUs : 0.011253 kWh. Total GPU Power : 61.32825469830044 W\n",
            "[codecarbon INFO @ 05:22:39] 0.020656 kWh of electricity used since the beginning.\n"
          ]
        },
        {
          "output_type": "stream",
          "name": "stdout",
          "text": [
            "\u001b[1m14/45\u001b[0m \u001b[32m━━━━━━\u001b[0m\u001b[37m━━━━━━━━━━━━━━\u001b[0m \u001b[1m10s\u001b[0m 331ms/step - loss: 0.6914 - sparse_categorical_accuracy: 0.5343"
          ]
        },
        {
          "output_type": "stream",
          "name": "stderr",
          "text": [
            "[codecarbon INFO @ 05:22:41] Energy consumed for RAM : 0.001957 kWh. RAM Power : 10.0 W\n",
            "[codecarbon INFO @ 05:22:41] Delta energy consumed for CPU with constant : 0.000177 kWh, power : 42.5 W\n",
            "[codecarbon INFO @ 05:22:41] Energy consumed for All CPU : 0.008319 kWh\n",
            "[codecarbon INFO @ 05:22:41] Energy consumed for all GPUs : 0.011766 kWh. Total GPU Power : 61.29262565202756 W\n",
            "[codecarbon INFO @ 05:22:41] 0.022042 kWh of electricity used since the beginning.\n"
          ]
        },
        {
          "output_type": "stream",
          "name": "stdout",
          "text": [
            "\u001b[1m45/45\u001b[0m \u001b[32m━━━━━━━━━━━━━━━━━━━━\u001b[0m\u001b[37m\u001b[0m \u001b[1m0s\u001b[0m 333ms/step - loss: 0.6920 - sparse_categorical_accuracy: 0.5257"
          ]
        },
        {
          "output_type": "stream",
          "name": "stderr",
          "text": [
            "[codecarbon INFO @ 05:22:54] Energy consumed for RAM : 0.001833 kWh. RAM Power : 10.0 W\n",
            "[codecarbon INFO @ 05:22:54] Delta energy consumed for CPU with constant : 0.000177 kWh, power : 42.5 W\n",
            "[codecarbon INFO @ 05:22:54] Energy consumed for All CPU : 0.007789 kWh\n",
            "[codecarbon INFO @ 05:22:54] Energy consumed for all GPUs : 0.011538 kWh. Total GPU Power : 68.38671300060966 W\n",
            "[codecarbon INFO @ 05:22:54] 0.021160 kWh of electricity used since the beginning.\n"
          ]
        },
        {
          "output_type": "stream",
          "name": "stdout",
          "text": [
            "\b\b\b\b\b\b\b\b\b\b\b\b\b\b\b\b\b\b\b\b\b\b\b\b\b\b\b\b\b\b\b\b\b\b\b\b\b\b\b\b\b\b\b\b\b\b\b\b\b\b\b\b\b\b\b\b\b\b\b\b\b\b\b\b\b\b\b\b\b\b\b\b\b\b\b\b\b\b\b\b\b\b\b\b\b\b\b\b\b\b\b\b\b\r\u001b[1m45/45\u001b[0m \u001b[32m━━━━━━━━━━━━━━━━━━━━\u001b[0m\u001b[37m\u001b[0m \u001b[1m22s\u001b[0m 392ms/step - loss: 0.6920 - sparse_categorical_accuracy: 0.5254 - val_loss: 0.6930 - val_sparse_categorical_accuracy: 0.5090\n",
            "Epoch 33/150\n"
          ]
        },
        {
          "output_type": "stream",
          "name": "stderr",
          "text": [
            "[codecarbon INFO @ 05:22:56] Energy consumed for RAM : 0.001999 kWh. RAM Power : 10.0 W\n",
            "[codecarbon INFO @ 05:22:56] Delta energy consumed for CPU with constant : 0.000177 kWh, power : 42.5 W\n",
            "[codecarbon INFO @ 05:22:56] Energy consumed for All CPU : 0.008496 kWh\n",
            "[codecarbon INFO @ 05:22:56] Energy consumed for all GPUs : 0.012030 kWh. Total GPU Power : 63.35746985883423 W\n",
            "[codecarbon INFO @ 05:22:56] 0.022525 kWh of electricity used since the beginning.\n",
            "[codecarbon INFO @ 05:22:56] 0.015190 g.CO2eq/s mean an estimation of 479.02611051027776 kg.CO2eq/year\n"
          ]
        },
        {
          "output_type": "stream",
          "name": "stdout",
          "text": [
            "\u001b[1m35/45\u001b[0m \u001b[32m━━━━━━━━━━━━━━━\u001b[0m\u001b[37m━━━━━\u001b[0m \u001b[1m3s\u001b[0m 333ms/step - loss: 0.6922 - sparse_categorical_accuracy: 0.5239"
          ]
        },
        {
          "output_type": "stream",
          "name": "stderr",
          "text": [
            "[codecarbon INFO @ 05:23:09] Energy consumed for RAM : 0.001874 kWh. RAM Power : 10.0 W\n",
            "[codecarbon INFO @ 05:23:09] Delta energy consumed for CPU with constant : 0.000177 kWh, power : 42.5 W\n",
            "[codecarbon INFO @ 05:23:09] Energy consumed for All CPU : 0.007966 kWh\n",
            "[codecarbon INFO @ 05:23:09] Energy consumed for all GPUs : 0.011799 kWh. Total GPU Power : 62.72870463380344 W\n",
            "[codecarbon INFO @ 05:23:09] 0.021640 kWh of electricity used since the beginning.\n"
          ]
        },
        {
          "output_type": "stream",
          "name": "stdout",
          "text": [
            "\u001b[1m42/45\u001b[0m \u001b[32m━━━━━━━━━━━━━━━━━━\u001b[0m\u001b[37m━━\u001b[0m \u001b[1m0s\u001b[0m 333ms/step - loss: 0.6923 - sparse_categorical_accuracy: 0.5223"
          ]
        },
        {
          "output_type": "stream",
          "name": "stderr",
          "text": [
            "[codecarbon INFO @ 05:23:11] Energy consumed for RAM : 0.002041 kWh. RAM Power : 10.0 W\n",
            "[codecarbon INFO @ 05:23:11] Delta energy consumed for CPU with constant : 0.000177 kWh, power : 42.5 W\n",
            "[codecarbon INFO @ 05:23:11] Energy consumed for All CPU : 0.008673 kWh\n",
            "[codecarbon INFO @ 05:23:11] Energy consumed for all GPUs : 0.012313 kWh. Total GPU Power : 67.78332907837863 W\n",
            "[codecarbon INFO @ 05:23:11] 0.023026 kWh of electricity used since the beginning.\n"
          ]
        },
        {
          "output_type": "stream",
          "name": "stdout",
          "text": [
            "\u001b[1m45/45\u001b[0m \u001b[32m━━━━━━━━━━━━━━━━━━━━\u001b[0m\u001b[37m\u001b[0m \u001b[1m20s\u001b[0m 392ms/step - loss: 0.6924 - sparse_categorical_accuracy: 0.5215 - val_loss: 0.6930 - val_sparse_categorical_accuracy: 0.5090\n",
            "Epoch 34/150\n",
            "\u001b[1m19/45\u001b[0m \u001b[32m━━━━━━━━\u001b[0m\u001b[37m━━━━━━━━━━━━\u001b[0m \u001b[1m8s\u001b[0m 331ms/step - loss: 0.6924 - sparse_categorical_accuracy: 0.5215"
          ]
        },
        {
          "output_type": "stream",
          "name": "stderr",
          "text": [
            "[codecarbon INFO @ 05:23:24] Energy consumed for RAM : 0.001916 kWh. RAM Power : 10.0 W\n",
            "[codecarbon INFO @ 05:23:24] Delta energy consumed for CPU with constant : 0.000177 kWh, power : 42.5 W\n",
            "[codecarbon INFO @ 05:23:24] Energy consumed for All CPU : 0.008143 kWh\n",
            "[codecarbon INFO @ 05:23:24] Energy consumed for all GPUs : 0.012058 kWh. Total GPU Power : 62.02910924945203 W\n",
            "[codecarbon INFO @ 05:23:24] 0.022117 kWh of electricity used since the beginning.\n"
          ]
        },
        {
          "output_type": "stream",
          "name": "stdout",
          "text": [
            "\u001b[1m26/45\u001b[0m \u001b[32m━━━━━━━━━━━\u001b[0m\u001b[37m━━━━━━━━━\u001b[0m \u001b[1m6s\u001b[0m 332ms/step - loss: 0.6925 - sparse_categorical_accuracy: 0.5201"
          ]
        },
        {
          "output_type": "stream",
          "name": "stderr",
          "text": [
            "[codecarbon INFO @ 05:23:26] Energy consumed for RAM : 0.002082 kWh. RAM Power : 10.0 W\n",
            "[codecarbon INFO @ 05:23:26] Delta energy consumed for CPU with constant : 0.000177 kWh, power : 42.5 W\n",
            "[codecarbon INFO @ 05:23:26] Energy consumed for All CPU : 0.008850 kWh\n",
            "[codecarbon INFO @ 05:23:26] Energy consumed for all GPUs : 0.012571 kWh. Total GPU Power : 62.06566801991783 W\n",
            "[codecarbon INFO @ 05:23:26] 0.023503 kWh of electricity used since the beginning.\n"
          ]
        },
        {
          "output_type": "stream",
          "name": "stdout",
          "text": [
            "\u001b[1m45/45\u001b[0m \u001b[32m━━━━━━━━━━━━━━━━━━━━\u001b[0m\u001b[37m\u001b[0m \u001b[1m19s\u001b[0m 365ms/step - loss: 0.6927 - sparse_categorical_accuracy: 0.5156 - val_loss: 0.6930 - val_sparse_categorical_accuracy: 0.5090\n",
            "Epoch 35/150\n",
            "\u001b[1m 2/45\u001b[0m \u001b[37m━━━━━━━━━━━━━━━━━━━━\u001b[0m \u001b[1m13s\u001b[0m 317ms/step - loss: 0.6916 - sparse_categorical_accuracy: 0.5469"
          ]
        },
        {
          "output_type": "stream",
          "name": "stderr",
          "text": [
            "[codecarbon INFO @ 05:23:39] Energy consumed for RAM : 0.001958 kWh. RAM Power : 10.0 W\n",
            "[codecarbon INFO @ 05:23:39] Delta energy consumed for CPU with constant : 0.000177 kWh, power : 42.5 W\n",
            "[codecarbon INFO @ 05:23:39] Energy consumed for All CPU : 0.008320 kWh\n",
            "[codecarbon INFO @ 05:23:39] Energy consumed for all GPUs : 0.012314 kWh. Total GPU Power : 61.5187158160709 W\n",
            "[codecarbon INFO @ 05:23:39] 0.022592 kWh of electricity used since the beginning.\n"
          ]
        },
        {
          "output_type": "stream",
          "name": "stdout",
          "text": [
            "\u001b[1m10/45\u001b[0m \u001b[32m━━━━\u001b[0m\u001b[37m━━━━━━━━━━━━━━━━\u001b[0m \u001b[1m11s\u001b[0m 330ms/step - loss: 0.6914 - sparse_categorical_accuracy: 0.5444"
          ]
        },
        {
          "output_type": "stream",
          "name": "stderr",
          "text": [
            "[codecarbon INFO @ 05:23:41] Energy consumed for RAM : 0.002124 kWh. RAM Power : 10.0 W\n",
            "[codecarbon INFO @ 05:23:41] Delta energy consumed for CPU with constant : 0.000177 kWh, power : 42.5 W\n",
            "[codecarbon INFO @ 05:23:41] Energy consumed for All CPU : 0.009027 kWh\n",
            "[codecarbon INFO @ 05:23:41] Energy consumed for all GPUs : 0.012827 kWh. Total GPU Power : 61.48637320388818 W\n",
            "[codecarbon INFO @ 05:23:41] 0.023978 kWh of electricity used since the beginning.\n"
          ]
        },
        {
          "output_type": "stream",
          "name": "stdout",
          "text": [
            "\u001b[1m45/45\u001b[0m \u001b[32m━━━━━━━━━━━━━━━━━━━━\u001b[0m\u001b[37m\u001b[0m \u001b[1m0s\u001b[0m 333ms/step - loss: 0.6922 - sparse_categorical_accuracy: 0.5250"
          ]
        },
        {
          "output_type": "stream",
          "name": "stderr",
          "text": [
            "[codecarbon INFO @ 05:23:54] Energy consumed for RAM : 0.001999 kWh. RAM Power : 10.0 W\n",
            "[codecarbon INFO @ 05:23:54] Delta energy consumed for CPU with constant : 0.000177 kWh, power : 42.5 W\n",
            "[codecarbon INFO @ 05:23:54] Energy consumed for All CPU : 0.008497 kWh\n",
            "[codecarbon INFO @ 05:23:54] Energy consumed for all GPUs : 0.012606 kWh. Total GPU Power : 70.06053767622653 W\n",
            "[codecarbon INFO @ 05:23:54] 0.023102 kWh of electricity used since the beginning.\n",
            "[codecarbon INFO @ 05:23:54] 0.015246 g.CO2eq/s mean an estimation of 480.8011297435517 kg.CO2eq/year\n"
          ]
        },
        {
          "output_type": "stream",
          "name": "stdout",
          "text": [
            "\b\b\b\b\b\b\b\b\b\b\b\b\b\b\b\b\b\b\b\b\b\b\b\b\b\b\b\b\b\b\b\b\b\b\b\b\b\b\b\b\b\b\b\b\b\b\b\b\b\b\b\b\b\b\b\b\b\b\b\b\b\b\b\b\b\b\b\b\b\b\b\b\b\b\b\b\b\b\b\b\b\b\b\b\b\b\b\b\b\b\b\b\b\r\u001b[1m45/45\u001b[0m \u001b[32m━━━━━━━━━━━━━━━━━━━━\u001b[0m\u001b[37m\u001b[0m \u001b[1m22s\u001b[0m 392ms/step - loss: 0.6922 - sparse_categorical_accuracy: 0.5248 - val_loss: 0.6930 - val_sparse_categorical_accuracy: 0.5090\n",
            "Epoch 36/150\n"
          ]
        },
        {
          "output_type": "stream",
          "name": "stderr",
          "text": [
            "[codecarbon INFO @ 05:23:56] Energy consumed for RAM : 0.002165 kWh. RAM Power : 10.0 W\n",
            "[codecarbon INFO @ 05:23:56] Delta energy consumed for CPU with constant : 0.000177 kWh, power : 42.5 W\n",
            "[codecarbon INFO @ 05:23:56] Energy consumed for All CPU : 0.009204 kWh\n",
            "[codecarbon INFO @ 05:23:56] Energy consumed for all GPUs : 0.013102 kWh. Total GPU Power : 65.89129278726065 W\n",
            "[codecarbon INFO @ 05:23:56] 0.024471 kWh of electricity used since the beginning.\n"
          ]
        },
        {
          "output_type": "stream",
          "name": "stdout",
          "text": [
            "\u001b[1m31/45\u001b[0m \u001b[32m━━━━━━━━━━━━━\u001b[0m\u001b[37m━━━━━━━\u001b[0m \u001b[1m4s\u001b[0m 332ms/step - loss: 0.6932 - sparse_categorical_accuracy: 0.5066"
          ]
        },
        {
          "output_type": "stream",
          "name": "stderr",
          "text": [
            "[codecarbon INFO @ 05:24:09] Energy consumed for RAM : 0.002041 kWh. RAM Power : 10.0 W\n",
            "[codecarbon INFO @ 05:24:09] Delta energy consumed for CPU with constant : 0.000177 kWh, power : 42.5 W\n",
            "[codecarbon INFO @ 05:24:09] Energy consumed for All CPU : 0.008674 kWh\n",
            "[codecarbon INFO @ 05:24:09] Energy consumed for all GPUs : 0.012857 kWh. Total GPU Power : 60.433581186215164 W\n",
            "[codecarbon INFO @ 05:24:09] 0.023572 kWh of electricity used since the beginning.\n"
          ]
        },
        {
          "output_type": "stream",
          "name": "stdout",
          "text": [
            "\u001b[1m38/45\u001b[0m \u001b[32m━━━━━━━━━━━━━━━━\u001b[0m\u001b[37m━━━━\u001b[0m \u001b[1m2s\u001b[0m 332ms/step - loss: 0.6931 - sparse_categorical_accuracy: 0.5088"
          ]
        },
        {
          "output_type": "stream",
          "name": "stderr",
          "text": [
            "[codecarbon INFO @ 05:24:11] Energy consumed for RAM : 0.002207 kWh. RAM Power : 10.0 W\n",
            "[codecarbon INFO @ 05:24:11] Delta energy consumed for CPU with constant : 0.000177 kWh, power : 42.5 W\n",
            "[codecarbon INFO @ 05:24:11] Energy consumed for All CPU : 0.009381 kWh\n",
            "[codecarbon INFO @ 05:24:11] Energy consumed for all GPUs : 0.013371 kWh. Total GPU Power : 64.56980156274938 W\n",
            "[codecarbon INFO @ 05:24:11] 0.024959 kWh of electricity used since the beginning.\n"
          ]
        },
        {
          "output_type": "stream",
          "name": "stdout",
          "text": [
            "\u001b[1m45/45\u001b[0m \u001b[32m━━━━━━━━━━━━━━━━━━━━\u001b[0m\u001b[37m\u001b[0m \u001b[1m19s\u001b[0m 365ms/step - loss: 0.6931 - sparse_categorical_accuracy: 0.5097 - val_loss: 0.6930 - val_sparse_categorical_accuracy: 0.5090\n",
            "Epoch 37/150\n",
            "\u001b[1m26/45\u001b[0m \u001b[32m━━━━━━━━━━━\u001b[0m\u001b[37m━━━━━━━━━\u001b[0m \u001b[1m6s\u001b[0m 335ms/step - loss: 0.6922 - sparse_categorical_accuracy: 0.5274"
          ]
        },
        {
          "output_type": "stream",
          "name": "stderr",
          "text": [
            "[codecarbon INFO @ 05:24:24] Energy consumed for RAM : 0.002082 kWh. RAM Power : 10.0 W\n",
            "[codecarbon INFO @ 05:24:24] Delta energy consumed for CPU with constant : 0.000177 kWh, power : 42.5 W\n",
            "[codecarbon INFO @ 05:24:24] Energy consumed for All CPU : 0.008851 kWh\n",
            "[codecarbon INFO @ 05:24:24] Energy consumed for all GPUs : 0.013147 kWh. Total GPU Power : 69.46085028809412 W\n",
            "[codecarbon INFO @ 05:24:24] 0.024080 kWh of electricity used since the beginning.\n"
          ]
        },
        {
          "output_type": "stream",
          "name": "stdout",
          "text": [
            "\u001b[1m34/45\u001b[0m \u001b[32m━━━━━━━━━━━━━━━\u001b[0m\u001b[37m━━━━━\u001b[0m \u001b[1m3s\u001b[0m 336ms/step - loss: 0.6923 - sparse_categorical_accuracy: 0.5246"
          ]
        },
        {
          "output_type": "stream",
          "name": "stderr",
          "text": [
            "[codecarbon INFO @ 05:24:26] Energy consumed for RAM : 0.002249 kWh. RAM Power : 10.0 W\n",
            "[codecarbon INFO @ 05:24:26] Delta energy consumed for CPU with constant : 0.000177 kWh, power : 42.5 W\n",
            "[codecarbon INFO @ 05:24:26] Energy consumed for All CPU : 0.009558 kWh\n",
            "[codecarbon INFO @ 05:24:26] Energy consumed for all GPUs : 0.013660 kWh. Total GPU Power : 69.49403294147561 W\n",
            "[codecarbon INFO @ 05:24:26] 0.025467 kWh of electricity used since the beginning.\n"
          ]
        },
        {
          "output_type": "stream",
          "name": "stdout",
          "text": [
            "\u001b[1m45/45\u001b[0m \u001b[32m━━━━━━━━━━━━━━━━━━━━\u001b[0m\u001b[37m\u001b[0m \u001b[1m17s\u001b[0m 367ms/step - loss: 0.6924 - sparse_categorical_accuracy: 0.5215 - val_loss: 0.6930 - val_sparse_categorical_accuracy: 0.5090\n",
            "Epoch 38/150\n",
            "\u001b[1m10/45\u001b[0m \u001b[32m━━━━\u001b[0m\u001b[37m━━━━━━━━━━━━━━━━\u001b[0m \u001b[1m11s\u001b[0m 328ms/step - loss: 0.6959 - sparse_categorical_accuracy: 0.4586"
          ]
        },
        {
          "output_type": "stream",
          "name": "stderr",
          "text": [
            "[codecarbon INFO @ 05:24:39] Energy consumed for RAM : 0.002124 kWh. RAM Power : 10.0 W\n",
            "[codecarbon INFO @ 05:24:39] Delta energy consumed for CPU with constant : 0.000177 kWh, power : 42.5 W\n",
            "[codecarbon INFO @ 05:24:39] Energy consumed for All CPU : 0.009028 kWh\n",
            "[codecarbon INFO @ 05:24:39] Energy consumed for all GPUs : 0.013405 kWh. Total GPU Power : 62.11749187216929 W\n",
            "[codecarbon INFO @ 05:24:39] 0.024558 kWh of electricity used since the beginning.\n"
          ]
        },
        {
          "output_type": "stream",
          "name": "stdout",
          "text": [
            "\u001b[1m18/45\u001b[0m \u001b[32m━━━━━━━━\u001b[0m\u001b[37m━━━━━━━━━━━━\u001b[0m \u001b[1m8s\u001b[0m 329ms/step - loss: 0.6955 - sparse_categorical_accuracy: 0.4656"
          ]
        },
        {
          "output_type": "stream",
          "name": "stderr",
          "text": [
            "[codecarbon INFO @ 05:24:41] Energy consumed for RAM : 0.002290 kWh. RAM Power : 10.0 W\n",
            "[codecarbon INFO @ 05:24:41] Delta energy consumed for CPU with constant : 0.000177 kWh, power : 42.5 W\n",
            "[codecarbon INFO @ 05:24:41] Energy consumed for All CPU : 0.009735 kWh\n",
            "[codecarbon INFO @ 05:24:41] Energy consumed for all GPUs : 0.013919 kWh. Total GPU Power : 62.141851528146596 W\n",
            "[codecarbon INFO @ 05:24:41] 0.025944 kWh of electricity used since the beginning.\n"
          ]
        },
        {
          "output_type": "stream",
          "name": "stdout",
          "text": [
            "\u001b[1m45/45\u001b[0m \u001b[32m━━━━━━━━━━━━━━━━━━━━\u001b[0m\u001b[37m\u001b[0m \u001b[1m20s\u001b[0m 363ms/step - loss: 0.6943 - sparse_categorical_accuracy: 0.4884 - val_loss: 0.6930 - val_sparse_categorical_accuracy: 0.5090\n",
            "Epoch 39/150\n"
          ]
        },
        {
          "output_type": "stream",
          "name": "stderr",
          "text": [
            "[codecarbon INFO @ 05:24:54] Energy consumed for RAM : 0.002166 kWh. RAM Power : 10.0 W\n",
            "[codecarbon INFO @ 05:24:54] Delta energy consumed for CPU with constant : 0.000177 kWh, power : 42.5 W\n",
            "[codecarbon INFO @ 05:24:54] Energy consumed for All CPU : 0.009205 kWh\n",
            "[codecarbon INFO @ 05:24:54] Energy consumed for all GPUs : 0.013677 kWh. Total GPU Power : 65.27665704431445 W\n",
            "[codecarbon INFO @ 05:24:54] 0.025048 kWh of electricity used since the beginning.\n"
          ]
        },
        {
          "output_type": "stream",
          "name": "stdout",
          "text": [
            "\r\u001b[1m 1/45\u001b[0m \u001b[37m━━━━━━━━━━━━━━━━━━━━\u001b[0m \u001b[1m3:19\u001b[0m 5s/step - loss: 0.6914 - sparse_categorical_accuracy: 0.5469"
          ]
        },
        {
          "output_type": "stream",
          "name": "stderr",
          "text": [
            "[codecarbon INFO @ 05:24:56] Energy consumed for RAM : 0.002332 kWh. RAM Power : 10.0 W\n",
            "[codecarbon INFO @ 05:24:56] Delta energy consumed for CPU with constant : 0.000177 kWh, power : 42.5 W\n",
            "[codecarbon INFO @ 05:24:56] Energy consumed for All CPU : 0.009912 kWh\n",
            "[codecarbon INFO @ 05:24:56] Energy consumed for all GPUs : 0.014171 kWh. Total GPU Power : 60.49591911835613 W\n",
            "[codecarbon INFO @ 05:24:56] 0.026415 kWh of electricity used since the beginning.\n",
            "[codecarbon INFO @ 05:24:56] 0.015260 g.CO2eq/s mean an estimation of 481.2463507610749 kg.CO2eq/year\n"
          ]
        },
        {
          "output_type": "stream",
          "name": "stdout",
          "text": [
            "\u001b[1m39/45\u001b[0m \u001b[32m━━━━━━━━━━━━━━━━━\u001b[0m\u001b[37m━━━\u001b[0m \u001b[1m1s\u001b[0m 331ms/step - loss: 0.6928 - sparse_categorical_accuracy: 0.5138"
          ]
        },
        {
          "output_type": "stream",
          "name": "stderr",
          "text": [
            "[codecarbon INFO @ 05:25:09] Energy consumed for RAM : 0.002207 kWh. RAM Power : 10.0 W\n",
            "[codecarbon INFO @ 05:25:09] Delta energy consumed for CPU with constant : 0.000177 kWh, power : 42.5 W\n",
            "[codecarbon INFO @ 05:25:09] Energy consumed for All CPU : 0.009382 kWh\n",
            "[codecarbon INFO @ 05:25:09] Energy consumed for all GPUs : 0.013949 kWh. Total GPU Power : 65.33150440850801 W\n",
            "[codecarbon INFO @ 05:25:09] 0.025539 kWh of electricity used since the beginning.\n"
          ]
        },
        {
          "output_type": "stream",
          "name": "stdout",
          "text": [
            "\u001b[1m45/45\u001b[0m \u001b[32m━━━━━━━━━━━━━━━━━━━━\u001b[0m\u001b[37m\u001b[0m \u001b[1m0s\u001b[0m 332ms/step - loss: 0.6928 - sparse_categorical_accuracy: 0.5137"
          ]
        },
        {
          "output_type": "stream",
          "name": "stderr",
          "text": [
            "[codecarbon INFO @ 05:25:11] Energy consumed for RAM : 0.002374 kWh. RAM Power : 10.0 W\n",
            "[codecarbon INFO @ 05:25:11] Delta energy consumed for CPU with constant : 0.000177 kWh, power : 42.5 W\n",
            "[codecarbon INFO @ 05:25:11] Energy consumed for All CPU : 0.010089 kWh\n",
            "[codecarbon INFO @ 05:25:11] Energy consumed for all GPUs : 0.014463 kWh. Total GPU Power : 70.0765372240087 W\n",
            "[codecarbon INFO @ 05:25:11] 0.026925 kWh of electricity used since the beginning.\n"
          ]
        },
        {
          "output_type": "stream",
          "name": "stdout",
          "text": [
            "\b\b\b\b\b\b\b\b\b\b\b\b\b\b\b\b\b\b\b\b\b\b\b\b\b\b\b\b\b\b\b\b\b\b\b\b\b\b\b\b\b\b\b\b\b\b\b\b\b\b\b\b\b\b\b\b\b\b\b\b\b\b\b\b\b\b\b\b\b\b\b\b\b\b\b\b\b\b\b\b\b\b\b\b\b\b\b\b\b\b\b\b\b\r\u001b[1m45/45\u001b[0m \u001b[32m━━━━━━━━━━━━━━━━━━━━\u001b[0m\u001b[37m\u001b[0m \u001b[1m21s\u001b[0m 364ms/step - loss: 0.6928 - sparse_categorical_accuracy: 0.5137 - val_loss: 0.6930 - val_sparse_categorical_accuracy: 0.5090\n",
            "Epoch 40/150\n",
            "\u001b[1m22/45\u001b[0m \u001b[32m━━━━━━━━━\u001b[0m\u001b[37m━━━━━━━━━━━\u001b[0m \u001b[1m7s\u001b[0m 333ms/step - loss: 0.6928 - sparse_categorical_accuracy: 0.5149"
          ]
        },
        {
          "output_type": "stream",
          "name": "stderr",
          "text": [
            "[codecarbon INFO @ 05:25:24] Energy consumed for RAM : 0.002249 kWh. RAM Power : 10.0 W\n",
            "[codecarbon INFO @ 05:25:24] Delta energy consumed for CPU with constant : 0.000177 kWh, power : 42.5 W\n",
            "[codecarbon INFO @ 05:25:24] Energy consumed for All CPU : 0.009559 kWh\n",
            "[codecarbon INFO @ 05:25:24] Energy consumed for all GPUs : 0.014201 kWh. Total GPU Power : 60.47267994700188 W\n",
            "[codecarbon INFO @ 05:25:24] 0.026009 kWh of electricity used since the beginning.\n"
          ]
        },
        {
          "output_type": "stream",
          "name": "stdout",
          "text": [
            "\u001b[1m30/45\u001b[0m \u001b[32m━━━━━━━━━━━━━\u001b[0m\u001b[37m━━━━━━━\u001b[0m \u001b[1m5s\u001b[0m 333ms/step - loss: 0.6929 - sparse_categorical_accuracy: 0.5129"
          ]
        },
        {
          "output_type": "stream",
          "name": "stderr",
          "text": [
            "[codecarbon INFO @ 05:25:26] Energy consumed for RAM : 0.002415 kWh. RAM Power : 10.0 W\n",
            "[codecarbon INFO @ 05:25:26] Delta energy consumed for CPU with constant : 0.000177 kWh, power : 42.5 W\n",
            "[codecarbon INFO @ 05:25:26] Energy consumed for All CPU : 0.010266 kWh\n",
            "[codecarbon INFO @ 05:25:26] Energy consumed for all GPUs : 0.014715 kWh. Total GPU Power : 60.465655889888524 W\n",
            "[codecarbon INFO @ 05:25:26] 0.027396 kWh of electricity used since the beginning.\n"
          ]
        },
        {
          "output_type": "stream",
          "name": "stdout",
          "text": [
            "\u001b[1m45/45\u001b[0m \u001b[32m━━━━━━━━━━━━━━━━━━━━\u001b[0m\u001b[37m\u001b[0m \u001b[1m21s\u001b[0m 367ms/step - loss: 0.6929 - sparse_categorical_accuracy: 0.5127 - val_loss: 0.6930 - val_sparse_categorical_accuracy: 0.5090\n",
            "Epoch 41/150\n",
            "\u001b[1m18/45\u001b[0m \u001b[32m━━━━━━━━\u001b[0m\u001b[37m━━━━━━━━━━━━\u001b[0m \u001b[1m9s\u001b[0m 338ms/step - loss: 0.6936 - sparse_categorical_accuracy: 0.4956"
          ]
        },
        {
          "output_type": "stream",
          "name": "stderr",
          "text": [
            "[codecarbon INFO @ 05:25:39] Energy consumed for RAM : 0.002291 kWh. RAM Power : 10.0 W\n",
            "[codecarbon INFO @ 05:25:39] Delta energy consumed for CPU with constant : 0.000177 kWh, power : 42.5 W\n",
            "[codecarbon INFO @ 05:25:39] Energy consumed for All CPU : 0.009736 kWh\n",
            "[codecarbon INFO @ 05:25:39] Energy consumed for all GPUs : 0.014493 kWh. Total GPU Power : 69.96135928372648 W\n",
            "[codecarbon INFO @ 05:25:39] 0.026520 kWh of electricity used since the beginning.\n"
          ]
        },
        {
          "output_type": "stream",
          "name": "stdout",
          "text": [
            "\u001b[1m25/45\u001b[0m \u001b[32m━━━━━━━━━━━\u001b[0m\u001b[37m━━━━━━━━━\u001b[0m \u001b[1m6s\u001b[0m 338ms/step - loss: 0.6936 - sparse_categorical_accuracy: 0.4957"
          ]
        },
        {
          "output_type": "stream",
          "name": "stderr",
          "text": [
            "[codecarbon INFO @ 05:25:41] Energy consumed for RAM : 0.002457 kWh. RAM Power : 10.0 W\n",
            "[codecarbon INFO @ 05:25:41] Delta energy consumed for CPU with constant : 0.000177 kWh, power : 42.5 W\n",
            "[codecarbon INFO @ 05:25:41] Energy consumed for All CPU : 0.010443 kWh\n",
            "[codecarbon INFO @ 05:25:41] Energy consumed for all GPUs : 0.015005 kWh. Total GPU Power : 69.57123905018194 W\n",
            "[codecarbon INFO @ 05:25:41] 0.027904 kWh of electricity used since the beginning.\n"
          ]
        },
        {
          "output_type": "stream",
          "name": "stdout",
          "text": [
            "\u001b[1m45/45\u001b[0m \u001b[32m━━━━━━━━━━━━━━━━━━━━\u001b[0m\u001b[37m\u001b[0m \u001b[1m18s\u001b[0m 397ms/step - loss: 0.6933 - sparse_categorical_accuracy: 0.5026 - val_loss: 0.6930 - val_sparse_categorical_accuracy: 0.5090\n",
            "Epoch 42/150\n",
            "\u001b[1m 1/45\u001b[0m \u001b[37m━━━━━━━━━━━━━━━━━━━━\u001b[0m \u001b[1m2:13\u001b[0m 3s/step - loss: 0.6943 - sparse_categorical_accuracy: 0.4844"
          ]
        },
        {
          "output_type": "stream",
          "name": "stderr",
          "text": [
            "[codecarbon INFO @ 05:25:54] Energy consumed for RAM : 0.002332 kWh. RAM Power : 10.0 W\n",
            "[codecarbon INFO @ 05:25:54] Delta energy consumed for CPU with constant : 0.000177 kWh, power : 42.5 W\n",
            "[codecarbon INFO @ 05:25:54] Energy consumed for All CPU : 0.009913 kWh\n",
            "[codecarbon INFO @ 05:25:54] Energy consumed for all GPUs : 0.014747 kWh. Total GPU Power : 60.98836966319921 W\n",
            "[codecarbon INFO @ 05:25:54] 0.026992 kWh of electricity used since the beginning.\n",
            "[codecarbon INFO @ 05:25:54] 0.015263 g.CO2eq/s mean an estimation of 481.33587159677876 kg.CO2eq/year\n"
          ]
        },
        {
          "output_type": "stream",
          "name": "stdout",
          "text": [
            "\u001b[1m 9/45\u001b[0m \u001b[32m━━━━\u001b[0m\u001b[37m━━━━━━━━━━━━━━━━\u001b[0m \u001b[1m11s\u001b[0m 327ms/step - loss: 0.6920 - sparse_categorical_accuracy: 0.5276"
          ]
        },
        {
          "output_type": "stream",
          "name": "stderr",
          "text": [
            "[codecarbon INFO @ 05:25:56] Energy consumed for RAM : 0.002499 kWh. RAM Power : 10.0 W\n",
            "[codecarbon INFO @ 05:25:56] Delta energy consumed for CPU with constant : 0.000177 kWh, power : 42.5 W\n",
            "[codecarbon INFO @ 05:25:56] Energy consumed for All CPU : 0.010620 kWh\n",
            "[codecarbon INFO @ 05:25:56] Energy consumed for all GPUs : 0.015260 kWh. Total GPU Power : 61.463866582146146 W\n",
            "[codecarbon INFO @ 05:25:56] 0.028379 kWh of electricity used since the beginning.\n"
          ]
        },
        {
          "output_type": "stream",
          "name": "stdout",
          "text": [
            "\u001b[1m45/45\u001b[0m \u001b[32m━━━━━━━━━━━━━━━━━━━━\u001b[0m\u001b[37m\u001b[0m \u001b[1m0s\u001b[0m 331ms/step - loss: 0.6926 - sparse_categorical_accuracy: 0.5170"
          ]
        },
        {
          "output_type": "stream",
          "name": "stderr",
          "text": [
            "[codecarbon INFO @ 05:26:09] Energy consumed for RAM : 0.002374 kWh. RAM Power : 10.0 W\n",
            "[codecarbon INFO @ 05:26:09] Delta energy consumed for CPU with constant : 0.000177 kWh, power : 42.5 W\n",
            "[codecarbon INFO @ 05:26:09] Energy consumed for All CPU : 0.010090 kWh\n",
            "[codecarbon INFO @ 05:26:09] Energy consumed for all GPUs : 0.015037 kWh. Total GPU Power : 69.55688651001454 W\n",
            "[codecarbon INFO @ 05:26:09] 0.027501 kWh of electricity used since the beginning.\n"
          ]
        },
        {
          "output_type": "stream",
          "name": "stdout",
          "text": [
            "\b\b\b\b\b\b\b\b\b\b\b\b\b\b\b\b\b\b\b\b\b\b\b\b\b\b\b\b\b\b\b\b\b\b\b\b\b\b\b\b\b\b\b\b\b\b\b\b\b\b\b\b\b\b\b\b\b\b\b\b\b\b\b\b\b\b\b\b\b\b\b\b\b\b\b\b\b\b\b\b\b\b\b\b\b\b\b\b\b\b\b\b\b\r\u001b[1m45/45\u001b[0m \u001b[32m━━━━━━━━━━━━━━━━━━━━\u001b[0m\u001b[37m\u001b[0m \u001b[1m19s\u001b[0m 362ms/step - loss: 0.6926 - sparse_categorical_accuracy: 0.5169 - val_loss: 0.6930 - val_sparse_categorical_accuracy: 0.5090\n",
            "Epoch 43/150\n",
            "\u001b[1m 5/45\u001b[0m \u001b[32m━━\u001b[0m\u001b[37m━━━━━━━━━━━━━━━━━━\u001b[0m \u001b[1m13s\u001b[0m 333ms/step - loss: 0.6914 - sparse_categorical_accuracy: 0.5251"
          ]
        },
        {
          "output_type": "stream",
          "name": "stderr",
          "text": [
            "[codecarbon INFO @ 05:26:11] Energy consumed for RAM : 0.002540 kWh. RAM Power : 10.0 W\n",
            "[codecarbon INFO @ 05:26:11] Delta energy consumed for CPU with constant : 0.000177 kWh, power : 42.5 W\n",
            "[codecarbon INFO @ 05:26:11] Energy consumed for All CPU : 0.010797 kWh\n",
            "[codecarbon INFO @ 05:26:11] Energy consumed for all GPUs : 0.015550 kWh. Total GPU Power : 69.52734097515668 W\n",
            "[codecarbon INFO @ 05:26:11] 0.028887 kWh of electricity used since the beginning.\n"
          ]
        },
        {
          "output_type": "stream",
          "name": "stdout",
          "text": [
            "\u001b[1m42/45\u001b[0m \u001b[32m━━━━━━━━━━━━━━━━━━\u001b[0m\u001b[37m━━\u001b[0m \u001b[1m1s\u001b[0m 334ms/step - loss: 0.6924 - sparse_categorical_accuracy: 0.5184"
          ]
        },
        {
          "output_type": "stream",
          "name": "stderr",
          "text": [
            "[codecarbon INFO @ 05:26:24] Energy consumed for RAM : 0.002416 kWh. RAM Power : 10.0 W\n",
            "[codecarbon INFO @ 05:26:24] Delta energy consumed for CPU with constant : 0.000177 kWh, power : 42.5 W\n",
            "[codecarbon INFO @ 05:26:24] Energy consumed for All CPU : 0.010267 kWh\n",
            "[codecarbon INFO @ 05:26:24] Energy consumed for all GPUs : 0.015328 kWh. Total GPU Power : 70.00929942355577 W\n",
            "[codecarbon INFO @ 05:26:24] 0.028011 kWh of electricity used since the beginning.\n"
          ]
        },
        {
          "output_type": "stream",
          "name": "stdout",
          "text": [
            "\u001b[1m45/45\u001b[0m \u001b[32m━━━━━━━━━━━━━━━━━━━━\u001b[0m\u001b[37m\u001b[0m \u001b[1m16s\u001b[0m 366ms/step - loss: 0.6924 - sparse_categorical_accuracy: 0.5181 - val_loss: 0.6930 - val_sparse_categorical_accuracy: 0.5090\n",
            "Epoch 44/150\n"
          ]
        },
        {
          "output_type": "stream",
          "name": "stderr",
          "text": [
            "[codecarbon INFO @ 05:26:26] Energy consumed for RAM : 0.002582 kWh. RAM Power : 10.0 W\n",
            "[codecarbon INFO @ 05:26:26] Delta energy consumed for CPU with constant : 0.000177 kWh, power : 42.5 W\n",
            "[codecarbon INFO @ 05:26:26] Energy consumed for All CPU : 0.010974 kWh\n",
            "[codecarbon INFO @ 05:26:26] Energy consumed for all GPUs : 0.015840 kWh. Total GPU Power : 69.57603409008713 W\n",
            "[codecarbon INFO @ 05:26:26] 0.029396 kWh of electricity used since the beginning.\n"
          ]
        },
        {
          "output_type": "stream",
          "name": "stdout",
          "text": [
            "\u001b[1m38/45\u001b[0m \u001b[32m━━━━━━━━━━━━━━━━\u001b[0m\u001b[37m━━━━\u001b[0m \u001b[1m2s\u001b[0m 335ms/step - loss: 0.6929 - sparse_categorical_accuracy: 0.5115"
          ]
        },
        {
          "output_type": "stream",
          "name": "stderr",
          "text": [
            "[codecarbon INFO @ 05:26:39] Energy consumed for RAM : 0.002457 kWh. RAM Power : 10.0 W\n",
            "[codecarbon INFO @ 05:26:39] Delta energy consumed for CPU with constant : 0.000177 kWh, power : 42.5 W\n",
            "[codecarbon INFO @ 05:26:39] Energy consumed for All CPU : 0.010444 kWh\n",
            "[codecarbon INFO @ 05:26:39] Energy consumed for all GPUs : 0.015618 kWh. Total GPU Power : 69.54078018378448 W\n",
            "[codecarbon INFO @ 05:26:39] 0.028520 kWh of electricity used since the beginning.\n"
          ]
        },
        {
          "output_type": "stream",
          "name": "stdout",
          "text": [
            "\u001b[1m45/45\u001b[0m \u001b[32m━━━━━━━━━━━━━━━━━━━━\u001b[0m\u001b[37m\u001b[0m \u001b[1m0s\u001b[0m 335ms/step - loss: 0.6929 - sparse_categorical_accuracy: 0.5116"
          ]
        },
        {
          "output_type": "stream",
          "name": "stderr",
          "text": [
            "[codecarbon INFO @ 05:26:41] Energy consumed for RAM : 0.002624 kWh. RAM Power : 10.0 W\n",
            "[codecarbon INFO @ 05:26:41] Delta energy consumed for CPU with constant : 0.000177 kWh, power : 42.5 W\n",
            "[codecarbon INFO @ 05:26:41] Energy consumed for All CPU : 0.011151 kWh\n",
            "[codecarbon INFO @ 05:26:41] Energy consumed for all GPUs : 0.016131 kWh. Total GPU Power : 70.00802617257169 W\n",
            "[codecarbon INFO @ 05:26:41] 0.029906 kWh of electricity used since the beginning.\n"
          ]
        },
        {
          "output_type": "stream",
          "name": "stdout",
          "text": [
            "\b\b\b\b\b\b\b\b\b\b\b\b\b\b\b\b\b\b\b\b\b\b\b\b\b\b\b\b\b\b\b\b\b\b\b\b\b\b\b\b\b\b\b\b\b\b\b\b\b\b\b\b\b\b\b\b\b\b\b\b\b\b\b\b\b\b\b\b\b\b\b\b\b\b\b\b\b\b\b\b\b\b\b\b\b\b\b\b\b\b\b\b\b\r\u001b[1m45/45\u001b[0m \u001b[32m━━━━━━━━━━━━━━━━━━━━\u001b[0m\u001b[37m\u001b[0m \u001b[1m18s\u001b[0m 393ms/step - loss: 0.6929 - sparse_categorical_accuracy: 0.5116 - val_loss: 0.6930 - val_sparse_categorical_accuracy: 0.5090\n",
            "Epoch 45/150\n",
            "\u001b[1m22/45\u001b[0m \u001b[32m━━━━━━━━━\u001b[0m\u001b[37m━━━━━━━━━━━\u001b[0m \u001b[1m7s\u001b[0m 330ms/step - loss: 0.6924 - sparse_categorical_accuracy: 0.5234"
          ]
        },
        {
          "output_type": "stream",
          "name": "stderr",
          "text": [
            "[codecarbon INFO @ 05:26:54] Energy consumed for RAM : 0.002499 kWh. RAM Power : 10.0 W\n",
            "[codecarbon INFO @ 05:26:54] Delta energy consumed for CPU with constant : 0.000177 kWh, power : 42.5 W\n",
            "[codecarbon INFO @ 05:26:54] Energy consumed for All CPU : 0.010621 kWh\n",
            "[codecarbon INFO @ 05:26:54] Energy consumed for all GPUs : 0.015874 kWh. Total GPU Power : 61.509629419477584 W\n",
            "[codecarbon INFO @ 05:26:54] 0.028995 kWh of electricity used since the beginning.\n"
          ]
        },
        {
          "output_type": "stream",
          "name": "stdout",
          "text": [
            "\u001b[1m29/45\u001b[0m \u001b[32m━━━━━━━━━━━━\u001b[0m\u001b[37m━━━━━━━━\u001b[0m \u001b[1m5s\u001b[0m 330ms/step - loss: 0.6925 - sparse_categorical_accuracy: 0.5212"
          ]
        },
        {
          "output_type": "stream",
          "name": "stderr",
          "text": [
            "[codecarbon INFO @ 05:26:56] Energy consumed for RAM : 0.002665 kWh. RAM Power : 10.0 W\n",
            "[codecarbon INFO @ 05:26:56] Delta energy consumed for CPU with constant : 0.000177 kWh, power : 42.5 W\n",
            "[codecarbon INFO @ 05:26:56] Energy consumed for All CPU : 0.011328 kWh\n",
            "[codecarbon INFO @ 05:26:56] Energy consumed for all GPUs : 0.016388 kWh. Total GPU Power : 61.53636236139606 W\n",
            "[codecarbon INFO @ 05:26:56] 0.030381 kWh of electricity used since the beginning.\n",
            "[codecarbon INFO @ 05:26:56] 0.015559 g.CO2eq/s mean an estimation of 490.66213184128316 kg.CO2eq/year\n"
          ]
        },
        {
          "output_type": "stream",
          "name": "stdout",
          "text": [
            "\u001b[1m45/45\u001b[0m \u001b[32m━━━━━━━━━━━━━━━━━━━━\u001b[0m\u001b[37m\u001b[0m \u001b[1m19s\u001b[0m 363ms/step - loss: 0.6927 - sparse_categorical_accuracy: 0.5178 - val_loss: 0.6930 - val_sparse_categorical_accuracy: 0.5090\n",
            "Epoch 46/150\n",
            "\u001b[1m18/45\u001b[0m \u001b[32m━━━━━━━━\u001b[0m\u001b[37m━━━━━━━━━━━━\u001b[0m \u001b[1m9s\u001b[0m 334ms/step - loss: 0.6921 - sparse_categorical_accuracy: 0.5245"
          ]
        },
        {
          "output_type": "stream",
          "name": "stderr",
          "text": [
            "[codecarbon INFO @ 05:27:09] Energy consumed for RAM : 0.002541 kWh. RAM Power : 10.0 W\n",
            "[codecarbon INFO @ 05:27:09] Delta energy consumed for CPU with constant : 0.000177 kWh, power : 42.5 W\n",
            "[codecarbon INFO @ 05:27:09] Energy consumed for All CPU : 0.010798 kWh\n",
            "[codecarbon INFO @ 05:27:09] Energy consumed for all GPUs : 0.016166 kWh. Total GPU Power : 70.03154569569486 W\n",
            "[codecarbon INFO @ 05:27:09] 0.029505 kWh of electricity used since the beginning.\n"
          ]
        },
        {
          "output_type": "stream",
          "name": "stdout",
          "text": [
            "\u001b[1m25/45\u001b[0m \u001b[32m━━━━━━━━━━━\u001b[0m\u001b[37m━━━━━━━━━\u001b[0m \u001b[1m6s\u001b[0m 335ms/step - loss: 0.6921 - sparse_categorical_accuracy: 0.5243"
          ]
        },
        {
          "output_type": "stream",
          "name": "stderr",
          "text": [
            "[codecarbon INFO @ 05:27:11] Energy consumed for RAM : 0.002707 kWh. RAM Power : 10.0 W\n",
            "[codecarbon INFO @ 05:27:11] Delta energy consumed for CPU with constant : 0.000177 kWh, power : 42.5 W\n",
            "[codecarbon INFO @ 05:27:11] Energy consumed for All CPU : 0.011505 kWh\n",
            "[codecarbon INFO @ 05:27:11] Energy consumed for all GPUs : 0.016677 kWh. Total GPU Power : 69.52949607699477 W\n",
            "[codecarbon INFO @ 05:27:11] 0.030889 kWh of electricity used since the beginning.\n"
          ]
        },
        {
          "output_type": "stream",
          "name": "stdout",
          "text": [
            "\u001b[1m45/45\u001b[0m \u001b[32m━━━━━━━━━━━━━━━━━━━━\u001b[0m\u001b[37m\u001b[0m \u001b[1m16s\u001b[0m 367ms/step - loss: 0.6923 - sparse_categorical_accuracy: 0.5212 - val_loss: 0.6930 - val_sparse_categorical_accuracy: 0.5090\n",
            "Epoch 47/150\n",
            "\u001b[1m 1/45\u001b[0m \u001b[37m━━━━━━━━━━━━━━━━━━━━\u001b[0m \u001b[1m3:11\u001b[0m 4s/step - loss: 0.6908 - sparse_categorical_accuracy: 0.5469"
          ]
        },
        {
          "output_type": "stream",
          "name": "stderr",
          "text": [
            "[codecarbon INFO @ 05:27:24] Energy consumed for RAM : 0.002582 kWh. RAM Power : 10.0 W\n",
            "[codecarbon INFO @ 05:27:24] Delta energy consumed for CPU with constant : 0.000177 kWh, power : 42.5 W\n",
            "[codecarbon INFO @ 05:27:24] Energy consumed for All CPU : 0.010975 kWh\n",
            "[codecarbon INFO @ 05:27:24] Energy consumed for all GPUs : 0.016422 kWh. Total GPU Power : 61.52372546278932 W\n",
            "[codecarbon INFO @ 05:27:24] 0.029980 kWh of electricity used since the beginning.\n"
          ]
        },
        {
          "output_type": "stream",
          "name": "stdout",
          "text": [
            "\u001b[1m 9/45\u001b[0m \u001b[32m━━━━\u001b[0m\u001b[37m━━━━━━━━━━━━━━━━\u001b[0m \u001b[1m11s\u001b[0m 328ms/step - loss: 0.6923 - sparse_categorical_accuracy: 0.5249"
          ]
        },
        {
          "output_type": "stream",
          "name": "stderr",
          "text": [
            "[codecarbon INFO @ 05:27:26] Energy consumed for RAM : 0.002748 kWh. RAM Power : 10.0 W\n",
            "[codecarbon INFO @ 05:27:26] Delta energy consumed for CPU with constant : 0.000177 kWh, power : 42.5 W\n",
            "[codecarbon INFO @ 05:27:26] Energy consumed for All CPU : 0.011682 kWh\n",
            "[codecarbon INFO @ 05:27:26] Energy consumed for all GPUs : 0.016936 kWh. Total GPU Power : 61.99726920088067 W\n",
            "[codecarbon INFO @ 05:27:26] 0.031366 kWh of electricity used since the beginning.\n"
          ]
        },
        {
          "output_type": "stream",
          "name": "stdout",
          "text": [
            "\u001b[1m45/45\u001b[0m \u001b[32m━━━━━━━━━━━━━━━━━━━━\u001b[0m\u001b[37m\u001b[0m \u001b[1m0s\u001b[0m 331ms/step - loss: 0.6926 - sparse_categorical_accuracy: 0.5187"
          ]
        },
        {
          "output_type": "stream",
          "name": "stderr",
          "text": [
            "[codecarbon INFO @ 05:27:39] Energy consumed for RAM : 0.002624 kWh. RAM Power : 10.0 W\n",
            "[codecarbon INFO @ 05:27:39] Delta energy consumed for CPU with constant : 0.000177 kWh, power : 42.5 W\n",
            "[codecarbon INFO @ 05:27:39] Energy consumed for All CPU : 0.011152 kWh\n",
            "[codecarbon INFO @ 05:27:39] Energy consumed for all GPUs : 0.016714 kWh. Total GPU Power : 70.0279022159381 W\n",
            "[codecarbon INFO @ 05:27:39] 0.030490 kWh of electricity used since the beginning.\n"
          ]
        },
        {
          "output_type": "stream",
          "name": "stdout",
          "text": [
            "\b\b\b\b\b\b\b\b\b\b\b\b\b\b\b\b\b\b\b\b\b\b\b\b\b\b\b\b\b\b\b\b\b\b\b\b\b\b\b\b\b\b\b\b\b\b\b\b\b\b\b\b\b\b\b\b\b\b\b\b\b\b\b\b\b\b\b\b\b\b\b\b\b\b\b\b\b\b\b\b\b\b\b\b\b\b\b\b\b\b\b\b\b\r\u001b[1m45/45\u001b[0m \u001b[32m━━━━━━━━━━━━━━━━━━━━\u001b[0m\u001b[37m\u001b[0m \u001b[1m20s\u001b[0m 362ms/step - loss: 0.6926 - sparse_categorical_accuracy: 0.5186 - val_loss: 0.6930 - val_sparse_categorical_accuracy: 0.5090\n",
            "Epoch 48/150\n",
            "\u001b[1m 5/45\u001b[0m \u001b[32m━━\u001b[0m\u001b[37m━━━━━━━━━━━━━━━━━━\u001b[0m \u001b[1m13s\u001b[0m 333ms/step - loss: 0.6927 - sparse_categorical_accuracy: 0.5159"
          ]
        },
        {
          "output_type": "stream",
          "name": "stderr",
          "text": [
            "[codecarbon INFO @ 05:27:41] Energy consumed for RAM : 0.002790 kWh. RAM Power : 10.0 W\n",
            "[codecarbon INFO @ 05:27:41] Delta energy consumed for CPU with constant : 0.000177 kWh, power : 42.5 W\n",
            "[codecarbon INFO @ 05:27:41] Energy consumed for All CPU : 0.011859 kWh\n",
            "[codecarbon INFO @ 05:27:41] Energy consumed for all GPUs : 0.017225 kWh. Total GPU Power : 69.5487566825591 W\n",
            "[codecarbon INFO @ 05:27:41] 0.031875 kWh of electricity used since the beginning.\n"
          ]
        },
        {
          "output_type": "stream",
          "name": "stdout",
          "text": [
            "\u001b[1m42/45\u001b[0m \u001b[32m━━━━━━━━━━━━━━━━━━\u001b[0m\u001b[37m━━\u001b[0m \u001b[1m1s\u001b[0m 334ms/step - loss: 0.6927 - sparse_categorical_accuracy: 0.5149"
          ]
        },
        {
          "output_type": "stream",
          "name": "stderr",
          "text": [
            "[codecarbon INFO @ 05:27:54] Energy consumed for RAM : 0.002666 kWh. RAM Power : 10.0 W\n",
            "[codecarbon INFO @ 05:27:54] Delta energy consumed for CPU with constant : 0.000177 kWh, power : 42.5 W\n",
            "[codecarbon INFO @ 05:27:54] Energy consumed for All CPU : 0.011329 kWh\n",
            "[codecarbon INFO @ 05:27:54] Energy consumed for all GPUs : 0.017004 kWh. Total GPU Power : 69.56434655107931 W\n",
            "[codecarbon INFO @ 05:27:54] 0.030999 kWh of electricity used since the beginning.\n",
            "[codecarbon INFO @ 05:27:54] 0.015714 g.CO2eq/s mean an estimation of 495.56530584967203 kg.CO2eq/year\n"
          ]
        },
        {
          "output_type": "stream",
          "name": "stdout",
          "text": [
            "\u001b[1m45/45\u001b[0m \u001b[32m━━━━━━━━━━━━━━━━━━━━\u001b[0m\u001b[37m\u001b[0m \u001b[1m0s\u001b[0m 334ms/step - loss: 0.6928 - sparse_categorical_accuracy: 0.5148"
          ]
        },
        {
          "output_type": "stream",
          "name": "stderr",
          "text": [
            "[codecarbon INFO @ 05:27:56] Energy consumed for RAM : 0.002832 kWh. RAM Power : 10.0 W\n",
            "[codecarbon INFO @ 05:27:56] Delta energy consumed for CPU with constant : 0.000177 kWh, power : 42.5 W\n",
            "[codecarbon INFO @ 05:27:56] Energy consumed for All CPU : 0.012036 kWh\n",
            "[codecarbon INFO @ 05:27:56] Energy consumed for all GPUs : 0.017514 kWh. Total GPU Power : 69.20082028055003 W\n",
            "[codecarbon INFO @ 05:27:56] 0.032382 kWh of electricity used since the beginning.\n"
          ]
        },
        {
          "output_type": "stream",
          "name": "stdout",
          "text": [
            "\b\b\b\b\b\b\b\b\b\b\b\b\b\b\b\b\b\b\b\b\b\b\b\b\b\b\b\b\b\b\b\b\b\b\b\b\b\b\b\b\b\b\b\b\b\b\b\b\b\b\b\b\b\b\b\b\b\b\b\b\b\b\b\b\b\b\b\b\b\b\b\b\b\b\b\b\b\b\b\b\b\b\b\b\b\b\b\b\b\b\b\b\b\r\u001b[1m45/45\u001b[0m \u001b[32m━━━━━━━━━━━━━━━━━━━━\u001b[0m\u001b[37m\u001b[0m \u001b[1m18s\u001b[0m 393ms/step - loss: 0.6928 - sparse_categorical_accuracy: 0.5147 - val_loss: 0.6930 - val_sparse_categorical_accuracy: 0.5090\n",
            "Epoch 49/150\n",
            "\u001b[1m35/45\u001b[0m \u001b[32m━━━━━━━━━━━━━━━\u001b[0m\u001b[37m━━━━━\u001b[0m \u001b[1m3s\u001b[0m 334ms/step - loss: 0.6926 - sparse_categorical_accuracy: 0.5158"
          ]
        },
        {
          "output_type": "stream",
          "name": "stderr",
          "text": [
            "[codecarbon INFO @ 05:28:09] Energy consumed for RAM : 0.002707 kWh. RAM Power : 10.0 W\n",
            "[codecarbon INFO @ 05:28:09] Delta energy consumed for CPU with constant : 0.000177 kWh, power : 42.5 W\n",
            "[codecarbon INFO @ 05:28:09] Energy consumed for All CPU : 0.011506 kWh\n",
            "[codecarbon INFO @ 05:28:09] Energy consumed for all GPUs : 0.017285 kWh. Total GPU Power : 67.41322692170304 W\n",
            "[codecarbon INFO @ 05:28:09] 0.031498 kWh of electricity used since the beginning.\n"
          ]
        },
        {
          "output_type": "stream",
          "name": "stdout",
          "text": [
            "\u001b[1m42/45\u001b[0m \u001b[32m━━━━━━━━━━━━━━━━━━\u001b[0m\u001b[37m━━\u001b[0m \u001b[1m1s\u001b[0m 334ms/step - loss: 0.6926 - sparse_categorical_accuracy: 0.5154"
          ]
        },
        {
          "output_type": "stream",
          "name": "stderr",
          "text": [
            "[codecarbon INFO @ 05:28:11] Energy consumed for RAM : 0.002873 kWh. RAM Power : 10.0 W\n",
            "[codecarbon INFO @ 05:28:11] Delta energy consumed for CPU with constant : 0.000177 kWh, power : 42.5 W\n",
            "[codecarbon INFO @ 05:28:11] Energy consumed for All CPU : 0.012213 kWh\n",
            "[codecarbon INFO @ 05:28:11] Energy consumed for all GPUs : 0.017798 kWh. Total GPU Power : 68.30227054793423 W\n",
            "[codecarbon INFO @ 05:28:11] 0.032885 kWh of electricity used since the beginning.\n"
          ]
        },
        {
          "output_type": "stream",
          "name": "stdout",
          "text": [
            "\u001b[1m45/45\u001b[0m \u001b[32m━━━━━━━━━━━━━━━━━━━━\u001b[0m\u001b[37m\u001b[0m \u001b[1m18s\u001b[0m 393ms/step - loss: 0.6926 - sparse_categorical_accuracy: 0.5153 - val_loss: 0.6930 - val_sparse_categorical_accuracy: 0.5090\n",
            "Epoch 50/150\n",
            "\u001b[1m27/45\u001b[0m \u001b[32m━━━━━━━━━━━━\u001b[0m\u001b[37m━━━━━━━━\u001b[0m \u001b[1m5s\u001b[0m 333ms/step - loss: 0.6919 - sparse_categorical_accuracy: 0.5294"
          ]
        },
        {
          "output_type": "stream",
          "name": "stderr",
          "text": [
            "[codecarbon INFO @ 05:28:24] Energy consumed for RAM : 0.002749 kWh. RAM Power : 10.0 W\n",
            "[codecarbon INFO @ 05:28:24] Delta energy consumed for CPU with constant : 0.000177 kWh, power : 42.5 W\n",
            "[codecarbon INFO @ 05:28:24] Energy consumed for All CPU : 0.011683 kWh\n",
            "[codecarbon INFO @ 05:28:24] Energy consumed for all GPUs : 0.017566 kWh. Total GPU Power : 67.62269469582596 W\n",
            "[codecarbon INFO @ 05:28:24] 0.031998 kWh of electricity used since the beginning.\n"
          ]
        },
        {
          "output_type": "stream",
          "name": "stdout",
          "text": [
            "\u001b[1m34/45\u001b[0m \u001b[32m━━━━━━━━━━━━━━━\u001b[0m\u001b[37m━━━━━\u001b[0m \u001b[1m3s\u001b[0m 333ms/step - loss: 0.6920 - sparse_categorical_accuracy: 0.5276"
          ]
        },
        {
          "output_type": "stream",
          "name": "stderr",
          "text": [
            "[codecarbon INFO @ 05:28:26] Energy consumed for RAM : 0.002915 kWh. RAM Power : 10.0 W\n",
            "[codecarbon INFO @ 05:28:26] Delta energy consumed for CPU with constant : 0.000177 kWh, power : 42.5 W\n",
            "[codecarbon INFO @ 05:28:26] Energy consumed for All CPU : 0.012390 kWh\n",
            "[codecarbon INFO @ 05:28:26] Energy consumed for all GPUs : 0.018080 kWh. Total GPU Power : 67.62190462775133 W\n",
            "[codecarbon INFO @ 05:28:26] 0.033385 kWh of electricity used since the beginning.\n"
          ]
        },
        {
          "output_type": "stream",
          "name": "stdout",
          "text": [
            "\u001b[1m45/45\u001b[0m \u001b[32m━━━━━━━━━━━━━━━━━━━━\u001b[0m\u001b[37m\u001b[0m \u001b[1m16s\u001b[0m 365ms/step - loss: 0.6922 - sparse_categorical_accuracy: 0.5248 - val_loss: 0.6930 - val_sparse_categorical_accuracy: 0.5090\n",
            "Epoch 51/150\n",
            "\u001b[1m10/45\u001b[0m \u001b[32m━━━━\u001b[0m\u001b[37m━━━━━━━━━━━━━━━━\u001b[0m \u001b[1m11s\u001b[0m 327ms/step - loss: 0.6943 - sparse_categorical_accuracy: 0.4830"
          ]
        },
        {
          "output_type": "stream",
          "name": "stderr",
          "text": [
            "[codecarbon INFO @ 05:28:39] Energy consumed for RAM : 0.002790 kWh. RAM Power : 10.0 W\n",
            "[codecarbon INFO @ 05:28:39] Delta energy consumed for CPU with constant : 0.000177 kWh, power : 42.5 W\n",
            "[codecarbon INFO @ 05:28:39] Energy consumed for All CPU : 0.011860 kWh\n",
            "[codecarbon INFO @ 05:28:39] Energy consumed for all GPUs : 0.017821 kWh. Total GPU Power : 61.16394928388789 W\n",
            "[codecarbon INFO @ 05:28:39] 0.032472 kWh of electricity used since the beginning.\n"
          ]
        },
        {
          "output_type": "stream",
          "name": "stdout",
          "text": [
            "\u001b[1m18/45\u001b[0m \u001b[32m━━━━━━━━\u001b[0m\u001b[37m━━━━━━━━━━━━\u001b[0m \u001b[1m8s\u001b[0m 329ms/step - loss: 0.6944 - sparse_categorical_accuracy: 0.4833"
          ]
        },
        {
          "output_type": "stream",
          "name": "stderr",
          "text": [
            "[codecarbon INFO @ 05:28:41] Energy consumed for RAM : 0.002957 kWh. RAM Power : 10.0 W\n",
            "[codecarbon INFO @ 05:28:41] Delta energy consumed for CPU with constant : 0.000177 kWh, power : 42.5 W\n",
            "[codecarbon INFO @ 05:28:41] Energy consumed for All CPU : 0.012567 kWh\n",
            "[codecarbon INFO @ 05:28:41] Energy consumed for all GPUs : 0.018335 kWh. Total GPU Power : 61.2091297659397 W\n",
            "[codecarbon INFO @ 05:28:41] 0.033858 kWh of electricity used since the beginning.\n"
          ]
        },
        {
          "output_type": "stream",
          "name": "stdout",
          "text": [
            "\u001b[1m45/45\u001b[0m \u001b[32m━━━━━━━━━━━━━━━━━━━━\u001b[0m\u001b[37m\u001b[0m \u001b[1m20s\u001b[0m 363ms/step - loss: 0.6938 - sparse_categorical_accuracy: 0.4950 - val_loss: 0.6930 - val_sparse_categorical_accuracy: 0.5090\n",
            "Epoch 52/150\n"
          ]
        },
        {
          "output_type": "stream",
          "name": "stderr",
          "text": [
            "[codecarbon INFO @ 05:28:54] Energy consumed for RAM : 0.002832 kWh. RAM Power : 10.0 W\n",
            "[codecarbon INFO @ 05:28:54] Delta energy consumed for CPU with constant : 0.000177 kWh, power : 42.5 W\n",
            "[codecarbon INFO @ 05:28:54] Energy consumed for All CPU : 0.012037 kWh\n",
            "[codecarbon INFO @ 05:28:54] Energy consumed for all GPUs : 0.018093 kWh. Total GPU Power : 65.27114528031119 W\n",
            "[codecarbon INFO @ 05:28:54] 0.032962 kWh of electricity used since the beginning.\n"
          ]
        },
        {
          "output_type": "stream",
          "name": "stdout",
          "text": [
            "\r\u001b[1m 1/45\u001b[0m \u001b[37m━━━━━━━━━━━━━━━━━━━━\u001b[0m \u001b[1m3:18\u001b[0m 5s/step - loss: 0.6885 - sparse_categorical_accuracy: 0.6094"
          ]
        },
        {
          "output_type": "stream",
          "name": "stderr",
          "text": [
            "[codecarbon INFO @ 05:28:56] Energy consumed for RAM : 0.002998 kWh. RAM Power : 10.0 W\n",
            "[codecarbon INFO @ 05:28:56] Delta energy consumed for CPU with constant : 0.000177 kWh, power : 42.5 W\n",
            "[codecarbon INFO @ 05:28:56] Energy consumed for All CPU : 0.012744 kWh\n",
            "[codecarbon INFO @ 05:28:56] Energy consumed for all GPUs : 0.018588 kWh. Total GPU Power : 60.71928394199188 W\n",
            "[codecarbon INFO @ 05:28:56] 0.034330 kWh of electricity used since the beginning.\n",
            "[codecarbon INFO @ 05:28:56] 0.015489 g.CO2eq/s mean an estimation of 488.46675628032546 kg.CO2eq/year\n"
          ]
        },
        {
          "output_type": "stream",
          "name": "stdout",
          "text": [
            "\u001b[1m39/45\u001b[0m \u001b[32m━━━━━━━━━━━━━━━━━\u001b[0m\u001b[37m━━━\u001b[0m \u001b[1m2s\u001b[0m 334ms/step - loss: 0.6931 - sparse_categorical_accuracy: 0.5090"
          ]
        },
        {
          "output_type": "stream",
          "name": "stderr",
          "text": [
            "[codecarbon INFO @ 05:29:09] Energy consumed for RAM : 0.002874 kWh. RAM Power : 10.0 W\n",
            "[codecarbon INFO @ 05:29:09] Delta energy consumed for CPU with constant : 0.000177 kWh, power : 42.5 W\n",
            "[codecarbon INFO @ 05:29:09] Energy consumed for All CPU : 0.012214 kWh\n",
            "[codecarbon INFO @ 05:29:09] Energy consumed for all GPUs : 0.018366 kWh. Total GPU Power : 65.57322287596703 W\n",
            "[codecarbon INFO @ 05:29:09] 0.033454 kWh of electricity used since the beginning.\n"
          ]
        },
        {
          "output_type": "stream",
          "name": "stdout",
          "text": [
            "\u001b[1m45/45\u001b[0m \u001b[32m━━━━━━━━━━━━━━━━━━━━\u001b[0m\u001b[37m\u001b[0m \u001b[1m0s\u001b[0m 334ms/step - loss: 0.6931 - sparse_categorical_accuracy: 0.5093"
          ]
        },
        {
          "output_type": "stream",
          "name": "stderr",
          "text": [
            "[codecarbon INFO @ 05:29:11] Energy consumed for RAM : 0.003040 kWh. RAM Power : 10.0 W\n",
            "[codecarbon INFO @ 05:29:11] Delta energy consumed for CPU with constant : 0.000177 kWh, power : 42.5 W\n",
            "[codecarbon INFO @ 05:29:11] Energy consumed for All CPU : 0.012921 kWh\n",
            "[codecarbon INFO @ 05:29:11] Energy consumed for all GPUs : 0.018878 kWh. Total GPU Power : 69.71984565625556 W\n",
            "[codecarbon INFO @ 05:29:11] 0.034838 kWh of electricity used since the beginning.\n"
          ]
        },
        {
          "output_type": "stream",
          "name": "stdout",
          "text": [
            "\b\b\b\b\b\b\b\b\b\b\b\b\b\b\b\b\b\b\b\b\b\b\b\b\b\b\b\b\b\b\b\b\b\b\b\b\b\b\b\b\b\b\b\b\b\b\b\b\b\b\b\b\b\b\b\b\b\b\b\b\b\b\b\b\b\b\b\b\b\b\b\b\b\b\b\b\b\b\b\b\b\b\b\b\b\b\b\b\b\b\b\b\b\r\u001b[1m45/45\u001b[0m \u001b[32m━━━━━━━━━━━━━━━━━━━━\u001b[0m\u001b[37m\u001b[0m \u001b[1m22s\u001b[0m 393ms/step - loss: 0.6931 - sparse_categorical_accuracy: 0.5093 - val_loss: 0.6930 - val_sparse_categorical_accuracy: 0.5090\n",
            "Epoch 53/150\n",
            "\u001b[1m22/45\u001b[0m \u001b[32m━━━━━━━━━\u001b[0m\u001b[37m━━━━━━━━━━━\u001b[0m \u001b[1m7s\u001b[0m 333ms/step - loss: 0.6937 - sparse_categorical_accuracy: 0.5017"
          ]
        },
        {
          "output_type": "stream",
          "name": "stderr",
          "text": [
            "[codecarbon INFO @ 05:29:24] Energy consumed for RAM : 0.002915 kWh. RAM Power : 10.0 W\n",
            "[codecarbon INFO @ 05:29:24] Delta energy consumed for CPU with constant : 0.000177 kWh, power : 42.5 W\n",
            "[codecarbon INFO @ 05:29:24] Energy consumed for All CPU : 0.012391 kWh\n",
            "[codecarbon INFO @ 05:29:24] Energy consumed for all GPUs : 0.018622 kWh. Total GPU Power : 61.37921816123826 W\n",
            "[codecarbon INFO @ 05:29:24] 0.033929 kWh of electricity used since the beginning.\n"
          ]
        },
        {
          "output_type": "stream",
          "name": "stdout",
          "text": [
            "\u001b[1m30/45\u001b[0m \u001b[32m━━━━━━━━━━━━━\u001b[0m\u001b[37m━━━━━━━\u001b[0m \u001b[1m5s\u001b[0m 334ms/step - loss: 0.6935 - sparse_categorical_accuracy: 0.5051"
          ]
        },
        {
          "output_type": "stream",
          "name": "stderr",
          "text": [
            "[codecarbon INFO @ 05:29:26] Energy consumed for RAM : 0.003082 kWh. RAM Power : 10.0 W\n",
            "[codecarbon INFO @ 05:29:26] Delta energy consumed for CPU with constant : 0.000177 kWh, power : 42.5 W\n",
            "[codecarbon INFO @ 05:29:26] Energy consumed for All CPU : 0.013098 kWh\n",
            "[codecarbon INFO @ 05:29:26] Energy consumed for all GPUs : 0.019135 kWh. Total GPU Power : 61.81731343150945 W\n",
            "[codecarbon INFO @ 05:29:26] 0.035314 kWh of electricity used since the beginning.\n"
          ]
        },
        {
          "output_type": "stream",
          "name": "stdout",
          "text": [
            "\u001b[1m45/45\u001b[0m \u001b[32m━━━━━━━━━━━━━━━━━━━━\u001b[0m\u001b[37m\u001b[0m \u001b[1m19s\u001b[0m 367ms/step - loss: 0.6932 - sparse_categorical_accuracy: 0.5089 - val_loss: 0.6930 - val_sparse_categorical_accuracy: 0.5090\n",
            "Epoch 54/150\n",
            "\u001b[1m18/45\u001b[0m \u001b[32m━━━━━━━━\u001b[0m\u001b[37m━━━━━━━━━━━━\u001b[0m \u001b[1m9s\u001b[0m 337ms/step - loss: 0.6933 - sparse_categorical_accuracy: 0.5055"
          ]
        },
        {
          "output_type": "stream",
          "name": "stderr",
          "text": [
            "[codecarbon INFO @ 05:29:39] Energy consumed for RAM : 0.002957 kWh. RAM Power : 10.0 W\n",
            "[codecarbon INFO @ 05:29:39] Delta energy consumed for CPU with constant : 0.000177 kWh, power : 42.5 W\n",
            "[codecarbon INFO @ 05:29:39] Energy consumed for All CPU : 0.012569 kWh\n",
            "[codecarbon INFO @ 05:29:39] Energy consumed for all GPUs : 0.018912 kWh. Total GPU Power : 69.55912536274998 W\n",
            "[codecarbon INFO @ 05:29:39] 0.034437 kWh of electricity used since the beginning.\n"
          ]
        },
        {
          "output_type": "stream",
          "name": "stdout",
          "text": [
            "\u001b[1m25/45\u001b[0m \u001b[32m━━━━━━━━━━━\u001b[0m\u001b[37m━━━━━━━━━\u001b[0m \u001b[1m6s\u001b[0m 337ms/step - loss: 0.6933 - sparse_categorical_accuracy: 0.5041"
          ]
        },
        {
          "output_type": "stream",
          "name": "stderr",
          "text": [
            "[codecarbon INFO @ 05:29:41] Energy consumed for RAM : 0.003123 kWh. RAM Power : 10.0 W\n",
            "[codecarbon INFO @ 05:29:41] Delta energy consumed for CPU with constant : 0.000177 kWh, power : 42.5 W\n",
            "[codecarbon INFO @ 05:29:41] Energy consumed for All CPU : 0.013275 kWh\n",
            "[codecarbon INFO @ 05:29:41] Energy consumed for all GPUs : 0.019425 kWh. Total GPU Power : 69.59384993360298 W\n",
            "[codecarbon INFO @ 05:29:41] 0.035823 kWh of electricity used since the beginning.\n"
          ]
        },
        {
          "output_type": "stream",
          "name": "stdout",
          "text": [
            "\u001b[1m45/45\u001b[0m \u001b[32m━━━━━━━━━━━━━━━━━━━━\u001b[0m\u001b[37m\u001b[0m \u001b[1m17s\u001b[0m 368ms/step - loss: 0.6932 - sparse_categorical_accuracy: 0.5060 - val_loss: 0.6930 - val_sparse_categorical_accuracy: 0.5090\n",
            "Epoch 55/150\n",
            "\u001b[1m 2/45\u001b[0m \u001b[37m━━━━━━━━━━━━━━━━━━━━\u001b[0m \u001b[1m13s\u001b[0m 316ms/step - loss: 0.6903 - sparse_categorical_accuracy: 0.5430"
          ]
        },
        {
          "output_type": "stream",
          "name": "stderr",
          "text": [
            "[codecarbon INFO @ 05:29:54] Energy consumed for RAM : 0.002999 kWh. RAM Power : 10.0 W\n",
            "[codecarbon INFO @ 05:29:54] Delta energy consumed for CPU with constant : 0.000177 kWh, power : 42.5 W\n",
            "[codecarbon INFO @ 05:29:54] Energy consumed for All CPU : 0.012746 kWh\n",
            "[codecarbon INFO @ 05:29:54] Energy consumed for all GPUs : 0.019170 kWh. Total GPU Power : 62.15028793432467 W\n",
            "[codecarbon INFO @ 05:29:54] 0.034915 kWh of electricity used since the beginning.\n",
            "[codecarbon INFO @ 05:29:54] 0.015361 g.CO2eq/s mean an estimation of 484.4281521825232 kg.CO2eq/year\n"
          ]
        },
        {
          "output_type": "stream",
          "name": "stdout",
          "text": [
            "\u001b[1m 9/45\u001b[0m \u001b[32m━━━━\u001b[0m\u001b[37m━━━━━━━━━━━━━━━━\u001b[0m \u001b[1m11s\u001b[0m 326ms/step - loss: 0.6922 - sparse_categorical_accuracy: 0.5147"
          ]
        },
        {
          "output_type": "stream",
          "name": "stderr",
          "text": [
            "[codecarbon INFO @ 05:29:56] Energy consumed for RAM : 0.003165 kWh. RAM Power : 10.0 W\n",
            "[codecarbon INFO @ 05:29:56] Delta energy consumed for CPU with constant : 0.000177 kWh, power : 42.5 W\n",
            "[codecarbon INFO @ 05:29:56] Energy consumed for All CPU : 0.013451 kWh\n",
            "[codecarbon INFO @ 05:29:56] Energy consumed for all GPUs : 0.019684 kWh. Total GPU Power : 62.172559121044614 W\n",
            "[codecarbon INFO @ 05:29:56] 0.036300 kWh of electricity used since the beginning.\n"
          ]
        },
        {
          "output_type": "stream",
          "name": "stdout",
          "text": [
            "\u001b[1m45/45\u001b[0m \u001b[32m━━━━━━━━━━━━━━━━━━━━\u001b[0m\u001b[37m\u001b[0m \u001b[1m0s\u001b[0m 329ms/step - loss: 0.6926 - sparse_categorical_accuracy: 0.5126"
          ]
        },
        {
          "output_type": "stream",
          "name": "stderr",
          "text": [
            "[codecarbon INFO @ 05:30:09] Energy consumed for RAM : 0.003040 kWh. RAM Power : 10.0 W\n",
            "[codecarbon INFO @ 05:30:09] Delta energy consumed for CPU with constant : 0.000177 kWh, power : 42.5 W\n",
            "[codecarbon INFO @ 05:30:09] Energy consumed for All CPU : 0.012923 kWh\n",
            "[codecarbon INFO @ 05:30:09] Energy consumed for all GPUs : 0.019460 kWh. Total GPU Power : 69.63146379620831 W\n",
            "[codecarbon INFO @ 05:30:09] 0.035423 kWh of electricity used since the beginning.\n"
          ]
        },
        {
          "output_type": "stream",
          "name": "stdout",
          "text": [
            "\b\b\b\b\b\b\b\b\b\b\b\b\b\b\b\b\b\b\b\b\b\b\b\b\b\b\b\b\b\b\b\b\b\b\b\b\b\b\b\b\b\b\b\b\b\b\b\b\b\b\b\b\b\b\b\b\b\b\b\b\b\b\b\b\b\b\b\b\b\b\b\b\b\b\b\b\b\b\b\b\b\b\b\b\b\b\b\b\b\b\b\b\b\r\u001b[1m45/45\u001b[0m \u001b[32m━━━━━━━━━━━━━━━━━━━━\u001b[0m\u001b[37m\u001b[0m \u001b[1m20s\u001b[0m 361ms/step - loss: 0.6926 - sparse_categorical_accuracy: 0.5127 - val_loss: 0.6930 - val_sparse_categorical_accuracy: 0.5090\n",
            "Epoch 56/150\n"
          ]
        },
        {
          "output_type": "stream",
          "name": "stderr",
          "text": [
            "[codecarbon INFO @ 05:30:11] Energy consumed for RAM : 0.003206 kWh. RAM Power : 10.0 W\n",
            "[codecarbon INFO @ 05:30:11] Delta energy consumed for CPU with constant : 0.000177 kWh, power : 42.5 W\n",
            "[codecarbon INFO @ 05:30:11] Energy consumed for All CPU : 0.013628 kWh\n",
            "[codecarbon INFO @ 05:30:11] Energy consumed for all GPUs : 0.019962 kWh. Total GPU Power : 66.76080383162528 W\n",
            "[codecarbon INFO @ 05:30:11] 0.036797 kWh of electricity used since the beginning.\n"
          ]
        },
        {
          "output_type": "stream",
          "name": "stdout",
          "text": [
            "\u001b[1m30/45\u001b[0m \u001b[32m━━━━━━━━━━━━━\u001b[0m\u001b[37m━━━━━━━\u001b[0m \u001b[1m4s\u001b[0m 330ms/step - loss: 0.6940 - sparse_categorical_accuracy: 0.4895"
          ]
        },
        {
          "output_type": "stream",
          "name": "stderr",
          "text": [
            "[codecarbon INFO @ 05:30:24] Energy consumed for RAM : 0.003082 kWh. RAM Power : 10.0 W\n",
            "[codecarbon INFO @ 05:30:24] Delta energy consumed for CPU with constant : 0.000177 kWh, power : 42.5 W\n",
            "[codecarbon INFO @ 05:30:24] Energy consumed for All CPU : 0.013100 kWh\n",
            "[codecarbon INFO @ 05:30:24] Energy consumed for all GPUs : 0.019717 kWh. Total GPU Power : 61.49478960191192 W\n",
            "[codecarbon INFO @ 05:30:24] 0.035898 kWh of electricity used since the beginning.\n"
          ]
        },
        {
          "output_type": "stream",
          "name": "stdout",
          "text": [
            "\u001b[1m38/45\u001b[0m \u001b[32m━━━━━━━━━━━━━━━━\u001b[0m\u001b[37m━━━━\u001b[0m \u001b[1m2s\u001b[0m 331ms/step - loss: 0.6938 - sparse_categorical_accuracy: 0.4936"
          ]
        },
        {
          "output_type": "stream",
          "name": "stderr",
          "text": [
            "[codecarbon INFO @ 05:30:26] Energy consumed for RAM : 0.003248 kWh. RAM Power : 10.0 W\n",
            "[codecarbon INFO @ 05:30:26] Delta energy consumed for CPU with constant : 0.000177 kWh, power : 42.5 W\n",
            "[codecarbon INFO @ 05:30:26] Energy consumed for All CPU : 0.013806 kWh\n",
            "[codecarbon INFO @ 05:30:26] Energy consumed for all GPUs : 0.020228 kWh. Total GPU Power : 63.847089261222806 W\n",
            "[codecarbon INFO @ 05:30:26] 0.037282 kWh of electricity used since the beginning.\n"
          ]
        },
        {
          "output_type": "stream",
          "name": "stdout",
          "text": [
            "\u001b[1m45/45\u001b[0m \u001b[32m━━━━━━━━━━━━━━━━━━━━\u001b[0m\u001b[37m\u001b[0m \u001b[1m22s\u001b[0m 390ms/step - loss: 0.6936 - sparse_categorical_accuracy: 0.4971 - val_loss: 0.6930 - val_sparse_categorical_accuracy: 0.5090\n",
            "Epoch 57/150\n",
            "\u001b[1m14/45\u001b[0m \u001b[32m━━━━━━\u001b[0m\u001b[37m━━━━━━━━━━━━━━\u001b[0m \u001b[1m10s\u001b[0m 333ms/step - loss: 0.6932 - sparse_categorical_accuracy: 0.5076"
          ]
        },
        {
          "output_type": "stream",
          "name": "stderr",
          "text": [
            "[codecarbon INFO @ 05:30:39] Energy consumed for RAM : 0.003124 kWh. RAM Power : 10.0 W\n",
            "[codecarbon INFO @ 05:30:39] Delta energy consumed for CPU with constant : 0.000177 kWh, power : 42.5 W\n",
            "[codecarbon INFO @ 05:30:39] Energy consumed for All CPU : 0.013277 kWh\n",
            "[codecarbon INFO @ 05:30:39] Energy consumed for all GPUs : 0.019970 kWh. Total GPU Power : 60.80250118606632 W\n",
            "[codecarbon INFO @ 05:30:39] 0.036370 kWh of electricity used since the beginning.\n"
          ]
        },
        {
          "output_type": "stream",
          "name": "stdout",
          "text": [
            "\u001b[1m21/45\u001b[0m \u001b[32m━━━━━━━━━\u001b[0m\u001b[37m━━━━━━━━━━━\u001b[0m \u001b[1m8s\u001b[0m 334ms/step - loss: 0.6929 - sparse_categorical_accuracy: 0.5127"
          ]
        },
        {
          "output_type": "stream",
          "name": "stderr",
          "text": [
            "[codecarbon INFO @ 05:30:41] Energy consumed for RAM : 0.003290 kWh. RAM Power : 10.0 W\n",
            "[codecarbon INFO @ 05:30:41] Delta energy consumed for CPU with constant : 0.000177 kWh, power : 42.5 W\n",
            "[codecarbon INFO @ 05:30:41] Energy consumed for All CPU : 0.013982 kWh\n",
            "[codecarbon INFO @ 05:30:41] Energy consumed for all GPUs : 0.020484 kWh. Total GPU Power : 61.31937721295409 W\n",
            "[codecarbon INFO @ 05:30:41] 0.037756 kWh of electricity used since the beginning.\n"
          ]
        },
        {
          "output_type": "stream",
          "name": "stdout",
          "text": [
            "\u001b[1m45/45\u001b[0m \u001b[32m━━━━━━━━━━━━━━━━━━━━\u001b[0m\u001b[37m\u001b[0m \u001b[1m21s\u001b[0m 394ms/step - loss: 0.6928 - sparse_categorical_accuracy: 0.5140 - val_loss: 0.6930 - val_sparse_categorical_accuracy: 0.5090\n",
            "Epoch 58/150\n"
          ]
        },
        {
          "output_type": "stream",
          "name": "stderr",
          "text": [
            "[codecarbon INFO @ 05:30:54] Energy consumed for RAM : 0.003165 kWh. RAM Power : 10.0 W\n",
            "[codecarbon INFO @ 05:30:54] Delta energy consumed for CPU with constant : 0.000177 kWh, power : 42.5 W\n",
            "[codecarbon INFO @ 05:30:54] Energy consumed for All CPU : 0.013453 kWh\n",
            "[codecarbon INFO @ 05:30:54] Energy consumed for all GPUs : 0.020235 kWh. Total GPU Power : 63.76885491974244 W\n",
            "[codecarbon INFO @ 05:30:54] 0.036854 kWh of electricity used since the beginning.\n"
          ]
        },
        {
          "output_type": "stream",
          "name": "stdout",
          "text": [
            "\u001b[1m 4/45\u001b[0m \u001b[32m━\u001b[0m\u001b[37m━━━━━━━━━━━━━━━━━━━\u001b[0m \u001b[1m13s\u001b[0m 331ms/step - loss: 0.6927 - sparse_categorical_accuracy: 0.5225"
          ]
        },
        {
          "output_type": "stream",
          "name": "stderr",
          "text": [
            "[codecarbon INFO @ 05:30:56] Energy consumed for RAM : 0.003331 kWh. RAM Power : 10.0 W\n",
            "[codecarbon INFO @ 05:30:56] Delta energy consumed for CPU with constant : 0.000177 kWh, power : 42.5 W\n",
            "[codecarbon INFO @ 05:30:56] Energy consumed for All CPU : 0.014159 kWh\n",
            "[codecarbon INFO @ 05:30:56] Energy consumed for all GPUs : 0.020742 kWh. Total GPU Power : 61.95421422147316 W\n",
            "[codecarbon INFO @ 05:30:56] 0.038232 kWh of electricity used since the beginning.\n"
          ]
        },
        {
          "output_type": "stream",
          "name": "stdout",
          "text": [
            "\b\b\b\b\b\b\b\b\b\b\b\b\b\b\b\b\b\b\b\b\b\b\b\b\b\b\b\b\b\b\b\b\b\b\b\b\b\b\b\b\b\b\b\b\b\b\b\b\b\b\b\b\b\b\b\b\b\b\b\b\b\b\b\b\b\b\b\b\b\b\b\b\b\b\b\b\b\b\b\b\b\b\b\b\b\b\b\b\b\b\b\b\b\b\r\u001b[1m 5/45\u001b[0m \u001b[32m━━\u001b[0m\u001b[37m━━━━━━━━━━━━━━━━━━\u001b[0m \u001b[1m13s\u001b[0m 332ms/step - loss: 0.6928 - sparse_categorical_accuracy: 0.5198"
          ]
        },
        {
          "output_type": "stream",
          "name": "stderr",
          "text": [
            "[codecarbon INFO @ 05:30:56] 0.015311 g.CO2eq/s mean an estimation of 482.85923169997557 kg.CO2eq/year\n"
          ]
        },
        {
          "output_type": "stream",
          "name": "stdout",
          "text": [
            "\u001b[1m42/45\u001b[0m \u001b[32m━━━━━━━━━━━━━━━━━━\u001b[0m\u001b[37m━━\u001b[0m \u001b[1m1s\u001b[0m 334ms/step - loss: 0.6931 - sparse_categorical_accuracy: 0.5109"
          ]
        },
        {
          "output_type": "stream",
          "name": "stderr",
          "text": [
            "[codecarbon INFO @ 05:31:09] Energy consumed for RAM : 0.003207 kWh. RAM Power : 10.0 W\n",
            "[codecarbon INFO @ 05:31:09] Delta energy consumed for CPU with constant : 0.000177 kWh, power : 42.5 W\n",
            "[codecarbon INFO @ 05:31:09] Energy consumed for All CPU : 0.013630 kWh\n",
            "[codecarbon INFO @ 05:31:09] Energy consumed for all GPUs : 0.020518 kWh. Total GPU Power : 67.81440797540564 W\n",
            "[codecarbon INFO @ 05:31:09] 0.037355 kWh of electricity used since the beginning.\n"
          ]
        },
        {
          "output_type": "stream",
          "name": "stdout",
          "text": [
            "\u001b[1m45/45\u001b[0m \u001b[32m━━━━━━━━━━━━━━━━━━━━\u001b[0m\u001b[37m\u001b[0m \u001b[1m19s\u001b[0m 366ms/step - loss: 0.6931 - sparse_categorical_accuracy: 0.5110 - val_loss: 0.6930 - val_sparse_categorical_accuracy: 0.5090\n",
            "Epoch 59/150\n"
          ]
        },
        {
          "output_type": "stream",
          "name": "stderr",
          "text": [
            "[codecarbon INFO @ 05:31:11] Energy consumed for RAM : 0.003373 kWh. RAM Power : 10.0 W\n",
            "[codecarbon INFO @ 05:31:11] Delta energy consumed for CPU with constant : 0.000177 kWh, power : 42.5 W\n",
            "[codecarbon INFO @ 05:31:11] Energy consumed for All CPU : 0.014336 kWh\n",
            "[codecarbon INFO @ 05:31:11] Energy consumed for all GPUs : 0.021030 kWh. Total GPU Power : 69.2449862736581 W\n",
            "[codecarbon INFO @ 05:31:11] 0.038739 kWh of electricity used since the beginning.\n"
          ]
        },
        {
          "output_type": "stream",
          "name": "stdout",
          "text": [
            "\u001b[1m26/45\u001b[0m \u001b[32m━━━━━━━━━━━\u001b[0m\u001b[37m━━━━━━━━━\u001b[0m \u001b[1m6s\u001b[0m 330ms/step - loss: 0.6940 - sparse_categorical_accuracy: 0.4840"
          ]
        },
        {
          "output_type": "stream",
          "name": "stderr",
          "text": [
            "[codecarbon INFO @ 05:31:24] Energy consumed for RAM : 0.003249 kWh. RAM Power : 10.0 W\n",
            "[codecarbon INFO @ 05:31:24] Delta energy consumed for CPU with constant : 0.000177 kWh, power : 42.5 W\n",
            "[codecarbon INFO @ 05:31:24] Energy consumed for All CPU : 0.013807 kWh\n",
            "[codecarbon INFO @ 05:31:24] Energy consumed for all GPUs : 0.020777 kWh. Total GPU Power : 62.18450224858741 W\n",
            "[codecarbon INFO @ 05:31:24] 0.037833 kWh of electricity used since the beginning.\n"
          ]
        },
        {
          "output_type": "stream",
          "name": "stdout",
          "text": [
            "\u001b[1m33/45\u001b[0m \u001b[32m━━━━━━━━━━━━━━\u001b[0m\u001b[37m━━━━━━\u001b[0m \u001b[1m3s\u001b[0m 331ms/step - loss: 0.6938 - sparse_categorical_accuracy: 0.4871"
          ]
        },
        {
          "output_type": "stream",
          "name": "stderr",
          "text": [
            "[codecarbon INFO @ 05:31:26] Energy consumed for RAM : 0.003415 kWh. RAM Power : 10.0 W\n",
            "[codecarbon INFO @ 05:31:26] Delta energy consumed for CPU with constant : 0.000177 kWh, power : 42.5 W\n",
            "[codecarbon INFO @ 05:31:26] Energy consumed for All CPU : 0.014514 kWh\n",
            "[codecarbon INFO @ 05:31:26] Energy consumed for all GPUs : 0.021288 kWh. Total GPU Power : 61.993274163313465 W\n",
            "[codecarbon INFO @ 05:31:26] 0.039217 kWh of electricity used since the beginning.\n"
          ]
        },
        {
          "output_type": "stream",
          "name": "stdout",
          "text": [
            "\u001b[1m45/45\u001b[0m \u001b[32m━━━━━━━━━━━━━━━━━━━━\u001b[0m\u001b[37m\u001b[0m \u001b[1m21s\u001b[0m 390ms/step - loss: 0.6936 - sparse_categorical_accuracy: 0.4932 - val_loss: 0.6930 - val_sparse_categorical_accuracy: 0.5090\n",
            "Epoch 60/150\n",
            "\u001b[1m10/45\u001b[0m \u001b[32m━━━━\u001b[0m\u001b[37m━━━━━━━━━━━━━━━━\u001b[0m \u001b[1m11s\u001b[0m 327ms/step - loss: 0.6918 - sparse_categorical_accuracy: 0.5372"
          ]
        },
        {
          "output_type": "stream",
          "name": "stderr",
          "text": [
            "[codecarbon INFO @ 05:31:39] Energy consumed for RAM : 0.003290 kWh. RAM Power : 10.0 W\n",
            "[codecarbon INFO @ 05:31:39] Delta energy consumed for CPU with constant : 0.000177 kWh, power : 42.5 W\n",
            "[codecarbon INFO @ 05:31:39] Energy consumed for All CPU : 0.013984 kWh\n",
            "[codecarbon INFO @ 05:31:39] Energy consumed for all GPUs : 0.021028 kWh. Total GPU Power : 60.25912222235199 W\n",
            "[codecarbon INFO @ 05:31:39] 0.038302 kWh of electricity used since the beginning.\n"
          ]
        },
        {
          "output_type": "stream",
          "name": "stdout",
          "text": [
            "\u001b[1m17/45\u001b[0m \u001b[32m━━━━━━━\u001b[0m\u001b[37m━━━━━━━━━━━━━\u001b[0m \u001b[1m9s\u001b[0m 328ms/step - loss: 0.6913 - sparse_categorical_accuracy: 0.5452"
          ]
        },
        {
          "output_type": "stream",
          "name": "stderr",
          "text": [
            "[codecarbon INFO @ 05:31:41] Energy consumed for RAM : 0.003456 kWh. RAM Power : 10.0 W\n",
            "[codecarbon INFO @ 05:31:41] Delta energy consumed for CPU with constant : 0.000177 kWh, power : 42.5 W\n",
            "[codecarbon INFO @ 05:31:41] Energy consumed for All CPU : 0.014690 kWh\n",
            "[codecarbon INFO @ 05:31:41] Energy consumed for all GPUs : 0.021541 kWh. Total GPU Power : 60.683842768000304 W\n",
            "[codecarbon INFO @ 05:31:41] 0.039688 kWh of electricity used since the beginning.\n"
          ]
        },
        {
          "output_type": "stream",
          "name": "stdout",
          "text": [
            "\u001b[1m45/45\u001b[0m \u001b[32m━━━━━━━━━━━━━━━━━━━━\u001b[0m\u001b[37m\u001b[0m \u001b[1m19s\u001b[0m 363ms/step - loss: 0.6918 - sparse_categorical_accuracy: 0.5342 - val_loss: 0.6931 - val_sparse_categorical_accuracy: 0.5090\n",
            "Epoch 61/150\n"
          ]
        },
        {
          "output_type": "stream",
          "name": "stderr",
          "text": [
            "[codecarbon INFO @ 05:31:54] Energy consumed for RAM : 0.003332 kWh. RAM Power : 10.0 W\n",
            "[codecarbon INFO @ 05:31:54] Delta energy consumed for CPU with constant : 0.000177 kWh, power : 42.5 W\n",
            "[codecarbon INFO @ 05:31:54] Energy consumed for All CPU : 0.014161 kWh\n",
            "[codecarbon INFO @ 05:31:54] Energy consumed for all GPUs : 0.021302 kWh. Total GPU Power : 65.96226903299139 W\n",
            "[codecarbon INFO @ 05:31:54] 0.038795 kWh of electricity used since the beginning.\n",
            "[codecarbon INFO @ 05:31:54] 0.015224 g.CO2eq/s mean an estimation of 480.1126089659775 kg.CO2eq/year\n",
            "[codecarbon INFO @ 05:31:56] Energy consumed for RAM : 0.003498 kWh. RAM Power : 10.0 W\n",
            "[codecarbon INFO @ 05:31:56] Delta energy consumed for CPU with constant : 0.000177 kWh, power : 42.5 W\n",
            "[codecarbon INFO @ 05:31:56] Energy consumed for All CPU : 0.014867 kWh\n",
            "[codecarbon INFO @ 05:31:56] Energy consumed for all GPUs : 0.021796 kWh. Total GPU Power : 61.26461903111585 W\n",
            "[codecarbon INFO @ 05:31:56] 0.040162 kWh of electricity used since the beginning.\n"
          ]
        },
        {
          "output_type": "stream",
          "name": "stdout",
          "text": [
            "\u001b[1m38/45\u001b[0m \u001b[32m━━━━━━━━━━━━━━━━\u001b[0m\u001b[37m━━━━\u001b[0m \u001b[1m2s\u001b[0m 334ms/step - loss: 0.6926 - sparse_categorical_accuracy: 0.5181"
          ]
        },
        {
          "output_type": "stream",
          "name": "stderr",
          "text": [
            "[codecarbon INFO @ 05:32:09] Energy consumed for RAM : 0.003373 kWh. RAM Power : 10.0 W\n",
            "[codecarbon INFO @ 05:32:09] Delta energy consumed for CPU with constant : 0.000177 kWh, power : 42.5 W\n",
            "[codecarbon INFO @ 05:32:09] Energy consumed for All CPU : 0.014338 kWh\n",
            "[codecarbon INFO @ 05:32:09] Energy consumed for all GPUs : 0.021573 kWh. Total GPU Power : 64.89223738965089 W\n",
            "[codecarbon INFO @ 05:32:09] 0.039284 kWh of electricity used since the beginning.\n"
          ]
        },
        {
          "output_type": "stream",
          "name": "stdout",
          "text": [
            "\u001b[1m45/45\u001b[0m \u001b[32m━━━━━━━━━━━━━━━━━━━━\u001b[0m\u001b[37m\u001b[0m \u001b[1m0s\u001b[0m 335ms/step - loss: 0.6927 - sparse_categorical_accuracy: 0.5170"
          ]
        },
        {
          "output_type": "stream",
          "name": "stderr",
          "text": [
            "[codecarbon INFO @ 05:32:11] Energy consumed for RAM : 0.003540 kWh. RAM Power : 10.0 W\n",
            "[codecarbon INFO @ 05:32:11] Delta energy consumed for CPU with constant : 0.000177 kWh, power : 42.5 W\n",
            "[codecarbon INFO @ 05:32:11] Energy consumed for All CPU : 0.015044 kWh\n",
            "[codecarbon INFO @ 05:32:11] Energy consumed for all GPUs : 0.022086 kWh. Total GPU Power : 69.59698274795703 W\n",
            "[codecarbon INFO @ 05:32:11] 0.040670 kWh of electricity used since the beginning.\n"
          ]
        },
        {
          "output_type": "stream",
          "name": "stdout",
          "text": [
            "\b\b\b\b\b\b\b\b\b\b\b\b\b\b\b\b\b\b\b\b\b\b\b\b\b\b\b\b\b\b\b\b\b\b\b\b\b\b\b\b\b\b\b\b\b\b\b\b\b\b\b\b\b\b\b\b\b\b\b\b\b\b\b\b\b\b\b\b\b\b\b\b\b\b\b\b\b\b\b\b\b\b\b\b\b\b\b\b\b\b\b\b\b\r\u001b[1m45/45\u001b[0m \u001b[32m━━━━━━━━━━━━━━━━━━━━\u001b[0m\u001b[37m\u001b[0m \u001b[1m22s\u001b[0m 394ms/step - loss: 0.6927 - sparse_categorical_accuracy: 0.5169 - val_loss: 0.6930 - val_sparse_categorical_accuracy: 0.5090\n",
            "Epoch 62/150\n",
            "\u001b[1m22/45\u001b[0m \u001b[32m━━━━━━━━━\u001b[0m\u001b[37m━━━━━━━━━━━\u001b[0m \u001b[1m7s\u001b[0m 334ms/step - loss: 0.6929 - sparse_categorical_accuracy: 0.5138"
          ]
        },
        {
          "output_type": "stream",
          "name": "stderr",
          "text": [
            "[codecarbon INFO @ 05:32:24] Energy consumed for RAM : 0.003415 kWh. RAM Power : 10.0 W\n",
            "[codecarbon INFO @ 05:32:24] Delta energy consumed for CPU with constant : 0.000177 kWh, power : 42.5 W\n",
            "[codecarbon INFO @ 05:32:24] Energy consumed for All CPU : 0.014515 kWh\n",
            "[codecarbon INFO @ 05:32:24] Energy consumed for all GPUs : 0.021830 kWh. Total GPU Power : 61.90235334017964 W\n",
            "[codecarbon INFO @ 05:32:24] 0.039761 kWh of electricity used since the beginning.\n"
          ]
        },
        {
          "output_type": "stream",
          "name": "stdout",
          "text": [
            "\u001b[1m29/45\u001b[0m \u001b[32m━━━━━━━━━━━━\u001b[0m\u001b[37m━━━━━━━━\u001b[0m \u001b[1m5s\u001b[0m 334ms/step - loss: 0.6930 - sparse_categorical_accuracy: 0.5133"
          ]
        },
        {
          "output_type": "stream",
          "name": "stderr",
          "text": [
            "[codecarbon INFO @ 05:32:26] Energy consumed for RAM : 0.003581 kWh. RAM Power : 10.0 W\n",
            "[codecarbon INFO @ 05:32:26] Delta energy consumed for CPU with constant : 0.000177 kWh, power : 42.5 W\n",
            "[codecarbon INFO @ 05:32:26] Energy consumed for All CPU : 0.015221 kWh\n",
            "[codecarbon INFO @ 05:32:26] Energy consumed for all GPUs : 0.022344 kWh. Total GPU Power : 61.930450310434445 W\n",
            "[codecarbon INFO @ 05:32:26] 0.041147 kWh of electricity used since the beginning.\n"
          ]
        },
        {
          "output_type": "stream",
          "name": "stdout",
          "text": [
            "\u001b[1m45/45\u001b[0m \u001b[32m━━━━━━━━━━━━━━━━━━━━\u001b[0m\u001b[37m\u001b[0m \u001b[1m19s\u001b[0m 366ms/step - loss: 0.6930 - sparse_categorical_accuracy: 0.5122 - val_loss: 0.6930 - val_sparse_categorical_accuracy: 0.5090\n",
            "Epoch 63/150\n",
            "\u001b[1m 5/45\u001b[0m \u001b[32m━━\u001b[0m\u001b[37m━━━━━━━━━━━━━━━━━━\u001b[0m \u001b[1m13s\u001b[0m 327ms/step - loss: 0.6945 - sparse_categorical_accuracy: 0.4802"
          ]
        },
        {
          "output_type": "stream",
          "name": "stderr",
          "text": [
            "[codecarbon INFO @ 05:32:39] Energy consumed for RAM : 0.003457 kWh. RAM Power : 10.0 W\n",
            "[codecarbon INFO @ 05:32:39] Delta energy consumed for CPU with constant : 0.000177 kWh, power : 42.5 W\n",
            "[codecarbon INFO @ 05:32:39] Energy consumed for All CPU : 0.014692 kWh\n",
            "[codecarbon INFO @ 05:32:39] Energy consumed for all GPUs : 0.022089 kWh. Total GPU Power : 62.142991735226545 W\n",
            "[codecarbon INFO @ 05:32:39] 0.040238 kWh of electricity used since the beginning.\n"
          ]
        },
        {
          "output_type": "stream",
          "name": "stdout",
          "text": [
            "\u001b[1m13/45\u001b[0m \u001b[32m━━━━━\u001b[0m\u001b[37m━━━━━━━━━━━━━━━\u001b[0m \u001b[1m10s\u001b[0m 329ms/step - loss: 0.6937 - sparse_categorical_accuracy: 0.4960"
          ]
        },
        {
          "output_type": "stream",
          "name": "stderr",
          "text": [
            "[codecarbon INFO @ 05:32:41] Energy consumed for RAM : 0.003623 kWh. RAM Power : 10.0 W\n",
            "[codecarbon INFO @ 05:32:41] Delta energy consumed for CPU with constant : 0.000177 kWh, power : 42.5 W\n",
            "[codecarbon INFO @ 05:32:41] Energy consumed for All CPU : 0.015398 kWh\n",
            "[codecarbon INFO @ 05:32:41] Energy consumed for all GPUs : 0.022603 kWh. Total GPU Power : 62.093553364307596 W\n",
            "[codecarbon INFO @ 05:32:41] 0.041624 kWh of electricity used since the beginning.\n"
          ]
        },
        {
          "output_type": "stream",
          "name": "stdout",
          "text": [
            "\u001b[1m45/45\u001b[0m \u001b[32m━━━━━━━━━━━━━━━━━━━━\u001b[0m\u001b[37m\u001b[0m \u001b[1m0s\u001b[0m 331ms/step - loss: 0.6931 - sparse_categorical_accuracy: 0.5080"
          ]
        },
        {
          "output_type": "stream",
          "name": "stderr",
          "text": [
            "[codecarbon INFO @ 05:32:54] Energy consumed for RAM : 0.003498 kWh. RAM Power : 10.0 W\n",
            "[codecarbon INFO @ 05:32:54] Delta energy consumed for CPU with constant : 0.000177 kWh, power : 42.5 W\n",
            "[codecarbon INFO @ 05:32:54] Energy consumed for All CPU : 0.014869 kWh\n",
            "[codecarbon INFO @ 05:32:54] Energy consumed for all GPUs : 0.022374 kWh. Total GPU Power : 68.396755087349 W\n",
            "[codecarbon INFO @ 05:32:54] 0.040742 kWh of electricity used since the beginning.\n"
          ]
        },
        {
          "output_type": "stream",
          "name": "stdout",
          "text": [
            "\b\b\b\b\b\b\b\b\b\b\b\b\b\b\b\b\b\b\b\b\b\b\b\b\b\b\b\b\b\b\b\b\b\b\b\b\b\b\b\b\b\b\b\b\b\b\b\b\b\b\b\b\b\b\b\b\b\b\b\b\b\b\b\b\b\b\b\b\b\b\b\b\b\b\b\b\b\b\b\b\b\b\b\b\b\b\b\b\b\b\b\b\b\r\u001b[1m45/45\u001b[0m \u001b[32m━━━━━━━━━━━━━━━━━━━━\u001b[0m\u001b[37m\u001b[0m \u001b[1m21s\u001b[0m 390ms/step - loss: 0.6931 - sparse_categorical_accuracy: 0.5081 - val_loss: 0.6930 - val_sparse_categorical_accuracy: 0.5090\n",
            "Epoch 64/150\n"
          ]
        },
        {
          "output_type": "stream",
          "name": "stderr",
          "text": [
            "[codecarbon INFO @ 05:32:56] Energy consumed for RAM : 0.003664 kWh. RAM Power : 10.0 W\n",
            "[codecarbon INFO @ 05:32:56] Delta energy consumed for CPU with constant : 0.000177 kWh, power : 42.5 W\n",
            "[codecarbon INFO @ 05:32:56] Energy consumed for All CPU : 0.015575 kWh\n",
            "[codecarbon INFO @ 05:32:56] Energy consumed for all GPUs : 0.022866 kWh. Total GPU Power : 63.27445621867191 W\n",
            "[codecarbon INFO @ 05:32:56] 0.042106 kWh of electricity used since the beginning.\n",
            "[codecarbon INFO @ 05:32:56] 0.015196 g.CO2eq/s mean an estimation of 479.20724839309435 kg.CO2eq/year\n"
          ]
        },
        {
          "output_type": "stream",
          "name": "stdout",
          "text": [
            "\u001b[1m34/45\u001b[0m \u001b[32m━━━━━━━━━━━━━━━\u001b[0m\u001b[37m━━━━━\u001b[0m \u001b[1m3s\u001b[0m 331ms/step - loss: 0.6922 - sparse_categorical_accuracy: 0.5277"
          ]
        },
        {
          "output_type": "stream",
          "name": "stderr",
          "text": [
            "[codecarbon INFO @ 05:33:09] Energy consumed for RAM : 0.003540 kWh. RAM Power : 10.0 W\n",
            "[codecarbon INFO @ 05:33:09] Delta energy consumed for CPU with constant : 0.000177 kWh, power : 42.5 W\n",
            "[codecarbon INFO @ 05:33:09] Energy consumed for All CPU : 0.015046 kWh\n",
            "[codecarbon INFO @ 05:33:09] Energy consumed for all GPUs : 0.022633 kWh. Total GPU Power : 62.10898341989633 W\n",
            "[codecarbon INFO @ 05:33:09] 0.041219 kWh of electricity used since the beginning.\n"
          ]
        },
        {
          "output_type": "stream",
          "name": "stdout",
          "text": [
            "\u001b[1m41/45\u001b[0m \u001b[32m━━━━━━━━━━━━━━━━━━\u001b[0m\u001b[37m━━\u001b[0m \u001b[1m1s\u001b[0m 332ms/step - loss: 0.6923 - sparse_categorical_accuracy: 0.5258"
          ]
        },
        {
          "output_type": "stream",
          "name": "stderr",
          "text": [
            "[codecarbon INFO @ 05:33:11] Energy consumed for RAM : 0.003706 kWh. RAM Power : 10.0 W\n",
            "[codecarbon INFO @ 05:33:11] Delta energy consumed for CPU with constant : 0.000177 kWh, power : 42.5 W\n",
            "[codecarbon INFO @ 05:33:11] Energy consumed for All CPU : 0.015752 kWh\n",
            "[codecarbon INFO @ 05:33:11] Energy consumed for all GPUs : 0.023146 kWh. Total GPU Power : 67.25197919358851 W\n",
            "[codecarbon INFO @ 05:33:11] 0.042605 kWh of electricity used since the beginning.\n"
          ]
        },
        {
          "output_type": "stream",
          "name": "stdout",
          "text": [
            "\u001b[1m45/45\u001b[0m \u001b[32m━━━━━━━━━━━━━━━━━━━━\u001b[0m\u001b[37m\u001b[0m \u001b[1m19s\u001b[0m 364ms/step - loss: 0.6923 - sparse_categorical_accuracy: 0.5245 - val_loss: 0.6930 - val_sparse_categorical_accuracy: 0.5090\n",
            "Epoch 65/150\n",
            "\u001b[1m18/45\u001b[0m \u001b[32m━━━━━━━━\u001b[0m\u001b[37m━━━━━━━━━━━━\u001b[0m \u001b[1m8s\u001b[0m 333ms/step - loss: 0.6927 - sparse_categorical_accuracy: 0.5211"
          ]
        },
        {
          "output_type": "stream",
          "name": "stderr",
          "text": [
            "[codecarbon INFO @ 05:33:24] Energy consumed for RAM : 0.003582 kWh. RAM Power : 10.0 W\n",
            "[codecarbon INFO @ 05:33:24] Delta energy consumed for CPU with constant : 0.000177 kWh, power : 42.5 W\n",
            "[codecarbon INFO @ 05:33:24] Energy consumed for All CPU : 0.015223 kWh\n",
            "[codecarbon INFO @ 05:33:24] Energy consumed for all GPUs : 0.022889 kWh. Total GPU Power : 61.33504243442364 W\n",
            "[codecarbon INFO @ 05:33:24] 0.041694 kWh of electricity used since the beginning.\n"
          ]
        },
        {
          "output_type": "stream",
          "name": "stdout",
          "text": [
            "\u001b[1m25/45\u001b[0m \u001b[32m━━━━━━━━━━━\u001b[0m\u001b[37m━━━━━━━━━\u001b[0m \u001b[1m6s\u001b[0m 333ms/step - loss: 0.6929 - sparse_categorical_accuracy: 0.5167"
          ]
        },
        {
          "output_type": "stream",
          "name": "stderr",
          "text": [
            "[codecarbon INFO @ 05:33:26] Energy consumed for RAM : 0.003748 kWh. RAM Power : 10.0 W\n",
            "[codecarbon INFO @ 05:33:26] Delta energy consumed for CPU with constant : 0.000177 kWh, power : 42.5 W\n",
            "[codecarbon INFO @ 05:33:26] Energy consumed for All CPU : 0.015929 kWh\n",
            "[codecarbon INFO @ 05:33:26] Energy consumed for all GPUs : 0.023402 kWh. Total GPU Power : 61.37248282361749 W\n",
            "[codecarbon INFO @ 05:33:26] 0.043079 kWh of electricity used since the beginning.\n"
          ]
        },
        {
          "output_type": "stream",
          "name": "stdout",
          "text": [
            "\u001b[1m45/45\u001b[0m \u001b[32m━━━━━━━━━━━━━━━━━━━━\u001b[0m\u001b[37m\u001b[0m \u001b[1m22s\u001b[0m 393ms/step - loss: 0.6929 - sparse_categorical_accuracy: 0.5147 - val_loss: 0.6930 - val_sparse_categorical_accuracy: 0.5090\n",
            "Epoch 66/150\n",
            "\u001b[1m 1/45\u001b[0m \u001b[37m━━━━━━━━━━━━━━━━━━━━\u001b[0m \u001b[1m2:18\u001b[0m 3s/step - loss: 0.6916 - sparse_categorical_accuracy: 0.5469"
          ]
        },
        {
          "output_type": "stream",
          "name": "stderr",
          "text": [
            "[codecarbon INFO @ 05:33:39] Energy consumed for RAM : 0.003623 kWh. RAM Power : 10.0 W\n",
            "[codecarbon INFO @ 05:33:39] Delta energy consumed for CPU with constant : 0.000177 kWh, power : 42.5 W\n",
            "[codecarbon INFO @ 05:33:39] Energy consumed for All CPU : 0.015400 kWh\n",
            "[codecarbon INFO @ 05:33:39] Energy consumed for all GPUs : 0.023148 kWh. Total GPU Power : 62.323672458226426 W\n",
            "[codecarbon INFO @ 05:33:39] 0.042172 kWh of electricity used since the beginning.\n"
          ]
        },
        {
          "output_type": "stream",
          "name": "stdout",
          "text": [
            "\u001b[1m 8/45\u001b[0m \u001b[32m━━━\u001b[0m\u001b[37m━━━━━━━━━━━━━━━━━\u001b[0m \u001b[1m12s\u001b[0m 330ms/step - loss: 0.6942 - sparse_categorical_accuracy: 0.4883"
          ]
        },
        {
          "output_type": "stream",
          "name": "stderr",
          "text": [
            "[codecarbon INFO @ 05:33:41] Energy consumed for RAM : 0.003789 kWh. RAM Power : 10.0 W\n",
            "[codecarbon INFO @ 05:33:41] Delta energy consumed for CPU with constant : 0.000177 kWh, power : 42.5 W\n",
            "[codecarbon INFO @ 05:33:41] Energy consumed for All CPU : 0.016106 kWh\n",
            "[codecarbon INFO @ 05:33:41] Energy consumed for all GPUs : 0.023662 kWh. Total GPU Power : 62.342778803412905 W\n",
            "[codecarbon INFO @ 05:33:41] 0.043557 kWh of electricity used since the beginning.\n"
          ]
        },
        {
          "output_type": "stream",
          "name": "stdout",
          "text": [
            "\u001b[1m45/45\u001b[0m \u001b[32m━━━━━━━━━━━━━━━━━━━━\u001b[0m\u001b[37m\u001b[0m \u001b[1m0s\u001b[0m 334ms/step - loss: 0.6936 - sparse_categorical_accuracy: 0.4972"
          ]
        },
        {
          "output_type": "stream",
          "name": "stderr",
          "text": [
            "[codecarbon INFO @ 05:33:54] Energy consumed for RAM : 0.003665 kWh. RAM Power : 10.0 W\n",
            "[codecarbon INFO @ 05:33:54] Delta energy consumed for CPU with constant : 0.000177 kWh, power : 42.5 W\n",
            "[codecarbon INFO @ 05:33:54] Energy consumed for All CPU : 0.015577 kWh\n",
            "[codecarbon INFO @ 05:33:54] Energy consumed for all GPUs : 0.023438 kWh. Total GPU Power : 69.56064469725891 W\n",
            "[codecarbon INFO @ 05:33:54] 0.042680 kWh of electricity used since the beginning.\n",
            "[codecarbon INFO @ 05:33:54] 0.015240 g.CO2eq/s mean an estimation of 480.6059990396937 kg.CO2eq/year\n"
          ]
        },
        {
          "output_type": "stream",
          "name": "stdout",
          "text": [
            "\b\b\b\b\b\b\b\b\b\b\b\b\b\b\b\b\b\b\b\b\b\b\b\b\b\b\b\b\b\b\b\b\b\b\b\b\b\b\b\b\b\b\b\b\b\b\b\b\b\b\b\b\b\b\b\b\b\b\b\b\b\b\b\b\b\b\b\b\b\b\b\b\b\b\b\b\b\b\b\b\b\b\b\b\b\b\b\b\b\b\b\b\b\r\u001b[1m45/45\u001b[0m \u001b[32m━━━━━━━━━━━━━━━━━━━━\u001b[0m\u001b[37m\u001b[0m \u001b[1m20s\u001b[0m 392ms/step - loss: 0.6936 - sparse_categorical_accuracy: 0.4976 - val_loss: 0.6930 - val_sparse_categorical_accuracy: 0.5090\n",
            "Epoch 67/150\n"
          ]
        },
        {
          "output_type": "stream",
          "name": "stderr",
          "text": [
            "[codecarbon INFO @ 05:33:56] Energy consumed for RAM : 0.003831 kWh. RAM Power : 10.0 W\n",
            "[codecarbon INFO @ 05:33:56] Delta energy consumed for CPU with constant : 0.000177 kWh, power : 42.5 W\n",
            "[codecarbon INFO @ 05:33:56] Energy consumed for All CPU : 0.016283 kWh\n",
            "[codecarbon INFO @ 05:33:56] Energy consumed for all GPUs : 0.023942 kWh. Total GPU Power : 67.20950447175441 W\n",
            "[codecarbon INFO @ 05:33:56] 0.044056 kWh of electricity used since the beginning.\n"
          ]
        },
        {
          "output_type": "stream",
          "name": "stdout",
          "text": [
            "\u001b[1m30/45\u001b[0m \u001b[32m━━━━━━━━━━━━━\u001b[0m\u001b[37m━━━━━━━\u001b[0m \u001b[1m4s\u001b[0m 331ms/step - loss: 0.6937 - sparse_categorical_accuracy: 0.4989"
          ]
        },
        {
          "output_type": "stream",
          "name": "stderr",
          "text": [
            "[codecarbon INFO @ 05:34:09] Energy consumed for RAM : 0.003707 kWh. RAM Power : 10.0 W\n",
            "[codecarbon INFO @ 05:34:09] Delta energy consumed for CPU with constant : 0.000177 kWh, power : 42.5 W\n",
            "[codecarbon INFO @ 05:34:09] Energy consumed for All CPU : 0.015754 kWh\n",
            "[codecarbon INFO @ 05:34:09] Energy consumed for all GPUs : 0.023696 kWh. Total GPU Power : 62.039146379630864 W\n",
            "[codecarbon INFO @ 05:34:09] 0.043157 kWh of electricity used since the beginning.\n"
          ]
        },
        {
          "output_type": "stream",
          "name": "stdout",
          "text": [
            "\u001b[1m37/45\u001b[0m \u001b[32m━━━━━━━━━━━━━━━━\u001b[0m\u001b[37m━━━━\u001b[0m \u001b[1m2s\u001b[0m 332ms/step - loss: 0.6936 - sparse_categorical_accuracy: 0.5002"
          ]
        },
        {
          "output_type": "stream",
          "name": "stderr",
          "text": [
            "[codecarbon INFO @ 05:34:11] Energy consumed for RAM : 0.003873 kWh. RAM Power : 10.0 W\n",
            "[codecarbon INFO @ 05:34:11] Delta energy consumed for CPU with constant : 0.000177 kWh, power : 42.5 W\n",
            "[codecarbon INFO @ 05:34:11] Energy consumed for All CPU : 0.016460 kWh\n",
            "[codecarbon INFO @ 05:34:11] Energy consumed for all GPUs : 0.024208 kWh. Total GPU Power : 63.886998206515294 W\n",
            "[codecarbon INFO @ 05:34:11] 0.044541 kWh of electricity used since the beginning.\n"
          ]
        },
        {
          "output_type": "stream",
          "name": "stdout",
          "text": [
            "\u001b[1m45/45\u001b[0m \u001b[32m━━━━━━━━━━━━━━━━━━━━\u001b[0m\u001b[37m\u001b[0m \u001b[1m19s\u001b[0m 364ms/step - loss: 0.6935 - sparse_categorical_accuracy: 0.5028 - val_loss: 0.6930 - val_sparse_categorical_accuracy: 0.5090\n",
            "Epoch 68/150\n",
            "\u001b[1m13/45\u001b[0m \u001b[32m━━━━━\u001b[0m\u001b[37m━━━━━━━━━━━━━━━\u001b[0m \u001b[1m10s\u001b[0m 330ms/step - loss: 0.6927 - sparse_categorical_accuracy: 0.5144"
          ]
        },
        {
          "output_type": "stream",
          "name": "stderr",
          "text": [
            "[codecarbon INFO @ 05:34:24] Energy consumed for RAM : 0.003748 kWh. RAM Power : 10.0 W\n",
            "[codecarbon INFO @ 05:34:24] Delta energy consumed for CPU with constant : 0.000177 kWh, power : 42.5 W\n",
            "[codecarbon INFO @ 05:34:24] Energy consumed for All CPU : 0.015931 kWh\n",
            "[codecarbon INFO @ 05:34:24] Energy consumed for all GPUs : 0.023952 kWh. Total GPU Power : 61.34219624416262 W\n",
            "[codecarbon INFO @ 05:34:24] 0.043631 kWh of electricity used since the beginning.\n"
          ]
        },
        {
          "output_type": "stream",
          "name": "stdout",
          "text": [
            "\u001b[1m21/45\u001b[0m \u001b[32m━━━━━━━━━\u001b[0m\u001b[37m━━━━━━━━━━━\u001b[0m \u001b[1m7s\u001b[0m 330ms/step - loss: 0.6925 - sparse_categorical_accuracy: 0.5187"
          ]
        },
        {
          "output_type": "stream",
          "name": "stderr",
          "text": [
            "[codecarbon INFO @ 05:34:26] Energy consumed for RAM : 0.003914 kWh. RAM Power : 10.0 W\n",
            "[codecarbon INFO @ 05:34:26] Delta energy consumed for CPU with constant : 0.000177 kWh, power : 42.5 W\n",
            "[codecarbon INFO @ 05:34:26] Energy consumed for All CPU : 0.016637 kWh\n",
            "[codecarbon INFO @ 05:34:26] Energy consumed for all GPUs : 0.024465 kWh. Total GPU Power : 61.797148143054166 W\n",
            "[codecarbon INFO @ 05:34:26] 0.045017 kWh of electricity used since the beginning.\n"
          ]
        },
        {
          "output_type": "stream",
          "name": "stdout",
          "text": [
            "\u001b[1m45/45\u001b[0m \u001b[32m━━━━━━━━━━━━━━━━━━━━\u001b[0m\u001b[37m\u001b[0m \u001b[1m20s\u001b[0m 364ms/step - loss: 0.6925 - sparse_categorical_accuracy: 0.5193 - val_loss: 0.6930 - val_sparse_categorical_accuracy: 0.5090\n",
            "Epoch 69/150\n"
          ]
        },
        {
          "output_type": "stream",
          "name": "stderr",
          "text": [
            "[codecarbon INFO @ 05:34:39] Energy consumed for RAM : 0.003790 kWh. RAM Power : 10.0 W\n",
            "[codecarbon INFO @ 05:34:39] Delta energy consumed for CPU with constant : 0.000177 kWh, power : 42.5 W\n",
            "[codecarbon INFO @ 05:34:39] Energy consumed for All CPU : 0.016108 kWh\n",
            "[codecarbon INFO @ 05:34:39] Energy consumed for all GPUs : 0.024218 kWh. Total GPU Power : 63.88759716567445 W\n",
            "[codecarbon INFO @ 05:34:39] 0.044116 kWh of electricity used since the beginning.\n"
          ]
        },
        {
          "output_type": "stream",
          "name": "stdout",
          "text": [
            "\u001b[1m 4/45\u001b[0m \u001b[32m━\u001b[0m\u001b[37m━━━━━━━━━━━━━━━━━━━\u001b[0m \u001b[1m13s\u001b[0m 328ms/step - loss: 0.6912 - sparse_categorical_accuracy: 0.5290"
          ]
        },
        {
          "output_type": "stream",
          "name": "stderr",
          "text": [
            "[codecarbon INFO @ 05:34:41] Energy consumed for RAM : 0.003956 kWh. RAM Power : 10.0 W\n",
            "[codecarbon INFO @ 05:34:41] Delta energy consumed for CPU with constant : 0.000177 kWh, power : 42.5 W\n",
            "[codecarbon INFO @ 05:34:41] Energy consumed for All CPU : 0.016814 kWh\n",
            "[codecarbon INFO @ 05:34:41] Energy consumed for all GPUs : 0.024723 kWh. Total GPU Power : 61.88747993303106 W\n",
            "[codecarbon INFO @ 05:34:41] 0.045493 kWh of electricity used since the beginning.\n"
          ]
        },
        {
          "output_type": "stream",
          "name": "stdout",
          "text": [
            "\u001b[1m42/45\u001b[0m \u001b[32m━━━━━━━━━━━━━━━━━━\u001b[0m\u001b[37m━━\u001b[0m \u001b[1m0s\u001b[0m 333ms/step - loss: 0.6920 - sparse_categorical_accuracy: 0.5238"
          ]
        },
        {
          "output_type": "stream",
          "name": "stderr",
          "text": [
            "[codecarbon INFO @ 05:34:54] Energy consumed for RAM : 0.003832 kWh. RAM Power : 10.0 W\n",
            "[codecarbon INFO @ 05:34:54] Delta energy consumed for CPU with constant : 0.000177 kWh, power : 42.5 W\n",
            "[codecarbon INFO @ 05:34:54] Energy consumed for All CPU : 0.016285 kWh\n",
            "[codecarbon INFO @ 05:34:54] Energy consumed for all GPUs : 0.024499 kWh. Total GPU Power : 67.60109649447635 W\n",
            "[codecarbon INFO @ 05:34:54] 0.044616 kWh of electricity used since the beginning.\n"
          ]
        },
        {
          "output_type": "stream",
          "name": "stdout",
          "text": [
            "\u001b[1m45/45\u001b[0m \u001b[32m━━━━━━━━━━━━━━━━━━━━\u001b[0m\u001b[37m\u001b[0m \u001b[1m21s\u001b[0m 365ms/step - loss: 0.6921 - sparse_categorical_accuracy: 0.5229 - val_loss: 0.6930 - val_sparse_categorical_accuracy: 0.5090\n",
            "Epoch 70/150\n"
          ]
        },
        {
          "output_type": "stream",
          "name": "stderr",
          "text": [
            "[codecarbon INFO @ 05:34:56] Energy consumed for RAM : 0.003998 kWh. RAM Power : 10.0 W\n",
            "[codecarbon INFO @ 05:34:56] Delta energy consumed for CPU with constant : 0.000177 kWh, power : 42.5 W\n",
            "[codecarbon INFO @ 05:34:56] Energy consumed for All CPU : 0.016991 kWh\n",
            "[codecarbon INFO @ 05:34:56] Energy consumed for all GPUs : 0.025012 kWh. Total GPU Power : 69.25560968189065 W\n",
            "[codecarbon INFO @ 05:34:56] 0.046001 kWh of electricity used since the beginning.\n",
            "[codecarbon INFO @ 05:34:56] 0.015278 g.CO2eq/s mean an estimation of 481.8094958466541 kg.CO2eq/year\n"
          ]
        },
        {
          "output_type": "stream",
          "name": "stdout",
          "text": [
            "\u001b[1m26/45\u001b[0m \u001b[32m━━━━━━━━━━━\u001b[0m\u001b[37m━━━━━━━━━\u001b[0m \u001b[1m6s\u001b[0m 331ms/step - loss: 0.6921 - sparse_categorical_accuracy: 0.5288"
          ]
        },
        {
          "output_type": "stream",
          "name": "stderr",
          "text": [
            "[codecarbon INFO @ 05:35:09] Energy consumed for RAM : 0.003873 kWh. RAM Power : 10.0 W\n",
            "[codecarbon INFO @ 05:35:09] Delta energy consumed for CPU with constant : 0.000177 kWh, power : 42.5 W\n",
            "[codecarbon INFO @ 05:35:09] Energy consumed for All CPU : 0.016462 kWh\n",
            "[codecarbon INFO @ 05:35:09] Energy consumed for all GPUs : 0.024753 kWh. Total GPU Power : 60.924939202226724 W\n",
            "[codecarbon INFO @ 05:35:09] 0.045089 kWh of electricity used since the beginning.\n"
          ]
        },
        {
          "output_type": "stream",
          "name": "stdout",
          "text": [
            "\u001b[1m33/45\u001b[0m \u001b[32m━━━━━━━━━━━━━━\u001b[0m\u001b[37m━━━━━━\u001b[0m \u001b[1m3s\u001b[0m 332ms/step - loss: 0.6922 - sparse_categorical_accuracy: 0.5259"
          ]
        },
        {
          "output_type": "stream",
          "name": "stderr",
          "text": [
            "[codecarbon INFO @ 05:35:11] Energy consumed for RAM : 0.004039 kWh. RAM Power : 10.0 W\n",
            "[codecarbon INFO @ 05:35:11] Delta energy consumed for CPU with constant : 0.000177 kWh, power : 42.5 W\n",
            "[codecarbon INFO @ 05:35:11] Energy consumed for All CPU : 0.017168 kWh\n",
            "[codecarbon INFO @ 05:35:11] Energy consumed for all GPUs : 0.025267 kWh. Total GPU Power : 61.32336724822894 W\n",
            "[codecarbon INFO @ 05:35:11] 0.046475 kWh of electricity used since the beginning.\n"
          ]
        },
        {
          "output_type": "stream",
          "name": "stdout",
          "text": [
            "\u001b[1m45/45\u001b[0m \u001b[32m━━━━━━━━━━━━━━━━━━━━\u001b[0m\u001b[37m\u001b[0m \u001b[1m20s\u001b[0m 364ms/step - loss: 0.6924 - sparse_categorical_accuracy: 0.5229 - val_loss: 0.6930 - val_sparse_categorical_accuracy: 0.5090\n",
            "Epoch 71/150\n",
            "\u001b[1m 9/45\u001b[0m \u001b[32m━━━━\u001b[0m\u001b[37m━━━━━━━━━━━━━━━━\u001b[0m \u001b[1m11s\u001b[0m 330ms/step - loss: 0.6913 - sparse_categorical_accuracy: 0.5373"
          ]
        },
        {
          "output_type": "stream",
          "name": "stderr",
          "text": [
            "[codecarbon INFO @ 05:35:24] Energy consumed for RAM : 0.003915 kWh. RAM Power : 10.0 W\n",
            "[codecarbon INFO @ 05:35:24] Delta energy consumed for CPU with constant : 0.000177 kWh, power : 42.5 W\n",
            "[codecarbon INFO @ 05:35:24] Energy consumed for All CPU : 0.016639 kWh\n",
            "[codecarbon INFO @ 05:35:24] Energy consumed for all GPUs : 0.025011 kWh. Total GPU Power : 61.93563469318634 W\n",
            "[codecarbon INFO @ 05:35:24] 0.045565 kWh of electricity used since the beginning.\n"
          ]
        },
        {
          "output_type": "stream",
          "name": "stdout",
          "text": [
            "\u001b[1m17/45\u001b[0m \u001b[32m━━━━━━━\u001b[0m\u001b[37m━━━━━━━━━━━━━\u001b[0m \u001b[1m9s\u001b[0m 331ms/step - loss: 0.6921 - sparse_categorical_accuracy: 0.5234"
          ]
        },
        {
          "output_type": "stream",
          "name": "stderr",
          "text": [
            "[codecarbon INFO @ 05:35:26] Energy consumed for RAM : 0.004081 kWh. RAM Power : 10.0 W\n",
            "[codecarbon INFO @ 05:35:26] Delta energy consumed for CPU with constant : 0.000177 kWh, power : 42.5 W\n",
            "[codecarbon INFO @ 05:35:26] Energy consumed for All CPU : 0.017345 kWh\n",
            "[codecarbon INFO @ 05:35:26] Energy consumed for all GPUs : 0.025525 kWh. Total GPU Power : 61.87696880935112 W\n",
            "[codecarbon INFO @ 05:35:26] 0.046951 kWh of electricity used since the beginning.\n"
          ]
        },
        {
          "output_type": "stream",
          "name": "stdout",
          "text": [
            "\u001b[1m45/45\u001b[0m \u001b[32m━━━━━━━━━━━━━━━━━━━━\u001b[0m\u001b[37m\u001b[0m \u001b[1m22s\u001b[0m 393ms/step - loss: 0.6924 - sparse_categorical_accuracy: 0.5185 - val_loss: 0.6930 - val_sparse_categorical_accuracy: 0.5090\n",
            "Epoch 72/150\n",
            "\u001b[1m 1/45\u001b[0m \u001b[37m━━━━━━━━━━━━━━━━━━━━\u001b[0m \u001b[1m14s\u001b[0m 337ms/step - loss: 0.6955 - sparse_categorical_accuracy: 0.4531"
          ]
        },
        {
          "output_type": "stream",
          "name": "stderr",
          "text": [
            "[codecarbon INFO @ 05:35:39] Energy consumed for RAM : 0.003956 kWh. RAM Power : 10.0 W\n",
            "[codecarbon INFO @ 05:35:39] Delta energy consumed for CPU with constant : 0.000177 kWh, power : 42.5 W\n",
            "[codecarbon INFO @ 05:35:39] Energy consumed for All CPU : 0.016816 kWh\n",
            "[codecarbon INFO @ 05:35:39] Energy consumed for all GPUs : 0.025293 kWh. Total GPU Power : 67.67681075307353 W\n",
            "[codecarbon INFO @ 05:35:39] 0.046066 kWh of electricity used since the beginning.\n"
          ]
        },
        {
          "output_type": "stream",
          "name": "stdout",
          "text": [
            "\u001b[1m 9/45\u001b[0m \u001b[32m━━━━\u001b[0m\u001b[37m━━━━━━━━━━━━━━━━\u001b[0m \u001b[1m12s\u001b[0m 334ms/step - loss: 0.6944 - sparse_categorical_accuracy: 0.4852"
          ]
        },
        {
          "output_type": "stream",
          "name": "stderr",
          "text": [
            "[codecarbon INFO @ 05:35:41] Energy consumed for RAM : 0.004123 kWh. RAM Power : 10.0 W\n",
            "[codecarbon INFO @ 05:35:41] Delta energy consumed for CPU with constant : 0.000177 kWh, power : 42.5 W\n",
            "[codecarbon INFO @ 05:35:41] Energy consumed for All CPU : 0.017522 kWh\n",
            "[codecarbon INFO @ 05:35:41] Energy consumed for all GPUs : 0.025805 kWh. Total GPU Power : 67.23048596083412 W\n",
            "[codecarbon INFO @ 05:35:41] 0.047450 kWh of electricity used since the beginning.\n"
          ]
        },
        {
          "output_type": "stream",
          "name": "stdout",
          "text": [
            "\u001b[1m45/45\u001b[0m \u001b[32m━━━━━━━━━━━━━━━━━━━━\u001b[0m\u001b[37m\u001b[0m \u001b[1m0s\u001b[0m 336ms/step - loss: 0.6931 - sparse_categorical_accuracy: 0.5077"
          ]
        },
        {
          "output_type": "stream",
          "name": "stderr",
          "text": [
            "[codecarbon INFO @ 05:35:54] Energy consumed for RAM : 0.003998 kWh. RAM Power : 10.0 W\n",
            "[codecarbon INFO @ 05:35:54] Delta energy consumed for CPU with constant : 0.000177 kWh, power : 42.5 W\n",
            "[codecarbon INFO @ 05:35:54] Energy consumed for All CPU : 0.016993 kWh\n",
            "[codecarbon INFO @ 05:35:54] Energy consumed for all GPUs : 0.025583 kWh. Total GPU Power : 69.64267619908468 W\n",
            "[codecarbon INFO @ 05:35:54] 0.046575 kWh of electricity used since the beginning.\n",
            "[codecarbon INFO @ 05:35:54] 0.015277 g.CO2eq/s mean an estimation of 481.7697881484869 kg.CO2eq/year\n"
          ]
        },
        {
          "output_type": "stream",
          "name": "stdout",
          "text": [
            "\b\b\b\b\b\b\b\b\b\b\b\b\b\b\b\b\b\b\b\b\b\b\b\b\b\b\b\b\b\b\b\b\b\b\b\b\b\b\b\b\b\b\b\b\b\b\b\b\b\b\b\b\b\b\b\b\b\b\b\b\b\b\b\b\b\b\b\b\b\b\b\b\b\b\b\b\b\b\b\b\b\b\b\b\b\b\b\b\b\b\b\b\b\r\u001b[1m45/45\u001b[0m \u001b[32m━━━━━━━━━━━━━━━━━━━━\u001b[0m\u001b[37m\u001b[0m \u001b[1m18s\u001b[0m 395ms/step - loss: 0.6931 - sparse_categorical_accuracy: 0.5078 - val_loss: 0.6930 - val_sparse_categorical_accuracy: 0.5090\n",
            "Epoch 73/150\n"
          ]
        },
        {
          "output_type": "stream",
          "name": "stderr",
          "text": [
            "[codecarbon INFO @ 05:35:56] Energy consumed for RAM : 0.004164 kWh. RAM Power : 10.0 W\n",
            "[codecarbon INFO @ 05:35:56] Delta energy consumed for CPU with constant : 0.000177 kWh, power : 42.5 W\n",
            "[codecarbon INFO @ 05:35:56] Energy consumed for All CPU : 0.017699 kWh\n",
            "[codecarbon INFO @ 05:35:56] Energy consumed for all GPUs : 0.026086 kWh. Total GPU Power : 67.46620822646541 W\n",
            "[codecarbon INFO @ 05:35:56] 0.047949 kWh of electricity used since the beginning.\n"
          ]
        },
        {
          "output_type": "stream",
          "name": "stdout",
          "text": [
            "\u001b[1m30/45\u001b[0m \u001b[32m━━━━━━━━━━━━━\u001b[0m\u001b[37m━━━━━━━\u001b[0m \u001b[1m4s\u001b[0m 331ms/step - loss: 0.6929 - sparse_categorical_accuracy: 0.5122"
          ]
        },
        {
          "output_type": "stream",
          "name": "stderr",
          "text": [
            "[codecarbon INFO @ 05:36:09] Energy consumed for RAM : 0.004040 kWh. RAM Power : 10.0 W\n",
            "[codecarbon INFO @ 05:36:09] Delta energy consumed for CPU with constant : 0.000177 kWh, power : 42.5 W\n",
            "[codecarbon INFO @ 05:36:09] Energy consumed for All CPU : 0.017170 kWh\n",
            "[codecarbon INFO @ 05:36:09] Energy consumed for all GPUs : 0.025840 kWh. Total GPU Power : 61.728782559775226 W\n",
            "[codecarbon INFO @ 05:36:09] 0.047050 kWh of electricity used since the beginning.\n"
          ]
        },
        {
          "output_type": "stream",
          "name": "stdout",
          "text": [
            "\u001b[1m37/45\u001b[0m \u001b[32m━━━━━━━━━━━━━━━━\u001b[0m\u001b[37m━━━━\u001b[0m \u001b[1m2s\u001b[0m 331ms/step - loss: 0.6929 - sparse_categorical_accuracy: 0.5115"
          ]
        },
        {
          "output_type": "stream",
          "name": "stderr",
          "text": [
            "[codecarbon INFO @ 05:36:11] Energy consumed for RAM : 0.004206 kWh. RAM Power : 10.0 W\n",
            "[codecarbon INFO @ 05:36:11] Delta energy consumed for CPU with constant : 0.000177 kWh, power : 42.5 W\n",
            "[codecarbon INFO @ 05:36:11] Energy consumed for All CPU : 0.017876 kWh\n",
            "[codecarbon INFO @ 05:36:11] Energy consumed for all GPUs : 0.026354 kWh. Total GPU Power : 64.32245016464084 W\n",
            "[codecarbon INFO @ 05:36:11] 0.048436 kWh of electricity used since the beginning.\n"
          ]
        },
        {
          "output_type": "stream",
          "name": "stdout",
          "text": [
            "\u001b[1m45/45\u001b[0m \u001b[32m━━━━━━━━━━━━━━━━━━━━\u001b[0m\u001b[37m\u001b[0m \u001b[1m20s\u001b[0m 390ms/step - loss: 0.6929 - sparse_categorical_accuracy: 0.5116 - val_loss: 0.6930 - val_sparse_categorical_accuracy: 0.5090\n",
            "Epoch 74/150\n",
            "\u001b[1m14/45\u001b[0m \u001b[32m━━━━━━\u001b[0m\u001b[37m━━━━━━━━━━━━━━\u001b[0m \u001b[1m10s\u001b[0m 329ms/step - loss: 0.6916 - sparse_categorical_accuracy: 0.5247"
          ]
        },
        {
          "output_type": "stream",
          "name": "stderr",
          "text": [
            "[codecarbon INFO @ 05:36:24] Energy consumed for RAM : 0.004081 kWh. RAM Power : 10.0 W\n",
            "[codecarbon INFO @ 05:36:24] Delta energy consumed for CPU with constant : 0.000177 kWh, power : 42.5 W\n",
            "[codecarbon INFO @ 05:36:24] Energy consumed for All CPU : 0.017347 kWh\n",
            "[codecarbon INFO @ 05:36:24] Energy consumed for all GPUs : 0.026093 kWh. Total GPU Power : 60.736431064585524 W\n",
            "[codecarbon INFO @ 05:36:24] 0.047522 kWh of electricity used since the beginning.\n"
          ]
        },
        {
          "output_type": "stream",
          "name": "stdout",
          "text": [
            "\u001b[1m21/45\u001b[0m \u001b[32m━━━━━━━━━\u001b[0m\u001b[37m━━━━━━━━━━━\u001b[0m \u001b[1m7s\u001b[0m 329ms/step - loss: 0.6917 - sparse_categorical_accuracy: 0.5251"
          ]
        },
        {
          "output_type": "stream",
          "name": "stderr",
          "text": [
            "[codecarbon INFO @ 05:36:26] Energy consumed for RAM : 0.004247 kWh. RAM Power : 10.0 W\n",
            "[codecarbon INFO @ 05:36:26] Delta energy consumed for CPU with constant : 0.000177 kWh, power : 42.5 W\n",
            "[codecarbon INFO @ 05:36:26] Energy consumed for All CPU : 0.018053 kWh\n",
            "[codecarbon INFO @ 05:36:26] Energy consumed for all GPUs : 0.026607 kWh. Total GPU Power : 60.77532256733545 W\n",
            "[codecarbon INFO @ 05:36:26] 0.048908 kWh of electricity used since the beginning.\n"
          ]
        },
        {
          "output_type": "stream",
          "name": "stdout",
          "text": [
            "\u001b[1m45/45\u001b[0m \u001b[32m━━━━━━━━━━━━━━━━━━━━\u001b[0m\u001b[37m\u001b[0m \u001b[1m19s\u001b[0m 364ms/step - loss: 0.6921 - sparse_categorical_accuracy: 0.5221 - val_loss: 0.6930 - val_sparse_categorical_accuracy: 0.5090\n",
            "Epoch 75/150\n"
          ]
        },
        {
          "output_type": "stream",
          "name": "stderr",
          "text": [
            "[codecarbon INFO @ 05:36:39] Energy consumed for RAM : 0.004123 kWh. RAM Power : 10.0 W\n",
            "[codecarbon INFO @ 05:36:39] Delta energy consumed for CPU with constant : 0.000177 kWh, power : 42.5 W\n",
            "[codecarbon INFO @ 05:36:39] Energy consumed for All CPU : 0.017524 kWh\n",
            "[codecarbon INFO @ 05:36:39] Energy consumed for all GPUs : 0.026357 kWh. Total GPU Power : 63.4397016473459 W\n",
            "[codecarbon INFO @ 05:36:39] 0.048004 kWh of electricity used since the beginning.\n"
          ]
        },
        {
          "output_type": "stream",
          "name": "stdout",
          "text": [
            "\u001b[1m 4/45\u001b[0m \u001b[32m━\u001b[0m\u001b[37m━━━━━━━━━━━━━━━━━━━\u001b[0m \u001b[1m13s\u001b[0m 329ms/step - loss: 0.6896 - sparse_categorical_accuracy: 0.5703"
          ]
        },
        {
          "output_type": "stream",
          "name": "stderr",
          "text": [
            "[codecarbon INFO @ 05:36:41] Energy consumed for RAM : 0.004289 kWh. RAM Power : 10.0 W\n",
            "[codecarbon INFO @ 05:36:41] Delta energy consumed for CPU with constant : 0.000177 kWh, power : 42.5 W\n",
            "[codecarbon INFO @ 05:36:41] Energy consumed for All CPU : 0.018230 kWh\n",
            "[codecarbon INFO @ 05:36:41] Energy consumed for all GPUs : 0.026862 kWh. Total GPU Power : 61.40352060278166 W\n",
            "[codecarbon INFO @ 05:36:41] 0.049382 kWh of electricity used since the beginning.\n"
          ]
        },
        {
          "output_type": "stream",
          "name": "stdout",
          "text": [
            "\u001b[1m42/45\u001b[0m \u001b[32m━━━━━━━━━━━━━━━━━━\u001b[0m\u001b[37m━━\u001b[0m \u001b[1m1s\u001b[0m 335ms/step - loss: 0.6926 - sparse_categorical_accuracy: 0.5194"
          ]
        },
        {
          "output_type": "stream",
          "name": "stderr",
          "text": [
            "[codecarbon INFO @ 05:36:54] Energy consumed for RAM : 0.004165 kWh. RAM Power : 10.0 W\n",
            "[codecarbon INFO @ 05:36:54] Delta energy consumed for CPU with constant : 0.000177 kWh, power : 42.5 W\n",
            "[codecarbon INFO @ 05:36:54] Energy consumed for All CPU : 0.017701 kWh\n",
            "[codecarbon INFO @ 05:36:54] Energy consumed for all GPUs : 0.026639 kWh. Total GPU Power : 67.5596942278739 W\n",
            "[codecarbon INFO @ 05:36:54] 0.048505 kWh of electricity used since the beginning.\n"
          ]
        },
        {
          "output_type": "stream",
          "name": "stdout",
          "text": [
            "\u001b[1m45/45\u001b[0m \u001b[32m━━━━━━━━━━━━━━━━━━━━\u001b[0m\u001b[37m\u001b[0m \u001b[1m0s\u001b[0m 335ms/step - loss: 0.6926 - sparse_categorical_accuracy: 0.5190"
          ]
        },
        {
          "output_type": "stream",
          "name": "stderr",
          "text": [
            "[codecarbon INFO @ 05:36:56] Energy consumed for RAM : 0.004331 kWh. RAM Power : 10.0 W\n",
            "[codecarbon INFO @ 05:36:56] Delta energy consumed for CPU with constant : 0.000177 kWh, power : 42.5 W\n",
            "[codecarbon INFO @ 05:36:56] Energy consumed for All CPU : 0.018407 kWh\n",
            "[codecarbon INFO @ 05:36:56] Energy consumed for all GPUs : 0.027152 kWh. Total GPU Power : 69.59004882079114 W\n",
            "[codecarbon INFO @ 05:36:56] 0.049890 kWh of electricity used since the beginning.\n",
            "[codecarbon INFO @ 05:36:56] 0.015259 g.CO2eq/s mean an estimation of 481.2170346179024 kg.CO2eq/year\n"
          ]
        },
        {
          "output_type": "stream",
          "name": "stdout",
          "text": [
            "\b\b\b\b\b\b\b\b\b\b\b\b\b\b\b\b\b\b\b\b\b\b\b\b\b\b\b\b\b\b\b\b\b\b\b\b\b\b\b\b\b\b\b\b\b\b\b\b\b\b\b\b\b\b\b\b\b\b\b\b\b\b\b\b\b\b\b\b\b\b\b\b\b\b\b\b\b\b\b\b\b\b\b\b\b\b\b\b\b\b\b\b\b\r\u001b[1m45/45\u001b[0m \u001b[32m━━━━━━━━━━━━━━━━━━━━\u001b[0m\u001b[37m\u001b[0m \u001b[1m22s\u001b[0m 394ms/step - loss: 0.6926 - sparse_categorical_accuracy: 0.5188 - val_loss: 0.6930 - val_sparse_categorical_accuracy: 0.5090\n",
            "Epoch 76/150\n",
            "\u001b[1m26/45\u001b[0m \u001b[32m━━━━━━━━━━━\u001b[0m\u001b[37m━━━━━━━━━\u001b[0m \u001b[1m6s\u001b[0m 334ms/step - loss: 0.6933 - sparse_categorical_accuracy: 0.5052"
          ]
        },
        {
          "output_type": "stream",
          "name": "stderr",
          "text": [
            "[codecarbon INFO @ 05:37:09] Energy consumed for RAM : 0.004206 kWh. RAM Power : 10.0 W\n",
            "[codecarbon INFO @ 05:37:09] Delta energy consumed for CPU with constant : 0.000177 kWh, power : 42.5 W\n",
            "[codecarbon INFO @ 05:37:09] Energy consumed for All CPU : 0.017878 kWh\n",
            "[codecarbon INFO @ 05:37:09] Energy consumed for all GPUs : 0.026898 kWh. Total GPU Power : 62.316512857649 W\n",
            "[codecarbon INFO @ 05:37:09] 0.048983 kWh of electricity used since the beginning.\n"
          ]
        },
        {
          "output_type": "stream",
          "name": "stdout",
          "text": [
            "\u001b[1m33/45\u001b[0m \u001b[32m━━━━━━━━━━━━━━\u001b[0m\u001b[37m━━━━━━\u001b[0m \u001b[1m4s\u001b[0m 334ms/step - loss: 0.6933 - sparse_categorical_accuracy: 0.5056"
          ]
        },
        {
          "output_type": "stream",
          "name": "stderr",
          "text": [
            "[codecarbon INFO @ 05:37:11] Energy consumed for RAM : 0.004372 kWh. RAM Power : 10.0 W\n",
            "[codecarbon INFO @ 05:37:11] Delta energy consumed for CPU with constant : 0.000177 kWh, power : 42.5 W\n",
            "[codecarbon INFO @ 05:37:11] Energy consumed for All CPU : 0.018584 kWh\n",
            "[codecarbon INFO @ 05:37:11] Energy consumed for all GPUs : 0.027412 kWh. Total GPU Power : 62.37770949923773 W\n",
            "[codecarbon INFO @ 05:37:11] 0.050369 kWh of electricity used since the beginning.\n"
          ]
        },
        {
          "output_type": "stream",
          "name": "stdout",
          "text": [
            "\u001b[1m45/45\u001b[0m \u001b[32m━━━━━━━━━━━━━━━━━━━━\u001b[0m\u001b[37m\u001b[0m \u001b[1m20s\u001b[0m 393ms/step - loss: 0.6932 - sparse_categorical_accuracy: 0.5071 - val_loss: 0.6930 - val_sparse_categorical_accuracy: 0.5090\n",
            "Epoch 77/150\n",
            "\u001b[1m 9/45\u001b[0m \u001b[32m━━━━\u001b[0m\u001b[37m━━━━━━━━━━━━━━━━\u001b[0m \u001b[1m11s\u001b[0m 328ms/step - loss: 0.6942 - sparse_categorical_accuracy: 0.4918"
          ]
        },
        {
          "output_type": "stream",
          "name": "stderr",
          "text": [
            "[codecarbon INFO @ 05:37:24] Energy consumed for RAM : 0.004248 kWh. RAM Power : 10.0 W\n",
            "[codecarbon INFO @ 05:37:24] Delta energy consumed for CPU with constant : 0.000177 kWh, power : 42.5 W\n",
            "[codecarbon INFO @ 05:37:24] Energy consumed for All CPU : 0.018055 kWh\n",
            "[codecarbon INFO @ 05:37:24] Energy consumed for all GPUs : 0.027157 kWh. Total GPU Power : 62.11469059243021 W\n",
            "[codecarbon INFO @ 05:37:24] 0.049460 kWh of electricity used since the beginning.\n"
          ]
        },
        {
          "output_type": "stream",
          "name": "stdout",
          "text": [
            "\u001b[1m17/45\u001b[0m \u001b[32m━━━━━━━\u001b[0m\u001b[37m━━━━━━━━━━━━━\u001b[0m \u001b[1m9s\u001b[0m 330ms/step - loss: 0.6934 - sparse_categorical_accuracy: 0.5047"
          ]
        },
        {
          "output_type": "stream",
          "name": "stderr",
          "text": [
            "[codecarbon INFO @ 05:37:26] Energy consumed for RAM : 0.004414 kWh. RAM Power : 10.0 W\n",
            "[codecarbon INFO @ 05:37:26] Delta energy consumed for CPU with constant : 0.000177 kWh, power : 42.5 W\n",
            "[codecarbon INFO @ 05:37:26] Energy consumed for All CPU : 0.018761 kWh\n",
            "[codecarbon INFO @ 05:37:26] Energy consumed for all GPUs : 0.027669 kWh. Total GPU Power : 61.60570839084555 W\n",
            "[codecarbon INFO @ 05:37:26] 0.050844 kWh of electricity used since the beginning.\n"
          ]
        },
        {
          "output_type": "stream",
          "name": "stdout",
          "text": [
            "\u001b[1m45/45\u001b[0m \u001b[32m━━━━━━━━━━━━━━━━━━━━\u001b[0m\u001b[37m\u001b[0m \u001b[1m19s\u001b[0m 363ms/step - loss: 0.6929 - sparse_categorical_accuracy: 0.5101 - val_loss: 0.6930 - val_sparse_categorical_accuracy: 0.5090\n",
            "Epoch 78/150\n"
          ]
        },
        {
          "output_type": "stream",
          "name": "stderr",
          "text": [
            "[codecarbon INFO @ 05:37:39] Energy consumed for RAM : 0.004289 kWh. RAM Power : 10.0 W\n",
            "[codecarbon INFO @ 05:37:39] Delta energy consumed for CPU with constant : 0.000177 kWh, power : 42.5 W\n",
            "[codecarbon INFO @ 05:37:39] Energy consumed for All CPU : 0.018232 kWh\n",
            "[codecarbon INFO @ 05:37:39] Energy consumed for all GPUs : 0.027432 kWh. Total GPU Power : 65.91719619130299 W\n",
            "[codecarbon INFO @ 05:37:39] 0.049953 kWh of electricity used since the beginning.\n",
            "[codecarbon INFO @ 05:37:41] Energy consumed for RAM : 0.004456 kWh. RAM Power : 10.0 W\n",
            "[codecarbon INFO @ 05:37:41] Delta energy consumed for CPU with constant : 0.000177 kWh, power : 42.5 W\n",
            "[codecarbon INFO @ 05:37:41] Energy consumed for All CPU : 0.018938 kWh\n",
            "[codecarbon INFO @ 05:37:41] Energy consumed for all GPUs : 0.027923 kWh. Total GPU Power : 61.14608160837372 W\n",
            "[codecarbon INFO @ 05:37:41] 0.051317 kWh of electricity used since the beginning.\n"
          ]
        },
        {
          "output_type": "stream",
          "name": "stdout",
          "text": [
            "\u001b[1m38/45\u001b[0m \u001b[32m━━━━━━━━━━━━━━━━\u001b[0m\u001b[37m━━━━\u001b[0m \u001b[1m2s\u001b[0m 332ms/step - loss: 0.6927 - sparse_categorical_accuracy: 0.5177"
          ]
        },
        {
          "output_type": "stream",
          "name": "stderr",
          "text": [
            "[codecarbon INFO @ 05:37:54] Energy consumed for RAM : 0.004331 kWh. RAM Power : 10.0 W\n",
            "[codecarbon INFO @ 05:37:54] Delta energy consumed for CPU with constant : 0.000177 kWh, power : 42.5 W\n",
            "[codecarbon INFO @ 05:37:54] Energy consumed for All CPU : 0.018409 kWh\n",
            "[codecarbon INFO @ 05:37:54] Energy consumed for all GPUs : 0.027701 kWh. Total GPU Power : 64.72907076569535 W\n",
            "[codecarbon INFO @ 05:37:54] 0.050441 kWh of electricity used since the beginning.\n",
            "[codecarbon INFO @ 05:37:54] 0.015171 g.CO2eq/s mean an estimation of 478.4275414348625 kg.CO2eq/year\n"
          ]
        },
        {
          "output_type": "stream",
          "name": "stdout",
          "text": [
            "\u001b[1m45/45\u001b[0m \u001b[32m━━━━━━━━━━━━━━━━━━━━\u001b[0m\u001b[37m\u001b[0m \u001b[1m0s\u001b[0m 332ms/step - loss: 0.6928 - sparse_categorical_accuracy: 0.5171"
          ]
        },
        {
          "output_type": "stream",
          "name": "stderr",
          "text": [
            "[codecarbon INFO @ 05:37:56] Energy consumed for RAM : 0.004497 kWh. RAM Power : 10.0 W\n",
            "[codecarbon INFO @ 05:37:56] Delta energy consumed for CPU with constant : 0.000177 kWh, power : 42.5 W\n",
            "[codecarbon INFO @ 05:37:56] Energy consumed for All CPU : 0.019115 kWh\n",
            "[codecarbon INFO @ 05:37:56] Energy consumed for all GPUs : 0.028213 kWh. Total GPU Power : 69.52818582589802 W\n",
            "[codecarbon INFO @ 05:37:56] 0.051825 kWh of electricity used since the beginning.\n"
          ]
        },
        {
          "output_type": "stream",
          "name": "stdout",
          "text": [
            "\b\b\b\b\b\b\b\b\b\b\b\b\b\b\b\b\b\b\b\b\b\b\b\b\b\b\b\b\b\b\b\b\b\b\b\b\b\b\b\b\b\b\b\b\b\b\b\b\b\b\b\b\b\b\b\b\b\b\b\b\b\b\b\b\b\b\b\b\b\b\b\b\b\b\b\b\b\b\b\b\b\b\b\b\b\b\b\b\b\b\b\b\b\r\u001b[1m45/45\u001b[0m \u001b[32m━━━━━━━━━━━━━━━━━━━━\u001b[0m\u001b[37m\u001b[0m \u001b[1m20s\u001b[0m 364ms/step - loss: 0.6928 - sparse_categorical_accuracy: 0.5170 - val_loss: 0.6930 - val_sparse_categorical_accuracy: 0.5090\n",
            "Epoch 79/150\n",
            "\u001b[1m33/45\u001b[0m \u001b[32m━━━━━━━━━━━━━━\u001b[0m\u001b[37m━━━━━━\u001b[0m \u001b[1m4s\u001b[0m 337ms/step - loss: 0.6930 - sparse_categorical_accuracy: 0.5126"
          ]
        },
        {
          "output_type": "stream",
          "name": "stderr",
          "text": [
            "[codecarbon INFO @ 05:38:09] Energy consumed for RAM : 0.004373 kWh. RAM Power : 10.0 W\n",
            "[codecarbon INFO @ 05:38:09] Delta energy consumed for CPU with constant : 0.000177 kWh, power : 42.5 W\n",
            "[codecarbon INFO @ 05:38:09] Energy consumed for All CPU : 0.018586 kWh\n",
            "[codecarbon INFO @ 05:38:09] Energy consumed for all GPUs : 0.027991 kWh. Total GPU Power : 69.63684278901172 W\n",
            "[codecarbon INFO @ 05:38:09] 0.050950 kWh of electricity used since the beginning.\n"
          ]
        },
        {
          "output_type": "stream",
          "name": "stdout",
          "text": [
            "\u001b[1m41/45\u001b[0m \u001b[32m━━━━━━━━━━━━━━━━━━\u001b[0m\u001b[37m━━\u001b[0m \u001b[1m1s\u001b[0m 337ms/step - loss: 0.6930 - sparse_categorical_accuracy: 0.5129"
          ]
        },
        {
          "output_type": "stream",
          "name": "stderr",
          "text": [
            "[codecarbon INFO @ 05:38:11] Energy consumed for RAM : 0.004539 kWh. RAM Power : 10.0 W\n",
            "[codecarbon INFO @ 05:38:11] Delta energy consumed for CPU with constant : 0.000177 kWh, power : 42.5 W\n",
            "[codecarbon INFO @ 05:38:11] Energy consumed for All CPU : 0.019292 kWh\n",
            "[codecarbon INFO @ 05:38:11] Energy consumed for all GPUs : 0.028503 kWh. Total GPU Power : 69.67091122568141 W\n",
            "[codecarbon INFO @ 05:38:11] 0.052334 kWh of electricity used since the beginning.\n"
          ]
        },
        {
          "output_type": "stream",
          "name": "stdout",
          "text": [
            "\u001b[1m45/45\u001b[0m \u001b[32m━━━━━━━━━━━━━━━━━━━━\u001b[0m\u001b[37m\u001b[0m \u001b[1m18s\u001b[0m 396ms/step - loss: 0.6930 - sparse_categorical_accuracy: 0.5130 - val_loss: 0.6930 - val_sparse_categorical_accuracy: 0.5090\n",
            "Epoch 80/150\n",
            "\u001b[1m25/45\u001b[0m \u001b[32m━━━━━━━━━━━\u001b[0m\u001b[37m━━━━━━━━━\u001b[0m \u001b[1m6s\u001b[0m 335ms/step - loss: 0.6941 - sparse_categorical_accuracy: 0.4871"
          ]
        },
        {
          "output_type": "stream",
          "name": "stderr",
          "text": [
            "[codecarbon INFO @ 05:38:24] Energy consumed for RAM : 0.004414 kWh. RAM Power : 10.0 W\n",
            "[codecarbon INFO @ 05:38:24] Delta energy consumed for CPU with constant : 0.000177 kWh, power : 42.5 W\n",
            "[codecarbon INFO @ 05:38:24] Energy consumed for All CPU : 0.018763 kWh\n",
            "[codecarbon INFO @ 05:38:24] Energy consumed for all GPUs : 0.028274 kWh. Total GPU Power : 67.80072407938812 W\n",
            "[codecarbon INFO @ 05:38:24] 0.051451 kWh of electricity used since the beginning.\n"
          ]
        },
        {
          "output_type": "stream",
          "name": "stdout",
          "text": [
            "\u001b[1m33/45\u001b[0m \u001b[32m━━━━━━━━━━━━━━\u001b[0m\u001b[37m━━━━━━\u001b[0m \u001b[1m4s\u001b[0m 335ms/step - loss: 0.6939 - sparse_categorical_accuracy: 0.4912"
          ]
        },
        {
          "output_type": "stream",
          "name": "stderr",
          "text": [
            "[codecarbon INFO @ 05:38:26] Energy consumed for RAM : 0.004581 kWh. RAM Power : 10.0 W\n",
            "[codecarbon INFO @ 05:38:26] Delta energy consumed for CPU with constant : 0.000177 kWh, power : 42.5 W\n",
            "[codecarbon INFO @ 05:38:26] Energy consumed for All CPU : 0.019469 kWh\n",
            "[codecarbon INFO @ 05:38:26] Energy consumed for all GPUs : 0.028787 kWh. Total GPU Power : 68.23353186983323 W\n",
            "[codecarbon INFO @ 05:38:26] 0.052837 kWh of electricity used since the beginning.\n"
          ]
        },
        {
          "output_type": "stream",
          "name": "stdout",
          "text": [
            "\u001b[1m45/45\u001b[0m \u001b[32m━━━━━━━━━━━━━━━━━━━━\u001b[0m\u001b[37m\u001b[0m \u001b[1m16s\u001b[0m 367ms/step - loss: 0.6936 - sparse_categorical_accuracy: 0.4970 - val_loss: 0.6930 - val_sparse_categorical_accuracy: 0.5090\n",
            "Epoch 81/150\n",
            "\u001b[1m 9/45\u001b[0m \u001b[32m━━━━\u001b[0m\u001b[37m━━━━━━━━━━━━━━━━\u001b[0m \u001b[1m11s\u001b[0m 326ms/step - loss: 0.6907 - sparse_categorical_accuracy: 0.5538"
          ]
        },
        {
          "output_type": "stream",
          "name": "stderr",
          "text": [
            "[codecarbon INFO @ 05:38:39] Energy consumed for RAM : 0.004456 kWh. RAM Power : 10.0 W\n",
            "[codecarbon INFO @ 05:38:39] Delta energy consumed for CPU with constant : 0.000177 kWh, power : 42.5 W\n",
            "[codecarbon INFO @ 05:38:39] Energy consumed for All CPU : 0.018940 kWh\n",
            "[codecarbon INFO @ 05:38:39] Energy consumed for all GPUs : 0.028528 kWh. Total GPU Power : 60.99394981471809 W\n",
            "[codecarbon INFO @ 05:38:39] 0.051924 kWh of electricity used since the beginning.\n"
          ]
        },
        {
          "output_type": "stream",
          "name": "stdout",
          "text": [
            "\u001b[1m17/45\u001b[0m \u001b[32m━━━━━━━\u001b[0m\u001b[37m━━━━━━━━━━━━━\u001b[0m \u001b[1m9s\u001b[0m 327ms/step - loss: 0.6914 - sparse_categorical_accuracy: 0.5387"
          ]
        },
        {
          "output_type": "stream",
          "name": "stderr",
          "text": [
            "[codecarbon INFO @ 05:38:41] Energy consumed for RAM : 0.004622 kWh. RAM Power : 10.0 W\n",
            "[codecarbon INFO @ 05:38:41] Delta energy consumed for CPU with constant : 0.000177 kWh, power : 42.5 W\n",
            "[codecarbon INFO @ 05:38:41] Energy consumed for All CPU : 0.019646 kWh\n",
            "[codecarbon INFO @ 05:38:41] Energy consumed for all GPUs : 0.029039 kWh. Total GPU Power : 60.50331634831321 W\n",
            "[codecarbon INFO @ 05:38:41] 0.053308 kWh of electricity used since the beginning.\n"
          ]
        },
        {
          "output_type": "stream",
          "name": "stdout",
          "text": [
            "\u001b[1m45/45\u001b[0m \u001b[32m━━━━━━━━━━━━━━━━━━━━\u001b[0m\u001b[37m\u001b[0m \u001b[1m21s\u001b[0m 388ms/step - loss: 0.6922 - sparse_categorical_accuracy: 0.5228 - val_loss: 0.6930 - val_sparse_categorical_accuracy: 0.5090\n",
            "Epoch 82/150\n",
            "\u001b[1m 2/45\u001b[0m \u001b[37m━━━━━━━━━━━━━━━━━━━━\u001b[0m \u001b[1m13s\u001b[0m 321ms/step - loss: 0.6846 - sparse_categorical_accuracy: 0.6445"
          ]
        },
        {
          "output_type": "stream",
          "name": "stderr",
          "text": [
            "[codecarbon INFO @ 05:38:54] Energy consumed for RAM : 0.004498 kWh. RAM Power : 10.0 W\n",
            "[codecarbon INFO @ 05:38:54] Delta energy consumed for CPU with constant : 0.000177 kWh, power : 42.5 W\n",
            "[codecarbon INFO @ 05:38:54] Energy consumed for All CPU : 0.019117 kWh\n",
            "[codecarbon INFO @ 05:38:54] Energy consumed for all GPUs : 0.028807 kWh. Total GPU Power : 67.13958016434165 W\n",
            "[codecarbon INFO @ 05:38:54] 0.052422 kWh of electricity used since the beginning.\n"
          ]
        },
        {
          "output_type": "stream",
          "name": "stdout",
          "text": [
            "\u001b[1m 9/45\u001b[0m \u001b[32m━━━━\u001b[0m\u001b[37m━━━━━━━━━━━━━━━━\u001b[0m \u001b[1m11s\u001b[0m 329ms/step - loss: 0.6882 - sparse_categorical_accuracy: 0.5875"
          ]
        },
        {
          "output_type": "stream",
          "name": "stderr",
          "text": [
            "[codecarbon INFO @ 05:38:56] Energy consumed for RAM : 0.004664 kWh. RAM Power : 10.0 W\n",
            "[codecarbon INFO @ 05:38:56] Delta energy consumed for CPU with constant : 0.000177 kWh, power : 42.5 W\n",
            "[codecarbon INFO @ 05:38:56] Energy consumed for All CPU : 0.019823 kWh\n",
            "[codecarbon INFO @ 05:38:56] Energy consumed for all GPUs : 0.029321 kWh. Total GPU Power : 67.54855436153264 W\n",
            "[codecarbon INFO @ 05:38:56] 0.053808 kWh of electricity used since the beginning.\n",
            "[codecarbon INFO @ 05:38:56] 0.015368 g.CO2eq/s mean an estimation of 484.65443690857495 kg.CO2eq/year\n"
          ]
        },
        {
          "output_type": "stream",
          "name": "stdout",
          "text": [
            "\u001b[1m45/45\u001b[0m \u001b[32m━━━━━━━━━━━━━━━━━━━━\u001b[0m\u001b[37m\u001b[0m \u001b[1m0s\u001b[0m 333ms/step - loss: 0.6916 - sparse_categorical_accuracy: 0.5344"
          ]
        },
        {
          "output_type": "stream",
          "name": "stderr",
          "text": [
            "[codecarbon INFO @ 05:39:09] Energy consumed for RAM : 0.004539 kWh. RAM Power : 10.0 W\n",
            "[codecarbon INFO @ 05:39:09] Delta energy consumed for CPU with constant : 0.000177 kWh, power : 42.5 W\n",
            "[codecarbon INFO @ 05:39:09] Energy consumed for All CPU : 0.019294 kWh\n",
            "[codecarbon INFO @ 05:39:09] Energy consumed for all GPUs : 0.029097 kWh. Total GPU Power : 69.57792595545239 W\n",
            "[codecarbon INFO @ 05:39:09] 0.052930 kWh of electricity used since the beginning.\n"
          ]
        },
        {
          "output_type": "stream",
          "name": "stdout",
          "text": [
            "\b\b\b\b\b\b\b\b\b\b\b\b\b\b\b\b\b\b\b\b\b\b\b\b\b\b\b\b\b\b\b\b\b\b\b\b\b\b\b\b\b\b\b\b\b\b\b\b\b\b\b\b\b\b\b\b\b\b\b\b\b\b\b\b\b\b\b\b\b\b\b\b\b\b\b\b\b\b\b\b\b\b\b\b\b\b\b\b\b\b\b\b\b\r\u001b[1m45/45\u001b[0m \u001b[32m━━━━━━━━━━━━━━━━━━━━\u001b[0m\u001b[37m\u001b[0m \u001b[1m18s\u001b[0m 392ms/step - loss: 0.6916 - sparse_categorical_accuracy: 0.5339 - val_loss: 0.6930 - val_sparse_categorical_accuracy: 0.5090\n",
            "Epoch 83/150\n"
          ]
        },
        {
          "output_type": "stream",
          "name": "stderr",
          "text": [
            "[codecarbon INFO @ 05:39:11] Energy consumed for RAM : 0.004705 kWh. RAM Power : 10.0 W\n",
            "[codecarbon INFO @ 05:39:11] Delta energy consumed for CPU with constant : 0.000177 kWh, power : 42.5 W\n",
            "[codecarbon INFO @ 05:39:11] Energy consumed for All CPU : 0.020000 kWh\n",
            "[codecarbon INFO @ 05:39:11] Energy consumed for all GPUs : 0.029596 kWh. Total GPU Power : 66.18083716063204 W\n",
            "[codecarbon INFO @ 05:39:11] 0.054302 kWh of electricity used since the beginning.\n"
          ]
        },
        {
          "output_type": "stream",
          "name": "stdout",
          "text": [
            "\u001b[1m30/45\u001b[0m \u001b[32m━━━━━━━━━━━━━\u001b[0m\u001b[37m━━━━━━━\u001b[0m \u001b[1m4s\u001b[0m 332ms/step - loss: 0.6934 - sparse_categorical_accuracy: 0.5009"
          ]
        },
        {
          "output_type": "stream",
          "name": "stderr",
          "text": [
            "[codecarbon INFO @ 05:39:24] Energy consumed for RAM : 0.004581 kWh. RAM Power : 10.0 W\n",
            "[codecarbon INFO @ 05:39:24] Delta energy consumed for CPU with constant : 0.000177 kWh, power : 42.5 W\n",
            "[codecarbon INFO @ 05:39:24] Energy consumed for All CPU : 0.019471 kWh\n",
            "[codecarbon INFO @ 05:39:24] Energy consumed for all GPUs : 0.029350 kWh. Total GPU Power : 60.72823951302243 W\n",
            "[codecarbon INFO @ 05:39:24] 0.053402 kWh of electricity used since the beginning.\n"
          ]
        },
        {
          "output_type": "stream",
          "name": "stdout",
          "text": [
            "\u001b[1m38/45\u001b[0m \u001b[32m━━━━━━━━━━━━━━━━\u001b[0m\u001b[37m━━━━\u001b[0m \u001b[1m2s\u001b[0m 333ms/step - loss: 0.6934 - sparse_categorical_accuracy: 0.5025"
          ]
        },
        {
          "output_type": "stream",
          "name": "stderr",
          "text": [
            "[codecarbon INFO @ 05:39:26] Energy consumed for RAM : 0.004747 kWh. RAM Power : 10.0 W\n",
            "[codecarbon INFO @ 05:39:26] Delta energy consumed for CPU with constant : 0.000177 kWh, power : 42.5 W\n",
            "[codecarbon INFO @ 05:39:26] Energy consumed for All CPU : 0.020177 kWh\n",
            "[codecarbon INFO @ 05:39:26] Energy consumed for all GPUs : 0.029864 kWh. Total GPU Power : 64.18219435918753 W\n",
            "[codecarbon INFO @ 05:39:26] 0.054788 kWh of electricity used since the beginning.\n"
          ]
        },
        {
          "output_type": "stream",
          "name": "stdout",
          "text": [
            "\u001b[1m45/45\u001b[0m \u001b[32m━━━━━━━━━━━━━━━━━━━━\u001b[0m\u001b[37m\u001b[0m \u001b[1m19s\u001b[0m 366ms/step - loss: 0.6933 - sparse_categorical_accuracy: 0.5043 - val_loss: 0.6930 - val_sparse_categorical_accuracy: 0.5090\n",
            "Epoch 84/150\n",
            "\u001b[1m14/45\u001b[0m \u001b[32m━━━━━━\u001b[0m\u001b[37m━━━━━━━━━━━━━━\u001b[0m \u001b[1m10s\u001b[0m 330ms/step - loss: 0.6913 - sparse_categorical_accuracy: 0.5423"
          ]
        },
        {
          "output_type": "stream",
          "name": "stderr",
          "text": [
            "[codecarbon INFO @ 05:39:39] Energy consumed for RAM : 0.004623 kWh. RAM Power : 10.0 W\n",
            "[codecarbon INFO @ 05:39:39] Delta energy consumed for CPU with constant : 0.000177 kWh, power : 42.5 W\n",
            "[codecarbon INFO @ 05:39:39] Energy consumed for All CPU : 0.019648 kWh\n",
            "[codecarbon INFO @ 05:39:39] Energy consumed for all GPUs : 0.029609 kWh. Total GPU Power : 62.065611986988415 W\n",
            "[codecarbon INFO @ 05:39:39] 0.053879 kWh of electricity used since the beginning.\n"
          ]
        },
        {
          "output_type": "stream",
          "name": "stdout",
          "text": [
            "\u001b[1m21/45\u001b[0m \u001b[32m━━━━━━━━━\u001b[0m\u001b[37m━━━━━━━━━━━\u001b[0m \u001b[1m7s\u001b[0m 332ms/step - loss: 0.6915 - sparse_categorical_accuracy: 0.5379"
          ]
        },
        {
          "output_type": "stream",
          "name": "stderr",
          "text": [
            "[codecarbon INFO @ 05:39:41] Energy consumed for RAM : 0.004789 kWh. RAM Power : 10.0 W\n",
            "[codecarbon INFO @ 05:39:41] Delta energy consumed for CPU with constant : 0.000177 kWh, power : 42.5 W\n",
            "[codecarbon INFO @ 05:39:41] Energy consumed for All CPU : 0.020354 kWh\n",
            "[codecarbon INFO @ 05:39:41] Energy consumed for all GPUs : 0.030122 kWh. Total GPU Power : 62.049633206474205 W\n",
            "[codecarbon INFO @ 05:39:41] 0.055265 kWh of electricity used since the beginning.\n"
          ]
        },
        {
          "output_type": "stream",
          "name": "stdout",
          "text": [
            "\u001b[1m45/45\u001b[0m \u001b[32m━━━━━━━━━━━━━━━━━━━━\u001b[0m\u001b[37m\u001b[0m \u001b[1m20s\u001b[0m 366ms/step - loss: 0.6920 - sparse_categorical_accuracy: 0.5296 - val_loss: 0.6930 - val_sparse_categorical_accuracy: 0.5090\n",
            "Epoch 85/150\n",
            "\u001b[1m10/45\u001b[0m \u001b[32m━━━━\u001b[0m\u001b[37m━━━━━━━━━━━━━━━━\u001b[0m \u001b[1m11s\u001b[0m 338ms/step - loss: 0.6927 - sparse_categorical_accuracy: 0.5150"
          ]
        },
        {
          "output_type": "stream",
          "name": "stderr",
          "text": [
            "[codecarbon INFO @ 05:39:54] Energy consumed for RAM : 0.004664 kWh. RAM Power : 10.0 W\n",
            "[codecarbon INFO @ 05:39:54] Delta energy consumed for CPU with constant : 0.000177 kWh, power : 42.5 W\n",
            "[codecarbon INFO @ 05:39:54] Energy consumed for All CPU : 0.019825 kWh\n",
            "[codecarbon INFO @ 05:39:54] Energy consumed for all GPUs : 0.029898 kWh. Total GPU Power : 69.50495256704001 W\n",
            "[codecarbon INFO @ 05:39:54] 0.054388 kWh of electricity used since the beginning.\n",
            "[codecarbon INFO @ 05:39:54] 0.015480 g.CO2eq/s mean an estimation of 488.189389447819 kg.CO2eq/year\n"
          ]
        },
        {
          "output_type": "stream",
          "name": "stdout",
          "text": [
            "\u001b[1m17/45\u001b[0m \u001b[32m━━━━━━━\u001b[0m\u001b[37m━━━━━━━━━━━━━\u001b[0m \u001b[1m9s\u001b[0m 337ms/step - loss: 0.6925 - sparse_categorical_accuracy: 0.5191"
          ]
        },
        {
          "output_type": "stream",
          "name": "stderr",
          "text": [
            "[codecarbon INFO @ 05:39:56] Energy consumed for RAM : 0.004830 kWh. RAM Power : 10.0 W\n",
            "[codecarbon INFO @ 05:39:56] Delta energy consumed for CPU with constant : 0.000177 kWh, power : 42.5 W\n",
            "[codecarbon INFO @ 05:39:56] Energy consumed for All CPU : 0.020531 kWh\n",
            "[codecarbon INFO @ 05:39:56] Energy consumed for all GPUs : 0.030412 kWh. Total GPU Power : 69.56100093415344 W\n",
            "[codecarbon INFO @ 05:39:56] 0.055773 kWh of electricity used since the beginning.\n"
          ]
        },
        {
          "output_type": "stream",
          "name": "stdout",
          "text": [
            "\u001b[1m45/45\u001b[0m \u001b[32m━━━━━━━━━━━━━━━━━━━━\u001b[0m\u001b[37m\u001b[0m \u001b[1m18s\u001b[0m 395ms/step - loss: 0.6926 - sparse_categorical_accuracy: 0.5182 - val_loss: 0.6930 - val_sparse_categorical_accuracy: 0.5090\n",
            "Epoch 86/150\n"
          ]
        },
        {
          "output_type": "stream",
          "name": "stderr",
          "text": [
            "[codecarbon INFO @ 05:40:09] Energy consumed for RAM : 0.004706 kWh. RAM Power : 10.0 W\n",
            "[codecarbon INFO @ 05:40:09] Delta energy consumed for CPU with constant : 0.000177 kWh, power : 42.5 W\n",
            "[codecarbon INFO @ 05:40:09] Energy consumed for All CPU : 0.020002 kWh\n",
            "[codecarbon INFO @ 05:40:09] Energy consumed for all GPUs : 0.030178 kWh. Total GPU Power : 67.14230303099492 W\n",
            "[codecarbon INFO @ 05:40:09] 0.054886 kWh of electricity used since the beginning.\n",
            "[codecarbon INFO @ 05:40:11] Energy consumed for RAM : 0.004872 kWh. RAM Power : 10.0 W\n",
            "[codecarbon INFO @ 05:40:11] Delta energy consumed for CPU with constant : 0.000177 kWh, power : 42.5 W\n",
            "[codecarbon INFO @ 05:40:11] Energy consumed for All CPU : 0.020708 kWh\n",
            "[codecarbon INFO @ 05:40:11] Energy consumed for all GPUs : 0.030671 kWh. Total GPU Power : 62.14130999614135 W\n",
            "[codecarbon INFO @ 05:40:11] 0.056251 kWh of electricity used since the beginning.\n"
          ]
        },
        {
          "output_type": "stream",
          "name": "stdout",
          "text": [
            "\u001b[1m38/45\u001b[0m \u001b[32m━━━━━━━━━━━━━━━━\u001b[0m\u001b[37m━━━━\u001b[0m \u001b[1m2s\u001b[0m 330ms/step - loss: 0.6927 - sparse_categorical_accuracy: 0.5163"
          ]
        },
        {
          "output_type": "stream",
          "name": "stderr",
          "text": [
            "[codecarbon INFO @ 05:40:24] Energy consumed for RAM : 0.004748 kWh. RAM Power : 10.0 W\n",
            "[codecarbon INFO @ 05:40:24] Delta energy consumed for CPU with constant : 0.000177 kWh, power : 42.5 W\n",
            "[codecarbon INFO @ 05:40:24] Energy consumed for All CPU : 0.020179 kWh\n",
            "[codecarbon INFO @ 05:40:24] Energy consumed for all GPUs : 0.030447 kWh. Total GPU Power : 64.62052477461552 W\n"
          ]
        },
        {
          "output_type": "stream",
          "name": "stdout",
          "text": [
            "\b\b\b\b\b\b\b\b\b\b\b\b\b\b\b\b\b\b\b\b\b\b\b\b\b\b\b\b\b\b\b\b\b\b\b\b\b\b\b\b\b\b\b\b\b\b\b\b\b\b\b\b\b\b\b\b\b\b\b\b\b\b\b\b\b\b\b\b\b\b\b\b\b\b\b\b\b\b\b\b\b\b\b\b\b\b\b\b\b\b\b\b\b\r\u001b[1m39/45\u001b[0m \u001b[32m━━━━━━━━━━━━━━━━━\u001b[0m\u001b[37m━━━\u001b[0m \u001b[1m1s\u001b[0m 330ms/step - loss: 0.6927 - sparse_categorical_accuracy: 0.5163"
          ]
        },
        {
          "output_type": "stream",
          "name": "stderr",
          "text": [
            "[codecarbon INFO @ 05:40:24] 0.055374 kWh of electricity used since the beginning.\n"
          ]
        },
        {
          "output_type": "stream",
          "name": "stdout",
          "text": [
            "\u001b[1m45/45\u001b[0m \u001b[32m━━━━━━━━━━━━━━━━━━━━\u001b[0m\u001b[37m\u001b[0m \u001b[1m0s\u001b[0m 331ms/step - loss: 0.6927 - sparse_categorical_accuracy: 0.5160"
          ]
        },
        {
          "output_type": "stream",
          "name": "stderr",
          "text": [
            "[codecarbon INFO @ 05:40:26] Energy consumed for RAM : 0.004914 kWh. RAM Power : 10.0 W\n",
            "[codecarbon INFO @ 05:40:26] Delta energy consumed for CPU with constant : 0.000177 kWh, power : 42.5 W\n",
            "[codecarbon INFO @ 05:40:26] Energy consumed for All CPU : 0.020885 kWh\n",
            "[codecarbon INFO @ 05:40:26] Energy consumed for all GPUs : 0.030961 kWh. Total GPU Power : 69.64536526717517 W\n",
            "[codecarbon INFO @ 05:40:26] 0.056760 kWh of electricity used since the beginning.\n"
          ]
        },
        {
          "output_type": "stream",
          "name": "stdout",
          "text": [
            "\b\b\b\b\b\b\b\b\b\b\b\b\b\b\b\b\b\b\b\b\b\b\b\b\b\b\b\b\b\b\b\b\b\b\b\b\b\b\b\b\b\b\b\b\b\b\b\b\b\b\b\b\b\b\b\b\b\b\b\b\b\b\b\b\b\b\b\b\b\b\b\b\b\b\b\b\b\b\b\b\b\b\b\b\b\b\b\b\b\b\b\b\b\r\u001b[1m45/45\u001b[0m \u001b[32m━━━━━━━━━━━━━━━━━━━━\u001b[0m\u001b[37m\u001b[0m \u001b[1m20s\u001b[0m 389ms/step - loss: 0.6927 - sparse_categorical_accuracy: 0.5160 - val_loss: 0.6930 - val_sparse_categorical_accuracy: 0.5090\n",
            "Epoch 87/150\n",
            "\u001b[1m22/45\u001b[0m \u001b[32m━━━━━━━━━\u001b[0m\u001b[37m━━━━━━━━━━━\u001b[0m \u001b[1m7s\u001b[0m 330ms/step - loss: 0.6928 - sparse_categorical_accuracy: 0.5132"
          ]
        },
        {
          "output_type": "stream",
          "name": "stderr",
          "text": [
            "[codecarbon INFO @ 05:40:39] Energy consumed for RAM : 0.004789 kWh. RAM Power : 10.0 W\n",
            "[codecarbon INFO @ 05:40:39] Delta energy consumed for CPU with constant : 0.000177 kWh, power : 42.5 W\n",
            "[codecarbon INFO @ 05:40:39] Energy consumed for All CPU : 0.020356 kWh\n",
            "[codecarbon INFO @ 05:40:39] Energy consumed for all GPUs : 0.030704 kWh. Total GPU Power : 61.614277490728135 W\n",
            "[codecarbon INFO @ 05:40:39] 0.055849 kWh of electricity used since the beginning.\n"
          ]
        },
        {
          "output_type": "stream",
          "name": "stdout",
          "text": [
            "\u001b[1m29/45\u001b[0m \u001b[32m━━━━━━━━━━━━\u001b[0m\u001b[37m━━━━━━━━\u001b[0m \u001b[1m5s\u001b[0m 331ms/step - loss: 0.6927 - sparse_categorical_accuracy: 0.5161"
          ]
        },
        {
          "output_type": "stream",
          "name": "stderr",
          "text": [
            "[codecarbon INFO @ 05:40:41] Energy consumed for RAM : 0.004955 kWh. RAM Power : 10.0 W\n",
            "[codecarbon INFO @ 05:40:41] Delta energy consumed for CPU with constant : 0.000177 kWh, power : 42.5 W\n",
            "[codecarbon INFO @ 05:40:41] Energy consumed for All CPU : 0.021062 kWh\n",
            "[codecarbon INFO @ 05:40:41] Energy consumed for all GPUs : 0.031215 kWh. Total GPU Power : 61.063637657475375 W\n",
            "[codecarbon INFO @ 05:40:41] 0.057233 kWh of electricity used since the beginning.\n"
          ]
        },
        {
          "output_type": "stream",
          "name": "stdout",
          "text": [
            "\u001b[1m45/45\u001b[0m \u001b[32m━━━━━━━━━━━━━━━━━━━━\u001b[0m\u001b[37m\u001b[0m \u001b[1m19s\u001b[0m 364ms/step - loss: 0.6927 - sparse_categorical_accuracy: 0.5164 - val_loss: 0.6930 - val_sparse_categorical_accuracy: 0.5090\n",
            "Epoch 88/150\n",
            "\u001b[1m17/45\u001b[0m \u001b[32m━━━━━━━\u001b[0m\u001b[37m━━━━━━━━━━━━━\u001b[0m \u001b[1m9s\u001b[0m 338ms/step - loss: 0.6926 - sparse_categorical_accuracy: 0.5125"
          ]
        },
        {
          "output_type": "stream",
          "name": "stderr",
          "text": [
            "[codecarbon INFO @ 05:40:54] Energy consumed for RAM : 0.004831 kWh. RAM Power : 10.0 W\n",
            "[codecarbon INFO @ 05:40:54] Delta energy consumed for CPU with constant : 0.000177 kWh, power : 42.5 W\n",
            "[codecarbon INFO @ 05:40:54] Energy consumed for All CPU : 0.020533 kWh\n",
            "[codecarbon INFO @ 05:40:54] Energy consumed for all GPUs : 0.030993 kWh. Total GPU Power : 69.45544146087464 W\n",
            "[codecarbon INFO @ 05:40:54] 0.056357 kWh of electricity used since the beginning.\n"
          ]
        },
        {
          "output_type": "stream",
          "name": "stdout",
          "text": [
            "\u001b[1m25/45\u001b[0m \u001b[32m━━━━━━━━━━━\u001b[0m\u001b[37m━━━━━━━━━\u001b[0m \u001b[1m6s\u001b[0m 338ms/step - loss: 0.6924 - sparse_categorical_accuracy: 0.5175"
          ]
        },
        {
          "output_type": "stream",
          "name": "stderr",
          "text": [
            "[codecarbon INFO @ 05:40:56] Energy consumed for RAM : 0.004997 kWh. RAM Power : 10.0 W\n",
            "[codecarbon INFO @ 05:40:56] Delta energy consumed for CPU with constant : 0.000177 kWh, power : 42.5 W\n",
            "[codecarbon INFO @ 05:40:56] Energy consumed for All CPU : 0.021239 kWh\n",
            "[codecarbon INFO @ 05:40:56] Energy consumed for all GPUs : 0.031507 kWh. Total GPU Power : 69.9905840619272 W\n",
            "[codecarbon INFO @ 05:40:56] 0.057743 kWh of electricity used since the beginning.\n",
            "[codecarbon INFO @ 05:40:56] 0.015438 g.CO2eq/s mean an estimation of 486.86253369319854 kg.CO2eq/year\n"
          ]
        },
        {
          "output_type": "stream",
          "name": "stdout",
          "text": [
            "\u001b[1m45/45\u001b[0m \u001b[32m━━━━━━━━━━━━━━━━━━━━\u001b[0m\u001b[37m\u001b[0m \u001b[1m17s\u001b[0m 370ms/step - loss: 0.6925 - sparse_categorical_accuracy: 0.5183 - val_loss: 0.6930 - val_sparse_categorical_accuracy: 0.5090\n",
            "Epoch 89/150\n",
            "\u001b[1m 1/45\u001b[0m \u001b[37m━━━━━━━━━━━━━━━━━━━━\u001b[0m \u001b[1m3:05\u001b[0m 4s/step - loss: 0.6948 - sparse_categorical_accuracy: 0.4844"
          ]
        },
        {
          "output_type": "stream",
          "name": "stderr",
          "text": [
            "[codecarbon INFO @ 05:41:09] Energy consumed for RAM : 0.004873 kWh. RAM Power : 10.0 W\n",
            "[codecarbon INFO @ 05:41:09] Delta energy consumed for CPU with constant : 0.000177 kWh, power : 42.5 W\n",
            "[codecarbon INFO @ 05:41:09] Energy consumed for All CPU : 0.020710 kWh\n",
            "[codecarbon INFO @ 05:41:09] Energy consumed for all GPUs : 0.031253 kWh. Total GPU Power : 62.42650004361914 W\n",
            "[codecarbon INFO @ 05:41:09] 0.056836 kWh of electricity used since the beginning.\n"
          ]
        },
        {
          "output_type": "stream",
          "name": "stdout",
          "text": [
            "\u001b[1m 8/45\u001b[0m \u001b[32m━━━\u001b[0m\u001b[37m━━━━━━━━━━━━━━━━━\u001b[0m \u001b[1m12s\u001b[0m 331ms/step - loss: 0.6946 - sparse_categorical_accuracy: 0.4901"
          ]
        },
        {
          "output_type": "stream",
          "name": "stderr",
          "text": [
            "[codecarbon INFO @ 05:41:11] Energy consumed for RAM : 0.005039 kWh. RAM Power : 10.0 W\n",
            "[codecarbon INFO @ 05:41:11] Delta energy consumed for CPU with constant : 0.000177 kWh, power : 42.5 W\n",
            "[codecarbon INFO @ 05:41:11] Energy consumed for All CPU : 0.021416 kWh\n",
            "[codecarbon INFO @ 05:41:11] Energy consumed for all GPUs : 0.031765 kWh. Total GPU Power : 61.944424244976204 W\n",
            "[codecarbon INFO @ 05:41:11] 0.058219 kWh of electricity used since the beginning.\n"
          ]
        },
        {
          "output_type": "stream",
          "name": "stdout",
          "text": [
            "\u001b[1m45/45\u001b[0m \u001b[32m━━━━━━━━━━━━━━━━━━━━\u001b[0m\u001b[37m\u001b[0m \u001b[1m0s\u001b[0m 332ms/step - loss: 0.6932 - sparse_categorical_accuracy: 0.5101"
          ]
        },
        {
          "output_type": "stream",
          "name": "stderr",
          "text": [
            "[codecarbon INFO @ 05:41:24] Energy consumed for RAM : 0.004914 kWh. RAM Power : 10.0 W\n",
            "[codecarbon INFO @ 05:41:24] Delta energy consumed for CPU with constant : 0.000177 kWh, power : 42.5 W\n",
            "[codecarbon INFO @ 05:41:24] Energy consumed for All CPU : 0.020887 kWh\n",
            "[codecarbon INFO @ 05:41:24] Energy consumed for all GPUs : 0.031543 kWh. Total GPU Power : 69.61176547103837 W\n",
            "[codecarbon INFO @ 05:41:24] 0.057344 kWh of electricity used since the beginning.\n"
          ]
        },
        {
          "output_type": "stream",
          "name": "stdout",
          "text": [
            "\b\b\b\b\b\b\b\b\b\b\b\b\b\b\b\b\b\b\b\b\b\b\b\b\b\b\b\b\b\b\b\b\b\b\b\b\b\b\b\b\b\b\b\b\b\b\b\b\b\b\b\b\b\b\b\b\b\b\b\b\b\b\b\b\b\b\b\b\b\b\b\b\b\b\b\b\b\b\b\b\b\b\b\b\b\b\b\b\b\b\b\b\b\r\u001b[1m45/45\u001b[0m \u001b[32m━━━━━━━━━━━━━━━━━━━━\u001b[0m\u001b[37m\u001b[0m \u001b[1m20s\u001b[0m 364ms/step - loss: 0.6932 - sparse_categorical_accuracy: 0.5102 - val_loss: 0.6930 - val_sparse_categorical_accuracy: 0.5090\n",
            "Epoch 90/150\n",
            "\u001b[1m 4/45\u001b[0m \u001b[32m━\u001b[0m\u001b[37m━━━━━━━━━━━━━━━━━━━\u001b[0m \u001b[1m13s\u001b[0m 335ms/step - loss: 0.6943 - sparse_categorical_accuracy: 0.4912"
          ]
        },
        {
          "output_type": "stream",
          "name": "stderr",
          "text": [
            "[codecarbon INFO @ 05:41:26] Energy consumed for RAM : 0.005080 kWh. RAM Power : 10.0 W\n",
            "[codecarbon INFO @ 05:41:26] Delta energy consumed for CPU with constant : 0.000177 kWh, power : 42.5 W\n",
            "[codecarbon INFO @ 05:41:26] Energy consumed for All CPU : 0.021593 kWh\n",
            "[codecarbon INFO @ 05:41:26] Energy consumed for all GPUs : 0.032055 kWh. Total GPU Power : 69.60040022602176 W\n",
            "[codecarbon INFO @ 05:41:26] 0.058728 kWh of electricity used since the beginning.\n"
          ]
        },
        {
          "output_type": "stream",
          "name": "stdout",
          "text": [
            "\u001b[1m42/45\u001b[0m \u001b[32m━━━━━━━━━━━━━━━━━━\u001b[0m\u001b[37m━━\u001b[0m \u001b[1m1s\u001b[0m 334ms/step - loss: 0.6928 - sparse_categorical_accuracy: 0.5171"
          ]
        },
        {
          "output_type": "stream",
          "name": "stderr",
          "text": [
            "[codecarbon INFO @ 05:41:39] Energy consumed for RAM : 0.004956 kWh. RAM Power : 10.0 W\n",
            "[codecarbon INFO @ 05:41:39] Delta energy consumed for CPU with constant : 0.000177 kWh, power : 42.5 W\n",
            "[codecarbon INFO @ 05:41:39] Energy consumed for All CPU : 0.021064 kWh\n",
            "[codecarbon INFO @ 05:41:39] Energy consumed for all GPUs : 0.031833 kWh. Total GPU Power : 69.59683083322365 W\n",
            "[codecarbon INFO @ 05:41:39] 0.057853 kWh of electricity used since the beginning.\n"
          ]
        },
        {
          "output_type": "stream",
          "name": "stdout",
          "text": [
            "\u001b[1m45/45\u001b[0m \u001b[32m━━━━━━━━━━━━━━━━━━━━\u001b[0m\u001b[37m\u001b[0m \u001b[1m0s\u001b[0m 334ms/step - loss: 0.6928 - sparse_categorical_accuracy: 0.5168"
          ]
        },
        {
          "output_type": "stream",
          "name": "stderr",
          "text": [
            "[codecarbon INFO @ 05:41:41] Energy consumed for RAM : 0.005122 kWh. RAM Power : 10.0 W\n",
            "[codecarbon INFO @ 05:41:41] Delta energy consumed for CPU with constant : 0.000177 kWh, power : 42.5 W\n",
            "[codecarbon INFO @ 05:41:41] Energy consumed for All CPU : 0.021770 kWh\n",
            "[codecarbon INFO @ 05:41:41] Energy consumed for all GPUs : 0.032345 kWh. Total GPU Power : 69.82688172022299 W\n",
            "[codecarbon INFO @ 05:41:41] 0.059237 kWh of electricity used since the beginning.\n"
          ]
        },
        {
          "output_type": "stream",
          "name": "stdout",
          "text": [
            "\b\b\b\b\b\b\b\b\b\b\b\b\b\b\b\b\b\b\b\b\b\b\b\b\b\b\b\b\b\b\b\b\b\b\b\b\b\b\b\b\b\b\b\b\b\b\b\b\b\b\b\b\b\b\b\b\b\b\b\b\b\b\b\b\b\b\b\b\b\b\b\b\b\b\b\b\b\b\b\b\b\b\b\b\b\b\b\b\b\b\b\b\b\r\u001b[1m45/45\u001b[0m \u001b[32m━━━━━━━━━━━━━━━━━━━━\u001b[0m\u001b[37m\u001b[0m \u001b[1m18s\u001b[0m 393ms/step - loss: 0.6928 - sparse_categorical_accuracy: 0.5168 - val_loss: 0.6930 - val_sparse_categorical_accuracy: 0.5090\n",
            "Epoch 91/150\n",
            "\u001b[1m26/45\u001b[0m \u001b[32m━━━━━━━━━━━\u001b[0m\u001b[37m━━━━━━━━━\u001b[0m \u001b[1m6s\u001b[0m 331ms/step - loss: 0.6927 - sparse_categorical_accuracy: 0.5152"
          ]
        },
        {
          "output_type": "stream",
          "name": "stderr",
          "text": [
            "[codecarbon INFO @ 05:41:54] Energy consumed for RAM : 0.004997 kWh. RAM Power : 10.0 W\n",
            "[codecarbon INFO @ 05:41:54] Delta energy consumed for CPU with constant : 0.000177 kWh, power : 42.5 W\n",
            "[codecarbon INFO @ 05:41:54] Energy consumed for All CPU : 0.021241 kWh\n",
            "[codecarbon INFO @ 05:41:54] Energy consumed for all GPUs : 0.032091 kWh. Total GPU Power : 62.057052089687815 W\n",
            "[codecarbon INFO @ 05:41:54] 0.058329 kWh of electricity used since the beginning.\n",
            "[codecarbon INFO @ 05:41:54] 0.015461 g.CO2eq/s mean an estimation of 487.5908691777783 kg.CO2eq/year\n"
          ]
        },
        {
          "output_type": "stream",
          "name": "stdout",
          "text": [
            "\u001b[1m33/45\u001b[0m \u001b[32m━━━━━━━━━━━━━━\u001b[0m\u001b[37m━━━━━━\u001b[0m \u001b[1m3s\u001b[0m 331ms/step - loss: 0.6927 - sparse_categorical_accuracy: 0.5146"
          ]
        },
        {
          "output_type": "stream",
          "name": "stderr",
          "text": [
            "[codecarbon INFO @ 05:41:56] Energy consumed for RAM : 0.005164 kWh. RAM Power : 10.0 W\n",
            "[codecarbon INFO @ 05:41:56] Delta energy consumed for CPU with constant : 0.000177 kWh, power : 42.5 W\n",
            "[codecarbon INFO @ 05:41:56] Energy consumed for All CPU : 0.021947 kWh\n",
            "[codecarbon INFO @ 05:41:56] Energy consumed for all GPUs : 0.032603 kWh. Total GPU Power : 61.774280147019816 W\n",
            "[codecarbon INFO @ 05:41:56] 0.059713 kWh of electricity used since the beginning.\n"
          ]
        },
        {
          "output_type": "stream",
          "name": "stdout",
          "text": [
            "\u001b[1m45/45\u001b[0m \u001b[32m━━━━━━━━━━━━━━━━━━━━\u001b[0m\u001b[37m\u001b[0m \u001b[1m19s\u001b[0m 364ms/step - loss: 0.6927 - sparse_categorical_accuracy: 0.5149 - val_loss: 0.6930 - val_sparse_categorical_accuracy: 0.5090\n",
            "Epoch 92/150\n",
            "\u001b[1m21/45\u001b[0m \u001b[32m━━━━━━━━━\u001b[0m\u001b[37m━━━━━━━━━━━\u001b[0m \u001b[1m8s\u001b[0m 335ms/step - loss: 0.6936 - sparse_categorical_accuracy: 0.5023"
          ]
        },
        {
          "output_type": "stream",
          "name": "stderr",
          "text": [
            "[codecarbon INFO @ 05:42:09] Energy consumed for RAM : 0.005039 kWh. RAM Power : 10.0 W\n",
            "[codecarbon INFO @ 05:42:09] Delta energy consumed for CPU with constant : 0.000177 kWh, power : 42.5 W\n",
            "[codecarbon INFO @ 05:42:09] Energy consumed for All CPU : 0.021418 kWh\n",
            "[codecarbon INFO @ 05:42:09] Energy consumed for all GPUs : 0.032381 kWh. Total GPU Power : 69.52980543545534 W\n",
            "[codecarbon INFO @ 05:42:09] 0.058837 kWh of electricity used since the beginning.\n"
          ]
        },
        {
          "output_type": "stream",
          "name": "stdout",
          "text": [
            "\u001b[1m29/45\u001b[0m \u001b[32m━━━━━━━━━━━━\u001b[0m\u001b[37m━━━━━━━━\u001b[0m \u001b[1m5s\u001b[0m 335ms/step - loss: 0.6934 - sparse_categorical_accuracy: 0.5055"
          ]
        },
        {
          "output_type": "stream",
          "name": "stderr",
          "text": [
            "[codecarbon INFO @ 05:42:11] Energy consumed for RAM : 0.005205 kWh. RAM Power : 10.0 W\n",
            "[codecarbon INFO @ 05:42:11] Delta energy consumed for CPU with constant : 0.000177 kWh, power : 42.5 W\n",
            "[codecarbon INFO @ 05:42:11] Energy consumed for All CPU : 0.022124 kWh\n",
            "[codecarbon INFO @ 05:42:11] Energy consumed for all GPUs : 0.032892 kWh. Total GPU Power : 69.51122307542913 W\n",
            "[codecarbon INFO @ 05:42:11] 0.060222 kWh of electricity used since the beginning.\n"
          ]
        },
        {
          "output_type": "stream",
          "name": "stdout",
          "text": [
            "\u001b[1m45/45\u001b[0m \u001b[32m━━━━━━━━━━━━━━━━━━━━\u001b[0m\u001b[37m\u001b[0m \u001b[1m17s\u001b[0m 368ms/step - loss: 0.6933 - sparse_categorical_accuracy: 0.5070 - val_loss: 0.6930 - val_sparse_categorical_accuracy: 0.5090\n",
            "Epoch 93/150\n",
            "\u001b[1m 5/45\u001b[0m \u001b[32m━━\u001b[0m\u001b[37m━━━━━━━━━━━━━━━━━━\u001b[0m \u001b[1m13s\u001b[0m 328ms/step - loss: 0.6924 - sparse_categorical_accuracy: 0.5260"
          ]
        },
        {
          "output_type": "stream",
          "name": "stderr",
          "text": [
            "[codecarbon INFO @ 05:42:24] Energy consumed for RAM : 0.005081 kWh. RAM Power : 10.0 W\n",
            "[codecarbon INFO @ 05:42:24] Delta energy consumed for CPU with constant : 0.000177 kWh, power : 42.5 W\n",
            "[codecarbon INFO @ 05:42:24] Energy consumed for All CPU : 0.021595 kWh\n",
            "[codecarbon INFO @ 05:42:24] Energy consumed for all GPUs : 0.032638 kWh. Total GPU Power : 61.68866057467783 W\n",
            "[codecarbon INFO @ 05:42:24] 0.059313 kWh of electricity used since the beginning.\n"
          ]
        },
        {
          "output_type": "stream",
          "name": "stdout",
          "text": [
            "\u001b[1m12/45\u001b[0m \u001b[32m━━━━━\u001b[0m\u001b[37m━━━━━━━━━━━━━━━\u001b[0m \u001b[1m10s\u001b[0m 329ms/step - loss: 0.6928 - sparse_categorical_accuracy: 0.5182"
          ]
        },
        {
          "output_type": "stream",
          "name": "stderr",
          "text": [
            "[codecarbon INFO @ 05:42:26] Energy consumed for RAM : 0.005247 kWh. RAM Power : 10.0 W\n",
            "[codecarbon INFO @ 05:42:26] Delta energy consumed for CPU with constant : 0.000177 kWh, power : 42.5 W\n",
            "[codecarbon INFO @ 05:42:26] Energy consumed for All CPU : 0.022301 kWh\n",
            "[codecarbon INFO @ 05:42:26] Energy consumed for all GPUs : 0.033151 kWh. Total GPU Power : 62.12431682346585 W\n",
            "[codecarbon INFO @ 05:42:26] 0.060699 kWh of electricity used since the beginning.\n"
          ]
        },
        {
          "output_type": "stream",
          "name": "stdout",
          "text": [
            "\u001b[1m45/45\u001b[0m \u001b[32m━━━━━━━━━━━━━━━━━━━━\u001b[0m\u001b[37m\u001b[0m \u001b[1m20s\u001b[0m 364ms/step - loss: 0.6928 - sparse_categorical_accuracy: 0.5153 - val_loss: 0.6930 - val_sparse_categorical_accuracy: 0.5090\n",
            "Epoch 94/150\n"
          ]
        },
        {
          "output_type": "stream",
          "name": "stderr",
          "text": [
            "[codecarbon INFO @ 05:42:39] Energy consumed for RAM : 0.005122 kWh. RAM Power : 10.0 W\n",
            "[codecarbon INFO @ 05:42:39] Delta energy consumed for CPU with constant : 0.000177 kWh, power : 42.5 W\n",
            "[codecarbon INFO @ 05:42:39] Energy consumed for All CPU : 0.021772 kWh\n",
            "[codecarbon INFO @ 05:42:39] Energy consumed for all GPUs : 0.032925 kWh. Total GPU Power : 68.87120618170061 W\n",
            "[codecarbon INFO @ 05:42:39] 0.059819 kWh of electricity used since the beginning.\n",
            "[codecarbon INFO @ 05:42:41] Energy consumed for RAM : 0.005289 kWh. RAM Power : 10.0 W\n",
            "[codecarbon INFO @ 05:42:41] Delta energy consumed for CPU with constant : 0.000177 kWh, power : 42.5 W\n",
            "[codecarbon INFO @ 05:42:41] Energy consumed for All CPU : 0.022478 kWh\n",
            "[codecarbon INFO @ 05:42:41] Energy consumed for all GPUs : 0.033419 kWh. Total GPU Power : 64.23036249007721 W\n",
            "[codecarbon INFO @ 05:42:41] 0.061185 kWh of electricity used since the beginning.\n"
          ]
        },
        {
          "output_type": "stream",
          "name": "stdout",
          "text": [
            "\u001b[1m34/45\u001b[0m \u001b[32m━━━━━━━━━━━━━━━\u001b[0m\u001b[37m━━━━━\u001b[0m \u001b[1m3s\u001b[0m 331ms/step - loss: 0.6930 - sparse_categorical_accuracy: 0.5106"
          ]
        },
        {
          "output_type": "stream",
          "name": "stderr",
          "text": [
            "[codecarbon INFO @ 05:42:54] Energy consumed for RAM : 0.005164 kWh. RAM Power : 10.0 W\n",
            "[codecarbon INFO @ 05:42:54] Delta energy consumed for CPU with constant : 0.000177 kWh, power : 42.5 W\n",
            "[codecarbon INFO @ 05:42:54] Energy consumed for All CPU : 0.021949 kWh\n",
            "[codecarbon INFO @ 05:42:54] Energy consumed for all GPUs : 0.033184 kWh. Total GPU Power : 62.19590370662197 W\n",
            "[codecarbon INFO @ 05:42:54] 0.060296 kWh of electricity used since the beginning.\n"
          ]
        },
        {
          "output_type": "stream",
          "name": "stdout",
          "text": [
            "\u001b[1m41/45\u001b[0m \u001b[32m━━━━━━━━━━━━━━━━━━\u001b[0m\u001b[37m━━\u001b[0m \u001b[1m1s\u001b[0m 332ms/step - loss: 0.6930 - sparse_categorical_accuracy: 0.5111"
          ]
        },
        {
          "output_type": "stream",
          "name": "stderr",
          "text": [
            "[codecarbon INFO @ 05:42:56] Energy consumed for RAM : 0.005330 kWh. RAM Power : 10.0 W\n",
            "[codecarbon INFO @ 05:42:56] Delta energy consumed for CPU with constant : 0.000177 kWh, power : 42.5 W\n",
            "[codecarbon INFO @ 05:42:56] Energy consumed for All CPU : 0.022655 kWh\n",
            "[codecarbon INFO @ 05:42:56] Energy consumed for all GPUs : 0.033697 kWh. Total GPU Power : 66.88484401954193 W\n",
            "[codecarbon INFO @ 05:42:56] 0.061683 kWh of electricity used since the beginning.\n",
            "[codecarbon INFO @ 05:42:56] 0.015456 g.CO2eq/s mean an estimation of 487.4305979157819 kg.CO2eq/year\n"
          ]
        },
        {
          "output_type": "stream",
          "name": "stdout",
          "text": [
            "\u001b[1m45/45\u001b[0m \u001b[32m━━━━━━━━━━━━━━━━━━━━\u001b[0m\u001b[37m\u001b[0m \u001b[1m20s\u001b[0m 364ms/step - loss: 0.6929 - sparse_categorical_accuracy: 0.5115 - val_loss: 0.6930 - val_sparse_categorical_accuracy: 0.5090\n",
            "Epoch 95/150\n",
            "\u001b[1m29/45\u001b[0m \u001b[32m━━━━━━━━━━━━\u001b[0m\u001b[37m━━━━━━━━\u001b[0m \u001b[1m5s\u001b[0m 336ms/step - loss: 0.6928 - sparse_categorical_accuracy: 0.5127"
          ]
        },
        {
          "output_type": "stream",
          "name": "stderr",
          "text": [
            "[codecarbon INFO @ 05:43:09] Energy consumed for RAM : 0.005206 kWh. RAM Power : 10.0 W\n",
            "[codecarbon INFO @ 05:43:09] Delta energy consumed for CPU with constant : 0.000177 kWh, power : 42.5 W\n",
            "[codecarbon INFO @ 05:43:09] Energy consumed for All CPU : 0.022126 kWh\n",
            "[codecarbon INFO @ 05:43:09] Energy consumed for all GPUs : 0.033474 kWh. Total GPU Power : 69.55026405502066 W\n",
            "[codecarbon INFO @ 05:43:09] 0.060805 kWh of electricity used since the beginning.\n"
          ]
        },
        {
          "output_type": "stream",
          "name": "stdout",
          "text": [
            "\u001b[1m36/45\u001b[0m \u001b[32m━━━━━━━━━━━━━━━━\u001b[0m\u001b[37m━━━━\u001b[0m \u001b[1m3s\u001b[0m 336ms/step - loss: 0.6928 - sparse_categorical_accuracy: 0.5140"
          ]
        },
        {
          "output_type": "stream",
          "name": "stderr",
          "text": [
            "[codecarbon INFO @ 05:43:11] Energy consumed for RAM : 0.005372 kWh. RAM Power : 10.0 W\n",
            "[codecarbon INFO @ 05:43:11] Delta energy consumed for CPU with constant : 0.000177 kWh, power : 42.5 W\n",
            "[codecarbon INFO @ 05:43:11] Energy consumed for All CPU : 0.022832 kWh\n",
            "[codecarbon INFO @ 05:43:11] Energy consumed for all GPUs : 0.033987 kWh. Total GPU Power : 69.57334091417934 W\n",
            "[codecarbon INFO @ 05:43:11] 0.062191 kWh of electricity used since the beginning.\n"
          ]
        },
        {
          "output_type": "stream",
          "name": "stdout",
          "text": [
            "\u001b[1m45/45\u001b[0m \u001b[32m━━━━━━━━━━━━━━━━━━━━\u001b[0m\u001b[37m\u001b[0m \u001b[1m17s\u001b[0m 369ms/step - loss: 0.6927 - sparse_categorical_accuracy: 0.5147 - val_loss: 0.6930 - val_sparse_categorical_accuracy: 0.5090\n",
            "Epoch 96/150\n",
            "\u001b[1m13/45\u001b[0m \u001b[32m━━━━━\u001b[0m\u001b[37m━━━━━━━━━━━━━━━\u001b[0m \u001b[1m10s\u001b[0m 330ms/step - loss: 0.6929 - sparse_categorical_accuracy: 0.5087"
          ]
        },
        {
          "output_type": "stream",
          "name": "stderr",
          "text": [
            "[codecarbon INFO @ 05:43:24] Energy consumed for RAM : 0.005247 kWh. RAM Power : 10.0 W\n",
            "[codecarbon INFO @ 05:43:24] Delta energy consumed for CPU with constant : 0.000177 kWh, power : 42.5 W\n",
            "[codecarbon INFO @ 05:43:24] Energy consumed for All CPU : 0.022303 kWh\n",
            "[codecarbon INFO @ 05:43:24] Energy consumed for all GPUs : 0.033733 kWh. Total GPU Power : 62.258540572171555 W\n",
            "[codecarbon INFO @ 05:43:24] 0.061283 kWh of electricity used since the beginning.\n"
          ]
        },
        {
          "output_type": "stream",
          "name": "stdout",
          "text": [
            "\u001b[1m20/45\u001b[0m \u001b[32m━━━━━━━━\u001b[0m\u001b[37m━━━━━━━━━━━━\u001b[0m \u001b[1m8s\u001b[0m 331ms/step - loss: 0.6929 - sparse_categorical_accuracy: 0.5097"
          ]
        },
        {
          "output_type": "stream",
          "name": "stderr",
          "text": [
            "[codecarbon INFO @ 05:43:26] Energy consumed for RAM : 0.005413 kWh. RAM Power : 10.0 W\n",
            "[codecarbon INFO @ 05:43:26] Delta energy consumed for CPU with constant : 0.000177 kWh, power : 42.5 W\n",
            "[codecarbon INFO @ 05:43:26] Energy consumed for All CPU : 0.023009 kWh\n",
            "[codecarbon INFO @ 05:43:26] Energy consumed for all GPUs : 0.034244 kWh. Total GPU Power : 61.79074663553676 W\n",
            "[codecarbon INFO @ 05:43:26] 0.062667 kWh of electricity used since the beginning.\n"
          ]
        },
        {
          "output_type": "stream",
          "name": "stdout",
          "text": [
            "\u001b[1m45/45\u001b[0m \u001b[32m━━━━━━━━━━━━━━━━━━━━\u001b[0m\u001b[37m\u001b[0m \u001b[1m21s\u001b[0m 391ms/step - loss: 0.6927 - sparse_categorical_accuracy: 0.5149 - val_loss: 0.6930 - val_sparse_categorical_accuracy: 0.5090\n",
            "Epoch 97/150\n"
          ]
        },
        {
          "output_type": "stream",
          "name": "stderr",
          "text": [
            "[codecarbon INFO @ 05:43:39] Energy consumed for RAM : 0.005289 kWh. RAM Power : 10.0 W\n",
            "[codecarbon INFO @ 05:43:39] Delta energy consumed for CPU with constant : 0.000177 kWh, power : 42.5 W\n",
            "[codecarbon INFO @ 05:43:39] Energy consumed for All CPU : 0.022480 kWh\n",
            "[codecarbon INFO @ 05:43:39] Energy consumed for all GPUs : 0.033997 kWh. Total GPU Power : 63.497444776491164 W\n",
            "[codecarbon INFO @ 05:43:39] 0.061766 kWh of electricity used since the beginning.\n"
          ]
        },
        {
          "output_type": "stream",
          "name": "stdout",
          "text": [
            "\u001b[1m 4/45\u001b[0m \u001b[32m━\u001b[0m\u001b[37m━━━━━━━━━━━━━━━━━━━\u001b[0m \u001b[1m13s\u001b[0m 330ms/step - loss: 0.6955 - sparse_categorical_accuracy: 0.4590"
          ]
        },
        {
          "output_type": "stream",
          "name": "stderr",
          "text": [
            "[codecarbon INFO @ 05:43:41] Energy consumed for RAM : 0.005455 kWh. RAM Power : 10.0 W\n",
            "[codecarbon INFO @ 05:43:41] Delta energy consumed for CPU with constant : 0.000177 kWh, power : 42.5 W\n",
            "[codecarbon INFO @ 05:43:41] Energy consumed for All CPU : 0.023186 kWh\n",
            "[codecarbon INFO @ 05:43:41] Energy consumed for all GPUs : 0.034501 kWh. Total GPU Power : 61.610203868000305 W\n",
            "[codecarbon INFO @ 05:43:41] 0.063142 kWh of electricity used since the beginning.\n"
          ]
        },
        {
          "output_type": "stream",
          "name": "stdout",
          "text": [
            "\u001b[1m42/45\u001b[0m \u001b[32m━━━━━━━━━━━━━━━━━━\u001b[0m\u001b[37m━━\u001b[0m \u001b[1m0s\u001b[0m 332ms/step - loss: 0.6933 - sparse_categorical_accuracy: 0.5021"
          ]
        },
        {
          "output_type": "stream",
          "name": "stderr",
          "text": [
            "[codecarbon INFO @ 05:43:54] Energy consumed for RAM : 0.005331 kWh. RAM Power : 10.0 W\n",
            "[codecarbon INFO @ 05:43:54] Delta energy consumed for CPU with constant : 0.000177 kWh, power : 42.5 W\n",
            "[codecarbon INFO @ 05:43:54] Energy consumed for All CPU : 0.022657 kWh\n",
            "[codecarbon INFO @ 05:43:54] Energy consumed for all GPUs : 0.034279 kWh. Total GPU Power : 67.59974941951405 W\n",
            "[codecarbon INFO @ 05:43:54] 0.062267 kWh of electricity used since the beginning.\n",
            "[codecarbon INFO @ 05:43:54] 0.015445 g.CO2eq/s mean an estimation of 487.08250560673906 kg.CO2eq/year\n"
          ]
        },
        {
          "output_type": "stream",
          "name": "stdout",
          "text": [
            "\u001b[1m45/45\u001b[0m \u001b[32m━━━━━━━━━━━━━━━━━━━━\u001b[0m\u001b[37m\u001b[0m \u001b[1m19s\u001b[0m 365ms/step - loss: 0.6933 - sparse_categorical_accuracy: 0.5031 - val_loss: 0.6930 - val_sparse_categorical_accuracy: 0.5090\n",
            "Epoch 98/150\n"
          ]
        },
        {
          "output_type": "stream",
          "name": "stderr",
          "text": [
            "[codecarbon INFO @ 05:43:56] Energy consumed for RAM : 0.005497 kWh. RAM Power : 10.0 W\n",
            "[codecarbon INFO @ 05:43:56] Delta energy consumed for CPU with constant : 0.000177 kWh, power : 42.5 W\n",
            "[codecarbon INFO @ 05:43:56] Energy consumed for All CPU : 0.023363 kWh\n",
            "[codecarbon INFO @ 05:43:56] Energy consumed for all GPUs : 0.034791 kWh. Total GPU Power : 69.51600119342967 W\n",
            "[codecarbon INFO @ 05:43:56] 0.063650 kWh of electricity used since the beginning.\n"
          ]
        },
        {
          "output_type": "stream",
          "name": "stdout",
          "text": [
            "\u001b[1m25/45\u001b[0m \u001b[32m━━━━━━━━━━━\u001b[0m\u001b[37m━━━━━━━━━\u001b[0m \u001b[1m6s\u001b[0m 332ms/step - loss: 0.6924 - sparse_categorical_accuracy: 0.5203"
          ]
        },
        {
          "output_type": "stream",
          "name": "stderr",
          "text": [
            "[codecarbon INFO @ 05:44:09] Energy consumed for RAM : 0.005372 kWh. RAM Power : 10.0 W\n",
            "[codecarbon INFO @ 05:44:09] Delta energy consumed for CPU with constant : 0.000177 kWh, power : 42.5 W\n",
            "[codecarbon INFO @ 05:44:09] Energy consumed for All CPU : 0.022834 kWh\n",
            "[codecarbon INFO @ 05:44:09] Energy consumed for all GPUs : 0.034535 kWh. Total GPU Power : 61.4442030481528 W\n",
            "[codecarbon INFO @ 05:44:09] 0.062741 kWh of electricity used since the beginning.\n"
          ]
        },
        {
          "output_type": "stream",
          "name": "stdout",
          "text": [
            "\u001b[1m32/45\u001b[0m \u001b[32m━━━━━━━━━━━━━━\u001b[0m\u001b[37m━━━━━━\u001b[0m \u001b[1m4s\u001b[0m 333ms/step - loss: 0.6924 - sparse_categorical_accuracy: 0.5208"
          ]
        },
        {
          "output_type": "stream",
          "name": "stderr",
          "text": [
            "[codecarbon INFO @ 05:44:11] Energy consumed for RAM : 0.005538 kWh. RAM Power : 10.0 W\n",
            "[codecarbon INFO @ 05:44:11] Delta energy consumed for CPU with constant : 0.000177 kWh, power : 42.5 W\n",
            "[codecarbon INFO @ 05:44:11] Energy consumed for All CPU : 0.023540 kWh\n",
            "[codecarbon INFO @ 05:44:11] Energy consumed for all GPUs : 0.035049 kWh. Total GPU Power : 61.934633337632455 W\n",
            "[codecarbon INFO @ 05:44:11] 0.064127 kWh of electricity used since the beginning.\n"
          ]
        },
        {
          "output_type": "stream",
          "name": "stdout",
          "text": [
            "\u001b[1m45/45\u001b[0m \u001b[32m━━━━━━━━━━━━━━━━━━━━\u001b[0m\u001b[37m\u001b[0m \u001b[1m22s\u001b[0m 392ms/step - loss: 0.6925 - sparse_categorical_accuracy: 0.5193 - val_loss: 0.6930 - val_sparse_categorical_accuracy: 0.5090\n",
            "Epoch 99/150\n",
            "\u001b[1m17/45\u001b[0m \u001b[32m━━━━━━━\u001b[0m\u001b[37m━━━━━━━━━━━━━\u001b[0m \u001b[1m9s\u001b[0m 336ms/step - loss: 0.6927 - sparse_categorical_accuracy: 0.5181"
          ]
        },
        {
          "output_type": "stream",
          "name": "stderr",
          "text": [
            "[codecarbon INFO @ 05:44:24] Energy consumed for RAM : 0.005414 kWh. RAM Power : 10.0 W\n",
            "[codecarbon INFO @ 05:44:24] Delta energy consumed for CPU with constant : 0.000177 kWh, power : 42.5 W\n",
            "[codecarbon INFO @ 05:44:24] Energy consumed for All CPU : 0.023011 kWh\n",
            "[codecarbon INFO @ 05:44:24] Energy consumed for all GPUs : 0.034817 kWh. Total GPU Power : 67.66011467145564 W\n",
            "[codecarbon INFO @ 05:44:24] 0.063242 kWh of electricity used since the beginning.\n"
          ]
        },
        {
          "output_type": "stream",
          "name": "stdout",
          "text": [
            "\u001b[1m24/45\u001b[0m \u001b[32m━━━━━━━━━━\u001b[0m\u001b[37m━━━━━━━━━━\u001b[0m \u001b[1m7s\u001b[0m 336ms/step - loss: 0.6929 - sparse_categorical_accuracy: 0.5149"
          ]
        },
        {
          "output_type": "stream",
          "name": "stderr",
          "text": [
            "[codecarbon INFO @ 05:44:26] Energy consumed for RAM : 0.005580 kWh. RAM Power : 10.0 W\n",
            "[codecarbon INFO @ 05:44:26] Delta energy consumed for CPU with constant : 0.000177 kWh, power : 42.5 W\n",
            "[codecarbon INFO @ 05:44:26] Energy consumed for All CPU : 0.023717 kWh\n",
            "[codecarbon INFO @ 05:44:26] Energy consumed for all GPUs : 0.035328 kWh. Total GPU Power : 67.15251611426724 W\n",
            "[codecarbon INFO @ 05:44:26] 0.064626 kWh of electricity used since the beginning.\n"
          ]
        },
        {
          "output_type": "stream",
          "name": "stdout",
          "text": [
            "\u001b[1m45/45\u001b[0m \u001b[32m━━━━━━━━━━━━━━━━━━━━\u001b[0m\u001b[37m\u001b[0m \u001b[1m17s\u001b[0m 368ms/step - loss: 0.6929 - sparse_categorical_accuracy: 0.5147 - val_loss: 0.6930 - val_sparse_categorical_accuracy: 0.5090\n",
            "Epoch 100/150\n",
            "\u001b[1m 1/45\u001b[0m \u001b[37m━━━━━━━━━━━━━━━━━━━━\u001b[0m \u001b[1m3:08\u001b[0m 4s/step - loss: 0.6937 - sparse_categorical_accuracy: 0.4844"
          ]
        },
        {
          "output_type": "stream",
          "name": "stderr",
          "text": [
            "[codecarbon INFO @ 05:44:39] Energy consumed for RAM : 0.005456 kWh. RAM Power : 10.0 W\n",
            "[codecarbon INFO @ 05:44:39] Delta energy consumed for CPU with constant : 0.000177 kWh, power : 42.5 W\n",
            "[codecarbon INFO @ 05:44:39] Energy consumed for All CPU : 0.023188 kWh\n",
            "[codecarbon INFO @ 05:44:39] Energy consumed for all GPUs : 0.035074 kWh. Total GPU Power : 61.69290377755754 W\n",
            "[codecarbon INFO @ 05:44:39] 0.063717 kWh of electricity used since the beginning.\n"
          ]
        },
        {
          "output_type": "stream",
          "name": "stdout",
          "text": [
            "\u001b[1m 8/45\u001b[0m \u001b[32m━━━\u001b[0m\u001b[37m━━━━━━━━━━━━━━━━━\u001b[0m \u001b[1m12s\u001b[0m 328ms/step - loss: 0.6940 - sparse_categorical_accuracy: 0.4838"
          ]
        },
        {
          "output_type": "stream",
          "name": "stderr",
          "text": [
            "[codecarbon INFO @ 05:44:41] Energy consumed for RAM : 0.005622 kWh. RAM Power : 10.0 W\n",
            "[codecarbon INFO @ 05:44:41] Delta energy consumed for CPU with constant : 0.000177 kWh, power : 42.5 W\n",
            "[codecarbon INFO @ 05:44:41] Energy consumed for All CPU : 0.023894 kWh\n",
            "[codecarbon INFO @ 05:44:41] Energy consumed for all GPUs : 0.035587 kWh. Total GPU Power : 62.16868147641074 W\n",
            "[codecarbon INFO @ 05:44:41] 0.065103 kWh of electricity used since the beginning.\n"
          ]
        },
        {
          "output_type": "stream",
          "name": "stdout",
          "text": [
            "\u001b[1m45/45\u001b[0m \u001b[32m━━━━━━━━━━━━━━━━━━━━\u001b[0m\u001b[37m\u001b[0m \u001b[1m0s\u001b[0m 331ms/step - loss: 0.6932 - sparse_categorical_accuracy: 0.5041"
          ]
        },
        {
          "output_type": "stream",
          "name": "stderr",
          "text": [
            "[codecarbon INFO @ 05:44:54] Energy consumed for RAM : 0.005497 kWh. RAM Power : 10.0 W\n",
            "[codecarbon INFO @ 05:44:54] Delta energy consumed for CPU with constant : 0.000177 kWh, power : 42.5 W\n",
            "[codecarbon INFO @ 05:44:54] Energy consumed for All CPU : 0.023365 kWh\n",
            "[codecarbon INFO @ 05:44:54] Energy consumed for all GPUs : 0.035364 kWh. Total GPU Power : 69.64667310621161 W\n",
            "[codecarbon INFO @ 05:44:54] 0.064226 kWh of electricity used since the beginning.\n"
          ]
        },
        {
          "output_type": "stream",
          "name": "stdout",
          "text": [
            "\b\b\b\b\b\b\b\b\b\b\b\b\b\b\b\b\b\b\b\b\b\b\b\b\b\b\b\b\b\b\b\b\b\b\b\b\b\b\b\b\b\b\b\b\b\b\b\b\b\b\b\b\b\b\b\b\b\b\b\b\b\b\b\b\b\b\b\b\b\b\b\b\b\b\b\b\b\b\b\b\b\b\b\b\b\b\b\b\b\b\b\b\b\r\u001b[1m45/45\u001b[0m \u001b[32m━━━━━━━━━━━━━━━━━━━━\u001b[0m\u001b[37m\u001b[0m \u001b[1m21s\u001b[0m 390ms/step - loss: 0.6932 - sparse_categorical_accuracy: 0.5043 - val_loss: 0.6930 - val_sparse_categorical_accuracy: 0.5090\n",
            "Epoch 101/150\n",
            "\u001b[1m 1/45\u001b[0m \u001b[37m━━━━━━━━━━━━━━━━━━━━\u001b[0m \u001b[1m14s\u001b[0m 338ms/step - loss: 0.6942 - sparse_categorical_accuracy: 0.4844"
          ]
        },
        {
          "output_type": "stream",
          "name": "stderr",
          "text": [
            "[codecarbon INFO @ 05:44:56] Energy consumed for RAM : 0.005663 kWh. RAM Power : 10.0 W\n",
            "[codecarbon INFO @ 05:44:56] Delta energy consumed for CPU with constant : 0.000177 kWh, power : 42.5 W\n",
            "[codecarbon INFO @ 05:44:56] Energy consumed for All CPU : 0.024071 kWh\n",
            "[codecarbon INFO @ 05:44:56] Energy consumed for all GPUs : 0.035866 kWh. Total GPU Power : 67.02026247022981 W\n",
            "[codecarbon INFO @ 05:44:56] 0.065601 kWh of electricity used since the beginning.\n",
            "[codecarbon INFO @ 05:44:56] 0.015372 g.CO2eq/s mean an estimation of 484.78329469224076 kg.CO2eq/year\n"
          ]
        },
        {
          "output_type": "stream",
          "name": "stdout",
          "text": [
            "\u001b[1m38/45\u001b[0m \u001b[32m━━━━━━━━━━━━━━━━\u001b[0m\u001b[37m━━━━\u001b[0m \u001b[1m2s\u001b[0m 334ms/step - loss: 0.6922 - sparse_categorical_accuracy: 0.5202"
          ]
        },
        {
          "output_type": "stream",
          "name": "stderr",
          "text": [
            "[codecarbon INFO @ 05:45:09] Energy consumed for RAM : 0.005539 kWh. RAM Power : 10.0 W\n",
            "[codecarbon INFO @ 05:45:09] Delta energy consumed for CPU with constant : 0.000177 kWh, power : 42.5 W\n",
            "[codecarbon INFO @ 05:45:09] Energy consumed for All CPU : 0.023542 kWh\n",
            "[codecarbon INFO @ 05:45:09] Energy consumed for all GPUs : 0.035644 kWh. Total GPU Power : 67.37128727003794 W\n",
            "[codecarbon INFO @ 05:45:09] 0.064725 kWh of electricity used since the beginning.\n"
          ]
        },
        {
          "output_type": "stream",
          "name": "stdout",
          "text": [
            "\u001b[1m45/45\u001b[0m \u001b[32m━━━━━━━━━━━━━━━━━━━━\u001b[0m\u001b[37m\u001b[0m \u001b[1m0s\u001b[0m 334ms/step - loss: 0.6923 - sparse_categorical_accuracy: 0.5191"
          ]
        },
        {
          "output_type": "stream",
          "name": "stderr",
          "text": [
            "[codecarbon INFO @ 05:45:11] Energy consumed for RAM : 0.005705 kWh. RAM Power : 10.0 W\n",
            "[codecarbon INFO @ 05:45:11] Delta energy consumed for CPU with constant : 0.000177 kWh, power : 42.5 W\n",
            "[codecarbon INFO @ 05:45:11] Energy consumed for All CPU : 0.024248 kWh\n",
            "[codecarbon INFO @ 05:45:11] Energy consumed for all GPUs : 0.036156 kWh. Total GPU Power : 69.51265877595324 W\n",
            "[codecarbon INFO @ 05:45:11] 0.066109 kWh of electricity used since the beginning.\n"
          ]
        },
        {
          "output_type": "stream",
          "name": "stdout",
          "text": [
            "\b\b\b\b\b\b\b\b\b\b\b\b\b\b\b\b\b\b\b\b\b\b\b\b\b\b\b\b\b\b\b\b\b\b\b\b\b\b\b\b\b\b\b\b\b\b\b\b\b\b\b\b\b\b\b\b\b\b\b\b\b\b\b\b\b\b\b\b\b\b\b\b\b\b\b\b\b\b\b\b\b\b\b\b\b\b\b\b\b\b\b\b\b\r\u001b[1m45/45\u001b[0m \u001b[32m━━━━━━━━━━━━━━━━━━━━\u001b[0m\u001b[37m\u001b[0m \u001b[1m18s\u001b[0m 392ms/step - loss: 0.6923 - sparse_categorical_accuracy: 0.5190 - val_loss: 0.6930 - val_sparse_categorical_accuracy: 0.5090\n",
            "Epoch 102/150\n",
            "\u001b[1m22/45\u001b[0m \u001b[32m━━━━━━━━━\u001b[0m\u001b[37m━━━━━━━━━━━\u001b[0m \u001b[1m7s\u001b[0m 331ms/step - loss: 0.6935 - sparse_categorical_accuracy: 0.4986"
          ]
        },
        {
          "output_type": "stream",
          "name": "stderr",
          "text": [
            "[codecarbon INFO @ 05:45:24] Energy consumed for RAM : 0.005580 kWh. RAM Power : 10.0 W\n",
            "[codecarbon INFO @ 05:45:24] Delta energy consumed for CPU with constant : 0.000177 kWh, power : 42.5 W\n",
            "[codecarbon INFO @ 05:45:24] Energy consumed for All CPU : 0.023719 kWh\n",
            "[codecarbon INFO @ 05:45:24] Energy consumed for all GPUs : 0.035897 kWh. Total GPU Power : 60.66064844570969 W\n",
            "[codecarbon INFO @ 05:45:24] 0.065197 kWh of electricity used since the beginning.\n"
          ]
        },
        {
          "output_type": "stream",
          "name": "stdout",
          "text": [
            "\u001b[1m29/45\u001b[0m \u001b[32m━━━━━━━━━━━━\u001b[0m\u001b[37m━━━━━━━━\u001b[0m \u001b[1m5s\u001b[0m 331ms/step - loss: 0.6933 - sparse_categorical_accuracy: 0.5026"
          ]
        },
        {
          "output_type": "stream",
          "name": "stderr",
          "text": [
            "[codecarbon INFO @ 05:45:26] Energy consumed for RAM : 0.005747 kWh. RAM Power : 10.0 W\n",
            "[codecarbon INFO @ 05:45:26] Delta energy consumed for CPU with constant : 0.000177 kWh, power : 42.5 W\n",
            "[codecarbon INFO @ 05:45:26] Energy consumed for All CPU : 0.024425 kWh\n",
            "[codecarbon INFO @ 05:45:26] Energy consumed for all GPUs : 0.036411 kWh. Total GPU Power : 61.12187529843161 W\n",
            "[codecarbon INFO @ 05:45:26] 0.066582 kWh of electricity used since the beginning.\n"
          ]
        },
        {
          "output_type": "stream",
          "name": "stdout",
          "text": [
            "\u001b[1m45/45\u001b[0m \u001b[32m━━━━━━━━━━━━━━━━━━━━\u001b[0m\u001b[37m\u001b[0m \u001b[1m19s\u001b[0m 364ms/step - loss: 0.6931 - sparse_categorical_accuracy: 0.5068 - val_loss: 0.6930 - val_sparse_categorical_accuracy: 0.5090\n",
            "Epoch 103/150\n",
            "\u001b[1m 6/45\u001b[0m \u001b[32m━━\u001b[0m\u001b[37m━━━━━━━━━━━━━━━━━━\u001b[0m \u001b[1m12s\u001b[0m 326ms/step - loss: 0.6931 - sparse_categorical_accuracy: 0.5095"
          ]
        },
        {
          "output_type": "stream",
          "name": "stderr",
          "text": [
            "[codecarbon INFO @ 05:45:39] Energy consumed for RAM : 0.005622 kWh. RAM Power : 10.0 W\n",
            "[codecarbon INFO @ 05:45:39] Delta energy consumed for CPU with constant : 0.000177 kWh, power : 42.5 W\n",
            "[codecarbon INFO @ 05:45:39] Energy consumed for All CPU : 0.023896 kWh\n",
            "[codecarbon INFO @ 05:45:39] Energy consumed for all GPUs : 0.036153 kWh. Total GPU Power : 61.29286794355413 W\n",
            "[codecarbon INFO @ 05:45:39] 0.065671 kWh of electricity used since the beginning.\n"
          ]
        },
        {
          "output_type": "stream",
          "name": "stdout",
          "text": [
            "\u001b[1m13/45\u001b[0m \u001b[32m━━━━━\u001b[0m\u001b[37m━━━━━━━━━━━━━━━\u001b[0m \u001b[1m10s\u001b[0m 330ms/step - loss: 0.6928 - sparse_categorical_accuracy: 0.5127"
          ]
        },
        {
          "output_type": "stream",
          "name": "stderr",
          "text": [
            "[codecarbon INFO @ 05:45:41] Energy consumed for RAM : 0.005788 kWh. RAM Power : 10.0 W\n",
            "[codecarbon INFO @ 05:45:41] Delta energy consumed for CPU with constant : 0.000177 kWh, power : 42.5 W\n",
            "[codecarbon INFO @ 05:45:41] Energy consumed for All CPU : 0.024602 kWh\n",
            "[codecarbon INFO @ 05:45:41] Energy consumed for all GPUs : 0.036664 kWh. Total GPU Power : 60.863618314126505 W\n",
            "[codecarbon INFO @ 05:45:41] 0.067055 kWh of electricity used since the beginning.\n"
          ]
        },
        {
          "output_type": "stream",
          "name": "stdout",
          "text": [
            "\u001b[1m45/45\u001b[0m \u001b[32m━━━━━━━━━━━━━━━━━━━━\u001b[0m\u001b[37m\u001b[0m \u001b[1m21s\u001b[0m 366ms/step - loss: 0.6928 - sparse_categorical_accuracy: 0.5096 - val_loss: 0.6930 - val_sparse_categorical_accuracy: 0.5090\n",
            "Epoch 104/150\n",
            "\u001b[1m 1/45\u001b[0m \u001b[37m━━━━━━━━━━━━━━━━━━━━\u001b[0m \u001b[1m14s\u001b[0m 341ms/step - loss: 0.6924 - sparse_categorical_accuracy: 0.5156"
          ]
        },
        {
          "output_type": "stream",
          "name": "stderr",
          "text": [
            "[codecarbon INFO @ 05:45:54] Energy consumed for RAM : 0.005664 kWh. RAM Power : 10.0 W\n",
            "[codecarbon INFO @ 05:45:54] Delta energy consumed for CPU with constant : 0.000177 kWh, power : 42.5 W\n",
            "[codecarbon INFO @ 05:45:54] Energy consumed for All CPU : 0.024073 kWh\n",
            "[codecarbon INFO @ 05:45:54] Energy consumed for all GPUs : 0.036442 kWh. Total GPU Power : 69.57131678879726 W\n",
            "[codecarbon INFO @ 05:45:54] 0.066179 kWh of electricity used since the beginning.\n",
            "[codecarbon INFO @ 05:45:54] 0.015348 g.CO2eq/s mean an estimation of 484.01311995377705 kg.CO2eq/year\n"
          ]
        },
        {
          "output_type": "stream",
          "name": "stdout",
          "text": [
            "\u001b[1m 8/45\u001b[0m \u001b[32m━━━\u001b[0m\u001b[37m━━━━━━━━━━━━━━━━━\u001b[0m \u001b[1m12s\u001b[0m 337ms/step - loss: 0.6933 - sparse_categorical_accuracy: 0.5017"
          ]
        },
        {
          "output_type": "stream",
          "name": "stderr",
          "text": [
            "[codecarbon INFO @ 05:45:56] Energy consumed for RAM : 0.005830 kWh. RAM Power : 10.0 W\n",
            "[codecarbon INFO @ 05:45:56] Delta energy consumed for CPU with constant : 0.000177 kWh, power : 42.5 W\n",
            "[codecarbon INFO @ 05:45:56] Energy consumed for All CPU : 0.024779 kWh\n",
            "[codecarbon INFO @ 05:45:56] Energy consumed for all GPUs : 0.036956 kWh. Total GPU Power : 70.0278222728759 W\n",
            "[codecarbon INFO @ 05:45:56] 0.067565 kWh of electricity used since the beginning.\n"
          ]
        },
        {
          "output_type": "stream",
          "name": "stdout",
          "text": [
            "\u001b[1m45/45\u001b[0m \u001b[32m━━━━━━━━━━━━━━━━━━━━\u001b[0m\u001b[37m\u001b[0m \u001b[1m0s\u001b[0m 337ms/step - loss: 0.6927 - sparse_categorical_accuracy: 0.5161"
          ]
        },
        {
          "output_type": "stream",
          "name": "stderr",
          "text": [
            "[codecarbon INFO @ 05:46:09] Energy consumed for RAM : 0.005705 kWh. RAM Power : 10.0 W\n",
            "[codecarbon INFO @ 05:46:09] Delta energy consumed for CPU with constant : 0.000177 kWh, power : 42.5 W\n",
            "[codecarbon INFO @ 05:46:09] Energy consumed for All CPU : 0.024250 kWh\n",
            "[codecarbon INFO @ 05:46:09] Energy consumed for all GPUs : 0.036732 kWh. Total GPU Power : 69.59349525418436 W\n",
            "[codecarbon INFO @ 05:46:09] 0.066688 kWh of electricity used since the beginning.\n"
          ]
        },
        {
          "output_type": "stream",
          "name": "stdout",
          "text": [
            "\b\b\b\b\b\b\b\b\b\b\b\b\b\b\b\b\b\b\b\b\b\b\b\b\b\b\b\b\b\b\b\b\b\b\b\b\b\b\b\b\b\b\b\b\b\b\b\b\b\b\b\b\b\b\b\b\b\b\b\b\b\b\b\b\b\b\b\b\b\b\b\b\b\b\b\b\b\b\b\b\b\b\b\b\b\b\b\b\b\b\b\b\b\r\u001b[1m45/45\u001b[0m \u001b[32m━━━━━━━━━━━━━━━━━━━━\u001b[0m\u001b[37m\u001b[0m \u001b[1m18s\u001b[0m 395ms/step - loss: 0.6927 - sparse_categorical_accuracy: 0.5161 - val_loss: 0.6930 - val_sparse_categorical_accuracy: 0.5090\n",
            "Epoch 105/150\n"
          ]
        },
        {
          "output_type": "stream",
          "name": "stderr",
          "text": [
            "[codecarbon INFO @ 05:46:11] Energy consumed for RAM : 0.005872 kWh. RAM Power : 10.0 W\n",
            "[codecarbon INFO @ 05:46:11] Delta energy consumed for CPU with constant : 0.000177 kWh, power : 42.5 W\n",
            "[codecarbon INFO @ 05:46:11] Energy consumed for All CPU : 0.024956 kWh\n",
            "[codecarbon INFO @ 05:46:11] Energy consumed for all GPUs : 0.037237 kWh. Total GPU Power : 67.44401685142431 W\n",
            "[codecarbon INFO @ 05:46:11] 0.068064 kWh of electricity used since the beginning.\n"
          ]
        },
        {
          "output_type": "stream",
          "name": "stdout",
          "text": [
            "\u001b[1m30/45\u001b[0m \u001b[32m━━━━━━━━━━━━━\u001b[0m\u001b[37m━━━━━━━\u001b[0m \u001b[1m4s\u001b[0m 330ms/step - loss: 0.6934 - sparse_categorical_accuracy: 0.5017"
          ]
        },
        {
          "output_type": "stream",
          "name": "stderr",
          "text": [
            "[codecarbon INFO @ 05:46:24] Energy consumed for RAM : 0.005747 kWh. RAM Power : 10.0 W\n",
            "[codecarbon INFO @ 05:46:24] Delta energy consumed for CPU with constant : 0.000177 kWh, power : 42.5 W\n",
            "[codecarbon INFO @ 05:46:24] Energy consumed for All CPU : 0.024427 kWh\n",
            "[codecarbon INFO @ 05:46:24] Energy consumed for all GPUs : 0.036991 kWh. Total GPU Power : 62.21188825469262 W\n",
            "[codecarbon INFO @ 05:46:24] 0.067166 kWh of electricity used since the beginning.\n"
          ]
        },
        {
          "output_type": "stream",
          "name": "stdout",
          "text": [
            "\u001b[1m37/45\u001b[0m \u001b[32m━━━━━━━━━━━━━━━━\u001b[0m\u001b[37m━━━━\u001b[0m \u001b[1m2s\u001b[0m 330ms/step - loss: 0.6933 - sparse_categorical_accuracy: 0.5042"
          ]
        },
        {
          "output_type": "stream",
          "name": "stderr",
          "text": [
            "[codecarbon INFO @ 05:46:26] Energy consumed for RAM : 0.005913 kWh. RAM Power : 10.0 W\n",
            "[codecarbon INFO @ 05:46:26] Delta energy consumed for CPU with constant : 0.000177 kWh, power : 42.5 W\n",
            "[codecarbon INFO @ 05:46:26] Energy consumed for All CPU : 0.025133 kWh\n",
            "[codecarbon INFO @ 05:46:26] Energy consumed for all GPUs : 0.037503 kWh. Total GPU Power : 63.89197624653219 W\n",
            "[codecarbon INFO @ 05:46:26] 0.068550 kWh of electricity used since the beginning.\n"
          ]
        },
        {
          "output_type": "stream",
          "name": "stdout",
          "text": [
            "\u001b[1m45/45\u001b[0m \u001b[32m━━━━━━━━━━━━━━━━━━━━\u001b[0m\u001b[37m\u001b[0m \u001b[1m19s\u001b[0m 363ms/step - loss: 0.6932 - sparse_categorical_accuracy: 0.5061 - val_loss: 0.6930 - val_sparse_categorical_accuracy: 0.5090\n",
            "Epoch 106/150\n",
            "\u001b[1m26/45\u001b[0m \u001b[32m━━━━━━━━━━━\u001b[0m\u001b[37m━━━━━━━━━\u001b[0m \u001b[1m6s\u001b[0m 335ms/step - loss: 0.6930 - sparse_categorical_accuracy: 0.5109"
          ]
        },
        {
          "output_type": "stream",
          "name": "stderr",
          "text": [
            "[codecarbon INFO @ 05:46:39] Energy consumed for RAM : 0.005789 kWh. RAM Power : 10.0 W\n",
            "[codecarbon INFO @ 05:46:39] Delta energy consumed for CPU with constant : 0.000177 kWh, power : 42.5 W\n",
            "[codecarbon INFO @ 05:46:39] Energy consumed for All CPU : 0.024604 kWh\n",
            "[codecarbon INFO @ 05:46:39] Energy consumed for all GPUs : 0.037281 kWh. Total GPU Power : 69.49329676422421 W\n",
            "[codecarbon INFO @ 05:46:39] 0.067674 kWh of electricity used since the beginning.\n"
          ]
        },
        {
          "output_type": "stream",
          "name": "stdout",
          "text": [
            "\u001b[1m33/45\u001b[0m \u001b[32m━━━━━━━━━━━━━━\u001b[0m\u001b[37m━━━━━━\u001b[0m \u001b[1m4s\u001b[0m 335ms/step - loss: 0.6929 - sparse_categorical_accuracy: 0.5125"
          ]
        },
        {
          "output_type": "stream",
          "name": "stderr",
          "text": [
            "[codecarbon INFO @ 05:46:41] Energy consumed for RAM : 0.005955 kWh. RAM Power : 10.0 W\n",
            "[codecarbon INFO @ 05:46:41] Delta energy consumed for CPU with constant : 0.000177 kWh, power : 42.5 W\n",
            "[codecarbon INFO @ 05:46:41] Energy consumed for All CPU : 0.025310 kWh\n",
            "[codecarbon INFO @ 05:46:41] Energy consumed for all GPUs : 0.037795 kWh. Total GPU Power : 70.01558962268766 W\n",
            "[codecarbon INFO @ 05:46:41] 0.069060 kWh of electricity used since the beginning.\n"
          ]
        },
        {
          "output_type": "stream",
          "name": "stdout",
          "text": [
            "\u001b[1m45/45\u001b[0m \u001b[32m━━━━━━━━━━━━━━━━━━━━\u001b[0m\u001b[37m\u001b[0m \u001b[1m18s\u001b[0m 393ms/step - loss: 0.6929 - sparse_categorical_accuracy: 0.5125 - val_loss: 0.6930 - val_sparse_categorical_accuracy: 0.5090\n",
            "Epoch 107/150\n",
            "\u001b[1m 9/45\u001b[0m \u001b[32m━━━━\u001b[0m\u001b[37m━━━━━━━━━━━━━━━━\u001b[0m \u001b[1m11s\u001b[0m 329ms/step - loss: 0.6924 - sparse_categorical_accuracy: 0.5214"
          ]
        },
        {
          "output_type": "stream",
          "name": "stderr",
          "text": [
            "[codecarbon INFO @ 05:46:54] Energy consumed for RAM : 0.005830 kWh. RAM Power : 10.0 W\n",
            "[codecarbon INFO @ 05:46:54] Delta energy consumed for CPU with constant : 0.000177 kWh, power : 42.5 W\n",
            "[codecarbon INFO @ 05:46:54] Energy consumed for All CPU : 0.024781 kWh\n"
          ]
        },
        {
          "output_type": "stream",
          "name": "stdout",
          "text": [
            "\b\b\b\b\b\b\b\b\b\b\b\b\b\b\b\b\b\b\b\b\b\b\b\b\b\b\b\b\b\b\b\b\b\b\b\b\b\b\b\b\b\b\b\b\b\b\b\b\b\b\b\b\b\b\b\b\b\b\b\b\b\b\b\b\b\b\b\b\b\b\b\b\b\b\b\b\b\b\b\b\b\b\b\b\b\b\b\b\b\b\b\b\b\b\r\u001b[1m10/45\u001b[0m \u001b[32m━━━━\u001b[0m\u001b[37m━━━━━━━━━━━━━━━━\u001b[0m \u001b[1m11s\u001b[0m 330ms/step - loss: 0.6926 - sparse_categorical_accuracy: 0.5189"
          ]
        },
        {
          "output_type": "stream",
          "name": "stderr",
          "text": [
            "[codecarbon INFO @ 05:46:54] Energy consumed for all GPUs : 0.037537 kWh. Total GPU Power : 61.52919435994923 W\n",
            "[codecarbon INFO @ 05:46:54] 0.068149 kWh of electricity used since the beginning.\n"
          ]
        },
        {
          "output_type": "stream",
          "name": "stdout",
          "text": [
            "\u001b[1m17/45\u001b[0m \u001b[32m━━━━━━━\u001b[0m\u001b[37m━━━━━━━━━━━━━\u001b[0m \u001b[1m9s\u001b[0m 331ms/step - loss: 0.6929 - sparse_categorical_accuracy: 0.5111"
          ]
        },
        {
          "output_type": "stream",
          "name": "stderr",
          "text": [
            "[codecarbon INFO @ 05:46:56] Energy consumed for RAM : 0.005997 kWh. RAM Power : 10.0 W\n",
            "[codecarbon INFO @ 05:46:56] Delta energy consumed for CPU with constant : 0.000177 kWh, power : 42.5 W\n",
            "[codecarbon INFO @ 05:46:56] Energy consumed for All CPU : 0.025487 kWh\n",
            "[codecarbon INFO @ 05:46:56] Energy consumed for all GPUs : 0.038049 kWh. Total GPU Power : 61.04268102986759 W\n",
            "[codecarbon INFO @ 05:46:56] 0.069533 kWh of electricity used since the beginning.\n",
            "[codecarbon INFO @ 05:46:56] 0.015423 g.CO2eq/s mean an estimation of 486.38420058478533 kg.CO2eq/year\n"
          ]
        },
        {
          "output_type": "stream",
          "name": "stdout",
          "text": [
            "\u001b[1m45/45\u001b[0m \u001b[32m━━━━━━━━━━━━━━━━━━━━\u001b[0m\u001b[37m\u001b[0m \u001b[1m20s\u001b[0m 392ms/step - loss: 0.6928 - sparse_categorical_accuracy: 0.5132 - val_loss: 0.6930 - val_sparse_categorical_accuracy: 0.5090\n",
            "Epoch 108/150\n",
            "\u001b[1m 2/45\u001b[0m \u001b[37m━━━━━━━━━━━━━━━━━━━━\u001b[0m \u001b[1m13s\u001b[0m 320ms/step - loss: 0.6919 - sparse_categorical_accuracy: 0.5391"
          ]
        },
        {
          "output_type": "stream",
          "name": "stderr",
          "text": [
            "[codecarbon INFO @ 05:47:09] Energy consumed for RAM : 0.005872 kWh. RAM Power : 10.0 W\n",
            "[codecarbon INFO @ 05:47:09] Delta energy consumed for CPU with constant : 0.000177 kWh, power : 42.5 W\n",
            "[codecarbon INFO @ 05:47:09] Energy consumed for All CPU : 0.024958 kWh\n",
            "[codecarbon INFO @ 05:47:09] Energy consumed for all GPUs : 0.037819 kWh. Total GPU Power : 67.63621542611328 W\n",
            "[codecarbon INFO @ 05:47:09] 0.068649 kWh of electricity used since the beginning.\n"
          ]
        },
        {
          "output_type": "stream",
          "name": "stdout",
          "text": [
            "\u001b[1m 9/45\u001b[0m \u001b[32m━━━━\u001b[0m\u001b[37m━━━━━━━━━━━━━━━━\u001b[0m \u001b[1m11s\u001b[0m 333ms/step - loss: 0.6920 - sparse_categorical_accuracy: 0.5298"
          ]
        },
        {
          "output_type": "stream",
          "name": "stderr",
          "text": [
            "[codecarbon INFO @ 05:47:11] Energy consumed for RAM : 0.006038 kWh. RAM Power : 10.0 W\n",
            "[codecarbon INFO @ 05:47:11] Delta energy consumed for CPU with constant : 0.000177 kWh, power : 42.5 W\n",
            "[codecarbon INFO @ 05:47:11] Energy consumed for All CPU : 0.025664 kWh\n",
            "[codecarbon INFO @ 05:47:11] Energy consumed for all GPUs : 0.038330 kWh. Total GPU Power : 67.61170858725585 W\n",
            "[codecarbon INFO @ 05:47:11] 0.070033 kWh of electricity used since the beginning.\n"
          ]
        },
        {
          "output_type": "stream",
          "name": "stdout",
          "text": [
            "\u001b[1m45/45\u001b[0m \u001b[32m━━━━━━━━━━━━━━━━━━━━\u001b[0m\u001b[37m\u001b[0m \u001b[1m0s\u001b[0m 335ms/step - loss: 0.6926 - sparse_categorical_accuracy: 0.5172"
          ]
        },
        {
          "output_type": "stream",
          "name": "stderr",
          "text": [
            "[codecarbon INFO @ 05:47:24] Energy consumed for RAM : 0.005914 kWh. RAM Power : 10.0 W\n",
            "[codecarbon INFO @ 05:47:24] Delta energy consumed for CPU with constant : 0.000177 kWh, power : 42.5 W\n",
            "[codecarbon INFO @ 05:47:24] Energy consumed for All CPU : 0.025135 kWh\n",
            "[codecarbon INFO @ 05:47:24] Energy consumed for all GPUs : 0.038109 kWh. Total GPU Power : 69.53774038812296 W\n",
            "[codecarbon INFO @ 05:47:24] 0.069157 kWh of electricity used since the beginning.\n"
          ]
        },
        {
          "output_type": "stream",
          "name": "stdout",
          "text": [
            "\b\b\b\b\b\b\b\b\b\b\b\b\b\b\b\b\b\b\b\b\b\b\b\b\b\b\b\b\b\b\b\b\b\b\b\b\b\b\b\b\b\b\b\b\b\b\b\b\b\b\b\b\b\b\b\b\b\b\b\b\b\b\b\b\b\b\b\b\b\b\b\b\b\b\b\b\b\b\b\b\b\b\b\b\b\b\b\b\b\b\b\b\b\r\u001b[1m45/45\u001b[0m \u001b[32m━━━━━━━━━━━━━━━━━━━━\u001b[0m\u001b[37m\u001b[0m \u001b[1m17s\u001b[0m 368ms/step - loss: 0.6926 - sparse_categorical_accuracy: 0.5171 - val_loss: 0.6930 - val_sparse_categorical_accuracy: 0.5090\n",
            "Epoch 109/150\n",
            "\u001b[1m 4/45\u001b[0m \u001b[32m━\u001b[0m\u001b[37m━━━━━━━━━━━━━━━━━━━\u001b[0m \u001b[1m13s\u001b[0m 337ms/step - loss: 0.6957 - sparse_categorical_accuracy: 0.4661"
          ]
        },
        {
          "output_type": "stream",
          "name": "stderr",
          "text": [
            "[codecarbon INFO @ 05:47:26] Energy consumed for RAM : 0.006080 kWh. RAM Power : 10.0 W\n",
            "[codecarbon INFO @ 05:47:26] Delta energy consumed for CPU with constant : 0.000177 kWh, power : 42.5 W\n",
            "[codecarbon INFO @ 05:47:26] Energy consumed for All CPU : 0.025841 kWh\n",
            "[codecarbon INFO @ 05:47:26] Energy consumed for all GPUs : 0.038620 kWh. Total GPU Power : 69.50635765974842 W\n",
            "[codecarbon INFO @ 05:47:26] 0.070541 kWh of electricity used since the beginning.\n"
          ]
        },
        {
          "output_type": "stream",
          "name": "stdout",
          "text": [
            "\u001b[1m42/45\u001b[0m \u001b[32m━━━━━━━━━━━━━━━━━━\u001b[0m\u001b[37m━━\u001b[0m \u001b[1m1s\u001b[0m 335ms/step - loss: 0.6939 - sparse_categorical_accuracy: 0.4957"
          ]
        },
        {
          "output_type": "stream",
          "name": "stderr",
          "text": [
            "[codecarbon INFO @ 05:47:39] Energy consumed for RAM : 0.005955 kWh. RAM Power : 10.0 W\n",
            "[codecarbon INFO @ 05:47:39] Delta energy consumed for CPU with constant : 0.000177 kWh, power : 42.5 W\n",
            "[codecarbon INFO @ 05:47:39] Energy consumed for All CPU : 0.025312 kWh\n",
            "[codecarbon INFO @ 05:47:39] Energy consumed for all GPUs : 0.038398 kWh. Total GPU Power : 69.52300952033487 W\n",
            "[codecarbon INFO @ 05:47:39] 0.069666 kWh of electricity used since the beginning.\n"
          ]
        },
        {
          "output_type": "stream",
          "name": "stdout",
          "text": [
            "\u001b[1m45/45\u001b[0m \u001b[32m━━━━━━━━━━━━━━━━━━━━\u001b[0m\u001b[37m\u001b[0m \u001b[1m0s\u001b[0m 335ms/step - loss: 0.6939 - sparse_categorical_accuracy: 0.4968"
          ]
        },
        {
          "output_type": "stream",
          "name": "stderr",
          "text": [
            "[codecarbon INFO @ 05:47:41] Energy consumed for RAM : 0.006121 kWh. RAM Power : 10.0 W\n",
            "[codecarbon INFO @ 05:47:41] Delta energy consumed for CPU with constant : 0.000177 kWh, power : 42.5 W\n",
            "[codecarbon INFO @ 05:47:41] Energy consumed for All CPU : 0.026018 kWh\n",
            "[codecarbon INFO @ 05:47:41] Energy consumed for all GPUs : 0.038911 kWh. Total GPU Power : 69.87125083253164 W\n",
            "[codecarbon INFO @ 05:47:41] 0.071051 kWh of electricity used since the beginning.\n"
          ]
        },
        {
          "output_type": "stream",
          "name": "stdout",
          "text": [
            "\b\b\b\b\b\b\b\b\b\b\b\b\b\b\b\b\b\b\b\b\b\b\b\b\b\b\b\b\b\b\b\b\b\b\b\b\b\b\b\b\b\b\b\b\b\b\b\b\b\b\b\b\b\b\b\b\b\b\b\b\b\b\b\b\b\b\b\b\b\b\b\b\b\b\b\b\b\b\b\b\b\b\b\b\b\b\b\b\b\b\b\b\b\r\u001b[1m45/45\u001b[0m \u001b[32m━━━━━━━━━━━━━━━━━━━━\u001b[0m\u001b[37m\u001b[0m \u001b[1m18s\u001b[0m 394ms/step - loss: 0.6938 - sparse_categorical_accuracy: 0.4972 - val_loss: 0.6930 - val_sparse_categorical_accuracy: 0.5090\n",
            "Epoch 110/150\n",
            "\u001b[1m34/45\u001b[0m \u001b[32m━━━━━━━━━━━━━━━\u001b[0m\u001b[37m━━━━━\u001b[0m \u001b[1m3s\u001b[0m 332ms/step - loss: 0.6926 - sparse_categorical_accuracy: 0.5189"
          ]
        },
        {
          "output_type": "stream",
          "name": "stderr",
          "text": [
            "[codecarbon INFO @ 05:47:54] Energy consumed for RAM : 0.005997 kWh. RAM Power : 10.0 W\n",
            "[codecarbon INFO @ 05:47:54] Delta energy consumed for CPU with constant : 0.000177 kWh, power : 42.5 W\n",
            "[codecarbon INFO @ 05:47:54] Energy consumed for All CPU : 0.025489 kWh\n",
            "[codecarbon INFO @ 05:47:54] Energy consumed for all GPUs : 0.038681 kWh. Total GPU Power : 67.84148674598869 W\n",
            "[codecarbon INFO @ 05:47:54] 0.070167 kWh of electricity used since the beginning.\n",
            "[codecarbon INFO @ 05:47:54] 0.015644 g.CO2eq/s mean an estimation of 493.3371372978038 kg.CO2eq/year\n"
          ]
        },
        {
          "output_type": "stream",
          "name": "stdout",
          "text": [
            "\u001b[1m41/45\u001b[0m \u001b[32m━━━━━━━━━━━━━━━━━━\u001b[0m\u001b[37m━━\u001b[0m \u001b[1m1s\u001b[0m 332ms/step - loss: 0.6927 - sparse_categorical_accuracy: 0.5173"
          ]
        },
        {
          "output_type": "stream",
          "name": "stderr",
          "text": [
            "[codecarbon INFO @ 05:47:56] Energy consumed for RAM : 0.006163 kWh. RAM Power : 10.0 W\n",
            "[codecarbon INFO @ 05:47:56] Delta energy consumed for CPU with constant : 0.000177 kWh, power : 42.5 W\n",
            "[codecarbon INFO @ 05:47:56] Energy consumed for All CPU : 0.026195 kWh\n",
            "[codecarbon INFO @ 05:47:56] Energy consumed for all GPUs : 0.039192 kWh. Total GPU Power : 67.53750266303157 W\n",
            "[codecarbon INFO @ 05:47:56] 0.071551 kWh of electricity used since the beginning.\n"
          ]
        },
        {
          "output_type": "stream",
          "name": "stdout",
          "text": [
            "\u001b[1m45/45\u001b[0m \u001b[32m━━━━━━━━━━━━━━━━━━━━\u001b[0m\u001b[37m\u001b[0m \u001b[1m16s\u001b[0m 364ms/step - loss: 0.6927 - sparse_categorical_accuracy: 0.5169 - val_loss: 0.6930 - val_sparse_categorical_accuracy: 0.5090\n",
            "Epoch 111/150\n",
            "\u001b[1m18/45\u001b[0m \u001b[32m━━━━━━━━\u001b[0m\u001b[37m━━━━━━━━━━━━\u001b[0m \u001b[1m8s\u001b[0m 328ms/step - loss: 0.6928 - sparse_categorical_accuracy: 0.5122"
          ]
        },
        {
          "output_type": "stream",
          "name": "stderr",
          "text": [
            "[codecarbon INFO @ 05:48:09] Energy consumed for RAM : 0.006039 kWh. RAM Power : 10.0 W\n",
            "[codecarbon INFO @ 05:48:09] Delta energy consumed for CPU with constant : 0.000177 kWh, power : 42.5 W\n",
            "[codecarbon INFO @ 05:48:09] Energy consumed for All CPU : 0.025666 kWh\n",
            "[codecarbon INFO @ 05:48:09] Energy consumed for all GPUs : 0.038932 kWh. Total GPU Power : 60.32382736582666 W\n",
            "[codecarbon INFO @ 05:48:09] 0.070637 kWh of electricity used since the beginning.\n"
          ]
        },
        {
          "output_type": "stream",
          "name": "stdout",
          "text": [
            "\u001b[1m25/45\u001b[0m \u001b[32m━━━━━━━━━━━\u001b[0m\u001b[37m━━━━━━━━━\u001b[0m \u001b[1m6s\u001b[0m 329ms/step - loss: 0.6926 - sparse_categorical_accuracy: 0.5149"
          ]
        },
        {
          "output_type": "stream",
          "name": "stderr",
          "text": [
            "[codecarbon INFO @ 05:48:11] Energy consumed for RAM : 0.006205 kWh. RAM Power : 10.0 W\n",
            "[codecarbon INFO @ 05:48:11] Delta energy consumed for CPU with constant : 0.000177 kWh, power : 42.5 W\n",
            "[codecarbon INFO @ 05:48:11] Energy consumed for All CPU : 0.026372 kWh\n",
            "[codecarbon INFO @ 05:48:11] Energy consumed for all GPUs : 0.039446 kWh. Total GPU Power : 60.76632546671598 W\n",
            "[codecarbon INFO @ 05:48:11] 0.072023 kWh of electricity used since the beginning.\n"
          ]
        },
        {
          "output_type": "stream",
          "name": "stdout",
          "text": [
            "\u001b[1m45/45\u001b[0m \u001b[32m━━━━━━━━━━━━━━━━━━━━\u001b[0m\u001b[37m\u001b[0m \u001b[1m20s\u001b[0m 363ms/step - loss: 0.6927 - sparse_categorical_accuracy: 0.5154 - val_loss: 0.6930 - val_sparse_categorical_accuracy: 0.5090\n",
            "Epoch 112/150\n",
            "\u001b[1m13/45\u001b[0m \u001b[32m━━━━━\u001b[0m\u001b[37m━━━━━━━━━━━━━━━\u001b[0m \u001b[1m10s\u001b[0m 340ms/step - loss: 0.6915 - sparse_categorical_accuracy: 0.5377"
          ]
        },
        {
          "output_type": "stream",
          "name": "stderr",
          "text": [
            "[codecarbon INFO @ 05:48:24] Energy consumed for RAM : 0.006080 kWh. RAM Power : 10.0 W\n",
            "[codecarbon INFO @ 05:48:24] Delta energy consumed for CPU with constant : 0.000177 kWh, power : 42.5 W\n",
            "[codecarbon INFO @ 05:48:24] Energy consumed for All CPU : 0.025843 kWh\n",
            "[codecarbon INFO @ 05:48:24] Energy consumed for all GPUs : 0.039222 kWh. Total GPU Power : 69.5253402219338 W\n",
            "[codecarbon INFO @ 05:48:24] 0.071145 kWh of electricity used since the beginning.\n"
          ]
        },
        {
          "output_type": "stream",
          "name": "stdout",
          "text": [
            "\u001b[1m20/45\u001b[0m \u001b[32m━━━━━━━━\u001b[0m\u001b[37m━━━━━━━━━━━━\u001b[0m \u001b[1m8s\u001b[0m 340ms/step - loss: 0.6920 - sparse_categorical_accuracy: 0.5275"
          ]
        },
        {
          "output_type": "stream",
          "name": "stderr",
          "text": [
            "[codecarbon INFO @ 05:48:26] Energy consumed for RAM : 0.006246 kWh. RAM Power : 10.0 W\n",
            "[codecarbon INFO @ 05:48:26] Delta energy consumed for CPU with constant : 0.000177 kWh, power : 42.5 W\n",
            "[codecarbon INFO @ 05:48:26] Energy consumed for All CPU : 0.026549 kWh\n",
            "[codecarbon INFO @ 05:48:26] Energy consumed for all GPUs : 0.039735 kWh. Total GPU Power : 69.59576266040638 W\n",
            "[codecarbon INFO @ 05:48:26] 0.072531 kWh of electricity used since the beginning.\n"
          ]
        },
        {
          "output_type": "stream",
          "name": "stdout",
          "text": [
            "\u001b[1m45/45\u001b[0m \u001b[32m━━━━━━━━━━━━━━━━━━━━\u001b[0m\u001b[37m\u001b[0m \u001b[1m17s\u001b[0m 373ms/step - loss: 0.6924 - sparse_categorical_accuracy: 0.5196 - val_loss: 0.6930 - val_sparse_categorical_accuracy: 0.5090\n",
            "Epoch 113/150\n"
          ]
        },
        {
          "output_type": "stream",
          "name": "stderr",
          "text": [
            "[codecarbon INFO @ 05:48:39] Energy consumed for RAM : 0.006122 kWh. RAM Power : 10.0 W\n",
            "[codecarbon INFO @ 05:48:39] Delta energy consumed for CPU with constant : 0.000177 kWh, power : 42.5 W\n",
            "[codecarbon INFO @ 05:48:39] Energy consumed for All CPU : 0.026020 kWh\n",
            "[codecarbon INFO @ 05:48:39] Energy consumed for all GPUs : 0.039488 kWh. Total GPU Power : 63.88152616550645 W\n",
            "[codecarbon INFO @ 05:48:39] 0.071629 kWh of electricity used since the beginning.\n"
          ]
        },
        {
          "output_type": "stream",
          "name": "stdout",
          "text": [
            "\u001b[1m 4/45\u001b[0m \u001b[32m━\u001b[0m\u001b[37m━━━━━━━━━━━━━━━━━━━\u001b[0m \u001b[1m13s\u001b[0m 328ms/step - loss: 0.6917 - sparse_categorical_accuracy: 0.5332"
          ]
        },
        {
          "output_type": "stream",
          "name": "stderr",
          "text": [
            "[codecarbon INFO @ 05:48:41] Energy consumed for RAM : 0.006288 kWh. RAM Power : 10.0 W\n",
            "[codecarbon INFO @ 05:48:41] Delta energy consumed for CPU with constant : 0.000177 kWh, power : 42.5 W\n",
            "[codecarbon INFO @ 05:48:41] Energy consumed for All CPU : 0.026726 kWh\n",
            "[codecarbon INFO @ 05:48:41] Energy consumed for all GPUs : 0.039991 kWh. Total GPU Power : 61.52074980053021 W\n",
            "[codecarbon INFO @ 05:48:41] 0.073006 kWh of electricity used since the beginning.\n"
          ]
        },
        {
          "output_type": "stream",
          "name": "stdout",
          "text": [
            "\u001b[1m42/45\u001b[0m \u001b[32m━━━━━━━━━━━━━━━━━━\u001b[0m\u001b[37m━━\u001b[0m \u001b[1m0s\u001b[0m 332ms/step - loss: 0.6923 - sparse_categorical_accuracy: 0.5222"
          ]
        },
        {
          "output_type": "stream",
          "name": "stderr",
          "text": [
            "[codecarbon INFO @ 05:48:54] Energy consumed for RAM : 0.006163 kWh. RAM Power : 10.0 W\n",
            "[codecarbon INFO @ 05:48:54] Delta energy consumed for CPU with constant : 0.000177 kWh, power : 42.5 W\n",
            "[codecarbon INFO @ 05:48:54] Energy consumed for All CPU : 0.026197 kWh\n",
            "[codecarbon INFO @ 05:48:54] Energy consumed for all GPUs : 0.039770 kWh. Total GPU Power : 67.6794660084628 W\n",
            "[codecarbon INFO @ 05:48:54] 0.072130 kWh of electricity used since the beginning.\n"
          ]
        },
        {
          "output_type": "stream",
          "name": "stdout",
          "text": [
            "\u001b[1m45/45\u001b[0m \u001b[32m━━━━━━━━━━━━━━━━━━━━\u001b[0m\u001b[37m\u001b[0m \u001b[1m20s\u001b[0m 364ms/step - loss: 0.6924 - sparse_categorical_accuracy: 0.5214 - val_loss: 0.6930 - val_sparse_categorical_accuracy: 0.5090\n",
            "Epoch 114/150\n"
          ]
        },
        {
          "output_type": "stream",
          "name": "stderr",
          "text": [
            "[codecarbon INFO @ 05:48:56] Energy consumed for RAM : 0.006330 kWh. RAM Power : 10.0 W\n",
            "[codecarbon INFO @ 05:48:56] Delta energy consumed for CPU with constant : 0.000177 kWh, power : 42.5 W\n",
            "[codecarbon INFO @ 05:48:56] Energy consumed for All CPU : 0.026903 kWh\n",
            "[codecarbon INFO @ 05:48:56] Energy consumed for all GPUs : 0.040281 kWh. Total GPU Power : 69.6053516517971 W\n",
            "[codecarbon INFO @ 05:48:56] 0.073514 kWh of electricity used since the beginning.\n",
            "[codecarbon INFO @ 05:48:56] 0.015620 g.CO2eq/s mean an estimation of 492.606598651403 kg.CO2eq/year\n"
          ]
        },
        {
          "output_type": "stream",
          "name": "stdout",
          "text": [
            "\u001b[1m26/45\u001b[0m \u001b[32m━━━━━━━━━━━\u001b[0m\u001b[37m━━━━━━━━━\u001b[0m \u001b[1m6s\u001b[0m 329ms/step - loss: 0.6932 - sparse_categorical_accuracy: 0.5050"
          ]
        },
        {
          "output_type": "stream",
          "name": "stderr",
          "text": [
            "[codecarbon INFO @ 05:49:09] Energy consumed for RAM : 0.006205 kWh. RAM Power : 10.0 W\n",
            "[codecarbon INFO @ 05:49:09] Delta energy consumed for CPU with constant : 0.000177 kWh, power : 42.5 W\n",
            "[codecarbon INFO @ 05:49:09] Energy consumed for All CPU : 0.026374 kWh\n",
            "[codecarbon INFO @ 05:49:09] Energy consumed for all GPUs : 0.040027 kWh. Total GPU Power : 61.76682404550348 W\n",
            "[codecarbon INFO @ 05:49:09] 0.072606 kWh of electricity used since the beginning.\n"
          ]
        },
        {
          "output_type": "stream",
          "name": "stdout",
          "text": [
            "\u001b[1m33/45\u001b[0m \u001b[32m━━━━━━━━━━━━━━\u001b[0m\u001b[37m━━━━━━\u001b[0m \u001b[1m3s\u001b[0m 329ms/step - loss: 0.6930 - sparse_categorical_accuracy: 0.5081"
          ]
        },
        {
          "output_type": "stream",
          "name": "stderr",
          "text": [
            "[codecarbon INFO @ 05:49:11] Energy consumed for RAM : 0.006371 kWh. RAM Power : 10.0 W\n",
            "[codecarbon INFO @ 05:49:11] Delta energy consumed for CPU with constant : 0.000177 kWh, power : 42.5 W\n",
            "[codecarbon INFO @ 05:49:11] Energy consumed for All CPU : 0.027080 kWh\n",
            "[codecarbon INFO @ 05:49:11] Energy consumed for all GPUs : 0.040538 kWh. Total GPU Power : 61.700448966288796 W\n",
            "[codecarbon INFO @ 05:49:11] 0.073990 kWh of electricity used since the beginning.\n"
          ]
        },
        {
          "output_type": "stream",
          "name": "stdout",
          "text": [
            "\u001b[1m45/45\u001b[0m \u001b[32m━━━━━━━━━━━━━━━━━━━━\u001b[0m\u001b[37m\u001b[0m \u001b[1m22s\u001b[0m 389ms/step - loss: 0.6929 - sparse_categorical_accuracy: 0.5112 - val_loss: 0.6930 - val_sparse_categorical_accuracy: 0.5090\n",
            "Epoch 115/150\n",
            "\u001b[1m18/45\u001b[0m \u001b[32m━━━━━━━━\u001b[0m\u001b[37m━━━━━━━━━━━━\u001b[0m \u001b[1m9s\u001b[0m 334ms/step - loss: 0.6898 - sparse_categorical_accuracy: 0.5642"
          ]
        },
        {
          "output_type": "stream",
          "name": "stderr",
          "text": [
            "[codecarbon INFO @ 05:49:24] Energy consumed for RAM : 0.006247 kWh. RAM Power : 10.0 W\n",
            "[codecarbon INFO @ 05:49:24] Delta energy consumed for CPU with constant : 0.000177 kWh, power : 42.5 W\n",
            "[codecarbon INFO @ 05:49:24] Energy consumed for All CPU : 0.026551 kWh\n",
            "[codecarbon INFO @ 05:49:24] Energy consumed for all GPUs : 0.040309 kWh. Total GPU Power : 67.81508607494226 W\n",
            "[codecarbon INFO @ 05:49:24] 0.073107 kWh of electricity used since the beginning.\n"
          ]
        },
        {
          "output_type": "stream",
          "name": "stdout",
          "text": [
            "\u001b[1m25/45\u001b[0m \u001b[32m━━━━━━━━━━━\u001b[0m\u001b[37m━━━━━━━━━\u001b[0m \u001b[1m6s\u001b[0m 334ms/step - loss: 0.6901 - sparse_categorical_accuracy: 0.5582"
          ]
        },
        {
          "output_type": "stream",
          "name": "stderr",
          "text": [
            "[codecarbon INFO @ 05:49:26] Energy consumed for RAM : 0.006413 kWh. RAM Power : 10.0 W\n",
            "[codecarbon INFO @ 05:49:26] Delta energy consumed for CPU with constant : 0.000177 kWh, power : 42.5 W\n",
            "[codecarbon INFO @ 05:49:26] Energy consumed for All CPU : 0.027257 kWh\n",
            "[codecarbon INFO @ 05:49:26] Energy consumed for all GPUs : 0.040821 kWh. Total GPU Power : 67.83498143632801 W\n",
            "[codecarbon INFO @ 05:49:26] 0.074491 kWh of electricity used since the beginning.\n"
          ]
        },
        {
          "output_type": "stream",
          "name": "stdout",
          "text": [
            "\u001b[1m45/45\u001b[0m \u001b[32m━━━━━━━━━━━━━━━━━━━━\u001b[0m\u001b[37m\u001b[0m \u001b[1m18s\u001b[0m 394ms/step - loss: 0.6912 - sparse_categorical_accuracy: 0.5419 - val_loss: 0.6930 - val_sparse_categorical_accuracy: 0.5090\n",
            "Epoch 116/150\n",
            "\u001b[1m10/45\u001b[0m \u001b[32m━━━━\u001b[0m\u001b[37m━━━━━━━━━━━━━━━━\u001b[0m \u001b[1m11s\u001b[0m 336ms/step - loss: 0.6925 - sparse_categorical_accuracy: 0.5195"
          ]
        },
        {
          "output_type": "stream",
          "name": "stderr",
          "text": [
            "[codecarbon INFO @ 05:49:39] Energy consumed for RAM : 0.006288 kWh. RAM Power : 10.0 W\n",
            "[codecarbon INFO @ 05:49:39] Delta energy consumed for CPU with constant : 0.000177 kWh, power : 42.5 W\n",
            "[codecarbon INFO @ 05:49:39] Energy consumed for All CPU : 0.026728 kWh\n",
            "[codecarbon INFO @ 05:49:39] Energy consumed for all GPUs : 0.040592 kWh. Total GPU Power : 67.78943515783091 W\n",
            "[codecarbon INFO @ 05:49:39] 0.073608 kWh of electricity used since the beginning.\n"
          ]
        },
        {
          "output_type": "stream",
          "name": "stdout",
          "text": [
            "\u001b[1m17/45\u001b[0m \u001b[32m━━━━━━━\u001b[0m\u001b[37m━━━━━━━━━━━━━\u001b[0m \u001b[1m9s\u001b[0m 335ms/step - loss: 0.6928 - sparse_categorical_accuracy: 0.5148"
          ]
        },
        {
          "output_type": "stream",
          "name": "stderr",
          "text": [
            "[codecarbon INFO @ 05:49:41] Energy consumed for RAM : 0.006455 kWh. RAM Power : 10.0 W\n",
            "[codecarbon INFO @ 05:49:41] Delta energy consumed for CPU with constant : 0.000177 kWh, power : 42.5 W\n",
            "[codecarbon INFO @ 05:49:41] Energy consumed for All CPU : 0.027434 kWh\n",
            "[codecarbon INFO @ 05:49:41] Energy consumed for all GPUs : 0.041105 kWh. Total GPU Power : 68.22570412602583 W\n",
            "[codecarbon INFO @ 05:49:41] 0.074994 kWh of electricity used since the beginning.\n"
          ]
        },
        {
          "output_type": "stream",
          "name": "stdout",
          "text": [
            "\u001b[1m45/45\u001b[0m \u001b[32m━━━━━━━━━━━━━━━━━━━━\u001b[0m\u001b[37m\u001b[0m \u001b[1m18s\u001b[0m 394ms/step - loss: 0.6927 - sparse_categorical_accuracy: 0.5143 - val_loss: 0.6930 - val_sparse_categorical_accuracy: 0.5090\n",
            "Epoch 117/150\n",
            "\u001b[1m 2/45\u001b[0m \u001b[37m━━━━━━━━━━━━━━━━━━━━\u001b[0m \u001b[1m13s\u001b[0m 324ms/step - loss: 0.6938 - sparse_categorical_accuracy: 0.4922"
          ]
        },
        {
          "output_type": "stream",
          "name": "stderr",
          "text": [
            "[codecarbon INFO @ 05:49:54] Energy consumed for RAM : 0.006330 kWh. RAM Power : 10.0 W\n",
            "[codecarbon INFO @ 05:49:54] Delta energy consumed for CPU with constant : 0.000177 kWh, power : 42.5 W\n",
            "[codecarbon INFO @ 05:49:54] Energy consumed for All CPU : 0.026905 kWh\n",
            "[codecarbon INFO @ 05:49:54] Energy consumed for all GPUs : 0.040875 kWh. Total GPU Power : 67.96002118992797 W\n",
            "[codecarbon INFO @ 05:49:54] 0.074110 kWh of electricity used since the beginning.\n",
            "[codecarbon INFO @ 05:49:54] 0.015468 g.CO2eq/s mean an estimation of 487.78984399773594 kg.CO2eq/year\n"
          ]
        },
        {
          "output_type": "stream",
          "name": "stdout",
          "text": [
            "\u001b[1m 9/45\u001b[0m \u001b[32m━━━━\u001b[0m\u001b[37m━━━━━━━━━━━━━━━━\u001b[0m \u001b[1m11s\u001b[0m 332ms/step - loss: 0.6930 - sparse_categorical_accuracy: 0.5091"
          ]
        },
        {
          "output_type": "stream",
          "name": "stderr",
          "text": [
            "[codecarbon INFO @ 05:49:56] Energy consumed for RAM : 0.006496 kWh. RAM Power : 10.0 W\n",
            "[codecarbon INFO @ 05:49:56] Delta energy consumed for CPU with constant : 0.000177 kWh, power : 42.5 W\n",
            "[codecarbon INFO @ 05:49:56] Energy consumed for All CPU : 0.027611 kWh\n",
            "[codecarbon INFO @ 05:49:56] Energy consumed for all GPUs : 0.041386 kWh. Total GPU Power : 67.4951012246615 W\n",
            "[codecarbon INFO @ 05:49:56] 0.075493 kWh of electricity used since the beginning.\n"
          ]
        },
        {
          "output_type": "stream",
          "name": "stdout",
          "text": [
            "\u001b[1m45/45\u001b[0m \u001b[32m━━━━━━━━━━━━━━━━━━━━\u001b[0m\u001b[37m\u001b[0m \u001b[1m0s\u001b[0m 333ms/step - loss: 0.6929 - sparse_categorical_accuracy: 0.5096"
          ]
        },
        {
          "output_type": "stream",
          "name": "stderr",
          "text": [
            "[codecarbon INFO @ 05:50:09] Energy consumed for RAM : 0.006372 kWh. RAM Power : 10.0 W\n",
            "[codecarbon INFO @ 05:50:09] Delta energy consumed for CPU with constant : 0.000177 kWh, power : 42.5 W\n",
            "[codecarbon INFO @ 05:50:09] Energy consumed for All CPU : 0.027082 kWh\n",
            "[codecarbon INFO @ 05:50:09] Energy consumed for all GPUs : 0.041165 kWh. Total GPU Power : 69.55872469698205 W\n",
            "[codecarbon INFO @ 05:50:09] 0.074618 kWh of electricity used since the beginning.\n"
          ]
        },
        {
          "output_type": "stream",
          "name": "stdout",
          "text": [
            "\b\b\b\b\b\b\b\b\b\b\b\b\b\b\b\b\b\b\b\b\b\b\b\b\b\b\b\b\b\b\b\b\b\b\b\b\b\b\b\b\b\b\b\b\b\b\b\b\b\b\b\b\b\b\b\b\b\b\b\b\b\b\b\b\b\b\b\b\b\b\b\b\b\b\b\b\b\b\b\b\b\b\b\b\b\b\b\b\b\b\b\b\b\r\u001b[1m45/45\u001b[0m \u001b[32m━━━━━━━━━━━━━━━━━━━━\u001b[0m\u001b[37m\u001b[0m \u001b[1m16s\u001b[0m 365ms/step - loss: 0.6929 - sparse_categorical_accuracy: 0.5097 - val_loss: 0.6930 - val_sparse_categorical_accuracy: 0.5090\n",
            "Epoch 118/150\n",
            "\u001b[1m 5/45\u001b[0m \u001b[32m━━\u001b[0m\u001b[37m━━━━━━━━━━━━━━━━━━\u001b[0m \u001b[1m13s\u001b[0m 331ms/step - loss: 0.6924 - sparse_categorical_accuracy: 0.5227"
          ]
        },
        {
          "output_type": "stream",
          "name": "stderr",
          "text": [
            "[codecarbon INFO @ 05:50:11] Energy consumed for RAM : 0.006538 kWh. RAM Power : 10.0 W\n",
            "[codecarbon INFO @ 05:50:11] Delta energy consumed for CPU with constant : 0.000177 kWh, power : 42.5 W\n",
            "[codecarbon INFO @ 05:50:11] Energy consumed for All CPU : 0.027788 kWh\n",
            "[codecarbon INFO @ 05:50:11] Energy consumed for all GPUs : 0.041676 kWh. Total GPU Power : 69.60474903496768 W\n",
            "[codecarbon INFO @ 05:50:11] 0.076002 kWh of electricity used since the beginning.\n"
          ]
        },
        {
          "output_type": "stream",
          "name": "stdout",
          "text": [
            "\u001b[1m43/45\u001b[0m \u001b[32m━━━━━━━━━━━━━━━━━━━\u001b[0m\u001b[37m━\u001b[0m \u001b[1m0s\u001b[0m 332ms/step - loss: 0.6931 - sparse_categorical_accuracy: 0.5096"
          ]
        },
        {
          "output_type": "stream",
          "name": "stderr",
          "text": [
            "[codecarbon INFO @ 05:50:24] Energy consumed for RAM : 0.006413 kWh. RAM Power : 10.0 W\n",
            "[codecarbon INFO @ 05:50:24] Delta energy consumed for CPU with constant : 0.000177 kWh, power : 42.5 W\n",
            "[codecarbon INFO @ 05:50:24] Energy consumed for All CPU : 0.027259 kWh\n",
            "[codecarbon INFO @ 05:50:24] Energy consumed for all GPUs : 0.041454 kWh. Total GPU Power : 69.52860959316372 W\n",
            "[codecarbon INFO @ 05:50:24] 0.075127 kWh of electricity used since the beginning.\n"
          ]
        },
        {
          "output_type": "stream",
          "name": "stdout",
          "text": [
            "\u001b[1m45/45\u001b[0m \u001b[32m━━━━━━━━━━━━━━━━━━━━\u001b[0m\u001b[37m\u001b[0m \u001b[1m16s\u001b[0m 364ms/step - loss: 0.6930 - sparse_categorical_accuracy: 0.5099 - val_loss: 0.6930 - val_sparse_categorical_accuracy: 0.5090\n",
            "Epoch 119/150\n"
          ]
        },
        {
          "output_type": "stream",
          "name": "stderr",
          "text": [
            "[codecarbon INFO @ 05:50:26] Energy consumed for RAM : 0.006579 kWh. RAM Power : 10.0 W\n",
            "[codecarbon INFO @ 05:50:26] Delta energy consumed for CPU with constant : 0.000177 kWh, power : 42.5 W\n",
            "[codecarbon INFO @ 05:50:26] Energy consumed for All CPU : 0.027965 kWh\n",
            "[codecarbon INFO @ 05:50:26] Energy consumed for all GPUs : 0.041962 kWh. Total GPU Power : 68.68002804146406 W\n",
            "[codecarbon INFO @ 05:50:26] 0.076507 kWh of electricity used since the beginning.\n"
          ]
        },
        {
          "output_type": "stream",
          "name": "stdout",
          "text": [
            "\u001b[1m27/45\u001b[0m \u001b[32m━━━━━━━━━━━━\u001b[0m\u001b[37m━━━━━━━━\u001b[0m \u001b[1m5s\u001b[0m 326ms/step - loss: 0.6925 - sparse_categorical_accuracy: 0.5183"
          ]
        },
        {
          "output_type": "stream",
          "name": "stderr",
          "text": [
            "[codecarbon INFO @ 05:50:39] Energy consumed for RAM : 0.006455 kWh. RAM Power : 10.0 W\n",
            "[codecarbon INFO @ 05:50:39] Delta energy consumed for CPU with constant : 0.000177 kWh, power : 42.5 W\n",
            "[codecarbon INFO @ 05:50:39] Energy consumed for All CPU : 0.027436 kWh\n",
            "[codecarbon INFO @ 05:50:39] Energy consumed for all GPUs : 0.041706 kWh. Total GPU Power : 60.41441614724275 W\n",
            "[codecarbon INFO @ 05:50:39] 0.075597 kWh of electricity used since the beginning.\n"
          ]
        },
        {
          "output_type": "stream",
          "name": "stdout",
          "text": [
            "\u001b[1m34/45\u001b[0m \u001b[32m━━━━━━━━━━━━━━━\u001b[0m\u001b[37m━━━━━\u001b[0m \u001b[1m3s\u001b[0m 326ms/step - loss: 0.6925 - sparse_categorical_accuracy: 0.5185"
          ]
        },
        {
          "output_type": "stream",
          "name": "stderr",
          "text": [
            "[codecarbon INFO @ 05:50:41] Energy consumed for RAM : 0.006621 kWh. RAM Power : 10.0 W\n",
            "[codecarbon INFO @ 05:50:41] Delta energy consumed for CPU with constant : 0.000177 kWh, power : 42.5 W\n",
            "[codecarbon INFO @ 05:50:41] Energy consumed for All CPU : 0.028142 kWh\n",
            "[codecarbon INFO @ 05:50:41] Energy consumed for all GPUs : 0.042219 kWh. Total GPU Power : 61.75654475408656 W\n",
            "[codecarbon INFO @ 05:50:41] 0.076983 kWh of electricity used since the beginning.\n"
          ]
        },
        {
          "output_type": "stream",
          "name": "stdout",
          "text": [
            "\u001b[1m45/45\u001b[0m \u001b[32m━━━━━━━━━━━━━━━━━━━━\u001b[0m\u001b[37m\u001b[0m \u001b[1m21s\u001b[0m 386ms/step - loss: 0.6925 - sparse_categorical_accuracy: 0.5174 - val_loss: 0.6930 - val_sparse_categorical_accuracy: 0.5090\n",
            "Epoch 120/150\n",
            "\u001b[1m10/45\u001b[0m \u001b[32m━━━━\u001b[0m\u001b[37m━━━━━━━━━━━━━━━━\u001b[0m \u001b[1m11s\u001b[0m 323ms/step - loss: 0.6937 - sparse_categorical_accuracy: 0.4927"
          ]
        },
        {
          "output_type": "stream",
          "name": "stderr",
          "text": [
            "[codecarbon INFO @ 05:50:54] Energy consumed for RAM : 0.006497 kWh. RAM Power : 10.0 W\n",
            "[codecarbon INFO @ 05:50:54] Delta energy consumed for CPU with constant : 0.000177 kWh, power : 42.5 W\n",
            "[codecarbon INFO @ 05:50:54] Energy consumed for All CPU : 0.027613 kWh\n",
            "[codecarbon INFO @ 05:50:54] Energy consumed for all GPUs : 0.041959 kWh. Total GPU Power : 60.64775899090506 W\n",
            "[codecarbon INFO @ 05:50:54] 0.076068 kWh of electricity used since the beginning.\n"
          ]
        },
        {
          "output_type": "stream",
          "name": "stdout",
          "text": [
            "\u001b[1m18/45\u001b[0m \u001b[32m━━━━━━━━\u001b[0m\u001b[37m━━━━━━━━━━━━\u001b[0m \u001b[1m8s\u001b[0m 323ms/step - loss: 0.6936 - sparse_categorical_accuracy: 0.4972"
          ]
        },
        {
          "output_type": "stream",
          "name": "stderr",
          "text": [
            "[codecarbon INFO @ 05:50:56] Energy consumed for RAM : 0.006663 kWh. RAM Power : 10.0 W\n",
            "[codecarbon INFO @ 05:50:56] Delta energy consumed for CPU with constant : 0.000177 kWh, power : 42.5 W\n",
            "[codecarbon INFO @ 05:50:56] Energy consumed for All CPU : 0.028319 kWh\n",
            "[codecarbon INFO @ 05:50:56] Energy consumed for all GPUs : 0.042470 kWh. Total GPU Power : 60.221613127071 W\n",
            "[codecarbon INFO @ 05:50:56] 0.077452 kWh of electricity used since the beginning.\n",
            "[codecarbon INFO @ 05:50:56] 0.015449 g.CO2eq/s mean an estimation of 487.18551207070533 kg.CO2eq/year\n"
          ]
        },
        {
          "output_type": "stream",
          "name": "stdout",
          "text": [
            "\u001b[1m45/45\u001b[0m \u001b[32m━━━━━━━━━━━━━━━━━━━━\u001b[0m\u001b[37m\u001b[0m \u001b[1m19s\u001b[0m 355ms/step - loss: 0.6930 - sparse_categorical_accuracy: 0.5078 - val_loss: 0.6930 - val_sparse_categorical_accuracy: 0.5090\n",
            "Epoch 121/150\n"
          ]
        },
        {
          "output_type": "stream",
          "name": "stderr",
          "text": [
            "[codecarbon INFO @ 05:51:09] Energy consumed for RAM : 0.006538 kWh. RAM Power : 10.0 W\n",
            "[codecarbon INFO @ 05:51:09] Delta energy consumed for CPU with constant : 0.000177 kWh, power : 42.5 W\n",
            "[codecarbon INFO @ 05:51:09] Energy consumed for All CPU : 0.027790 kWh\n",
            "[codecarbon INFO @ 05:51:09] Energy consumed for all GPUs : 0.042227 kWh. Total GPU Power : 64.43581610535207 W\n",
            "[codecarbon INFO @ 05:51:09] 0.076556 kWh of electricity used since the beginning.\n"
          ]
        },
        {
          "output_type": "stream",
          "name": "stdout",
          "text": [
            "\r\u001b[1m 1/45\u001b[0m \u001b[37m━━━━━━━━━━━━━━━━━━━━\u001b[0m \u001b[1m3:32\u001b[0m 5s/step - loss: 0.6891 - sparse_categorical_accuracy: 0.5781"
          ]
        },
        {
          "output_type": "stream",
          "name": "stderr",
          "text": [
            "[codecarbon INFO @ 05:51:11] Energy consumed for RAM : 0.006704 kWh. RAM Power : 10.0 W\n",
            "[codecarbon INFO @ 05:51:11] Delta energy consumed for CPU with constant : 0.000177 kWh, power : 42.5 W\n",
            "[codecarbon INFO @ 05:51:11] Energy consumed for All CPU : 0.028496 kWh\n",
            "[codecarbon INFO @ 05:51:11] Energy consumed for all GPUs : 0.042719 kWh. Total GPU Power : 59.77624517796685 W\n",
            "[codecarbon INFO @ 05:51:11] 0.077920 kWh of electricity used since the beginning.\n"
          ]
        },
        {
          "output_type": "stream",
          "name": "stdout",
          "text": [
            "\u001b[1m40/45\u001b[0m \u001b[32m━━━━━━━━━━━━━━━━━\u001b[0m\u001b[37m━━━\u001b[0m \u001b[1m1s\u001b[0m 323ms/step - loss: 0.6927 - sparse_categorical_accuracy: 0.5147"
          ]
        },
        {
          "output_type": "stream",
          "name": "stderr",
          "text": [
            "[codecarbon INFO @ 05:51:24] Energy consumed for RAM : 0.006580 kWh. RAM Power : 10.0 W\n",
            "[codecarbon INFO @ 05:51:24] Delta energy consumed for CPU with constant : 0.000177 kWh, power : 42.5 W\n",
            "[codecarbon INFO @ 05:51:24] Energy consumed for All CPU : 0.027967 kWh\n",
            "[codecarbon INFO @ 05:51:24] Energy consumed for all GPUs : 0.042497 kWh. Total GPU Power : 64.9078054979909 W\n",
            "[codecarbon INFO @ 05:51:24] 0.077045 kWh of electricity used since the beginning.\n"
          ]
        },
        {
          "output_type": "stream",
          "name": "stdout",
          "text": [
            "\u001b[1m45/45\u001b[0m \u001b[32m━━━━━━━━━━━━━━━━━━━━\u001b[0m\u001b[37m\u001b[0m \u001b[1m0s\u001b[0m 323ms/step - loss: 0.6927 - sparse_categorical_accuracy: 0.5144"
          ]
        },
        {
          "output_type": "stream",
          "name": "stderr",
          "text": [
            "[codecarbon INFO @ 05:51:26] Energy consumed for RAM : 0.006746 kWh. RAM Power : 10.0 W\n",
            "[codecarbon INFO @ 05:51:26] Delta energy consumed for CPU with constant : 0.000177 kWh, power : 42.5 W\n",
            "[codecarbon INFO @ 05:51:26] Energy consumed for All CPU : 0.028673 kWh\n",
            "[codecarbon INFO @ 05:51:26] Energy consumed for all GPUs : 0.043009 kWh. Total GPU Power : 69.59439066933467 W\n",
            "[codecarbon INFO @ 05:51:26] 0.078428 kWh of electricity used since the beginning.\n"
          ]
        },
        {
          "output_type": "stream",
          "name": "stdout",
          "text": [
            "\b\b\b\b\b\b\b\b\b\b\b\b\b\b\b\b\b\b\b\b\b\b\b\b\b\b\b\b\b\b\b\b\b\b\b\b\b\b\b\b\b\b\b\b\b\b\b\b\b\b\b\b\b\b\b\b\b\b\b\b\b\b\b\b\b\b\b\b\b\b\b\b\b\b\b\b\b\b\b\b\b\b\b\b\b\b\b\b\b\b\b\b\b\r\u001b[1m45/45\u001b[0m \u001b[32m━━━━━━━━━━━━━━━━━━━━\u001b[0m\u001b[37m\u001b[0m \u001b[1m20s\u001b[0m 353ms/step - loss: 0.6927 - sparse_categorical_accuracy: 0.5144 - val_loss: 0.6930 - val_sparse_categorical_accuracy: 0.5090\n",
            "Epoch 122/150\n",
            "\u001b[1m23/45\u001b[0m \u001b[32m━━━━━━━━━━\u001b[0m\u001b[37m━━━━━━━━━━\u001b[0m \u001b[1m7s\u001b[0m 319ms/step - loss: 0.6932 - sparse_categorical_accuracy: 0.5080"
          ]
        },
        {
          "output_type": "stream",
          "name": "stderr",
          "text": [
            "[codecarbon INFO @ 05:51:39] Energy consumed for RAM : 0.006622 kWh. RAM Power : 10.0 W\n",
            "[codecarbon INFO @ 05:51:39] Delta energy consumed for CPU with constant : 0.000177 kWh, power : 42.5 W\n",
            "[codecarbon INFO @ 05:51:39] Energy consumed for All CPU : 0.028144 kWh\n",
            "[codecarbon INFO @ 05:51:39] Energy consumed for all GPUs : 0.042749 kWh. Total GPU Power : 60.387532559602974 W\n",
            "[codecarbon INFO @ 05:51:39] 0.077515 kWh of electricity used since the beginning.\n"
          ]
        },
        {
          "output_type": "stream",
          "name": "stdout",
          "text": [
            "\u001b[1m31/45\u001b[0m \u001b[32m━━━━━━━━━━━━━\u001b[0m\u001b[37m━━━━━━━\u001b[0m \u001b[1m4s\u001b[0m 319ms/step - loss: 0.6932 - sparse_categorical_accuracy: 0.5066"
          ]
        },
        {
          "output_type": "stream",
          "name": "stderr",
          "text": [
            "[codecarbon INFO @ 05:51:41] Energy consumed for RAM : 0.006788 kWh. RAM Power : 10.0 W\n",
            "[codecarbon INFO @ 05:51:41] Delta energy consumed for CPU with constant : 0.000177 kWh, power : 42.5 W\n",
            "[codecarbon INFO @ 05:51:41] Energy consumed for All CPU : 0.028850 kWh\n",
            "[codecarbon INFO @ 05:51:41] Energy consumed for all GPUs : 0.043261 kWh. Total GPU Power : 60.42729835280789 W\n",
            "[codecarbon INFO @ 05:51:41] 0.078899 kWh of electricity used since the beginning.\n"
          ]
        },
        {
          "output_type": "stream",
          "name": "stdout",
          "text": [
            "\u001b[1m45/45\u001b[0m \u001b[32m━━━━━━━━━━━━━━━━━━━━\u001b[0m\u001b[37m\u001b[0m \u001b[1m20s\u001b[0m 350ms/step - loss: 0.6932 - sparse_categorical_accuracy: 0.5071 - val_loss: 0.6930 - val_sparse_categorical_accuracy: 0.5090\n",
            "Epoch 123/150\n",
            "\u001b[1m21/45\u001b[0m \u001b[32m━━━━━━━━━\u001b[0m\u001b[37m━━━━━━━━━━━\u001b[0m \u001b[1m7s\u001b[0m 319ms/step - loss: 0.6923 - sparse_categorical_accuracy: 0.5202"
          ]
        },
        {
          "output_type": "stream",
          "name": "stderr",
          "text": [
            "[codecarbon INFO @ 05:51:54] Energy consumed for RAM : 0.006663 kWh. RAM Power : 10.0 W\n",
            "[codecarbon INFO @ 05:51:54] Delta energy consumed for CPU with constant : 0.000177 kWh, power : 42.5 W\n",
            "[codecarbon INFO @ 05:51:54] Energy consumed for All CPU : 0.028321 kWh\n",
            "[codecarbon INFO @ 05:51:54] Energy consumed for all GPUs : 0.043039 kWh. Total GPU Power : 69.51488246417642 W\n",
            "[codecarbon INFO @ 05:51:54] 0.078023 kWh of electricity used since the beginning.\n",
            "[codecarbon INFO @ 05:51:54] 0.015350 g.CO2eq/s mean an estimation of 484.0700633912704 kg.CO2eq/year\n"
          ]
        },
        {
          "output_type": "stream",
          "name": "stdout",
          "text": [
            "\u001b[1m28/45\u001b[0m \u001b[32m━━━━━━━━━━━━\u001b[0m\u001b[37m━━━━━━━━\u001b[0m \u001b[1m5s\u001b[0m 320ms/step - loss: 0.6924 - sparse_categorical_accuracy: 0.5177"
          ]
        },
        {
          "output_type": "stream",
          "name": "stderr",
          "text": [
            "[codecarbon INFO @ 05:51:56] Energy consumed for RAM : 0.006829 kWh. RAM Power : 10.0 W\n",
            "[codecarbon INFO @ 05:51:56] Delta energy consumed for CPU with constant : 0.000177 kWh, power : 42.5 W\n",
            "[codecarbon INFO @ 05:51:56] Energy consumed for All CPU : 0.029027 kWh\n",
            "[codecarbon INFO @ 05:51:56] Energy consumed for all GPUs : 0.043550 kWh. Total GPU Power : 69.4889997429211 W\n",
            "[codecarbon INFO @ 05:51:56] 0.079407 kWh of electricity used since the beginning.\n"
          ]
        },
        {
          "output_type": "stream",
          "name": "stdout",
          "text": [
            "\u001b[1m45/45\u001b[0m \u001b[32m━━━━━━━━━━━━━━━━━━━━\u001b[0m\u001b[37m\u001b[0m \u001b[1m17s\u001b[0m 379ms/step - loss: 0.6925 - sparse_categorical_accuracy: 0.5165 - val_loss: 0.6930 - val_sparse_categorical_accuracy: 0.5090\n",
            "Epoch 124/150\n",
            "\u001b[1m15/45\u001b[0m \u001b[32m━━━━━━\u001b[0m\u001b[37m━━━━━━━━━━━━━━\u001b[0m \u001b[1m9s\u001b[0m 320ms/step - loss: 0.6922 - sparse_categorical_accuracy: 0.5272"
          ]
        },
        {
          "output_type": "stream",
          "name": "stderr",
          "text": [
            "[codecarbon INFO @ 05:52:09] Energy consumed for RAM : 0.006705 kWh. RAM Power : 10.0 W\n",
            "[codecarbon INFO @ 05:52:09] Delta energy consumed for CPU with constant : 0.000177 kWh, power : 42.5 W\n",
            "[codecarbon INFO @ 05:52:09] Energy consumed for All CPU : 0.028498 kWh\n",
            "[codecarbon INFO @ 05:52:09] Energy consumed for all GPUs : 0.043320 kWh. Total GPU Power : 67.46611805727805 W\n",
            "[codecarbon INFO @ 05:52:09] 0.078523 kWh of electricity used since the beginning.\n"
          ]
        },
        {
          "output_type": "stream",
          "name": "stdout",
          "text": [
            "\u001b[1m22/45\u001b[0m \u001b[32m━━━━━━━━━\u001b[0m\u001b[37m━━━━━━━━━━━\u001b[0m \u001b[1m7s\u001b[0m 320ms/step - loss: 0.6920 - sparse_categorical_accuracy: 0.5288"
          ]
        },
        {
          "output_type": "stream",
          "name": "stderr",
          "text": [
            "[codecarbon INFO @ 05:52:11] Energy consumed for RAM : 0.006871 kWh. RAM Power : 10.0 W\n",
            "[codecarbon INFO @ 05:52:11] Delta energy consumed for CPU with constant : 0.000177 kWh, power : 42.5 W\n",
            "[codecarbon INFO @ 05:52:11] Energy consumed for All CPU : 0.029204 kWh\n",
            "[codecarbon INFO @ 05:52:11] Energy consumed for all GPUs : 0.043831 kWh. Total GPU Power : 67.48657381462783 W\n",
            "[codecarbon INFO @ 05:52:11] 0.079907 kWh of electricity used since the beginning.\n"
          ]
        },
        {
          "output_type": "stream",
          "name": "stdout",
          "text": [
            "\u001b[1m45/45\u001b[0m \u001b[32m━━━━━━━━━━━━━━━━━━━━\u001b[0m\u001b[37m\u001b[0m \u001b[1m17s\u001b[0m 379ms/step - loss: 0.6922 - sparse_categorical_accuracy: 0.5250 - val_loss: 0.6930 - val_sparse_categorical_accuracy: 0.5090\n",
            "Epoch 125/150\n",
            "\u001b[1m 8/45\u001b[0m \u001b[32m━━━\u001b[0m\u001b[37m━━━━━━━━━━━━━━━━━\u001b[0m \u001b[1m11s\u001b[0m 319ms/step - loss: 0.6901 - sparse_categorical_accuracy: 0.5677"
          ]
        },
        {
          "output_type": "stream",
          "name": "stderr",
          "text": [
            "[codecarbon INFO @ 05:52:24] Energy consumed for RAM : 0.006747 kWh. RAM Power : 10.0 W\n",
            "[codecarbon INFO @ 05:52:24] Delta energy consumed for CPU with constant : 0.000177 kWh, power : 42.5 W\n",
            "[codecarbon INFO @ 05:52:24] Energy consumed for All CPU : 0.028675 kWh\n",
            "[codecarbon INFO @ 05:52:24] Energy consumed for all GPUs : 0.043603 kWh. Total GPU Power : 67.97456386218552 W\n",
            "[codecarbon INFO @ 05:52:24] 0.079025 kWh of electricity used since the beginning.\n"
          ]
        },
        {
          "output_type": "stream",
          "name": "stdout",
          "text": [
            "\u001b[1m16/45\u001b[0m \u001b[32m━━━━━━━\u001b[0m\u001b[37m━━━━━━━━━━━━━\u001b[0m \u001b[1m9s\u001b[0m 319ms/step - loss: 0.6909 - sparse_categorical_accuracy: 0.5503"
          ]
        },
        {
          "output_type": "stream",
          "name": "stderr",
          "text": [
            "[codecarbon INFO @ 05:52:26] Energy consumed for RAM : 0.006913 kWh. RAM Power : 10.0 W\n",
            "[codecarbon INFO @ 05:52:26] Delta energy consumed for CPU with constant : 0.000177 kWh, power : 42.5 W\n",
            "[codecarbon INFO @ 05:52:26] Energy consumed for All CPU : 0.029381 kWh\n",
            "[codecarbon INFO @ 05:52:26] Energy consumed for all GPUs : 0.044114 kWh. Total GPU Power : 67.94721849300217 W\n",
            "[codecarbon INFO @ 05:52:26] 0.080408 kWh of electricity used since the beginning.\n"
          ]
        },
        {
          "output_type": "stream",
          "name": "stdout",
          "text": [
            "\u001b[1m45/45\u001b[0m \u001b[32m━━━━━━━━━━━━━━━━━━━━\u001b[0m\u001b[37m\u001b[0m \u001b[1m16s\u001b[0m 351ms/step - loss: 0.6917 - sparse_categorical_accuracy: 0.5342 - val_loss: 0.6930 - val_sparse_categorical_accuracy: 0.5090\n",
            "Epoch 126/150\n"
          ]
        },
        {
          "output_type": "stream",
          "name": "stderr",
          "text": [
            "[codecarbon INFO @ 05:52:39] Energy consumed for RAM : 0.006788 kWh. RAM Power : 10.0 W\n",
            "[codecarbon INFO @ 05:52:39] Delta energy consumed for CPU with constant : 0.000177 kWh, power : 42.5 W\n",
            "[codecarbon INFO @ 05:52:39] Energy consumed for All CPU : 0.028852 kWh\n",
            "[codecarbon INFO @ 05:52:39] Energy consumed for all GPUs : 0.043877 kWh. Total GPU Power : 65.9533566760018 W\n",
            "[codecarbon INFO @ 05:52:39] 0.079518 kWh of electricity used since the beginning.\n",
            "[codecarbon INFO @ 05:52:41] Energy consumed for RAM : 0.006954 kWh. RAM Power : 10.0 W\n",
            "[codecarbon INFO @ 05:52:41] Delta energy consumed for CPU with constant : 0.000177 kWh, power : 42.5 W\n",
            "[codecarbon INFO @ 05:52:41] Energy consumed for All CPU : 0.029558 kWh\n",
            "[codecarbon INFO @ 05:52:41] Energy consumed for all GPUs : 0.044366 kWh. Total GPU Power : 60.355171331329394 W\n",
            "[codecarbon INFO @ 05:52:41] 0.080879 kWh of electricity used since the beginning.\n"
          ]
        },
        {
          "output_type": "stream",
          "name": "stdout",
          "text": [
            "\u001b[1m38/45\u001b[0m \u001b[32m━━━━━━━━━━━━━━━━\u001b[0m\u001b[37m━━━━\u001b[0m \u001b[1m2s\u001b[0m 316ms/step - loss: 0.6933 - sparse_categorical_accuracy: 0.5072"
          ]
        },
        {
          "output_type": "stream",
          "name": "stderr",
          "text": [
            "[codecarbon INFO @ 05:52:54] Energy consumed for RAM : 0.006830 kWh. RAM Power : 10.0 W\n",
            "[codecarbon INFO @ 05:52:54] Delta energy consumed for CPU with constant : 0.000177 kWh, power : 42.5 W\n",
            "[codecarbon INFO @ 05:52:54] Energy consumed for All CPU : 0.029029 kWh\n",
            "[codecarbon INFO @ 05:52:54] Energy consumed for all GPUs : 0.044140 kWh. Total GPU Power : 62.99581534761938 W\n",
            "[codecarbon INFO @ 05:52:54] 0.079999 kWh of electricity used since the beginning.\n"
          ]
        },
        {
          "output_type": "stream",
          "name": "stdout",
          "text": [
            "\u001b[1m45/45\u001b[0m \u001b[32m━━━━━━━━━━━━━━━━━━━━\u001b[0m\u001b[37m\u001b[0m \u001b[1m0s\u001b[0m 317ms/step - loss: 0.6932 - sparse_categorical_accuracy: 0.5083"
          ]
        },
        {
          "output_type": "stream",
          "name": "stderr",
          "text": [
            "[codecarbon INFO @ 05:52:56] Energy consumed for RAM : 0.006996 kWh. RAM Power : 10.0 W\n",
            "[codecarbon INFO @ 05:52:56] Delta energy consumed for CPU with constant : 0.000177 kWh, power : 42.5 W\n",
            "[codecarbon INFO @ 05:52:56] Energy consumed for All CPU : 0.029735 kWh\n",
            "[codecarbon INFO @ 05:52:56] Energy consumed for all GPUs : 0.044653 kWh. Total GPU Power : 69.00362720271313 W\n",
            "[codecarbon INFO @ 05:52:56] 0.081385 kWh of electricity used since the beginning.\n",
            "[codecarbon INFO @ 05:52:56] 0.015426 g.CO2eq/s mean an estimation of 486.4729105982107 kg.CO2eq/year\n"
          ]
        },
        {
          "output_type": "stream",
          "name": "stdout",
          "text": [
            "\b\b\b\b\b\b\b\b\b\b\b\b\b\b\b\b\b\b\b\b\b\b\b\b\b\b\b\b\b\b\b\b\b\b\b\b\b\b\b\b\b\b\b\b\b\b\b\b\b\b\b\b\b\b\b\b\b\b\b\b\b\b\b\b\b\b\b\b\b\b\b\b\b\b\b\b\b\b\b\b\b\b\b\b\b\b\b\b\b\b\b\b\b\r\u001b[1m45/45\u001b[0m \u001b[32m━━━━━━━━━━━━━━━━━━━━\u001b[0m\u001b[37m\u001b[0m \u001b[1m22s\u001b[0m 376ms/step - loss: 0.6932 - sparse_categorical_accuracy: 0.5085 - val_loss: 0.6930 - val_sparse_categorical_accuracy: 0.5090\n",
            "Epoch 127/150\n",
            "\u001b[1m21/45\u001b[0m \u001b[32m━━━━━━━━━\u001b[0m\u001b[37m━━━━━━━━━━━\u001b[0m \u001b[1m7s\u001b[0m 314ms/step - loss: 0.6928 - sparse_categorical_accuracy: 0.5121"
          ]
        },
        {
          "output_type": "stream",
          "name": "stderr",
          "text": [
            "[codecarbon INFO @ 05:53:09] Energy consumed for RAM : 0.006871 kWh. RAM Power : 10.0 W\n",
            "[codecarbon INFO @ 05:53:09] Delta energy consumed for CPU with constant : 0.000177 kWh, power : 42.5 W\n",
            "[codecarbon INFO @ 05:53:09] Energy consumed for All CPU : 0.029206 kWh\n",
            "[codecarbon INFO @ 05:53:09] Energy consumed for all GPUs : 0.044388 kWh. Total GPU Power : 59.6298055974452 W\n",
            "[codecarbon INFO @ 05:53:09] 0.080466 kWh of electricity used since the beginning.\n"
          ]
        },
        {
          "output_type": "stream",
          "name": "stdout",
          "text": [
            "\u001b[1m29/45\u001b[0m \u001b[32m━━━━━━━━━━━━\u001b[0m\u001b[37m━━━━━━━━\u001b[0m \u001b[1m5s\u001b[0m 315ms/step - loss: 0.6927 - sparse_categorical_accuracy: 0.5139"
          ]
        },
        {
          "output_type": "stream",
          "name": "stderr",
          "text": [
            "[codecarbon INFO @ 05:53:11] Energy consumed for RAM : 0.007038 kWh. RAM Power : 10.0 W\n",
            "[codecarbon INFO @ 05:53:11] Delta energy consumed for CPU with constant : 0.000177 kWh, power : 42.5 W\n",
            "[codecarbon INFO @ 05:53:11] Energy consumed for All CPU : 0.029912 kWh\n",
            "[codecarbon INFO @ 05:53:11] Energy consumed for all GPUs : 0.044900 kWh. Total GPU Power : 59.09455391548243 W\n",
            "[codecarbon INFO @ 05:53:11] 0.081850 kWh of electricity used since the beginning.\n"
          ]
        },
        {
          "output_type": "stream",
          "name": "stdout",
          "text": [
            "\u001b[1m45/45\u001b[0m \u001b[32m━━━━━━━━━━━━━━━━━━━━\u001b[0m\u001b[37m\u001b[0m \u001b[1m20s\u001b[0m 374ms/step - loss: 0.6927 - sparse_categorical_accuracy: 0.5134 - val_loss: 0.6930 - val_sparse_categorical_accuracy: 0.5090\n",
            "Epoch 128/150\n",
            "\u001b[1m 4/45\u001b[0m \u001b[32m━\u001b[0m\u001b[37m━━━━━━━━━━━━━━━━━━━\u001b[0m \u001b[1m12s\u001b[0m 311ms/step - loss: 0.6923 - sparse_categorical_accuracy: 0.5202"
          ]
        },
        {
          "output_type": "stream",
          "name": "stderr",
          "text": [
            "[codecarbon INFO @ 05:53:24] Energy consumed for RAM : 0.006913 kWh. RAM Power : 10.0 W\n",
            "[codecarbon INFO @ 05:53:24] Delta energy consumed for CPU with constant : 0.000177 kWh, power : 42.5 W\n",
            "[codecarbon INFO @ 05:53:24] Energy consumed for All CPU : 0.029383 kWh\n",
            "[codecarbon INFO @ 05:53:24] Energy consumed for all GPUs : 0.044635 kWh. Total GPU Power : 59.34263814961301 W\n",
            "[codecarbon INFO @ 05:53:24] 0.080932 kWh of electricity used since the beginning.\n"
          ]
        },
        {
          "output_type": "stream",
          "name": "stdout",
          "text": [
            "\u001b[1m12/45\u001b[0m \u001b[32m━━━━━\u001b[0m\u001b[37m━━━━━━━━━━━━━━━\u001b[0m \u001b[1m10s\u001b[0m 312ms/step - loss: 0.6922 - sparse_categorical_accuracy: 0.5241"
          ]
        },
        {
          "output_type": "stream",
          "name": "stderr",
          "text": [
            "[codecarbon INFO @ 05:53:26] Energy consumed for RAM : 0.007079 kWh. RAM Power : 10.0 W\n",
            "[codecarbon INFO @ 05:53:26] Delta energy consumed for CPU with constant : 0.000177 kWh, power : 42.5 W\n",
            "[codecarbon INFO @ 05:53:26] Energy consumed for All CPU : 0.030089 kWh\n",
            "[codecarbon INFO @ 05:53:26] Energy consumed for all GPUs : 0.045147 kWh. Total GPU Power : 59.32932984017307 W\n",
            "[codecarbon INFO @ 05:53:26] 0.082316 kWh of electricity used since the beginning.\n"
          ]
        },
        {
          "output_type": "stream",
          "name": "stdout",
          "text": [
            "\u001b[1m45/45\u001b[0m \u001b[32m━━━━━━━━━━━━━━━━━━━━\u001b[0m\u001b[37m\u001b[0m \u001b[1m0s\u001b[0m 314ms/step - loss: 0.6925 - sparse_categorical_accuracy: 0.5194"
          ]
        },
        {
          "output_type": "stream",
          "name": "stderr",
          "text": [
            "[codecarbon INFO @ 05:53:39] Energy consumed for RAM : 0.006955 kWh. RAM Power : 10.0 W\n",
            "[codecarbon INFO @ 05:53:39] Delta energy consumed for CPU with constant : 0.000177 kWh, power : 42.5 W\n",
            "[codecarbon INFO @ 05:53:39] Energy consumed for All CPU : 0.029560 kWh\n",
            "[codecarbon INFO @ 05:53:39] Energy consumed for all GPUs : 0.044918 kWh. Total GPU Power : 67.88747773399943 W\n",
            "[codecarbon INFO @ 05:53:39] 0.081433 kWh of electricity used since the beginning.\n"
          ]
        },
        {
          "output_type": "stream",
          "name": "stdout",
          "text": [
            "\b\b\b\b\b\b\b\b\b\b\b\b\b\b\b\b\b\b\b\b\b\b\b\b\b\b\b\b\b\b\b\b\b\b\b\b\b\b\b\b\b\b\b\b\b\b\b\b\b\b\b\b\b\b\b\b\b\b\b\b\b\b\b\b\b\b\b\b\b\b\b\b\b\b\b\b\b\b\b\b\b\b\b\b\b\b\b\b\b\b\b\b\b\r\u001b[1m45/45\u001b[0m \u001b[32m━━━━━━━━━━━━━━━━━━━━\u001b[0m\u001b[37m\u001b[0m \u001b[1m20s\u001b[0m 372ms/step - loss: 0.6925 - sparse_categorical_accuracy: 0.5193 - val_loss: 0.6930 - val_sparse_categorical_accuracy: 0.5090\n",
            "Epoch 129/150\n"
          ]
        },
        {
          "output_type": "stream",
          "name": "stderr",
          "text": [
            "[codecarbon INFO @ 05:53:41] Energy consumed for RAM : 0.007121 kWh. RAM Power : 10.0 W\n",
            "[codecarbon INFO @ 05:53:41] Delta energy consumed for CPU with constant : 0.000177 kWh, power : 42.5 W\n",
            "[codecarbon INFO @ 05:53:41] Energy consumed for All CPU : 0.030266 kWh\n",
            "[codecarbon INFO @ 05:53:41] Energy consumed for all GPUs : 0.045410 kWh. Total GPU Power : 63.22668803824623 W\n",
            "[codecarbon INFO @ 05:53:41] 0.082797 kWh of electricity used since the beginning.\n"
          ]
        },
        {
          "output_type": "stream",
          "name": "stdout",
          "text": [
            "\u001b[1m34/45\u001b[0m \u001b[32m━━━━━━━━━━━━━━━\u001b[0m\u001b[37m━━━━━\u001b[0m \u001b[1m3s\u001b[0m 314ms/step - loss: 0.6937 - sparse_categorical_accuracy: 0.4974"
          ]
        },
        {
          "output_type": "stream",
          "name": "stderr",
          "text": [
            "[codecarbon INFO @ 05:53:54] Energy consumed for RAM : 0.006996 kWh. RAM Power : 10.0 W\n",
            "[codecarbon INFO @ 05:53:54] Delta energy consumed for CPU with constant : 0.000177 kWh, power : 42.5 W\n",
            "[codecarbon INFO @ 05:53:54] Energy consumed for All CPU : 0.029737 kWh\n",
            "[codecarbon INFO @ 05:53:54] Energy consumed for all GPUs : 0.045169 kWh. Total GPU Power : 60.24980438884599 W\n",
            "[codecarbon INFO @ 05:53:54] 0.081903 kWh of electricity used since the beginning.\n",
            "[codecarbon INFO @ 05:53:54] 0.015220 g.CO2eq/s mean an estimation of 479.97195221612327 kg.CO2eq/year\n"
          ]
        },
        {
          "output_type": "stream",
          "name": "stdout",
          "text": [
            "\u001b[1m42/45\u001b[0m \u001b[32m━━━━━━━━━━━━━━━━━━\u001b[0m\u001b[37m━━\u001b[0m \u001b[1m0s\u001b[0m 314ms/step - loss: 0.6936 - sparse_categorical_accuracy: 0.4999"
          ]
        },
        {
          "output_type": "stream",
          "name": "stderr",
          "text": [
            "[codecarbon INFO @ 05:53:56] Energy consumed for RAM : 0.007163 kWh. RAM Power : 10.0 W\n",
            "[codecarbon INFO @ 05:53:56] Delta energy consumed for CPU with constant : 0.000177 kWh, power : 42.5 W\n",
            "[codecarbon INFO @ 05:53:56] Energy consumed for All CPU : 0.030443 kWh\n",
            "[codecarbon INFO @ 05:53:56] Energy consumed for all GPUs : 0.045683 kWh. Total GPU Power : 65.47071899182049 W\n",
            "[codecarbon INFO @ 05:53:56] 0.083289 kWh of electricity used since the beginning.\n"
          ]
        },
        {
          "output_type": "stream",
          "name": "stdout",
          "text": [
            "\u001b[1m45/45\u001b[0m \u001b[32m━━━━━━━━━━━━━━━━━━━━\u001b[0m\u001b[37m\u001b[0m \u001b[1m20s\u001b[0m 372ms/step - loss: 0.6935 - sparse_categorical_accuracy: 0.5011 - val_loss: 0.6930 - val_sparse_categorical_accuracy: 0.5090\n",
            "Epoch 130/150\n",
            "\u001b[1m17/45\u001b[0m \u001b[32m━━━━━━━\u001b[0m\u001b[37m━━━━━━━━━━━━━\u001b[0m \u001b[1m8s\u001b[0m 312ms/step - loss: 0.6927 - sparse_categorical_accuracy: 0.5154"
          ]
        },
        {
          "output_type": "stream",
          "name": "stderr",
          "text": [
            "[codecarbon INFO @ 05:54:09] Energy consumed for RAM : 0.007038 kWh. RAM Power : 10.0 W\n",
            "[codecarbon INFO @ 05:54:09] Delta energy consumed for CPU with constant : 0.000177 kWh, power : 42.5 W\n",
            "[codecarbon INFO @ 05:54:09] Energy consumed for All CPU : 0.029914 kWh\n",
            "[codecarbon INFO @ 05:54:09] Energy consumed for all GPUs : 0.045415 kWh. Total GPU Power : 58.96019843639602 W\n",
            "[codecarbon INFO @ 05:54:09] 0.082367 kWh of electricity used since the beginning.\n"
          ]
        },
        {
          "output_type": "stream",
          "name": "stdout",
          "text": [
            "\u001b[1m25/45\u001b[0m \u001b[32m━━━━━━━━━━━\u001b[0m\u001b[37m━━━━━━━━━\u001b[0m \u001b[1m6s\u001b[0m 312ms/step - loss: 0.6926 - sparse_categorical_accuracy: 0.5169"
          ]
        },
        {
          "output_type": "stream",
          "name": "stderr",
          "text": [
            "[codecarbon INFO @ 05:54:11] Energy consumed for RAM : 0.007204 kWh. RAM Power : 10.0 W\n",
            "[codecarbon INFO @ 05:54:11] Delta energy consumed for CPU with constant : 0.000177 kWh, power : 42.5 W\n",
            "[codecarbon INFO @ 05:54:11] Energy consumed for All CPU : 0.030620 kWh\n",
            "[codecarbon INFO @ 05:54:11] Energy consumed for all GPUs : 0.045926 kWh. Total GPU Power : 58.451566448959014 W\n",
            "[codecarbon INFO @ 05:54:11] 0.083751 kWh of electricity used since the beginning.\n"
          ]
        },
        {
          "output_type": "stream",
          "name": "stdout",
          "text": [
            "\u001b[1m45/45\u001b[0m \u001b[32m━━━━━━━━━━━━━━━━━━━━\u001b[0m\u001b[37m\u001b[0m \u001b[1m20s\u001b[0m 371ms/step - loss: 0.6927 - sparse_categorical_accuracy: 0.5151 - val_loss: 0.6930 - val_sparse_categorical_accuracy: 0.5090\n",
            "Epoch 131/150\n",
            "\u001b[1m12/45\u001b[0m \u001b[32m━━━━━\u001b[0m\u001b[37m━━━━━━━━━━━━━━━\u001b[0m \u001b[1m10s\u001b[0m 312ms/step - loss: 0.6940 - sparse_categorical_accuracy: 0.4924"
          ]
        },
        {
          "output_type": "stream",
          "name": "stderr",
          "text": [
            "[codecarbon INFO @ 05:54:24] Energy consumed for RAM : 0.007080 kWh. RAM Power : 10.0 W\n",
            "[codecarbon INFO @ 05:54:24] Delta energy consumed for CPU with constant : 0.000177 kWh, power : 42.5 W\n",
            "[codecarbon INFO @ 05:54:24] Energy consumed for All CPU : 0.030091 kWh\n",
            "[codecarbon INFO @ 05:54:24] Energy consumed for all GPUs : 0.045697 kWh. Total GPU Power : 67.74567903386142 W\n",
            "[codecarbon INFO @ 05:54:24] 0.082868 kWh of electricity used since the beginning.\n"
          ]
        },
        {
          "output_type": "stream",
          "name": "stdout",
          "text": [
            "\u001b[1m19/45\u001b[0m \u001b[32m━━━━━━━━\u001b[0m\u001b[37m━━━━━━━━━━━━\u001b[0m \u001b[1m8s\u001b[0m 312ms/step - loss: 0.6938 - sparse_categorical_accuracy: 0.4968"
          ]
        },
        {
          "output_type": "stream",
          "name": "stderr",
          "text": [
            "[codecarbon INFO @ 05:54:26] Energy consumed for RAM : 0.007246 kWh. RAM Power : 10.0 W\n",
            "[codecarbon INFO @ 05:54:26] Delta energy consumed for CPU with constant : 0.000177 kWh, power : 42.5 W\n",
            "[codecarbon INFO @ 05:54:26] Energy consumed for All CPU : 0.030797 kWh\n",
            "[codecarbon INFO @ 05:54:26] Energy consumed for all GPUs : 0.046208 kWh. Total GPU Power : 67.76475935266018 W\n",
            "[codecarbon INFO @ 05:54:26] 0.084252 kWh of electricity used since the beginning.\n"
          ]
        },
        {
          "output_type": "stream",
          "name": "stdout",
          "text": [
            "\u001b[1m45/45\u001b[0m \u001b[32m━━━━━━━━━━━━━━━━━━━━\u001b[0m\u001b[37m\u001b[0m \u001b[1m15s\u001b[0m 343ms/step - loss: 0.6934 - sparse_categorical_accuracy: 0.5030 - val_loss: 0.6930 - val_sparse_categorical_accuracy: 0.5090\n",
            "Epoch 132/150\n"
          ]
        },
        {
          "output_type": "stream",
          "name": "stderr",
          "text": [
            "[codecarbon INFO @ 05:54:39] Energy consumed for RAM : 0.007121 kWh. RAM Power : 10.0 W\n",
            "[codecarbon INFO @ 05:54:39] Delta energy consumed for CPU with constant : 0.000177 kWh, power : 42.5 W\n",
            "[codecarbon INFO @ 05:54:39] Energy consumed for All CPU : 0.030268 kWh\n",
            "[codecarbon INFO @ 05:54:39] Energy consumed for all GPUs : 0.045958 kWh. Total GPU Power : 62.666748316679175 W\n",
            "[codecarbon INFO @ 05:54:39] 0.083348 kWh of electricity used since the beginning.\n"
          ]
        },
        {
          "output_type": "stream",
          "name": "stdout",
          "text": [
            "\u001b[1m 2/45\u001b[0m \u001b[37m━━━━━━━━━━━━━━━━━━━━\u001b[0m \u001b[1m13s\u001b[0m 304ms/step - loss: 0.6931 - sparse_categorical_accuracy: 0.5156"
          ]
        },
        {
          "output_type": "stream",
          "name": "stderr",
          "text": [
            "[codecarbon INFO @ 05:54:41] Energy consumed for RAM : 0.007287 kWh. RAM Power : 10.0 W\n",
            "[codecarbon INFO @ 05:54:41] Delta energy consumed for CPU with constant : 0.000177 kWh, power : 42.5 W\n",
            "[codecarbon INFO @ 05:54:41] Energy consumed for All CPU : 0.030974 kWh\n",
            "[codecarbon INFO @ 05:54:41] Energy consumed for all GPUs : 0.046452 kWh. Total GPU Power : 58.41343221618412 W\n",
            "[codecarbon INFO @ 05:54:41] 0.084713 kWh of electricity used since the beginning.\n"
          ]
        },
        {
          "output_type": "stream",
          "name": "stdout",
          "text": [
            "\u001b[1m42/45\u001b[0m \u001b[32m━━━━━━━━━━━━━━━━━━\u001b[0m\u001b[37m━━\u001b[0m \u001b[1m0s\u001b[0m 311ms/step - loss: 0.6929 - sparse_categorical_accuracy: 0.5133"
          ]
        },
        {
          "output_type": "stream",
          "name": "stderr",
          "text": [
            "[codecarbon INFO @ 05:54:54] Energy consumed for RAM : 0.007163 kWh. RAM Power : 10.0 W\n",
            "[codecarbon INFO @ 05:54:54] Delta energy consumed for CPU with constant : 0.000177 kWh, power : 42.5 W\n",
            "[codecarbon INFO @ 05:54:54] Energy consumed for All CPU : 0.030445 kWh\n",
            "[codecarbon INFO @ 05:54:54] Energy consumed for all GPUs : 0.046230 kWh. Total GPU Power : 65.32452931548323 W\n",
            "[codecarbon INFO @ 05:54:54] 0.083838 kWh of electricity used since the beginning.\n"
          ]
        },
        {
          "output_type": "stream",
          "name": "stdout",
          "text": [
            "\u001b[1m45/45\u001b[0m \u001b[32m━━━━━━━━━━━━━━━━━━━━\u001b[0m\u001b[37m\u001b[0m \u001b[1m20s\u001b[0m 342ms/step - loss: 0.6928 - sparse_categorical_accuracy: 0.5134 - val_loss: 0.6930 - val_sparse_categorical_accuracy: 0.5090\n",
            "Epoch 133/150\n"
          ]
        },
        {
          "output_type": "stream",
          "name": "stderr",
          "text": [
            "[codecarbon INFO @ 05:54:56] Energy consumed for RAM : 0.007329 kWh. RAM Power : 10.0 W\n",
            "[codecarbon INFO @ 05:54:56] Delta energy consumed for CPU with constant : 0.000177 kWh, power : 42.5 W\n",
            "[codecarbon INFO @ 05:54:56] Energy consumed for All CPU : 0.031151 kWh\n",
            "[codecarbon INFO @ 05:54:56] Energy consumed for all GPUs : 0.046741 kWh. Total GPU Power : 69.46536573930543 W\n",
            "[codecarbon INFO @ 05:54:56] 0.085221 kWh of electricity used since the beginning.\n",
            "[codecarbon INFO @ 05:54:56] 0.015050 g.CO2eq/s mean an estimation of 474.6164675502001 kg.CO2eq/year\n"
          ]
        },
        {
          "output_type": "stream",
          "name": "stdout",
          "text": [
            "\u001b[1m25/45\u001b[0m \u001b[32m━━━━━━━━━━━\u001b[0m\u001b[37m━━━━━━━━━\u001b[0m \u001b[1m6s\u001b[0m 309ms/step - loss: 0.6918 - sparse_categorical_accuracy: 0.5328"
          ]
        },
        {
          "output_type": "stream",
          "name": "stderr",
          "text": [
            "[codecarbon INFO @ 05:55:09] Energy consumed for RAM : 0.007205 kWh. RAM Power : 10.0 W\n",
            "[codecarbon INFO @ 05:55:09] Delta energy consumed for CPU with constant : 0.000177 kWh, power : 42.5 W\n",
            "[codecarbon INFO @ 05:55:09] Energy consumed for All CPU : 0.030622 kWh\n",
            "[codecarbon INFO @ 05:55:09] Energy consumed for all GPUs : 0.046474 kWh. Total GPU Power : 58.62052639241929 W\n",
            "[codecarbon INFO @ 05:55:09] 0.084301 kWh of electricity used since the beginning.\n"
          ]
        },
        {
          "output_type": "stream",
          "name": "stdout",
          "text": [
            "\u001b[1m32/45\u001b[0m \u001b[32m━━━━━━━━━━━━━━\u001b[0m\u001b[37m━━━━━━\u001b[0m \u001b[1m4s\u001b[0m 309ms/step - loss: 0.6919 - sparse_categorical_accuracy: 0.5314"
          ]
        },
        {
          "output_type": "stream",
          "name": "stderr",
          "text": [
            "[codecarbon INFO @ 05:55:11] Energy consumed for RAM : 0.007371 kWh. RAM Power : 10.0 W\n",
            "[codecarbon INFO @ 05:55:11] Delta energy consumed for CPU with constant : 0.000177 kWh, power : 42.5 W\n",
            "[codecarbon INFO @ 05:55:11] Energy consumed for All CPU : 0.031328 kWh\n",
            "[codecarbon INFO @ 05:55:11] Energy consumed for all GPUs : 0.046986 kWh. Total GPU Power : 58.76549688517444 W\n",
            "[codecarbon INFO @ 05:55:11] 0.085685 kWh of electricity used since the beginning.\n"
          ]
        },
        {
          "output_type": "stream",
          "name": "stdout",
          "text": [
            "\u001b[1m45/45\u001b[0m \u001b[32m━━━━━━━━━━━━━━━━━━━━\u001b[0m\u001b[37m\u001b[0m \u001b[1m20s\u001b[0m 339ms/step - loss: 0.6921 - sparse_categorical_accuracy: 0.5274 - val_loss: 0.6930 - val_sparse_categorical_accuracy: 0.5090\n",
            "Epoch 134/150\n",
            "\u001b[1m 7/45\u001b[0m \u001b[32m━━━\u001b[0m\u001b[37m━━━━━━━━━━━━━━━━━\u001b[0m \u001b[1m11s\u001b[0m 307ms/step - loss: 0.6930 - sparse_categorical_accuracy: 0.5127"
          ]
        },
        {
          "output_type": "stream",
          "name": "stderr",
          "text": [
            "[codecarbon INFO @ 05:55:24] Energy consumed for RAM : 0.007246 kWh. RAM Power : 10.0 W\n",
            "[codecarbon INFO @ 05:55:24] Delta energy consumed for CPU with constant : 0.000177 kWh, power : 42.5 W\n",
            "[codecarbon INFO @ 05:55:24] Energy consumed for All CPU : 0.030799 kWh\n",
            "[codecarbon INFO @ 05:55:24] Energy consumed for all GPUs : 0.046718 kWh. Total GPU Power : 58.42134250875892 W\n",
            "[codecarbon INFO @ 05:55:24] 0.084763 kWh of electricity used since the beginning.\n"
          ]
        },
        {
          "output_type": "stream",
          "name": "stdout",
          "text": [
            "\u001b[1m15/45\u001b[0m \u001b[32m━━━━━━\u001b[0m\u001b[37m━━━━━━━━━━━━━━\u001b[0m \u001b[1m9s\u001b[0m 308ms/step - loss: 0.6927 - sparse_categorical_accuracy: 0.5170"
          ]
        },
        {
          "output_type": "stream",
          "name": "stderr",
          "text": [
            "[codecarbon INFO @ 05:55:26] Energy consumed for RAM : 0.007412 kWh. RAM Power : 10.0 W\n",
            "[codecarbon INFO @ 05:55:26] Delta energy consumed for CPU with constant : 0.000177 kWh, power : 42.5 W\n",
            "[codecarbon INFO @ 05:55:26] Energy consumed for All CPU : 0.031505 kWh\n",
            "[codecarbon INFO @ 05:55:26] Energy consumed for all GPUs : 0.047229 kWh. Total GPU Power : 58.433902691979284 W\n",
            "[codecarbon INFO @ 05:55:26] 0.086147 kWh of electricity used since the beginning.\n"
          ]
        },
        {
          "output_type": "stream",
          "name": "stdout",
          "text": [
            "\u001b[1m45/45\u001b[0m \u001b[32m━━━━━━━━━━━━━━━━━━━━\u001b[0m\u001b[37m\u001b[0m \u001b[1m20s\u001b[0m 339ms/step - loss: 0.6927 - sparse_categorical_accuracy: 0.5157 - val_loss: 0.6930 - val_sparse_categorical_accuracy: 0.5090\n",
            "Epoch 135/150\n",
            "\u001b[1m 6/45\u001b[0m \u001b[32m━━\u001b[0m\u001b[37m━━━━━━━━━━━━━━━━━━\u001b[0m \u001b[1m12s\u001b[0m 311ms/step - loss: 0.6922 - sparse_categorical_accuracy: 0.5304"
          ]
        },
        {
          "output_type": "stream",
          "name": "stderr",
          "text": [
            "[codecarbon INFO @ 05:55:39] Energy consumed for RAM : 0.007288 kWh. RAM Power : 10.0 W\n",
            "[codecarbon INFO @ 05:55:39] Delta energy consumed for CPU with constant : 0.000177 kWh, power : 42.5 W\n",
            "[codecarbon INFO @ 05:55:39] Energy consumed for All CPU : 0.030976 kWh\n",
            "[codecarbon INFO @ 05:55:39] Energy consumed for all GPUs : 0.047007 kWh. Total GPU Power : 69.47510934459795 W\n",
            "[codecarbon INFO @ 05:55:39] 0.085271 kWh of electricity used since the beginning.\n"
          ]
        },
        {
          "output_type": "stream",
          "name": "stdout",
          "text": [
            "\u001b[1m14/45\u001b[0m \u001b[32m━━━━━━\u001b[0m\u001b[37m━━━━━━━━━━━━━━\u001b[0m \u001b[1m9s\u001b[0m 312ms/step - loss: 0.6933 - sparse_categorical_accuracy: 0.5094"
          ]
        },
        {
          "output_type": "stream",
          "name": "stderr",
          "text": [
            "[codecarbon INFO @ 05:55:41] Energy consumed for RAM : 0.007454 kWh. RAM Power : 10.0 W\n",
            "[codecarbon INFO @ 05:55:41] Delta energy consumed for CPU with constant : 0.000177 kWh, power : 42.5 W\n",
            "[codecarbon INFO @ 05:55:41] Energy consumed for All CPU : 0.031682 kWh\n",
            "[codecarbon INFO @ 05:55:41] Energy consumed for all GPUs : 0.047518 kWh. Total GPU Power : 69.44073662367168 W\n",
            "[codecarbon INFO @ 05:55:41] 0.086655 kWh of electricity used since the beginning.\n"
          ]
        },
        {
          "output_type": "stream",
          "name": "stdout",
          "text": [
            "\u001b[1m45/45\u001b[0m \u001b[32m━━━━━━━━━━━━━━━━━━━━\u001b[0m\u001b[37m\u001b[0m \u001b[1m15s\u001b[0m 342ms/step - loss: 0.6932 - sparse_categorical_accuracy: 0.5076 - val_loss: 0.6930 - val_sparse_categorical_accuracy: 0.5090\n",
            "Epoch 136/150\n"
          ]
        },
        {
          "output_type": "stream",
          "name": "stderr",
          "text": [
            "[codecarbon INFO @ 05:55:54] Energy consumed for RAM : 0.007330 kWh. RAM Power : 10.0 W\n",
            "[codecarbon INFO @ 05:55:54] Delta energy consumed for CPU with constant : 0.000177 kWh, power : 42.5 W\n",
            "[codecarbon INFO @ 05:55:54] Energy consumed for All CPU : 0.031153 kWh\n",
            "[codecarbon INFO @ 05:55:54] Energy consumed for all GPUs : 0.047284 kWh. Total GPU Power : 66.5552867801831 W\n",
            "[codecarbon INFO @ 05:55:54] 0.085767 kWh of electricity used since the beginning.\n",
            "[codecarbon INFO @ 05:55:54] 0.015160 g.CO2eq/s mean an estimation of 478.0984349529764 kg.CO2eq/year\n",
            "[codecarbon INFO @ 05:55:56] Energy consumed for RAM : 0.007496 kWh. RAM Power : 10.0 W\n",
            "[codecarbon INFO @ 05:55:56] Delta energy consumed for CPU with constant : 0.000177 kWh, power : 42.5 W\n",
            "[codecarbon INFO @ 05:55:56] Energy consumed for All CPU : 0.031859 kWh\n",
            "[codecarbon INFO @ 05:55:56] Energy consumed for all GPUs : 0.047774 kWh. Total GPU Power : 61.2264774671612 W\n",
            "[codecarbon INFO @ 05:55:56] 0.087129 kWh of electricity used since the beginning.\n"
          ]
        },
        {
          "output_type": "stream",
          "name": "stdout",
          "text": [
            "\u001b[1m37/45\u001b[0m \u001b[32m━━━━━━━━━━━━━━━━\u001b[0m\u001b[37m━━━━\u001b[0m \u001b[1m2s\u001b[0m 309ms/step - loss: 0.6926 - sparse_categorical_accuracy: 0.5192"
          ]
        },
        {
          "output_type": "stream",
          "name": "stderr",
          "text": [
            "[codecarbon INFO @ 05:56:09] Energy consumed for RAM : 0.007371 kWh. RAM Power : 10.0 W\n",
            "[codecarbon INFO @ 05:56:09] Delta energy consumed for CPU with constant : 0.000177 kWh, power : 42.5 W\n",
            "[codecarbon INFO @ 05:56:09] Energy consumed for All CPU : 0.031331 kWh\n",
            "[codecarbon INFO @ 05:56:09] Energy consumed for all GPUs : 0.047541 kWh. Total GPU Power : 61.54804388758441 W\n",
            "[codecarbon INFO @ 05:56:09] 0.086243 kWh of electricity used since the beginning.\n"
          ]
        },
        {
          "output_type": "stream",
          "name": "stdout",
          "text": [
            "\u001b[1m45/45\u001b[0m \u001b[32m━━━━━━━━━━━━━━━━━━━━\u001b[0m\u001b[37m\u001b[0m \u001b[1m0s\u001b[0m 309ms/step - loss: 0.6926 - sparse_categorical_accuracy: 0.5180"
          ]
        },
        {
          "output_type": "stream",
          "name": "stderr",
          "text": [
            "[codecarbon INFO @ 05:56:11] Energy consumed for RAM : 0.007537 kWh. RAM Power : 10.0 W\n",
            "[codecarbon INFO @ 05:56:11] Delta energy consumed for CPU with constant : 0.000177 kWh, power : 42.5 W\n",
            "[codecarbon INFO @ 05:56:11] Energy consumed for All CPU : 0.032036 kWh\n",
            "[codecarbon INFO @ 05:56:11] Energy consumed for all GPUs : 0.048052 kWh. Total GPU Power : 66.892903886666 W\n",
            "[codecarbon INFO @ 05:56:11] 0.087626 kWh of electricity used since the beginning.\n"
          ]
        },
        {
          "output_type": "stream",
          "name": "stdout",
          "text": [
            "\b\b\b\b\b\b\b\b\b\b\b\b\b\b\b\b\b\b\b\b\b\b\b\b\b\b\b\b\b\b\b\b\b\b\b\b\b\b\b\b\b\b\b\b\b\b\b\b\b\b\b\b\b\b\b\b\b\b\b\b\b\b\b\b\b\b\b\b\b\b\b\b\b\b\b\b\b\b\b\b\b\b\b\b\b\b\b\b\b\b\b\b\b\r\u001b[1m45/45\u001b[0m \u001b[32m━━━━━━━━━━━━━━━━━━━━\u001b[0m\u001b[37m\u001b[0m \u001b[1m22s\u001b[0m 368ms/step - loss: 0.6926 - sparse_categorical_accuracy: 0.5179 - val_loss: 0.6930 - val_sparse_categorical_accuracy: 0.5090\n",
            "Epoch 137/150\n",
            "\u001b[1m19/45\u001b[0m \u001b[32m━━━━━━━━\u001b[0m\u001b[37m━━━━━━━━━━━━\u001b[0m \u001b[1m8s\u001b[0m 308ms/step - loss: 0.6921 - sparse_categorical_accuracy: 0.5235"
          ]
        },
        {
          "output_type": "stream",
          "name": "stderr",
          "text": [
            "[codecarbon INFO @ 05:56:24] Energy consumed for RAM : 0.007413 kWh. RAM Power : 10.0 W\n",
            "[codecarbon INFO @ 05:56:24] Delta energy consumed for CPU with constant : 0.000177 kWh, power : 42.5 W\n",
            "[codecarbon INFO @ 05:56:24] Energy consumed for All CPU : 0.031508 kWh\n",
            "[codecarbon INFO @ 05:56:24] Energy consumed for all GPUs : 0.047784 kWh. Total GPU Power : 58.33829899923638 W\n",
            "[codecarbon INFO @ 05:56:24] 0.086704 kWh of electricity used since the beginning.\n"
          ]
        },
        {
          "output_type": "stream",
          "name": "stdout",
          "text": [
            "\u001b[1m27/45\u001b[0m \u001b[32m━━━━━━━━━━━━\u001b[0m\u001b[37m━━━━━━━━\u001b[0m \u001b[1m5s\u001b[0m 308ms/step - loss: 0.6923 - sparse_categorical_accuracy: 0.5206"
          ]
        },
        {
          "output_type": "stream",
          "name": "stderr",
          "text": [
            "[codecarbon INFO @ 05:56:26] Energy consumed for RAM : 0.007579 kWh. RAM Power : 10.0 W\n",
            "[codecarbon INFO @ 05:56:26] Delta energy consumed for CPU with constant : 0.000177 kWh, power : 42.5 W\n",
            "[codecarbon INFO @ 05:56:26] Energy consumed for All CPU : 0.032213 kWh\n",
            "[codecarbon INFO @ 05:56:26] Energy consumed for all GPUs : 0.048295 kWh. Total GPU Power : 58.35833192636464 W\n",
            "[codecarbon INFO @ 05:56:26] 0.088088 kWh of electricity used since the beginning.\n"
          ]
        },
        {
          "output_type": "stream",
          "name": "stdout",
          "text": [
            "\u001b[1m45/45\u001b[0m \u001b[32m━━━━━━━━━━━━━━━━━━━━\u001b[0m\u001b[37m\u001b[0m \u001b[1m19s\u001b[0m 338ms/step - loss: 0.6926 - sparse_categorical_accuracy: 0.5159 - val_loss: 0.6930 - val_sparse_categorical_accuracy: 0.5090\n",
            "Epoch 138/150\n",
            "\u001b[1m 2/45\u001b[0m \u001b[37m━━━━━━━━━━━━━━━━━━━━\u001b[0m \u001b[1m12s\u001b[0m 298ms/step - loss: 0.6929 - sparse_categorical_accuracy: 0.5117"
          ]
        },
        {
          "output_type": "stream",
          "name": "stderr",
          "text": [
            "[codecarbon INFO @ 05:56:39] Energy consumed for RAM : 0.007455 kWh. RAM Power : 10.0 W\n",
            "[codecarbon INFO @ 05:56:39] Delta energy consumed for CPU with constant : 0.000177 kWh, power : 42.5 W\n",
            "[codecarbon INFO @ 05:56:39] Energy consumed for All CPU : 0.031685 kWh\n",
            "[codecarbon INFO @ 05:56:39] Energy consumed for all GPUs : 0.048024 kWh. Total GPU Power : 57.70388813906573 W\n",
            "[codecarbon INFO @ 05:56:39] 0.087163 kWh of electricity used since the beginning.\n"
          ]
        },
        {
          "output_type": "stream",
          "name": "stdout",
          "text": [
            "\u001b[1m 9/45\u001b[0m \u001b[32m━━━━\u001b[0m\u001b[37m━━━━━━━━━━━━━━━━\u001b[0m \u001b[1m11s\u001b[0m 306ms/step - loss: 0.6927 - sparse_categorical_accuracy: 0.5143"
          ]
        },
        {
          "output_type": "stream",
          "name": "stderr",
          "text": [
            "[codecarbon INFO @ 05:56:41] Energy consumed for RAM : 0.007621 kWh. RAM Power : 10.0 W\n",
            "[codecarbon INFO @ 05:56:41] Delta energy consumed for CPU with constant : 0.000177 kWh, power : 42.5 W\n",
            "[codecarbon INFO @ 05:56:41] Energy consumed for All CPU : 0.032390 kWh\n",
            "[codecarbon INFO @ 05:56:41] Energy consumed for all GPUs : 0.048538 kWh. Total GPU Power : 58.211798191350944 W\n",
            "[codecarbon INFO @ 05:56:41] 0.088549 kWh of electricity used since the beginning.\n"
          ]
        },
        {
          "output_type": "stream",
          "name": "stdout",
          "text": [
            "\u001b[1m45/45\u001b[0m \u001b[32m━━━━━━━━━━━━━━━━━━━━\u001b[0m\u001b[37m\u001b[0m \u001b[1m20s\u001b[0m 339ms/step - loss: 0.6929 - sparse_categorical_accuracy: 0.5098 - val_loss: 0.6930 - val_sparse_categorical_accuracy: 0.5090\n",
            "Epoch 139/150\n"
          ]
        },
        {
          "output_type": "stream",
          "name": "stderr",
          "text": [
            "[codecarbon INFO @ 05:56:54] Energy consumed for RAM : 0.007496 kWh. RAM Power : 10.0 W\n",
            "[codecarbon INFO @ 05:56:54] Delta energy consumed for CPU with constant : 0.000177 kWh, power : 42.5 W\n",
            "[codecarbon INFO @ 05:56:54] Energy consumed for All CPU : 0.031862 kWh\n",
            "[codecarbon INFO @ 05:56:54] Energy consumed for all GPUs : 0.048312 kWh. Total GPU Power : 69.15336721009791 W\n",
            "[codecarbon INFO @ 05:56:54] 0.087670 kWh of electricity used since the beginning.\n",
            "[codecarbon INFO @ 05:56:56] Energy consumed for RAM : 0.007662 kWh. RAM Power : 10.0 W\n",
            "[codecarbon INFO @ 05:56:56] Delta energy consumed for CPU with constant : 0.000177 kWh, power : 42.5 W\n",
            "[codecarbon INFO @ 05:56:56] Energy consumed for All CPU : 0.032567 kWh\n",
            "[codecarbon INFO @ 05:56:56] Energy consumed for all GPUs : 0.048804 kWh. Total GPU Power : 63.96326188191803 W\n",
            "[codecarbon INFO @ 05:56:56] 0.089034 kWh of electricity used since the beginning.\n",
            "[codecarbon INFO @ 05:56:56] 0.014955 g.CO2eq/s mean an estimation of 471.6212809575974 kg.CO2eq/year\n"
          ]
        },
        {
          "output_type": "stream",
          "name": "stdout",
          "text": [
            "\u001b[1m33/45\u001b[0m \u001b[32m━━━━━━━━━━━━━━\u001b[0m\u001b[37m━━━━━━\u001b[0m \u001b[1m3s\u001b[0m 307ms/step - loss: 0.6930 - sparse_categorical_accuracy: 0.5089"
          ]
        },
        {
          "output_type": "stream",
          "name": "stderr",
          "text": [
            "[codecarbon INFO @ 05:57:09] Energy consumed for RAM : 0.007538 kWh. RAM Power : 10.0 W\n",
            "[codecarbon INFO @ 05:57:09] Delta energy consumed for CPU with constant : 0.000177 kWh, power : 42.5 W\n",
            "[codecarbon INFO @ 05:57:09] Energy consumed for All CPU : 0.032039 kWh\n",
            "[codecarbon INFO @ 05:57:09] Energy consumed for all GPUs : 0.048557 kWh. Total GPU Power : 58.73509566237375 W\n",
            "[codecarbon INFO @ 05:57:09] 0.088133 kWh of electricity used since the beginning.\n"
          ]
        },
        {
          "output_type": "stream",
          "name": "stdout",
          "text": [
            "\u001b[1m40/45\u001b[0m \u001b[32m━━━━━━━━━━━━━━━━━\u001b[0m\u001b[37m━━━\u001b[0m \u001b[1m1s\u001b[0m 307ms/step - loss: 0.6931 - sparse_categorical_accuracy: 0.5088"
          ]
        },
        {
          "output_type": "stream",
          "name": "stderr",
          "text": [
            "[codecarbon INFO @ 05:57:11] Energy consumed for RAM : 0.007704 kWh. RAM Power : 10.0 W\n",
            "[codecarbon INFO @ 05:57:11] Delta energy consumed for CPU with constant : 0.000177 kWh, power : 42.5 W\n",
            "[codecarbon INFO @ 05:57:11] Energy consumed for All CPU : 0.032744 kWh\n",
            "[codecarbon INFO @ 05:57:11] Energy consumed for all GPUs : 0.049071 kWh. Total GPU Power : 63.92945570525682 W\n",
            "[codecarbon INFO @ 05:57:11] 0.089519 kWh of electricity used since the beginning.\n"
          ]
        },
        {
          "output_type": "stream",
          "name": "stdout",
          "text": [
            "\u001b[1m45/45\u001b[0m \u001b[32m━━━━━━━━━━━━━━━━━━━━\u001b[0m\u001b[37m\u001b[0m \u001b[1m20s\u001b[0m 337ms/step - loss: 0.6930 - sparse_categorical_accuracy: 0.5092 - val_loss: 0.6930 - val_sparse_categorical_accuracy: 0.5090\n",
            "Epoch 140/150\n",
            "\u001b[1m15/45\u001b[0m \u001b[32m━━━━━━\u001b[0m\u001b[37m━━━━━━━━━━━━━━\u001b[0m \u001b[1m9s\u001b[0m 305ms/step - loss: 0.6936 - sparse_categorical_accuracy: 0.4996"
          ]
        },
        {
          "output_type": "stream",
          "name": "stderr",
          "text": [
            "[codecarbon INFO @ 05:57:24] Energy consumed for RAM : 0.007579 kWh. RAM Power : 10.0 W\n",
            "[codecarbon INFO @ 05:57:24] Delta energy consumed for CPU with constant : 0.000177 kWh, power : 42.5 W\n",
            "[codecarbon INFO @ 05:57:24] Energy consumed for All CPU : 0.032216 kWh\n",
            "[codecarbon INFO @ 05:57:24] Energy consumed for all GPUs : 0.048799 kWh. Total GPU Power : 58.23034236982487 W\n",
            "[codecarbon INFO @ 05:57:24] 0.088595 kWh of electricity used since the beginning.\n"
          ]
        },
        {
          "output_type": "stream",
          "name": "stdout",
          "text": [
            "\u001b[1m23/45\u001b[0m \u001b[32m━━━━━━━━━━\u001b[0m\u001b[37m━━━━━━━━━━\u001b[0m \u001b[1m6s\u001b[0m 306ms/step - loss: 0.6935 - sparse_categorical_accuracy: 0.5009"
          ]
        },
        {
          "output_type": "stream",
          "name": "stderr",
          "text": [
            "[codecarbon INFO @ 05:57:26] Energy consumed for RAM : 0.007746 kWh. RAM Power : 10.0 W\n",
            "[codecarbon INFO @ 05:57:26] Delta energy consumed for CPU with constant : 0.000177 kWh, power : 42.5 W\n",
            "[codecarbon INFO @ 05:57:26] Energy consumed for All CPU : 0.032921 kWh\n",
            "[codecarbon INFO @ 05:57:26] Energy consumed for all GPUs : 0.049311 kWh. Total GPU Power : 57.71388333350121 W\n",
            "[codecarbon INFO @ 05:57:26] 0.089978 kWh of electricity used since the beginning.\n"
          ]
        },
        {
          "output_type": "stream",
          "name": "stdout",
          "text": [
            "\u001b[1m45/45\u001b[0m \u001b[32m━━━━━━━━━━━━━━━━━━━━\u001b[0m\u001b[37m\u001b[0m \u001b[1m22s\u001b[0m 366ms/step - loss: 0.6932 - sparse_categorical_accuracy: 0.5051 - val_loss: 0.6930 - val_sparse_categorical_accuracy: 0.5090\n",
            "Epoch 141/150\n",
            "\u001b[1m10/45\u001b[0m \u001b[32m━━━━\u001b[0m\u001b[37m━━━━━━━━━━━━━━━━\u001b[0m \u001b[1m10s\u001b[0m 311ms/step - loss: 0.6932 - sparse_categorical_accuracy: 0.5043"
          ]
        },
        {
          "output_type": "stream",
          "name": "stderr",
          "text": [
            "[codecarbon INFO @ 05:57:39] Energy consumed for RAM : 0.007621 kWh. RAM Power : 10.0 W\n",
            "[codecarbon INFO @ 05:57:39] Delta energy consumed for CPU with constant : 0.000177 kWh, power : 42.5 W\n",
            "[codecarbon INFO @ 05:57:39] Energy consumed for All CPU : 0.032393 kWh\n",
            "[codecarbon INFO @ 05:57:39] Energy consumed for all GPUs : 0.049080 kWh. Total GPU Power : 67.32759151153991 W\n",
            "[codecarbon INFO @ 05:57:39] 0.089094 kWh of electricity used since the beginning.\n"
          ]
        },
        {
          "output_type": "stream",
          "name": "stdout",
          "text": [
            "\u001b[1m18/45\u001b[0m \u001b[32m━━━━━━━━\u001b[0m\u001b[37m━━━━━━━━━━━━\u001b[0m \u001b[1m8s\u001b[0m 311ms/step - loss: 0.6931 - sparse_categorical_accuracy: 0.5064"
          ]
        },
        {
          "output_type": "stream",
          "name": "stderr",
          "text": [
            "[codecarbon INFO @ 05:57:41] Energy consumed for RAM : 0.007787 kWh. RAM Power : 10.0 W\n",
            "[codecarbon INFO @ 05:57:41] Delta energy consumed for CPU with constant : 0.000177 kWh, power : 42.5 W\n",
            "[codecarbon INFO @ 05:57:41] Energy consumed for All CPU : 0.033098 kWh\n",
            "[codecarbon INFO @ 05:57:41] Energy consumed for all GPUs : 0.049593 kWh. Total GPU Power : 67.81329657336903 W\n",
            "[codecarbon INFO @ 05:57:41] 0.090479 kWh of electricity used since the beginning.\n"
          ]
        },
        {
          "output_type": "stream",
          "name": "stdout",
          "text": [
            "\u001b[1m45/45\u001b[0m \u001b[32m━━━━━━━━━━━━━━━━━━━━\u001b[0m\u001b[37m\u001b[0m \u001b[1m15s\u001b[0m 341ms/step - loss: 0.6930 - sparse_categorical_accuracy: 0.5086 - val_loss: 0.6930 - val_sparse_categorical_accuracy: 0.5090\n",
            "Epoch 142/150\n"
          ]
        },
        {
          "output_type": "stream",
          "name": "stderr",
          "text": [
            "[codecarbon INFO @ 05:57:54] Energy consumed for RAM : 0.007663 kWh. RAM Power : 10.0 W\n",
            "[codecarbon INFO @ 05:57:54] Delta energy consumed for CPU with constant : 0.000177 kWh, power : 42.5 W\n",
            "[codecarbon INFO @ 05:57:54] Energy consumed for All CPU : 0.032570 kWh\n",
            "[codecarbon INFO @ 05:57:54] Energy consumed for all GPUs : 0.049346 kWh. Total GPU Power : 63.863136778529295 W\n",
            "[codecarbon INFO @ 05:57:54] 0.089578 kWh of electricity used since the beginning.\n",
            "[codecarbon INFO @ 05:57:54] 0.014948 g.CO2eq/s mean an estimation of 471.39095395339484 kg.CO2eq/year\n",
            "[codecarbon INFO @ 05:57:56] Energy consumed for RAM : 0.007829 kWh. RAM Power : 10.0 W\n",
            "[codecarbon INFO @ 05:57:56] Delta energy consumed for CPU with constant : 0.000177 kWh, power : 42.5 W\n",
            "[codecarbon INFO @ 05:57:56] Energy consumed for All CPU : 0.033275 kWh\n",
            "[codecarbon INFO @ 05:57:56] Energy consumed for all GPUs : 0.049835 kWh. Total GPU Power : 57.99967922949506 W\n",
            "[codecarbon INFO @ 05:57:56] 0.090939 kWh of electricity used since the beginning.\n"
          ]
        },
        {
          "output_type": "stream",
          "name": "stdout",
          "text": [
            "\u001b[1m41/45\u001b[0m \u001b[32m━━━━━━━━━━━━━━━━━━\u001b[0m\u001b[37m━━\u001b[0m \u001b[1m1s\u001b[0m 310ms/step - loss: 0.6925 - sparse_categorical_accuracy: 0.5163"
          ]
        },
        {
          "output_type": "stream",
          "name": "stderr",
          "text": [
            "[codecarbon INFO @ 05:58:09] Energy consumed for RAM : 0.007704 kWh. RAM Power : 10.0 W\n",
            "[codecarbon INFO @ 05:58:09] Delta energy consumed for CPU with constant : 0.000177 kWh, power : 42.5 W\n",
            "[codecarbon INFO @ 05:58:09] Energy consumed for All CPU : 0.032747 kWh\n",
            "[codecarbon INFO @ 05:58:09] Energy consumed for all GPUs : 0.049613 kWh. Total GPU Power : 64.06904020232227 W\n",
            "[codecarbon INFO @ 05:58:09] 0.090064 kWh of electricity used since the beginning.\n"
          ]
        },
        {
          "output_type": "stream",
          "name": "stdout",
          "text": [
            "\u001b[1m45/45\u001b[0m \u001b[32m━━━━━━━━━━━━━━━━━━━━\u001b[0m\u001b[37m\u001b[0m \u001b[1m0s\u001b[0m 310ms/step - loss: 0.6926 - sparse_categorical_accuracy: 0.5161"
          ]
        },
        {
          "output_type": "stream",
          "name": "stderr",
          "text": [
            "[codecarbon INFO @ 05:58:11] Energy consumed for RAM : 0.007870 kWh. RAM Power : 10.0 W\n",
            "[codecarbon INFO @ 05:58:11] Delta energy consumed for CPU with constant : 0.000177 kWh, power : 42.5 W\n",
            "[codecarbon INFO @ 05:58:11] Energy consumed for All CPU : 0.033452 kWh\n",
            "[codecarbon INFO @ 05:58:11] Energy consumed for all GPUs : 0.050126 kWh. Total GPU Power : 69.99737582256513 W\n",
            "[codecarbon INFO @ 05:58:11] 0.091449 kWh of electricity used since the beginning.\n"
          ]
        },
        {
          "output_type": "stream",
          "name": "stdout",
          "text": [
            "\b\b\b\b\b\b\b\b\b\b\b\b\b\b\b\b\b\b\b\b\b\b\b\b\b\b\b\b\b\b\b\b\b\b\b\b\b\b\b\b\b\b\b\b\b\b\b\b\b\b\b\b\b\b\b\b\b\b\b\b\b\b\b\b\b\b\b\b\b\b\b\b\b\b\b\b\b\b\b\b\b\b\b\b\b\b\b\b\b\b\b\b\b\r\u001b[1m45/45\u001b[0m \u001b[32m━━━━━━━━━━━━━━━━━━━━\u001b[0m\u001b[37m\u001b[0m \u001b[1m20s\u001b[0m 339ms/step - loss: 0.6926 - sparse_categorical_accuracy: 0.5160 - val_loss: 0.6930 - val_sparse_categorical_accuracy: 0.5090\n",
            "Epoch 143/150\n",
            "\u001b[1m23/45\u001b[0m \u001b[32m━━━━━━━━━━\u001b[0m\u001b[37m━━━━━━━━━━\u001b[0m \u001b[1m6s\u001b[0m 307ms/step - loss: 0.6921 - sparse_categorical_accuracy: 0.5270"
          ]
        },
        {
          "output_type": "stream",
          "name": "stderr",
          "text": [
            "[codecarbon INFO @ 05:58:24] Energy consumed for RAM : 0.007746 kWh. RAM Power : 10.0 W\n",
            "[codecarbon INFO @ 05:58:24] Delta energy consumed for CPU with constant : 0.000177 kWh, power : 42.5 W\n",
            "[codecarbon INFO @ 05:58:24] Energy consumed for All CPU : 0.032924 kWh\n",
            "[codecarbon INFO @ 05:58:24] Energy consumed for all GPUs : 0.049853 kWh. Total GPU Power : 57.703398785374034 W\n",
            "[codecarbon INFO @ 05:58:24] 0.090523 kWh of electricity used since the beginning.\n"
          ]
        },
        {
          "output_type": "stream",
          "name": "stdout",
          "text": [
            "\u001b[1m31/45\u001b[0m \u001b[32m━━━━━━━━━━━━━\u001b[0m\u001b[37m━━━━━━━\u001b[0m \u001b[1m4s\u001b[0m 308ms/step - loss: 0.6924 - sparse_categorical_accuracy: 0.5211"
          ]
        },
        {
          "output_type": "stream",
          "name": "stderr",
          "text": [
            "[codecarbon INFO @ 05:58:26] Energy consumed for RAM : 0.007912 kWh. RAM Power : 10.0 W\n",
            "[codecarbon INFO @ 05:58:26] Delta energy consumed for CPU with constant : 0.000177 kWh, power : 42.5 W\n",
            "[codecarbon INFO @ 05:58:26] Energy consumed for All CPU : 0.033629 kWh\n",
            "[codecarbon INFO @ 05:58:26] Energy consumed for all GPUs : 0.050365 kWh. Total GPU Power : 57.2498218041799 W\n",
            "[codecarbon INFO @ 05:58:26] 0.091906 kWh of electricity used since the beginning.\n"
          ]
        },
        {
          "output_type": "stream",
          "name": "stdout",
          "text": [
            "\u001b[1m45/45\u001b[0m \u001b[32m━━━━━━━━━━━━━━━━━━━━\u001b[0m\u001b[37m\u001b[0m \u001b[1m20s\u001b[0m 338ms/step - loss: 0.6926 - sparse_categorical_accuracy: 0.5179 - val_loss: 0.6930 - val_sparse_categorical_accuracy: 0.5090\n",
            "Epoch 144/150\n",
            "\u001b[1m 6/45\u001b[0m \u001b[32m━━\u001b[0m\u001b[37m━━━━━━━━━━━━━━━━━━\u001b[0m \u001b[1m11s\u001b[0m 305ms/step - loss: 0.6913 - sparse_categorical_accuracy: 0.5426"
          ]
        },
        {
          "output_type": "stream",
          "name": "stderr",
          "text": [
            "[codecarbon INFO @ 05:58:39] Energy consumed for RAM : 0.007788 kWh. RAM Power : 10.0 W\n",
            "[codecarbon INFO @ 05:58:39] Delta energy consumed for CPU with constant : 0.000177 kWh, power : 42.5 W\n",
            "[codecarbon INFO @ 05:58:39] Energy consumed for All CPU : 0.033101 kWh\n",
            "[codecarbon INFO @ 05:58:39] Energy consumed for all GPUs : 0.050092 kWh. Total GPU Power : 57.388723087792265 W\n",
            "[codecarbon INFO @ 05:58:39] 0.090981 kWh of electricity used since the beginning.\n"
          ]
        },
        {
          "output_type": "stream",
          "name": "stdout",
          "text": [
            "\u001b[1m13/45\u001b[0m \u001b[32m━━━━━\u001b[0m\u001b[37m━━━━━━━━━━━━━━━\u001b[0m \u001b[1m9s\u001b[0m 305ms/step - loss: 0.6922 - sparse_categorical_accuracy: 0.5239 "
          ]
        },
        {
          "output_type": "stream",
          "name": "stderr",
          "text": [
            "[codecarbon INFO @ 05:58:41] Energy consumed for RAM : 0.007954 kWh. RAM Power : 10.0 W\n",
            "[codecarbon INFO @ 05:58:41] Delta energy consumed for CPU with constant : 0.000177 kWh, power : 42.5 W\n",
            "[codecarbon INFO @ 05:58:41] Energy consumed for All CPU : 0.033806 kWh\n",
            "[codecarbon INFO @ 05:58:41] Energy consumed for all GPUs : 0.050604 kWh. Total GPU Power : 57.31238064750631 W\n",
            "[codecarbon INFO @ 05:58:41] 0.092364 kWh of electricity used since the beginning.\n"
          ]
        },
        {
          "output_type": "stream",
          "name": "stdout",
          "text": [
            "\u001b[1m45/45\u001b[0m \u001b[32m━━━━━━━━━━━━━━━━━━━━\u001b[0m\u001b[37m\u001b[0m \u001b[1m20s\u001b[0m 338ms/step - loss: 0.6927 - sparse_categorical_accuracy: 0.5128 - val_loss: 0.6930 - val_sparse_categorical_accuracy: 0.5090\n",
            "Epoch 145/150\n"
          ]
        },
        {
          "output_type": "stream",
          "name": "stderr",
          "text": [
            "[codecarbon INFO @ 05:58:54] Energy consumed for RAM : 0.007829 kWh. RAM Power : 10.0 W\n",
            "[codecarbon INFO @ 05:58:54] Delta energy consumed for CPU with constant : 0.000177 kWh, power : 42.5 W\n",
            "[codecarbon INFO @ 05:58:54] Energy consumed for All CPU : 0.033278 kWh\n",
            "[codecarbon INFO @ 05:58:54] Energy consumed for all GPUs : 0.050369 kWh. Total GPU Power : 66.54059013329596 W\n",
            "[codecarbon INFO @ 05:58:54] 0.091476 kWh of electricity used since the beginning.\n",
            "[codecarbon INFO @ 05:58:56] Energy consumed for RAM : 0.007995 kWh. RAM Power : 10.0 W\n",
            "[codecarbon INFO @ 05:58:56] Delta energy consumed for CPU with constant : 0.000177 kWh, power : 42.5 W\n",
            "[codecarbon INFO @ 05:58:56] Energy consumed for All CPU : 0.033983 kWh\n",
            "[codecarbon INFO @ 05:58:56] Energy consumed for all GPUs : 0.050859 kWh. Total GPU Power : 61.217104375822906 W\n",
            "[codecarbon INFO @ 05:58:56] 0.092837 kWh of electricity used since the beginning.\n",
            "[codecarbon INFO @ 05:58:56] 0.014921 g.CO2eq/s mean an estimation of 470.53377979684416 kg.CO2eq/year\n"
          ]
        },
        {
          "output_type": "stream",
          "name": "stdout",
          "text": [
            "\u001b[1m37/45\u001b[0m \u001b[32m━━━━━━━━━━━━━━━━\u001b[0m\u001b[37m━━━━\u001b[0m \u001b[1m2s\u001b[0m 307ms/step - loss: 0.6919 - sparse_categorical_accuracy: 0.5290"
          ]
        },
        {
          "output_type": "stream",
          "name": "stderr",
          "text": [
            "[codecarbon INFO @ 05:59:09] Energy consumed for RAM : 0.007871 kWh. RAM Power : 10.0 W\n",
            "[codecarbon INFO @ 05:59:09] Delta energy consumed for CPU with constant : 0.000177 kWh, power : 42.5 W\n",
            "[codecarbon INFO @ 05:59:09] Energy consumed for All CPU : 0.033455 kWh\n",
            "[codecarbon INFO @ 05:59:09] Energy consumed for all GPUs : 0.050624 kWh. Total GPU Power : 61.24439593972059 W\n",
            "[codecarbon INFO @ 05:59:09] 0.091950 kWh of electricity used since the beginning.\n"
          ]
        },
        {
          "output_type": "stream",
          "name": "stdout",
          "text": [
            "\u001b[1m44/45\u001b[0m \u001b[32m━━━━━━━━━━━━━━━━━━━\u001b[0m\u001b[37m━\u001b[0m \u001b[1m0s\u001b[0m 307ms/step - loss: 0.6921 - sparse_categorical_accuracy: 0.5263"
          ]
        },
        {
          "output_type": "stream",
          "name": "stderr",
          "text": [
            "[codecarbon INFO @ 05:59:11] Energy consumed for RAM : 0.008037 kWh. RAM Power : 10.0 W\n",
            "[codecarbon INFO @ 05:59:11] Delta energy consumed for CPU with constant : 0.000177 kWh, power : 42.5 W\n",
            "[codecarbon INFO @ 05:59:11] Energy consumed for All CPU : 0.034160 kWh\n",
            "[codecarbon INFO @ 05:59:11] Energy consumed for all GPUs : 0.051136 kWh. Total GPU Power : 66.54583100864905 W\n",
            "[codecarbon INFO @ 05:59:11] 0.093333 kWh of electricity used since the beginning.\n"
          ]
        },
        {
          "output_type": "stream",
          "name": "stdout",
          "text": [
            "\u001b[1m45/45\u001b[0m \u001b[32m━━━━━━━━━━━━━━━━━━━━\u001b[0m\u001b[37m\u001b[0m \u001b[1m20s\u001b[0m 337ms/step - loss: 0.6921 - sparse_categorical_accuracy: 0.5258 - val_loss: 0.6930 - val_sparse_categorical_accuracy: 0.5090\n",
            "Epoch 146/150\n",
            "\u001b[1m19/45\u001b[0m \u001b[32m━━━━━━━━\u001b[0m\u001b[37m━━━━━━━━━━━━\u001b[0m \u001b[1m7s\u001b[0m 306ms/step - loss: 0.6933 - sparse_categorical_accuracy: 0.5074"
          ]
        },
        {
          "output_type": "stream",
          "name": "stderr",
          "text": [
            "[codecarbon INFO @ 05:59:24] Energy consumed for RAM : 0.007913 kWh. RAM Power : 10.0 W\n",
            "[codecarbon INFO @ 05:59:24] Delta energy consumed for CPU with constant : 0.000177 kWh, power : 42.5 W\n",
            "[codecarbon INFO @ 05:59:24] Energy consumed for All CPU : 0.033632 kWh\n",
            "[codecarbon INFO @ 05:59:24] Energy consumed for all GPUs : 0.050865 kWh. Total GPU Power : 57.67793079698392 W\n",
            "[codecarbon INFO @ 05:59:24] 0.092409 kWh of electricity used since the beginning.\n"
          ]
        },
        {
          "output_type": "stream",
          "name": "stdout",
          "text": [
            "\u001b[1m27/45\u001b[0m \u001b[32m━━━━━━━━━━━━\u001b[0m\u001b[37m━━━━━━━━\u001b[0m \u001b[1m5s\u001b[0m 307ms/step - loss: 0.6931 - sparse_categorical_accuracy: 0.5104"
          ]
        },
        {
          "output_type": "stream",
          "name": "stderr",
          "text": [
            "[codecarbon INFO @ 05:59:26] Energy consumed for RAM : 0.008079 kWh. RAM Power : 10.0 W\n",
            "[codecarbon INFO @ 05:59:26] Delta energy consumed for CPU with constant : 0.000177 kWh, power : 42.5 W\n",
            "[codecarbon INFO @ 05:59:26] Energy consumed for All CPU : 0.034337 kWh\n",
            "[codecarbon INFO @ 05:59:26] Energy consumed for all GPUs : 0.051378 kWh. Total GPU Power : 58.140167015096615 W\n",
            "[codecarbon INFO @ 05:59:26] 0.093794 kWh of electricity used since the beginning.\n"
          ]
        },
        {
          "output_type": "stream",
          "name": "stdout",
          "text": [
            "\u001b[1m45/45\u001b[0m \u001b[32m━━━━━━━━━━━━━━━━━━━━\u001b[0m\u001b[37m\u001b[0m \u001b[1m20s\u001b[0m 337ms/step - loss: 0.6930 - sparse_categorical_accuracy: 0.5118 - val_loss: 0.6930 - val_sparse_categorical_accuracy: 0.5090\n",
            "Epoch 147/150\n",
            "\u001b[1m18/45\u001b[0m \u001b[32m━━━━━━━━\u001b[0m\u001b[37m━━━━━━━━━━━━\u001b[0m \u001b[1m8s\u001b[0m 311ms/step - loss: 0.6929 - sparse_categorical_accuracy: 0.5105"
          ]
        },
        {
          "output_type": "stream",
          "name": "stderr",
          "text": [
            "[codecarbon INFO @ 05:59:39] Energy consumed for RAM : 0.007954 kWh. RAM Power : 10.0 W\n",
            "[codecarbon INFO @ 05:59:39] Delta energy consumed for CPU with constant : 0.000177 kWh, power : 42.5 W\n",
            "[codecarbon INFO @ 05:59:39] Energy consumed for All CPU : 0.033809 kWh\n",
            "[codecarbon INFO @ 05:59:39] Energy consumed for all GPUs : 0.051154 kWh. Total GPU Power : 69.47725741854208 W\n",
            "[codecarbon INFO @ 05:59:39] 0.092917 kWh of electricity used since the beginning.\n"
          ]
        },
        {
          "output_type": "stream",
          "name": "stdout",
          "text": [
            "\u001b[1m26/45\u001b[0m \u001b[32m━━━━━━━━━━━\u001b[0m\u001b[37m━━━━━━━━━\u001b[0m \u001b[1m5s\u001b[0m 311ms/step - loss: 0.6929 - sparse_categorical_accuracy: 0.5120"
          ]
        },
        {
          "output_type": "stream",
          "name": "stderr",
          "text": [
            "[codecarbon INFO @ 05:59:41] Energy consumed for RAM : 0.008120 kWh. RAM Power : 10.0 W\n",
            "[codecarbon INFO @ 05:59:41] Delta energy consumed for CPU with constant : 0.000177 kWh, power : 42.5 W\n",
            "[codecarbon INFO @ 05:59:41] Energy consumed for All CPU : 0.034514 kWh\n",
            "[codecarbon INFO @ 05:59:41] Energy consumed for all GPUs : 0.051667 kWh. Total GPU Power : 69.5138889377681 W\n",
            "[codecarbon INFO @ 05:59:41] 0.094302 kWh of electricity used since the beginning.\n"
          ]
        },
        {
          "output_type": "stream",
          "name": "stdout",
          "text": [
            "\u001b[1m45/45\u001b[0m \u001b[32m━━━━━━━━━━━━━━━━━━━━\u001b[0m\u001b[37m\u001b[0m \u001b[1m15s\u001b[0m 341ms/step - loss: 0.6929 - sparse_categorical_accuracy: 0.5119 - val_loss: 0.6930 - val_sparse_categorical_accuracy: 0.5090\n",
            "Epoch 148/150\n"
          ]
        },
        {
          "output_type": "stream",
          "name": "stderr",
          "text": [
            "[codecarbon INFO @ 05:59:54] Energy consumed for RAM : 0.007996 kWh. RAM Power : 10.0 W\n",
            "[codecarbon INFO @ 05:59:54] Delta energy consumed for CPU with constant : 0.000177 kWh, power : 42.5 W\n",
            "[codecarbon INFO @ 05:59:54] Energy consumed for All CPU : 0.033986 kWh\n",
            "[codecarbon INFO @ 05:59:54] Energy consumed for all GPUs : 0.051397 kWh. Total GPU Power : 58.40834648808088 W\n",
            "[codecarbon INFO @ 05:59:54] 0.093379 kWh of electricity used since the beginning.\n",
            "[codecarbon INFO @ 05:59:54] 0.014911 g.CO2eq/s mean an estimation of 470.21885633621656 kg.CO2eq/year\n"
          ]
        },
        {
          "output_type": "stream",
          "name": "stdout",
          "text": [
            "\u001b[1m 8/45\u001b[0m \u001b[32m━━━\u001b[0m\u001b[37m━━━━━━━━━━━━━━━━━\u001b[0m \u001b[1m11s\u001b[0m 307ms/step - loss: 0.6930 - sparse_categorical_accuracy: 0.5103"
          ]
        },
        {
          "output_type": "stream",
          "name": "stderr",
          "text": [
            "[codecarbon INFO @ 05:59:56] Energy consumed for RAM : 0.008162 kWh. RAM Power : 10.0 W\n",
            "[codecarbon INFO @ 05:59:56] Delta energy consumed for CPU with constant : 0.000177 kWh, power : 42.5 W\n",
            "[codecarbon INFO @ 05:59:56] Energy consumed for All CPU : 0.034691 kWh\n",
            "[codecarbon INFO @ 05:59:56] Energy consumed for all GPUs : 0.051911 kWh. Total GPU Power : 58.49545001099673 W\n",
            "[codecarbon INFO @ 05:59:56] 0.094764 kWh of electricity used since the beginning.\n"
          ]
        },
        {
          "output_type": "stream",
          "name": "stdout",
          "text": [
            "\u001b[1m45/45\u001b[0m \u001b[32m━━━━━━━━━━━━━━━━━━━━\u001b[0m\u001b[37m\u001b[0m \u001b[1m20s\u001b[0m 339ms/step - loss: 0.6929 - sparse_categorical_accuracy: 0.5121 - val_loss: 0.6930 - val_sparse_categorical_accuracy: 0.5090\n",
            "Epoch 149/150\n"
          ]
        },
        {
          "output_type": "stream",
          "name": "stderr",
          "text": [
            "[codecarbon INFO @ 06:00:09] Energy consumed for RAM : 0.008038 kWh. RAM Power : 10.0 W\n",
            "[codecarbon INFO @ 06:00:09] Delta energy consumed for CPU with constant : 0.000177 kWh, power : 42.5 W\n",
            "[codecarbon INFO @ 06:00:09] Energy consumed for All CPU : 0.034163 kWh\n",
            "[codecarbon INFO @ 06:00:09] Energy consumed for all GPUs : 0.051687 kWh. Total GPU Power : 69.55825583855102 W\n",
            "[codecarbon INFO @ 06:00:09] 0.093888 kWh of electricity used since the beginning.\n"
          ]
        },
        {
          "output_type": "stream",
          "name": "stdout",
          "text": [
            "\u001b[1m 7/45\u001b[0m \u001b[32m━━━\u001b[0m\u001b[37m━━━━━━━━━━━━━━━━━\u001b[0m \u001b[1m11s\u001b[0m 311ms/step - loss: 0.6935 - sparse_categorical_accuracy: 0.5058"
          ]
        },
        {
          "output_type": "stream",
          "name": "stderr",
          "text": [
            "[codecarbon INFO @ 06:00:11] Energy consumed for RAM : 0.008204 kWh. RAM Power : 10.0 W\n",
            "[codecarbon INFO @ 06:00:11] Delta energy consumed for CPU with constant : 0.000177 kWh, power : 42.5 W\n",
            "[codecarbon INFO @ 06:00:11] Energy consumed for All CPU : 0.034868 kWh\n",
            "[codecarbon INFO @ 06:00:11] Energy consumed for all GPUs : 0.052201 kWh. Total GPU Power : 69.4844865982527 W\n",
            "[codecarbon INFO @ 06:00:11] 0.095272 kWh of electricity used since the beginning.\n"
          ]
        },
        {
          "output_type": "stream",
          "name": "stdout",
          "text": [
            "\u001b[1m45/45\u001b[0m \u001b[32m━━━━━━━━━━━━━━━━━━━━\u001b[0m\u001b[37m\u001b[0m \u001b[1m0s\u001b[0m 312ms/step - loss: 0.6927 - sparse_categorical_accuracy: 0.5162"
          ]
        },
        {
          "output_type": "stream",
          "name": "stderr",
          "text": [
            "[codecarbon INFO @ 06:00:24] Energy consumed for RAM : 0.008079 kWh. RAM Power : 10.0 W\n",
            "[codecarbon INFO @ 06:00:24] Delta energy consumed for CPU with constant : 0.000177 kWh, power : 42.5 W\n",
            "[codecarbon INFO @ 06:00:24] Energy consumed for All CPU : 0.034340 kWh\n",
            "[codecarbon INFO @ 06:00:24] Energy consumed for all GPUs : 0.051979 kWh. Total GPU Power : 69.95280304629208 W\n",
            "[codecarbon INFO @ 06:00:24] 0.094397 kWh of electricity used since the beginning.\n"
          ]
        },
        {
          "output_type": "stream",
          "name": "stdout",
          "text": [
            "\b\b\b\b\b\b\b\b\b\b\b\b\b\b\b\b\b\b\b\b\b\b\b\b\b\b\b\b\b\b\b\b\b\b\b\b\b\b\b\b\b\b\b\b\b\b\b\b\b\b\b\b\b\b\b\b\b\b\b\b\b\b\b\b\b\b\b\b\b\b\b\b\b\b\b\b\b\b\b\b\b\b\b\b\b\b\b\b\b\b\b\b\b\r\u001b[1m45/45\u001b[0m \u001b[32m━━━━━━━━━━━━━━━━━━━━\u001b[0m\u001b[37m\u001b[0m \u001b[1m17s\u001b[0m 371ms/step - loss: 0.6927 - sparse_categorical_accuracy: 0.5161 - val_loss: 0.6930 - val_sparse_categorical_accuracy: 0.5090\n",
            "Epoch 150/150\n"
          ]
        },
        {
          "output_type": "stream",
          "name": "stderr",
          "text": [
            "[codecarbon INFO @ 06:00:26] Energy consumed for RAM : 0.008245 kWh. RAM Power : 10.0 W\n",
            "[codecarbon INFO @ 06:00:26] Delta energy consumed for CPU with constant : 0.000177 kWh, power : 42.5 W\n",
            "[codecarbon INFO @ 06:00:26] Energy consumed for All CPU : 0.035045 kWh\n",
            "[codecarbon INFO @ 06:00:26] Energy consumed for all GPUs : 0.052475 kWh. Total GPU Power : 65.86846088024183 W\n",
            "[codecarbon INFO @ 06:00:26] 0.095765 kWh of electricity used since the beginning.\n"
          ]
        },
        {
          "output_type": "stream",
          "name": "stdout",
          "text": [
            "\u001b[1m30/45\u001b[0m \u001b[32m━━━━━━━━━━━━━\u001b[0m\u001b[37m━━━━━━━\u001b[0m \u001b[1m4s\u001b[0m 310ms/step - loss: 0.6923 - sparse_categorical_accuracy: 0.5254"
          ]
        },
        {
          "output_type": "stream",
          "name": "stderr",
          "text": [
            "[codecarbon INFO @ 06:00:39] Energy consumed for RAM : 0.008121 kWh. RAM Power : 10.0 W\n",
            "[codecarbon INFO @ 06:00:39] Delta energy consumed for CPU with constant : 0.000177 kWh, power : 42.5 W\n",
            "[codecarbon INFO @ 06:00:39] Energy consumed for All CPU : 0.034517 kWh\n",
            "[codecarbon INFO @ 06:00:39] Energy consumed for all GPUs : 0.052221 kWh. Total GPU Power : 58.13006970013807 W\n",
            "[codecarbon INFO @ 06:00:39] 0.094858 kWh of electricity used since the beginning.\n"
          ]
        },
        {
          "output_type": "stream",
          "name": "stdout",
          "text": [
            "\u001b[1m38/45\u001b[0m \u001b[32m━━━━━━━━━━━━━━━━\u001b[0m\u001b[37m━━━━\u001b[0m \u001b[1m2s\u001b[0m 310ms/step - loss: 0.6924 - sparse_categorical_accuracy: 0.5230"
          ]
        },
        {
          "output_type": "stream",
          "name": "stderr",
          "text": [
            "[codecarbon INFO @ 06:00:41] Energy consumed for RAM : 0.008287 kWh. RAM Power : 10.0 W\n",
            "[codecarbon INFO @ 06:00:41] Delta energy consumed for CPU with constant : 0.000177 kWh, power : 42.5 W\n",
            "[codecarbon INFO @ 06:00:41] Energy consumed for All CPU : 0.035222 kWh\n",
            "[codecarbon INFO @ 06:00:41] Energy consumed for all GPUs : 0.052734 kWh. Total GPU Power : 62.2663603651698 W\n",
            "[codecarbon INFO @ 06:00:41] 0.096243 kWh of electricity used since the beginning.\n"
          ]
        },
        {
          "output_type": "stream",
          "name": "stdout",
          "text": [
            "\u001b[1m45/45\u001b[0m \u001b[32m━━━━━━━━━━━━━━━━━━━━\u001b[0m\u001b[37m\u001b[0m \u001b[1m19s\u001b[0m 340ms/step - loss: 0.6924 - sparse_categorical_accuracy: 0.5216 - val_loss: 0.6930 - val_sparse_categorical_accuracy: 0.5090\n"
          ]
        },
        {
          "output_type": "stream",
          "name": "stderr",
          "text": [
            "[codecarbon INFO @ 06:00:45] Energy consumed for RAM : 0.008137 kWh. RAM Power : 10.0 W\n",
            "[codecarbon INFO @ 06:00:45] Delta energy consumed for CPU with constant : 0.000067 kWh, power : 42.5 W\n",
            "[codecarbon INFO @ 06:00:45] Energy consumed for All CPU : 0.034584 kWh\n",
            "[codecarbon INFO @ 06:00:45] Energy consumed for all GPUs : 0.052332 kWh. Total GPU Power : 70.19028784980856 W\n",
            "[codecarbon INFO @ 06:00:45] 0.095053 kWh of electricity used since the beginning.\n"
          ]
        },
        {
          "output_type": "stream",
          "name": "stdout",
          "text": [
            "Emissions during training: 0.0447493108187012 kg CO2\n"
          ]
        }
      ]
    },
    {
      "cell_type": "code",
      "source": [
        "model.evaluate(x_test, y_test, verbose=1)"
      ],
      "metadata": {
        "id": "CcTSfSWCCpcR",
        "colab": {
          "base_uri": "https://localhost:8080/"
        },
        "outputId": "2677368e-c7f4-49b7-8619-3420e226b381"
      },
      "execution_count": 8,
      "outputs": [
        {
          "output_type": "stream",
          "name": "stdout",
          "text": [
            "\u001b[1m42/42\u001b[0m \u001b[32m━━━━━━━━━━━━━━━━━━━━\u001b[0m\u001b[37m\u001b[0m \u001b[1m5s\u001b[0m 88ms/step - loss: 0.6919 - sparse_categorical_accuracy: 0.5299\n"
          ]
        },
        {
          "output_type": "execute_result",
          "data": {
            "text/plain": [
              "[0.692647397518158, 0.5159090757369995]"
            ]
          },
          "metadata": {},
          "execution_count": 8
        }
      ]
    },
    {
      "cell_type": "code",
      "source": [
        "emissions_data = tracker.final_emissions_data\n",
        "print(f\"Energy consumed: {emissions_data.energy_consumed:.6f} kWh\")\n",
        "print(f\"Execution Time: {emissions_data.duration:.2f} seconds\")\n",
        "print(f\"Emissions: {emissions_data.emissions} kg CO2\")"
      ],
      "metadata": {
        "id": "4ecTUyK7DdHc",
        "colab": {
          "base_uri": "https://localhost:8080/"
        },
        "outputId": "1c650641-6767-48a0-b431-d27e01676bfc"
      },
      "execution_count": 9,
      "outputs": [
        {
          "output_type": "stream",
          "name": "stdout",
          "text": [
            "Energy consumed: 0.095053 kWh\n",
            "Execution Time: 2931.01 seconds\n",
            "Emissions: 0.0447493108187012 kg CO2\n"
          ]
        }
      ]
    },
    {
      "cell_type": "markdown",
      "metadata": {
        "id": "Gn106lAmCXKA"
      },
      "source": [
        "## Conclusions\n",
        "\n",
        "In about 110-120 epochs (25s each on Colab), the model reaches a training\n",
        "accuracy of ~0.95, validation accuracy of ~84 and a testing\n",
        "accuracy of ~85, without hyperparameter tuning. And that is for a model\n",
        "with less than 100k parameters. Of course, parameter count and accuracy could be\n",
        "improved by a hyperparameter search and a more sophisticated learning rate\n",
        "schedule, or a different optimizer."
      ]
    }
  ],
  "metadata": {
    "accelerator": "GPU",
    "colab": {
      "provenance": []
    },
    "kernelspec": {
      "display_name": "Python 3",
      "language": "python",
      "name": "python3"
    },
    "language_info": {
      "codemirror_mode": {
        "name": "ipython",
        "version": 3
      },
      "file_extension": ".py",
      "mimetype": "text/x-python",
      "name": "python",
      "nbconvert_exporter": "python",
      "pygments_lexer": "ipython3",
      "version": "3.7.0"
    }
  },
  "nbformat": 4,
  "nbformat_minor": 0
}