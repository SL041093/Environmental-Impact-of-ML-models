{
  "cells": [
    {
      "cell_type": "markdown",
      "metadata": {
        "id": "yCs7P9JTMlzV"
      },
      "source": [
        "##### Copyright 2021 The TensorFlow Hub Authors.\n",
        "\n",
        "Licensed under the Apache License, Version 2.0 (the \"License\");"
      ]
    },
    {
      "cell_type": "code",
      "execution_count": 1,
      "metadata": {
        "id": "Jqn-HYw-Mkea"
      },
      "outputs": [],
      "source": [
        "#@title Copyright 2021 The TensorFlow Hub Authors. All Rights Reserved.\n",
        "#\n",
        "# Licensed under the Apache License, Version 2.0 (the \"License\");\n",
        "# you may not use this file except in compliance with the License.\n",
        "# You may obtain a copy of the License at\n",
        "#\n",
        "#     http://www.apache.org/licenses/LICENSE-2.0\n",
        "#\n",
        "# Unless required by applicable law or agreed to in writing, software\n",
        "# distributed under the License is distributed on an \"AS IS\" BASIS,\n",
        "# WITHOUT WARRANTIES OR CONDITIONS OF ANY KIND, either express or implied.\n",
        "# See the License for the specific language governing permissions and\n",
        "# limitations under the License.\n",
        "# =============================================================================="
      ]
    },
    {
      "cell_type": "markdown",
      "metadata": {
        "id": "stRetE8gMlmZ"
      },
      "source": [
        "<table class=\"tfo-notebook-buttons\" align=\"left\">\n",
        "  <td>\n",
        "    <a target=\"_blank\" href=\"https://www.tensorflow.org/hub/tutorials/wav2vec2_saved_model_finetuning\"><img src=\"https://www.tensorflow.org/images/tf_logo_32px.png\" />View on TensorFlow.org</a>\n",
        "  </td>\n",
        "  <td>\n",
        "    <a target=\"_blank\" href=\"https://colab.research.google.com/github/tensorflow/docs/blob/master/site/en/hub/tutorials/wav2vec2_saved_model_finetuning.ipynb\"><img src=\"https://www.tensorflow.org/images/colab_logo_32px.png\" />Run in Google Colab</a>\n",
        "  </td>\n",
        "  <td>\n",
        "    <a target=\"_blank\" href=\"https://github.com/tensorflow/docs/blob/master/site/en/hub/tutorials/wav2vec2_saved_model_finetuning.ipynb\"><img src=\"https://www.tensorflow.org/images/GitHub-Mark-32px.png\" />View on GitHub</a>\n",
        "  </td>\n",
        "  <td>\n",
        "    <a href=\"https://storage.googleapis.com/tensorflow_docs/docs/site/en/hub/tutorials/wav2vec2_saved_model_finetuning.ipynb\"><img src=\"https://www.tensorflow.org/images/download_logo_32px.png\" />Download notebook</a>\n",
        "  </td>\n",
        "  <td>\n",
        "    <a href=\"https://tfhub.dev/vasudevgupta7/wav2vec2/1\"><img src=\"https://www.tensorflow.org/images/hub_logo_32px.png\" />See TF Hub model</a>\n",
        "  </td>\n",
        "</table>"
      ]
    },
    {
      "cell_type": "markdown",
      "metadata": {
        "id": "ndG8MjmJeicp"
      },
      "source": [
        "# Fine-tuning Wav2Vec2 with an LM head\n",
        "\n",
        "In this notebook, we will load the pre-trained wav2vec2 model from [TFHub](https://tfhub.dev) and will fine-tune it on [LibriSpeech dataset](https://huggingface.co/datasets/librispeech_asr) by appending Language Modeling head (LM) over the top of our pre-trained model. The underlying task is to build a model for **Automatic Speech Recognition** i.e. given some speech, the model should be able to transcribe it into text."
      ]
    },
    {
      "cell_type": "markdown",
      "metadata": {
        "id": "rWk8nL6Ui-_0"
      },
      "source": [
        "## Setting Up\n",
        "\n",
        "Before running this notebook, please ensure that you are on GPU runtime (`Runtime` > `Change runtime type` > `GPU`). The following cell will install [`gsoc-wav2vec2`](https://github.com/vasudevgupta7/gsoc-wav2vec2) package & its dependencies."
      ]
    },
    {
      "cell_type": "code",
      "execution_count": 2,
      "metadata": {
        "id": "seqTlMyeZvM4",
        "colab": {
          "base_uri": "https://localhost:8080/"
        },
        "outputId": "6287cc15-614d-4149-d96f-f3bd81cc7eda"
      },
      "outputs": [
        {
          "output_type": "stream",
          "name": "stdout",
          "text": [
            "  Preparing metadata (setup.py) ... \u001b[?25l\u001b[?25hdone\n",
            "\u001b[2K   \u001b[90m━━━━━━━━━━━━━━━━━━━━━━━━━━━━━━━━━━━━━━━━\u001b[0m \u001b[32m3.1/3.1 MB\u001b[0m \u001b[31m28.4 MB/s\u001b[0m eta \u001b[36m0:00:00\u001b[0m\n",
            "\u001b[?25h  Building wheel for wav2vec2 (setup.py) ... \u001b[?25l\u001b[?25hdone\n",
            "Reading package lists... Done\n",
            "Building dependency tree... Done\n",
            "Reading state information... Done\n",
            "libsndfile1-dev is already the newest version (1.0.31-2ubuntu0.2).\n",
            "0 upgraded, 0 newly installed, 0 to remove and 34 not upgraded.\n"
          ]
        }
      ],
      "source": [
        "!pip3 install -q git+https://github.com/vasudevgupta7/gsoc-wav2vec2@main\n",
        "!sudo apt-get install -y libsndfile1-dev\n",
        "!pip3 install -q SoundFile"
      ]
    },
    {
      "cell_type": "markdown",
      "metadata": {
        "id": "wvuJL8-f0zn5"
      },
      "source": [
        "## Model setup using `TFHub`\n",
        "\n",
        "We will start by importing some libraries/modules."
      ]
    },
    {
      "cell_type": "code",
      "execution_count": 3,
      "metadata": {
        "id": "M3_fgx4eZvM7",
        "colab": {
          "base_uri": "https://localhost:8080/"
        },
        "outputId": "66178ce4-8291-4eaf-e408-2ee601c8fa80"
      },
      "outputs": [
        {
          "output_type": "stream",
          "name": "stdout",
          "text": [
            "TF version: 2.18.0\n"
          ]
        }
      ],
      "source": [
        "import os\n",
        "\n",
        "import tensorflow as tf\n",
        "import tensorflow_hub as hub\n",
        "from wav2vec2 import Wav2Vec2Config\n",
        "\n",
        "config = Wav2Vec2Config()\n",
        "\n",
        "print(\"TF version:\", tf.__version__)"
      ]
    },
    {
      "cell_type": "code",
      "source": [
        "import keras"
      ],
      "metadata": {
        "id": "OIiqrxZUSTdR"
      },
      "execution_count": 4,
      "outputs": []
    },
    {
      "cell_type": "code",
      "source": [
        "# Use Keras 2.\n",
        "version_fn = getattr(keras, \"version\", None)\n",
        "if version_fn and version_fn().startswith(\"3.\"):\n",
        "  import tf_keras as keras\n",
        "else:\n",
        "  keras = tf.keras"
      ],
      "metadata": {
        "id": "i1IWxFosSZls"
      },
      "execution_count": 5,
      "outputs": []
    },
    {
      "cell_type": "markdown",
      "metadata": {
        "id": "y0rVUxyWsS5f"
      },
      "source": [
        "First, we will download our model from TFHub & will wrap our model signature with [`hub.KerasLayer`](https://www.tensorflow.org/hub/api_docs/python/hub/KerasLayer) to be able to use this model like any other Keras layer. Fortunately, `hub.KerasLayer` can do both in just 1 line.\n",
        "\n",
        "**Note:** When loading model with `hub.KerasLayer`, model becomes a bit opaque but sometimes we need finer controls over the model, then we can load the model with `tf.keras.models.load_model(...)`."
      ]
    },
    {
      "cell_type": "code",
      "execution_count": 6,
      "metadata": {
        "id": "NO6QRC7KZvM9"
      },
      "outputs": [],
      "source": [
        "pretrained_layer = hub.KerasLayer(\"https://tfhub.dev/vasudevgupta7/wav2vec2/1\", trainable=True)"
      ]
    },
    {
      "cell_type": "markdown",
      "metadata": {
        "id": "pCputyVBv2e9"
      },
      "source": [
        "You can refer to this [script](https://github.com/vasudevgupta7/gsoc-wav2vec2/blob/main/src/export2hub.py) in case you are interested in the model exporting script. Object `pretrained_layer` is the freezed version of [`Wav2Vec2Model`](https://github.com/vasudevgupta7/gsoc-wav2vec2/blob/main/src/wav2vec2/modeling.py). These pre-trained weights were converted from HuggingFace PyTorch [pre-trained weights](https://huggingface.co/facebook/wav2vec2-base) using [this script](https://github.com/vasudevgupta7/gsoc-wav2vec2/blob/main/src/convert_torch_to_tf.py).\n",
        "\n",
        "Originally, wav2vec2 was pre-trained with a masked language modelling approach with the objective to identify the true quantized latent speech representation for a masked time step. You can read more about the training objective in the paper- [wav2vec 2.0: A Framework for Self-Supervised Learning of Speech Representations](https://arxiv.org/abs/2006.11477)."
      ]
    },
    {
      "cell_type": "markdown",
      "metadata": {
        "id": "SseDnCr7hyhC"
      },
      "source": [
        "Now, we will be defining a few constants and hyper-parameters which will be useful in the next few cells. `AUDIO_MAXLEN` is intentionally set to `246000` as the model signature only accepts static sequence length of `246000`."
      ]
    },
    {
      "cell_type": "code",
      "execution_count": 7,
      "metadata": {
        "id": "eiILuMBERxlO"
      },
      "outputs": [],
      "source": [
        "AUDIO_MAXLEN = 246000\n",
        "LABEL_MAXLEN = 256\n",
        "BATCH_SIZE = 2"
      ]
    },
    {
      "cell_type": "markdown",
      "metadata": {
        "id": "1V4gTgGLgXvO"
      },
      "source": [
        "In the following cell, we will wrap `pretrained_layer` & a dense layer (LM head) with the [Keras's Functional API](https://www.tensorflow.org/guide/keras/functional)."
      ]
    },
    {
      "cell_type": "code",
      "execution_count": 8,
      "metadata": {
        "id": "a3CUN1KEB10Q"
      },
      "outputs": [],
      "source": [
        "inputs = keras.Input(shape=(AUDIO_MAXLEN,))\n",
        "hidden_states = pretrained_layer(inputs)\n",
        "outputs = keras.layers.Dense(config.vocab_size)(hidden_states)\n",
        "\n",
        "model = keras.Model(inputs=inputs, outputs=outputs)"
      ]
    },
    {
      "cell_type": "markdown",
      "metadata": {
        "id": "5zDXuoMXhDMo"
      },
      "source": [
        "The dense layer (defined above) is having an output dimension of `vocab_size` as we want to predict probabilities of each token in the vocabulary at each time step."
      ]
    },
    {
      "cell_type": "markdown",
      "metadata": {
        "id": "oPp18ZHRtnq-"
      },
      "source": [
        "## Setting up training state"
      ]
    },
    {
      "cell_type": "markdown",
      "metadata": {
        "id": "ATQy1ZK3vFr7"
      },
      "source": [
        "In TensorFlow, model weights are built only when `model.call` or `model.build` is called for the first time, so the following cell will build the model weights for us. Further, we will be running `model.summary()` to check the total number of trainable parameters."
      ]
    },
    {
      "cell_type": "code",
      "execution_count": 9,
      "metadata": {
        "id": "ZgL5wyaXZvM-",
        "colab": {
          "base_uri": "https://localhost:8080/"
        },
        "outputId": "af10fcd5-5a98-44c8-c2b0-82bc253c7b11"
      },
      "outputs": [
        {
          "output_type": "stream",
          "name": "stdout",
          "text": [
            "Model: \"model\"\n",
            "_________________________________________________________________\n",
            " Layer (type)                Output Shape              Param #   \n",
            "=================================================================\n",
            " input_1 (InputLayer)        [(None, 246000)]          0         \n",
            "                                                                 \n",
            " keras_layer (KerasLayer)    (None, 768, 768)          94371712  \n",
            "                                                                 \n",
            " dense (Dense)               (None, 768, 32)           24608     \n",
            "                                                                 \n",
            "=================================================================\n",
            "Total params: 94396320 (360.09 MB)\n",
            "Trainable params: 94396320 (360.09 MB)\n",
            "Non-trainable params: 0 (0.00 Byte)\n",
            "_________________________________________________________________\n"
          ]
        }
      ],
      "source": [
        "model(tf.random.uniform(shape=(BATCH_SIZE, AUDIO_MAXLEN)))\n",
        "model.summary()"
      ]
    },
    {
      "cell_type": "markdown",
      "metadata": {
        "id": "EQxxA4Fevp7m"
      },
      "source": [
        "Now, we need to define the `loss_fn` and optimizer to be able to train the model. The following cell will do that for us. We will be using the `Adam` optimizer for simplicity. `CTCLoss` is a common loss type that is used for tasks (like `ASR`) where input sub-parts can't be easily aligned with output sub-parts. You can read more about CTC-loss from this amazing [blog post](https://distill.pub/2017/ctc/).\n",
        "\n",
        "\n",
        "`CTCLoss` (from [`gsoc-wav2vec2`](https://github.com/vasudevgupta7/gsoc-wav2vec2) package) accepts 3 arguments: `config`, `model_input_shape` & `division_factor`. If `division_factor=1`, then loss will simply get summed, so pass `division_factor` accordingly to get mean over batch."
      ]
    },
    {
      "cell_type": "code",
      "execution_count": 10,
      "metadata": {
        "id": "glDepVEHZvM_"
      },
      "outputs": [],
      "source": [
        "from wav2vec2 import CTCLoss\n",
        "\n",
        "LEARNING_RATE = 5e-5\n",
        "\n",
        "class CustomLoss(CTCLoss):\n",
        "  def _init_(self, config, model_input_shape, division_factor=1):\n",
        "    super()._init_(config, model_input_shape, division_factor)\n",
        "  def call(self, y_true, y_pred):\n",
        "    #print('CustomLoss call()')\n",
        "    #print(type(y_true), type(y_pred))\n",
        "    y_true = tf.cast(y_true, tf.int32)\n",
        "    return super().call(y_true, y_pred)\n",
        "\n",
        "loss_fn = CustomLoss(config, (BATCH_SIZE, AUDIO_MAXLEN), division_factor=BATCH_SIZE)\n",
        "optimizer = keras.optimizers.Adam(LEARNING_RATE)\n",
        "\n",
        "#loss_fn = CTCLoss(config, (BATCH_SIZE, AUDIO_MAXLEN), division_factor=BATCH_SIZE)\n",
        "#optimizer = tf.keras.optimizers.Adam(LEARNING_RATE)"
      ]
    },
    {
      "cell_type": "markdown",
      "metadata": {
        "id": "1mvTuOXpwsQe"
      },
      "source": [
        "## Loading & Pre-processing data\n",
        "\n",
        "Let's now download the LibriSpeech dataset from the [official website](http://www.openslr.org/12) and set it up."
      ]
    },
    {
      "cell_type": "code",
      "execution_count": 11,
      "metadata": {
        "id": "I4kIEC77cBCM",
        "colab": {
          "base_uri": "https://localhost:8080/"
        },
        "outputId": "28a2747f-7c8a-4f16-e59e-4402a35cda11"
      },
      "outputs": [
        {
          "output_type": "stream",
          "name": "stdout",
          "text": [
            "--2025-05-01 21:02:55--  https://www.openslr.org/resources/12/dev-clean.tar.gz\n",
            "Resolving www.openslr.org (www.openslr.org)... 46.101.158.64\n",
            "Connecting to www.openslr.org (www.openslr.org)|46.101.158.64|:443... connected.\n",
            "HTTP request sent, awaiting response... 302 Found\n",
            "Location: https://openslr.elda.org/resources/12/dev-clean.tar.gz [following]\n",
            "--2025-05-01 21:02:56--  https://openslr.elda.org/resources/12/dev-clean.tar.gz\n",
            "Resolving openslr.elda.org (openslr.elda.org)... 141.94.109.138, 2001:41d0:203:ad8a::\n",
            "Connecting to openslr.elda.org (openslr.elda.org)|141.94.109.138|:443... connected.\n",
            "HTTP request sent, awaiting response... 200 OK\n",
            "Length: 337926286 (322M) [application/x-gzip]\n",
            "Saving to: ‘./data/train/dev-clean.tar.gz’\n",
            "\n",
            "dev-clean.tar.gz    100%[===================>] 322.27M  22.5MB/s    in 16s     \n",
            "\n",
            "2025-05-01 21:03:12 (20.4 MB/s) - ‘./data/train/dev-clean.tar.gz’ saved [337926286/337926286]\n",
            "\n"
          ]
        }
      ],
      "source": [
        "!wget https://www.openslr.org/resources/12/dev-clean.tar.gz -P ./data/train/\n",
        "!tar -xf ./data/train/dev-clean.tar.gz -C ./data/train/"
      ]
    },
    {
      "cell_type": "markdown",
      "metadata": {
        "id": "LsQpmpn6jrMI"
      },
      "source": [
        "**Note:** We are using `dev-clean` configuration as this notebook is just for demonstration purposes, so we need a small amount of data. Complete training data can be easily downloaded from [LibriSpeech website](http://www.openslr.org/12)."
      ]
    },
    {
      "cell_type": "code",
      "execution_count": 12,
      "metadata": {
        "id": "ynxAjtGHGFpM",
        "colab": {
          "base_uri": "https://localhost:8080/"
        },
        "outputId": "cd34af81-0fef-478d-f789-db3f23e2e99c"
      },
      "outputs": [
        {
          "output_type": "stream",
          "name": "stdout",
          "text": [
            "dev-clean.tar.gz  \u001b[0m\u001b[01;34mLibriSpeech\u001b[0m/\n"
          ]
        }
      ],
      "source": [
        "ls ./data/train/"
      ]
    },
    {
      "cell_type": "markdown",
      "metadata": {
        "id": "yBMiORo0xJD0"
      },
      "source": [
        "Our dataset lies in the LibriSpeech directory. Let's explore these files."
      ]
    },
    {
      "cell_type": "code",
      "execution_count": 13,
      "metadata": {
        "id": "jkIu_Wt4ZvNA",
        "colab": {
          "base_uri": "https://localhost:8080/"
        },
        "outputId": "b57d3080-d9a1-4c23-a73a-c0175ae90d34"
      },
      "outputs": [
        {
          "output_type": "stream",
          "name": "stdout",
          "text": [
            "Transcription files: ['2428-83705.trans.txt'] \n",
            "Sound files: ['2428-83705-0016.flac', '2428-83705-0031.flac', '2428-83705-0037.flac', '2428-83705-0033.flac', '2428-83705-0005.flac', '2428-83705-0038.flac', '2428-83705-0034.flac', '2428-83705-0013.flac', '2428-83705-0011.flac', '2428-83705-0017.flac', '2428-83705-0029.flac', '2428-83705-0023.flac', '2428-83705-0002.flac', '2428-83705-0021.flac', '2428-83705-0024.flac', '2428-83705-0043.flac', '2428-83705-0015.flac', '2428-83705-0028.flac', '2428-83705-0027.flac', '2428-83705-0039.flac', '2428-83705-0008.flac', '2428-83705-0042.flac', '2428-83705-0020.flac', '2428-83705-0018.flac', '2428-83705-0022.flac', '2428-83705-0036.flac', '2428-83705-0025.flac', '2428-83705-0041.flac', '2428-83705-0004.flac', '2428-83705-0014.flac', '2428-83705-0006.flac', '2428-83705-0003.flac', '2428-83705-0007.flac', '2428-83705-0010.flac', '2428-83705-0012.flac', '2428-83705-0030.flac', '2428-83705-0026.flac', '2428-83705-0032.flac', '2428-83705-0000.flac', '2428-83705-0019.flac', '2428-83705-0040.flac', '2428-83705-0035.flac', '2428-83705-0009.flac', '2428-83705-0001.flac']\n"
          ]
        }
      ],
      "source": [
        "data_dir = \"./data/train/LibriSpeech/dev-clean/2428/83705/\"\n",
        "all_files = os.listdir(data_dir)\n",
        "\n",
        "flac_files = [f for f in all_files if f.endswith(\".flac\")]\n",
        "txt_files = [f for f in all_files if f.endswith(\".txt\")]\n",
        "\n",
        "print(\"Transcription files:\", txt_files, \"\\nSound files:\", flac_files)"
      ]
    },
    {
      "cell_type": "markdown",
      "metadata": {
        "id": "XEObi_Apk3ZD"
      },
      "source": [
        "Alright, so each sub-directory has many `.flac` files and a `.txt` file. The `.txt` file contains text transcriptions for all the speech samples (i.e. `.flac` files) present in that sub-directory."
      ]
    },
    {
      "cell_type": "markdown",
      "metadata": {
        "id": "WYW6WKJflO2e"
      },
      "source": [
        "We can load this text data as follows:"
      ]
    },
    {
      "cell_type": "code",
      "execution_count": 14,
      "metadata": {
        "id": "cEBKxQblHPwq"
      },
      "outputs": [],
      "source": [
        "def read_txt_file(f):\n",
        "  with open(f, \"r\") as f:\n",
        "    samples = f.read().split(\"\\n\")\n",
        "    samples = {s.split()[0]: \" \".join(s.split()[1:]) for s in samples if len(s.split()) > 2}\n",
        "  return samples"
      ]
    },
    {
      "cell_type": "markdown",
      "metadata": {
        "id": "Ldkf_ceb0_YW"
      },
      "source": [
        "Similarly, we will define a function for loading a speech sample from a `.flac` file.\n",
        "\n",
        "`REQUIRED_SAMPLE_RATE` is set to `16000` as wav2vec2 was pre-trained with `16K` frequency and it's recommended to fine-tune it without any major change in data distribution due to frequency."
      ]
    },
    {
      "cell_type": "code",
      "execution_count": 15,
      "metadata": {
        "id": "YOJ3OzPsTyXv"
      },
      "outputs": [],
      "source": [
        "import soundfile as sf\n",
        "\n",
        "REQUIRED_SAMPLE_RATE = 16000\n",
        "\n",
        "def read_flac_file(file_path):\n",
        "  with open(file_path, \"rb\") as f:\n",
        "      audio, sample_rate = sf.read(f)\n",
        "  if sample_rate != REQUIRED_SAMPLE_RATE:\n",
        "      raise ValueError(\n",
        "          f\"sample rate (={sample_rate}) of your files must be {REQUIRED_SAMPLE_RATE}\"\n",
        "      )\n",
        "  file_id = os.path.split(file_path)[-1][:-len(\".flac\")]\n",
        "  return {file_id: audio}"
      ]
    },
    {
      "cell_type": "markdown",
      "metadata": {
        "id": "2sxDN8P4nWkW"
      },
      "source": [
        "Now, we will pick some random samples & will try to visualize them."
      ]
    },
    {
      "cell_type": "code",
      "execution_count": 16,
      "metadata": {
        "id": "HI5J-2Dfm_wT",
        "colab": {
          "base_uri": "https://localhost:8080/",
          "height": 111
        },
        "outputId": "51595b58-0761-4d9c-c8b9-662db8fb6b7f"
      },
      "outputs": [
        {
          "output_type": "stream",
          "name": "stdout",
          "text": [
            "Text Transcription: BUT WHY ON THAT ACCOUNT THEY SHOULD PITY ME I ALTOGETHER FAIL TO UNDERSTAND \n",
            "Audio:\n"
          ]
        },
        {
          "output_type": "execute_result",
          "data": {
            "text/plain": [
              "<IPython.lib.display.Audio object>"
            ],
            "text/html": [
              "\n",
              "                <audio  controls=\"controls\" >\n",
              "                    <source src=\"data:audio/flac;base64,ZkxhQwAAACIQABAAAANwABXDA+gA8AABlkD+VKvatsPWMtQ2ehh7LvtUAwAAEgAAAAAAAAAAAAAAAAAAAAAQAAQAACggAAAAcmVmZXJlbmNlIGxpYkZMQUMgMS4yLjEgMjAwNzA5MTcAAAAAgQAgAAAAAAAAAAAAAAAAAAAAAAAAAAAAAAAAAAAAAAAAAAAAAAAAAAAAAAAAAAAAAAAAAAAAAAAAAAAAAAAAAAAAAAAAAAAAAAAAAAAAAAAAAAAAAAAAAAAAAAAAAAAAAAAAAAAAAAAAAAAAAAAAAAAAAAAAAAAAAAAAAAAAAAAAAAAAAAAAAAAAAAAAAAAAAAAAAAAAAAAAAAAAAAAAAAAAAAAAAAAAAAAAAAAAAAAAAAAAAAAAAAAAAAAAAAAAAAAAAAAAAAAAAAAAAAAAAAAAAAAAAAAAAAAAAAAAAAAAAAAAAAAAAAAAAAAAAAAAAAAAAAAAAAAAAAAAAAAAAAAAAAAAAAAAAAAAAAAAAAAAAAAAAAAAAAAAAAAAAAAAAAAAAAAAAAAAAAAAAAAAAAAAAAAAAAAAAAAAAAAAAAAAAAAAAAAAAAAAAAAAAAAAAAAAAAAAAAAAAAAAAAAAAAAAAAAAAAAAAAAAAAAAAAAAAAAAAAAAAAAAAAAAAAAAAAAAAAAAAAAAAAAAAAAAAAAAAAAAAAAAAAAAAAAAAAAAAAAAAAAAAAAAAAAAAAAAAAAAAAAAAAAAAAAAAAAAAAAAAAAAAAAAAAAAAAAAAAAAAAAAAAAAAAAAAAAAAAAAAAAAAAAAAAAAAAAAAAAAAAAAAAAAAAAAAAAAAAAAAAAAAAAAAAAAAAAAAAAAAAAAAAAAAAAAAAAAAAAAAAAAAAAAAAAAAAAAAAAAAAAAAAAAAAAAAAAAAAAAAAAAAAAAAAAAAAAAAAAAAAAAAAAAAAAAAAAAAAAAAAAAAAAAAAAAAAAAAAAAAAAAAAAAAAAAAAAAAAAAAAAAAAAAAAAAAAAAAAAAAAAAAAAAAAAAAAAAAAAAAAAAAAAAAAAAAAAAAAAAAAAAAAAAAAAAAAAAAAAAAAAAAAAAAAAAAAAAAAAAAAAAAAAAAAAAAAAAAAAAAAAAAAAAAAAAAAAAAAAAAAAAAAAAAAAAAAAAAAAAAAAAAAAAAAAAAAAAAAAAAAAAAAAAAAAAAAAAAAAAAAAAAAAAAAAAAAAAAAAAAAAAAAAAAAAAAAAAAAAAAAAAAAAAAAAAAAAAAAAAAAAAAAAAAAAAAAAAAAAAAAAAAAAAAAAAAAAAAAAAAAAAAAAAAAAAAAAAAAAAAAAAAAAAAAAAAAAAAAAAAAAAAAAAAAAAAAAAAAAAAAAAAAAAAAAAAAAAAAAAAAAAAAAAAAAAAAAAAAAAAAAAAAAAAAAAAAAAAAAAAAAAAAAAAAAAAAAAAAAAAAAAAAAAAAAAAAAAAAAAAAAAAAAAAAAAAAAAAAAAAAAAAAAAAAAAAAAAAAAAAAAAAAAAAAAAAAAAAAAAAAAAAAAAAAAAAAAAAAAAAAAAAAAAAAAAAAAAAAAAAAAAAAAAAAAAAAAAAAAAAAAAAAAAAAAAAAAAAAAAAAAAAAAAAAAAAAAAAAAAAAAAAAAAAAAAAAAAAAAAAAAAAAAAAAAAAAAAAAAAAAAAAAAAAAAAAAAAAAAAAAAAAAAAAAAAAAAAAAAAAAAAAAAAAAAAAAAAAAAAAAAAAAAAAAAAAAAAAAAAAAAAAAAAAAAAAAAAAAAAAAAAAAAAAAAAAAAAAAAAAAAAAAAAAAAAAAAAAAAAAAAAAAAAAAAAAAAAAAAAAAAAAAAAAAAAAAAAAAAAAAAAAAAAAAAAAAAAAAAAAAAAAAAAAAAAAAAAAAAAAAAAAAAAAAAAAAAAAAAAAAAAAAAAAAAAAAAAAAAAAAAAAAAAAAAAAAAAAAAAAAAAAAAAAAAAAAAAAAAAAAAAAAAAAAAAAAAAAAAAAAAAAAAAAAAAAAAAAAAAAAAAAAAAAAAAAAAAAAAAAAAAAAAAAAAAAAAAAAAAAAAAAAAAAAAAAAAAAAAAAAAAAAAAAAAAAAAAAAAAAAAAAAAAAAAAAAAAAAAAAAAAAAAAAAAAAAAAAAAAAAAAAAAAAAAAAAAAAAAAAAAAAAAAAAAAAAAAAAAAAAAAAAAAAAAAAAAAAAAAAAAAAAAAAAAAAAAAAAAAAAAAAAAAAAAAAAAAAAAAAAAAAAAAAAAAAAAAAAAAAAAAAAAAAAAAAAAAAAAAAAAAAAAAAAAAAAAAAAAAAAAAAAAAAAAAAAAAAAAAAAAAAAAAAAAAAAAAAAAAAAAAAAAAAAAAAAAAAAAAAAAAAAAAAAAAAAAAAAAAAAAAAAAAAAAAAAAAAAAAAAAAAAAAAAAAAAAAAAAAAAAAAAAAAAAAAAAAAAAAAAAAAAAAAAAAAAAAAAAAAAAAAAAAAAAAAAAAAAAAAAAAAAAAAAAAAAAAAAAAAAAAAAAAAAAAAAAAAAAAAAAAAAAAAAAAAAAAAAAAAAAAAAAAAAAAAAAAAAAAAAAAAAAAAAAAAAAAAAAAAAAAAAAAAAAAAAAAAAAAAAAAAAAAAAAAAAAAAAAAAAAAAAAAAAAAAAAAAAAAAAAAAAAAAAAAAAAAAAAAAAAAAAAAAAAAAAAAAAAAAAAAAAAAAAAAAAAAAAAAAAAAAAAAAAAAAAAAAAAAAAAAAAAAAAAAAAAAAAAAAAAAAAAAAAAAAAAAAAAAAAAAAAAAAAAAAAAAAAAAAAAAAAAAAAAAAAAAAAAAAAAAAAAAAAAAAAAAAAAAAAAAAAAAAAAAAAAAAAAAAAAAAAAAAAAAAAAAAAAAAAAAAAAAAAAAAAAAAAAAAAAAAAAAAAAAAAAAAAAAAAAAAAAAAAAAAAAAAAAAAAAAAAAAAAAAAAAAAAAAAAAAAAAAAAAAAAAAAAAAAAAAAAAAAAAAAAAAAAAAAAAAAAAAAAAAAAAAAAAAAAAAAAAAAAAAAAAAAAAAAAAAAAAAAAAAAAAAAAAAAAAAAAAAAAAAAAAAAAAAAAAAAAAAAAAAAAAAAAAAAAAAAAAAAAAAAAAAAAAAAAAAAAAAAAAAAAAAAAAAAAAAAAAAAAAAAAAAAAAAAAAAAAAAAAAAAAAAAAAAAAAAAAAAAAAAAAAAAAAAAAAAAAAAAAAAAAAAAAAAAAAAAAAAAAAAAAAAAAAAAAAAAAAAAAAAAAAAAAAAAAAAAAAAAAAAAAAAAAAAAAAAAAAAAAAAAAAAAAAAAAAAAAAAAAAAAAAAAAAAAAAAAAAAAAAAAAAAAAAAAAAAAAAAAAAAAAAAAAAAAAAAAAAAAAAAAAAAAAAAAAAAAAAAAAAAAAAAAAAAAAAAAAAAAAAAAAAAAAAAAAAAAAAAAAAAAAAAAAAAAAAAAAAAAAAAAAAAAAAAAAAAAAAAAAAAAAAAAAAAAAAAAAAAAAAAAAAAAAAAAAAAAAAAAAAAAAAAAAAAAAAAAAAAAAAAAAAAAAAAAAAAAAAAAAAAAAAAAAAAAAAAAAAAAAAAAAAAAAAAAAAAAAAAAAAAAAAAAAAAAAAAAAAAAAAAAAAAAAAAAAAAAAAAAAAAAAAAAAAAAAAAAAAAAAAAAAAAAAAAAAAAAAAAAAAAAAAAAAAAAAAAAAAAAAAAAAAAAAAAAAAAAAAAAAAAAAAAAAAAAAAAAAAAAAAAAAAAAAAAAAAAAAAAAAAAAAAAAAAAAAAAAAAAAAAAAAAAAAAAAAAAAAAAAAAAAAAAAAAAAAAAAAAAAAAAAAAAAAAAAAAAAAAAAAAAAAAAAAAAAAAAAAAAAAAAAAAAAAAAAAAAAAAAAAAAAAAAAAAAAAAAAAAAAAAAAAAAAAAAAAAAAAAAAAAAAAAAAAAAAAAAAAAAAAAAAAAAAAAAAAAAAAAAAAAAAAAAAAAAAAAAAAAAAAAAAAAAAAAAAAAAAAAAAAAAAAAAAAAAAAAAAAAAAAAAAAAAAAAAAAAAAAAAAAAAAAAAAAAAAAAAAAAAAAAAAAAAAAAAAAAAAAAAAAAAAAAAAAAAAAAAAAAAAAAAAAAAAAAAAAAAAAAAAAAAAAAAAAAAAAAAAAAAAAAAAAAAAAAAAAAAAAAAAAAAAAAAAAAAAAAAAAAAAAAAAAAAAAAAAAAAAAAAAAAAAAAAAAAAAAAAAAAAAAAAAAAAAAAAAAAAAAAAAAAAAAAAAAAAAAAAAAAAAAAAAAAAAAAAAAAAAAAAAAAAAAAAAAAAAAAAAAAAAAAAAAAAAAAAAAAAAAAAAAAAAAAAAAAAAAAAAAAAAAAAAAAAAAAAAAAAAAAAAAAAAAAAAAAAAAAAAAAAAAAAAAAAAAAAAAAAAAAAAAAAAAAAAAAAAAAAAAAAAAAAAAAAAAAAAAAAAAAAAAAAAAAAAAAAAAAAAAAAAAAAAAAAAAAAAAAAAAAAAAAAAAAAAAAAAAAAAAAAAAAAAAAAAAAAAAAAAAAAAAAAAAAAAAAAAAAAAAAAAAAAAAAAAAAAAAAAAAAAAAAAAAAAAAAAAAAAAAAAAAAAAAAAAAAAAAAAAAAAAAAAAAAAAAAAAAAAAAAAAAAAAAAAAAAAAAAAAAAAAAAAAAAAAAAAAAAAAAAAAAAAAAAAAAAAAAAAAAAAAAAAAAAAAAAAAAAAAAAAAAAAAAAAAAAAAAAAAAAAAAAAAAAAAAAAAAAAAAAAAAAAAAAAAAAAAAAAAAAAAAAAAAAAAAAAAAAAAAAAAAAAAAAAAAAAAAAAAAAAAAAAAAAAAAAAAAAAAAAAAAAAAAAAAAAAAAAAAAAAAAAAAAAAAAAAAAAAAAAAAAAAAAAAAAAAAAAAAAAAAAAAAAAAAAAAAAAAAAAAAAAAAAAAAAAAAAAAAAAAAAAAAAAAAAAAAAAAAAAAAAAAAAAAAAAAAAAAAAAAAAAAAAAAAAAAAAAAAAAAAAAAAAAAAAAAAAAAAAAAAAAAAAAAAAAAAAAAAAAAAAAAAAAAAAAAAAAAAAAAAAAAAAAAAAAAAAAAAAAAAAAAAAAAAAAAAAAAAAAAAAAAAAAAAAAAAAAAAAAAAAAAAAAAAAAAAAAAAAAAAAAAAAAAAAAAAAAAAAAAAAAAAAAAAAAAAAAAAAAAAAAAAAAAAAAAAAAAAAAAAAAAAAAAAAAAAAAAAAAAAAAAAAAAAAAAAAAAAAAAAAAAAAAAAAAAAAAAAAAAAAAAAAAAAAAAAAAAAAAAAAAAAAAAAAAAAAAAAAAAAAAAAAAAAAAAAAAAAAAAAAAAAAAAAAAAAAAAAAAAAAAAAAAAAAAAAAAAAAAAAAAAAAAAAAAAAAAAAAAAAAAAAAAAAAAAAAAAAAAAAAAAAAAAAAAAAAAAAAAAAAAAAAAAAAAAAAAAAAAAAAAAAAAAAAAAAAAAAAAAAAAAAAAAAAAAAAAAAAAAAAAAAAAAAAAAAAAAAAAAAAAAAAAAAAAAAAAAAAAAAAAAAAAAAAAAAAAAAAAAAAAAAAAAAAAAAAAAAAAAAAAAAAAAAAAAAAAAAAAAAAAAAAAAAAAAAAAAAAAAAAAAAAAAAAAAAAAAAAAAAAAAAAAAAAAAAAAAAAAAAAAAAAAAAAAAAAAAAAAAAAAAAAAAAAAAAAAAAAAAAAAAAAAAAAAAAAAAAAAAAAAAAAAAAAAAAAAAAAAAAAAAAAAAAAAAAAAAAAAAAAAAAAAAAAAAAAAAAAAAAAAAAAAAAAAAAAAAAAAAAAAAAAAAAAAAAAAAAAAAAAAAAAAAAAAAAAAAAAAAAAAAAAAAAAAAAAAAAAAAAAAAAAAAAAAAAAAAAAAAAAAAAAAAAAAAAAAAAAAAAAAAAAAAAAAAAAAAAAAAAAAAAAAAAAAAAAAAAAAAAAAAAAAAAAAAAAAAAAAAAAAAAAAAAAAAAAAAAAAAAAAAAAAAAAAAAAAAAAAAAAAAAAAAAAAAAAAAAAAAAAAAAAAAAAAAAAAAAAAAAAAAAAAAAAAAAAAAAAAAAAAAAAAAAAAAAAAAAAAAAAAAAAAAAAAAAAAAAAAAAAAAAAAAAAAAAAAAAAAAAAAAAAAAAAAAAAAAAAAAAAAAAAAAAAAAAAAAAAAAAAAAAAAAAAAAAAAAAAAAAAAAAAAAAAAAAAAAAAAAAAAAAAAAAAAAAAAAAAAAAAAAAAAAAAAAAAAAAAAAAAAAAAAAAAAAAAAAAAAAAAAAAAAAAAAAAAAAAAAAAAAAAAAAAAAAAAAAAAAAAAAAAAAAAAAAAAAAAAAAAAAAAAAAAAAAAAAAAAAAAAAAAAAAAAAAAAAAAAAAAAAAAAAAAAAAAAAAAAAAAAAAAAAAAAAAAAAAAAAAAAAAAAAAAAAAAAAAAAAAAAAAAAAAAAAAAAAAAAAAAAAAAAAAAAAAAAAAAAAAAAAAAAAAAAAAAAAAAAAAAAAAAAAAAAAAAAAAAAAAAAAAAAAAAAAAAAAAAAAAAAAAAAAAAAAAAAAAAAAAAAAAAAAAAAAAAAAAAAAAAAAAAAAAAAAAAAAAAAAAAAAAAAAAAAAAAAAAAAAAAAAAAAAAAAAAAAAAAAAAAAAAAAAAAAAAAAAAAAAAAAAAAAAAAAAAAAAAAAAAAAAAAAAAAAAAAAAAAAAAAAAAAAAAAAAAAAAAAAAAAAAAAAAAAAAAAAAAAAAAAAAAAAAAAAAAAAAAAAAAAAAAAAAAAAAAAAAAAAAAAAAAAAAAAAAAAAAAAAAAAAAAAAAAAAAAAAAAAAAAAAAAAAAAAAAAAAAAAAAAAAAAAAAAAAAAAAAAAAAAAAAAAAAAAAAAAAAAAAAAAAAAAAAAAAAAAAAAAAAAAAAAAAAAAAAAAAAAAAAAAAAAAAAAAAAAAAAAAAAAAAAAAAAAAAAAAAAAAAAAAAAAAAAAAAAAAAAAAAAAAAAAAAAAAAAAAAAAAAAAAAAAAAAAAAAAAAAAAAAAAAAAAAAAAAAAAAAAAAAAAAAAAAAAAAAAAAAAAAAAAAAAAAAAAAAAAAAAAAAAAAAAAAAAAAAAAAAAAAAAAAAAAAAAAAAAAAAAAAAAAAAAAAAAAAAAAAAAAAAAAAAAAAAAAAAAAAAAAAAAAAAAAAAAAAAAAAAAAAAAAAAAAAAAAAAAAAAAAAAAAAAAAAAAAAAAAAAAAAAAAAAAAAAAAAAAAAAAAAAAAAAAAAAAAAAAAAAAAAAAAAAAAAAAAAAAAAAAAAAAAAAAAAAAAAAAAAAAAAAAAAAAAAAAAAAAAAAAAAAAAAAAAAAAAAAAAAAAAAAAAAAAAAAAAAAAAAAAAAAAAAAAAAAAAAAAAAAAAAAAAAAAAAAAAAAAAAAAAAAAAAAAAAAAAAAAAAAAAAAAAAAAAAAAAAAAAAAAAAAAAAAAAAAAAAAAAAAAAAAAAAAAAAAAAAAAAAAAAAAAAAAAAAAAAAAAAAAAAAAAAAAAAAAAAAAAAAAAAAAAAAAAAAAAAAAAAAAAAAAAAAAAAAAAAAAAAAAAAAAAAAAAAAAAAAAAAAAAAAAAAAAAAAAAAAAAAAAAAAAAAAAAAAAAAAAAAAAAAAAAAAAAAAAAAAAAAAAAAAAAAAAAAAAAAAAAAAAAAAAAAAAAAAAAAAAAAAAAAAAAAAAAAAAAAAAAAAAAAAAAAAAAAAAAAAAAAAAAAAAAAAAAAAAAAAAAAAAAAAAAAAAAAAAAAAAAAAAAAAAAAAAAAAAAAAAAAAAAAAAAAAAAAAAAAAAAAAAAAAAAAAAAAAAAAAAAAAAAAAAAAAAAAAAAAAAAAAAAAAAAAAAAAAAAAAAAAAAAAAAAAAAAAAAAAAAAAAAAAAAAAAAAAAAAAAAAAAAAAAAAAAAAAAAAAAAAAAAAAAAAAAAAAAAAAAAAAAAAAAAAAAAAAAAAAAAAAAAAAAAAAAAAAAAAAAAAAAAAAAAAAAAAAAAAAAAAAAAAAAAAAAAAAAAAAAAAAAAAAAAAAAAAAAAAAAAAAAAAAAAAAAAAAAAAAAAAAAAAAAAAAAAAAAAAAAAAAAAAAAAAAAAAAAAAAAAAAAAAAAAAAAAAAAAAAAAAAAAAAAAAAAAAAAAAAAAAAAAAAAAAAAAAAAAAAAAAAAAAAAAAAAAAAAAAAAAAAAAAAAAAAAAAAAAAAAAAAAAAAAAAAAAAAAAAAAAAAAAAAAAAAAAAAAAAAAAAAAAAAAAAAAAAAAAAAAAAAAAAAAAAAAAAAAAAAAAAAAAAAAAAAAAAAAAAAAAAAAAAAAAAAAAAAAAAAAAAAAAAAAAAAAAAAAAAAAAAAAAAAAAAAAAAAAAAAAAAAAAAAAAAAAAAAAAAAAAAAAAAAAAAAAAAAAAAAAAAAAAAAAAAAAAAAAAAAAAAAAAAAAAAAAAAAAAAAAAAAAAAAAAAAAAAAAAAAAAAAAAAAAAAAAAAAAAAAAAAAAAAAAAAAAAAAAAAAAAAAAAAAAAAAAAAAAAAAAAAAAAAAAAAAAAAAAAAAAAAAAAAAAAAAAAAAAAAAAAAAAAAAAAAAAAAAAAAAAAAAAAAAAAAAAAAAAAAAAAAAAAAAAAAAAAAAAAAAAAAAAAAAAAAAAAAAAAAAAAAAAAAAAAAAAAAAAAAAAAAAAAAAAAAAAAAAAAAAAAAAAAAAAAAAAAAAAAAAAAAAAAAAAAAAAAAAAAAAAAAAAAAAAAAAAAAAAAAAAAAAAAAAAAAAAAAAAAAAAAAAAAAAAAAAAAAAAAAAAAAAAAAAAAAAAAAAAAAAAAAAAAAAAAAAAAAAAAAAAAAAAAAAAAAAAAAAAAAAAAAAAAAAAAAAAAAAAAAAAAAAAAAAAAAAAAAAAAAAAAAAAAAAAAAAAAAAAAAAAAAAAAAAAAAAAAAAAAAAAAAAAAAAAAAAAAAAAAAAAAAAAAAAAAAAAAAAAAAAAAAAAAAAAAAAAAAAAAAAAAAAAAAAAAAAAAAAAAAAAAAAAAAAAAAAAAAAAAAAAAAAAAAAAAAAAAAAAAAAAAAAAAAAAAAAAAAAAAAAAAAAAAAAAAAAAAAAAAAAAAAAAAAAAAAAAAAAAAAAAAAAAAAAAAAAAAAAAAAAAAAAAAAAAAAAAAAAAAAAAAAAAAAAAAAAAAAAAAAAAAAAAAAAAAAAAAAAAAAAAAAAAAAAAAAAAAAAAAAAAAAAAAAAAAAAAAAAAAAAAAAAAAAAAAAAAAAAAAAAAAAAAAAAAAAAAAAAAAAAAAAAAAAAAAAAAAAAAAAAAAAAAAAAAAAAAAAAAAAAAAAAAAAAAAAAAAAAAAAAAAAAAAAAAAAAAAAAAAAAAAAAAAAAAAAAAAAAAAAAAAAAAAAAAAAAAAAAAAAAAAAAAAAAAAAAAAAAAAAAAAAAAAAAAAAAAAAAAAAAAAAAAAAAAAAAAAAAAAAAAAAAAAAAAAAAAAAAAAAAAAAAAAAAAAAAAAAAAAAAAAAAAAAAAAAAAAAAAAAAAAAAAAAAAAAAAAAAAAAAAAAAAAAAAAAAAAAAAAAAAAAAAAAAAAAAAAAAAAAAAAAAAAAAAAAAAAAAAAAAAAAAAAAAAAAAAAAAAAAAAAAAAAAAAAAAAAAAAAAAAAAAAAAAAAAAAAAAAAAAAAAAAAAAAAAAAAAAAAAAAAAAAAAAAAAAAAAAAAAAAAAAAAAAAAAAAAAAAAAAAAAAAAAAAAAAAAAAAAAAAAAAAAAAAAAAAAAAAAAAAAAAAAAAAAAAAAAAAAAAAAAAAAAAAAAAAAAAAAAAAAAAAAAAAAAAAAAAAAAAAAAAAAAAAAAAAAAAAAAAAAAAAAAAAAAAAAAAAAAAAAAAAAAAAAAAAAAAAAAAAAAAAAAAAAAAAAAAAAAAAAAAAAAAAAAAAAAAAAAAAAAAAAAAAAAAAAAAAAAAAAAAAAAAAAAAAAAAAAAAAAAAAAAAAAAAAAAAAAAAAAAAAAAAAAAAAAAAAAAAAAAAAAAAAAAAAAAAAAAAAAAAAAAAAAAAAAAAAAAAAAAAAAAAAAAAAAAAAAAAAAAAAAAAAAAAAAAAAAAAAAAAAAAAAAAAAAAAAAAAAAAAAAAAAAAAAAAAAAAAAAAAAAAAAAAAAAAAAAAAAAAAAAAAAAAAAAAAAAAAAAAAAAAAAAAAAAAAAAAAAAAAAAAAAAAAAAAAAAAAAAAAAAAAAAAAAAAAAAAAAAAAAAAAAAAAAAAAAAAAAAAAAAAAAAAAAAAAAAAAAAAAAAAAAAAAAAAAAAAAAAAAAAAAAAAAAAAAAAAAAAAAAAAAAAAAAAAAAAAAAAAAAAAAAAAAAAAAAAAAAAAAAAAAAAAAAAAAAAAAAAAAAAAAAAAAAAAAAAAAAAAAAAAAAAAAAAAAAAAAAAAAAAAAAAAAAAAAAAAAAAAAAAAAAAAAAAAAAAAAAAAAAAAAAAAAAAAAAAAAAAAAAAAAAAAAAAAAAAAAAAAAAAAAAAAAAAAAAAAAAAAAAAAAAAAAAAAAAAAAAAAAAAAAAAAAAAAAAAAAAAAAAAAAAAAAAAAAAAAAAAAAAAAAAAAAAAAAAAAAAAAAAAAAAAAAAAAAAAAAAAAAAAAAAAAAAAAAAAAAAAAAAAAAAAAAAAAAAAAAAAAAAAAAAAAAAAAAAAAAAAAAAAAAAAAAAAAAAAAAAAAAAAAAAAAAAAAAAAAAAAAAAAAAAAAAAAAAAAAAAAAAAAAAAAAAAAAAAAAAAAAAAAAAAAAAAAAAAAAAAAAAAAAAAAAAAAAAAAAAAAAAAAAAAAAAAAAAAAAAAAAAAAAAAAAAAAAAAAAAAAAAAAAAAAAAAAAAAAAAAAAAAAAAAAAAAAAAAAAAAAAAAAAAAAAAAAAAAAAAAAAAAAAAAAAAAAAAAAAAAAAAAAAAAAAAAAAAAAAAAAAAAAAAAAAAAAAAAAAAAAAAAAAAAAAAAAAAAAAAAAAAAAAAAAAAAAAAAAAAAAAAAAAAAAAAAAAAAAAAAAAAAAAAAAAAAAAAAAAAAAAAAAAAAAAAAAAAAAAAAAAAAAAAAAAAAAAAAAAAAAAAAAAAAAAAAAAAAAAAAAAAAAAAAAAAAAAAAAAAAAAAAAAAAAAAAAAAAAAAAAAAAAAAAAAAAAAAAAAAAAAAAAAAAAAAAAAAAAAAAAAAAAAAAAAAAAAAAAAAAAAAAAAAAAAAAAAAAAAAAAAAAAAAAAAAAAAAAAAAAAAAAAAAAAA//jFCABvTv/w//L/9f/5//n/+v/5//W1JA/ZegAVACfRgYg5gDEMaz41ZMgIRaGoJgQFkvuIUELjZPEItGy/CEuSySSqBWIooQFY2meYSJpOMWpAqHEi2ujNjTK/mj0QEJM9OZVTNnBEgJU/CFkJNGvEnuIvaEIJWYyZERDU2IRpyFGiJEIJageYRBJGbPWSVjxCVhMhjBL8hNsW+EOPYQQQ2ELab0ZIRCQyzKEmSshDHiBUIJBKBCAkIRTghLhj5kCK7IhIUqIIshFY1taMsLkhCVohEySGQIihljSECJZvkIFjzqQhLy9yEFiQIUv7IEKBEVnSiWSPEUxJGlCCETJiDVlwJEtKCHRAJdhUsLzoFIRWMy0QlUfpCUibyQIILQkggEQkQSTlgiN9zxrIlSJbEEggXSiUEEFkcKCRSHqEIwWkQ9ZhZLNUiQUxJJIFFjiI+CnhJqxAngRss0PJ6QVmLETLqEgoXOUir8QhcEaJLScZaSFtEgixIsINCa7ElJx8UU0bBZ3sPFlMgkyTISkMQipEoScXCEspCxlkZHzauhUJgmlAFJY8XhEaCrFsklFEiQwyKRhCKzAQscIClpRzpv2nhokJQELC2tMrREPPvgliJaTBAsmKSgwIYRFmJbdztSFZRmQmEQIhLI9EW+SDssLaRyKCLErzogjHkSyQipJLRMKYgiztEeRoBShCVQuRFFUI0yIUU1rUaIUSLphDIQhEiYhWKCmXay5sxiF5WE4xCQkCCoixRXwEqEUL4isEUTlE0IT2MCbimik5WsQUgltRPKoJpCIU/IgkgspImlhBMxHoaTiRBRkIRMJJYiCCIULe8hV5bkRJpZGjEyEQi8QIV0rOkiKX/EogoJaQQ0SREBgIGUwSIwiMQNkkgi9ZEETCExBIQWS02RSJSRWiROUhRBQJvY4lFsTBEkgliEEkSar4QmkRFhpzCK7SmXk6EiZRATtehDJ+aoIQOExcqiZokEzcRwmCSEeiQAEAAAwAmAABDAGMgIDmEpBvSSwkWeQSNEIRSsMhxF/jlkIRtrEIRAi2wpiEINLdMibJpiICKPOQJ5RRECkxvVqiJXKCtLGKckIxL5OUQIKgJVW4yEihMdiCDV7OSyP2jTDRSQiKpss5JdBnQLNiMRGiRaSmSElki+ZZkp/MQhkExRoki0EjkbBfQuE3Z5yZpYRPE0LEK0Ymb1G1+9t4zFkRDlFFNlgRRQRI0iILREQlmk4pQkRCKaRcaLdVH5CEoo0SIUjoyhosgkKQoSEIUpCcZ1D3BGHJkFczSkgmkIWjAlCIQsJKjRhpNdntUETLQXJaJQipmTw1BBWJCuM0MwkQAhSFDRvIRSNz96Yy0J0hAjpJlEAlSeQSeYiZMSATMgiKKJRIhLdJRREy415Bc/LC9FAgKtt+IqjSFiEKh4UAjjhhIpCYDM4TECNyCCBIi2oIoCXuCBE2PxRCCS0AjiF5VRNXLnxERIIECYauE9WhY0jMsRkEgksEMwtnIkGxG8LRb7kIEJKhIUYioQiLBwvxts02LbJE0SEqCEkQUtaV7gwhRYgQoy4vBamTv/ESBWroL2yiyREa1hCVkRWRRGOF+G4kkjYtRCRRIiI0ouEh8sTwEkxZQiQhRq3sR5adrC4RJZCxJmTqfWcQ4SmCFPinwhHh968oXCxIJBCNeWkK0aRExSeTRLLDLEJDITKR5AWElKWRxCWEQlyLILPIi2S9qI1lZWE9CRQR4LLSo5pEGpYEkIteQELKU8mkNQ+JqxMQl+xCQwhIxp3yLdjhcqZS0u23zm9oSRCIQRYSZCbQoTU/ZYSSKamjVEo8JM4khSJWExExQoUFpXHIshEEQUniJk0KW1OpZYIrAmkQlAprybE8qRNEsgSITJkCCkJElmKbKThUUibPAlCAiThGAQWikIFkVF04tLiKJUkZWESNlU45G8LiFBBLQVkhcknREmslIWcExicpWiOURliiyotL1muQXCjiVEJIRImRJ60nFUliSxFBYXGuBKviqrFvJAhxQCPtJroyVEaEKpFExCDWI8XNbRFwdkmEWIgkxIQwrJfmmSJovJKCRESRC4h9GykOktkSLUnUWkETkmoRKQkK0XMHiTTSJHJEhIkFMmhSmiWgZXX60jSrymIRqioWS0FDURFioXz9xGrrLZEYlyLQopy1alYl1gixLekkaJQ9DCRyJNLiFYlIsihkU3biuWliNKxbyvaEcJoRiiaZUJsllhSiEhCIJiKLlI4pRWSJqcFkwmo5evUUR/BcLUIy7umixcTEjYhOVCdyoixGpiiUS1kUSiJZLJcUMIn6VxXKEV4pLRbWlsLMhTJElWKylP/4xQgBaBIAARhqTJJso8hBwXnpeJpfF6W4pU1OL0tzKFUROoYna0nyXNPEjJdtKfEV9kTlDCVNjC8nI6eK1ccIuFtapIu20cuLR6bIWTJoWyovl1rAkqVZogoiTxsFYoyNeFhYlf7IyIVF30kFJOaUTSbrrQUdNoxdN62tK/pjl3JoRzUIL1J/LESZb/6UFTOkRJluNNQkV6NZSXNekru2Wiy9Wq4XFPWlkYvTA/xIJwKTUaHIEqRSkIVJQZDOkiYRDRlykkZEkVqrLqEfi1J/mKkk37KXJbTCGdbE7VK4rjgWliG50Jl7uXLpVE5S1DYs1pVeQt9RLLQm+E2LjTaRk5NXlC0VYkdlxBDWcTSkXlZJiTWWKxDarVxUhrtMUYqkxLlNYp6bmQqd3pVJkuRkU+BMhkOSlkiKsmjRiLYhciE1xA9FTBDcld39ZDJ/PMiTJaT+yqImy0tNHlWjUmmLJW6cqTThJ2alLBbN+gpA41RkKGERpqAQoSahhzGGG3gbyxycnEgm6L0ZLUzyy5HkZGlyiI54pdK/cFZKMZhDi5KUOEYJMQ3M2EzKCQ0khFo+U1ZSNq6U2E1qVsnxMjElJbIV4i+ThMhLSo9WT3I5rZHZNXLErsoXeSLaIlJwkjq0qjn6pXeyRGUj8pSayp4pLyyjpCks6UJlaGRrXa3WU1c1ZTFspFUkSlOhJMiepRfItSlqnUROzkRnTIutDKLpLRjkjJabKjKpTwvRrucEa68jrRI5kbaxbCQrZykXEhpfoka+SyF8cWROJzy4UrVNKIe4urU0LtLJetJlVyQ4omiaU0JRfFVipUUK8ma9SJNx5MWFGLVmmtJUa1FymLaEhMyss5WJeT6lRJM7tkLl/IpKZ0mkL4eTVZLOy0TF0R2tWW0WOWU2SqLhHOkpiK1N610Kc2UVly9LJ74taXNZF9JTSYIVJlgwzKBdJS8ZTKRJDCiEHIELL8a05V1JZT0iiuiHuSBBivtIuUTNxaJuIW0vEr3XUUtn08llxpaTUmtJei5q1ofk1qlEl6OIlJkizSKa0yfifE9WS9lUhXtCdN6l0lIWZLyrJOGl/IL5CUUTWS8hl0/JSLPXVVLWW32UrjlkUkLTUuCZQtOFC2ieyHEi+fXFW75J5XI7LpTfLWNUpafEe1WKZSnFlRJMS6Fy1bvJDJ7TFJJq2hzSJUrT7FospyU+00r5ZUolyIeVRdbtHGqPpYjJP2CpC2VeQRa0ysXCIxnZlEhvnUgmTKZKJktMzVFHWi4mLanarEU0WrL/8ltTvtVLLUiMJHJCcuyi7TmOXLS2kSmJYiFDJtCZLLYUpOnetv7f+5CmnT2uIuvTsRZVTCaLElwvVp02ITiGsTHFTSZbxf6TSOxOLv9i8i0ppyF1dSHSFfuKxLejWX28lqIrCNCWURFJRi1qxRBM2XyRF7ReuFknQs9zU/M96FKyIcQEZIXIIqd8YZpCDBgwQBGq2ZEGrPtVqFO7GiRbtuTk+Tkj1ur0sPVtf7ZGbkVnOAbDRDsqHT2a1lX8lkaRvZVREa+ZyEZelK2o4k5nLMT/QsfJB5r1Cf39d3ejyEyUJljbJQSMye0ooVUFbE5p+Cyex8ArgzRyvF+f3pfKY0xqB6NGVBS40RWFKbRelO2yDM54PaqdhxV+7JA2dj88na0cwNd0QVHAOacJD0M1Bo0Dz/CMy2fFU1Tplm7SxMsZ4RvlArHT7ClVcut9PeO26jN+L51iotQT4tOy3RMGWNCmG2/DdhpRZDd4qIA0gAOAAQsMkBwlAmAOVJOhScRNUnLrhhcIbslw1nRd5LRNSQLILUaIKjJTcmTZV9ATkFXhU4eoCTQosqhWNZEiSddHIRakkmmuhbQVSYlk2d9rf2Gp0/tQV435vW9LuMdu7kmhtyaaHaIvn/836Wh90zl0wct+iqjLlMxum6wt/L7L415R4P5xRUou4BBJoHwAhYiCThBisHK1CIVri5+d6vIQGhbq+HQQMPKTIo/REqFIa7FIjlunxdToN+SicgjSa5O6DPY2KbSUNuyymV82UynypwvbNGQ3wRWM4UIUCPRxwowxYj/5nRa/O16zI3p0Q5AdcXwQZUP4Y6x559FpYU49nPOyuDuS2jPRAElMmiREs2e0aIcA+2dn5COuOSqnJKdf1bbONXCyHLDydPIYOQgcKHiShIfEAbfWN5DVMFfZ3fz+KawIKQ1BvPcKO8myBnEY8JPrqfcUd5PeJwS3+wtZoS3GVx9wJ3hKoW+cHKlT5kWaiqkVmin8uV9n+mKqj648kNuDpgq69Q9LbTs411q2NI/ezK9tchITYbzTP+Do00KKMf53KhchGW9fS3Ubfr+k9iZ9BGtB9h/N+FuaPUTtsycuj29qK5a7v43fdgqWuuFqNdcUgCC6YWRtUTWkLTRpG4WiG6Z2UyNiJN0JY/s//SlwRcGcDGMTaVdN959xUyV0ZY/bB6PY6tO3zlc/iOUW+K0YJ+aF4oIqQ5LGrJWihN4YEmgbHBBAXIOonCnCHupZiW7sg8S6GPkkZWp3Oy3bbhJyWKkXqhX4nhGdnhZYgwAYQJBqXLJdTfK0zLHdX3bjrt5JhNR5zBxdH+rVdQvWyC8mtbG/L6VwOYQRh/IE8zMxfULIBia76jP6e9eKudV/vdx4NabIsOJ1Spxtsraod6MigSpva2n0/zIPRhVkfsmeZWQ6cQP/or1WbLzYu2e6j4n8trVAzbE9Z14zxUAbRdbnHXwT431xboibEsmfbKnUMGPDbRUBcdS2V/qbA2zSdVPHSBUkYf2KkmaFJZ+x6H90O+2h7h051cqsZ1Y6Hjab2g/hVCNVbRKdZ9z2sHGmfQh34F2zr1LMf/DiZhZHpkXKcy8fBqBIOczlqKbivSmeyppZdS1Uxv06h+/85LKSs8/EPixuwJrCODOT5k1/CtkEwIVonGKm+ixp8dJCqgWiGMXPn0LKtXWxTX44moHnKRXIdeFtWZCNdwiQznjYrtNB+/eQGzxPoWUEYjL7prVsmnMKXgKGHIOBPMpeYQLN8NlM42oL6F5KQymGpfasPyanOdm1pvA6JBPcbxqzKZoIiXbAaOQ0erkOHD+eSncx7RQ4mfZNiWvCmCv4sxKMv2v5wzK0RQlVGM4hgL5nM6Er9hcFy8ubxSFP6lgW7Hk1RmIahmID7RFI84qPPgG6Xbvml7pmORqIS7MekGXFriQO3nvGa5zxLhc8GFjxZQ9ObKslUNdApW1UX3MvJ1oWYTMpmujohmQnnpBKkn9h/jpsfeWxzaVsbo9A8dBTCakMC6sAd4KVw+6hSlSGZICk+6d0ZCW8xoclPXyBhuRJNLg3uTvu+XZs60kZ7jOFYyWeITSKFTHkIZwUcglLEEdPrYI1eFPgs6O8nJma3NpkCJr3U9KXLFOyfo/QFJi77MNnORdmRZ1KSt8U4eLqim49CIes0su1JL30qJIiUMNTSmx6wTlOEPzoN0i5daIZzLd2+9VX0ycowOWsiVfMBD6GDxPi872sij0hmHL8Ioq4/7miwMPOq1aOX7LOUf2ypifdH3EGNHsahhUa+/RTIKxCZdJmun+G1cVn3bzWfdGpj88ZFG5VCTLPZGQ6KFbx7D/R7ntlTxh9i6MY6rgVWyiquZviqbjPXyFzL3oRJgTJMleThr8Pwf/3+RQv+zMKD9MjQczt5XDKtVnLUY1plZZZEVdvX3KRh371hEGDucMum7SFGjWdWC0OG3kYWeGMQTKTHaa8ikcqCW7o2mh9lPJJ65DRP2QJJzCs/BEo5nGpNJSb4CSRwFT3//jFCAJhSPJ441vaWdjp3v+0qMSqMOYUCWizGJQkb/kvvsvk4YiHv+OCkDIE4QshgkpJSvSCSQ7FyFL364ZHZCD4pc/du8e1jISJbxpusHFWVPuVoXl6LyDzeWXvFLZGJjbwN5IJGvAAZEgxlcjAARMBQUnAGmudTI2pjd4mB/5A4JmM5g8BDdgGAvS0eLMMLaCIgTBrCNS15UUOxcZmg98rCkROIEM6fWV9Xgu+RVcGQFUPqTlp0gQOnJo759z/7AJemJTpJVoTxCX6H8vlPLgiHvimPdd+1aVo37XLbnzEjtLrQyCwyMUiCgQo3aQH9ACAmf7SGXABuggANrBvJEYQZ3XICU2XpgPGMwDhQisUrLWiVojy5xGRxAWAx5N5GMeQFZLi067DEMwTok07dHNod5oVb4Iy4NmeNWfR2uji3ukeX96NFZego1HOAuUhrUd13Hzsa+xh88oAsBECidr0JXWaohbmSzetekOhjIlcNRGzk0mXABNBMBTs/SAJGGrO9CVU44AIiaI6wylHNhFMDCxPp08DUnxCJEDLaQ0YB02kpxcNPVsfX6WB8utmZmzkuohZxYMVQsvBv2odJ82cQWiaj4CR9VmG0TTcSUJAOqqErKjUo+/DNpQbv6Buq7TA/SXbaOjTw4vbdtQjwKt2ijswlsFAvBtUKqAd1Za7zTgFNIgNNL/6cSAZwubiU+pZ+jiRzZTvcy5NaFu62ZXU6Icx6GdmXhjmdelPfO5dWj3VUIpZlnPonje5+UgvkM2+qDnzMIwb5rw5tStmcHHUn0nwKxNMRCw3D4Q5b+IRjzmFHY9ApBf1uKtHjVGxXwcNrjNPGDjMTafH6AEoATsI7kEagMgZ+tGcs5O0EdKkXmXOmPjEwmUoXT/LkKPC41CcQZ476trwU06RTSavGRmR/xd5cjlf81Luc++j5eo6lYDYPs3pBSCrO87IPNg5eU62LWX/6/O4Y2vub4+yliDFq/r3mIKgnPMd8OH7duHpb5YXmKJW3itSiRYtjB6QF7C2R1o5wF3biXaYA9N8Q+4POBdaYbfdQ/HMSyeF6FD3b2gbvv6nCJNFkZFjFFmPemhUN6ygzaudNIvsbS8MQe0Na6XFDIq5eloQVxhlkRFsG3dUiSAaXhTosXjDE4Z/ejZaki2Nxr6XLq62HkCzBOMvKJQ3uc3o1IvKFQn2NpC4G9HzwPSBMhCDXqSNwnilAN0bQJKOWAyDxCbnvChEfIbyJQDskL7ENetsUmleSrCBQr2tAKtYMBMOtDE6rM1SufSXXd3s4Gnd2BfnC7XrXrVRG5/CsbR67V61ExXKzurSaWI4p8F/jAVvDY6V3YqUco8o82PlXIzff1VUgKbxuGLLON8nPNiVpzcboCx3WQ73nyPQ8GI3fZyPHQHz0TnNkORsQvw+BSfUzYwb2jrFIlxJXGgR8SZV/mBmZ7AFatfgGoU9j9hF1mNBh15kVbodHG/m5w8kxH1Ids2QZWRCcciDsYenWAr7CX2hEauQkb/pOGHijSYlZ6SZtG0zPzdCKCs3Xk7Pm85MqsyviHB4pa75bU3P7youHP47qQg3ePys/9XxoFYJ0SteVnx6TqsVGio3sKAqYeLtrhhr3+kIyarUjGTQmLiLsmOFkmtN9/rMzCNbshIlgy5JJvD2c/XaRVvWGql6rQt/vZC2bDBVl7imkZK/Y/B1zQg2ZdJKp8Gky0k/+mPpC5EsrXK/zXI/396hp3gbW46oYeErccqT+otKRGjsw2EAWgsFoAgAa9a7BQXh4CU8PK6zE6QhZTtjW21PHqqDE+rSmL9srWCdsieaI4ZKfpucG1Hks/rpR/TVPlGZt2ZV35hGqRZQ22HLjv0nnkvrV1sP2iIkiwPa4ZvKSVBGL0V02aGkJNzk0WLnl+ESyIPy+uiuihu3BsXaJH2JmMRYF6vggs4hLBUqCPxkMeNEggNNUpXpmCNI7OoOiH3T8fKbSpjSqKc0ajs02lXkDiyGVbWYlypJKbtlgWX/AwZJPxImIUIsYcxFgzxgKMEHKtonREnUgLYKMc8d6Z0TJKde2gzBJT9q2KJraryUm0kbiNKeo5wxNZWYq920/YxBNJBTs2kPUhRvDRncKYkWRqpoNTITThGIuRKpYtmsdM7FfR4Q0shxnN2vFMLVczxnCO2CbG612eqa0SUhXKMVeZ3O9CtOiSFooJRr9nqOvkW0LW7V+DyCm0ErffZVWYXRTvIiRO2wlGWIsMlUuEiEEjJCHpH+ag1wl9GoWGeEDjCKjbTBL1D1gnXGOcYOMRCWt23CYMINpJLesokcgw3iZVShePQ9otmo0lFlL5AoICDkEIpi09HvFiX34sVBwpwrEO/l+otpj4j0MKDl09BBPpYMh4Q2k/41HhgaOEnH//y5xcQrZL78W1flQ22EBQoyqICElsLIl5qd8lTTGCuOxk4aUX8c/EnMEML62rabzipS7KNUF8aIaSSaCcbs2KJLLOf2k3/H+S/Un2sjg7RThGVxaLGlB/2Wddwco77qnL+cYwlxoUgqbdUNskq61JGHax/L4JEiWu9WOwI++0R8sJ5H6+tno4gghhuc5x1joUvRfLKShTDtkTJfraty8uW6y4WxJQb5d1HeMcdjLIpKC9/nMlRlCpCLcFeYido/ZSnJIzvnqjlo7jUnrHqe7UKpMCXD09R0McQdOmiuYoIRTWtQ9RIreKfm2XA1QWndXspq0b8Unktk9a27d3Dl5Vugk40cJwTMVB1jOIj/5v2iiEmQRDL5Cke6U4N/8iEqJIJTsRHl8NMwJYWRfXlaiGLY5+atFIxiiuRTtyCyjRAscWKhymSIJIf3CVC2PQWx5SeyTJVdkPo/e+M+suf6lTieScJDi3d5hpj8Z8Tert5FKQQ5x0kGmYJw/v5vJRvVzHUcsqU5tw1U3neVsFVXTWNYmJhM7vrTd1W5i2febVxWoRpPJL0usRvYcR1ZrLavHcNYWY/qk7TElcYPYWWrIgmGkQqlOFH7Y712XUkzpsKJOjyqM6fEhT4FeZCl0JdKJIiwakq9dtTbfwOUhsAT2ofC2BOAEkXnkXCYAksmkZrJ5812DmtqOp+1KaLU3K32dsrRtXNYi2adZCwTFeFoJTDnionyU2yL7cs6lH4icY5jHhbxyLbYXRsG2di7KSAv68CIL9qp8NKD+yv6mfs1JFmi3ViPF0onhHWIiBCwbjyG7VimyIJqAWhg6Hx6DkMoBslbhSZBg35IUyfA0NWgT4OiCEK59ww/gEdbRcmF6hKgSmDeWlyaTpkq+U2+TkceDSRutw68/tYskn/O2bCarNC4wdeThDLSXX2Ri9ZM5SngGxY61o/GvocGWMckX1BqqDPrqNlGWkLii+01q4TYVq5Qm1JLNaK1iUM+pdIjS6rzwyWPjCskDNOQ/B15O0Lyrq/cUXavPqa1dbS+obC1y71Fjj8Ij6mTtDBYKPcXsvVeE713kElHJe9056yXWEA9FnP6F2OUaf1coaTFKfaQhVN2XKJKLGWQ0USO0o1eL57AtiFH4QeFYkpfM9ZbqIQac1Uw9yiFtcEx27MT7Hp6FVcuUxNoViZeqHevgwSQ0tklC1XXMhy1M56XooovZUQ2HJHPGE2SK26SkcigaZg5LgljFEmimkZe5UTPbmUxrD4g12o1mFhXnNOmMjqQ0IEiN5BHLRHLUXxkQnimhD5OvrI9iaUaKEq5JRLuhU2QvE3kIara0gsV9ThUxmyYh6pUllpdMbZA0jWeqXaY9XmIbW810RBl1XUs5MQgmvZPoxMuTZEUhiRAsjLhRpj2TLlNHGkffVYgtXJYlEx3JIaq87I6ZZ7t6olT8R6MS5Z3o6iLc/tc3IRoglSDlkYjMxCp6a69y2JZPOSQlSliHsyulhY4shbGkQqyEs6c7vMSjN6cRcs9V4rsRpSVUlHLd841Ws8xohbpmSFq/vcmqvMSzYV6MqTz6m6vNc1F1KvMJK3u8jUer6jFkLYly3XLmsqK6rIeU3IT32qGeINCho4WRrGmEuTCm9s0i1WiVfLHoprNqpyK1i2YkhKItls9izBpggEjiXTKrswSKeqVRioxKtm+LFEu7MiqWc+lcscTmJzelVck7+105vLHEsWV6OWhkRyVRUcws78hH268WUaIa4lWU8YXzrtx5S0lGmRrj8gGgBIAACAGgQJbzBwBacOVhyXBIkQUotJjBALNJHOvZzm4SdNlexPpIpjyLRC9s5pi3JRt9/f3TXJKW5pBLu9HLEai9Y9kNKaze2KvKWy8pHq9EwdxExxIg0UaR8ue5aNpDTiymovEq9HkJ5CWR7GqmHNIaYWY/Mqoz2blVHeprvZpBJScy8sjeU105FVHRms9GW5bN7LQ0ceVds9iUTR1kwhrp6+tXq9yyE505jRxpGoWY1HPECSrnqSy4q4pZFrDAaHEowkcBICAeFCSNzmlHlGlNZ/VqqeIf1U0hNY0xKNV+XV5mkPVX5M5vXm8kD+w//jFCANmQv/3//e1PDYzildtfN2E65lzklasi2JZGm2iX7KTWI0mTzNHUwROSrn6kGZsj2LN2IZnIXnNENzfSql7DZjp4roRhtoKQA/ABgYdQYhTufsBEsGLWGB3ITWGRrTuxM4xLFaumkaxMy3JXQjoTfNpFrTtYREpdEKjI5GanTzmu2TS9nzVWzNC8n/ZDZlSX9E8JEuZCuYqOMqEbPauJa00YvJ63iZ2M9SKxWzKhFJXhhURWjUm9lvzaDW+50jIywlrLLGEYEMCkjKs0KUlyyGIjKC4s5YqLELPqiRMvUMqSQsI6hpFQTWdwkUtMUGUvAuwwT9BYXfDFjioteDATLTCGQQfAJqOqagmCGLxHGFoliOzCGJBcp60ENEqDFEZQWmBDa0sRgpxTKKhgIeFwSNGE4kXN5t01bpySa6LtITkuqK1SchFQpqrKhpRHQrI5JFEZbJxDtkT6dOibXMstJLtJ6hkKhis7ckuRU0mqIXqa7XebK3a1oi70ZdzPuJ5OYqEVqlvbW5O3S67TppOapNES7RqUI8RtUIuyxpOhlI5CtlNWieNWcRSSp2Iqka6JtGlakqVNpkTaciKymU3SExUZC5uJzKYpOzPk2yKMKTSmick3ZOkIojiVFaJydjFRJiHGpFpJEQqkRrmu0zNY1Vk0oxXCa1qy7NU85ukbduiuJdxPkcnZ6xmBxqb/iJJMqaaZpdkvbTamtjFZGKTSEcn0xVMokcjm7cRaksjVMqWIuRLG1VRu2jfRBQIFCFbIR+yft+ZLRnMWVNdxNWVE/apKiWJJU3J5k10ZU6XtoKJPEnaIVUnNCE0JfjIRiKFpBkk0xKYjBdxd2QnkQyUaJaIwsYTowKKX4jFjEFaZDC2lKWZENCmEk5dsS6k6EyPEQGELnEaqUWxbiZMTy8vko0LXS0eQjRS9CBgXIjEyWl8BBkVkYRGFaLYhWlTJwilIrpghgtMllDEVcKyjIpMJjAqrksIMRoJpgQGEsmMBFtwCOlCO2ohSphGmUL1I1WhULC24sWQxZGmhOGIEGWRkYTl0SeiNVxZkRDJ6IQaoMBBhDKJghsRijEnEaWpqaCHC4jEGEytJOymEYhy4qzAraUhgvVFbRGK0hiiBgCYYAQOURi0jAj8skiaoTSymUScU8FRiEcqXhZLXFhNEJ1E0hYhdtCZJDAk2rJYmiYhsEyKS6eixYhyRiLkxYmwojI1IkmtMhNOQYL0gmpNQsrBemEQYVricRGkNkjEcRBAYEoYkySWKRGLZMJiRGIQYvFJkliSQgxSaiJUkhGpFWRbQLRZFpJFrKSyMpEMJgRzCWhZSJElazJrlSRM2XS5M4R0bduSym6KIUYrdtspoprkZUhDoiaRtZERn0beiZU0SYk2SbKnI5IRUm7MWMw6JkogwUEaIjBGLBGFFiYiYgmVKEYigTpKmCpIktFkSiYhGLC5gEeS8sovEMKjQsQwsuItBbFgpDEQmVaWE7a1GqZLkrNrxJU0McaZRDib8kTSCPCKmljKhQR8pvZkXMdpNZpJU6J9IpLrGJrQhUzjSQSsQ5ESkQkQl2I3uETCsZCkxFa6vOMsOJ0d/GcvZXr1F89f5episnjKoim5hm2wgiYzCGQgyjEGNjCCXGIIiYEYSXEjNqYkPckc7vK+U8rwRTZTRRXbZfXfIlypFtsi3uksYieDwNDWiASOdHzvDFolAwCCH4LJMl9rLQ00Q8lNhiEJtPcmr5ZLSE0GlkKRwlKN+yv3M8Rnete9/Vf7O1X3SLZN8+fQdEx0RGQ2P/YOIGhoBgeCRY1YIg6ZT3ZgeAkDA54lq4qTb7mulDSxLGKSlKt9WlzXoxmsw9YgQPcUqtbG4peSgsg5T0GlNW1as7qTkujCe32+d6ZKsvmQmGRs6JgmBUFQiCoJxCgGllrTAIAqeBunskAtA9KQuBYSNhcDIUOwhJdp80/ComSKvlkna2xo0pZzFxleptIvqWPyomy0VESKjOrrZDfZtJjs4UUdzeQe4xw6ob46Z79oIbU7NLylXv3ZWTiUjOSUamb1M0LpaCoDwFyQW8sxCAFoC3gBQoCw2fB8BIUCUFInjkxt0JDg2JGGiN+v0Uba7NDplMlnjzU3pmhQ0OHTaKbG2OOq7ziKxFxGhnmqvmq6ympdr4/JIJqqrWpS/duTEjekL0neisdhqMVZQPoWMQDoDA+C+EsZAcgAFYXgkANiRcEwBUC7MJRWzhrS4te+KH5QUsVdbn7ELDlhPzZETY6522scFKbNka49KlT7flSpaDznIFSLMoULkiPBm0YVaBzv0L0SfEn44d/qh/fqPzV2tzU9aW3mkpxzs5Fs6kwHYXiuQXQES8CmAriOOA0U/Y+AVD0xk3vmoprfZQljZURm71533lKWm20ZkyRfyI2ySgz8Wa1YRkhMpQJcaLlo2JFuf+So3WigJUtRU+DBMU0uR2wXeN2NMp8U1N55cqiRTCy8fpzFFnIwrTRnVwzAwZw5uILgMnMCGWRCJH8IcQOgKjt3zpDpHb3+nqpU6yQzXNch8RkMp3XJc+vtV+ftq6nujRw2yfBCZ+kee9D5J954qZuoSIV7dF1/7HSMk6cX6Qkp8XtFQUmJf4+0dnPZX38zeFcQVQLHoKI1hCAWn4C2CqegHw5AwgpiwAvCUF0ILABKEDiX4JyGpENJVrvkV3LqIQpzXIIm5ZJKQ4QhFSXQ2VSyykwcEZlbSEFIuMpN4H5kfzD5VOG1BqJiclTHr9OLtpTDw4qiuIaz1YWgkL+9x8PhsZhJky98a0aY+3WLwbS7BW0ANYFEK0F2oQM4egmQb/MDwCKe4z6IKoUyRIXdMZ+VT1z9ri0fHFj59P6uBsIVpz/4kulV0LScUIweFZFsqEXvt4wFNJRdFla1NZoFt5tpSHG+6wyOrXqXk8o9voOWTfzHoKTiazm8OOOijcmn9xa9M8zoOSp647IwiHOOn5nBPp8Iyw5ajsVUYX7nWEQoZGdS+xLIwpP7j2S1Up+aFyG/RzLrziYJGqTBMLcZR0tlKZPK1Q/lmreU720u2YoUEwHsw2X5cZQKTMm5sJSqRu6n+ORSD6uf7LLQKMzanTyETmB5bdSPZ2myWTXvGrun5aBpm37SuX8gry3DQm5BjgP04QFvklkloI4oQIfLDLmHRWgd+/tCBemNNxJP1n0FBQO5VW9wPQub7VpyZ1GgQfkuYwl+yUs443qc+LKSwlt9uXEXIAQe1eVUcJK1FcPr4xtFI/b+MdzRbUkzTotGfonyKetp9FTKp6Yv0/9NWsV0KC0aIUUyQDcuFbWwlAtAzb/6m/0HmI4K968K8C/rhGesNH8DUFvgwdXo+A8gw0NPwUvJyxkJ3uEkqZhyKlaAVciaFJ6mWP+U5Z9I014V/VJUVqQtsME51Pym0h1JM0v63D0m15esyYRXnn6Kjhh0PtVrVLDPrdS7TaXE+RcvFE/3JYxMkdI/afx+7z4qS5NCiYXm7P9Hqjk2tpVmcUkNalwINeQBewI4ClwS3FgEdIqBf4CS5ADwGPBdIev5w6QtYncoeBRMDUJeSXbCpmnR98cTrQpJmv3rOqp2b0UFK860Q/b5YTOFkubaQ6Ra037RMqEA5/D/+MUIBHNUCE4LUw2PDmkMLgmvCV8JggWm/5b8EbQYhc8cD51wIV1z7/MHJ6wBYHM5cfleMylCfN6TmlRz/OkIVLnFqLJRRBsMoxg6+9z8nx2w5+Ui29490lcDO1J3QFnQH21+lhBohbTi78ZccFGZUqGYxwXWTL0J+rgBdPiZPUGCIwinSHre1SVrM4k3gqJkaJcKVLncxy5KS/ZTRVh006xpiLE7SReSGpOleNphjje0N1rRuKZKoeFHMdrgVL91LWrKzyyHpB1tPto1rtvy/C0G7/L9s59k7X2JGkBbqpS0gUdOEH5KHLDiuIN9TZFx5BYoxeHsBefJ758AQKpZiJqFVvAgvjvu5yD9eqfh1/VP6fhwhjEmzIye1VjMG8Xo1LLmQpVd+akkaqGl4p/m1ttWNrtm4WgCLdZxCNqiny/aFsDciwUTXjHSQ8y/OmcFkZi9Ar7UG98kF8paYkBzQMBo0MaGnKSMXMYbQAh4aaTO88JizIKNFB2V1XD32/FhREVaEcl7EZIrmCc10cDfW+3KzSJcNhfjMwnbOdSkHXVUSXKkJz8ljdNSkCRKAzbQuZjSAZOwz3ZExZC/wWHmMSzNgnC7Dfm0Yrm8pT3KFhsHgp4cuGnsHVabyVfEoJgH8rxy4Bjltt4JrOqFVGOA3f3DjRfHdhO9R6FCdsUNuldEKNteEy53aS/2gapaNw7x8wfJp94XuhxuDRYYze+IVhfSL3S9ELepojzPJU56Ruttjx0hbflsEQJP88zxgsq7VBaUcCg7OFJ2TcugZadzjUuD6YiZGwMX6QKEvGcATuV59gCTkcoZ10V0H8BPoj277QOoCT2c8FiTHGaumWZT2hr/GAIzTWwOBCXEr3EQiTITNKe4wsoSt05O1xBEywb0ZpAWyWpEzxpZuTHqSz/AG9/1YX5y/WvtcnYdbbBbNd6GiZX/0J5lWKSL4AmSfJ+ETX+Rk7hRnsWgxTMgTyKgQoApQQancgoaQQYAmlqRwq+ohEEoO1aHcMjwpbtXiFnoSUYYPadYMbI0/PEqA9zbsulWRqEgyxqXpfKJvmp+Ei2EkCPVTa5FsxWVo8ZbbrNx1NqNFTL66NLjrGe+cx2mdvvfodGIT8vA57dep07VQJwL9B7i024nAA7B5g3/Djwjfj1w4s4QfmNgFw38Uh4qXK2VY0pAMvP1Yt0fFrVp7TnBc/izyuAuzu7ehLS/Xoi6qqZixrykjaGSR9U91VlXnZuzXNLFQr6sOylumqoeRXqkKz1gs4+n2qK71VSg9me2ko/qKjdbJZbx9BUqrBbwCZgo/HEwNusAJ3R/GEEab9FwwAdUnE76wzBghM1RQLTy/hl/jdVz6zq4mkh6FFFnKFt+epaX/g7m0VUdRNZRzR3LPcdXXUPEFM5QTo8TarUlk3XKuMbNGVf0LatByKnEje3EPk8vBKxMLO9zmGTTEWOxHCGFBNx69e/YbkzcfCipI5Oi729eZJp7EkrERMcH2Wcp3iRWsDJMuLIEKZ9/iHILnOdk7+M21VFYQlVkbLW1SWOaR1V82z9D8ssRrZGcETbBscZKn7F/i3VEcuI7p1mb+5LPlXWTGLtjHE3pFKORHEISE/HivYVq0DgxqJCRMZzDJSRqqqxwVDkSaryuIOfzRZ+aVnmnsYFp2vVp3mJ+RucDVNY7zEO7BQrqKWmNLmtsG13wM/kSEdLpZG8pw9PkvzxBkkUxYKJ86J3mEgVVrIREbnxRtkzw3RNEFEpMqP0LfrihVteuVPFUdnUKnNYg7nlzVOzhDqJ+t6OEJVneEuQQB7FcYRM3mSBUuayTb05c1Y8XJo27xK+gBH0sS/RNt1hicawquFGnp1pI19+hPsMp77FN6eWMmgwDChNxA4CTYYyWCjIgGWgQ2MrzyD/UFxOkQAoDHNl1iXcxAIrPwnNlrmTZhIU0N5Vmi3U+QTlpV94Nily6m0+EBLRREC22ZSDZWO9PX+nHoXNcFqmrWjEyPHRvKDBkrEfVcd0H5BXyKrL2HcCVNIJxJDkJ2XPw1dh0FWP6BUFKMwiX8JZipypb0rq2adUdAsVvjuQFSIVHrol+i6/o5zOZZLPomWI+knhNihrMKLJun0Ie2+AqMVoHDnEK9cpKqS0yYo5qwXEbUWtPOEE43RXEUPYTmrnjtq3CV8ktFWBWNkRJ9MJF7EhdRK3r5ggVzdT3N4ynK0JaG7myqF9WDm9ImymfEpCncjaYrTI1Av4sOL6qj3NScMvd8jtBgpxW/G3HtBNRtQce4EkPwBFnvCKJAKYDIsum7wEnD/itWsCxWkzQ/yc8DO6trB1Spxgap04oIFZjJUy9ko+N9zVKsKmbaslGltVKtLU2umbohaqJr+/1UEVtI4ezNsT3LV7AKSWUXdvx9wi4dkdkpJDkIBLsQMEqDDOD1T7x/keP8sUfYwBNuxC18uMj/rc+orpEKk4iHQZro8sVti9FxxWDXlAT5GkSiF+UjXTrpahuOBc8/zFpYu1etG736/qLqlJyzmgW8BC31bkGA0AKQ/I+SJJ4FrDF8NDI4FROAWQTAYLCGW1lD8iO6gU+QyWSjEMeKJgGgukK13PVCDSFQoi81CZD3qRnkqSSwfzuMFPoWtda5b88+dwRFU73bdpaKqHNBlQmLtgxZ+jzAZxL/WEe2AuYPimHomwltQD5ECM59BzKmX2jrlGC0v6cpVi1b010Z4lYmXuinsiJNrpGk26mWu2FlFCWIiUVvaKpnrWp/Oz515ZUPnj7xL13PuS8cENGD+icnNOAlQZhQK23Wya8UET2ObakzY6gryPHwUT/054VUkCQ07iN8fhIyzMqp32ipAklLZMXAie6vSjJQhdVhfGqG+d5HJ9mIAqZv/YkbW9U3cVZ0X0N+MyZkOajR+ACOSMCAiiFWICAVMkLxCLDSikgkRIBdK2TI8Qlqzx8SbihQ2qVochGcUzCdfTZN5tor0lIIwtPFUZwHiQmNzEXjjEGheBS5L4csrFkv73n5pHWFVlqwVkKilofV+7oBIAuQg5QydPwH3CJn5GGvHhZYRYUaQV74aZpyPvcYgmce9zBOxmXOhKpUAkEMcTFCcfFGk50lw8FmpK2cIt1ORaBJpy5ESnxsGQPK7GPlLMu5Z0QVcFnQGrDIKQaiIXzl+MckTmObNtIyWogXEFq+PiOzKYVUtBR4irSmCPSab57JnQtS3ZMoisGM3PvTCQP99a4uTKaqidqNIsbfACD4ga3Gi6qODYsqMCzoV/TgOYBWoeB9ygHMT8AREQEZYlTusKFsZqdrByjMCUldR5oHkY3/tt5mEL2ljSfxUuAFaIYlw5og0lvIh71HsOcuKMHe7RIn9+RsWq6tyPXZfn36q+JqzQmLCqh5y3qUD3dAojmoUTc3YxJqa/fm2SsbBNigWeteWbv3fE09VOiSzS1KphT98SAp366h1hLoj40XzF24UearFGOZjPTulFOKL0S2pe67iioh8TdhIf2A+IGCAxQAswCUnbgIDOAERAMuNWC/JYX+pBKmKOSji1OQOam7IBJqw3Nhv6dIjsERqxoCYBpHqcphxRDIpISukXwJhRiUKwsDTUymtGpyn+5r5a17Zz9z3DEROGEDC1hRxhgsQYxVpULieg5Ke7S6gV+XFLW8LskXEY1khNNs38pb+Ipm+dJH1+FPesiBTYp8X9I3hQDu8B8exy912XEqqCvsgq6L5rOt/1uZPM/FNk+nUupd2lvAxtg/41oFYrIRijgMrPr0Ecdn8cPo+79+bgW5r0L/xYkYg6pXlyFLsWbbPV9Uk3pijquauRi6VPdkBhb1soLS4ix8qqVciIZn2dKEP05vuh7qlmTSN08iJ1TDcSURWx4jwEMHRxxZTJwTrdEcENZApC21DcOj+FkLIhhPovmK8TH2eJwz59sr4yhfTsEmMYpujMZrHGYt6B+DDvSt3FJWwu4uXpOcMgz5gqwTFS0Uanfun/eXRYQZUbcCR75eGdkGMlM3SKi2CGqSyBKLOYzzBknm3K2QsjDGvobX7k/vSVtjAGbFhLAkZlub0TRHdW+Vcr5d25NLjO3SjJ+wSj5t6LN/BW/7KxYWLfYH/YkEv9qwmz/i3nU5aXj4wqfoefKEvB+HGxxypQ+OZN+nNQnjCdiaiWS05lgjOuGZ5zTjnUTlVvj4RUGJ5EmZQFLLS0tFtUreTZK3PJLo63YQKBzPDVp0m3ekhx6JxCIj57xeVysdenIGAGzppgp7XCb1WbH8b9damPqCrxClxfFS6IWp0jrYsypWhT0XdE/odwmuVdEYpCN8ZlZ29T1jc2ouScn1Hit3E718gukUbB554jv5IOQALyCMglv9VD8Zz8Vpb3YRMpPl/JRuw3Rk8VwIe2fCsoxoz3sc189byvHAQFsGUwex5NaoMO4Jf3XbLutcSri7zJIb4jrRNfQHHD4dDvRpa/XBpYE+jT74aK6wyQLuM7fzy8F3NRPx7WdJgt+q0GRyogMhymz6ra/fEvCVzT6h4q0kXVESOKJTkhnNquY0k0uRpCVZywm9HdsuIAkj8Ydfv0afBnytLuTL7ZeTx7WSm3Uqvgp2BewRAKLoUpGs89q5mBA4oJL6t7+C8SIDSQvKYyVFEL7xBJvoy/4qgq3EVcvh1mwLYUkWg9aeO4T9ixCdfo6cXXAxiS6Uadxgs3SqnX2RRCRP78UgDxxd+gy+/kLwGuXqxFv5nLwJ1ShS1ea4/HMEOgk8Q03cXklxoWEpf0PP5rfJorAoe8K12PMFinLyJifksJCl+X1TxVllHpqfpE0z0QiWA922+/Kfso6+u8XYyKR8d+N6l0DjKQDu+oI1fNZVMGIGWirjZ8CZiFomiMbChO7XQvtf/ALZacuKEUqaceQcCwz/byIiRca9l6iMjiH8EJvapb7ol6VD8h51isz8W/9OKmT9Xt80SWtAIKWMA7eBavdtQo2atiDXjCNcp/YXbsr5jwOVQjpJXdQa1YD9u+xWJF8Znfu6e8sQwbU9xVJGPmbMdkmnIymP3pq9tOj7HHtLpo74Zpm9DcGDf3VCJyY1jmXzgS0kqGQb2LINhMGRpzGuMz2rcUeseCpTksEXlx7J+uPzTUTF4ZeTL0kRXR2RTq5ohDV3tQxOM+KciipmGdhpNNWoSTYhxnw6nqRB7S8oSuamLlWkoc9MWRNEtAbyxTxjuMWewTD8mfdCtESILXjRZ2ycqIPvI6/YhjH06xH6gYVRMwa/lvb92UVlpEJoAMkkSHtAT8gOekbZ3syHkR6lsd6fjqDa4u5oZPq/6m2/PNjlrEVWHgxMyIaYQGchQ5kbdMUN9F2F+lnPTJmcKdvCcb/IdBxfvqbTZYfpNudQmVanbWzUa0DKPpU1PF6IzL2/mpqcaZSrgVTPBkLuvBavdBH55brc8IvuYkyYQG7vGr05jGwpo1G+cXH3BVp91c+Ffkjura7sV96mX9QJQ6AD224Mk2ibfUUM5fTAlqTOVVClIZX+9BeS2bhDsiCd1MklFlMWuoTLLEq9C0mvujeWs1E7G5PuFjRIIPVHqJLPW48mQv9zbLgwwYmKwXnQ1x7egBw+UL6JVphA7h3IbPjUgWNjlGRbEyfhzTxSXHfKZpsKey5qJX2GEjl9KoY7M9qVLbcVd26ulPtEN4gN1ziF5IjsDO25iRnNUNrzf3GlmgLKbvvCBDsyuph+BFsDxFO/Mk1BeKzpY2v3u30jofwY8qGbgnpFdoHWdoVOdsNQFf0kCGkymOjeJPM5LAYAe7BZYTWUrwgjVA+6o3Ev+EqGaHHA7MOlCSuGcYcucgBBfOg2BpRhpqwlVzkJrgiJS57xxMOOmM76Lnmo940N+T/1KEWeSkt0iHOMV0zTt9KUUvKoGWTUlttFMVuTYvHDbQquEFBtGCNcIk4buv+pcdkGNtTAZfjILirJ+eIFbqFT+AtD6xC5NjD1OJqk/Iq437+cxJsJRqx+zw36tIg+vX4eU39UZphsDSwgKjjA0UBq06o1KkXQYuQ80gimQDTk4udzyE5Jtdn5Y+rHR0n9JDKj4jKKBaoGcgXZRu1EypnVcFyhMQdsEcvkN1tgNmb2ZRzexp+M5FLXoxMxIRqfGRIsJWTJ4ipdyZ/FpYI4LmrJr8hISZ1ZBFsoNX8YIUQQG388pTvadhT7SXNlOUeEg0F5h3pFLe2M+G65XQCxwDvQCnEfT49Mh8pcUmA84N0AQm7JS6nhVCmvoEmmzVAciEVOMEOxLRGfBJIygowvNQ8qR2qjnrG0jMNLQiHibhpLHCxBjpdh+S3jI3bW5Mc6q4utk+MXgRLMB6dbc+JXnQJDL9z88YY8ADYQDSwBwiqLgFJzGUGF1gDDA/oDz2qMlChqANAaw69ASdBOIfIUIjsavLCrmjnuZsU+YSuCHs6bVHnt5ijBiCunNYf51G4YTQYpghds9H9GukDKojU0n3WZOZrXNqSv+3Bj1LWu2iNfXYsEyGaQKTqVCV03vK0rUNcpY6CgGv3VbrQPaWq55zwmRYZKZpEEWK3/d2LIrRtUnPPct04aoXL1HyukLk1ZjJYY0s5CPbEaMXSAR4h/9zq8qlTLNzdo9eGDsJKjeh2LLet3YZkq6/R33Fxdu+65HFAXdOOi2hDyqcaT0NZXRweESAJi47rWyNex5jAjHKY0eGzShiL0nyHOCoifZY4/U27V+UMko0foX8dRxKpJFrRjoXp7c6k8dqd3DliPO/VIoq1IgEo407j+R3UNHx3pbDIhTJS4SUvAZyuqpmw3YM8wP9hC8UAQ2QKue7PZ8reF0DPDatj3LXsE+OKJ8UvYHRKSVbYvl/BAd/PEFlUOk3E5Z14XRjQCRozJg/GdhtTplKIVW1PdHcncuiR/qzbzQVLcYdpZItj5nf3Ga5bGZTkhApEGDF98C/H5LSIzy2Ob4ZoNVhXdQDDxN7r6Rzv5kETGJ2Q3o3wu/Ta100HNOTrpQgzGRWawlt6yomx/oYxJZ/udQ5xbzROT253WPJV+/iTg2JN2nk8Is0YzsgJn3rafVFOYpIZbt3DWEsuYjy2pI1Xc2R+M+uf3nf/tY+TK5e4yAh1AXhAkefeTiJbSY53eUYdHEBLRMOOtF9sLVWL+Bt+6iTiuM2q/WuRjqeoY2jVFfase755RAo7gLBke7qsKXTtaiJFzikSe6plSg9Zd+hF36au8Xns3E27H/cnTmuzsWTkzN+5Vm1smseVeBsjpOITjBKOgpAV4AC1LmBYBMyES+1vRiOOIOfMlkAnG7ffuzGwlPqsr/h/1LBGXPCC3v88JYqO8WtRzitlwbZpQkrJkqHW/npp2H3qspTDih/d0BAui+EIGZEr/b7YvPSzW50k8wRxkBgCvcJk/UIvR1tUSV3tOiTxha3i+qnex2M7MMoK4ADFZbyzJbRJQiElWO3k+D+T1J5op+qI/UrHJL2+vFym7XWCFe1SIChI2pL/+MUIBXRU/98Ai/0s++z+3QNvB24H2AZlBbwHcrSrpGwkYLhKw6Hjv52VPw8D0NSJ3TqrocsqYt0LuiRPwdkPIGu7+O5N58Y8xaB+uhRdJsHNXaE+cB2OgyuU0nNT+6DbXmXcT2jYdnPlOP903lSqao7YAngj6Jk9m0xeqQQcsTWg1EKooHQi8vD1otcybMzaXRPrdNYS6fZR5Cl4kyMu1FMy/NXsZTGgZaIkLPWOVoU/zZYGzkt2QX44+nT6lK3WbU0ZMPekiSTlaCp7mxE94ZXCO/V9eB3bjGqMFEBAX9ERm1SQNrzs73IDi1xwLcrUF5m2WkhXjG4RtC536dmlJNB+xgeYOT1yOpg7LS1xKhOxemWxSFlCSsQDqg8FY9E1EaYP8zAVn0uYtXISdwKTuXZwC7ZSldQafRXQmnjfScna8OQ7d4URmgxc5SilWKAeR8JVsR3211BDH3ujLWL6598MRlkzRAzjQ0hud/QTBf4MKAFw3XGcGDwvsqGNnAaBBgSsQwaUalnd9K7XNJKfqNxkdlK3TRx947gQTGFNigEVFTm3FDEpr94ZpoYoEQ9tWFC9YJ9BAwViloEEDe35XxT6IVsBqgWC6BVAlkxrMKL6MyTINxU1w03kJjApQbPqz49fzVMKDix1ytRQGsc4U8urbjOaNYCeRc4Gf80E9uCk5taPrAUFBuxt8/u8Fq5pXPpNyt+xlddM3JRKToIPmnoMrcpKfzv9B76FHug7ovulerxLyY8e+feJXeSNyfrq5mtqi6u3by1TbDUDkeOsyjq8k+d4Km7cydtSSc5ZO+EhvIuZWIniYG49lREflNk809YY/8mmIYHWNgketF9xPoAbiAbZNTRd+JA3AQ8EAj+FslNB9XpRGAXJRuvUvRnQxeegCaLhjexjl7KwqnzHtOfcTBwSiBBRSbKuMEopUv49gUuaNoGd2J0BGOWi1rZb/rpCDfZSIoSGnCpHjd31FUWmlVJn1MWikZS0J7lt/YW2s7W06+UW6vJQtg18R3Hn5qtgUkVCYLHBioKPoJyAMWAQLJNfLIhaWWNF4Aa9GmrMEkUdJwGv0rkaJvFzDXsg9w4kXKLslGLq1espEOYsP3wz0EQ046zZHqBB/QSIMMU9uT2cv4xHOVLxAohutZOagsbeTTvyv/qUEnoNVICieAMPQ9hhSe9EMt2Ji8OlvR3N3JLHpxpsb/9CjtFdl2RsAc4r/491SFc1zWaQJaFhCxs+EarBOkPxoZEWRAZDmEuyHcfjMxviITanlgXbKkLDzM6Qm+khVywFP5ibF8P3YtQ0ugnVXcpVMDTVTTZaHHET5dx9OeZ1JYxD6hGMMXsX1oFmuziJGg8MgquUzXittpEqRf4HU9HHpVlbkWs4sVh5tCJULyuuntJ5IZUuq8YPJfo68N1IjACrg1gNbiILcRCe4d+yAKtBmnk8KbsX/Gmw8kaYnWZu1gW0eAnfG7kK0+QhUwA7/qRbkjld5lHpJBZajt5S6Vt5/mRxAE4kTjpERrr1iS0Bc5ampyU6LWoruXzIn0DqpwmNrL3JSv3bMm+mgnnbvLaVcG/PYISeP1vPyxkqeZ5EBnRnchJYxNcIA5ahHsnTfNCjHk+305cHSHx1EKAEf5ct/xsu1Rm/zlhPD1eGPIBtmoCwOSE6O6rYm0+ITSkA5hlrkGPVoIEzdX8kkIOXaHDDke/Tb3YOApZJ1SuUuXC+EnNk6yh/JOF1kR9ud+pUn5fFi+JP3GfnOLcT9F5hK0834lgZVJiLOy+R1b39HA7BpKUIoXAvSmOD2GdneU+9DxF25ct3OFYE1wLy2m6xn87PBcpivpMQoT23AUHnGM3V9LhPUhOwqU0WD7JtWh6aoSaqsiwWmPeb97hPXAXK2EIIGlDrEfPh8Uo41gQjER+wqCoE2QmQy7mXziwhParkbOrYmKEhV37ENBax0RCyefBQd3IfUoQRHqMs+1VS4ZwQpFI7HycGLldY8pzIppm2PEaFV/CUxlBEs5B8JcqHFpZNu3izgcVgvZmPdW50idpMl6apAIDaonDYRwPJV1YyWq6agOtVE2riHa1IN7TMN9o/fo51QxdrYDs0RE17qrerCS1x0VFDEPaVja/0Ru4EqrOlFTmiw8Sv7J0kwhi5kamNnfwn4s1PhBZpJ2GksK9O2omWlz9VXFepUdBOK20EclcvRdkwUbLuJuWguKAbyiT5xsnXvh35tS1ErSyZqIVCeZGYy3hZ1dt5q3C78p0i7qAv8TpRH1mVFq5eYvcoabFBxAVXSN2SplRMeg7gCnnXqRoI0txPWJyEeUT6MsYx4BgFslAQC2DyDGTQTDIJ48nkMr05jqLcsEJzoKv8opKJ5zMknDhRUor1k7p1aVCqjpu+R3AfFKRmFFu10P8mR203uSZT2Jymp2Te0Wp8WKbPGygrdZ8qrrmtrite8f/T8SXhimqyJGh6V0wbudQqekAIabJE9qXC0irbamPg8SsFmoJdr2WqKOWj+YC8qJS6S1LWeR5Jc1NsK5/pht5EAgqsUzDzEBNuJf83NNFRZvDQSZDZrkoEBiY72braiejWWbOv5mt7N2ic+HquEt43a+kfUES27u/xzBtGJ+ioXdGjK6k8rpk0VVaM7e0gKqLJIHs4lUN1hi8N1QHcvZevtkCoVtOKRmUCwPAULhIla/VM+5f4hEsNYotgq5g3aURMK515HJJt6rxS6dZdTOAomWxkNwJy09IK8i+LkruZK/VXSIBR75Lvdzlud4Xo1wQKJNsFaMsDdFaB5v8bc8ANNlfsSOQDjBUH24owF47QFxmtoPwiiGDcnQxsEN5AC21wop7SK5BmsmIkFo3+quqxkEzER8LkYnE4iDiYyD7Pe05q1yRFUnGGUixIpaUXFpQfZR6kaaBWCuUDqR++S22TSLwqNbmJLbrUPd1KzcoGo7Emlb8/5Vzz2Nt8KGhRTL4dzDDuoq68jqaM5FQxxpJU6SjaRBrUWLFFYmZBq1G/xO6k5LQwRyBo1NRs5t1PNWyLkx0cQsKjOnC8YFGTZVdEuYy9EJqk5iJj2TF9Cu6u4kxBFZb4CyYbkqaZALn4fOS1XKZIxxhhqlDDBreU8vL2ipl3t4gaNAwLTed+TgDqm2JGlIqijmulvUfyYNktHCX7JCUb8VbYkc4l5JNK/wkVuIZC5KjGD9Gfititsb1lvgefpeq9vWlsKjNa9WLDhpJIq9KMlopRwqrLpB2JFmKtGNdB/haqNEOVBfdgbNrd/GVdr7prO/LV9l9VNE9ZMZt009JjgAYValhSkqQaMe4aOjPV4xPl9cKBjEQWh0GEwGACEtwS1MLITBEhxdZgEpdBtXv4SHeeilyqCConAhVsi5vqVrS0bKU324tSUd6EgkWRlXgKB4uD3UjEbJEJFKb0QbYQG19i47Sn12YfGJI75/2Qv8lFqayvW4pQRf6CPupxCRY2YGXNFv3vE6DamW16mHcVM8iEluhzRLJPyWWT3E8v5Mq1kSHMC8kWzzvWW1OmodyTdSru1RZ2okGfuTcD4Jsnl+iOJGloa5ia8CUSZWW/wRGOuMHmiYlDa6ig8fsr1dIW+Rh+925es6SJFub5qk2Woa4j4FxsY+LjDE51NyOnCPqRy5kjIkWMaSR9R8uSbDUla4EMbCVke3GMeyw96WUVZqmi3Ojfogmgv1cpsinuopForljsVz0EHqk0paAQT7Q+JppL6p1Z7lEtKJameW7Z6i2xCESOJUyUz+lVutT2V0RMZCiOLSFdVdU9Hcm4LwpOPTGTc5uNBlSZEJmDqC9iCGnjzzcMRbeqxllS6CEOWl+M5JPQIjFFVnK8XDHfiujhsYEKUC1JC9vW9qtSuQCE8aSWuHl0klqrJ3bojFCkryJEgi2tYerUKMmlXYoAgXMuZqcJHOYsV+C7um6Po//Ovfw3tYOzr/6Xxas8vxLbiaqEddIlP+aoYUUQZ3YNVjxsklZTdLMxH++loTBFEae6Pr1Gp0mXbWyb6hjoVuIvBvJg79AXrvqYdy8WPIj6xqI1lQkA5vk7nG/K/UZk1CJJq7mjEw09X3t5z3OGjepuxufxp9zwAg/M6S5LMo5QpzlCRC/JEBEhAANstAcpluDeAqwLgM/Z0DfBZQx7SjgIYsglCGgglqsE4oBCBQOkVCpWVpCiuRpsUyEQWmbDFmrlOKK89DibMUn7lZGOikR1vTGozmMvi9bZnScKNR3o3OMrF7qVBjNNl1ry2DxNJXeoz8rcVV1L+KYlTFH6JMa+zIjaVlxiHVOC2hYW68jgl8C3tJQeKP4s72QxHiKL1DrkqEgVp9JCZ7Bxv30ZlOMtSVaxE581AlUD7cTZQgnNTLTeZMlx+WPmtq1286usTDLZ3YUdFcPi3OlKf7foQ8hzYp+kCu/IfmfJK0rIpqwZpV3DYgaMQuDQAaYI3kCYgeAKrkhEzzJpZzbBKAsSemwM6Xqgp3/dSo0o+hox5yqDdi+OLnkbkmZCqN6qtR9Qn19BLkZE+ETbLpfWsT/SHGVrLCW0hzEsQZcijUb/y6iHo6c+uajJf1PqILhCosLsqR0kR7jdh8RHya7sswl2wZ/UL35CLz2LlejOQo8SmYEBQnNCb7LAlhbZ/QUaGIa7W5422FKBcqwhBaBKEk4lM5MyRfFNuxJPgA7C4gWRHBBGPwCKFeKe2aTmwYpEdSNHaTz5omXNtV+HMEKOm6ijgVaJlo4uBWSAYazE9CyC4ly5ONYOFEQXjDNS3Uov35j8gumGrK8u/KgRniTm4hsjcz8V+BhKpSogA2Jd+/sfALGMRj83s0CjYh0kYtIYJbawFGlOMQymSgQKCiNUb3CD7wUM+t1RGmOCAaP25YxqdD52WJDE4dy79N0ubxM3/UMjN1UZWkvX0JSQjLbbBv+3qzYUt+bjCkYz3Qlpz+nq1OmnRmcuV1+apr2XDpRHXjutJha8S+V0hUyUTCaOQ+BpInkZAABHHmrzqsB/z6V8k8uq577d/HgDe8mOzYGMEgAtA5+XXhMSbiq6/5s76c2cagjAajpiFTzjZ4Exn7maYKjWuOd2KWC6oGEYrUyv3OOR2XFqL1ou2GNJv2wiNwSEpx1fm6S6chquKQvbdfPt+LNix9aZwEwcDTB+CLl69mvnO0Kn7fZG0TptYEygScLX9Uo4I3EM2d+CUlx/+Vs6liW+r0U93e4JBc1S1h+wNWZhGb0qskaArdxpZlkfJn2pIUVQPWYrFQmj1YKC6Jm6hFFrWtT9KzbnmGdKdeQQNbkAOFwNCVxxX9KKviQnUEZa6jIjL+8a5vHtJTnbKLmQtwtkiXYGl5HIJQ7AxBYtsGfjjRaQABEgvwPHycDxrP0UOVRcVHNcSkNHo9sSLsCCAkKEYV0WMaqkySqBnwqVSv+mWWO8GREw7b0J4F0Ce4Rd4ZhWHEcPKISL5LKRbQxnM6YMglaR8PXNu6IWqopuW0KYypPlLfAXBE0tXXCdNzAT90m7VKVFynCZAfxR4TSr8aOH4hDJmBNQAOkrn50sh3wmfaBquUpjwcuaVAx8+7SOJLiGBNHuE+smz5VisyEKzkk5MFW7vq9kPYVBs9qXBnXRwairZN12P2oYi22KymZTECQmhpgpBJ+qwzL23Zj6vhTVQmOV2mD12hnQZCNt9pOqreC+li+X9XFxVpR+oDaQscPLRKAyQAO0dLLqNwrIv+DxK8jJ5cKoDsNASXEDHBkBH2t2KOVgCXKVSne27kydoW9TKTaXoyifLzivyEX6de67Erp9TZH6UkKcdCZRGxfQjBK6DL99XLqLXXvlDcfvzsu6mHUn7qf+qPHpnZ/bLe4+nfu2kF8KVyEhh+cnpnlAD0ACrAMTVATUuNdqDUgknrtlcvBGaYqfTAKwFvUvyq38HVWmaC3W5xbcAokRVurKShFqOR7Rb3Srj7yG8u1kh5L30yWjBGVjJSv2VIm6Kf73Tvzyqp9vzWecP2CUKthLcf+wF9q7cVFovBmsX2Sq3UVCNrCqTWABXwB/Q8mImGfUMjXCgddZH/1i2Myj5SJIBHg2BimHlD5z/kvz3DaAUU0sTtqR0vXinlYKYx+aVlSw2W+kpWzOA92qr6xk/S4LfcMk7Np5cLYd/3TxDniqYHvT7oOxR4TJXv5lVA4N5L/wlkj8L1CYzkV5gb0ABZyz8o9RLnwl0z3244vJy8uLia8VObgnYMyQNL23fzenCe724FkaFku4V9vQl/KEsiWmCWldtVXWYRo8EWnrjPeG3L6iyN3Tk7KgvhWomNIik+729iMmbx93C0NZevcG9dE5E4biMPCaxd4RnMgeMAD9F6xAoEEGk4XEpKyDhjojAGZIAtfCSIEaAGcX0BmaamnsmzPN84zy3btuT4nk0tIM1IeD8F2DuF8JWgGuWlcZ0pJZhnBGDaMmFiwHuFxqUPG/wZMyHidTNWh4P7qCShauCqxSot8GvhGd4gaIAHLNlVjDInButDkH2Fse4kWTnqjJ5dkQEYHXL9IDP3b0SRZfzQJmE28C5rvxCcVFeE3c1EiKai6wl5pTm7dzw0VNlDZ3JDi2joMsl7QI6wmUCH7ZyPDc/mqe+nsrX+X/c99S400PzHLgdvVYDtgAfEqVzfklbWB4Iyv6HbrzEyTCcIpAUDeQqwTlr5NLPb/ZhVC7GYSyvSirOW2I98Jbk/5bN/LO3JOyHFicbPz9Ue7r72KyKL+d0lKh6KZHMqV4ZmeD9x+t5eLbNg9mKnYOOHYiPDBv4aTJAGnAB3ywTHaVH/UEdK7Xvi0RC7WC1PUVKlehheQQFIIfjOiqq0TZGRShDvpsiKSUammSYTuC0k3IKwvGIcMmsLXeh++rlvVdm24Txn1pM0Ql/ZWMa0fqmVCC8ZvBC6beHJbYGEThG4QyPTqgAIoA6Zyv/lgadVQXLPcsaJXmtFF7bFDjFVTOEKIvASTHylLKqyfpzru+UBGFEOpFieFuUfEoJGCFZvZgh2V+crhQsEqoetHNDu2ah2XaXbu5vfo6Am+wyFcBwtMqD0+kGv7CDZC4wnEp4BegXtMuspOYd4YllrkBOx3pMynP6aKi1RjrC5qlLH7Dqss3TSfY/eLBRk9dip+Hb0+mGSkFZTnK76POmOz5bku9OommrVDf9rU2718ynXg6nMhY6nHN0W4D9ZCJcZubpxqI635wrIP4UpldUL2mQlue5AiOuUcMAUxcpJsdZ8qTrO/o3usaSll2dQ3GWxNa4S79502WZWjC8p5qBTnlaheFpRtHqKivVf/4xQgGfVQHaAh4B0IEvwOgA9sDqwLCAkUBFv3btKZtUpjH93I4/vpvhIxnj4CQ01nRn/pNifYFUlmsJRidCGzjHdeFjBTT1Oias8C1Q1kUf2KIlb8OQcImjk11B+ORfltht8fZ03eSpjF0wxQn9K8xSl4+m2KMriu2tJGSaZ4Ea9WgqW8QDsU6eMdjLFr4Z0dLlVFKmR3o09ByJ/stq+uSUVjYGRjkURQ9Qsb8j9qPyoT0k8CPGy3NqUmRdFqbBgFav0ZIM5La2Kk21CtbMdGworSuifCuuZkuDQ+GUJI/KRcsxWLS5rigwiXI77GPpL2Ax3wT+tjroOMK9YinE2zacsZU4+5ooNdkXKjzKl7vmxE8VQ1C8NrV312jLtIwT4TXhLJyYhSeVT4JJqFROQNkQzOkjmfRLemshG1+dRYZrwoiJkjZIVUyBC8FzVlz0AW55gWIWYJdw0yJoqv5V7BQIySZPVG5k28hGCqRxuI5PEOieWDxIIWgoiYfTSxCIyx7LBtPh7CKSVkVxLEd2GYdw1IJTEF8fvIdysQKKQBsGfJPsRjL122pTdGyFaaYpQKPvG3eidx1DTixOGxMXZD1i3kTTKFMDGCsjZmZfZxmL49TSE8fG82OxxGGjiUxEYwRWJRC+mJceVQG1RryFOyWA6043ST51jk/R7L67fOCdxUcg2ebvgtM8FHuJm1xIuiZ7fXl+jn44yTA+vW2KpuvQVk5CnNQSL1WukU+CXnxSLceB8vFqqWiFMjn8rMItceF9ILgUgpkVn/8Zi8EqiOo6VHpt28s1Yya0/dQD0xJN/VBirqx7+WQFlZmKacHvp+TMqbSMhAZAXiLGPv7j1Z644nhemYViFAuKH31Q1fjNaSii/pEFugWB9VUtV+TiSqJFO1+kkxEowuu3nqfl3vRnr3rG28yOzBNJj2YHlXtafL4wh5lSutCDNgQ8BJREZuBOAYgIEcuAlk25gK6F/OVLEaJIBCAX6sAd8c0VcK0IDxR6RyNxYkXMkrDGKGVoTwd7GEZIzGtkQInSX0Kei4EDf/giTV/QWQfqqJti9InjDTAhut2UJTv82dMZYn279UvkDuFMpFpnJ8uG4BjBvQkcXRz5JgUnN5aFXrqQ6Qso6whKr3WDj2mboSOJegj3FkkvazYub+XHcMIw42/WHxJizqrcT/auBT3u96a0nBPr1MS5jbZWhcSkJavepJW4FK9B1R1aZb5cWslqbWTwxQISmCIW5gKIAFfJqDO6qfR2C/xyoj5JI85Y9NdwV4K/GakygmDgPrMpQvBtULEWsr4lS3K9ds8pYDcbFQGkSYXLSlt5MvLg1ayao86RNLJIypvlhJOyZXEixGTLO1yejz3m47SGw/G61BdhlDtV6c0MiMRWFahbYkwATwCCAaTt8CFQI9QKpCpTJs423URO2ynUjCR435L8dqdzJuauihKIjB8STpRuMxBAGwSrsdTIQUBrK6exS4kq9MOiTKoE6HkOUedJ0P19R69JvoOW4Pwr8c/lSNaTQGhenknz3UN1nQ1e/G+zyWXhRoQis8HwBYkHPL6Z0ApQpI+BYynHuZT1RF+ibHn0LsYM1QV2bgaFchVFaw1iRpfjVmOMEXRPvdd0i4VO9a11pcGm6Nd77qL9PiYXH5YVRRXK99WmeMhWqeGwziOWX5qOdKLR6jWyNkuXPUEtX3vIUHuLXeSiNPukWwZJCd9+73z0RPkZcOjy93lcKp5mH59dn8fSKiBMq29zIQjT0Fu7spfhpqYF0H2dX1O7RclTuYUAkq4PgqRD0okyGbZskEMK/CrdDbYlYndqnyk9Y3Fl7mbqiKybB3fA45y1nTmbz4h/LQ8kN/PDdCVn9KKTU4T7M/JnHhNXlJumnVDN3lzmHcSSmNN5aMk+CBUZwdbo4GLbCD7Dk9zOeqh8LhjKKSx4+26GkNA0OaNqKAqFNvew6L/arLh0dIlHWjkHeX5Or75mYoncl+hF5Qp5FMK9F2p5vAjU9nJG9ZLFSbtaKlKdwomnKgg0jFCjwIKOyZROVuKRCEktXEu5VtbiZXETtMxWQUYokhI/TKJuwpW92twredQsVCQyV5JtEiD21WhEf915XhqHy8WGz1XT8SiQHW/LoWW8RD7KqQojJYWSfQtJ8RpX96rGWsFEpq5ISknqjpKb2LUhPSAr1UgVheTk+ah8GNaWKZnpaRZIUZtBewQaPuCqT4ccMmnO+HBAicM7YzqUMFKnlOjdMqGyIuPsHDJBWy6w4Zb38SlBcZRbs2rSZUJuGa9PjP/WptSqXdU3VieW6ZHFHLGpjRYLPcvigo21dx0oPEhewI9TBC09jrqJq3Pi47b8xU7VwpJGpPinBxhQqVJhPZeBGTBDqDbIQ8eY5jpbgSFHnhxMctL6KixYtI4ORNC3D7Zwg1pwgvVStDuH6jrdaMqgmExt4NDQINJ1EmEVf7zGv9ZFXUnmRMm05BTE0RtfpoJMmlv6J7JfcyoTRr5G1JFPOEil6NEhd0qiKPuLFl/1aNEHLV4zcXI14NIPWTZKw4gqxpn29QueLFsfSKFiiiHT8nAQNUwhotRHKKGEyu1arLOFNke/SW7Oi7pttFblMzNk2Z2Kpn4I/KLISrEub6ry72NXELFhdA9Yf/Aq/xQBSmECgctf1xv0I+VlBAgEGFIULJVnShaBJ5trLD+BdFpe+zLotN/6ntDyzVWkIQ+rH9JNILcW60oeHiBqbZFvsFYwJSQaKVn2F1VbMYiqK5fi8wY71JT4sNJNYhrUrDZIChxHI4ggbXk3QoiZhiRjEBCIuEGJCa8MIcgMu/VCI9lRIi6y6/GsjC+kkqHckFFKRIle8EJkOXwuklm7SHsM+3I0QYUTU6Q4tm9Z0MpxgdOPwZF8K4tZMppjra/Q+TZ8BpEbZclH5B28QmAfTRVM0rX66oYKMoZqVE9wx1ZOCmnEinqgwouCy4szCpMKKL3TS36nxa6zfTl6OPdDCpYk+X0rvbu0eeWoYshPKEQuY/kNNnK9NZ4aHzx3EtUO2fslSifiKTriV1uspC99pnQ2QvD4RnLEpysIV7vSK6mQc4CQceWAcCxkluJs48Yhw7lNrsDpSpOIaI4af3Ad0nJ9I/GoLj2ii1cJUew2PWVhyJQ3itcR3jBqig8ctopMFQUi8+sOmFK3YapKslElYMSINx6bDauzmyQWMNoJ0fw2ld3ox8UtFEnC1IeYwPXC+XyJJklQJZUDVJRj5gnQSdxU5STovV35F/1khq5NhmLLiUwe7fVzxpL3LCdTcSLeRIfruogFjyFrqUxg8MmcChErwH1RJsOWFNAmAVn9hEjguwiuQj/BXxO7holtqXg8pQjb2kMYCmnots50iwuRzau5jk8SHVzWq9rnpq5EjKs1XI69gbwjYU6hA2ndV/7eh7W+mrfKrc5QoKIW6q2YvsT5UKlSPk3EvUg5GeZJVGa+VxrccLB6URbLj1YasRcNV260Mkqpq/0pJ92CLAy2V+9NEQo7H/YdW/P6K+wSfDwBlkIojLRkZpyOtfx1KiCHayTTS93pHZyJvJQyhT3rnRqNM4W5ic+nQeTFUHvzasy9hjoy9zSsKtjb84mUiWBN9BpE+xqFgrhmwbeL0/DPWWEz1ghDVaijS+IKQOk0iCCVEZU2PT2Y/KMQLUK4geggh9h8H6YskIIRKmYEGEE7yQFoAKSIc1Bcy3DogQY8JcwxDFqC5GkJcKi4jgD1mI9cNpch+GLQBJeNPJKR8d45sjz1nVY5JVMYcdzLDhc7XkKWfDWZ1yfGfb5H7woeupsY/Cctxm1WKIx/3w22Z+nRvwd/akqdtOIZEJrPaL0tzzoCzZsC38EJkF/zBwhfScUz8qNp5aoxD2KfmjVJE8prrLHMwTckmjKyHYFPtycOcrBBbAoRPLsSA6RKKuiWIVg3Uowu2A0aNzE+CcC1GwcZUR3y9uOxx85WprTIJLraLrpIRYzjVOwyyARNVcv4vd0IwVLfcHER6ihOOOc/JNGt1ZLiklyOGVrP03Ze+zWLDpC7mfIi51iIaWJMZmpQpolyqsCVIgJAM/s1g0rJInm3UQNs1mpvNRajTyO36wdnZ6arMPdPwi+crsebbo9R5FX9IhMwyEceAnPYVIqrYJ7jNghrjOKQj2wGVXKn4bow9NDZnesrWhCi47CXxNF9x2GbSRWHxtZGmtgWUSp62oxd5wGP/CQvw5i5NlTJX3FB94VRorOaz4jK9xUChhrrRwFRGSd1H97FfneZqwWT5zHM7bUhnm3WsWMiQXvoT2ihO9N3Xd6kmDyHGMEGsiwhXIp1DPWk5k7Y1jbiVEr8mSzmHNhxGf7ZDcNXtNLRGCvNpT/2KIgo29Zr/zZhOt1aKwWYIDSpbCuUgT5ESQcOBqPWZPDCqbNGJt3uyiLOgixqC1olAZc/Y+iVTpyf5Xkxbp/hewo0mCiGvXjqTeeQNvu/N/TWicY/MkiHSri389EpSqFWjr1S1CKrE0l8DQT6ZmH2JARs+egv0+7BiC5K0EsJ17lV7uAQCxXmKhx4kQnghyc/CQIF0FQW5DOxuwF2wiTvC01o+SCSCD3BZBrrRlWlpOHwTdw/HzHsMmOVxThMBJm4WhNFH9CGH3BXjZMX2dqpJL19C0VMyz2ISpMtwG2LCxJHeRmAH6DIGyLlyVNuyw+gUKuNwHqqKGPQ7gtdzg30zZopro6/l3RxRg5AWoYWKYJVEqbDxKqn5qEmpiby+jUyT83d0jKEjcIFEEqbw5t2iKy6eNBKeaWZhM/x0Zglw/ugmS+5BTqK+DzHRewahMQnA04UTZs+SDtrOrCfGRY8VQ+LA+7Ht+wqEKrD1cYOAm0dsw5HFBCu02EC+9vVKjo0A6CXrx4VTVDJrHZf82tnh68ZHJZqQotElAnSAdDPSfVOTTbfxMKb+Ug8mmB4ChLw2LMaB6gkDVXyJSBTaoZmoVhZZkXmZD9UYihKkJGLTBVnM3Xcm2ShlG+UJHlPjJxZy8QZqPJ0h7AQ7OIt4LJKVMnnXgoYxlipUTvEu34Ufp5kmepK9pKz6s4bbaUMjTuwLUhlPjVEHfphEfCqICsJZWVacizAMSAHs9MUS3pqdIKT9NwXSZcVlCKB5iuLjTBKI6GNqk9J1QTUg3GiXWXMaXa+IzMWSVQH7WnGtvObWXnq+NyZOnDkfQ2yvKlCDvL1zmLUrOlPeKHSKkM0CDEa4UveVnwLBde5JlvwhvpwkzY5GY71peiF+dS0O4YHYIRVZ6Xhv9BKYtCweiKQUT8KhLCAF4kvq+p0XREgphmGMpmMaGjcW3esvSNZNUksfiw1S2XKUqWw1LbLue3iZA7m4YbKTCk5u+r7IMvKonaprMdOg7T6V26Sl7pljLOecIWd08JSC/EYdobRfFtTEGjJKKm17skMFEfZwZR1QcckwQKXj4maJZRFQpJ70K6AQxRclLazyZ8tVOEAtq5NNSmITIEBWHtoLJvmfrq3qpB9FwCeLgpEVaVKzxUjHJ6RIpFEtM4cRLV0UBFkbwlCkwyhUkQVROEkT3FM80rQMtxrEc21n7fFpzSG01C7v1ivhN3GW/yD6gQIJk7Y5ZbBMIMhAYOUO6fd4THyA9wWoWhQPIvNHsizVZ+RmSxoH2FwKdWkDyWtzMAW6ZRfJbd0UH5RzDlcSOKwsiukfQ2TzLS6o+ClYp0Yzo65QyzDHCFLFdkXJKFBGJbWcu0JAL4FyFA0E5UEgJMYhfU8KEklYstZUKVkDqTyVhNEGscObDxTh3QuHcXZfX/q7jfNfH080pfwrbuAr/lPAmofsrNTRIqdpuMGLRHfQdxIq8kCFwisYEwCrys24eSpUPnAm4owzh8TgkMs77lvXZeLkHqHEIYzS6k1Neps4IAhz4FuMZxqu/LK//h5uvUDRMSz6O3BCZb5hBj+Mgj/fR0QMJSuv6MYYYRYqg3iuFvR/k82y4YgRPhglATYkGsotEkXRDRHf/4xQgHelYCuQFOADT/f/85/xP+qv3T/HX6j/kW+D+0GW24nd9287EM92gTAZf6/tAJjTSlx3PrcNTWieK0fxfKaR5yloVwPc1GSAJtagKpHod3lSqLNYMxPQjwd09luyDr43iUYky9h9LrNR1gC2vatTXYKvefcziIsPBVUSYyWzoJI5TCpAvmfQjy+LczRz+Ty5GiUCYyU5S07K/8mx5+GOwmJFivnmKKuF8uZWFxEULWny/pRbJ0hzmspQ66i3VR6I/iaQ1cRZtDLmhFRhMz5c3imTwMFQuNqPF2p25QWP5u5xwyACABqJECCgXUQUgXsFupKQd6donyxGTAEzCEKiyiFI1PamUdb77F0gRhiLAg1iuiiuKkFqm5QE4FYFN/rs5S1ayHplORVQeUo/WuMmGJkWWmISqQ3hC/vKx6FQ631AlJluBdodA9DGOALrTYCzXuDA/KxElEEYRiEI2fj9pyjV2gFG+i43qW5tA4LIoKoCX8+ZrDfenO07oTdkhXONIucYMABvBPhRwOuGfy2oKpK+Q5HeTR7yd5lMRQkZb5FEq9yVq2QlbfasRQHY5zyPVneWeIsKsU6WD4FQN4teUUM65NWjUMzVMTwsBM4IXfFwHluEFcQlN5lDV561XEV9Jshsen+maVU6LyXbGTcEEimPircqRVRBiZff5de30RP/tL4FKIBAatXbX4YxZJ5u7Di5JAYVuXZ06r1jTPS5aXu71UyBKAJwBSjjgb0NHI5NgN5HRCH2l3FNvMlrEEeO8Kl/mCvb9IR5tsHhD85kszhrEwfRGg3Qtc39OQoktEUGdB2h5pODR28qlLs6cXPo+tSuFMiGayQZhHqtRlfqJdVKNpdU0ylta2c7kSy6jleNeotsos4+iVNzIejFPgCTcuK/vg+FdNllV0QlE/dMp70asxee71tR9JYHw5LG2XxnR87JvDXSrhDg0wfYvQtYKi/ZYLvg1fn4+zGIo4TaVQKROh3y740gyJtiidaa3Px8LvDKwSh9MIXp/sFy7CKayfaUEtJ/flKHV7c8ja7O0EJyyeH67tG2m5WfX3dPW30PvHr30o9DbDvOTPFVMOjBX4tBtgTAOkyO1LH4MMWjZZb4SLmVNRTZWccenezqo4MwULc1fJF38ORfES8Ihy5XCdh02ceMNcxQs0g2UQ4DeADcB4JcANsxykhg1ViNRdB0QTVnci1YSLKtJiqczYwxCkycz0nvHFpnUfSgwz7ROG5N3pqctaTnRYV1YjbAVtUxSEuk7tw7YoHtNfL0bBGVSnuLqtpPGv2drInP1tGYaCUOW2aWkSWLhkf2Iopzst0GNK7SMH2wFvXP/CczRlmE03LCJhUtazU+ejznyI5xxwMCm7mnbpXtMKH8TSPD0AQAMbhDl8XFvhxsf0DeRbKwyq340iGTj+OEdyJUvSqDAvEY2bzVUGNZwmMirnQaPXPSkrsMnS/GUsLXXJebAUX8nqlyY0J78xQKCS1r70U2RblETLc2sHQWtiYBYvSRwcW+mYZS4Zu4KC23I5ACWlQwljg750M3FlAdPzbUbMN+5DNgOFeqmCQjRw3vlyN+OlxWIgzD2DvwhUBHBzC+YoToKqrCxIvWuNa1KUbhnXsYSShLU2Nhm1TDjTOO5X4i+W+FXPl38Z47ZhdMRlYXXi6aPI6g06ND7Ph+YKd80LmRFLC/UJnJLXrorXo86PQqUmEDXL6YdwYhT24ipYZ4USVZP0dQeISSwFfCFehndgomHSlAvavZlnpkEh9yK2LOFpYanpDG9sq+NaJd/Lct/nYfYc3DqW4aDLeuNdks4nR1laOpw7PCCaLmbmvY9IrjlbEtny7pWGcx7zDgzk01hRFABiIpYwPGwSHUIKMnl9Gi+vYxS/NyrsgqZf4yu7JthZK32x1u5Y7YbUBeESJ1aGdcywFd5FLI+9xG0+sevRDIIWRIojY1LTHarOzbI545pSd75pl4FmICN8yROx3yb6FessW8HKVT1KNnIUr/KGPmkWwJ+iUhsmHVMl7i0dAJgeju8+QFQJwC3TuYvDZhQkTCEZVpx6Kw4wnIV6wBooteGcy7ghrh9Sl/F2j3QtbpolyR9emsaqpMCLb8MTdJv4/XsTkCrImv0JB0jQS9LJycyjFBr+yCw0emMTDsL3oL4ymOaCO/YRaNmBTzDr1ZEoMjohNrq+eqOm0T5pBq+qwSt9p0zdIZDu1COlg0Wm13u4orcrRu1X/qEp7Ez7renDiDSN4R43ieFoFn37WItQt0JHFwU52JdMCYroG6gE2i2AVJDM0ikkxEGpE9+pmsdfXM+jju+z8Yzd8S1geW+ALb+l30GrkYEry4OlGVMuEGNH/T0tIerlM5JivkGZFgPDodhYO5iHKkGUGA+k8tUAUxMjhNCI1BJCgmDW9EqFu22QeOlD3//fQ6tQEMXN3qO/Vi1yh/R48c+n2PDsUi4r2OMGAghdChCcIIfDpYrUX1OH3GxEt2rB+2hBMrkpmG4IDSb7H4nkbwoXOiZa6VBB3t9JvJpJ/NU6O2VMi9ubVJVT2NfLNRHVYhMzv3TowesEJAr5fEHupdMkFcsmZEI0gqNtIxKtoHCgcxG365H1rTq5VcILyrQk2G3OumYz0Z/Nh44RFRDeltdltf0mM6zR7iKJdGVl2oqOkAGxe9pwEoAZhlbZIBK5AkiiUQ0A6iICLWSAcqePqwEB0JtVCNRVdsDNCeIv7f11qTSPK7Rq6dUWWbsyBgiV/zKU9jCl89POx8j3FFhQ+FSBVYcvJkqUfYiBsLKA40DBVpcQbO2FmnIoejBKkdsiUvLbgnVOf06aH0kJ6GvgEKQEbk3ObQO2DpONS84pVHCuuPNnUL/yabmEA6iTMQZhGY3+UiwQx/1qFXRG+B3wCCdWXT8a2lFU3WthqLz5JfwR1hd9UvfQUJv1P7O2tqozwezRF1pYuSf1VyJz0hxyb9IXi42bF0hlmUf1WkilZQYWHyqoSXBlM+8mIpOINJK0xzbsjUlLQVNEb82O7mb2RjydYifHS5aelp/tpqluma08rsZTYSGQ0t/3Ja4NR4SkQEoSgqNoxLBW9lGN3yy1Mi7Stz1PK0r405PwQYiaZdQNBciZNE0iZSQpxni5MxD4a5K3G/zxRij4s0MVZEZkTNZOdbNL1ziXj9U8o/ZXcqQH25VELFRYSmxojJtW3K5Dapy1kI0c9hD2jz9SofcN0NcBHTQb5jH9ybgjjDcbi8zDU1HJabjGReOFNAMkQqDQAGAq2HQPPpBSu1VBDuYtQmm7EqImmoSptvL4AgcC5ssQGR43OC3FjGLf/TdvHBXfkpcX35Sr2r+1npbX6KiBJtYXcXIMGLBGwgzlMssuhQrPo8pHWSk0Q2IxIVljNMpyQo8TNShUsUsW+f7xvtjHRxy9arDJcZpgOMFLmf7NQ+lwQeRvoPvlDJLGCYmYAtgFJWO0NSFI1SyWqeEduX0kzhUam1Nq2PldH8pj7sW0mpNDwwwMDYqMH7tEjU/kpzXFSUsJYKolvLB7/jD+woobJFjB98RLNddPrpCpGFTkeYGEZMXkzZ42PE+1qcinHvINaxdny66rdssMb//z0U33Axvsp/aVm6VS3/IJFN6vHJCAzWSE9A4K4gbw6JeCTlI3/UorxYbA0FLlaaJYmKoMTaIXUFRkMH2Bc0LEZbYYyp7SdHhBDBBGpz9bq1N53tf1Kk+cfG11k1VcXq4YkHHY4VCQ7Bh26rFApRJMsTiP0QMMaiQn5bGq8poe+q8FcG/hDNWt19UqUPKEz9WkfQ1JYSdCKWkLOtJ9EXPZtNMbHTnBCdijHBseIcAUsrApRkXV60bG2u3EhvZVb3ljrja0tihWnqVxK/UqUqfqgKqrsjYFE/n9vE9hm5QRHK4jw5DJ26WDp1YXOpOATC2I6+pjHyuUdTF7JwaqMF7Ui2ErDZvvd2EfrkxN/zMIWQe5BR09dMfMpm0tpPlw5GY3vSUBwPZqQRCeTBbjM7cTra+xXiEi8C/SUUi5KS0zMKlwrYsGAkaK++VNjyp9aasygjsV2C12Sk/bfNPJBDB9lLRcnysQfauhwVgEAcgefqARGpUvOrmUxlR0IpWWT6tIpWOSRLBAkIW5e5Our/tqM1dx2Uvmm42eyipudP5oqCipPVhRUdXa8rnwIRsW1CS5OH4+GN05jd3bqCpRUEpoxwpaLAi4Fby+KiBARZTKOZEG+i9diiURS0+EfRjyv57W5a+8X70rl92rCuwuoLIDplMUJFUDgo+IFRlArphlGQXzZIbO65Mbfe93va9anap0an1utYkLk5Vj9OeiNSGOxugLYGutaKlj8mhKgiWj5WD78IFSByZIWLJAp48UwDGyGQoZOaWLjkHFMiC9qpDqy92892zwZSF4ut3bky8fEH7+jgpMlAaVZ84bXEjRombOqXiZBAUWTvtfu8ks3Ot962tbm53d8u0pKhKX6E3Us25veVlMxfenhc7L1C/hdFY2PwUG4qwvC56ItETaMQSIGnDaAgTROLFVVX2E6CGaCvDmeLGLmC/Wv/4TsmKXBXYjmvihTZR9LX0paWyeos00soYUQCWTylnGunM4SrGFP0N8VK0NqkfldmUW0SL/RdVMmy66irv0V8FVnbZlX2JtesWY4Yqe00a2aS0WwthhBJD2ErkFUNX5KV7YzPhXydaKnmi1CaN43iYsSODQglHSrFQ7EGawpDmKZhnZjulXYkKPdSyBYoejR5gnT4u5Wn4TN/afps3/Y3IaYSRC2Z7u3mcg6ORyFR0ENUYecg12PGPOEGsbcN/jXNTgtSZgshusJU0Q9BDWKylMuhESCjTmaQKeQY8hhIjelFn52114SKPyvpLl3lE5g0h6WF5P6YLIQWVRYxsmJox6lPGHiExPU0Qag80oScSppRbk1TSGz0fBQ8Ye4noTJB5UPU48ZOlWVNGHjtw5Z2uR4z0cbNM0qtDCVDhYIJOtWR2kFsh5RKK2SDTP6WfPb1xUVGb0rFDyqehKLPTiehS0IbDi3JiIbihZzYuNnPQtyWnHwQacWph4xcYo8EBohQsI/yq1x1Yp7nDQQ/BEWK9CMhHaU8cWopMFfSIQsr4Yt1xk1rJJEN131yzD1aeo2pyJkgWKfSnulaKS54gJHEpGBLoEmNxJgSY9hZWpZSaIHhgkj+nShI5pwYaZMutiTPpBRoxB4INK8yZKzzNROELVUs8iYVrrphJ3vBASRBA8Ikkw5TiPjtyKy6x4glE0khdGDQp8Vc5tIazCRB6ruNUvWeWMaSEDSN0oLBqE//jFCAhXUv+x/7D/sf+0/7v/v//F/83/1v/itSKeJA/IVHVIRAi3Og/fwAqEiBZhjmo0vSKmHlnniDxwoeLCR4QPGjxAwSeIOOPNOLKKcS5Gn0WypMu+yzneYfyuu662n2MrJW568r7nG9q0rFHK/1eo3vKMpQtDEpRnev0U1U0URVVdXJvmXXU61hSUr1rlX6e7xnXtMJJNFBAkJGCQgLCgocHh4WEjBBwgw9KOkrUlOSFnNIISyj+9S5kyZZy632a0r23xREqJkXSZUTFfu2TzOy0aZ3al7VSwtuWtlHjIaUsri64OhyAogBMAIjVPMTKN43eKMepVwNo+zZmW9KNEk6HZW+vQsJgHwIgtGtuFtbKDOdPP53LnKvMMVPwc5xLdl7/vWKGCQouKNNZhhqbcqxvA5lqPD5MzI/+mpk5T4lDDWLGO22W/d4inl5CJKuXRM6hwZxsw3eSRqd7ObW72TGML4XuKtCbH0ic863S+5MMoOW6Rr4GHVUdwY4jQ5vx/3vyFgTryf6BKaW4uqfpdkUE9x9n21+T4minzW0x0ema4nSQHSRS3k2rHlIuwX58dDEocfb5yOxZzIykO3nIxmuiI5vTJQTLJuS2ftIpXCrolN4fKwUohWBBmiRWCin6xqQhn7qjCt04V7Qs+ukRxL8XT6yJhOAXt9QdmA/Cj+aiWGj6+FaeqWLqCcbdkUE0mDNpmzKJTCtufhxrDdXkzp3iWYJRklzGuRWpeJGm3thxvxeynDHKwz11LIzhz00lZFmKPqJM7MNUwnFm+l8suiJ2bXk03PbpCt524lbP5QEzY5ucjmv49LIVGDzxsnpoZcDJM7e2lFslrTZsPhbkGoya/ayQfbWJ68vKJRtt0Ju5vcggPbetl6nf8hW0HFcsl0jJolrnJT045MB0ffZ6PK73gkYnukCCbbjCnUO5mINZc/pchpLhEI5JqOw+lKl9IkI4o8BbtUjBpkRI9TVIouCQsIqO9qitChMsa9yZXOBSRo6qa3nZ1bo2NE5SKXJYZe9JeipuG7xwLC35OtEsNxmUCGE4fTCFTFQKI02oix1KOEZlM+X378oI1PPE/r5KzZfEZzm7QItMUVkImPb6uPFH9v7idFRzaw2VJGato8TdfqYiKKnDH4w+/tlkoTcQ4zqsOb/5BRw4knwys3lSoRXJPky9xxR8LszuupxVzmCU1hD2WC92MHJpd0S/FDSUS50/zDhBmeV013lGFlyNDaaHiCHRc+EciggIVIjJ1ms0nrad2nEsIFps/V+0w4hHztU/rOavsLzmrqNLLu/PcoxX4JPP/leNLCyRcdNpLFj0mxybhXOEGCh20ld7ndDSSa5HOnszDOohudxlEGTu/T0l6273CBQhnRsz67hlMjkYRGYrGXxRQg4wUQc4sSq1fMw3ZZu5D6FxavEQSs+ryHZaJ2h0X/GZAijbhEGDMBEEqrJkm+82/451Upi4nLCngX0dRy0W47KfJyeuuWFYz9CqWzlZ4RXjqopaKTuqv15ecpYP1Lziuf2BOGT/i47SkZjMIIhKuc0IEoYiBmMCY0mX44y0jEERr/+piEDCDEkETH1WRjBCBRGds7nIIzstkoQmYSyECMIREVWTc1TI5FdmolcbjpURhVqog4YI62SyUpWzsYgVbN16vOQIcKFEGIQcI5nWpsVRDEZ27EkHysGruBBnoIGDka47rPCWUwdrLhkJ9cvf/Sx/3xFY68FcRFjGRcwIqXi7asXKatHUgVhnXiEQUYIAgYLivRTOCLPLLk5RqU3pjSEOFKllHOFHO/kDDlDrF0OkEJPXjpR2DA5aCnOKIbckcKkYiHYXkKhmdxwFDHe7Zy/e2TJWGlslmGx1wIKQQcYxCxwK1VeH+4QYYJA9404gK5gPgwOCBQIAoEYUoOBQo9K7KpLPmMN+LlQzNT0M9cINPFPUP3QOIOdIFNfWRU/N2pHsyCGYpKXvlSiUSvtJORXVXgS7adkDmLzcIFo/My8o8Zj1/ATX/dg9P6t7xhVX10Io0ygtbdbxzdNFGn+sxINSRnmHEifkGnHG0l6GYYZ3yiTDqpsRf+kg4yX/PvoVXP/YUDg5yLcb5ksKHlnlLY6m2/GuFP1XX/o6QuMXkWLDSSGr1t4GaBNEGTYRCoJmQMgybCZAumWCHEf3wICSBwOBR4MCyHnFRot88DCgcB4FDw0QKvR+PRiUNlV0Ye392a6FWbRDp8VJn1rkBTm0jfVnf3I30UactwockoYWoabkUUDQ9g4letOymqVKwYa0mfi3l7DRR0JioREVdXU8oux1TxpDxgSIREpXahYpxiapUJ9fGUhU639+jzBBrypbfLThO8tGnnnKut1vQhz17+eJOGjhAWeUtaudxSjFqa1LYwiR+RF6mRPJMntcuzmmlseJGqTX3QsICBRLdNSi0w8xhIqxaOYWg6+q+7VG6G+7IlUze3rvjYXLst33xxha2uEDwsIHmGiiihbkdSkYFGqOlT5u8NYU3TeaZfqVOl3SOSEFt5NtkVYq/eYONa5DWpIJLPFCCx40NW19WqCRqEuouuq2dPsu9VXZJ36qhpLV+8u6um3LUdKIRxTxokWacjb0nelf3wgQYgvX7pU673kr3QSmiynF2OPTv/7vWd4xO/9so384sWcTR7ZJZSlTps2vu2IS6qqi7qFkuRKlb+W5FXo6Iv0Yc5m94z+ujO3XSpeN0/qop3x7ie/tvk3WHNJvs1RKv/pyUb8Qlet4WVbr2SjxA45LcZ3ui2nCyzCG0Tp9X8rZQ39lVAoaMcv1G+9eS4mmY97gR/RomSA4j1pPPPkOAUB3Cw2sUwYKEIf+MWLDyxINBZr6Mos8W2JhwgQKIxOqgMMvYvpj5YwiaennOzGOoeCRr7IUQKYZC4NuKLB5eBQQ6EvGgSJLXaEUr+c4zKupztrXEDGM2jnjjS2dqjp1/6brK986n9dl1nsHChI8pXM0SLraOYVlb3/o7vhAgxGULcSjSydVHmtKtovv1QKDFFZRgQpaJVtHO5yzlkIl10f4Q5w6UIEFIv1BQoUMQyyxZJAQOchhip7O1dqFHEGkrJbxZ82v1cQUkNSaFi95CbQcQ6DWxJBBhjunqICGUEBDFOcjEy0FniTVBxF2jTyT4VefQgormUta7PsKYaFl/XSJPPLJo0SWJ3lChAOCIXpunHBQIO95f+QiO7OXiFhpZtT/V3XrhAlLR58E0g6TcpTqdL36UcOFFEI1I19l1k8UwyWvPSkvSkZzR/xI41Uu28UYcBA6dPBrevOpBCBQqiRLbGFWQZota00o1N7ErGBArOcOotSyd2ocgQY53Q2ovob1rJk8YEHUpPWCCimjQ88euRVMwsNLvzggY4YoKOLWkgUHGoUMUeEjwelBwUEYsubcqLhiAwHDiNsXsxBIes2lHECnclPr0t9GeFBgIGGEnvT7hRxjEFM4aL8uypNJEtbuGFBxSqiRlZ7dUrIhhBk6LPbHBAxXSWPas1cJLPSKDAgYFMJDRKXUIytLfODlVKxsyDAoybnd2OGMGCKaZaTwLBpa2xeeQpliQaeaLSt5zjPhWWgSSkuCIOEFEGYgQMUl/oOcoQwaCwSNR3kvSS9aCilGwUcYIFERCKXoS1JItQQIojy99KEglKyAUCBggOBF6JewRTGl4yMNJW8bvfZIPF1MOMYQqS/VMSamoZlV96tDE3+OEK7/R5aU0v/T/637hFZvyab33EIh48stdkOHBiBCKRqq0pnIR7lg8EljROkZzWtRQlokfFQECgQEdJdk1BBW6U9f9xXVzIW0lfCComlphGHak0lZNvbWro5xXjweNLuVRN3JihQcOVrzy5MGEKZ5q352d9YQr0yTCEK5lxIk195ykZekTiiEMpTGV3KK45woYYQImBK3070/dwgYzJpTikbpZ40kS1p56w2076goMMZTDir6jUoQ5K9erKqbxhjO93oEUQ7OUYQKK9ayxJc/5ot831Oco6MMwpwhEpGmm6p1EIIYhAYhtMRPcIBRSEYUhtrusIKdml4IikvT1273mho02s5FgPzj/+MUICVBE//f/5//etTi8sBtYpkp4EFMYdaZRzejsFd3brzvKcduNDa3YOITM3FSZw25JvDGGRt9O0KTVJ1lIwyaTpOtpGIxlkRXaRGIl2ibqJ5T9Nu/QRcsqWEcZSO6qVxUJ98zyGFe1RaykUpzC1MQxeiTUvUpFNWbBOGXn9JRRBRkX6br76Pwip7JjbjowhEEVEEZTLl5MaVRUJufhCIumzyGV3r8rgmbc5WUohoCGUioUwmA3LznEUxHHHfsMGGExUWYEQlqj2Omp9jHsQdrhkYyB+7swCBtIAUKFchgMEMTxaJBnXv+wZdJYu/pZgwgQiOrl2nv/JRIh+jmIySf9DNCKUQLBqJ2eTI1IfRlG7FY7FJc+5n5jrHSjKNOiokRVjp9V4vqiEZDbCgQcDKGQsQKEp0ZikR6WushqJTBQIB2Y+gkatFTtb2sdKlZk5lSJgY40IWJpGzp45Hjp0xJrbGajBTBVrKTZaRaRr23zG0InhUhRjiWBKm9LkkGcg4grJQSb/q4zpaqVogikyYmpNUEGhmLHek7I3kIiGhnbbXNHM964uh0qyXtNm22UnYiYEojKxTYyGTJwhRrI4jkQJqx+VJkTutbNfFqGGxvikcwkM2qEbhpRlya0I42NSMcbmUZFRETEf1dWijoOpOCKGda5RwIVjIHBFs1FIdjmKLMHG/n4q4WlTlI5DjCmORemUx03ZCZpVVVNURPFtRSW1PSeXuyoRIy2ahoNEpeKxRIDKBHEeFKQzBiBJILOXEqCFIVgWwK3yG6bnR6hOwhxH09aNTRlM7akxlE92hON0pikXM5pN+hW+susMKa6ks13bkyZGcg6SE0CBgRlkYTkyrWrKGJ+umtxptUkYQxTCYjQQDBbtahMTIwjAsipyGEtWJ4CBiI0LKr5YTwhrESmmbUnSWSE4lySUnYykTt06TJSWSStWzUQUbxoTmWCCidFQiskjclbE5FS0nJqmUk5rCczkkTt92hRlUn4lEVBHL/JlJggYIZUtNNJaRcEZSqWwjSwhgQyhZImBBgiZWpCYEMSTCaJCxRJiYmEwkYQxcJi6WSwspNIkqVOk6J0I4zsysysypIlyfSyZlJu2JWmnbU1JUnZSK1b1lasmRK24ymhOmRWRck3MqKYonNWqbpKIqKipRZGCZgmJiJiMiaWWilgmRFikFCQRojFKlJFRREWE0KpkGEmCSYI4WIRCyiBgJlC7IZMQyWmIxJkvE0po+sXLYxHl0+2UTEpFqCGClxGUoKWR3tMWtEYQYIaSlMQxMCMFBGRAYBBiFCyJ4XAjAqCwoiQ2hFZcyk7LUKR0uVs4i6VOiSbKJ4b7JERSRJiKkqOnuVN00tZ63J07WIlxHSf+OqeosjKMzQIcgYQGBAAw5loxzpngm37kX1+pu9O4V6fea/nLvCGB40LHAsweLy4lQWepieYf9+p5FtaFacyTUGGixBImSCoqEjzzxJPZIkUaJMJNYCFB3DGh9JWbElZyo3Vu+KR6R6Kl/ESh3d7VAwQLmGXbwAmFdR8EgHbyDEtUQiK+HyVvG7cBo1Gb54VugYPVxMhBTcleW9x01sujNO9/vTsgZ6P1NKhpaWO7uSykv72wquI9Wqm6GDkUlUYEFDIu1yJnV4GwtFukSgXlhmzrQe7DhUljba+pioq/RcrXBcdIp2ZtrVVm3ckCZoUZLs0Kl6stPnuME0y9FOMcJ0IU1TrXa6AIaSbD0iAn5Is6JIyQisjnDFHPNmyadvVtm6+lQKrl7b9SfSTyrzNXPs71FWvrxznHAc42gvA0gvh2hLi/GsPIakZYzRK2k0GglXqy2upJVavdVLwSAW1pZ6X5dtzy6Yd5+hu8lnDqDnSc8X8vl2NsHUarFwZJJRZcJ6OXA3wAl4vy8r8HxK2ht9wEBALuDMi6CnpkbCIdbX4VJ1sFDh9YBuYZme6e6Fwl39hnReoYa3VtB3ivBFVGAjiCcVtlBngiMCwCQW1P6UoQTXFzHCrNfl/0/VZlZHQZ+ahTPmXVqJTzwkNdqPUCeMKRIgaKQWS4xVBqe3rKDWBqLV+o/tc73Ri/Xv0fQdVplp49Zs3cXhee8z8hSjYlR3+2xmkrSgFigy8+IhXSY/t0pMqLwSaEoibU75t1CkujejHFCHaBYiKFYRi9oOxX8SULWtOMyfpYJoAXAKOKQdiJmOuaUj+x4V0J3cCpDAamk3kq0FZc3z97TXPt0p1xdLzgqlOOHcB4pRBt1s5Q7eFgMnZ+o9EakGopz3xnnHXEaDsZ6WxL/f1OOsC8RoczNkzl/qPw9Wpps5ttr+rSkd3d69gxAD1RUQoL2ERgeWSEjcGfgXgEEqk7P9osMiqm7WJJBA8JEgnmPIqFxGTtJ7kw0Tb4rQumyMf6MWJyQCWefuW0v41MKXCvi7GPeaolLObP7fB5MpSMrO0OlGmC07VO3t/fU8RgPQDbiLCDEUpa1OWqasTeql1EKHVIjhynLc/rCaL4fJn1aKuu4jQNxXvtJFRnlvA+o27v61C5q1KWtFEyINuQWcAvEc8OKvOjMx9whdEQNvAvcdosXV8hgbQgcu3UuvS/I6+DEY/H1W+jg4x2eF9vs90Fye9z4i910Nq/+KDF1m/DGAnka0vFnvABUx/6lXObVx3SDfTY7wHjdr8m68mi/e3GN44S5G0ZVSPMZtpMCLKfOspaTPlbLs0VwdJK5OUYcUO5H4vkthrscBUrrUtW1HU9Va1kyW5HVhsmiWDXHOkAaQCgELxiPOh+I0Z7BZIEHgmItU6zlo9caKpT4tKxGp8sP0h1dL+zV6x70IsnIUW24yS6Te7FsoqrJ2jK0HSnCOwE8DthUjf3dClAlMwdbHA+uKUeJUbqLh9bEzaSjRZl3blFlB3k/qdF5+SYR++An12TUW0kbkDEOv2UWixOOF1WamUvRhSNunUliNhdX9KlH1VEhKdfN0kWWYX3y/7bpQYCfwT64qMm9yBbAIYOLVjANCBgJ2hYlQgEDBw5IkrfjQnY0aFcwoPFzUik4MTh9EoPfV8s4yVN4Dj9kst6lmSGPrMAULY+NRFzOxOkDBwXGLgVKj4QOJGfUmcmRmrw5ItSXg9s9XrCsXk63EyYvi7t45Q3vHTycMTeHNFJxceyx8JJbpE27XIAfM4TumnNUUc0G0A3TyypSVjE0+OImO2ggS+IGHiQQL2oPoCw2GFTgtgMlJLaLOiAwIEuJlePdoNTVBOiuurafIW1D24YLLP8pcHOU0WPX1I5myzB+O+DWo9LrlnowsvxvwlEL7CAT2TRBsYUoONKqeiW++5EPtdob47dcVa1f5X5ITu8rbqEr0vTsm7z4jQG9cMIc6sx5grOSVDFnur3cQRs6BLfOeM0s2HSnaSZVs0acNZACRCEglSC2KAB0Y3QmzhIUoPgUV3eLwA28b0+DWcZcPrVVKT0BKCLMLsirLpOY6atpvLtgp+uZlWSWcycPRfJGtrwqX86xACJirjt3rrsJgFqHwvQIXECijFKEV42Qqd9jY/f5T0YXDK6qx0/6GTtKFpo57RJYP2/iml+dYBUQt9U6EMFqKZ4p5WqDUY98o7oSqH3X/6QLWLEbA6dHEPrigIl0JFcmRTJqGslgO2xMGpgxMy8eFV9HQBra3YjTOJ/imBA1wGd8gNos2kH0Y7Yquk/VjZY4xXldf2zZBWKF3IbxqCKtYKRAJnPyZayM5AvF+LLSDyFiDGXI1ydljcqTdNfM+F2ntv+Kke1dvpCp06lono3acrdU7xdhzNY2gYZJtLcDiOB91R5P7LV2leikcqAScEnG3gDMSMwSMDmubEkmPD7klFZiZgHIA3x+YyM0gB0AcIl8ysjQ65RRDdf8NLhLYw1lNxobGLjPyd7PQO98qVKeVxXgeqxPunhdh8TKHiPSWE0RyhESvE1IKWp1HdYNnU13P2fqpfUGg/xVhk2u9Qqi9wbt1+qTWain+bpxGe6DhnE/lRntdLUOnkuOCDQhwyei93G1FIlJTSftuJk+Thm+DYAsjsF72qMGCxmbUfq/jZBYFYYZLTuXspbhT1Wfk7vNYT3KsUCrd+VhsdzDZUUWpHVDb4twj5bSoLw7SvP0+BcWZRdBMF2dNX79mi2yfx1vDfzYCQqxXaeXQqztG6AdTjvg0v+rSebsRpT1Zkm++K4khaWf7B1BIC0oNZV1h+VaPgSs05JyVmaIAQBs0yT5K68oxq76aXlXU7//fpYa1FT+lZTHOs6a3j4Nb/Xk1ektUk9sRRniYdrjJY62G+C1JVZb5HoDQ4nc/b048W1Z8OgZRRGSbBZzX6wcdkATs8ggb621J1n0ez9LWrJZVzbNYhKIRf9cNJkVOxh/jmGGfZnBfmYMo8xLFOMpjoLXEiWBKaP2Pah5J6MZH+p74S0tvOSHtaThY92oN6tUAmLtXT4cjacRWmeqSsNed6ZewdcyAUZaKp3uFcP/oetPxY+hjlYTWTJhAsikoOT1BbsH96olAxSY+xJORHP11NVgo4n6hREZmxVtdr4SuQgInMUanTaoksvebO6yzXAKT3RDiNPmpTcorLoQCnSYuglncqWpCQKTnSzZM5hfeBUvxa50mVrUMo+XTtxxFTskXBbvKm8COXVPgdnKEhkgOJy01LolgqwaSTQlFA6xETFQu6bKhIUC9jfvF6GcyUqSi5Rbb/IYEEpif2vqhevNkKvUULRElMLYQ1ujFCCtxFFn0ze+GWO1nLLgiHQ9uU+u7qD/zgF+oWRriG+RnHbTMY1PZ2rWHIktrMnmGrwlyCuMrGObIyLrCpVBamtiVnmnnHkp0QaVYPRFCNboTYIN4Jws78C55jzfZ0V9b7FxNoJUUMM3QUZkvEodITPBx+HBTAjs2Ea0RmLAAn0L2Yekkowfz3w2YPNcc0QUbTYTVXN1+fFbGZHPiH5WKIf/0EKSRVHlHXcJjG6/TU2thaGZC8j+dtjAonwc7GGlW0355XhrwtM4Lbq0rdjG+tJlK6DLp3xAvhLKkincBUFvaj9okd2wFozjhQFGttiBta1qH5WRlb0LJnORkEBAE6NO+vX+afMt7MngQKTvXlNdMG5Rw2GKBpmKsiVXOK0erMlm3M7fmzoiVc+IuUmQBhhKR7IsK1QoyoMkH6o1KI8NjpmUR5wpbxDGj1u3wy4EtdggP2//jFCApZTv3GAmkBvP1C/3j+1QDWAYO1Je7CBPDEf9+lCu9Ki1pVafn1WsRtwjBBRvcj2awBGp9Wo6Qj7Zm79Kk8ZL9yIMtWZU/QpSSTi2jCak1oWvf1KIq1RDJ9YjOa4YYSOGvVJJpgbeVnSz25KpQZo5Z0xO1kv+jktBfeWD5cgic1h2eBTNOZ1Mj1Mqt4imK5buw2gD44rvrpcLLnXhA17xZeupP53UU+IDr+sELylrtM3AjOkv14tGpEVg2ChcJA+cvssiSimH79Ai37YolgTRiJ4CW9HvzGyWHcV/xBytohqhZkKJos8N46Jl8pwjRpXp+55eFtH8aNweYG0aZXTW1kSyIGsm9y1gpMSHp/WamjbWAVE8wwpyIR+5bdmXibqYLKDRkhUZ8/xC3OKdEKd+wS0GSkkL2Fy8pNsIu/lZLbdyDPfaxP4lzi0Bg+4PWUTllMb836O6dBvB95pIE6bWQqWwtZ76d5//lGoNvENefIYhQoqWY3TaKhXVsSp+LKD1Ij8QbVxu8FDj1LMtIwyc0PsOt2kKRybpzQ70K8VFDZZRpJNLJQr1yAJdNL74dHrUJ3E307nmmYcJxi+SRCsU1D9jpOgDPY2MOMinn6srnZVKScA4EejSVUIXJcofBIJgwg9Wpql9PnmlwjUflzCEUodG/B5Nq5c+Oyg+bmnjbG6yi/6U7VxnQJ87d55ilRdUNarkkZC2xedl0iEtn+0itsTsb4Imk0LwDvvkVfFfJ9o1Cne2ViPwmeI9pyC5K7I05QKgAiOVa8gV/NdnMreTkk13KlI6vfiIKlDiG6qJQjCX8ZcoCdoPjz4K4QEbv+KeuOFjyjmJgFaZZeaA40zrt/6GnyRNfC1li2lWqnvAveVOwrUjN3A7bp1ZlQVdYq6pa6RxF41qKxZkoVJr4lJWEqsKM83OHd/apbqXRPlBfsOgfjNjuvJXF/dfcIqhBc1OXgrfn71NdprqxKewiZ8XDSfT6K8DWLeJvpYw1OdMd+E7VnSD171a3ErVBTk9o5Z7V2YgHXY0uToRHbioL7Uqu50/FOCjE5KppvoG6eMRGQRhqaMHFZIDize6/KQK+x8bfAVV4WKzKdAgCeih5cfs/pkVvX6L0B8FEB1A3/xVOzsW/9ZEqwgIDj4tUxePUe3PIq3hFDda++VIqXuQxP6Gn1EyZWgnP7ydYwp1/FQ1qPzOZt0VckpXUTpMUEHgunB4K5CP+2yFW9r0GoxWgMy9mIjKTDZsKRso3OgyKRJwxqrpODOJAWKhgwxu41pz1bAG+VmyBIXwGKTcypbUgqKiwYuflpbEAlMpDRB0vl0dM+GJCjD6Zk0gwOywMeMQo8yedx7EM8PEssywuNSSthdIIv4SXwJDzWTY25TA/inoZiz68/XHzHzthkoc8fSQm1Z80zQNz4op+YqCQad02STEOXLb4d4qBqtvTSao6Yv7yQD2ZyowsZzMkkOFWBOc+cmHMyrKXRgGfW5l+GihVs6+BJQmTjn9KPGVQuICy5hIJzn5huo6GkXkVRBRYX5FvBCkIbIdmx1kE/yPT7DP5d3Djl2rf1qQtrHGiEu4s90n7ZVpSu/j1wuRqdw8FPjwYtgIexd5ciPO2J5d5SA4Xh5sYIGvxQ59NkuQ58ASjJIs2dG1RcWKfNeynELPnuy+G4G40P4ilkrgYJ/DhrjyV5IFVyLrNnjz9wUXiaZ0bTna/1cooyjBEVvW7oiglvrZa433L1AkmhK332VEM0EzK7oy/mQP4usIQpQlUz8FOs7pClJL/zQeVvBe0qBglvYev4llr6JCD3/JEI77RDXzKTVMXf+B1FZIq/hGyDF1esxsTJ76Y4KouNadoIWJPuW5iH51VpkHIU0qvICtcOXkIxgyVXXYVIXnICFP0e2dRfGN0+Egcc6wWtmwSLwH4yXAgv3L7VCleBLkg5feD7RwinPBbKoVyfE4UqxpJ2vyFQGQ3opXVZTaM5sQWjUlXIkJqfjEZP24teaTB+ez1wJvVtZ2Gll03HEL99NV7KakLNsYWVlhPWjkGaF1uy6nzzKw2YrPwEVESBm3ZK80qaiku0oidDnqzq8BoiTOWd9ERyVGCMBcJPjg/DFvMdaHawURNQLBJETuYmD6m0rFu8MYPvHRpCCcBPOEqmqLrRCQWHAMfiuEQB692GJPG2E2PICQCC7ZcONemR4OSazW5O06OFZmEVCS21Ox4qirsqJuKkC/KhHH8yCoAR33CRN/O6Wu7oSbepIyyc/qsUU58wM8KG0puwm1BaK22YUSq1QnkMOMdkGPLZUJ1udnFEo03jUzrDFtLTILlDdGrWk1do6KpcFPKCikyE0BO6Qap6aUgoz1C4aMI6Wb+C741NuJ1JbJ0WuOy2VKdE7irrkYh6igkcItyJK6BLWQmSRgAsFM1p8olKVkcoPspPBLJgWG9Q1OV7WsEY0Oh7sRkY2UeIKpORmu6p0tspaR8L/QwcIxtfPEJQfTdS4EM0YMKEnonxyvd+SFWqDemYPhlsrCeMXDAhbbdlfoK8+r8eMsUScbJKAqho+h26IRXrwKEemaJKjl6s0zP6LYsSunPUYk6fp7SMoRfHuUjtafq4pTZHnef2yfVl1+4JrsMXNQGexiSfJ2k9U7xAKBVnphpyyoPs1O62qFx3Y7by2YPh/UMRfgSii0xuTk7hEaAYwD1Bgk+Ag8LPUKGuEMGvEQKAiLobHZYLmFbLSgRO1Bx1+cGNiIgn6JyL3C+ujpnFoIBbm0lPah6BW5nUmw/Bco0hkFtTQxRg08T5OjyCwkNRBPSxXJ0XV5e0kTah1A6XUBweiNdqFyaVpqHar1dQc39rlyqz/VXy6uEk3L/5vcIaAm4l4fuBS5oY1QCwghJ9TrE1XDP9MBEAMkGlWe/1B8+Rz7NTHqO+ReLvCM1u3qpRYSWz8RtpU6a7sIIKmms0ksWJVUFCLIeUg7DsGrDeCahGxFWk4jDPOZ0uwp5B2ztdT+gHY4fmHN07svTa1FK+f3hxrN0Ysp0+4axxxMa2TSzV2eyv3IZdXYHQAii9gFege/kgH0Ab973JqeaJSffsGBzAJiW0OnKZVMfNRrY6SEZeALhBHZdtkGlPS0sW6Gaik2e0UxBElTO1NbUzAxQxoBSWfSRkneKMJGL6FYEtYEgXY1EHHFvdBJ/TrzVTw9Bp8gh5Z2799p5TJfdtPm2fkmv3jfCqWhFYLD2qvZdKRW4NV/m+rER6w5Zow3cDjSUR7QH0CVJcrkoxaUc4SJABRAQIkEiWLzEKAa7M2nECLmyhZ4svTUiOiqZPIvkXWTvGF5ftPicSzXfovtpJBbT1PQiRD23VYyoQ0NIbFDtA41/zRiklqTCoNgKhUE20vi+lvkEklszRzVaqlkUO3co9k+t31zXbReu0os78k/ScxXa9MhFlrC8GC1glSdwK3DkZTBKw6hH3wP4L89zPZgGEBtByVw47empM/Vm0AKOaATmHam8w0u5O0ak8iDTuyvU71osbioycS9kj1Q9fOCkzQTc5CKnGqBXEOAGhGBdNa0OWEhQhB1SRJE5td6959qbkKozlkJb5kaVYUQ5glsptb2s2s6M1qcop4NEbFV27XrqlxDZxbYdHiYh4IWOcJlAZ6BHsfATIClCyre/bTsJUH/QR8DABIlOJty3CVAxScEG4GeP5DYRPOOqsWp+GFl1jAxM7YeSU12EssnKVLbb3Nq4jPiXPqk9LuG7wKmHVEhV9wMU/YQIToSso7JpNxlIvhzHyLL82Mmktd5aD7a5qOPXILdnwMMbh/XAY36pCb7+57pWGbWa3sokuU+dlsI9YVkUFwggcCKw2PJAUgHRE2brfcISVNSnhCw8ozC0O1/On594QwQc8TR74lk3/h7wWQr7SkAnnneptqLiq0gm7dp+tR/W4UpJ4iCo18Gbc6W4wRhSguuvSF5nv74lWeVH+8pH4ee48vS7o+UPpuw27DnkZ5v80sJt2f9UsqsIw1Bw5EVzRmpshnvKOmOWOO4ao3MhZp19w7YJQ74NaH9hYdACEGcWVwcDIKhYLcnhQizCBOgkYiZvcIE0D6OJiVL6eLtnweheJH14yhEbuNFWI/BrpEnrhwpuitE49mwjGdofAY5MILT5XRp/1059cHsVckcGteb7Lr/en4r+TbGsWhMxpHii2TlsDm6ntOvPvq9x3qvlbERElYX7G4cLomQBIgB9g50wEsEgnJLBQtcmn8gPomArgokQRJ9yQcwCkBzEAj3PpC4CaFVzJePIIcQ2jKTGvgMAnHlwVGooNaNyf/PmaaqmFqVbx+dJIVf6QpIrvByOSqvUrz9MvKy9V8f09LyM7KwVVH/qRVKXv0+2y5KNlssgzZNE2S1K8sSPL0v13g8yExoqArK7WzFI6Cuc4CobiCvEInCiNoyCoViK8kEiFs+nwVBNKhLZlxnfzCRm5I5NnFx1NBw9ioU3o3snAw0HO7PLmxWFD1uLky+hzW2NBTMfGX1psVUFF2dnGyUtp4KNZalaP7f5bJJEmyTIV/stWqV/nmaLtSenn/7LZrbQ9cjmEuuikn4ewYhTFk9FNdS1cjnU+CoYeisvIFB4FgUhSIS0zJn78zEJe8Ue/u8iJXKXpVdNKV6kbbHZ6VKmnre+YqW5E8cOK/lmfkLdAR++XHNw36t3Lt/uLWyydaert6ztU1d1Y1EgqKX5woO/3jVSW5qPVBXV9jR2kyuKWlrauypvfX5txZceRNrZuDoxNSolBYMB4Eh4QHg6CYHAXCo2CIIBAOCwsHQyNHRQoZGjJ91hB4IDAks3zwUTUKPPK1bP2XFDcpWkpGhjlZkpiSkcnNMzEnWvVbGmtH+vYw6ybwyq7pab+UecEK/dLbutIyXleXuTUzISt+9Vl5aRrWpWXkKVKrjYRTzwhSb+VHAsOCRwYcLDBoKA4FDTTx4cFDgQOCASKGHEDQkIEkmuEC2mOvauwyX9JDyZWsLf31X8qIMRV3tb2zJ+MEYqlSIiy7cuNl323z59eWalS9/qKNq/Xi1pZV9VQomO/vV/rCjUdz11GuEJ3kpIsVdl2ySSS0MTQKFECihA8SJEnjwoEDiRg8Ej1LEEN2z4oxQuRJs3nT4qLiaskW3+lYUzdcjNfcChhhBV9WSixqVIkOJQ7xD3uLIY3KPURyoovkmzfLO5YSiujs7mhIkhxlnkimoVynuDSDq6pX0o6RZJuyn5FdtFHqiVOMk0cSNOQqZJ08JHsXRfrBoxzne/vooUSmqzvChYxbEV0Y6IEkoYvXSz2oWrgxQgYIysKMcyEEEtxx3bYTskM8PGj2sjvPSa3XJUQ9Zr+qiszxL7NqfU89eIglr0xsT9RV3azBCRVplSHBxyGQSUPBwABRIkCBOhhgcCp9NiA4oYqYm0tpLk05fZhHi1eXhOuoRjWKElmtagnWMGPLUvBVWU6Yj37L+8xl3+Wez1yv02bIIGhQsWaR6RE32Wc/kYGBR7XxUVFV84QQcxxLlE/iJl1nCHGoavWW6/T/86quqIpHOZt7NZVdVTzaQu0vtb7XN3FbMMQ5l3MuYRyslSkbHlq9JmTRb03ELs3bQx8t2Gmz8x/kjSRK/LGpj/WJef8o7Urbbdw24nyU58wu4nHMyaYU4whUYw4UQw7sOUKEVcPxjkdVfkKnflFcrlOXt5Toidqbav91c+8l66b56/z0lliSSXzr3iR+m7cWs0luVvR5FEMI3K7QgRvQuRBTlH179+syXtkhEDDGTQhEIxiMhXW4vFD9VbHHKdVUVZVdXUKWii17xT1d3ZZ2JDZyN01Tz5V5SKvXqdThbYg7ji65rY8IIzi3iCEGgvOwhksNMQhjJnjMDGbKStkQkEMqIggyDRMIIMIaw2EIREqGMbzvaYQk3eQhMWqxsYiE/+cqY35zkVUpnMYyLtNIUyJnUdivyJQiezJy8rsViIjEdCoiIYgxVa0njAxgyUb0aUbKhyDrLyFlGVSqJGHqokeESLBAfxUCQZEAhUWgknhMdhUVjkcjURgkOgsCj0EgUHgMDhNGgsAgESgcKjUygcuLkhxGUmpKq5dUMcBlADXM5VhhwK+BvRc+mE0A4wGeEygYn4c8g4fki/gIQSwQAxTTKteFfXl32dw8RWAaYRp0MBlVBRdafPJtxbPDVlQ20cg9V/N74q04+6Q+2didRiTXeKpUR6Vp6yPrblTDJBhgmkpNyE1EJGNjgCo8f/4xQgLXlYAgwIzApkA9/88/h39xv42/oX+uf7r/yO0oX2vF0Bcbvi8BQ7bDaedfpAmixaPOXm335pKYo3nKrYir8BAhKl2ObY5INrR2Ijzta6MF9SJWy4lCpmE0kZSElfKZQlvaJ5Himka5JoUOXYmZ1Egc2O7AgPpTi1Rwt07dGh+l/yQG4rUbnRfe3ZcSuTzeTYJq0t5pfjZokHph7OIWQtoOGmY7kUEfVCJPHjDdW2gs0uZN8Vucl3lk31V0+lj+qX4q9DzIIxpUBy+fIrayaTpKhFEpFF2mDFFHm5mTagvutifL+h3NXBkLYlm6wMsY8xkY4JszgEpvkRWIuY9Dt9WxVW37xbiBpYTAY3HjZDUvqHCYPvloJm7Q4o7BO/CCBWcLGFsD1uKbjxiSOFPD42efsCEQZ8mDVmNa5vxeNC2mbt4O2YhrzDdA9CK3zOsaLiO4lJdwoT1uNKdol8VcQh6liBQLT8sJ1FhE4I3vV4Tkyojys895K8Z00WAGpFkUw8q0HBX+XcUZAQzH0xZwg9CN6KQhFUbpHWnr+bMkK+F6VlOeijSCljPVVnRcCK0Ozy9yAi5nkDPn0kYKco51iI4JsZMk7WbuoQtpHJ2Cr/VMkx5y2GdDwBmzQXt14uQh4+7VjPBMTFP8aF2EzQKBtTu5fDo0NALPgwKgD+4gY5hRR95XlFpYItNbprfQtsxHBoplEwiVsQgpWOH83u6RGhTfoLtnysHcJLxPZskTCgSepccS7jFJpwv2OlQnyGRoHwBBV2sCvWGJ1UrQNbkqWer0YUNVjLdk7ps9KgYy1uxGHqmiBgvmfw6FqnNyKlDJ89lC3+Deo1HovAsdDqzIMuW8UhNjSmlzDk8mUdC7NuH26uTJ9+Tasov3YG4qOMfUxbM4RTxzWZb1lZSr1PLAeugKHANi5IpBCydhGjUlRDYNPkzrEn9ZqjCtNwJ61OkaIS/2LY2sHUx4BmUME4DR7YkCIquy1lX3oJ8sLSTUq73PD5iQK3CPYElVqkRxgKMmjX45E29IwsPbaZgh8QpEMW9yoIGlc7eHJYapJDTbNuPt9FWJL4JAOKsUmjGnVROVvE0JaIo0OcawL/qieGT4C2avPTOqr7oxdhI5BUojHJatHBZOC5Ln4Rwhm/8RQwcmK8elew9AUvWheBmboF4Cy+azG7G2XFJylK6XkgxFg8Y8TSCQwoNcAoovWMxNBWoRPEEYddEw2hkythwueLqdbeDel4FkCb8NJRdApqfCOFrmh5qa4L6KqQV8uSiqhKqCEFhas6QidBNV8apOb7y3aeuYluWeFoFaSSmK5FVJeLEdeT3RgiJsNkoPLZyXcyCW3EWAW97oot8dxVancSE7z41/fkAt5P9kIEGnNBkBISdcTGLy3kvE7JVO4mtCfuh225JwUvBLB8/RueYpgQcVCbiQlIuFxxF2mTy3xqG7SjdLDeUsv8BnRMB6SKERlGBKdHsA0XbJCRQrfPNca3SDUHh+IpBt2q0sYw7dPXm2AZX2ZrLtB8VRSTF1fueUkSZxCkoPyJlXK5EPE+tQ+RL0UjMovFfWTxoKySowz7LfxlVkRwmtY2jFwRDMSvn/YRSXrI96bpXUYTXxZPQGBPIwdChlbniBb2K+L2rm82eZNCO7NFdYyY0SFLkQu5yZLWkjecly9C9stSuvw3esMTkRNAhpss64cieJjd4hl1YNKoPr+Yzhz0c+Cg0DvfWqwiwUPEYahSzEwhB+Jf4Dgd9c4oVIsZrkzxaqPXUFnXbsz5bpLnvNG3/eE9sNhVKneGr0uvt/7WRr2Kl/vTRuRogj5lMijBC8osRgU+/iMxdYpf92cg5VXeuLsibCyiIHJE+FLfiZEDdCwd+pPoUGZLcw/fbDE8MyyN0nKqs77HSP/qdAtHKK5z7a4C4s8/JQL3bf4pe6RlPqLG5nUr35rHCeyQRzWsis/2JKmXbEhSj/031rRNMJ3Zaumi68JANPOqu+/J5DNLph2foUxU1KiShgpZ2GOwQmA+SQvEQaJkax1mpprNCQyJRWSmCVLRBpE+hP4hOChrnsQ9cutwUprZQtxCd5FlVPySBWmi1TuNfNKZ/rK9k+5LvbDbJDf6hcC/13NK3aKlc1CrRg231ybaWtX72asxm/nZWWc5Bcs9YTvnH8zBTEnQWe1EpOw9K1kM0CLmRvuhUVRSe8frsNpeX2o3jo4yZDgKNhuI7crVUheLJ6FtsuYF8kJOwTTIMvJgk4miUbzEo8UXEJwvrwaALaIF4PqMah1bJzgJdsuH1s6N+hcOZArrASQVhpXuB3zOhPFD3nQkTjfQHnEUnvZmn/E4qfSfoR1cgNJOI31Yu62clQ2WTZ94hAST7Cr50ggLrzqTiSZuKGphMK68kak83RNxzMBZsyoAtsUlDeP7OodFlFRgRyhiJaaIDzjMFIE8bPb6MjsaXLchw7JG8mTrBvP5sb2Y3heYZI0TTaSCwWXorOqcCIxzWL8SQyYnuIIFB2okg++TkPqmSjmFcnBLd7byGt2C+IJFHl+WuLO/VbJQPnvf61WR9FIcTQHKQxBKKJISYPhaCKduS1uPDLZO3EXcZKFJ5SJUSSRhKgY1OsrKSxVAVVa6vLNi2Eg6GvMtS9YwdErzzJFngnzzE6NkEKwpVdARYFYMkbn0qhGgfyfBqJ56BeN92DSQIRj2057Febk/wckyLHOybdwN41Vpd7Dfc3M+loR1sooMTH0UEVyubCxdWASGw+tT+GRPYqisJNUFNXdVZK+3YpZERBxIj6aA3zRzbVHkbcJ06Y5F9OpzPs0zaTNGsbcY/xufh1hb6aq5N7EqvGy6QJKiCrcshV0RDgYBAOdylMTjGYpC0mlOvnLP60gt9Me24ge9O+tq7lZEPENO+EZ5YN8QxXOUaWqo88kmMxcByHJMsm3oEAUyh6r+qfMtjZ74jZernFaUvAZt4sRp8Lcb4iDzFGWCjopGdkSxiFS4kVU20QSrb9XVtd1bfeIufVpSgqCTUooUcFXKLqA6Aii4Fp8bZlOQ4bbJCAJZuy2EkMEdDhQBv7lN8egsfZPPpddkOOzsE2wLzTKwzr7fgRzOkWTSgvgTC0leUZ+bW26neCNf4WsR1h31EnUU/5o23K2ExOGFrEjFbAxANNnReaIhLPDtKaKQSw3kDQCqgpmGMIzCC73n87z1hMVx29cWSWbCk6sjCfJvjEolzkJcwlykxciCZZqMFCIxNIJMOYuGhddfXFEF1vvEBDWiouOQsQsOaCQglYAF8BxhUxIyMuO53cP8+RyisNgOiBpplZA0UUa1df+oF7wzwwZQzXM22Z7Ma7FbdlML+jiCNEV5YmUpTSIQvVIaCxadPpup5sIahrWiU29TRazSjp98Z8rMlFtBP3HEiCAHdde0seLYa+Pc2bnkMF5br+jAQuKwo377AVE0fiSBpBaaumrM0JYpFx+KSEvjBdIutQtDJ65JPCOuOjNH3AzQyBaSLmWypM+VLK0PYTOblmliut63yZl5I6mRQKozOwi4GfLlETmYx2VxrKFLaiIyrtpn85g0jKo0rVbzztG1+c3mcjdr/XAMLumY2zNy4lxN21VFqUHJZUzTXrEoTIoRYEjaZJ63oMTjmMKG39wbJ9hIp4d4MjzKYGNvG4hoAFWMfLzb+Wi/y0FpRjg3HKe5NXjjqmW5A6Ad7mG0v+tDW9t5/Dm/c7d7e3CPAT3cnDpJnbSnHI0l5E1SdrCvoXEbZLiS48xW98kgKieDQW59DbSXr5mrO3RspwI0wCUHIiZXOqb0PGk7PkwS2Ngq+RSOCIOyjiR9JvLCUcL+ynq5d2nHo8vxdaCGxa7mcIzbdcOM0T9MQRC1cO0XKRiuHAVKSJysKUuNDXtYkvohJm3rFZQcp4ckq4AogxQV8FRI3KSAqmK8NgRKU/wX8sBLlCCHK1t/OFbQI1DXReBxFa+Ej5bPUdRACEic4RH+0ZAfphFN1eCnJUDoP6tV9nsXono7Cj0snZr9F5WZzcxCdusMuZ8lQt1nhR8TQhISG7cTbeNwbaQCBofz9oTgnDae0jpEXO0jCPE6yMf3475RCARkmzV+yiwZREFZHbzSFEQyXeyK73FFmRlI0r7iroOr/MdMGfZ6lmKdGmae7HV79/MYn36gypEmRsdaEURy046lz/sJkbzun9t2KTFQ0xCrS59kFA7GhMsokkshuxNNLMIwqCaRykW9lcf2c1LXml7fQ9CZkYdwkvBJX1m1KpSVdJK7cBINNQw6hVBjBRfVItBKbrS+TyXaQTcvNSJgrr0jFuNmovFSVVIGQzDB4PzsKRYCgIx4zHr9R+K1JQJiUmn4+4d4wopheBr7Cv/YSSNe8LssHH/cFs8zAzgvt4ut9ssMJYkUCvYb5mxAYOjgqMsGOwg5WxWFrGVBESwjJRoeFYTKQkBqpDAIhVC8J72V1LSW9B0cu/UJvpv+s2+pghW0OerZ+aRM2q0Gg6F6tUg0SXqYVdOjMutUyV0FMl6ywvYJFR/ohMuPMpVvQysoogXAAsQB0A12koyeJJAPoEcC5EsZAJUH4x7KHKw5zwKOgkGEcbqJ3Bf8AZfMdOMNkJIGH9hHsofpIEKzyXQcaQ6Z7CkLM9KRGvcksr9I6WYLQ8Oc4ItOas61SGtcrHvJKloj73hfjJxof4I+Ew6MWQbuHzCiL7RYA1Q3JmBowQoGLeysJWISkiIAVMm3sBQeiGUEPXjZqmIzfP7BnA/MRUZG6DdLZ2Obvtf0qXol82c0lWN2GIU5smvTLKWPOnu2dBMVt1YSU01Kc0IIyOd6bkYENKAJoDN8MJgdsOqHUCMvSXI75VWtRsRjzjnDDiAr+8MFMok/8k7a0aOplpsszv46udeBHIz9z0Gz9uuOxN9MzUCuKQNvpIX0P8iTXJOxRKjuudP6RN1coV9tsa1tmK3L9bYXHMPiSH30SheAzO/PCJ2CSG71XokjGtZPI/Amwm1npFXqfgySpFTiDQZNNG2/+R0hmPMwO81s0IZiNFcyGVNpMctue7zmlAruHhWrq74jht0/40sc8sUJMEOAr4yrYzFRLZE+ysNrMlKZ9EVn68a2+6RfIwkty4MzbRSuil0yxfkWSy3rMxpHGexnUUzzwRunii2roqPWple4tS3lV7KQ8UjJy3j0Z3BoOeFpH70ZCJCg7FOmjmvES+aKVmGeS8yOIyBBtw4vHbh2qHn6VN1OVJmqKz+gxzvJVJuRKEuY6uLomP3ylMxmFgrgwl71dJOkJH3RMX4BmA5QFtC4kJiLCCCAkEpsO44hSUeOdIrSEmycqRSUJDM76QxnIXJ5Dba+sjfWNYcKMxddc2XITHBmkKBdVtO5L8VHk6y766rLzk061peQU4YoYgAzgboFTAaey2EKcM3SM3FeI1ATIIGxzVmQsC4qRZZtUdXZCQeDqReK9+YKYKARUu9+N9dssj3kV/ODwIcqbBnEsBJuW1TFpCi14a197+rYddBTzwdCJO2SkCXRhqaCipCEKsWUzh0XCbrJYfZNyIOk+jErxipCZPZg5v1wLFuVDE5YlBmdIpTHMi/mxdvA9qkiS2i7DrR3mGmmaNGMvedANSKaevBHF7heb4adwO4S81FvMHqcuBhdPugToJ/nt5U5kr4wK6OnesX6SJkeQXEvXHG+JtI5J4Icvtt/hlicjQDkrreKgttBm3zsT0pi2K7Z32tW6qE67D9WtckJMqzkeo4mNPPbI6eioo8VOi0+NLJ5gylt5LxqBCQA4FMy/CeCFxCJPzr1+a2aISDoWLolF5c/1QoEvTtqJOFa48a37DXe3JK0hdamT3a5sMwx/Q8ebn/IgcqlrzJOfKUU4Apn+SbCVnKtIXaSYwuNl6O/8jT/9jOB2Q+PQDWzUbsLoFxAE9oTfQ0qZgO7BBzoyyhs4oLv68mHKyXJpovBHCifFep1wE+iLpxJlJ8oyJe/fgvHbK9ZlMCfv5KmOYrivO9Rh/9+OQ1bd67TFAEO8C1RGBlbAIntOZUxvkqUjlL11kSrXkuWTd7kSoDPgHLl17t9QfEAJRDGAo8EEGtjZGt3jIiXyTuajdkQa+OQtfrnblvW9R5PrSCDMlSi/JEs/2aoh9zC3wtQ1AqhY8A0LFHRua0jk7fX53EhMDKY/dHO6LaodD8+RgkPh0rSM/mVZYLF35GpYfA/ACphoYCCxe3wCAAFYm5MLCbJDUw/hhNxsiJJMyTTNBAQ00cNMa1Bh5vkHr+NhuYpqAJXlaeqP3vfLg6h8uGKm/CraJ+l2WBzgixgtiL8l9WDy6ScAtu+qgoanJit1BBccpUlW7I6gu+JzuYgoQi2o/QF1DiwsFw1eDxgPZPUfSLYa+eUwmyJaztXUk1kXAGVjZFYkUGAq8xR/gtdbSMOO1HOcUuD35EWVBmp5v+DmORv1KaTtknersljRGms+50sz9OkfV5LM93WkS56my+4IlmXEbFoLa5c6/bewZXzMPS4digvqASpKIBH5E24gR4FK9qoEZUTCfch2G1bMLkUtwikIiBDIhbly9horrqIYojMq8T9nPfJxyi3kb5xOJaBttbTWwrClT2nAuwQDvHG3H51LYwsGFkpRlve9UdL0i1CqSxaJhv1lC1RGle4MrnUpMZ+hhZLD5knOPXcygTsLAAf2RAzcFaFukLoxOk4+SBJxRD3Eh92SYTSOiGl0NMxOTVePR5eW+CITGKs5pxNvcxMsDzKtDGcrmzBFuIlSrQyftfrRXqQIgqeUpZsLA4R/yLr9utO08LWe+0rfe4p+qsf2KqotUD53L+o3fdK/kdj6UiH7Kx3RfpSGR4FIB35MtSnBImaqLXOA08jCrHwr0+GP/GylbWSvlU9x0kpb9jHleCU2SXss5P9gSjIVRVFT2HKlxq5yIKRA6yn/+MUIDEtUAen7i/t+AJUEUgBh+L/2PvnS/gf9K7SnvN+jkBtjohZtP/YIl3iC+NC/N8FJKY3FCuyto8gix9p3mRU/7FIRXY7pBZ3eVWlq1ouoiW7idsq0g+ZgCp0uiPbPVlopXAJkADcoAQ4RrmAeUfCos9ObnPEo9dNdjmQEvmjOXQGnqjGzCVWPILLCPd/BZyR511FZyW8u2VIUtknvu1lwCG2AqkhuOYu7ZPc8UmqTz4nQUkmXJe16X7ViHTIPhaiVwaXeXQskm99j2RQXD+GpbJduRzjkXersW0ztJu+w1cCRed5RNuLKX7RNqRyWjlgnd25DSlt0Olqxf193c1Rj6Lt/mLuJN1bgBGL6Ne7h3eCpeQY6m7WRW8k2cYxrSLvBkbG2BdXSzX6qAkdcQzmS+TKO0UlQt1KzWnNz3+Q5q5z8MB4k1S86Gv3P8hvMm6wUi9MSah50cmVMpD/k+iPHTOxcp5V4L+4j0xDWEPGRQ7P4ZnTLDapGetuNCAigNeG5Ey5AQ4HtTqhNco4/HLVVInJOlr08ZwOCR6KDdBNaTzG+RsQM7ligL1y9gGl6y7jKD1ydIvojhz0cvtYsj6CnqqSGTVDyKVHtRIU/LLn0pjN1ySyovLZGoiaUP5MBekxbNbJ7zKsxGhdXAIsbDdo7AfobwnZ3xwiR0HCoSqOFroL7Z5PvAaca+wBYCEAHf6XyCpasQWyJRCFwMwL+6mL/ZuMW5xLS3nk0SnBcSBQd2BOYqYasER2Pw+9n/2jZo2deiDIRpjeSrkNkaedWdUO9Vq4oQlscTSLLIJTqKNg6lPbYoGEd0gVWSVbEAls125RJf+aRqJvtNXL62sLDS/jwatoTJIVutnyZdvapK+jqcBVSU37d+PWnGDTA5I0KSh0nMWs4MOtbnjD1K71EFFHAFOAuIL8jIJCL5H124JqRCNeu9888twdrfE3nHIep0l/y1vS5VuQbZPbcES4cWKVA3hW6WItp9G5HL6GqXV6k3t9gyUB18WJGV4isbh+E5TYyHPfJX9tqL5P5C+UOw83oKwU2jzTbX+ZZWn3RjYtmfn/27jKNlLK3VmrBIh7AUsS/dP4LEb8IJTCZoZKWeJRMHHPc4rpwHLhiiwxSr9M2dSKkb356A9Yipey2StSQD6kckogkuHjMDfhudbmJkdlSqhK7u+4ksi4/vf8Um4fRl0FCWdSs4/KRxNYqQeH1kk5BNENuMLQj8OlVHpu6/9475C4k2I+QTPcQa0U6Ab+wi+GSVdsk1LEOlktdnlRe7kYIYLEFYDLAUh68iMZMmkprUQRFp5ylRp4F3XvN7zq2LMVR0qSFvGEvCZQzzJRMK6iamqilRzWizpofbYmxs187pIlKeOUxaGDsazzncCdiYOuq5uwjCCW74+3WTETjGstze6J8pILm7bjmnvDh1n/dI/Fj/OH/5Wz0a//va9O/Kl93DSudYlml2NCoIJgIcEMF2KBR56cb9GqDUnzWfsFGOdIuD32+s6UFZZpZEGlvFDWbUM1nBBmJ8fBbQJqI9NclxtwPXndFdmRsigEa5N+6UtrbatBuzO7W5EnMyH7hpaNdG7+dDrJAIhgVEVNOyJIDTUET0VEDa8BI9kb68hO2Gb2zSPv+9GwDPqCHoCPt0+vesjeFcuiskwRAd4FwC1Gp8v0jGTKrIjIkpiBrGRQ9ggBNCClARdJeIYPgbxsJZi0uxb2DKSHwOTQahKURKJVbTMf9UoyeZ0GbR9JCX9tnvgkqKWsypRA2nIX1TiwhCaSkz5kDBeOy5XnrnpaVvUcmS2Cf0XYzTkfe8vb0uzJFMqqR1/D3JI5RzdW2ubSWnh7iAyhRdt4mFoPglhyAQQHQAzjcScrDCB2YQbpyIRSet8g2lfmDmMSiPxyiJ17t1Jg22hzBEIQQAWHgyTjEsOcIltfiSYr9TpIhOUxvRz/aI8WqQ6F9q5YpDPtB1XO+RCUnw3FYnGZBEr24YLZYo+Clhbp8imm4mFFpwVMjXYFhbkI8aIMKca0eik/yTtGllOImjaFUryPwkIjl4U5WDXFoPshFD7M8Kxhi0VKsLuAgfnNc9scLqnXh8UW1Od2SsCDvli6uoincsqDYxtZFwvKg6iFVWSjKOO3raX3a9Tw3e2zvdk5PHzTQIf8j4Js5I1PR4UjpORroofxWtduyoZL5iS8d3nkaWJvh1NkdOtxe9VDrLcl73LcZ72CTlMro9Sun1LdBkj836g4IwSRsn8E+LIa6k3arhEZAn8gSGK+q+YdIs2Zb7mtTi0FJOW0LN3TLlmC3lQ1iwTV9ZUW4gZ39RPJevhqr1Cp/OVVNVzP1QYWR9sIfpUk4iSu+1utjQJbovCYalhITsjF4fq6YrYHBIfm0jJtmllRdfeN5zbN/y7LaVZr/0uaWVBJV5KGqoKeKJ/Fk3jiZTSS1cSMCAJBXJQJIpDSgW7kQITYKWRWMNptRH/mlqZE0GJ4XL+r1t2bdNEgMZj4OCA1cUJCW8jCo4Lj4tJE3JjzcN/1FXSDfjFPNvWpdqqz6WldU63tU0CRovfmPhsWjgfOhEUPOcxSW8Fp7/LfzR6YeQz+7YgtW+t/Ws2LfJT2LSXzpqEHHq+WzmHU2xL2f2QZPkukzt4CW6nw/v2vFC4B8pAilO4HhqRDCT/mjFSvmptpVGNGwjAGYnFbIskFQWQz0oVENwrDgSpnG6Kd5JX1B1LUtoIi8yHiodWUOYzwRBKk+3LNm1KxgruQK89w/i56KCA7SVHtX5+Y+/hFTb6IKaRltd4KcT8EnoJXTOhqZ8lb9t7B0lOgPKS9W8Tatax29jER6q+7dnlvgCFn/RX99OIUkTJWoA4QD0h5B3QdQYh7YhwAe0XNnO2YgBQhWCvNMGbHlCRqThJYOoSD5Sor5qbLbWqQ5AkX5O/SPkFUKU70coq8rOhUeujGaZiUlyeDyBGEqS3rrmxt35VmYmJxfAE9n/P4WggPkfOLqCbguFAlYvrAXhU4R1gTSmnVCEJB0PhREU3nDcIj5qGHh8FOefKGgbud/DCZbKVy9pBK7uMa2p2OJ2Ox1fE2fBorndD901StBUB4dHi4vAMRwQk5zw1CjKtM/Bk9hC7/cEQWBS92wOTvKGxTnQgmr9zZXGCyfJi3i6GKSLtTrWayrskCcGC7SuF9/392K2MopuKpSQ/p71kUpy0FkSY+/AajczFI2U/08tGJCXKxMUqqtajTEtDY+8O5AhRFarCvkp7rkwZyUTVdGXiozJ+snLuD7Jnd2efyzd+F2dfxj/uRWuqic2hY8vuotd3RRoVf2JouvFIYvAH9+BYjDDgBOeeBNdEHNYrLjUWBLDaX284ibMUF8N4L5QA+UkEvjYLThCeCw0dDoJBKEbYkU7KDlQvZ7GUw01bcbzag5yCQ5FGhzyEYiSyQdpnIYGXGZgraUk2ECsRE3fAjNb7ioovefWKhgNcsvL9N0LSPWZGTElToDZB+wvcuP4f0JmLrSy+2dFlEUIrGtq8/Q8LgpP/mUyv0vY04tWfqf7yC0D82QUvSEUCeIvMhoyrRVkhVl7T52+/m16FA6HStet7FoiS5lhOFNdI+BbFkoFktE1XZElSWjWYflRKbmmvX53DXvtwYtsutfzVqpmDJ+JS8rcCpa8Sr5CKCFdXKVfj42jPj2AEwHsq+gnOaAzGcqzByHvYdmiU8FG2ddhRXFio/CnaaXoZ7r36td8+umZpBkbe1+Wm4VOmnjaK5d8gdOWRguBaJZlm6OoYyITNO6vnKUnf1ZnCm6xK3btRraVXqkmgvNKrRHQN0TnCFjAlCUauDMxNxggXyXIslfFa2/dYq0aCGVX+++6kC2i5LRuNmCV6ocEBmQnx2kuj00uR88schlSyIMQji+BArnHCehnewmSg3zAqX302EKb1ve1CQRV6uptK87MbKonV/bhRe6wLL2jPI0/0IJ5xgFdFEF6cReCcgQwjFyu9AOBMYvrekZuIKSS6OSKWUNA0/Ff6cNwodXNrdIVOJA2oiata5qfSM7pb4XH11XkG4Yy+10jfztTHqXejGXSzGTXFatOvFKX1QK0BoybEogflHUfPMopOndU/kAmCgDqIIVD8Ahg5JLKEcMhQAGdmEa6v9asBHICA2lrr46BDIC+rPVRKTQM7Hr+RifkgVDAMtQrvYMPhT6LbP7uGjWjcAijJBrmsDqCCC9Tkq3BDYWSVq8cE0lYqXf654UBul/sZKeVOmRTopILdXDHL0zX7wgBKcI1dmx5/UZTFWlse1Pb6plXGprEE9s8bGmIn634ePjUcEl6vu2ikI2f6NjVEOpSapBbdrpRGAvOw1ChRPP1Muhg+/E1NdJw+5Mz6q9ZaspY6Um4bCg1ylcqzfeQi130oeWf84ge8oaPd+Wjy/KPH0cnkFrkg+AjifW6PFNrP5rgUYz4YEnHnYTuuzXIL63PDYFO4/B6JrzkfBA3NwkrAWgsIiFFo6FasUUP7mwbYZbey5nIrCkb7qLzn0qVjtIxOiuakorqN4uqqlPyq9JjQi4+LgHoXa+piYA3wTCh0AqQTTBDTC02jJgTcfPiSnXTXPkx1NKePRLTsnxX+rkwyt703Xpl88bsPVr6NwwRI3cO+c9dB2EcGqKEGcG1pCltxVRpxfR3xTmKJDwkdBih10FAsUiZOPpdVjUFdjf+krlxaZeoSCMVWbSYkZcX2CzPJVdnDOR+em6l5SLhgo6LQje6CAQsLd20Y4TNy3Jm5U8LyxKlMzh9wbprK4Ihvjis1tMBIJMNmSWdG3xniZemibyzhryRqkVVxsogbhp4iFXNuhXnUpvFW6trG7tzZf5D/VEmOwmD7CbAoAksQddoMLzGE7Bu/HYLJM/+RsmjUxWE+WuzXSlbWBwvvH8mMDx+95QVjB0s6SUnbPF53/1EBViqbKm+E8x+UFP9rLvubbPTZWQtl6WxUmJEVESwYlbZkegsaCSk8q3n7CQSa2yGqlz88RXhPF2wWQrkWszA9UH8K5k0FMs2co7actYKPtU7EecPTq1Fw+Gx1UQJGorLYIyTCMdryN876bzAC/iQgASQTdYjRkejoYAr+hzMhA1egaaNqubLcfLt9k3Y43stUZW0iERFyi2QanhCU/FiVXlU0eHQUtd5eaPkoG3hGbffWS+qeSe67pxcSVKn6rbFSAwbnIjKIlOE+D2RF/W9SGMTiCrAUQC0KZ7wgoAf156fAFdUAXA+1b4pPJHC0Q7Mduhu4WRZ395p0smv7mQx8VpyTzutlM0LXqUDu2ZO2THomIcVfOBQhIBGb6DSomEEQSCZ81gFAic1INdZ3N1cNm7m5+EuciKRLKk96wFqW0pAIRadmE1ZyBwYpvtFWp1ZJ3r7aVmkn/d/HOg39OB1mGRPnvFr/2TtEgsWZQqMma2vTon6Wg7ngeqOgKnV9FTXlYXqHaGYRsGzvl7mV03tmrsXvR0/ARdbTQeco7Wkgfflt4BNp2G9+9X4foOeCyFiKtZZvEiR7eK2DDBQNSBeBHKhsHCiBSF13JgaiWR/UYM/KbQK6Xz+rkNhUI8nM3aSR2TnEIRG8alTZeIS8VW5HRslPAR5+evaKf++75ltnuJdnJqhnnKUXF6ola42KZSdNYmQ6dxYwxJHWpLj8RASSmxgFwBTRIW6cDKACwB/BRAeM4lyTV3JKAeCS6jcKO54M9dnAh73gJroS8Bbmk2k1oLrVEPIZyKtmeFkAkg2dVp2QkgHMAiAiCfM6AVG14C4HNyYC051ZqeqvbxnHu5rhyYd6vQ4XVPDDI8gEg2DREgERpKVNKBqcQ/12DnVfkGuwX38vyFzQWqJG55jSVJIYhATYkg4iMo2yDA+a5T3XctquMo0BzdJK8YUxh4KRTEwYfERIsqaVtuMY2GfAmU9tShxw1t7Pjp4S3TwuMUnp5JNwFfmgBpqENcDn2DFBsPE5htATDl90WwOFdOOjrHJ1i+n27p/XCPWXVmZlzJchI92SFJTnjizJBYIka0hJiVMpbkHph8JKLZ0z+9tHIdLiCcPP/4xQgNTFD/jP9T/qL+E/3q/fj98v3X/be0oZXwE5BuadFhc6fwAjDLf6hKCgqwSNm3Rg464l6tWe54x9g+hAtBKBZloKWpX0B4WgtIHW7ZGiN31tGYqTq21D57XE9a2kn5S5/bWPp7y1UqL1uWCSN6kenkJ3s51JW05mYpdIUUY0HQVSTNMWyES3kXs4xohMp9VaatSc77Q/q07tmUGPHK7gIHBwCBPSuBsBAuR7vhIuptlZ3VVoB6UrdJzEI9CmlrZKzsl2fVSMXSxQ4VJERM02VSrGrCBIhXJEbJzWnR2Mko7fTL0cZEM33gSiRY//cFRG8JfiS5Yx1uarSw/9/JcEdT8OcQ5KAWxAtIyEdmwYytT4MGrGrNLGENQEDl/Io7CAVKw16iZXa3tkd2Ft9mK+TzbHeErvr92GbgvLFTXiEQjfN+6UnboWhJjZc1ramtteFOZHRc/Oen+s8u3P/UcVj36zVuClO2VGLFe0bfjMVUQngSAlpm45s1zYmmkqUjW/adMaGnOKFMVfEDpVm/IjaSRPQ0RPiIVn3ZS7MeNzQeb7P/4F0bZFhrXUE/uzKVtncWt58Zc5iB2i87IgDleytNl+2MZPYGtnRYE2A7vKwHyQT4UVLkgowcXFQJgiy7mE0VxI7lgj2U6ilvBbgbl73eIly3U1bUdZaxKkBFYu4ElDAKuyJmoKhANfBExKIi+lWYOQzs8F/LB6zok3/YWMXxJ+WefOW0C0+I61fswhVH9pKKTvQQpQX76A9FtYrfyChs5sliEmDKjFACVBJvgRAsR/+m8tRFu/OVTrzsrjC+v8luQEWfLnWqzY3QoqkdHqpAkqlRQxc/cCZAq7/arZWGFGIz+fP21rZJ1AqZW9tCxk80aOqAwLBkme9Phg1Y0UbLdT1Tm37t3UkeKVc+K8CEqIEjDvadkKvEiR4yynHGtHXyDNi/1XynsfGOLLIKNhXj6yKUB6jvGOJHJAE4p9Ts1LCBdn1r3ZRyKpLQUFiQeryk4riMsa+mvYfGXWPQgHAWEEalUeE0XafDu+1SRtUqYpE5T7DelZ3dqpkypKPLR8iHHIEWj7wMMyJwhVSXsi05chT/oueNz0x1mJPlz5km5FTIViTgpaJ0GvR10UZhQ0dZnZWdJE2tzqmOIYUfAn3nlBhIoClgD8AwqYsMANjC31ycnCFJr17+jXDwJZbdZ7pAXRrm9Gqq4f3fq2Hps1qP4RlgtULOXM+dufBBgd83hhd69+Gi2F3OhVlBT4JiT0iXfGR9mlCwLptxFs8MLbMVUoQsjXh7D6r1I6Uf7uyNzDNqu7lQydf5raCNA1Vilz3K7bSUaKSk2VGCQdLjwQdTmOwIQqABVQgyAYEkTRYjfhkfYd0yJb+gOy61i+TLmp/LLok1kgkeSTCUj5sh2+yY4PlyNEXiUJHSPlVjoob451b6KhPo1en2iPJOMEp8ooWYkFQ4osWKkHW2cqGZD0jXpWerWgtdtUqdvOWtj04cN+wn+UQn9k1UWacWznYj7w837cfa50KhJRMxZNwbAjiu8Abju1lKAiioufcdB2T/WyDHVeiFVzbZ0SCrg2d2b7HHBQ3FSDA4MOmZdUZRfWTaR6Wbf83oJFvyWLjinTitdpMir0ZeusVHMaSLv/dfWqPktxJ6UJKpvL8UAJ1pkWpyEgZr0hS3DIM4EqD85KB6wkM4ltzVc9lPkcLYRCFJIRS+JqMDBWqpTGyBtpp7HQWEQ41cs8HmxJIs0WFolFhBZC3GlEml6LbxRD1Ecmux5CfqXKX5K9kyx3FF/qr1x9156nOBqXqKUtNROlMBGlNCErmpvnwL27RLrMrftCHyPBqp3m+gUrl6TLjOjxOusm0TGbnjC/kjoWUTaJTJgg2a45coe0w1Nxrzz3Fvc8ltKK2MJXso+0jjDbiaWU7RwiiUYOdzm+tp011meUUkf37MrSPzbBNCGV3SA6x2Nyph9qbNi/NrX1lH2a1jxMzrnbQhkFhg2iFIO76K9RjRmM5B2oYhhEsKI3CqQytcVqmfJyTDF0pBwRQlltI1TaOXMaJELiC5LFPHU+l98+ifiiUcFkJeUtF4KLQv7jLMLIbqy0ltav3Mu/GVw1pEA4GLTEY6O4CHUhdmOTXcIOCdRqlYhDRKqE1CcozER/YjUnZKMxRD836BC7fwjpLGkMUYoTcQViOjfI+rPMc2OJTjLhruhWXWsKEemPDq6xWUcYemFMdc+ZC9/sJcYfIU3kqciwZyJyMSmo2xMhMyYxQnQkzI5vqbQhoUEHGatkRKhIhRikYFGcoyxvMeRxHJL45CpDjBcQVmH2DkcomLFPi2351Ryo+Z81S1WlQio0OEfm7I0oi4QoasZxqxNmZmYzFMtEcJSJIx7tsZ8RzSWJ0jWTsVFRSHogOIfsrkEAobjmHbFGVI/yyeT6LK+6afLoowojmrIogonImMppGISidicZIRqQnCKMmGSMZxszEoysYKBPAnInjOIqEc1scnQikI5PxjiUoxyRyL8vYOGXmOYcYUmXYqmHMjjeEKItitlCLUduxEQnJORUJCQRRCIm2JxlG7ajcS4RuBCmRxEhjUI+EexN0iERyXWdtoIclOhDjOncYFIj4Ye544Y412nKIcIKEWYUy39opotFcjEE1fspXZHmbAQsrE4vqSYtGmQg4vBB/8UuDKV2Wd5JCSCFoPE6goKUumiZ3imKtRaIwg1FzOUQaMQ8wYNaUGhBaBFa0luSsVEDiXYtSzmWOlMJepUjo4mJthNaTTxAUsrPddlNzYKUjdt9iFmO0tVFiN6akoznJF02Qrg5OkmiKYFe4gFp/kOqe0XRSkIfS0dxB+SNFhFQGEG3AexCMYencoRMbTgTRSYstNdV/WGnoSTJk1qvFJ6MwV8IQ9MyfopoIFprkVzPDzBSxm7br2EGPYu/BOimHI2XmpZRHz/X4kDymk53F9WCFvMGcOqrSIeJ6I65NAS+12bb8I0NIxzi7L8XGUmmZwNpGtT8mzVLYssjV38/JYaTdRSUpZJRNOCqBy2JPsv0SILFIl0uytI5X3wra3jAgQdVRFY6+MNc859/ZU3+twaFHCCMw+2bSeSPMdPynrR5z+REVNWMKWVw6lue8lRIo/JvXN3PrRQvin5r6YXEX5rXnuoLKkmx6ewIUwfUnylCWmOExgwwU0L09a5Zcq6mHFvL/laQadXXL51KHCLx5hpOh/kisZTa6s0ZVQoTcpVuHNBo1+5j9QEkfBMNf1JiwfPFQLGZENzMMifppbTBOdkET8VJTzlaqF+H65w2dIbXZ7TfMfHSxtOViHV3GYLukmAn31OwVPEaRwrDNUR/ACRaYGmLX0ni3tJF3SbCNrEUwR+lG0kBZU7qes44Vy4TImKAJVfc/XBkiVuE+Olncaob2vVTHCQwKP/Ts/zqTbBNYrdBXWIgXjjDAuKzopuPRS+jJMjhBNeYt0Nn5Y6UboBnyj8TGBlpAXvQtutKFXERslwQlK+2HsTNv1EhH3nsjaVISjD9Jg/5+XzCa1B8zLXM6lUMmlCYrMWaOVccSHWCBXi/3RrVQ6SI4GedsdgkLN2DWUnZlbMmkvKB5GZK5G68lezxJGy6fKORh/plbfCK2CXu6hgw+myK+EqQM4NO1MEQUD4x6IaTbSFTIvka+EItNdwMvb3cpbkEzaJpE0gXKIqdFsliJEKzHRIGKgkSmo5+E9DbjJMyIUNPszSU2nTEd88FMhIj0bu61pE+qExUxZkpHO7FFIy2r1GPDV8ZKC6K0ZiVLmSTKbQsotbfs8CtjXHOgVUhQ3m9oitbReFvJCZ4Ug8LqwRAnMWYKUyZ98Vdesj2psj+L2RDSSPSpdUM15MZDZQYbLGJCcjFc83DjzZUJyXtCLolEJ2rLb4hsbExgTkasYqSEmPGxwuoZwG8HqQjhmpRWizVhErdHFfNHtEo7awZQupiCyM3K7dWlh0qQioJ7j2cm9KpHTW8zoWVfZeP5ndE6ppKmpuYp8u9Gq7KOpsXX8qH2JA1osTbXliGmUT1rI3iKj5qSodNDDo4lQhOJZvzAVMD685EIhTYiYsuRcnet6MXK6bLZHJPOdmRU22XM7cZb0Vq+qDtCTOobLVsZPEiTCZxKzzL37SksOPFKEjFu8L5AMiDNMI3pLGt2A8gKlzdmvQidN9cRLFiFTL77lQo8cNVdKdDQoLib6MY7icTvOhsbBAZq1ZiVzvHhJ5j2ngQ+mykTvhAdwqrpKMDXnDVQTR/QEs7tpNsRdslJijcuOjoQEmh6Zmr/3goSNtqf7cXapZGq+iQ3o3aweJWiR98kfN8SEY91wLjI2VKb2KVL+oZXKmN13ulmDlBSS2NFnL6BTYrLUUr8u1IlvjrlghTDcEv/4xQgORUYABwAOABcAB7SoBN+lNx6MqEdJebjKFWfLQkawHVcPYuxgUKFMShjLV3spq5uroY2pVcs/luhU9mQojFlYifVqanT9KhAk6Sm5f7CJyAqC0J4WltRtLO2mqNk0lbmRoRcOrLw26ralqBp1mvBmyl9C2CaUEG9jAbKdwVMQHcTBUqwmnMJBlZX9Socd0g0jVwyaqMuJSMhD7ZwbbskTMVUa2NkCvUSVTS3Txff7wcaxk0r6XBH3oSwmxOwsfH6rY1WXxeQ5rJf5uHP1xTtJO1XZEKoj+vwRtESlC4vQps0k6aY4nrSdG/FFM6EBF9hm7nNFm0zxncxhtYlhFeuTZsIAiUxya5H6g7UoSOmiGKKx24W4bpoedmivKdgv2q22cYk2GjVtQzWflxWssUlQnEgtcP/ucIp0FMKkgP0K5DDe6l9TL4EzehkSLFdkhQCtQsEcmJlRZYv8BAHeegih9SKR+jQ/KL38WSfYb0l1i+s3JCvoDZofFh9TZqlFwSqkLoVtFRLQkle/S99xzZyarNZJqWD2q65KmZd3aK+fKc2CD2qQzSJadZHBCq370Srby6c4SlVsRWVUjNFNYfiJTX87VFNU6P6N8zIkhGgYxw1y2RsDVpKSqiloZqqLetv8ErNEUzaoGDJxLq5t9kq1WzzSvn9icbxcNOVg0u/2He4IFnyG7BGeW9fyPPoVYTb+gzJrZy6YEWDKKAuFjbHi4gjZlDzZK7zClxptfSxkwlmKSOZ31dmiBOiPv8U3ayNd2IkoxWT3vy60J8S82IGNrLWRUdQc0mCy90CqwXGAmcS20ilkylX3YWYZ/WbA3C8GSKWZbIpgmoOkKQ1OM0bLoKY5qyC+nM0cQjIovie0O+jafaq7PuH8cQ3CSKK/DZj5blEQ8qx1KVkHFMpEmSZSuWGFjF5tP2JagecReSOnnZLqHyQu1Rdngq+mmig1/ki8X4G/Rk4ONEbQ86TTLCvBFMYbWTijEZMBIwJ3ivpCi/xye7pV2AoBYBAmJ5CTM52InljHnEHcIhllWhnIyYVIgEhBLS1KNMIvpguLaMJMgoJIstvWedEmsZ6ept8tiETXt9tEkNlS4Npe8sosQ3EWg1T7SkU/ObbTYWhJzOoo/Yk6cZZGqIN7cPZDKl3f13eJFPO9RZD7mVqNI+8vrSctCTtM6CEmglhIo05fLl94vqq0brvUt0WhxpVb8qBYKFushfVesuxxZwikCIzGMMxAgqCtMWVDORSq6KyOynaUqyozqdDHSVWSpEMQ7GQifRKpO0yzxCZKT5V1iKRaSjXNOqHbjcPFDTtyrzjXLy+hEZWLiWkEkZMcvdPbYaViVfy+TNQliYnZudvI0p7tQgsIbZDXJvLQeUShedXoxLPzjWUSYmu61ZDNpiVWiMsh7rz1RfZdq2SPRyWbqMS78ryCTnmPObREUnNiQmcJ1DfNCdqiGHAYcxihPW/bOjHE6bpbN5t8QOSkKlsvQUIHEqkXJxJc1KCFQkgwo3S3MUYuYcx4hyChgVsXOxzGuGFqgk4Sqmo+YS4vtol3pqjzhbLTyWEqvcm++Jr4QWxqnqbPHuaUWv6q5XIPoXL0KxWcoQHBAogoQOJ61KCB0SuYrOR9kdrlEOyH5D3eosR8sSrGnNRGQpYglkVkK1m9VUhZjyksiFJZNu+XPde5X4dzqhYwaQTz+bC51qBKlvpt/q9/W38mqJTBfDWC4Wmz+E69bVpLgTJJta1ISQG+slZPmpFpNe01ZZvjbFpLW0vSSdE602G6uEyegvV4TyULlMLk7uYqFRWRFWq+pivET3nJ7mSQQ5DiHQYpDGCMOMsMWdTEcO8K8MhGGYvmUU8EHlRMM9zSqZpDK5Wu+mQhXcpmkLCIY5hxGhCxzR1EKEcUVARZuOQxxinIcVY5LlOkdIryHSykFVBjIcRiFOQ6Tu5ChG84h0jBHhVBhYdhqkgRmmKzkI6jNKg6JU6iTItNXTVfOjASCB4xackIDzJMbeHBIoaEDQOCxiEMFfWCwJkvh4I6RFiKRMWT4Rejhlh0cZKHwllo29CaMKXp6+FLTm0lNsWZEBEaVHPlohJo6RZTJXqR+nIFTd6zbLypY+YljBsRtXSxw3SsVa5CvRaUmvKxxOs1HwtKq2kkvnsUR5CKFsEcOYOYJYEMNoQxTY3vdmMnWCkIgIwiBKOAehAFpeLScSPS9ofvCsoEJkbkZ2bGZW8bljhmh3s2iNOtfviIpIjI+EZk8JBOSrmxITujSPiRKgQ9F7TxqbJmmfSlQa+pDoXeFvCoxN/9B2r7mfUMnlkIohlkthPNYmsZ5NLSu9xlbV+2wnXTvaJi0lGCLBTtVoLZRJhuL5hrZeqtyOV+tJkOIjm4wG4SBPuVrvp6sZcNhqKVHp9SI3FoXJbHEZbzf/19ehqlqGnqms2REgZrTqj0hHw/oNCApoPXHDHQPp+dIHMAWAWyNpSsBkm8zvdoiWNglHE5aU0OWcTr0qUGKJEZJ3lWSChe6urKIaWVGbff/zIfURp8FE8We3lquWJS1Q8zJ7n5fTP5Q+KuUfTwPzm5PV+JZJIpUYEj64MnRwFsXApB4DOC2BpA/ArCsLA+jE6pruZDgbD2ZjO2FFkQq9R8ZYRsDAX07rcfyXZWlSuyVhR1HufN5KC9FXWPWdg1jKm4bgo2/r3r7xVhTdB4z3eqkMApMhuNCrVAgqkKwuUs9WwThJrEoHCbTQLY1ivKhzCOKoqCadJ1L010zXbcTnU8WxalAQFCkSSjHsyTdI80RVW0/y9PMi5TIuX5Dqva4X4vA82slh6rVJtFI/eOfKVGI7FEh0IduCryEw3IFJU2Q+MAAtgOOXu1WWzgDHpaslMS/OEvha0VQYcVskuIiZgtimTQAVIKIGSV0xaFncroFFA/pm2gaJwNwXYI4DiO9VkrQ5zV/IDOu/dPYj2gwmk45Ryp8xmulWBQg0hnmwHKBCn+kcEUi8cLRbaqJfmVwS259nDO1jK+Za5dgqnWIuPbcpxHyks1YJRy2elKmL0XY9RdPsFtDo9o2vJmVzRJp87SchSnc6JySRymxoKpPic1ePx2j4kZ7/SaMzE2cuVdssBuVFFKefsvkKMZE+of0CuAZEJ2T6TzDMzHyhE5deREMHAJ4XQRQaJcW5qLj+NqXrlmRljyEEeEwp61WFWkqzV50A734BYR534ZzJWUJjfqk2mOFTHXC6FzXMgDLMaxWrF07mnMiSNgOsYaubL6GEofMwO5r1v5s9ed617Lidfdhtwl7UULGNzu79w9w1U5O04JnD9S1LkLIJT60VAFeTrXYOFJppHTx+mZDNi+h/Uq5ajHnSixhhpLRjkhjsGcMPPGQj7eAV8IidYds9jnmymO2Hc3ZECzQFeAQcZwl9U6slgJbCl03uCVB47fBtghj1IwqDHJkYiRHKdNo2bsU1FFUMORMy9P86ytDcFldHOPcaryO6KAYrVu6/wdujEuOlcUIVwav8d8O6auOzeTvLmvYlDRV0JpuZlngid/xEeVg2V0iwxwP71WC4CGJt5uo2w6KivgeGr54jiTP2CQKd8aYTUZwbERilcVLZhSBgVbOk8lGGmkLHTgeUccfSFZoXKwFbMOETDWgVIKq7ZvuU1NPpzax2tHLbcsIiYjpX6oVh4BEG+TuaEJqPg5D9MamS57VjGqmUe0+ZXSQL0mtI69Zj32dextSr/MdK0letc0hnvlIXp7LfyU9VN26Xx2/SWJ18+zR57AvdXtHZZA9ZCOlaOJgTRTzGGBgAqRFV/fxdsU7TJZWfE6nDFC4SGSmEYr2QxhoiLn2HWFq7bW+1xLFOk/Vz7YBXxSDRGWcke8Q0J6EHEnU5U80Tji31MkfMTVjk20t3k7JVu+IUeNcLoIQMKRwuL2EQWDhmfKKoR4Sfm2TvHG6xr/sT4rQETxhRNWqlYySm2lkvvrdZq79YJ6okMaLTu5slrkpyUpFGd/pREPkVEGbhYCWIc93pRQTKkQZ6YoE8sEqSmp4IdpYhIjzt5glJobzUtoR1V1blKH6aEf3HrDNJSVuwwnilO+T/VY821pVfrSVUqdQqlJTb5HHpLQcMThqTSuKQdb9lY18CJOOThFiYoYVF1ysOcb40hdyqvW+LENeyzovU36WL/xyr0PsDvdU/N0ui9qKMSCy2zd3ViuROYXOWCPnFxgpMeaBcoO1FCnzBIkESfDKT/L0E7kiHFAVVMINEFiAccNRNPHBuGYCud3/1Io8af7m5VA7h9OYke8fUScW5oz/KlzwVjb2dtydXuzG6dO1ruF1FbXcBpw0p3DhisGJRd9BBBFHWJwcxXVIZ473DznIsAOrZUuNkrdFlIFY+ghT63ymjD3RIdQfReg5i/HcBsIrR5Ll/MxzNuVZvErypWtO9csvGaxZhKFjO4pP5c7o/IV9ZZ696oW9nIRQHXOTLIP5DUCuBbWQRTsB6iV0EtacAmc2ssFheSvVJH0o0QXET0S1NNCdBs1obAZllU/Q465TJzYtfzbX53UU+GpU9etVGedVeZGAScNgcwboubYoEw+eVYMKgxFznrBdnGUlVpWPDKyJVKtTc8xdPGWNvrcW7tOjhbZgF1H8/GzGpnFC355GEY3JgnkTY4XpZ5FdifQyqfBLHJpDYsrhKoN+Voe2XUCVyaTpZEUkMZ46Shu/5+phMlKhf29L+SPUXFJ5W0kn0RBsUWW8b0YUsQVILQaIjdgdKZDiPNrGyLH2a2627m2z1+OEfh1y/hCxLS0sSUUYQWdC83ZAjbQbWS7IuZX0g+Q1SU7qNXP866iVYI8b9rKRpB09m9Ut46iL4lXEpOTrOzm1SoYoGNNuoh7z7436ELwos7WftsMDdg15hwyc5AEQL9YZSJDbAhpOiQhlj/5mUjbrEtbEeGNLW4bDsDslrrou0vVyVA4wwMwxb33vxNgUxq4Q46RXWdvytRYnn88PVEoGkfyopZKVS6vMqYjwYUhK/XZE+ctQ5AzrOikrPqE7/0ckclGGZ2lu0w3z2CqdFxapCwfVjZ0ILLMBFajXwUGBUYJRmsDJAx8B94FUgckE6gjWqYBfwaGRjfOduH9oDWRRQCngm1UjXRFSAf5WG4IvbyIlL1N09NFPkoWxOjbbWdFeLawFQYzptezjEDCmKq2LGJeUERPvgg1WjzcwsnRCQ3+7EOvUL6vodemjbvNJatxU0wcqt0Sm3vsII2QHlPKlXKLHL5/KIb1Xpl1kJHVVvJsd9Poct/ptpXlzyj745w9m1XYW2Bms4eqKFJAZbmW/cBHBqlVLzAZsx1DnLo5wEZF0OpnPLCT8MBvhP1xXRLmOy9R5umgmN3Yx9bM58f7RnojC6SfirTuFjDUucYkcoRpZX/ty0qaNFWZREV5Wm3S+xzRKPLLQWtps0Ni7KK7QEII8UMpIgqXeXJkxSe8lJYjnRcf3WyQs5//+MUID0JW+B73AvS68nDxw/C27nnsXune5dLgs9w3tKS97wnI5+pgfYJvm4rvR4hHxw1ZyC8B2wCaoExVVhCJOuAZyIt4fJRGUQ3s3ewvnYXIKPUCSrYW+ervJNUhHeKf/O7eDm3WVf/JtHpUWJ1NTSDE+pX9h1nmq6VBtzXOvdNSzSh2YYxkSbFdLyQV0qc3K6XyzAFrZBsUgevxPmW1KfUPg9KEqgkiH7YoOid8KKhZH+m3tKr0fnkXA3IuZpUocSScmy9HALiGRANbATSu0PSJtzAdEF7SEzr4xYwhdbOXFjagmQ+o90Rx/pIZmZUky4np6OurV9dwil1d2Q4VioBvHzWWzq7iyWv68uJXlX6NjCfJMvhl7RyE8+ZU763oEqm0+3qaR9luQ/RTGX3FJR27kC0Q3CJ7pEPE3SO22tKI4uK0tW5Yl94+SLMNTJtEXnFlA/Hdd69G3oKMHqgvcbeNMSbmJbwW90byL6VA6u0295YacChmd3xbKHGV+PxODp3oGKCsnIQOqJ6+ufHlMIJ0uzrtkOpbCo22ypmMqHYDMWAxZgqQNmKSg3RMicYRxgiHEWTMf1HVaSJYmOEwGc5Dn3PjbNd/0KZ1NUMddOun8sKuXOPfQjvAn8pFF2mYkykhkK3e44PI3gJXAjNIWncir01olghx4xNm5KxJVW+vARlB1WeETVAHe8e1F2vvoR+hwiOISubcHYuRgXDrBtAghbVHVnOVy+yius+4g2v0LOimUm2+vUNy2DwjfntdRcurZIiVX/Qb9LzSCbpG/upL112NcQqzFuE67JIK6n8cF4doPxzP1Kh0ml2j73940SQEdVKHThabFPYVfyhYmSEoEAFdRxlIsWCbncASQl+uK06D6tMfUpo/crT0ljxT69DzYBRU51pDaorl2rjBeCKb7xmvS2T3qV+yXQ5pkA26GfbQ0EJ092xiAkCE0JelUSErHf37XHcK7PErQQJ9OcYVE+lzpOsz9u5Fo/gqRfnlpaY/sRmpweELu3ML9b3DdxKRWcyLoC3GWEtICloj9S8Y1/ktRLiQpjXOeSknR+h/2Hsk5zrHuY9Tl/zZatYw96T/W/WHsKU8FvyrE9VSYfQVW+TwFkNAdSA9VIrWSHvO5FtscBJOIS7pl9iKbSeTKFSNYZxMsnh5gK+bNyRnQypMfitITkA0YCsuoAeADTdsDHwfcxZdp4SInTPaBBgwwE0ZAoofU1bf16taizdRTCJJpJCVr3HVFRYhA2iCU+rcDHUTylhFRJKT39G6YB8+bkEEQZaqjMZBe7IUYVAlylNVMpPOK+v89TZp9yylPXlTMDTtFENxXVsJx1X3ceBWbOVmp1ci29M69ztRwoyu6R7QN0V8x8u1DNWW5EETyF1FzlJH5CbNDe+9PtaVslE/QxninuFQEcbBV8LS2sZdJptO07LxY8R4Ps0JoTnm3e3MxagonPSgBgj/KxUUBoesvHmo0ggK4GCI5jEjSnT05DGW80m0CHNgx2ykeTu+B0c+sKytmm7YkXl3bgy2zxxvZtfUBlQ97CnD7XFrCsIr3U5V6mV0sC6mDQwwXpcR8yeVFt7veA1jNoddhXBR3TmXL6rdabNcbk71qI53WaTm2o6ghmp9fxXEfcXop6PouErI0X5XmZTVH49niGTCVxdZvo7jlWJLYHzFKUjuZH7yWeRWmQtY2dV1rzVi0hCwmoaEHBB2fwBXgF2VJhWh8wrzyOKXHOqr3WKChCAZx82/h8HmTR5R0X567YPo1ytMxhlAKUJlomDOWS/c7KwuWTdMY0hX2vWUs1tgHidRlJe5fdbQRQs2U0fVpN83FM6NrwC9ESJ0lGRuPeVLzQPsovE6sUkkcnzKN7VTXtEXCVhSwwINiDGxcGGBuHE8afxwfApVOZnzvCysKL8WpVElaG+CrN0sJe1nrvY4F6uFOiHiOQMcUifkPNH77dHCWiNkxwcIiwaDaQz1KAvClPFAP6kPWaZNKlB7rilOSC2QGxxZPGYQxCOpPrwuzCQJXV159DyFKxquvSQlfWLEZClhxwJmD6zYBMAeiTiGoiWIHEEQtpaUxhn+CnRPtZ5yc+MuAWZKiZm/+6XOIqlRRlL7K4A2gpicPOQ3ypso2LFVCZmFgtIw1EmOF/jhPgyznZqq3n0LJWEL7vIShOkMvWXvvKaZ+CWRZufGXE4UqkF9WHS46xrajrxkXXtP3hCKgyYGVAxNvAVgD1YcdXQiFAyAvHZJ3ua0q8WJQgSzkn9LXDeFWNiJfPy7LArEa/6j12+HsFMUZ12jmLNQrVNNaNmUfPxO1bKzauBk8GGPwiVJoSMKF/LavqY5pDvt3ESh2LvT6N8r0l1cpRruVXrp6mP1yexZcx5+35IOPuCXgNaBKS2AE8EyL+bvCDcArUGgbFE1uw7DtIYLsmNY2NHwHsh4Tt+W4cb4IlYfzo4rrDMGmije9X8MxfE7FNKP+4vJYza6PPkAJ0I4T7oVi3dZOP0jbe6eH4AiT9XLWxGON6mk+WV4OCQ6NZ/5symdRuahuqR8h5sRaw+IF1AQXcgzAb63lxTNigaoaZZ+SXrjEpiT7J9x3xV9Jh6FgMi6aJKNhLRE0bl+bjBTBZvw2LKzaEyWaduaWPw8FAYf6Il7Y+/R1BJlehUz4i2StA9LQavyjIJ5HIdIL9ul67EziORjCEcJaSCsKjPNRP/s2TkXUJmH1Am4GfroEOC6Wc38DMkCiQujF+wYrLnxswmhJKAbvblwOxJ1l4eExmKolYrJJYK5AwRLEiQ996crW0jS3tGSWrzVMn+5ChI41TGP5zMFolNfXbXSGyz3bRNlE7Nfwk49M24VLwuh1BsU+V3pO3/+iHxcJ4lL7LxAou8WGYizAM6Zsu8kfmGiHjVQr+JVadGx9WRFE85vXOzMYYAoUh3FvMteoeWh3ncT4JMD/EobCuOVrKj+Y4l/246TUtqZY2nKiuOZMnSAKAtHXeMYpMyK9DhCMskv64pZsmx42nSirftue7/7+j5HxdN/9+Wi9Iv9mRjbR34wPpgEoCdHbisfI6oy7krvz1vm2wOeO8AJFnw25lQnh5G+b09+5lzfvmd4lC7lVPkGKNhlySsjQ0CbBUKA4eXKEIV6Mp+opxFEUB3CxI1150RKrZO04pgfK3Swe/m3GVY1UqmnL9zNeAz+w9B+y4yzVTKqUBmGmriGYpDQB6VVk/yBMOlecjZTua1bPSZhUkaejFbSrW5KQele3tMXeo56cl//WhBz3pIshFvrxYJTIrbjIqleyvSQpYkiROcjQiwCWOZEbsgXA3WvqMeqsXdb2RKZ2Ts+3PXPi2/5kpWPB1Veeipa2vS2oVMccICF7BZVnQAUwk0wdPDYLwb+wUFEUAFIECUSeI4cApDrKI1W6DZnloOQ2inEeRB2NxClJ0iTXOkZgQH1SOJzbkCJZwe9GZAfQ9DoKDGpZRDOZeKTBSji8kMgarXXsLHHHD8fie9lBliUsfEqJaXxKuRETkdcKGQuLIq6uOsv3Z/LMFVkgYKDWOqNEbLSGCI52FKnmWi3p/lIkt/veY3tr8Efimvu8BqMs10+nm8/3Son8RLJb4kTkllfg0m1ONY/kujp2Ml4G7oPdMFPm90H/9rvIX9RBAqFsHum7htg9/AmfkCxEEBzijHCl2OFmldsPuBCdIIj0fc7ime8EVD53mNGEuyGSJXt8g3GyyqXXnXSpJRU59JSZMf6L8qTAxLiIC95MjitJT9lkJ+vTwpZvi9kAeIIeLcuzMsuKwowIOa49Au9pMdQ3Xhb+ODL0isKPuRRnrqzlCZbGUS6YI5Zv/qYAkSal0Rs1zk6129NAvWc6CX3yaqDvYyoJMhWAgzt+Mpgp2s5Cr3Oy/d8j2WLpckK1ZQwkncp5szaudu7JteWbOhr3rjXVvdD8jFWzuv2zMRM8sgI1rcvYiyYnhJ4vGU1lA5GtQoX7elYjqd2Q2NOY1I/LovLmJQysL2SAmHNQmskQBICtSLm4rBQSAtShkOx+Fl6+Am+1UcIZOtVxmv0ilSfci9dUutn1YwusVlqdmpd2W9oyebqz29uKzxMUmyQnhLD4eshIXmw0jSLNhCqHhD+yXJUYSfFvSavNkkQrWkSNVw3hUQqnnyLPrKF1ihNVnpV7CLWjdnDKppHbh5hUsSQGGEkvWgWLZgxp6eDi+glcrQx/IcyXJo1Shb5tXcW7bH3ZNmUPo8xWj9TailOqbvA1VLdKbWvXDCsSEC2tSmoyajpa605p7JKU4EqSJfXSSFqINXEPONI09pp6cqtG+WN9JroGVTfck7ttp499K35+Rs5iBoeQV1QhotlcIghT3HlCcomTDX77SZJU/N6paYUcUCOIKvCqVEDKKRvHJPnPNs1EwaasBJ5pPnoEi2byha+vVRYbsEBSWkBMVAzGecClKWn+ZjT0HyiE0WsgoxqwiggGMnklOKVqOjCVcEHGHKSxhCG+W3K6IlmdqUzapijPKK4okSavNY8nHlBU1i+qcLSwWYLE1loIIbmZTuUUYhR29ssbLYMWQaSVcorIsTMo8jptWCpcjVu5dzhA7xGr5MqHnNIVGoY5TAkiR9XKXuNa3I7rkm0VakOKq9Ste95dPuFxrask2yW1qVJ1Uzf/LCZ6PPog7Vm7aWI6uTxjMVcJewh88nCNEIH0M7XCmyUU9iBIYCGjSOC3BXnsOEyUtNHfKBJf/hBHHlXHYmQY70po6skyXseOSMZJ0PybIhPiFFHawx/aKoAhNIOcmGASnTAx48qQxCbNLYlMIIgCkPyWkuj7E5i4jmJLPUBtFHGTV4SqiBxRVj2BVyHgq2XO7KhfC6kfqAhnqVEbsEIJidcwA1AUfBigQQcs/krrK0iHVHT0XQl27JXVckz4cf421MsGL6AHZB6cvEoPf8D22JIjxLN8raguGOJHMUEl/5eHICgT9sJsgs8JSCnxxgm9FzRmn0NQUrWLqMQPYK5YYmGRxgAGAioiaiUWY4yBggF01yFsNpNrpNDfb3QgaReo/vHIm413HdWOEb/7JZoxKasWJz7chXp3ZE74A1pgmvwWfVk8QzbGxPRntjBMnKmnGR01saNs+826cYGbyllgaKyn4tjOrlUptxAozGZD52kisx27hSmOW3ZEF7Gz6WGzuVTGVCXaL3fYtkujdtfCGTtvboz/hce+/ztdqPau6rlFbVy6SSLbudTYUt8wkmv9KosuzYtgXhQe8e4Ay3Gzo0UFPWqinbslZ4Fb9wxpZDdJEZ4orHW2M+hF+D+qBCoElBK8jUlEgm0SxFWaM/rc8lsHW6DbZMOGz1OFFX6l4aNrCZPkQRnETkk1NyHDZr8gsGEaH117Vurydn8Yu+2FIstSrE7E2/xNQitHscBch5FtgjnU1DiDr/KVzM+zZkrKpXohqg5yEusLVuyIQDYYnBFxpGf40oE7aXhZoIBsoR8n/SGGPRub61YKRb6xufRVsit7tlTdpr1NNmfhCVlJL32UKEi9VFNB10yUwja6VV7UdFBZxo0Y7VeA0cXR5fCtor+ofJRAUqP+Gp7sTESLOSNkr5WnSQV7t8WodHYy+TwpteqhC0NjuKNZh8NUXAxPDxKRyN2mtPxSWMCKhushScgnkKqWSrNkEux3KsqLFNC4UWaQm9MH9/NOTY0cMlJAhYiF+03EU0U3623umjP7a1tuLrUTP1KRCCjfdtLQgJqt6mkc6aKWtzrgiW0TRxILUUnRklJtLeMFYOa4MhQp/lfzNXELsgYru/a4ogPeD0KMUEEdAsAye7l7lV7tEDXgzavEz1BZK0Vl+t8PyQq5zWot14sys8Ly6GGRFcz+LmTjCE7bi4JPS8Tzf3xh01MpqyapQ/1AgsaKEaBC1yYZ7ReCu8i5HZKcsdf/F7zmdi87S+fVNDJHY2VTShPKnF91ySyjPRtQ5KrETIGmiJJ7K5hL0eMe6UNnsu75KF9QN5srlYeQJ33/shcG+5RbJkkQgv4vdbGE+kv95QKixnq8psLcQEO6kNbTRPrBGqDgmbRZJWqtCNWmivFmpzeK/tjmVvttmUA2fbO34CG5nSxakyYCTQcz8Zz5yLk2YOEScZj8qdw/NuyZE4GL/zBHx08JEjNbnTXBgRP2ThFNLmHFQRhUWAvE8xBkbY5LtsOztENZc1C6I6Okjs3ztk7kJrboeGdu7HaxECqGf819FMdcdoK2ISrdYrBw/GjNUzXiJEkTxPkXI3xUmTPMxjg2wFHrre3JgKCvc/5xKMtnwgxAYA/hvbHORVIF4BKH47NTiVfdjHN5LqnkenjJ2bW2dTEog2H1oDivjaYmEoujJ5HosmoQm9KQCSx9toIaR/VkQJr0GghY0M3j6q32Rc9AbHO9f+9LEVx4ePbnwsq4K4ucMwa0F7DPqlJkgR63KSXnAzTrkeS16HUPNj21j2y/R2BYFe6sRgGyUxKNlR2kk+LreRwYIKw//jFCBAfTvqn+078Zfzt/Rv9Rf26/iO0qwSfo2gf4OIpbSBAjOUDlthiRCI/npHp4TWElPJpWKOJjtT120rFB+ip37hC8i/m80rXQU+RBIOKQfwn9va/b7L56wj6+POe2KNzThf95AgSdGi4FmmTzW7CtZg/WZEJbr5hxZqQhF8EQqnVbtomDWgEw3OLCdVHTYX78QaQRKPiMf0Yugo4q845K9tsiSTWG0AQlM5ZnizoOHsSnkRJ9hs/qrNJ2YVvwf2ryV0pXqwD3tSy7ELJV1jPtLZJUVcZxxKfYS6gQaCvFpvdqf6p6CsyRycno9aDNEFQmGo+ajtsfFYhekThsKyilc7XSpR93EF69y7mNQZWjLVaK7lpTvVn1uqpVr5n6aM/6nRqsiaY6XxjPvwg80MrzxN0iiX+Yx3x3F0iqok4TqI8oS9rHD40k9U8VEiogEowenAuIw3KhobC8Qtw6QiMwIxEeMywtIspYeKSZWfK0DnUgNVjFPjD8p0Sx9IVzujpS+jlzo6x28X5dT148FeiYzrSnadqbuQJcQUhPOwRVs9v7e9upfxiHYIedJm78m6u3UfxQuNRGvE4pJBacmZ6bjZUKSdyMXhKZqLRSyYonKT8oxYenVXm/FnpNWezROmv8ulojYTZbeuMdPG5RzI2dqP7K85k8btPSSiFOVjknG4Tj89ByEIdh+LQhDEdi8IzV2J9y/npeS7Vk+YBh0ERcaAsCA+Do4Fg+CQRCgaGQ4GCQTNqjZpIsk1bQTwpaYt81NuTlolISonSYW3XqpbFyl00mV8x/I97JEsTKeSDAgTMtLHB0z9q3Bd0NFIrb/MJFURZXzW9sZxUSSS7pFQf6vc57IMXtkWMS8zSDopNij40Co0FweMhgNHgQGxIYLmBB0s6gSWR/M6E81q25TfRjLCjbKdkjs8RqlUKDhhEmUYdKtNuKEUrYol6DBnV53GJH4z667L/tNVpae7W+rpJbSaR0k3qa+Xbbyl90Xjbi06EFAqfuid4WF5YZmBsUnxKdFxYYkCACAwGg4LCg4cUGkFGhIyOYbGv9NVotPSjHRatwkyKVIPdCCbk8FPmt4l1K87Gyj9DtZKUolK3d7qe8lbMlEJKSjVOMRyrGZmWic/UuS1mtX0pZIKSb00sKNzhckPmSJUJEiA0sLii8ZUdDhWWFDx+FETOJG1kBAWVgkzCIfKZH7PIrKXryxEOpjOFvlDkMdFCQBkjSqMDXuXEMMMxdsXoo4aXrOPtVhFshLw8Ii7TFrZNC2yxZOJq7/89Wfy0sv24JPWi2/aiOsoL8pporCO9St3KiKj6ZIaIZkk1R1a4WtrBM0PiebkncgaVTp7pFY3kyLrIzqlZY60QvONoFeM59HTXF401WFUK/8xsrpTWbP5Ev1MMiHrVJ5Tyfxs4aE15OZofQiWtptt2MGEiOXHyGTcYfinyENet8CXeeg8tp+iBk5ucV8tnct1PYNelJ7LYyLuF8j2NByE63OX60S6OMovh1mE030uwvizZIjJps6hrB4iuWm6q8AxBEkRuG+3oXMehQruR+pnIcjhSiS4Uu9m+zG2SCjmEMRL09clHRqBiridrZzx/ixJLpJk2Dh/OepruMlykMegnevn2V8JV+GulEj4tgWrkgnfbUZvFAVeNn42ZrqqNvWVR+iNN5MxRMOcpk2spuyRiJ+OSSk+s0ljPMDJnerSSh4mAjnq0s0oBIiuSdtHo7zln4Z5ZfNI9HWTjZEIIN0ZPiiEf5NfinfmwziBvE6bQco0BIo7neJvDvuGAEaVhc+mi25DZgudYDXPBJo/yVRNrKUwp6nMgzzU9nyKZsl8oXQVtR/jaMmmdmfBJlLRUYuAECAUQ6YyiSQraQHYHbk9T+IdjJwRKoXkX9oLMkkD9Iwhyq9gtRvO0agIMQCvl10aYphxsKBn4hcsRVwipFCm6znpgVfja/zCOtZuWFimbugt4iSzlNvXK2ZLSwImzrDJMuMJUDZcu8GUWfLfRcELYZSlPXayYlaLbTOyrSowGZXuW11T6lMqqqMRWRxG88SMsnXEgYQSt9kwROenoWGLaLVWSqoFm0GwNfUBC0CuOTuSMtUe0W4VPxRZDb8hOSJ66if0m48HPOrK8/Q8uJudQ6rGIbszz0pxcJt3mjQqYTBGsaJ0gljbC6pxLRLwOyfEolPK6U1sT2b8e+vqEGfRtyxmtc4HrMpPZjKq6jIUotNYNRVWBmEs0TCE0jC/CMh2hOJ+hAiK1QdTFMjVjJyceEodJ6Qvtxnc1+Xy1+OsG1HRc6stitokJGhxgluV6ZqkNyB6KjyLQP8TCI3TDTgrgn8qxM+ToOgYU8WqyKvE8eTB5PXpUbr6Jo6bDdkfIfeWJnzKITMuRsbKu8yQpBUaKmkFjMMkOm/i8dabnOUc61rZLEIc4xrRSKngDEuFinPegif3PaPd2z/zX02JC0yNK16Vfta2EesscsXMARqVHLOgsJeKExHoAKZE8xoAM+DQRUaAxfFNeWfwj/eb6BJBstqYAKW7XDyGNZJWYm854LBlI6pMnR5736tC/8ApqSVG82yRJvCYrqFZpUvzgqavl3WsSnxLpLku/hT5ECMUPrgz7GHuoSXjHliSCuHt70QHv2r56mucI07+3EZ2TqOTcWomnWNzYV61daIZwMkAe2H7uUATI6kzN1L9JDH+WLBunVeG4ODOEIHGTQRE4n5NgSQOfvktPUPzwo26pPbLwxSWrgBJljEZijWYbTQLUhDq0a5wRykIXR6lQ0aWFu3fmOSVIkIrVDeUS10NWQ8hRO3P/pYHFSfAGhnqZXERmZQtHKex5Z37petV2lVAQD2AM3P5D+QBeCQ/BoNMqakxDFEF04w0N0aaZMQ6sLXp5ZUtsjg0HJL1uhuMdIAc2imfpI8+Sqr4HDIyy6ry5tHo3OEuIetBwzMZSZ3xESrck3aVoD1HEEJtmgKKHSrPa9XsIxpN7CbW7RJ8m0dl/l7hnRBsNz0n2P95iAYTWTxzI4jDejyAOFBCYuw+67YS5iXyGwb5GX1yYSMuLV2qTTpcJNPG+6isnRos/g6b3Q4++et/VpVCwJLus6oawG23GUui3eRFCJbdyp1lmWld+JzPDXK8MHAr8She1jUh8b4nCcGRhiHVYhMBUz0rCwRo52/SK7vP85uersvTkg/6JJ9GXAHoO3BFoTyKgOGIM4R24lsLoH5YXychE7bAegQnve42pj7vNqHCpzr/NU3nuSQW78LGJs8FdGmR/LXKTxVM4T8xTJrtpqZUpXn9CSQsPrIFjrnYTT9pfHar7mkJQt/P7ARNp1AyNFM0/IgLt+9klJSP7T56s7XmyDsZ6OB0e+3sZ+9pibTBWtgBIU3B/YBFYGdSR3mICBjB1BBjGoS0+yy3uKG0HHwQ2vTBHryCfi6y11SduIB/Y1xZdN8Uj4jNDEZNAS56l7XDglX7xb9DflNbu0hXFpKDzNtpc6ShPMwcCY5MaRSXIr/uGlxaf0LHp7tGyZriFs01zBaqmis7T35wKW0uQ8aDfebvfX7oJcpCaVQ2WPAE4AwgBjoYOCrl1kcE6glBxbzCDLQf3J9NvcLIbvhXnttGuukeIhgrPBtvW/Sa8GyadV/xULf/TSqixotRRaSiWF8PW+JIApruZFt6SqbTJf3BXOsap5z9BCkcTft262Sm9AmOTFSXL7sztMlKZ8QurJFTR0W54nwjG4KgkE4ndbXdiRCcbDAZKaKngBVklkBJ4UeGmJFZknsUFaGmHSYYUOpfR0kPcyqw2glNhLM4Kcfg9VSU+wp+JdV55MiogqCqKjFkuC3AsS67wdam1utvXP90R4VFSWKanZT1IpojlnFh2NV8x5xk0VXHVj2/QlDThx/+WTV1pzZem9SlMs63kS7C+d1Vxfb7ySeTmaexcaCfCEAACiEZF1gWqBNgwESoxkkpzRLzPIcb260oVAT4LOYA818IeWua4ycIUI6jBjBLLnCMvR2igD/X6Sha9ubHjUBxEjPSc32qjE4YSLjEUB/pJshVTIeZ/jjLe6slJVEXt1N+nxBKXd0hnPeJVYLLFMZ88c2GVW23oUd1SZ+lUZcJNZwZ2Z3PxjFAHREFIgC0TAjc7c07NhoDJDiLsJ3f2f7jJP1pFhNlVuNFefMcpHLEiEjbFTWiIhuu0fQZEvpHCuXNkGtJvGFs6q+25JqOn6DlH6GbSbkYhoXM/zSlo4hOVhTNn1C//9tXXb0GrbRUkm2LeNLKckXaoclbycNv/6YFpvFWs9mIdJ3GinYjE1CBkwDJFNROe/zmSlCsaooGjNGJUktIJ9Jf5e7NoEmEauQY0XMGB2Bjwqh1AOUXQ+HupoUcqNnOoI0+maJ2ecPKfsp8OxZWIsXrP8Jeeq5wkgKYI1/s4sqikp0VvRYrSUIep6n+VRegRRvGii1T3OPq065t0M4RcMAt9v/85tQ72a+27vxOxONEG8GKgB+AixQje38CtduFtvqfEJ6NAdJrDixWovH7a7aFfCRvDhx0vR9XqiSm4EtErLIllMLiezoH8qQQBZcNp1gmIoYkpx70rw9BgCsRpZJItV4bx+o46GrlS1w2oQ+YoZabkjsvr0cdbkOBK6Ly4ND6/laZN0PZNazOjen7GLEDBgw8IL7cgVwAdw1gRQmoLEDKp5APOaIggFMCPApRZuyCQgtIRMhO4xLjaciSG3oUWitK6BZAQoaY32d6freFdfb8sMjk9gpDyxjGkheFJkiEcXYwhoFG2Ur21QnSPORDvRu5Gyc3gMUeSVTRbSdayPQueS9EpxJaFNr/z9qraWu2SsuJYxrxfwRsMCHrUQawDjJkHuko5g995FBShGAxwS4DKC9M4S0dMWs/7Bmvo1RMteNwufnEh/f1Zhw9AcQ1hQEZOX5cq15vBBGoRWOdYXLTCvifUkCqFAqhRczgcMHnERKBaeHlWqBR+dBTr6PPLHZRY+az1cVldH9C62uqS9X6NfZcujxehCjlBtgxQ0bfeO6LdFNAHKsSnQbiOQQANgCcD2GcyvKqaK1sub6JgyILg+XKaYyxBn2k2rdSm1QXF2kc/Vo7ZBKIgE0WjOfSmYUt1/IwajI5D8Lhwek8povf+TiYyS4rC5iytrvYwsGvlrqtynYT1pzWSfZHsoimQQRQax7HUM4fXsY3ldaT6Lchh4pDBkBsBYBsCEGIRiMgLSsIg0GQKx+M3a7/Uz/7v+asrvob0UojCUzWzwom61iYpSUnQjgMheEw2NhcNDwYC8zQs0tdo5Wh1rP6ug4Vlf066RMmUkhlT9Rlzu866Q+JjHMKIyhzYzOd+72kq57GkYe5V0ZSszITxGpLCimZlobPgVD4JAQnQyKbYeIiQgETo6GkNiMWm4nPfYiAJBkGjBFP7vc+GAJBgLhNZEv3/8IiIqGir5ilwih3wU+J6z2hS5zNWVXVvX3tRRTSol9hfxT8kNtzPamSSq9iat/9zUSCcmcuVWwkaCk6CIIgUhYKRGr4oMqOqKhqXFTppnZ5Ev9Qbk5tiRjqW6cKHBhZMFDdMVrvLZRp0N2po1JmaLa4ounfqT6E9LxLvVb9mFRW2F3f30S38qkdraWllcTiWXEgs56a64vciJ4xIV230zGY6GQTDs8O36lgVLig1cDIxPROjcLlGZCsUHRShLZaXxXAEQA2lISDCpVHo2kiDjqTsHdsEyStQbNC/d8pNPPolQc2PPAfV/Ox/dbe4m0ziW9v7aQePsitpnI5ZT/dCUImDRqmYp3q4nFYjFI6EgtMDgvAqJFwfCoLgqMjTbiHfjHKyG9xC8RScVWLMHShUVcLLK6KdL4NG/FatHr3PTHItwlj35vRt2wsKaguLK4k0tml9bVtjXyCklcxv5Bb+N+4rIX65L1Ubl5UejMTDwanAtIhQSm5AYkBabP2hGg0PdufNpXKFhU3lUlfnBkk+eWstlkjrJZFt6/deyGkj0mKWd/huXJ7CXRaW1DWZS/IUoWnLkJQP34JQven4QhWrBaG6hOKwnTs7UxAqcMtmyhsEgUBgDYHQXBwGVAqaFBAOCRkSFW+FC2iFsQqqplWxEnu4W2OvtDww9MJnJ81fN0tbN1hPIzbos4leokIuKx//Vftiinx4yHMnE+U1zSLjKLirnfCEeoumtpzlMv0Tar7aUFpClFnkqF66My88MV2MyPbGW3Xob0FUOKlilNP9OMl0lnz7oS/mbSv4/76cr6yibEB2xamlssrMOkmS8XuRyScJUubNT5hKwHmB0Db8bh0DFDSv//jFCBEYTACWAcEAH/8e/zL/Tv3ntBotxJQYleYxPvnQkFcA46kAhw5upVSzwKYr6gUEKyw3vvLMf/YwZunxkHie8ixK7JyMhS6v/ET9khvekoOR1iSJL+pRb4xvt/ousr8kVbP16AcXURKz3qRQuNTD08b8MTNM1mPjjJpgMnFi5AoIP4r4RsNZGSL4s52NSXVuB0Fr7pXK8WfWI9gcIjdxd6AF7Uj8EVmsq0PW57j+zBGDlaCEjUWANssRMA57OPBNXdrmyjcfI6OwoFrEF8ynWqdqjruL2syy2PUusa9LNWXRhY8uqhdruLunLPZKPz8gRDbxjbkwGzw6nuZC9NBM/UMvrNpg5RRpJeppapsgdETqqWWSbOZTWAx2l52YbeXS5KZVrejL6R3S9rAInBP7+QyySSoPSvw3kFM74TiY4mdBCfbiFg6potMKEFVh5+Ix0aVerNgsbgsMu1KyCgp+o2YeBf780KgJxAEPQLYpHC2U9ThoPbmqotkid1uehLdRJfL9RsM7jLpNtzx3e7S63NjklqUNgePhHkfVlnLuWJuFaZ25oCJoBfRSIyxYz5his73DBZhGg8/vJuATQYV1+KXZLC0x0pw7wjITPRggHWXMbv8lO1nUctWNc08O+hSsLzAkd4OE7VdGPMoqK5JX4tUrPrgyBQyQSbG2davhVerpd8mCGSHykaVGlQtUkVqmPhGEhV6hkVpO0gU73vqwnjSPGcSS1HO+x3Yji+RQ1/7+vzeLNXRReHiIsGF1h9ww0QT3KoSK86aTccNodODBtxllc+j2hEzKZsdYn9gTViqPO/NtnQNqx/qLU0TY6n66pBorDFlnUngeYiWNonB7kS5FE38VpLlwwLpvNnJjGVBUhJKOhNU/EaYQr8lkFd7H/xOc6IVZIfa4avjqb6bTohdbH8Ai1mc6XNvBGkHwCUAbP2IcIoJAVbSBUgJYxzSLcGMQd8BD8hZcz8AVpAWIyGysEzTJx+kxfnQvYr/6kdTOpY1zR0Vm2sjoWqdu4Ahlu9DDyovaVmkxG+TBbhAO9gad5eUzKSaIXOkj+6JmkZk7GfuV8NnRC8yYFDykPEIvbSqRx1DMkq5ynP0ixPHYD4LFbg9zeuhmHLa+lsQzzcykfxhvNhsL0rPtZrbXQPl1K6Joc/C5MyD52Qg6rKT03lqPp5PCGR8/nI2gk5a6gFUYpva7qiSEn+OinSaV5DfN9TojzrXs00sjSS45PagZvwne9gcEw6toNeQkqnl1+t/3rRRrReopydcQnARFtwgz7mFY3BwfEx0PV5ZgnlasWaraK4I6nxp9mqvu+LR5XUyzYax4nNUUdTKLPmha6JiKtu7mRRQEo47MgITQsSMhGKdSVUI0KlA8mU8F3Fv4p0toK2sxPyC49ROI1Wa6HfUJHw8Mi46XufnTmH2redGlisSJNOQOAZDY/BUkq8dr2+QgvFTXCDTjO1pt3tmZuUcnoxWff7fwdpbK66l0bJpnQU3VOWsx/7sbVprEtemt3pqZUyZj5mE3PEc1HFUX6rnewlpslhCovk9SKQ6uzCXZ23HyygQ22gJFG0V9lWehIkH1Ru7A3alQ92v2iq+Me5JkN3D4VUaeLp7hXsCQYwCpDji8H8ODkspGVf8tJAjtgxfXnS+ur0MiBgd11Xr4vhKdphlWU9dSk6YqMRLmtqV+r8MqiJTOfBOSQjDLBqZxQnnSgsPuknaypOgR3ehBaGR+a4Ow/u2OQle1kjkeLdR5QliicQqiyOZfcAUAiCAWyGF9kASQcHERgFAJZioVwgKtGaMbIJbgrCguZ209sKObNQRuulTPaIu8j5ySCy6tcFojYkK8m5nW9O2QeEvh2KnImVH9SIrARqAWE24/COQokVgsd5FNK3YmZRYP9BvvbN1PKlsMxnzvK++i6ohjF8XSqbg+CEFoIMQPtkCeO3wvAORjaOTGXKbuIQRbz7b6Boicv4jy2EEQtQUscguta3OijIhKSW7/VmfVKTQdiP0Iqm3bfzkXzoslwRK7chyaNNiM0g/RllAZZqBccLXt211s2NcqZ7CvmQo9qh3wkNRsrcoWe5RLpPHETRFnNgMRiTuYbf4wrQ+gE5XD0/HFWQjKIR7RrR9ZndULycS5gu2kEwLR0gTTyUVdA5FhqpxG1TR5lcrfCBf5y/cFC4dSE8ukxcHBJwbi2VHEQi4yhkK7y5Y8WBKaCGpSH87bqbEt+ueV8oxekkwvRjQ4JNgkfm+jz9KYov5hgATpgEg6vddZBbXMYpA1ZMEO7s6nstPcS/Dwj5Bm8//0okiCxNX5tuLKvXckxumZ3VmPIklZCXo2BHVa/6j4Wqs1cxUTxQv8lVCsuRMyEqrxg1aCta9boNGtNStkBEmwKWaGlbps9B7+UO/nv7/55Vymb3M6i+m1gpLQMTC+ppxEUotwjCUErMX9U97WWhXiXO/MiGxfkRH/3wRMB+SEnb1T0tmVtzBCI+fDdQnhS2Yu6/xgz7ylIuaIXSqoTKuxigUChFMmOVI7p0TfuYpU2Dm0rFynm8UbaZkvI0rrspst3rZY8aaT5qqxnVhLISz2n0A+BcIXXuXVUHtiwhMOyRan7uLbf2M8u7ZXmyJold1Onw4LztWyLKyy1FxEZuUX2ur9nMsKk1eIXcfM5VFgulccI/E0xFAUKumDChsQ5TwEjJ5flT2y2LqFShG8k664QR8/NWqIrSqyNaITVScm5eG4ahGBGNwkBMDIOhnqLQpBel5ANLB4+XvIAz+WiPAh4Mi4++hVhLXWXKAsmucka1a6XCCzRate1ZrhRLZontxq+rJsU1ZRjCXOW32jIimLsd+r4HVjyLzBjdtNZ55C2TQxcQyvNY8J7+WtqdnW3xJ3IjEZOFpCThWnuIAINYFxeP6wJQfOwmDB6PoTGNq58LW3b65h312U4WorCq67+MpZLy5ImRY3946dIIGEDDu77SYSKOQFlLy2pU8WePIBIK86ieNkhZfJh16ClGWs+itDiWE9+NymVo2KsEVeDdA7Fl3IzcfwRunEUXeQf+oRQ4wmaMCp7cL3ehti/HOTYe6IPQFpYWgUKMNWU9mynUKQ1u88vu0Hy/wnM6KkQRBMFwRdQuwAoPRAMxiHbEBwDRr3CFUZUKEXDSws9IkunPAUUia6XRRuJFIoXIj/q5FMSrcn1p+cepL87CgnXMowIY7dR+NoC2Unp45yHGkTMiikgjUCnyINIQwhZDi/FNbTZPMsSRI/rFu3ZwvosoSONfHNM5HElN6PgUeKj3FggNCAwPBVtGGlbQo0YxZSHouryVWlU/k+Ymo8gukNxV0iE54gtiL1FNMS6Vb2ujnJQtRbmPIQ9oYHq4so0pquF4EALCNGmCSJ1kkkFpuISYXVNVbQoeVMMWMLwolhCSuiu+zNKZPbt1J15lFCTNi7ZrEqShDzZ0pdCWKJMrzNVUFElUSIWsYmyJp3q3EbqkLchamBJF/muLRhLPTUcaVu/kROTpxNGE2qFqy3FnaSU9UI7LmY6VMuSJ9UuEnKGhFaU3oaRrLzvI3EcnOmWfLjUd5C2JKNU7ZxRrN6min+xdnJScSSEAsUlowSpS0nDSm6OCRS5YEiLEimuFiMCw4+aWQmWJp7rSqIlhbKepOQtTAkVqZtzzo41Tl4j7Ykr8RvJMJ5GyZpocJZkIJECcHBohzZYgSZZLtRPUg1kehIhddTTHw54glijbEBohDXbSYiL6557vjF5Wy74+vJEPwi02o9VaUmHNVPZKEjBJXLKWzVd7JvstFuWYgsIJxRIzYEEoEBYcmVVejhLFJU8KEkKSivxQkVDzoTZCXii1TpRfVDyLz1UWU1GzVxXs1arbhBuCAkjHs06nNU3ihpiCyjxz2hwtmaiXhQ9AoJFUeOS0cl4Q1IYNFekKFkVSl4U+SPQl1ahF1yexeFLYnlCylPdk8l33XXGdsVUzyVcSKNIbDiVKXTl1WerXfpDWPIrvQ41lkJoimiE1EMLFfhDUKLQYaxSTCWKTTvxEQhqFEucmiG9KJt2oiOc1HVNjn05fRDnjjec9mueqnkRaO1oonwwJIpaPYmuPemuTkzSEsvY7+Utk30ShogmQoecntnMzUSg8hgsV+kJzrms9VqlLrlIheulrGHnbrk9ySDTP7rq1NQj+UlEo2XN0Y2WTvey4YeI1pVPdEJZSc6nnakq6SiZ73SkhKk5kw0IJs4sYLMxZxLMusc2ijxIQDgJeBkgXgFaBoUHBrwoIALECD4fzuF4MLGhRwH4BCQPDggEkjmBfDjyTEoPZXGyOJLMYJ7jQPFb6LumG8iCRD0Qs4SowEhxsiBp3q+SC2Zvkfk0jfHBLhAWENkh/ZdFDRELZMZCxBaBA87DRxfENIvyLWRXsryFqj3b09ath1+6iQg0r4YeEF0UJM3JsgtkKLKUEggmXJ0pcueRKcKPwx+nN6zhJEbFKLHF45qIxZn6QvorkoQ/jBLFb6nBoMJaGDUFPgx8EPwwWxyUnWScnFfiPsw8hg8EF9aoJMRfyR9kfCpWRKymuexQ8ZR5kJclF67/dcZJB5EpIWjNxC+q0eia1xZzbEHqQnsaY/IjL7vrOLOXBQ0KfLP5C+ydRyeU9DF6FB46xIGA8R31SGqqahhopOsnNUglmbWV/ctmonyIJOu6V8s/o6vdeoy66+uOr+yEoIPIU8pvOJMnyL8rbZ6EkQSK38KLImXNEGnXpTVKLY4tlZMgN+S//jFCBIREgATEI6FtnVyrDUiTMVmgzV6dpkIijvbcTX2rFyETJoqfSYRVFVeIMh2AQAoMBwYAcAEB4cAED6MF6hRAiHQjrW4NFUw7sYjwUvlQboWnZ0YmbsunyRoyut+rEsyztrtsZOi+IRKnO6sQbMU4vpAgkpVdqREmu9kT3NJpJZcRiLcmmtnybxhZ/Irbk8momSGbkBUIbN4gIXGYOEQSWOQ0LyjoP3Xp4pxMb0QlM+4hOM2QILBe8iiJ45SWT0/0iqmhGggkzSYxJMm0WRgv1QQIRI+4aSztC8f60SSbNESEkeihQXOGhCQx7YSEsxxEiJehUhHEVqHa2Y3whYmYMhCEq/QSKxmaYgrODmkRFaHJMTcRyRdYyJkIIbN3ErlE3sjQUhRzkgQmehiwknB5hRE99KTJRMbXJFJmZtFiR3vrKYkvOCRSLAMIFMIQ1EDbGFESEMzlEIinmK/KcrGZ8ggjJVK7YinjOYghQphogiQugzDIGgpDQ2mEBELyFLKCPyqGxmEEJEmBh4iBBCBCN2UOSIhGDBpBEuBBJntg8gQQFBjAzgRAU+FZEkWzZGb8wtJ+IxBZ9abQI5NDSfEkTw6Cl4tMX160rqKMfogSh2/FCCgRmzfIQSJtmkUCpeGghEyY8mlaSy1t5ZKmUKihGZZJXLaNiIRX+uISMybJErmMFlSppSmlaU4vkhLiI5U1kpkV/+wKyIbRPJus9SFkSGGLKWvpmJR82toIEP44KZOiRC2bhZXfXX6VVktybVZdJMphckZPXY+JZDHRV0RJ6nvbqxEW73o2sZZdt886kN8l7KpEsTGlchr0V03jeJYqNk+yLqu07d4sITpFfaE5OnVuaprcV0XXXOsks+bkWXCMWtWKbbNi/auZCZVSameFZIrbtyHEfFZCWDduh+SkmZ/UkS3lEiX/uZW1TN5LzLidhWC9OMa7KVFUyCOlk8eE6xPEJOk7ChGdEn5nIrpcpFXIzWKZUcm3RBYtJCwb5Wt1MWsYsEh4Q+EMLlMqsSKpip0ZO6hGZydSo4T9kJZFWRkFxQI/qfCMLIlRdghxh2sZ72dtUixORRsoz8x8OAwUSQUahSYgohhgU03e4a0VQauoiAox0dhyOxOXJSiFsyEsUXYooIRnM25YPSm1MNUVXHczghnLPsIZwoZ+qTJkUzkDxrDE+WfMcN7iTsCwzLlVKESJGceOIoJUWxui98QJOOGKIxxzYrEiz4OwQU7ACPvyw3GOId6wYQFBlKvWUTkWTPicQKkpVeunb2VYsWpatkYwkv5y/fRruerXlHcMWXeUg7jM5oTjGMMsem3GOuoJXjC0q1rj624fWTT171m42nC0YCHV2eYqjFpTcurVfpuTCSOkXrE5z3hhK+55MdVQjGbBck7h8UbjOhHzkYaV8vxV6jXebfcSViRPPsLx7hgkymkkyfSawTa9FBmi9rlJDIUnvaCbkV0UI+n2qFotxR2LNIPoMwdIeUyhVWhrRWYAAsAAwA2AAA2ALoCZJDIUFhw62OkUcKkgs1GgxPRcUiRAl2xVyAuywHCJUTGsF6y+29RmkRnCC0T2y8LlEF9RKFEFo/RXfbOOixJkqeKiNJuyECmJiaYwd3JZPBg2QionGy2SA6qQJZ7QWBFJCQ6k5pd8IA2BIHwWT6gSyMlPG1GkiNRXnhx3YYL1PpYhH5x2Mk0KWEaPScnjjorEECMBAQE2RV4VYDVp/kTSNMN7cXBkmBxsos2S71FBLbKC9kHTxhNkV588SqunzCMGMME8RDhX+zIgfLDqpl0Wylw3zw/RKcZcrmkkaOT19T8K0G6rqLlOgsacsdrkF/h3ZaqUM3HMJGUIWz0oclRnpRrpxtY3hQN8ESApyjxg+0UavdkMyl9RnU8Zp8CTfGCygrSRoMbnIgI1Grp2iS9UpnPNUupZW3IvFgn4RP8p5a14XE50vc7cKfiMfCepJUtZjyQv8u0U2TkSFPDWs4ysx/ljToK2WWui/Xy3RyNPebN0yfPrBPQ6TkLiGUyyCN0kkFaZW+ZNzAboMN+IZyJnbT0j/+r+TZXr05JvaIidKsNC9itY+dzQl041oZLhKjSflyGpMT6rxdk5etPmi+C9V6g12ysIaECpDpJT6xTLD1ttYS8YZtyiOLauIrzEjfz7D2QvIPEqRktmXaD9cnwEBv9qKDOxvRdKpu0RS8spEqA3iz8+jVbrlDEb+uiSk2FJJMFZYyiVtI1sHhjPYWQz+FLUy3j9kLqENvBrMVVzkJ1jEhddviFg+WDFFxvL14hUs+lZk71IhfovFkbEWMViXU9NhYISJyMMWJakKjVcJOR2KvUBPPHZqOAl0xrXcrkNWJWEjMl+ugaQjQMVKASQBWKmJPK3LcL7MpkgsojjOKSniidP5VVqrkIKxIQp7nquzkDkmwF2cRpHzKsGuS6E/DGJDWgOye56q8bVWszqRvYvMuWrOh4gLbHLzk1Yrwt8QkJu2+kVGVk1Fua2Wuz2lV34j7rRK/y6MLGV93Y+E+by92mMmJv//6rq5CloNjpKyX8jm3fPijDjdbnHpT1X/1O/dyRZtHJYIM7ZboI3Hcy/HCtNE0mZneJPYPvKvJjOIpHH8jloUVJYhEc+ZX55QUuIXIKBznUeU3s0xf7886/GPIkrEPVrwlxvY5iEq0UzhTJ6EsPjaof2LKoQOanB2bbyTDUmuW+Lk65DT+tVekPR6py6+HXMmKdQ0Sf2XYwqyy/tSC1cLYn0BgtYUuxTgZ2+OTNs+jm/T+7H+cIRXbKy6gbPmXyseICb0QnW3ruVpStxgpKvpQEw6sGy4YRYplcqVKEFOYcfDXTUqONq64F+LoltxxmuFRVUkQLvS539EJDQy40n3oKXUgiYeBTUqMJjZkJxiugqzxszhvVhgbza2ZvN7pQR1XOYGQfVEKUQsoAJDuR/TQlr8UwlKgbggwy8ZpwQ6nnMoqltJqpBeEcvShDPYzNGSajSNzz4n67d8nd3SyT5iAha6I4l5nqRyB0P96ewQsl11Jml0ff/RmqSWwIRXpH29frWiaWnclWSc0k+CrV/Zee7VhmE8RS8ECge4I0cnFPpT++twWjmbE8j2gtRRB3sJQ6c3s1gHxrvk9vGYhwAZxWFKr8jCKYApEMZbXiEa1BmJwm3pmvhkuCbDWM1oQ1FuCUZyrDDkmFH6WSZL9SEbMEAhiSG02Hyi4wy0TNYuhPLzV/XyG8BeejbaE0jj4iEUhxQgTSUKJYipySnoEw0qRvEonFwWzeQwuG30u3xu+WxNR80DshoC1G1tpSHRnH1IYE9LdBAFergGIQXVIPKYTAyB5eS1TeXcmKB94B28JojoC6kSZ7+WEgvO7HHwCmWwoGBuNtZK4H+dqpib0ChsJZHUrkxoBZsj0mBB9jYJRhP/KwW7odGu72VDPERBOHl5TxK72xGGoSTT2qyXVKu/L4aqSSLa1TX+tNOh6CFrVpB5RKmljJzIGVKdFkSxyLC+RyS9eAjFFbuY0++UiGdtm0xmBTs6ngyTwpjOKlQwk5khHVURIl9BYjuooTAw4vRCVduqz+tnJORYKG5jGbnjNcVz0LbGewmEyKs1LkYecqOgH5X/E69zHGMkKTD3bLS5aykBRSOt57ppt/61d0EM04npDJ/7ksv2OCCWg/aKAhp2FV80ZEsuERvY8LHpKXT90mpcCtDuU0E1pm2PuWDNExkfu3HfA6YdnS2+7GRZWqdPK/EruAfNz/+MUIExZU/9n/6//V/5f/xwAMAFMAMQAg//T/orSllWwSmTBaQcb8jxeOZ4+A4K6m25lbYbMd6QoyVWEO/PueNoQuW1jZtLz2SbSplyokrn5mTDXG85T8XNnA6jPtT2L/AMp0089COF2EOgv5flg+XR54a0XtddYa0EiEkVqHfzZiVkoUF4edyTBDrktHG0zyaqau8qwROlD1eHWTCr2GsBRg6keGWBwCfoVNW9hrhBPX/d8dqdQWQVZQYDzZifWj7VH8R6c/HbIpjxoOlVVShITrwFzOZhjrieSss7hJty1YJGeT1JalVM6hO+7flQ2TQ+VzmRdnnJTt3r2fik6nkQZb6wl3PfUahVs07xstJHpcDaAWY8BHAPcpoVlkWNiwCTAzCdMs7GGRq0gqhWdHrnKIw9aPrM5HmJ+3GlMqJNxnw8nCP7quEVFyWzHyMt7Rs5WdaEzlXCFJ8ue62G/XkxCQ1SStC2xQuBOpczLwnUXHBKvWM3XOQDFXqLPNS37ZjmphQnknEbRqaMEIktyifVVkMCd0IpQRqOLbB0BeWG8QyiQyKztZpMzaVzsgvPrptiM8EcrKlBuOIbJZx5G7KRKEJ8FaZI4QtwDlB2lWAAxAAAXE4bBPJptV2zGS0+EvFBSJjxJSZyJ1RpS+5Z05qtRGgHSfZSgiLCoZkSf80zKu61TV+3VTdASCYSmyQ8iSxE+SxxXmsoATNIcjf5ds/yPKMg7BH0iclH9i9Zw1H+Z8FzQBFlTpjpvu4S8dCKV2tvfE8kU1CDygRdUhpKN2HkX4fIYQkKqIAY7A/THFofoZ8x8TtH1jb+ngTI1TN8hzq3J3L6KMMe4b9N2TR+czFFqNkEEQE5QQ8dScwTXTVRUGibp7wsG9KujXRklYciNM9354tzFIWqGrZ7w/srfUzoH0vvITJLTGaW9n/RgAMmxYcKUT09iJkidnzvhChUvTmfWb3t3NkyfenLjM99LgyzWjJFjliqz3bHSsCOLtoHXPB0tZ1W585C5Ep4LIWpI6cF1cLwIjfYUlb8iiWZ/lOaYem9ASaq0hT+kj0fPiCMesmbUnqH9OmJTLyKlW9vzFzvXTgAuD3FXmg3w5tApRS3tuLyVCfKW0uqQarfZrGVvBKH9cwRIiH2FVeZfvvwLg8zqJzTXe9LxSyLMo8/yvaNRVWmJ7kjyb1lyWrSILalS849gK9Yb2haSCkZzdGEmWdTd0oosD7UWyPWlo8f5ZLfQt/ZS78mtHYCVHcEfhKa1qOUicp20vyRtQyMvx+EpUKgzquraHhL+yUiWHM6TOxBe1ZIRxEEpaLufaTvK1LMxrUu7GhXIazMXBd1U1tjWrxNTHcMg7NNBKYFWFe6PoShVUOZ4zu+ZQne782pYUppdS7taJqExEhCRgq4AvwAO0FzAqq8rnUxmDzMkKuMsGrOoP158Y7S9GvWwiYwrUCrbM1fwXX7ogYRMCH22JVDkM9FCJEPKhE0xM0oSNc+lK8+bGEc3Lvkqvz2ssQJy0HZR0mBc59uDc8tS5jeoJJu5D9P0b+6EeLRW6Hx+rE8kUh9AeIPvMbiCDIE1zwJFWSbgz9xl7Qf+Wxx9CtAbrxKfNsbT/UrpJ9hI1/wVFk9W/i1B6qrLzF0/ZLWYtM/TkYOQBfBNLwHjPnqpQGhw3cU23/E/dQrg1RS3HE/znADVtf9tNCMdfpaTfv7lQ7z096aM7zEGONSGlifzIHD9kwKu+B381QicsxbUfezeS9O1mfym4/JFS8JAOz4cpTkMX3maSpK/ub/KCOKeZTzVak0i7iRW3zInRtgwVkqqSYOuCojBVnESCoI7gPwtHbSliFRdTrk7ZxSSts7XR0T+uWHhLqFwAApQAMWYsnoYxCmRMk64LSAVY0IpxZOgtqyhMi0k+WtlBXWCXx01uLEIbGFfHWKqJ9CzB51RExMhTD0CjwAbqe0LSJwt95YLpbNADKPvny1uUuDbYlEZgutNDhVPF7wbv++dfMtCLXqhtcC6OyvUxVbLTigRoCg6JLnCnmxqtENPDSmRlKSIltc7zDcSuEN9Nb1UILl/NtlYJazOcAwlVHyuY0VBOJQUsy8K9gC60vaFB/bIN9DJpzr6BZItue++iGyYXu6Br6t+F68gqOZappmcApy1HEV8yvVvto/RSrlt5EK1ALyB3K+ZbNWJTvZWX3u/OOyLb3rSRE+zu6UWQ0iWKxoTobsR0F6iQlZSMNBN6aSMFncD6Kif72CDr0RjpZV1ungGnCcOf7CDDpvlNKZRe1b5y2aGVL+e3BRS6id/S1TBaSZqOwb0k1so84MCIwABIgBox9zMgCCBA0FOsfl9RVDfFPGW4arXXakgNUTV1BDRouuhIRJCS0nGS85i5kuhSK2VqECQrM9coWnzxyIA6fI4TgGBdhyim/SfpN2f4tKxW1h4PHyt8AUWHJgenlLGTdDC33o+YWWjh+1jAEo2gBcRXwqXWZ32J0XcVcAQYF5EY8iRIk1qeLtfLg2KrUizlE4m3IOexVFP2jKeRbZESLDeigr0n7gLpdWef9hPy50i4vE0MMyvst3d43jt9JracaFEZDMzjkkR8ytBdn6iu1k74c+HAA0QBWS6hEwCKCmp2jSQ+eoAQYOqGUQlQplwoUXZrxPA8YkXiTUskU5W7hXCqXqlYsoT/rQ30ya43Y9lXmbLbzozTmZuqbyv4CaSL8+S11xIfYTHhfC6EBRWvxPZCC+dM1vW82dJD7uaRQBWgBn+0GtARIUu8tg6994wTIq5BN9jNhFXWL4dM9xh1sYZfyQKUb9QtObSjLY4rVIOmj8eKfOOQxulHKd8mf7CljJF3TDhN/PPdcbX0pfO0D62B87GPX87LY5QwsXN1Ty+GElDDaqWCEFGAQtybU2iBCl3rIGnAtgrJFoXjEQsWyzyCUFDlBSohi5keiBPXskKefCqrFf4l7CBXT+oNlOVhul9KTz0mts+ylGXNarZnU34XA8dngzR3jGdt1adjWX2pLbacvA80Ez7Y6wogHFe9KRuqu9OuiqghBmxI9ZWMQJtVoZ5SMzeozinEvv+g1/eJlTYdcnHB11MyMHqRp2UqoBDEf8joeOaUydOiTCdXdXVKgygyFTHhhXsIes3LhpU0RKAI37VxVl/7GJKcd8zfAUwAwPNPWNc3wrcSWR/RasSaTg5ajrslIyV8fVykXWZcq+uUybsjHzPxnmJINJbFjzpWTaVGAJJCjsMrYueYBQdtGuewkqIukWIQu+yXA1OGK89qG+5W3zwMaa1b1vb0we9C2qqMYByAA1+Hgl4W5X0Jpy4BxwY6e5wiVnw1zdaQDwDVmKvuNEofcQids2US356hURhsXlUs1lgTSr/RYmdFI8PhRLQZTi6szC//7Wyy00qDp7I4pxXySlVcX7FdSNVmPOqwdF0I5PtHfENNgAQgBqXhGDDaFptkx4zl8wdxu3u5SGmmSdFhJjAlk8eqIQ6+6NIoPqckrmPIMx7cLHWGQl7oJvfCEO+SJMvXG1wiWQP4LGvX9W87yaoRbCU2WI3dXtxh+ek+vWndblaYUcVi2taE9ph3ZA7zrACb3Zcz+JESnfEcAx4Hyv4hlJkNiQSVLoRQ25WKzdjJFfdBRi3tYzJWjjGHmrHLqmERI9v4PPSOKCfyjbO64Nxudb8/D7+zyNweQarY4uJctENPjERz9q+dXQVBcrsRN7i5ZVwk46q7AF81IE7Bnz8LgcIpMcbgBbwSB0mGkSFqA202J9VdOhVLzy+Jq0ykP2uCi1wQRr4kwyN0C+XBcro6Z1tuojiLTDc1Cp8q+0LkpMLs95nUHg95qSJsBVmhrXLpe7/63VIEzYVRkzEXLKioSV/bYAEWBWx7xcwbyAQdgSSTkUEKYeqcGsLy0UIwgzzA3dIrltoA5Zltv59xnq6uhj70kDIrAmHlSa3+bFU5XlgsBAYXSeT7oTRAlZVhOlTT+RKRHLf4NsRPJfq4/mSWXh73ZEpIWX3DrWREuYOKEjHEAC8AJKloCpgRCr9RBSoEDS0RLJDyFgbP7QxnkKdPTIxqSAc+gJBx9/NEITfHPOX6DnZWpEPuTSrXG8093CnJayRUB3T8NTinURFyM7y6p2OqiUVqLEfvCRm7YGzyVGPSZ+lNCguYTsJ2T+Nj2i+hQQTAA+wBo43I9IRq2dYy5jGbVxLEUEYbj45sm3ynnnxplE1QxV8xOahhUCXoJHmk5eCGwKuSFL00VpAFEwkmwFTcDW+AiCl0pTETtVC9mXjCvr9cqi+WgYd6JMRcQpK96tRu5GgvRhT1vjuzjk7jYLyCxivgIMAMIB6VPETwrENoxIEkHL33iyghwoSp08bIs9ac+OKR4Fsa22++WvFNX4Ozfin1JAMxB4aBk9xwM+WIrR0wllfj8CoLMKdYUawGNneIQb2wuA2DQUZVrh6Hxcr1EJbqwyr6FbhSRrzlSEtqQPRldGRJSH9P2boAH8Hj6YHhdylmeM+CzatuW0lLBC2L/EHUVS+haZrSfcOE3eufcpvU845EZzApNcTNgt8kkDKAvUTbGjyBbmw+aIdPxVBUkmrdNi3rSRI0QTDUttKbrfOOLgR9qlUn/dYQ/3EfSTVyhaC8XQ+5UrjaeZmYT+ZP5MpGICDpjlMs279dXNVO9hthoJK1CINQcjRdqzijI/j0h37ZL+jhJJlRtdAOj/DdpQ0ir43WLZnd840hBVkXRfMjwJIPaOGwFD+MRSyNeWb1hpCL0lJjTj5WpKMvS0tEbfYlNoIeZnGOYXd2UIR4T3a+lVLefLbSzUvlqRlx5JaJCZwb+wRgP8IN7QxGA95jZpMixGGfY1D08X/xUOzjKFKe3SIivWdYo26KI3/zNp0XREK74s7wuHVErlM7ApOIEYMgyS3JpyuW6qh7/CPyv99pHg7tXE7MXLIKFV9Fb9ztGm7k2onMKoHSizm7HZhdhcv2Q609UnU2JgyI8v6ev81TrP9uvJ2JEYosiI2cYH8CZAuBvyyYPyncqbk+8TdOuX4jz5eTQD3e0dxBXxo1c2mvm8MmmWLoqy3Ltgtb8chZApjqbZPHp8C34c1VvEWs2apZmWf9cdhDCZahkp5OSRGmwslATqh1aYxYkJ8nCd4yydKNx9/tGDIWVa9Ig1E1SNTU7Kux9Db35fuR/e9ldKC5JyShntI6543AGoBuk7VL2WIImzJ3QbRoiwCLFEfdrQsLRowrexkdfr8ecP3q1pkWF004vz63GK7D8SycGK1nCQ+1Iqi6tqjPJJHCnzmEdv+T8xfux7mU0GKQ/XQhyvEVos04l61M3p5tIoTMMHH9zVdLVYASj0SmaVygZ1CXpUvcoH7+ejuAJySMRE9oYsP3xzwANkYbkECCbSEKKJCMeGUmB8i0CmPU36DixwkTELvDvqJlNLHv1GqDOyRyygL49jAEiVKASG2x+LE/cKM9iwsj/bjn2/QXxy/8bhHlS/RxHWUW7thPe4+i8MZDXThZvKrfrXOfv1WYIkTvWOl4WpeaPkez1ovmds5S0fZ92U38vrTMzYkJKRpwRMduHDoAKQRQLcKsHobMdEDkisnkacT4+AIwG2Qggog4p4HFAuJP+eF4dAUg9wXyqtuZsz/DpmuFqEaGwE0YaIqq3oRclbzrXRqxrHCvnxGDJWoauujeT0CiDXP4Vw6kTTAruYQlDE3fhssuaKg5NETBzNI5/GFMYwhkocmLNMCkbC7alOX49t2s4v+PDf9/vu09u5UC/F8JO+7q6J4KU7ow405vDISrylft9Xh4FfQcwYMk6aIyJDFpjYX0qJwWjCBD3hby9NmrWHFBrBbXZ6Em1Ooegz5ckoc+zV+ZEpHaic35rgu247qsumdeqyflyChkDKILaL8ZZ+1A9Hr+jsxZrdnCbNzCHuklyO7tS/z86QvJibnKJq85O1ffjZ6E2StJ2nMZvWL4hxWefTJXMvKNOLJR4lyAnBjwv494Ulu3cnslp+CWawOWSeD7mrOyRxUzVxWok0Tq9l988kGCmBRBxRdjJrI08vcjsgHs4LvZ9xFBfzfNw4NkLuTjTSyP1XxP7jFCOGkJovyN9HRj7vS1p1TlCAFSPgYJ9iX/ZT6ztZ6ObjixIS9kqIKQYiKf6jjmp6toKpsm4q8KMhGmeJYCo380uoH3u2afx9D6GWjlcuf5mcAf8kgtgQ4L2YVIqqV38OdqTj3t5KOTA4hYzGovaCnU18kcoVkcYMQeM8Q6ouZyXwIjRemlpaveXhnBmdKMRd6kSzOhlybjXXoJ5uCLC7JMntKI8y5IFievJdg2Dr0zDosG7jPKIjOA8t8W/+rpWMpY2LNFjK4Q5dHldBics5Tt9p6XOsfwdMkAwzScwrxUemduJCLwVMsxarFHPPcJ4a4WUc0+yZ1fuz/WBhwIOb+4FuFYEEE0GuKo1pvxxw24TUL6Z2oEaEUG6D3BIg4S5ZvPu6W0XMq76xZTOc2hLC7MRQVxccnJtzAmLQ+1cBjCdFkKMQh3DCZqM3qSUHf2OgqN0sl4pZ/Iz6+HC7TKcohzbLQ3i6bS3Qy++1Lf357nKZvoanVVJZ1eyQkjOed0Rs6Yrr62pjDkGqFUCWBGvlZUrdFRz/i8+PiexgHyJQZ6K1m0ZKWWM1Z1XVgkP4BDjPCOGIdR4MtHuG0b6qShvnu9MQZdE+9Feg0nTv0rqmKX3+aR/WJothXm8cpdlkYj2Z+DV7bp7IarRcdqKp4tV9MRY9JzNDhu9OaN4ojSttQZFucbOWlZPfsmQVCV5XddW9c8pZnzRsvVXEUJTj3BdDxJ9PMjWF3PWUFMbZPJ30iCNRRozbUNTdWyP+N9frzGoJocB2CGOw6k1B+LnYbDM1n++3cb1sjm0jpyjtfV0vvB+Zm+YhtCGEYLoWh7Fc5rzToVO1XDyxlJwIQtG46ispEkooPBp6yDvcbutOinylygVuIsrTvOU9Rbi1FuLkV4I8HKM1HqQvD0FIDmALIKzCx9SbG+DZGXy2sZLMgIAzK6PrVmdIvzTY7bTcATwiisKACHy//4xQgUAxT0nvdqGcIRmj3QfMsTdJNlkT0621rqGt9qAnxKtWeiNPF8DqDUEVSxwZgRHqddvMI9W+phlvF+2HP/livUIXV6d6R/JZmvvrXBUI6ITPt5NLvVZNJ97n53SINk8DPrJG4rqCRDqCRUF7W+BJlkAg4EvTwJknYH/CknGDLZcL6vIkRKjHin0hgENLXiDPIYwtEGQGUpSXosJM1XnVuoxh2iWZLkKZbFUT87zhvy+SxWnukZ/B6bG2WhFPIpjaayofDQ6Sz/YxAkmXpP0JBMh5kL8FhlI3Vy0bex0XY58eqCCplHPvr0dsdGjQXk0/US7z7nUZ7K10uAYgzistuKgDTTQCch4yiDRHfAUs+I0AoRKwhMEFuQ4+5G0sQ5r3v9RGo6l6MCeE6mMpZAzCLc1C4ToJ8ipA3bq+yhDmGTaEOTaKcrYDCZZTxm5X3JeDq/mX8BsCo8xx/okDgP8EChSw1jLLfibk1Nxdh+WrDv6zhXOLfQd7EZmhlROHHorQ19W6y4/s540t9vaH2CxTIuq+AwxDARsHJSoLM3YDbjZhDh4jJgr8xC+M4LSbdXiBdskckcipIfTiDN9GqypBvGMxf5vDBQ56XfxtGifpQ+u5TbR3u5WTPtZ7ZTNHiUF5eQ000C47u2HIx+aZE4Ko5GuYti0LAi2CwCIo2HjoCGRq77cu3k5WPuexrf2fSpJgQ7LUdNZbrHrR7Aaw2I4tvFUG8R0ETccaZtAQEHVwQVCyBizgl+EkQUW/dkaRBfVt5CFWn79ZrL1w7A+zmQ7Z2poPxx1/y+cz1hUP0x7yQpQ0DqG2mfLscaicllkXd0okjimQJYowKh7ONSswwKEk2fjI6MX7N4nlPNfrWFYlVnMyHjloWuk56SyqunZjwpipxyo8C1EbOBeA+LQU7OAMgGcCxAMFBAGFYOAGyA8Q9gFEJUAXanAujQDtDnTB8fp+za8kUnBvhNecaQRKcUBHK4klJSpeOUXUlWLh6W96rFAyl9F/aPocyypWH/yCshnT6uopqR1/dvx8apbzby5u9o0DeVzNYq0R2L0oOx7IJo2dgnera8/9pcXHFfUfGa12gUrVqRqfEK7jCblW6cVUQpOk/EMraQqJ2FHzsAtBmm8GYnOAokFvL7gtGuYqES28TDIspX2R5S5s/jRx2h8UFXOMyzeuNG38nb8+fSKd5LCF/ms2rvXa3qiD8dTwwmUMGHFUDcmToZTjNSgfxcLw7QWDn8wc/nWs4dDi4yBE+mx1r5x3kbEGEsSaafERUiLh0Ez6IqiqijR3SSm8rFIW0QYGGkDgIDXJde7cIwjIfPq7bfr+P6KriKndnVwLDCbnpRN2FFPO5Ql99MqkdbJgap5IbUq2/Ra5g2z3m0dFHWzRBH5pv6mVZS+FCSbeC/spQ+ZKsqxKlew9dORq0Y+rtDcIlBRxJwUwvHD4TR1sdJoNdyl5EI4QK92hOLCzjRKRyFCGmwckaQFb7CPjoFmoVYNS2OxXAgFcVDaZJpYOCoF+HCvGvzCxYsWnzz5RS10YSQhfbj1C9SnK40Qex3iHG09Rj2bus9gwqTeLMk38qkPpiBZ/Y84I/KaIzOdoUOkx0tPmXNiqcxL6Vr1scjGQLtFPmHMhuMv27JGF2zMtUFbpyinrmcuagQ52IaTWaXuQn1GHPNQ6wk1VGmmClNkhC2uOSG2MOf5BBCyDszVcnYReSVQ4mky0K4yJEKKhGxKbOLo8JFMCAbFHMw4OLRD5/IOh1VEt89N9Oa5xiG5UBL2Ve+cRu8j2yRjb1z08Qi00drd7iwpGJBGVHQvuTF1Ke7K0M2it0U7ECK6AwSOjFDxRRVozEAQY8JTvx9zSVU6fIhcVOo36pdMELs6rJZC1JXVCF/iZxrTqukFEmYewlj5IL6J7yLW1ROLOxpGcYv12QNOmhh4Rqub40iS46+4R6SF1glGmg1Hue7xXp4q9XAg25MYmv7Uec1B537xfJhZCb45pCew70W3rgkjWoVakKbGuxKEavIi1NNTRroTYcyJEm0oEyj2xyv2GlNMQEEaQcgXA8hHBQXhPhNjSrmjE/wnaH3USBDq41kmRCJLAZXJ6NG6ber9U6/h+pqGHlmm9xPUELUVlGUYVTSkVJ9B011XTJQ+9AnK0FDaKH2OUZ0rhF6B7HveBgXgZ0nRqScHjcKe2hNb2HaE3liqCGZcW2vJDSmhpfsZ/jo/bJgjgxdZDmmhuhdklZOfh/lN1oLF97q9k2RfvcZ/9VxzjHnPuc72PVOnVLhq++38KnsPeOGJLT5k0ur98JOS05ioFH0GBKsX1AOhLa+2ouRVdArYUQEheREEuGJho2yTqelJHNR60fvYwTVkfUxdOOSEUZiejJDrF5+rZVbL9tRkL90H0M+zrwK/Caq3DY1icIY7c8m6I61fxEI25AXZfvaelUJ7fbYOpIhlom+6olHBpa9ZyawINnlcJQ3/3/hznAtNlxvGTBdMAj5ERqD6d6GByRZPziCiQTuwVIgV+O+iYOxPtLSUIbC0qe5xGHnfCI/5BJyLRcsIChqdL9oRfyeDMbSy8cwda7skLqF+oC0DtTkRT1od+QKmZnVE0iiXGWERvmOES8pu/FHSIQ+jaBEhs4WM305MIAo0Ui9QvI/9NjA9Ym6GnemHOgmDwNbF+qEQw843NY44pVtulCgvQq0Ye1AQUp9ocMiGClYvVWOsbW8VQ1nUEhYWSfAnOuUTjJICFK5CMeu4f+lkLMaUa6YiyQ9QXbtUU/AkxQ936eR5SC9reYdsgpgVgG0xU5X80qMCIfFh16XlEpGaVHUIjMyB5NOAxBiSL5evF+qqo1oyeF361hDMhmz81cQ1w/jLEVkaA4OuTuCETBPkqgU+1zVX20n4zfR8NKNRVYzLkvrxf7ETEj99QVJKDh5VmdI92GYZWSRtfMQAgeGKS3LAUH0ObhVOamR+0TNEZfP8h00RhYqMPe2ZUuYc8TOXh+84WLuOgWAnAxXnNMQ48WKZw6zKeRlmEL3wSPmbIkAYKydGHHXHtWsne2MJwIEOFQnAdmIKk1y88iLPqMfR7UGtcXKRo3szj76n0HKm4dtKXC1N0EZs11BQyMs5lqBozW3vE1ZHW5AGuP1o6Jw59GwSDczZa1IZSMaEYy3QNGtCJM7i0DoBjrPuVeZfIW0t6BBSKKGZ1AzFuBD6IYRwEiDt1yXDxCDoz7EshuMJn8Or7r5b603fo7TnC93aNYjjSolOGn5GAxUN7Nf1v+UaxGH7CLlSQHoU88K9FM3g8NKbTjT1C6OqU+e+MVElH4ZE7qUDReN81dfRKoMq7t5IYL4m9vxGN8YehxXtQKkJev8oEa7rk4FyFq4Kn0vJQdwHv4qnEuIWJn+hUtkg7poacjSEHS2ss8J5Rw5MtOYvRNe7tluieNb2cEmg6C6X1KUQ9HYcKdunvbvXNQnrqv7axWGAhQsb3AKRFDDsgwNoGKTISF9v50RAOizCTNMK4wr1usAQsb6GMzUyTUhgNcV5xaLcViMRbbyiNI0aEreWm9xrDXDfToYj+GBAyznk6Boo59T7FmEZCmOUibb3ZFEWv6smFVQ7tWkIiodr1cF0/udr/31GjNkRHOZ6lroOqduVfDNQzhBs9xKbNIHG/mTlPOgCFeB7w2jlUZty6Tf9F2l68oL1kOIUREDpNBjPjF3HGmCc7OYkyiQiGuZD8F7wPbubNy8itb5NIbedOz70PTOzDYjkNfMBOpR7bg7tbbTZiUbi+yl5KOJtjEZWW1JcSBtNfsUi0kkO89fBXy2mx+bS3HPCDOhqVqUJL6wCFv4+Ss2aWxwR7OQ0IYswlb5IbFGoTUtMdtxB2iIJ1sO57TDds6MfjpcIvuy6YELl8WfqmvUVLDDkpls3qMq1ywVcGN71C0FDN03VUUsRAwfDF8lJ34CAgLWUob2ui72+yOv9xOa2R9/jsKQ6V3Q10xL30fCc1vp6KqJoBnAmhcgCvaoGwP4UoIWUcMwHkqg8wLc7yWKZrhFs0hKh0rFEV52ql3Gl8JlRzovBtR4p/cZwWSkOMg0gbCK43H0shTMslUHgLF87N16caNwdTM4Uv3xX1SQMQTtIlxJTga/CZpqJpI7PFLpD8SlOPjMLhN1zxEhxDMNWOO/5NCVJGOevJ/gzRCGDELU+qbJHTPkloDpeiIUWX+X/y7WTZO/XjHIa6yZl+NBHo/sss/EkBvNbxYMnQamApTrWs1WJdS7NPk08ZjqdqwCmbVts2KCaSU20bQPBGV/LJd1hp1N5d8Kfr6/bs0nTsgXDhDMStL2SXCwLsdLDM4Mh8bqTkmJMP8ZIz2vu8VHjTWhESlpOM0t2P0ZmFbLBtLx2flNs5svgbnZ4I641LK+41Ks+nx9f9lH+q450JFXVOvpgQsCsnfFB6YJFRU3WZMKxcQ/PWXFt9WlF1oP3oJARFjBDCEZMx1EOMSvXNL5Ew/YCKf3tRaNxOBOBePUj7KCRs4lrrT/1PFxs6JCI+FgYCRBggeJqey1/mQQKxeQo6H4vDk7X3nIz9NCyL5Q+ETqFU9jhB1UuLF3XHZ+YzoStylWkK2l0ZCxs+fB0GxUpObGhh+Z/rC7pmWlNECcdhSI752Zydo0F1OuDZShsigwm6TKCRk6LnCgoRQZy58QI2PGmpiNSHleWlKuPyZPCk4vrh4m68fNFjRBhpj+3rp13WfPeRK1VxJTm8gCou48DICIcZv0Kr7MvU3vCa1+9p0vOxia06ISN2xlvT81NEzhUgukrUMFyLxUhowIel7GPKpuqromRUGxVmLbcyhBTe35dxTShYSGNYjWUTZMipKZlvMkxcVJyOBgWFFNggCgafd2xz7uVtDJRjmxU1pSs7T59/rVP6HtDNJxh4SOtpaPnHm1CgkfIJrOrLt0fde6V2gi2m6nLtubRXqzHymsJYKaezKWqE287vDqrKPXSZ2QUBw0LAUAIACQ89NbS4qMt4zSK1o2PpCrNWLX9CtQr0e8tmS6xcqZccdLiR04SbOumXVKm+HlS7X52oVqW3Wfv/OeWvDLqGpVGlktUl3ksuuE/MceMva3uH1CrxIhcaIDYPgcDhZJBNyRl5PfNujdoVuqFydrUK83LSNCj/zUKeFCYwCIYIJ1hI4008dEhp1fvBitJTsQkqducm62e3OWLhRpVki8whROEGXTrKVHbIhIyP3dDm2WbNiyfqehrwoBOcFR4D8FJKPYj2+WU8iX9SmaEVSOjxbLafTaw5dKehw7Dk4GJ2QEB+EIiXpsjV4YlC1di/m5pxPEkq+1s3juJ6/eh0bKQ3OWLokJ06lRwSKEdgStEVQ/YF1jaU1rZfvtJ11omeLZT28QACEAZnZ1WgDYA7LYAogLqU5EXImzjvi+XXq/2Xq8rfK8jU/z0sykCAak1kFsJpsaPjqNBMXcjNbUMjEUiEWn1HS7KTOMjXDa96V/dpjLqw4ksmIbF14l7jG0Lam5vrigJ2rm8fZWqj5Z1A7sAiJr/Q+tkVb/xSoBtAVhyTFWchDXYMMHmZaUnG2S/wQjKu0y106k3eY7309ZlPIlDWPo0CH/+MUIFQRS+az6+/yh/pAAZQG6AlsCaQJlAt61NDXYD7gqd+gshe9LiHfFjPyabRrBHD4OpSeCIyNEiT1L8oX+08Ww7kEmCKKhGV+zDy+SqduIXjiW1dsUUAoyFOs3y5Jc5zle/SgXSV84nuqSVgr1WqttJtoGTC5DEGCPCPad1SpaZMqLbJSCkeYVyPsY9sUdVPybUyqyN2F5rCWrNaNYPaKgTd32aQiid0LU+RpzLvG9hZytEVSJgKd1ZtdTzf8bJOGUewvRdEiRsrpK1hXFp+jfiIFcbLtYSnSdISLktW3m2+G47BRa+3tHUncl3S5vu/qrtO0L0vKQP4hEADnAPAWr+DcA+lsBxwCjjm1bxP2gJdpM+IssjlUurFeuXOUPt+uLiaoTMIWEwN2gZD+i1Pm7W2S0WwJ7igtAqCeJJ5Vaqa9LluXEULwWRw05U3b+OqLc+oGKeE8Ldum4zXpP21HvJ9fccq3ROAX1DkJ1bfKQ1tqf0mQ4RjWHJHtHEYPgbe3LkO1iMYC0DQMP/B6j+CfRW4/XYYu3rDVsMaLyv6AkS+S4N1pB8kLKbMkxcRGhOnmI1IraTVsWWJf3GJ8g8TSUH9vGR1+Y3jksW4hhOitKlb2tfNw1VQHJ0H5OYU5HoWifz8vjWnE0+9JAsW4pvRR11ySty2q46XCI9MkNccupxTvnZKe7JO1NOoAMkAGykVE5B6yCHohQYWiLPeHQK8DOBkRqjHrlYOV6aKcC7/j2lHEG1OYdkxj/vndi/1J99xBjTdiHGTWRKM9zKhlBPnzZxiXuc9bWOigTSUN/rlcaxdlWQYVbkI1lLSzqq4eTU6/axAtlKELZdf0zX1aebmuFdKPifeybuljNiX8jLFpqjpiS7sQASQA8w2kVS4VaAgi4GJGdhjhNUhgtRummEJL+SmxlnXf7neF8cEV05asO5cn2x3EczOjy0CGLxM/JWCAVrrnSGeSen5GLLLqQ/vUR/Hw1kpTWT45vJs6/TcdudIJqbolL2kWo36k16qzbSqHiY8NT1V6vRKKXs77WmnLye3yh7gBjgG89VKaYrAS0EhC3wXYCZFGEQaJMl1EzFbJOt/7rDPCNFMtyT9GxUDEzVcCZORjohNv9ipyjtsSZJotkEIhGo7Pc/WJ5dLXBLhxNXvcTXobNLRyI9Eaj0b3PtlGqnQtdAMqhfZ6er0vLQO30nWsG771ta2rNktLiU9pSA+0NgAHoAH2pwlqOm0FrAiIb+FmEWDuBHDvadc2PFFD6i2xXvI4UAJEbykd9o0Lq/gt14ZISpOqX50U5nQ4NcjDhaiG+PEdz3WPBzS4Sz/4OOZydyCGVKazWW0ea47LUiJRdsBQavYbOkO7vdh8fB2eZ6eTRdfVjQVS2BbdY1hUUj5j6YD3AHcGoZMRl3nmRELqWnsDzBSjLYpQY/qSIjItzPUcxCvKxJsWgNDtNSqXkY2AUATCMk3F4scj4JhuyOEWuUUdCGIem7fPPBcirss1KlTnAz93NJJgoHZNbUo4WAinm8KVDrXcIBdG0uppTCWBRBZfX7y/HGMl4jHDLHDcIjcfaV5ZxjKpBZ70VwcBWBTU1GsXYRTWgo1Vcjm8ODXlNuet0t7SyHyHAKJlYFTPynNzUUzSF8UTqmpJ4az7bOQ3syIs9u3n0Sr92FiK/Xx9GLl6nliPr+o7OO0IW95+dAoVolia5eu8sTbFG7bHGoUO72embT+XmonCWEwKI4EkzmQeAJAXi9vuxBeCM8PoWzXPdCModyHDEIKDddi8EhodCU4EA0FRYTM02WoIWLnW0VTmezWj1UDhSz00OHX39fbyXYrNKYl6COwKNKuNiqf1YJPnGYpIkqbYjzN9aeH70CQOfGtaWS1AdRQDydzk3Y2WdC0QkZTayeY2dvpnVnujItIaV1lgx0dEK8pJR0NxYajEuO2BE2WLV6hewWdb+SWOjWhsK6i45t9FWevLFS256Pb5e+sq3/VXM/jCEsWxTP4ZwbwJ4W2c58x3dR32/SpkWEIagyARAciglLZAZBqSCVBaF4Qlyqt+7qUhIFmvcLTgmJSEQEw2LnqIvJTFs/MlxiTEqrVnzW8oN3nZq4Vl9XfOffv22c+3P/oWO0CbtnrbmXSibRBFUZR7D+HUGsXyTWsu57GVbgGzAWJYch0AUj46O89yCMEYzEJbhkMATWF47crg0DZdFm+Oip0REwWDwMiw2maQPHxkMCwUfKGcjOJP77nWpIwhGJP7GjRk6Uhbl7+1Uu+elw/3rSP2w2y31m0XSY56k2sYeY4U69d2HX2N0S7IeQlDCUEXooxkHAllxM514vLql+b2c9Fd2TuPW4WJ9bSG3FMlPKYadP1enB+dFZWsWst2bNkQ4luykorOxo92RLn//KPp246sjlOyq7W/vZHMYhiOJ4vhVDuD+HkX+efqVyed5+osNFbFIOAzAuGx40ugoBUF5sIVFy5Fj3C2sCgREaZ18wsXBkKxWKhEWskOfixOTYVHJgzR9NGpayTIke7/bXFp+tVjQsfdNQ/fGTLhWLUHaksam4sJRKZvO46hTBLD2Hk7ofFZKJlPuGuTrpS7BsEAEwkErO2HQYhyfCZCXkgoQalPglKJjzQjdzqjgJAiHwqHR02wrjJDwOhMLPmHtlPGyzajNO7Jzdu59U2uVYjLxCnRxVURRoW5OcmpGIRKG7FMSz+Oo4hLGUsk1ZK7ud2dV+evzYpHIpD4RCZcOBKHY6GRc6KDg+eECZs2J3aOgz7DE4EpeXkZebsnCQheCYtfJC5UsIrrIZupV7t+pT/r15axJyMvM3pD7WxU+9odWq9Kz7QqzE7GYlCMMQVgjAnC09F5uEoTjVzBpNo8HyhICQWGyQRBUBICQJhMfBsKAsZNsSTYQG013Kq1tNpjcRFxAgi408JOMrv1TKlYv1xvnVk5CUvUrleWuVMUZyxNWrPEhzrmy+oeaQrvYsZbeUqd2YrUonZn5eTka0vKWK1vKjwsgdX0JmTIofETBt5okFAA4c7kpuk+VKX4kAtMTkvqJJZF5S6cFiJBXUWxV2LObkGT931u7K7ujjxZhZQGiwCPhkrGVTuZGOE+17ZkSxHyxC26XTyMpXE65aT3Sfs/Rkl6QP/e2e6vZIqjoYGupUXBkAMgilU3GckvD20rqtxIWGk9ntrfVy5OgjpLnRsHXpBgeFFuTXAShHO7OzXivxVNTwnJlbSl7s5t/Q7/3q9OjmWZvymnBMNsefrO9P2rUzMf0kd6XK/nKbXHub6TKnEOsuRXk6e7wAtgFsLjRDzBVwAbwcgWjkFUH0eDA9NF84rWLRfbjVNcbJW5+59ciFa5KpWHZ2hG3igehwKra1VYTR8GQ1pqrv5DiVldQ5rRr4m9aKvVNTQQlXH3sC9YoMJ0uG5wC2oTBT6Y5aKxOXKSrBb4gU2i2eP8SrxZ6r94McwUQhKY5RKz5VCuCkEASzaSS0poHMWjmRkRVqtZsVnouJT0DUqtyDYOT5JbAjlMhl9UWjafRGOoivzyUX9mfVNYb7f82apYWFkqXn9ypw6KemqhNYLVc8q5iuNPvR9DPbaFgl7wlq+UPx97usNs4yHXuhCJoxCQ7qNw/PakmkeB7CaciejZzZ2kUqNDQ4e9fq+fuMKcm1qVe/0zO5sa3oyF4jOvOQxhEI0KBPemF6Ja0eOxfv5zbsh47i+L31I+pSrCoNb3qTSVKTr5DiVqcOrgIcXaR3O5NwvC9xPxRMuGB/RD7JX/zcHhL2BKs2ZM59G8U31aNLYbsFhWJmJWRVAX5SG0NswbcKLkwIezmQcdkeiNO1sDLqMRAE8sfVzXSpASBDBfIpCZpxwc21KCXpWsbB/yA9mQLADKzPPXVDWj6G+nhqmu6ncFpbMcL19ufR8CkL4tShPORQtSmPq7p0S4rpXYyaZsZHOB0Hg/vm7J30SRYbWxqPNx6qIQRWSeO37OqfM1EdrmTU70xDNqgaRApGMkaEoJGl0sWkunKmfw1RTQhBSgaZekgppa60gXLqUZjE8s5clU+lxFBqBFhQtJoeo5leEfGz5YhuUD58oXoxfYPQacVHLvsXtdSXT7pnVUJNKIloazCKGyQm5yWHJMJIpV5RKSMUTjI9gYCIaTtWJxOm+n7r3+iaj+YPUOTzXvytndGgeOQgO1/thFPCdulGVI4zyw6IfXEyTdqmkErhMTieYfDLggEfqWwKZsOt/BIiPKEyATyPUJVBJvrD6xbiMUnysK/jNkU4HpZwSYj22Mp8rQw1FZoE2gRc7LomGykyj0FS3CxWavMh5KCXkWiuhZ3e5T5HYmLdoLDGpUZ5K+ozwzMkhgYyoLpdEuW9Wrxn7iK4a3EEySYIfEoL4VViPCpyu2quKwLC+W1Ri4pQ97CPPhlzBXilkvT6WoeZw3LjbWj6ZuBR0opKIbGPJK2FpsOBlZXKe4uqb2F1UPoL6SLQ+85ZXp/ksZq0Wh3TiLupe6rXiJSSxG2e5f14ZjM7OmbiyPM2WzGuq4GN1qnInjMg0rai/JMedMujUWoRQbUoTExpYw7ghcwcYqKihFnvzDYzGZnqa0hzqxKFxaNPWa8pQjpqi1YcI2YIuLyIvVyDSG9aP0FrQMbLbuDlkJfjv5V5iHnA6bf06v5dsOyiC+JCVu4lgnFTlE1nedjKETnAFVGYq4acT6zBFwSiFzZwgvoFNXgWIcGPi+COpglyFy80Yx2viCVinCtzmWwoJEK3vSCMbKzNJqamQD4EZewYUSwhvjeiI1+1qN119swnCuBI1RJwTkriHjJZkI31HY9MyTKXqUwwfGWVTj2abuRuWvS6IWEouiqa+la5G9LSZWotiJC1789ZaCZ2dU6uBNsyfQ1sTHS+NWivtcSRl9ouYDe2AMRRI4JytPEwkif4rFaCmV/sAiIIlhzskkvGxY15u1KqwWOToiPMV/oxcgmyS1DNCsKjuBgknHu2ZV3NuGyC1BH+USAoap381mJETBMNc/o4J/k2GLazZSsrxl/ZTFrQA663G0iAoELCStSCpX8jG/LilpdEilSUrm1YWBE5lxii3WwFu3N2WPI9XDCzXE+5GGD+aSRFOLNB3FekinPGYwr9kVuEsbYIAHdenyDeBLRJlhp0UrkCTlg/ytaUb/HOxRTLBSWe4DuiAMuq5FEpKAGhIoOoTMhukqctCvBf0EPAYO239funyCjiiBWxykn9CTGzR5txHr+1qXEtLkiZOBcVI5Wk+OwfHPT+HMpkWDmsg9IYMW7mTUbkLEbL4SrZtWtqsu15L8DS3qLxEi+KnRiI1oSjCnal0M0Gpx7VzgrvoNdBy7GCFzeqHtlkojxNJo6yCAnnxQxYov5OSQ8k8hma1KucxkZmOOJxcgraUiacimrV57FvDBYraJXTB/eqTP+ZeozdCi6yGr5IB+b6Ijs1FFekKsa3NJkRI3mdLW+QUW21iLPno5vjB4x5Dmaqsf7q1623o86AFMI2wsFYCEiLCluv5s5AzZNag7YmiI0Jf7zeITU02bmHZbpshVV8X+jyBI2CRPANYeNOpVdEQHpyAS5T/sOetmpk6ZI065QCl0V1KTlote3nrShoFCDannEqGOow8u63npvUC9n1WE0GH573kcju6QcVAK3JlszHbqDs3sEU9J216x/ML/ZgqQ26OVNm6SIx+WOFFRtaHy1he8dzhPRCpu0rQxVfpA0DJsZLdMHkNInkClZO915RWfNQ4wpCOAKXyaE/oUffarupS9SDuUnOfPKiA4dXSinewB9UEa/23yqSspg66TEtEfzAjlmy/1XSddDUMriXcoe7maMN3KLFcm9OtwlCWZJhshCbRvLS0oWGvKJZJS9dXSxanY1zc5FDnTefd0Eqtc0m3Oq5ROStjfm/5HfjoDFKYWW/aTfrJkdPcVrM8hXcFxpb8y9f1I0XplAUDXu8y+LmEvwPAwgIuuOcn6RkDn9ykRdrtNvgiuayt9DERbTLyC5kXpO/z3+kxewplUkvMQEPkbUbCWazdDKKF+4iMybiX7xAhYu2k9+njlYyOMCC5d/PGV0RWkt3WvwA1gIvNObcbDuk1sAb31yq34T4cG6ZBiBVvoO/C7VlpguKwCg6KEyGvyOhLR/4UPaVkMtNSh8Qm1ryJB11J7TsdV41u/1PT2z8USLRcBqK0iqY+/qL/iQnRC/1lL6ZuQWUU+YVXZ3CIE12KWus2nCudedaxDN4GkRQhAscFSEE42j5DGyvr+hoE+ud4qY01KD3rEY1cscioya06cHLTXHTR3qDlqqIUz/mWXmRmWpqDx4pb4S6UU1GEces6yFrx2vyFNnIJPIzmXEm4ltVHr1fZNaUfO0thRG7ZFyr0IDIuSv/kEEGkFT822Hyfla+O1DK8akiV4lSLLrjir7oDEZCrNuyAWrldcLMz0xKRdaIF2inin7fTR1fULdRB2yjaO985wkOK+qzeX96ubt03uYTgEeiqu3hjTWTN7hBy0KmkzAddGYi/piVqJAhkf/+MUIFg1SAEj+YP+NAYf/Af9EATkAFv6XAHC0p8TAq8cLcXn346jmfOfrDVSyUVxOmyW98mPdTC3gdyIVvKEg0UpiZ32Ej+8kRbRIpwginwxexElLojCBE8tNstdF0rFeUfmITo9LVs6IZyZ15LuCiAZCh7tL75/oMOzB2XKzN2GEiSjgTfCS82WAOBBfgIbNS0OKsYfebIqfS8AVwaOSggnKpHSKTQse168SEhPD9K15L/XJTWZFhSoqQTmJSPXb5NaUS9ho48ozO3PmqFXJwxk8AnpSNBL4ca6rKyRRsz819iiC205PfEzODfKPcNjWIaSHeBzbvl2F7s2X+JEDKxH2cDCR1hf/rZ871tE3FYifjGfY0hnpTQmUbMITVdVX49lmtEUFpfHQ+ntu22+O2aWtp6um20PIVoBJRX5eSF9fVJ8fgNTLMM9K6aikxTr+CTeyUcXa1zBiTzCCUXzOH9K5mctw5WEKrQNguU4RSkBqlb1Qryz+Cpd215DfBIdfY2fHS3nQyJMBq+IP7BURrJbHt+6QU4+tkMJXmlyDQ4DXQ2VVDTzWDq0CK6JzRVhGn5SuhC8rWh1bDCiSJLxaucAW+9gkEkjfUWu4au4IuEmybyMyvqNJjEKPvg55Qgk+iWmzaygg0lIyEyhCK4zrnB1imCZCmRGhpZdwg8Ro3WYVsNXfAZedM3+MViKFlTaPB2KZbPUEz3+JBgrJ+uzvLEevoev4GnOHfAtXlK/lVBTp3feXGdJVNCl6yVQFQToDijFGBIcSFlI025TC3iFCKs9Cc0Ys3EAO2MQRvFVNqC95Q3QRE7jOvQQXuUq0GNCKC6qpwnVfom4iQnrDJUUleIQhqmJ6vDotNk9TCYfPPWvAI+Uo0q2WBO0mQ1bmZQSNIyuHXlVxYgj7XX/Jp0sqyJf1rTWsbOtQjOuj927eYiElzawMWkWv6G7q1g6KILC2Te8hIjOmiSeKHwoRSUJNUfNztLsGrMUrrdhig2pvOPQtaj3dqEauKOMyqEZSN2nHRKmxKGWnNR2Y5skRnUuQwibSYeSyqj/hrWo9dakNg9aTendZGlRUkLZ5x1iuORRZG12af9Tri1qMU730haCSqZFrjOMy9By30ljLoxRqiq53iC09YrD09NrFBpy4EhSSPQ1Py3OTJWIfUtxzSvIPSVkd8okCghDjwx05gkLpXmaYuPNcICUab6WwSWP2TXqUxaaav2f+VL0fs4nN3MUWBWaCRQj+u6SrpAsbWMSkE2IuehYUpOEJCJQLeLYT+dLUW0SY7q4RM43wmtU77CWjMCAnMNC00gXNoNfR5MlBZTOMLEfZufI+4oR49E4hYVwsKLFRbrEH7CbDHs5kU28qaiyCx951D+n4VdxQ6APGEy9LGuJDSLnuTWGrNQpsz0VngPmYtEJ/Svf3LYo6LRFoz5G3Xi/2Kx78+wRU2Ubat9Jq5LHdwxrWdg2JmEx0r1KzZ1OvvP7G6IiR7W9NRkVVog7bR4iZpErjytx+bSyDO8DHP6KoOyYCkFJI9j5J72mRNRPngopHbY/p8CvwpONnu+1oH5K4u8jVZjclSeEifgheVR732Cw8jyyrnK2hlTtfS1tmmLImOqwF02USmMDDDitwkigg517rwZzUJomb38XijIYndKg62IivSrH1I7wW9y4fzA//sd/YyvT3gq/iG7LuzXDVELwaAJQeCP6i3yOtdbe2OQZAtHE0yInBIK2RoZjLOJBWklQNN+ur0yvCr1MJRcKdvZ9yVAXqcj+Zv2qcR+G7u037J+2YnTGrPgnlUwK5ZattsmnSw+sExU4HSQfHBEMBEYPh1ACy4ULhonCzjkWT9OFe19pC9TGMm54VW8c8nWiVJEjTLkR4b5L7I4CojoMsjkLdUkQJKVZRgG8l0qxJMgiD1rtHu2XtcFY4U986hDlhStZIKwkqfiWzOdHO7IlG1s05jv6x6uXHXVKwqZX0AimQmkkjE+kE6i0qhsdlfLkyd0/Yq7wX3WUwJExXxZUDMwC/EAWls+YnXnxb/IQiyNbS8FT6eiIZpmHKm4qXvsp5nfKnaMXSdaGNoJ4hmZkmr3Eo0mNRRmb08bdtuajgmgU6PcXy6OLIyN+mjJ4oqWJuEP+mtt32w7bPJo+/RS1LzuiTZZJMxZB94pTZGCEaO8xSsA6hDZwhdbldikYwkKo0uL4VqBunBg3o9yXNFsUMzc5s/jwcxkMYlnlJ00t5FgDGJQN+YpIvYWcVEPSa5NPgflyFEhd+uMV2CJRBCpfDrNV83HYFUrnR2pUlT5Gp7Krq3ZdRKT8j7+QBpgN8bsIHoiLZu+vA2lGhxZJ932XSYl1KMWYVzfPsECcmCTcsbg8VQdxyGcaSsNtEtIWBBciBe6pmz2von9vIF2+SCeRPZLjdGjSnkbUyriUp1CkbzJEp8GCVqAk7VQSZJ4+juCTZJOx21RIi3aEk7IOMOFCBGgigHHghEiCFrQ6fG2ckLE+7/F5Rs52xrz4prA0JS6MYtOmJkU9S7VXrlUNSMcgu+7z6WnmSpM6DUpHMp4gsZ6U1isKRwK6gUV6WFe74T+fQ6wTqqLLgJxBKwoNLl1Ck7D3P3t38VLQ0h5qfKcUiq1ACfPICuwg/kANOIl7SWRcSQi83rfL6h7nhb9sUKQ1BdZ23dGLXTliITGFosluj/Z7PDq3vYgTBPDYK1GcVdDo9EiWJ63T5nd8XLENG4DCiXZNvmp6UtE7pAyDIcPgJ9EDdD7sy7EWWZMkPDTipxsDfAuAWts1yGGEZbqhV/RrBu6XkdvJGm0OLZur9rE/jkIxg5voGGulirXkl1n2OC5FXiEpoib77Day19RMqX59h8EOotLwkklEdSeS/kSevoZy+rgMNk5dru77/1dtfm9irtESFxf7FyXld/JcxQ3YAVY4wE7lB2skRNzoZfZmjn9nrJ7OsEkzJtabLVOijcVfQzxTrJ7HLzTQgxIwdsdDElJIKOk4SNcmtcJJSSKKMhMYLGmI2DkEzULTfQpMSjz9NBfohcHLU2rxsbow1imS9KF7jtF+PcX4InhABTAB1AFW4KMFEE4BNhGQMPIi0Hr2zjBOUym8pxxpVeJYjlZzZpFZ7iHkmul1UqPm6JIG5NPGOVXl/dVSpnxMrcrKJPEpcfOmn0ojoPYutiMLB5nekhzETxag/GQyxP8/JiioOhOvJu3Zq3L3YfgGgPyf05jQCLqNUq7ZXKQVR6fiU/X54GhYPtYy5sJ/oJsWQtNUW6iRBjrM68twmCdDc0J59mNhdnFeGNjKnq/NRWWWujUjqKb8g+B/Q3nd4yTN5Hk71mX0ppJiByRKmi/yPK0GuJ8Upij6AA9lQAeJrBacJ8iYfqrFB4OFmx0oSMwGVfiTWpCSjuPiJ6ao6olnNpgbmJ0GPerQmmJ6xvtwWJsW8WQUrvuhh0AQSUUdvO+Du+eDRQWhZK2GT9Z7dqpJd0PD4itECKUpzNFmjxXiXG+4wPwAKpsgLkWQxHDouRGtsST9JVj/TzIhwQ4i6tRLrQFMgCTQjMo3kWDYwE0TrNgRBL5FTuQglBP9GW4nfC3j8aOUIT05qoGC+CijkXHJTgq8ekRuBFp8i2SnULYU5/j/IEkXOJU9xtnOqwMoAvLMCrNhqFQFW6jteWDdFbMmPKZIXxQttQigecphAducyov8IgsOcjFk58vMO76p66fcXe0spLMCEwv+6R72RCKkOXwlIiV3kHqIrnrbvLtV0hTNIfrt413hRipMU2X6IFz5FvlgIQDKgwR4fiBIobI5B2tjplHjDv+S1iAQd+j9Z2IhnTjs3IJ2ejQwEJ1Vt3PlgQnD8SX9D508viq0K7l8MEqkP/Xekh3T1z5YfwgKedgt2RgJ1c7K/LnTzyTfbLD3VrlP02zVWd8AEk5IMW4awvTcJOM7fK4I+n42raGVYpHAq/B9Jr2rmlYoDy0E0Vj3MXq3DWIC87qis8EwzVEivzuSTPhyo225hdLdVklis5vJvesc/RmETEZjhcrJVrLffqLskXaaYxSTZIZfwDEDQIZJ0cmeBssSBdFAF9wE02jqfvIbsTSMLcKBQHbM0J5cTtQcGRC8QmP6Ij1lGZCSCKAhCiKSsFxhZCnnVhyr6tHdkQvSqZO1COQaOh5avRaDaaNL+fYvWZpbixeZ3i7e4z8YVAEIYkrKwKC+/YR4mBZk8LfBLVRTZXeMOndr+NCWM7LQFbuXSKK7A8K2jsVQqrlHObpeJRiIW5dX3E1rbD5lZjzFpB/rKo4y6V1HVTzdmLODSME2VimVmdOCwzrLUlRelSQ47yZMQM4xhRRGPPE4eN4Q7QN0lB+3umjGnByS0vnSMwkFjURiERHYXOAwPiwk+0dc4ApBbBo1BAcXx6SQet/iWLhLDNYTFmnjhQLVDS4Ienwhq1zkX2FvZz27u1zFUpVuUpzvTIxSFFPWBpNYTQ8Lhl3KoO3LleIvVg33vOc0OqofzmNry+iQ0NZSfmRfLL66Pqa0V+mE5ueS83sqWyUl6Yj3FZzRDYsGFN2O03bCMuphhRk5F9/Do48ysdVN9KzQpFs1OvErxHmWEiTLbrsoW08Oy+YRF10fIVcS9YIUdw4drEg0pbwTMH43CYPSkrJzAZjQfmgXmm5bclUTGC6uCgojFApRQqEnATuHYmWuvdUHMhf1Rk1NxftYy+qakmhNLKj1JogkUM4M7r12vEi2aJ9/lv4SgQC4NCXFMI/5U12q6VDGSWaMKOwVkzkR/sl3x+fSoIrC+rROWzIRaagkHYVfYimxA8Ckn1UtEFuNa113xppMrDBlpScTtEmJqsUyB6JKq3+iS04ar573Fu+W5Zr/SpKkWrXSv3CabrYuo6hBL5PNKMLXKqZAtSGL3iGLjJdiUbOw2TNdYSKwsMzclXqgseEQuPXtP6RpoZoy5sMW0nEhGbiQ781yBf1NxVZp9umSL6tqk771OsTKE+LGf8S3l39X60Oo2ipV6y2qhSXVpx+olVYWxnKq6bka4ZvTjSJchNpAQ/ssSa7VFuoalqFdKOrU+N5LUzIp0ZeVHbEWk7bIzaW0tnWj8ZCpP2CXqu9KbYz+tBBgtZGmt07xmUMysiYuF2Mm6V+Sspsph1oreSxTTQum8dS2BNRQfRfP4C4H4pMR+dgRbw3ogeWIQEUwAo4zCEqYRKnhjSlqgIT0sPiBPJSUqeG5Dx9oSQ+FREMxaZeFgkEhayUZzI0mZd9bOt7GjLSobJm7bYjPDT9CJcgEPQpo1nwox/M1Nkczu6sZTHEUxFcxtHsG8NoazoBKFZZE4tDq7kFUCSSDXEPbuZSwRuGDJPK5CV2o+ODkuJMxtw9NTN090In0uKzhKbIeErGz8rdlSMKHWwhMnmBwZ+jsgaNkyYnL1ggI1V0yyvaJbTqddKvWlJgW7n9fNL0TlkUSn3muStJsn3WJ0kRS7oYTA3JhcZbzy/27SjHmEWlzrvk1XX1Vh48XP3bgQiqV1V5QqgnnZwctHzRFJSJRIS0xq7TXCMcCA6f4a2QOpGr4p0vjUqPHIoTkWDSXCsoWP0LSk4Li8qL05GpM2IuQ4OWGQ8ZJx100dRdMITSCLJJB9FMG1gugJYZVQAdGixyvFcEnCWau9JX3UK73eOil6jn+7PXFo1GooMBQsYDQvBEr35dLcnFY4JDxdnr1dMcOnS2paKP5NZqeETzN1asHazOUkhWXvlRKobqLVOOD98LCI2KhWUoT8gT1xYvE7BtRzD1VVV1bzW7j+JIRwijSFcJIEMGkcz2D0HZuiD1QQb8oINS/qG+yCuU5eoUvaQ26eW1QFY7DcUp0TA+EYoFCDm4YZiATFBQcle5yxPXyUo7Ia7h+YVaHQ7VWyWG7ltpRdzV2+PyZM8aIqkViNsLFYlHQlel4zVtU75KKXC3BW3lRZbqaluZFOYXxPBHdRrFsHsL4O4XQthzCCZxoHxkGOJ6kDXFBhuEeazzXMqpUgRL6NKipSCfro2Eg0N35w3HImEyibI7BXXuRSJFxYmQbXbch0NMNRjx5iRpP2uoyOaKyhsi9kJW2maMoMVBM3k7IVigiJjgRkhyeHJoUkT0nWMzV/iP9Qxk/yu2XVnEdtCqfy2cx7GsJYVQsh5CyIodRfYVXkTrrPAzSQtr+26i5CuOQw+KC8elk+NFVoutzovCkoCo0ah4sE5uUn69qvcCly3IEFGnZrCVgh5sdD3ci6mdr03Z2YLHpgiKViGQrrM1bG664LDU/MzobkZ2JHR+elhGYoyNetJ1/Zr28X1HeXnW9kN1MJHEMRz2NotiSPIUxzvP/4xQgXCkj4QPgr+E74T/g1tTqVLR7vyHbgrXaqQRgZAKRgP43is9FMJqkkMcFNOp9XCVxeVvpfi+8mNEaF62h1lLdsob6+y1nu3lysgz0P3tQt0m1qyQkGIxFjZtr0Eh2Umv3UOGBR77V7TYVbPxG8KP+SoeMmWbjzW86TT+YoSPpSYsRBbcMm+ioMvwyUtqp87I/MaUlqlz7YUfaCmxOQCYBkEyU/CYJH4HsI40JdysXrxRMaqVBIhVlP+R4SIt66vK8YqbJJt1LJskz5wuuQ3STLHXcJQ8IUZMOkl0BXeUdapiZ1fMYv40lGUEEOkaOJ5JV+7N18tnGLcjnIX6zINfUqFbUo2kYRckq/m14mbL7FPgrjuNKMN064JAXQwvhUxFc2KfUWRGpmRQE++GLW5DuYsly6Di7qjixnS+bUSxX2orr4lEin/KJIyTJs4pXnC5Eo3WydIkxdlTJXujny62wpas9auotk2qImXSenIskyb+a/u3ATrvzTSypMdXyoeU/NOKZdokQ6h8yZq4wHgIGE3SadQUHC0qDoZI0OUWyuIpr34sxiiaciniWoVqxBCyiUdzjaCRxT6RxShxqojNTzxghdWVkrHh2OpxItpxzjAlJpOQ0kLtcp0WDRe1fpeS1qXSovT1U5UME++DVfNkpxlGL5JQcqmbhhgIVUEKIgUXdcn8JpsHrfiDkOLSSzAoIOj08UIBxwqCHpMowgYFSJi7QHIdWJpCHCEZJK/IYQj3pXupFt1p4saGttvpXbV23LupYpNtxar8lBMdNJzeRiHCMQjFCBAyMYqurSxDGXpZPqKUxPkpnnMIYcVt4g4IFGJJJEDAQOQlfSQ452IbeeUhyKQWhlMz6yFS9JMLxKRZIvROnlnta/Wpu0yt+epUwu/6e+W4uq4wggVmHYHDAxEH/BxzuqqXp5dFGZUniYUwxSFXtrwohTodaMlBRiuYlXuQoUgi+mAjQp3VX7xCHWl5bUymFmjS1n5rVjTQknfUh7/Sjsmfv/bXdVWkltoQUhGCiDOUoQoquQYox0E9DlaTb8y5Z0a9MOIKu7lxBTCEous5HM7K2cVTrxyGTMQpFRXJVWlNxskyWSs1KWrNWLS+9tZJK/3PmbLvScgjcc8iXDBQUId3GoUxjuvon/6N20zbpVlzdIYtkIMMqtrjkV+ty7Kk4hEzMqIGEFI1DOFQxGs2435tvG603W6l6btOkm/BK72OpbdvPV858pVNYTBLFZQTBt6pAYghEMRhMgQRAiscS0RUyQuPIQbDRRCgxAjISQjEGMxFlQ0SlCcRq0vdijX51J8JzByirSOUc4qqc4djqgO6sucoef2BCG1cuYIwaVcqCGEQ05GowaIjo4xuJccShDhHbEMUaiSITBrqRBiJngTBkJKTiEZkKZ5VytFNeYU471JBRT4WKK/KiuUdEZVHpBlThaEyISUh36mJwlz/1AI7YijURyE4ikewhBm9KhBjKQ4zhONQTE13MYQwbpLRsIiEVZ2YTYsL82ynd0cIRSOQfvXEr5ylcKUgXEPnLBYIRfA6mCIDbHLHIITGFFkiCSNu+VEEI+XKY1DITkPCkIQasSEzRmdOMQEIJ4XIQYMjLNDRKQqIoTP680r56Viqh9bsqV7nad4vYsfalpUZjFQtqFI40XwrEqKZyGryohkLimo1k/InEqMIdh2hjWakQhoJtSEqEEQlTohtCMpJlzKhGlTqRUZcPViEed7EVZcunYi1cektJW/L12ZUtHNlIxfjVNlbGcxUokzkONxpyKLtzIRuyRrRICEqKm5pBKSQ1JTN22xJ+kaZabaXppWdrdeRanqHpbtVido6SJSakVFRdI2+zxF2iIXPDONVYnyqIcNERyTJEjjXIjtEmCQmZ4TmQjIiEuTY3lfEmRcqfVkhFW20nJd902lqK1tb+SCVLjtKjexZOkzQk64cioJDaLaiZlMvvZCVOkSEhEkUTDbJ8i0SjEl9+JE2k3J2btU2mbEpC9CpTVoXLollS2oUbtZZGpBUJZJola11vGpo6LumzKT0yO0Ll+w2Qi1B4lCc0pKImypkYlTJdNN7XNSITE7PF0RsRkTK9izRqxM5HLk7EjQR2tjjBRC7YhTXm6rbiETG6ZSz0miFIlyfGOMKhnYzRsrccwUMgxGq1dFERBkRd3yDiKYmzN5GVCKxs5A4CB0Sp8kZ0uki9uiE52zCGkaR9fW1v0o7LJhUgjbmK0/GcISQnJC8O+vm0sR5CVO2yAAAeAmAAAZBwAVAMAFQAODfQEJUAiUaJ1dGEcoiBBpZlcrflpkN3u4gvrXNKpGc8WS7ZBH6tEAAFlA0FIzYhI9JSfdOuVCkXvDadvyeM79+nC50qkvtfR2ZR2X9Yk+ajKql+a0bVe5IEmOwh2JKiF4oQ7IFaDKHXCn/9ZPZLTrNulqSUx0YepP+8lTDOuvbRHKuIm+6Co1gUQxSIkeqfaHJZhbykVYEDXyp59fbUmr6mTlnESm4oLD/TwkT601MK9NGKW/WsIT1spWkSJ2JJgp3eCs+e2oKE37Tf0Cn2eUZ3RRUScOyTvk9g6W8reaoxjROWRGIo9n5baOhmxwsTU628sdPCPQl5uCBXZLbJPSIHHFSEl13YgUMNDybKBBOBzzdILFCItYT6FDtWGILHtOHAokkl6XCiSBG4aescRCibIkn6DjkliU+KKhVZZa/QYYwsaNVTDB3zb00TEBglAeLWEuHEKQqtQZij3iISiUKTKbjNjqk4z8w+zcMUhb8kGTDP0FELu2ZGZaUgUI5hvD16NTL4bQZ2Uw91MZ9ysyMpC5O7mmMkhSPNWG625ECXF/EM38rOmpLnyiMaKmPLRGM0vWaZiRULGRNrMiZDMpD2mbEVhdhRskIcjsUmIzR+UYxqtOS0aEv4qNiNJ8u2GTT9zFG1I/nhMhIsXIiVXJROI5EdCtjVsVC3EzJ7NxHZOxUmZIkVEqK316JiVSF3EKaSaKyoSxNJIiFEFMrIkbux2jYlkimqVLOS0T9tWxTWkORSaJLvjaCPkqK2iaIpu12VmjbffbQm7QRiCKCTYhkJEZMkWhRbsEUTTCZFVFC8IYRgnlRgmRJZDmJhWEjF5UhNZYriGFEpOKiSwjEME2WiLInboQ5ioSE6ytsZdF+5uSp2qep0uSadOn0JNKqVKzWkPpUTVlI6RWSpqnS/GsZ40krKJ3McTsqckiRWxdsqZwwprYliKydpo30J9LBnMebkUyk3yclmjSVppanEKmKTVEK02SkUkfIpPJGicQ5HSkogpit013Z20QIv///jFCBgnEv/nAHI6QLhLYoWhWTtkrpfFlYrKc9aRI33oqa20WhZfuJC1MoqinNVJv1zI6RbBEn0ItL1mUIyRHtcLalhXlUZLpFKNCy1X5MsRHxakeiWoo4ik1c+kV4pkX21EMhdRmkTdkWSOLoWWgdCRKNJ3FCqO1XCxJm2piU0uFJJkxDKl627yqWj8VKSSkWU1twTE+sUkHXiqYuXL5iE1KMk+KMqyzrUi7ViJqk0ktNJ0stGLzyJot36lSqriZE1LallXuyukm4uCaSPF2KRRyzFFwvv0WJzk0RSNaDLE0raR2xZfGXyNT1bIU4leahOIp6LpFn1prLeq8hDIXq074lkel8uritLFKcn+ou6exX2uapyemLk+I00LLi9ekk17IiE5LiYmrtRGVXLTWzylxEM8RNJp6J0mTktSKqv1XiJNnqwTNUvWpr6UokuTQS1SOKcvoufF/JsLfyzL+rf5Yp3elFltRHE7KlypEOCO8kT9ScEVHHInAnNPEdE0TST0WkVpSYS01S2hFt7UliKzZULiUvhcUsmE2JaSObxJqIcXpJJKOkaC7n2osntC8mmpRknE5TWplKxIql7KaTo1aQmqMmWUS9E0p/MW1SrKbCYRhTiNcpicTUxInzkzS4V0jMrEmhfUkRbjyhStI6ZExdGTKQmnlyoSpLTqE6S+IkcXUiNRGXbyzKLeX2oXqzIZNL2SVsnQTSsQ2qk8R4jLVsTkopKOtFqtcnJS/K+STFuuJLRHVqFcj+8I2J5cWi1ka1IX21SlUyr4ifKuTROkuKdell6UXXEZyKLqc9JWtr/msai+RktiKfoii6RskpVb7inPTkSUemkEiKt/5JI/ymiYjSOUsLhEGX1EUakbRWUjrcLRae0LSlpsiuWLNVCqOj0sqUv0TRSNaqalJ01y0tlLV/LnkWl+01XFzSzKldzNS3oa2KSvpcRE9VUuiVP5JTppSpVSJojUtXFOJXZaySWpy0q/OvouLVX2XTuLQU1zspFE5NTC8SeL6UFQji9pSciLRHo3JpWhV/+RQmrZdGKqNU+k8nJU0WtBpCzFHy5FSWrjXPCctqkqJaqMkmy5a4jWpIrL1lSxSvWmkq9YtET/E1yMrrUyk0q1oUsR3FwpW7RX3JqmRTadkyRX/rxaZQ6K0iNRkmvRErxMtqSfk9bomdpFejMmVinbXRUjUjXK56Jo1IqpJk4xKrSNBNLFuJq0K1ziSUqa0irr1JrmwrqKUGZaoQ7TRXCl/i9KXPNJ5dV1euosmRbuLROwJ3YtSaLRLTSLupi5N5OKicJrCI+mROqfEZSqjtape1oaFSND1MqSH3sT0lO6lpE5S4SuHo4koibUqIjrSxUUvtLKmjUWmlf6LK6raaSX7l8k4aimSs0mmLok1y2lR65Qk4nCpFMrktcou0RxL0ZQuWtoXVsjhC3z9CROFb4JyuTrFl+hDplaVa5kUqaviqF8y7C5HGqoqn1EITkNpNS3TrKKV8nylyJ6XdxsqxHUraqWnzJyiQyKWoxJZPpwsiSMiyImy6lJwqRMu4u1OJxeJsr0oV1KFQkcRpcSmjn+hFI0Q26SOt9y5I8TXpKmckR4uyOOE5My1YktatamCNpofJkktxNRK6jCkFpJ2SGVfTxXWI8m0aRr+oQnzki2I6QqFYTQu9SuSxGJRiUta0sizYXwnBH+0lZWySihtFyaLO1qXlaPUEdcNpJisiNfqUWR6kkleUakk+KR2laz+jxJstEWr3MWlUVambFkiRozkQRNPENeEqNqakj5di2jKaSKTKRLrgtJF9u0sWPLjIRTV4ky2rkOOiQr4hfpEUW9WSJGaPYmQvzGRpCLIPUxEkPZRE7oiRz/JQSdxZDCZ3JCnjTGywiZu4QQk0mtkXhSx7YurTMSEspyaaPC7E6IZKaUpS1SkJkmmdleLtaSwRYzG0iIqX5rKCtJHUFgVXj/+HUIGQY/rBIAAAC3XSZU6bSImmiJYVbJkTfK6K2zLWVfMarvvfJDSfWRttb3mImbPP82WeTXE0T17mQ1kvk+k+l3ulSytMtzKm2/eZfNKk02Sa/dmSbWLfkmJvPaRURdZvPZJlXRrPmXItl1SN8t6kkSdX8JCRV+qRJX6/UZLIsX1tLmuuTJ5E1Jr9KRKYiO/qptq2uklyaz3prom3W62smssXNGRJF/lTaWRGVN/kyyqtb6tOiyqkrKqSLVkRKySbKiIbaaX9CYrk88/j3atbbfImuujSaLZMRrJ/m2Tf5WZIz1VLEyRFv8sl837RHcrNVyJ3RnpPFyetnxCjmIFoE8EHEVWGHUM/qRmLgkOgRB4yWcjqy+w4gTCSIdfzE0a2CymAAOAAAAAAAAAOAAAAAAAAAAAAAAAAAAAAAAACYAAAAAAAAAAAAAAAAAAAFAAAAOAAAAAAAAAAAAAAAAAAAAADAAAADAAAAAAAAAAAAAAAAAAABQAAoAAAAAgAAAAAACAMAAAAA4AAAoAAABgAAAAEAAHAAAHAC0AADAAAAQAAAABQAAAKAAAAAAwAAAAMAAAAHAAAAAUAAGAAAEAKAAKIGAIQAChQQAEKAA5wAAQMAAUA4BAGwocYDcBSIBjgOgDYCuCAJACwYUs1AlpZCYXCId9HRkj2VkVmopRCSMiK8kIb1Jyoxq3H86TMxKW6+iJpnfooqCSyyv5YJNsi7Myfm4tMiJClWZkRkWd8kxI93utrLTRc3e5cYm3ZJoiWzadtPp9djO+01ZI91nb3K6Ski9OV8RrHf2kpCR5bI0ROdSM+EJ/d9W0n2kXcVYyfp6qTpo6z3bIqEVSH3zVjJF6tYRnrM/zJNPF808i4lzVaskap1iTTTS3UklVL/5r0Qnyc8nErJK9tTWtP0jdU0ibRfY2GqJ3lmNn6671Eq27aJ+kQmm0s8TPd9/k1WRCbETXrOk0ssWS1ddNMZv1lb3kaNrfv8l0zYrxkkuW37bTdYqXCZpVltSJq2iVVQmhJovVCZb76iSV/azo3Spy7a8zSxNpavyIhr1f2tNc6raxNsjWWxg2nL/pyNL/GkYn8kmzayfSa2xLZV/6MaoRSrWYQnV1uptOl9k2n+16w30slpk+1TKutrRM1sW4iTXxVZKjaWrsS+a9Gsl/LeI\" type=\"audio/flac\" />\n",
              "                    Your browser does not support the audio element.\n",
              "                </audio>\n",
              "              "
            ]
          },
          "metadata": {},
          "execution_count": 16
        }
      ],
      "source": [
        "from IPython.display import Audio\n",
        "import random\n",
        "\n",
        "file_id = random.choice([f[:-len(\".flac\")] for f in flac_files])\n",
        "flac_file_path, txt_file_path = os.path.join(data_dir, f\"{file_id}.flac\"), os.path.join(data_dir, \"2428-83705.trans.txt\")\n",
        "\n",
        "print(\"Text Transcription:\", read_txt_file(txt_file_path)[file_id], \"\\nAudio:\")\n",
        "Audio(filename=flac_file_path)"
      ]
    },
    {
      "cell_type": "markdown",
      "metadata": {
        "id": "M8jJ7Ed81p_A"
      },
      "source": [
        "Now, we will combine all the speech & text samples and will define the function (in next cell) for that purpose."
      ]
    },
    {
      "cell_type": "code",
      "execution_count": 17,
      "metadata": {
        "id": "MI-5YCzaTsei"
      },
      "outputs": [],
      "source": [
        "def fetch_sound_text_mapping(data_dir):\n",
        "  all_files = os.listdir(data_dir)\n",
        "\n",
        "  flac_files = [os.path.join(data_dir, f) for f in all_files if f.endswith(\".flac\")]\n",
        "  txt_files = [os.path.join(data_dir, f) for f in all_files if f.endswith(\".txt\")]\n",
        "\n",
        "  txt_samples = {}\n",
        "  for f in txt_files:\n",
        "    txt_samples.update(read_txt_file(f))\n",
        "\n",
        "  speech_samples = {}\n",
        "  for f in flac_files:\n",
        "    speech_samples.update(read_flac_file(f))\n",
        "\n",
        "  assert len(txt_samples) == len(speech_samples)\n",
        "\n",
        "  samples = [(speech_samples[file_id], txt_samples[file_id]) for file_id in speech_samples.keys() if len(speech_samples[file_id]) < AUDIO_MAXLEN]\n",
        "  return samples"
      ]
    },
    {
      "cell_type": "markdown",
      "metadata": {
        "id": "mx95Lxvu0nT4"
      },
      "source": [
        "It's time to have a look at a few samples ..."
      ]
    },
    {
      "cell_type": "code",
      "execution_count": 18,
      "metadata": {
        "id": "_Ls7X_jqIz4R",
        "colab": {
          "base_uri": "https://localhost:8080/"
        },
        "outputId": "1844d973-27a4-47f5-a322-a2607eba5d2a"
      },
      "outputs": [
        {
          "output_type": "execute_result",
          "data": {
            "text/plain": [
              "[(array([-0.00036621, -0.00015259, -0.00012207, ..., -0.0005188 ,\n",
              "         -0.00048828, -0.00048828]),\n",
              "  'THERE WERE NO SIGNS OF FALTERING ABOUT HER FLOW OF LANGUAGE'),\n",
              " (array([ 0.00018311,  0.00021362,  0.00021362, ..., -0.00036621,\n",
              "         -0.00036621, -0.00036621]),\n",
              "  'SUCH IS THE SELFISHNESS OF HUMAN NATURE'),\n",
              " (array([-6.10351562e-05, -6.10351562e-05, -3.05175781e-05, ...,\n",
              "         -2.13623047e-04, -9.15527344e-05, -3.05175781e-05]),\n",
              "  'I CANNOT PRETEND TO EXPLAIN WHY EXCEPT ON THE SUPPOSITION THAT ROMANCE IS DEAD AT LEAST IN THAT CIRCLE OF SOCIETY IN WHICH THE SNELLINGS MOVE'),\n",
              " (array([ 2.74658203e-04,  2.74658203e-04,  1.22070312e-04, ...,\n",
              "         -1.83105469e-04, -1.22070312e-04, -9.15527344e-05]),\n",
              "  'WE HAVE ALL BEEN GIVING MARY ANN PRESENTS AND I SUPPOSE YOU MISTER WHITING HAVE BEEN GIVING HER SOMETHING TOO'),\n",
              " (array([-0.00201416, -0.0022583 , -0.00234985, ...,  0.00137329,\n",
              "          0.0012207 ,  0.00109863]),\n",
              "  'FOR INSTANCE LOOK AT THEIR BEHAVIOUR IN THE MATTER OF THE RING')]"
            ]
          },
          "metadata": {},
          "execution_count": 18
        }
      ],
      "source": [
        "samples = fetch_sound_text_mapping(data_dir)\n",
        "samples[:5]"
      ]
    },
    {
      "cell_type": "markdown",
      "metadata": {
        "id": "TUjhSWfsnlCL"
      },
      "source": [
        "Note: We are loading this data into memory as we working with a small amount of dataset in this notebook. But for training on the complete dataset (~300 GBs), you will have to load data lazily. You can refer to [this script](https://github.com/vasudevgupta7/gsoc-wav2vec2/blob/main/src/data_utils.py) to know more on that."
      ]
    },
    {
      "cell_type": "markdown",
      "metadata": {
        "id": "xg8Zia1kzw0J"
      },
      "source": [
        "Let's pre-process the data now !!!\n",
        "\n",
        "We will first define the tokenizer & processor using `gsoc-wav2vec2` package. Then, we will do very simple pre-processing. `processor` will normalize raw speech w.r.to frames axis and `tokenizer` will convert our model outputs into the string (using the defined vocabulary) & will take care of the removal of special tokens (depending on your tokenizer configuration)."
      ]
    },
    {
      "cell_type": "code",
      "execution_count": 19,
      "metadata": {
        "id": "gaat_hMLNVHF",
        "colab": {
          "base_uri": "https://localhost:8080/"
        },
        "outputId": "9aa6c7f6-ad57-4b45-9821-70a2940a0858"
      },
      "outputs": [
        {
          "output_type": "stream",
          "name": "stdout",
          "text": [
            "Downloading `vocab.json` from https://github.com/vasudevgupta7/gsoc-wav2vec2/raw/main/data/vocab.json ... DONE\n"
          ]
        }
      ],
      "source": [
        "from wav2vec2 import Wav2Vec2Processor\n",
        "tokenizer = Wav2Vec2Processor(is_tokenizer=True)\n",
        "processor = Wav2Vec2Processor(is_tokenizer=False)\n",
        "\n",
        "def preprocess_text(text):\n",
        "  label = tokenizer(text)\n",
        "  return tf.constant(label, dtype=tf.int32)\n",
        "\n",
        "def preprocess_speech(audio):\n",
        "  audio = tf.constant(audio, dtype=tf.float32)\n",
        "  return processor(tf.transpose(audio))"
      ]
    },
    {
      "cell_type": "markdown",
      "metadata": {
        "id": "GyKl8QP-zRFC"
      },
      "source": [
        "Now, we will define the python generator to call the preprocessing functions we defined in above cells."
      ]
    },
    {
      "cell_type": "code",
      "execution_count": 20,
      "metadata": {
        "id": "PoQrRalwMpQ6"
      },
      "outputs": [],
      "source": [
        "def inputs_generator():\n",
        "  for speech, text in samples:\n",
        "    yield preprocess_speech(speech), preprocess_text(text)"
      ]
    },
    {
      "cell_type": "markdown",
      "metadata": {
        "id": "7Vlm3ySFULsG"
      },
      "source": [
        "## Setting up `tf.data.Dataset`\n",
        "\n",
        "Following cell will setup `tf.data.Dataset` object using its `.from_generator(...)` method. We will be using the `generator` object, we defined in the above cell.\n",
        "\n",
        "**Note:** For distributed training (especially on TPUs), `.from_generator(...)` doesn't work currently and it is recommended to train on data stored in `.tfrecord` format (Note: The TFRecords should ideally be stored inside a GCS Bucket in order for the TPUs to work to the fullest extent).\n",
        "\n",
        "You can refer to [this script](https://github.com/vasudevgupta7/gsoc-wav2vec2/blob/main/src/make_tfrecords.py) for more details on how to convert LibriSpeech data into tfrecords."
      ]
    },
    {
      "cell_type": "code",
      "execution_count": 21,
      "metadata": {
        "id": "LbQ_dMwGO62h"
      },
      "outputs": [],
      "source": [
        "output_signature = (\n",
        "    tf.TensorSpec(shape=(None),  dtype=tf.float32),\n",
        "    tf.TensorSpec(shape=(None), dtype=tf.int32),\n",
        ")\n",
        "\n",
        "dataset = tf.data.Dataset.from_generator(inputs_generator, output_signature=output_signature)"
      ]
    },
    {
      "cell_type": "code",
      "execution_count": 22,
      "metadata": {
        "id": "HXBbNsRyPyw3"
      },
      "outputs": [],
      "source": [
        "BUFFER_SIZE = len(flac_files)\n",
        "SEED = 42\n",
        "\n",
        "dataset = dataset.shuffle(BUFFER_SIZE, seed=SEED)"
      ]
    },
    {
      "cell_type": "markdown",
      "metadata": {
        "id": "9DAUmns3pXfr"
      },
      "source": [
        "We will pass the dataset into multiple batches, so let's prepare batches in the following cell. Now, all the sequences in a batch should be padded to a constant length. We will use the`.padded_batch(...)` method for that purpose."
      ]
    },
    {
      "cell_type": "code",
      "execution_count": 23,
      "metadata": {
        "id": "Okhko1IWRida"
      },
      "outputs": [],
      "source": [
        "dataset = dataset.padded_batch(BATCH_SIZE, padded_shapes=(AUDIO_MAXLEN, LABEL_MAXLEN), padding_values=(0.0, 0))"
      ]
    },
    {
      "cell_type": "markdown",
      "metadata": {
        "id": "A45CjQG5qSbV"
      },
      "source": [
        "Accelerators (like GPUs/TPUs) are very fast and often data-loading (& pre-processing) becomes the bottleneck during training as the data-loading part happens on CPUs. This can increase the training time significantly especially when there is a lot of online pre-processing involved or data is streamed online from GCS buckets. To handle those issues, `tf.data.Dataset` offers the `.prefetch(...)` method. This method helps in preparing the next few batches in parallel (on CPUs) while the model is making predictions (on GPUs/TPUs) on the current batch."
      ]
    },
    {
      "cell_type": "code",
      "execution_count": 24,
      "metadata": {
        "id": "f-bKu2YjRior"
      },
      "outputs": [],
      "source": [
        "dataset = dataset.prefetch(tf.data.AUTOTUNE)"
      ]
    },
    {
      "cell_type": "markdown",
      "metadata": {
        "id": "Lqk2cs6LxVIh"
      },
      "source": [
        "Since this notebook is made for demonstration purposes, we will be taking first `num_train_batches` and will perform training over only that. You are encouraged to train on the whole dataset though. Similarly, we will evaluate only `num_val_batches`."
      ]
    },
    {
      "cell_type": "code",
      "execution_count": 25,
      "metadata": {
        "id": "z6GO5oYUxXtz"
      },
      "outputs": [],
      "source": [
        "num_train_batches = 10\n",
        "num_val_batches = 4\n",
        "\n",
        "train_dataset = dataset.take(num_train_batches)\n",
        "val_dataset = dataset.skip(num_train_batches).take(num_val_batches)"
      ]
    },
    {
      "cell_type": "markdown",
      "metadata": {
        "id": "CzAOI78tky08"
      },
      "source": [
        "## Model training\n",
        "\n",
        "For training our model, we will be directly calling `.fit(...)` method after compiling our model with `.compile(...)`."
      ]
    },
    {
      "cell_type": "code",
      "execution_count": 26,
      "metadata": {
        "id": "vuBY2sZElgwg"
      },
      "outputs": [],
      "source": [
        "model.compile(optimizer, loss=loss_fn)"
      ]
    },
    {
      "cell_type": "markdown",
      "metadata": {
        "id": "qswxafSl0HjO"
      },
      "source": [
        "The above cell will set up our training state. Now we can initiate training with the `.fit(...)` method."
      ]
    },
    {
      "cell_type": "markdown",
      "source": [
        "#Calculating carbon emissions during model training"
      ],
      "metadata": {
        "id": "-X_vD0CNTsGC"
      }
    },
    {
      "cell_type": "code",
      "source": [
        "!pip install codecarbon\n",
        "from codecarbon import EmissionsTracker"
      ],
      "metadata": {
        "id": "3e5FsNVeT1jt"
      },
      "execution_count": null,
      "outputs": []
    },
    {
      "cell_type": "code",
      "execution_count": 28,
      "metadata": {
        "id": "vtuSfnj1l-I_",
        "colab": {
          "base_uri": "https://localhost:8080/"
        },
        "outputId": "45289b3b-8359-480d-d812-c4fb7bfe6e99"
      },
      "outputs": [
        {
          "output_type": "stream",
          "name": "stderr",
          "text": [
            "[codecarbon WARNING @ 21:03:25] Multiple instances of codecarbon are allowed to run at the same time.\n",
            "[codecarbon INFO @ 21:03:25] [setup] RAM Tracking...\n",
            "[codecarbon INFO @ 21:03:25] [setup] CPU Tracking...\n",
            "[codecarbon WARNING @ 21:03:26] We saw that you have a Intel(R) Xeon(R) CPU @ 2.00GHz but we don't know it. Please contact us.\n",
            "[codecarbon WARNING @ 21:03:26] No CPU tracking mode found. Falling back on estimation based on TDP for CPU. \n",
            " Linux OS detected: Please ensure RAPL files exist at /sys/class/powercap/intel-rapl/subsystem to measure CPU\n",
            "\n",
            "[codecarbon INFO @ 21:03:26] CPU Model on constant consumption mode: Intel(R) Xeon(R) CPU @ 2.00GHz\n",
            "[codecarbon WARNING @ 21:03:26] No CPU tracking mode found. Falling back on CPU constant mode.\n",
            "[codecarbon INFO @ 21:03:26] [setup] GPU Tracking...\n",
            "[codecarbon INFO @ 21:03:26] Tracking Nvidia GPU via pynvml\n",
            "[codecarbon INFO @ 21:03:26] The below tracking methods have been set up:\n",
            "                RAM Tracking Method: RAM power estimation model\n",
            "                CPU Tracking Method: global constant\n",
            "                GPU Tracking Method: pynvml\n",
            "            \n",
            "[codecarbon INFO @ 21:03:26] >>> Tracker's metadata:\n",
            "[codecarbon INFO @ 21:03:26]   Platform system: Linux-6.1.123+-x86_64-with-glibc2.35\n",
            "[codecarbon INFO @ 21:03:26]   Python version: 3.11.12\n",
            "[codecarbon INFO @ 21:03:26]   CodeCarbon version: 3.0.1\n",
            "[codecarbon INFO @ 21:03:26]   Available RAM : 12.674 GB\n",
            "[codecarbon INFO @ 21:03:26]   CPU count: 2 thread(s) in 1 physical CPU(s)\n",
            "[codecarbon INFO @ 21:03:26]   CPU model: Intel(R) Xeon(R) CPU @ 2.00GHz\n",
            "[codecarbon INFO @ 21:03:26]   GPU count: 1\n",
            "[codecarbon INFO @ 21:03:26]   GPU model: 1 x Tesla T4\n",
            "[codecarbon INFO @ 21:03:26] Emissions data (if any) will be saved to file /content/emissions.csv\n"
          ]
        },
        {
          "output_type": "stream",
          "name": "stdout",
          "text": [
            "Epoch 1/3\n"
          ]
        },
        {
          "output_type": "stream",
          "name": "stderr",
          "text": [
            "WARNING:tensorflow:Gradients do not exist for variables ['wav2vec2/masked_spec_embed:0'] when minimizing the loss. If you're using `model.compile()`, did you forget to provide a `loss` argument?\n",
            "[codecarbon INFO @ 21:03:41] Energy consumed for RAM : 0.000042 kWh. RAM Power : 10.0 W\n",
            "[codecarbon INFO @ 21:03:41] Delta energy consumed for CPU with constant : 0.000177 kWh, power : 42.5 W\n",
            "[codecarbon INFO @ 21:03:41] Energy consumed for All CPU : 0.000177 kWh\n",
            "[codecarbon INFO @ 21:03:41] Energy consumed for all GPUs : 0.000109 kWh. Total GPU Power : 26.107486684038413 W\n",
            "[codecarbon INFO @ 21:03:41] 0.000328 kWh of electricity used since the beginning.\n",
            "WARNING:tensorflow:Gradients do not exist for variables ['wav2vec2/masked_spec_embed:0'] when minimizing the loss. If you're using `model.compile()`, did you forget to provide a `loss` argument?\n",
            "WARNING:tensorflow:Gradients do not exist for variables ['wav2vec2/masked_spec_embed:0'] when minimizing the loss. If you're using `model.compile()`, did you forget to provide a `loss` argument?\n",
            "WARNING:tensorflow:Gradients do not exist for variables ['wav2vec2/masked_spec_embed:0'] when minimizing the loss. If you're using `model.compile()`, did you forget to provide a `loss` argument?\n",
            "[codecarbon INFO @ 21:03:56] Energy consumed for RAM : 0.000083 kWh. RAM Power : 10.0 W\n",
            "[codecarbon INFO @ 21:03:56] Delta energy consumed for CPU with constant : 0.000177 kWh, power : 42.5 W\n",
            "[codecarbon INFO @ 21:03:56] Energy consumed for All CPU : 0.000354 kWh\n",
            "[codecarbon INFO @ 21:03:56] Energy consumed for all GPUs : 0.000218 kWh. Total GPU Power : 26.249465245085208 W\n",
            "[codecarbon INFO @ 21:03:56] 0.000656 kWh of electricity used since the beginning.\n",
            "[codecarbon INFO @ 21:04:11] Energy consumed for RAM : 0.000125 kWh. RAM Power : 10.0 W\n",
            "[codecarbon INFO @ 21:04:11] Delta energy consumed for CPU with constant : 0.000177 kWh, power : 42.5 W\n",
            "[codecarbon INFO @ 21:04:11] Energy consumed for All CPU : 0.000531 kWh\n",
            "[codecarbon INFO @ 21:04:11] Energy consumed for all GPUs : 0.000333 kWh. Total GPU Power : 27.60743560925586 W\n",
            "[codecarbon INFO @ 21:04:11] 0.000990 kWh of electricity used since the beginning.\n"
          ]
        },
        {
          "output_type": "stream",
          "name": "stdout",
          "text": [
            "      7/Unknown - 59s 2s/step - loss: 1173.4866"
          ]
        },
        {
          "output_type": "stream",
          "name": "stderr",
          "text": [
            "[codecarbon INFO @ 21:04:26] Energy consumed for RAM : 0.000167 kWh. RAM Power : 10.0 W\n",
            "[codecarbon INFO @ 21:04:26] Delta energy consumed for CPU with constant : 0.000177 kWh, power : 42.5 W\n",
            "[codecarbon INFO @ 21:04:26] Energy consumed for All CPU : 0.000708 kWh\n",
            "[codecarbon INFO @ 21:04:26] Energy consumed for all GPUs : 0.000532 kWh. Total GPU Power : 47.64901333130055 W\n",
            "[codecarbon INFO @ 21:04:26] 0.001407 kWh of electricity used since the beginning.\n"
          ]
        },
        {
          "output_type": "stream",
          "name": "stdout",
          "text": [
            "     10/Unknown - 64s 2s/step - loss: 1206.2732"
          ]
        },
        {
          "output_type": "stream",
          "name": "stderr",
          "text": [
            "[codecarbon INFO @ 21:04:41] Energy consumed for RAM : 0.000208 kWh. RAM Power : 10.0 W\n",
            "[codecarbon INFO @ 21:04:41] Delta energy consumed for CPU with constant : 0.000177 kWh, power : 42.5 W\n",
            "[codecarbon INFO @ 21:04:41] Energy consumed for All CPU : 0.000885 kWh\n",
            "[codecarbon INFO @ 21:04:41] Energy consumed for all GPUs : 0.000695 kWh. Total GPU Power : 39.261263020145535 W\n",
            "[codecarbon INFO @ 21:04:41] 0.001789 kWh of electricity used since the beginning.\n"
          ]
        },
        {
          "output_type": "stream",
          "name": "stdout",
          "text": [
            "\b\b\b\b\b\b\b\b\b\b\b\b\b\b\b\b\b\b\b\b\b\b\b\b\b\b\b\b\b\b\b\b\b\b\b\b\b\b\b\b\b\b\b\b\b\b\b\r10/10 [==============================] - 77s 3s/step - loss: 1206.2732 - val_loss: 966.9136\n",
            "Epoch 2/3\n",
            " 7/10 [====================>.........] - ETA: 4s - loss: 935.8146 "
          ]
        },
        {
          "output_type": "stream",
          "name": "stderr",
          "text": [
            "[codecarbon INFO @ 21:04:56] Energy consumed for RAM : 0.000250 kWh. RAM Power : 10.0 W\n",
            "[codecarbon INFO @ 21:04:56] Delta energy consumed for CPU with constant : 0.000177 kWh, power : 42.5 W\n",
            "[codecarbon INFO @ 21:04:56] Energy consumed for All CPU : 0.001062 kWh\n",
            "[codecarbon INFO @ 21:04:56] Energy consumed for all GPUs : 0.000898 kWh. Total GPU Power : 48.72690254817144 W\n",
            "[codecarbon INFO @ 21:04:56] 0.002211 kWh of electricity used since the beginning.\n"
          ]
        },
        {
          "output_type": "stream",
          "name": "stdout",
          "text": [
            "10/10 [==============================] - 21s 2s/step - loss: 946.9650 - val_loss: 839.6303\n"
          ]
        },
        {
          "output_type": "stream",
          "name": "stderr",
          "text": [
            "[codecarbon INFO @ 21:05:11] Energy consumed for RAM : 0.000292 kWh. RAM Power : 10.0 W\n",
            "[codecarbon INFO @ 21:05:11] Delta energy consumed for CPU with constant : 0.000177 kWh, power : 42.5 W\n",
            "[codecarbon INFO @ 21:05:11] Energy consumed for All CPU : 0.001239 kWh\n",
            "[codecarbon INFO @ 21:05:11] Energy consumed for all GPUs : 0.001065 kWh. Total GPU Power : 39.98756534535027 W\n",
            "[codecarbon INFO @ 21:05:11] 0.002596 kWh of electricity used since the beginning.\n"
          ]
        },
        {
          "output_type": "stream",
          "name": "stdout",
          "text": [
            "Epoch 3/3\n",
            " 1/10 [==>...........................] - ETA: 15s - loss: 807.0832"
          ]
        },
        {
          "output_type": "stream",
          "name": "stderr",
          "text": [
            "[codecarbon INFO @ 21:05:26] Energy consumed for RAM : 0.000333 kWh. RAM Power : 10.0 W\n",
            "[codecarbon INFO @ 21:05:26] Delta energy consumed for CPU with constant : 0.000177 kWh, power : 42.5 W\n",
            "[codecarbon INFO @ 21:05:26] Energy consumed for All CPU : 0.001416 kWh\n",
            "[codecarbon INFO @ 21:05:26] Energy consumed for all GPUs : 0.001188 kWh. Total GPU Power : 29.579990231057984 W\n",
            "[codecarbon INFO @ 21:05:26] 0.002938 kWh of electricity used since the beginning.\n",
            "[codecarbon INFO @ 21:05:26] 0.008546 g.CO2eq/s mean an estimation of 269.4998336354521 kg.CO2eq/year\n"
          ]
        },
        {
          "output_type": "stream",
          "name": "stdout",
          "text": [
            "10/10 [==============================] - ETA: 0s - loss: 505.2660"
          ]
        },
        {
          "output_type": "stream",
          "name": "stderr",
          "text": [
            "[codecarbon INFO @ 21:05:41] Energy consumed for RAM : 0.000375 kWh. RAM Power : 10.0 W\n",
            "[codecarbon INFO @ 21:05:41] Delta energy consumed for CPU with constant : 0.000177 kWh, power : 42.5 W\n",
            "[codecarbon INFO @ 21:05:41] Energy consumed for All CPU : 0.001593 kWh\n",
            "[codecarbon INFO @ 21:05:41] Energy consumed for all GPUs : 0.001405 kWh. Total GPU Power : 52.035878885682536 W\n",
            "[codecarbon INFO @ 21:05:41] 0.003373 kWh of electricity used since the beginning.\n"
          ]
        },
        {
          "output_type": "stream",
          "name": "stdout",
          "text": [
            "\b\b\b\b\b\b\b\b\b\b\b\b\b\b\b\b\b\b\b\b\b\b\b\b\b\b\b\b\b\b\b\b\b\b\b\b\b\b\b\b\b\b\b\b\b\b\b\b\b\b\b\b\b\b\b\b\b\b\b\b\b\b\b\b\b\r10/10 [==============================] - 27s 3s/step - loss: 505.2660 - val_loss: 307.3088\n"
          ]
        },
        {
          "output_type": "stream",
          "name": "stderr",
          "text": [
            "[codecarbon INFO @ 21:05:51] Energy consumed for RAM : 0.000402 kWh. RAM Power : 10.0 W\n",
            "[codecarbon INFO @ 21:05:51] Delta energy consumed for CPU with constant : 0.000115 kWh, power : 42.5 W\n",
            "[codecarbon INFO @ 21:05:51] Energy consumed for All CPU : 0.001708 kWh\n",
            "[codecarbon INFO @ 21:05:51] Energy consumed for all GPUs : 0.001505 kWh. Total GPU Power : 36.99660877414437 W\n",
            "[codecarbon INFO @ 21:05:51] 0.003615 kWh of electricity used since the beginning.\n"
          ]
        },
        {
          "output_type": "stream",
          "name": "stdout",
          "text": [
            "Emissions during training: 0.0012625974020339925 kg CO2\n"
          ]
        },
        {
          "output_type": "execute_result",
          "data": {
            "text/plain": [
              "{'loss': [1206.273193359375, 946.9650268554688, 505.2660217285156],\n",
              " 'val_loss': [966.91357421875, 839.6303100585938, 307.30877685546875]}"
            ]
          },
          "metadata": {},
          "execution_count": 28
        }
      ],
      "source": [
        "#start emissions tracking\n",
        "tracker = EmissionsTracker()\n",
        "tracker.start()\n",
        "\n",
        "#Model training\n",
        "history = model.fit(train_dataset, validation_data=val_dataset, epochs=3)\n",
        "\n",
        "#stop emissions tracking\n",
        "emissions: float = tracker.stop()\n",
        "print(f\"Emissions during training: {emissions} kg CO2\")\n",
        "\n",
        "history.history"
      ]
    },
    {
      "cell_type": "code",
      "source": [
        "emissions_data = tracker.final_emissions_data\n",
        "print(f\"Energy consumed: {emissions_data.energy_consumed:.6f} kWh\")\n",
        "print(f\"Execution Time: {emissions_data.duration:.2f} seconds\")\n",
        "print(f\"Emissions: {emissions_data.emissions} kg CO2\")"
      ],
      "metadata": {
        "colab": {
          "base_uri": "https://localhost:8080/"
        },
        "id": "6kQIq7Fhpx_E",
        "outputId": "5c66ce1e-e512-43a0-cbdb-3431c64781e5"
      },
      "execution_count": 29,
      "outputs": [
        {
          "output_type": "stream",
          "name": "stdout",
          "text": [
            "Energy consumed: 0.003615 kWh\n",
            "Execution Time: 144.81 seconds\n",
            "Emissions: 0.0012625974020339925 kg CO2\n"
          ]
        }
      ]
    },
    {
      "cell_type": "markdown",
      "metadata": {
        "id": "ySvp8r2E1q_V"
      },
      "source": [
        "Let's save our model with `.save(...)` method to be able to perform inference later. You can also export this SavedModel to TFHub by following [TFHub documentation](https://www.tensorflow.org/hub/publish)."
      ]
    },
    {
      "cell_type": "code",
      "execution_count": 30,
      "metadata": {
        "id": "C0KEYcwydwjF"
      },
      "outputs": [],
      "source": [
        "save_dir = \"finetuned-wav2vec2\"\n",
        "model.save(save_dir, include_optimizer=False)"
      ]
    },
    {
      "cell_type": "markdown",
      "metadata": {
        "id": "MkOpp9rZ211t"
      },
      "source": [
        "Note: We are setting `include_optimizer=False` as we want to use this model for inference only."
      ]
    },
    {
      "cell_type": "markdown",
      "metadata": {
        "id": "SJfPlTgezD0i"
      },
      "source": [
        "## Evaluation\n",
        "\n",
        "Now we will be computing Word Error Rate over the validation dataset\n",
        "\n",
        "**Word error rate** (WER) is a common metric for measuring the performance of an automatic speech recognition system. The WER is derived from the Levenshtein distance, working at the word level. Word error rate can then be computed as: WER = (S + D + I) / N = (S + D + I) / (S + D + C) where S is the number of substitutions, D is the number of deletions, I is the number of insertions, C is the number of correct words, N is the number of words in the reference (N=S+D+C). This value indicates the percentage of words that were incorrectly predicted.\n",
        "\n",
        "You can refer to [this paper](https://www.isca-speech.org/archive_v0/interspeech_2004/i04_2765.html) to learn more about WER."
      ]
    },
    {
      "cell_type": "markdown",
      "metadata": {
        "id": "Io_91Y7-r3xu"
      },
      "source": [
        "We will use `load_metric(...)` function from [HuggingFace datasets](https://huggingface.co/docs/datasets/) library. Let's first install the `datasets` library using `pip` and then define the `metric` object."
      ]
    },
    {
      "cell_type": "code",
      "execution_count": 31,
      "metadata": {
        "id": "GW9F_oVDU1TZ"
      },
      "outputs": [],
      "source": [
        "#!pip3 install -q datasets\n",
        "\n",
        "#from datasets import load_metric\n",
        "#metric = load_metric(\"wer\")"
      ]
    },
    {
      "cell_type": "code",
      "source": [
        "!pip3 install evaluate\n",
        "import evaluate\n",
        "metric = evaluate.load(\"wer\")"
      ],
      "metadata": {
        "colab": {
          "base_uri": "https://localhost:8080/",
          "height": 1000,
          "referenced_widgets": [
            "8442b9fd3ca6442797d059b9ccd29afa",
            "824aa15cac1448cea8e106f477f66f96",
            "94d77dd6907644139fb54d6066a6ce96",
            "d11007f7607047d49f25c6b025b68d9a",
            "411810ee2b1745d598dc5f59a8114423",
            "38b05bb0f5fa460aba44ecd30225bde6",
            "26da477b247f40ce99efb6a855cced57",
            "c067b4e26705473ea1a8a229196bf6ef",
            "4004ec651f73407387a3bd18dd0d5731",
            "f996f122d27848c58f4bce9854742932",
            "5ea05f326929449d9e2343633a7a9828"
          ]
        },
        "id": "tSbQshZuVs17",
        "outputId": "47040cb1-b610-4bed-a20c-041e49e5334f"
      },
      "execution_count": 32,
      "outputs": [
        {
          "output_type": "stream",
          "name": "stdout",
          "text": [
            "Collecting evaluate\n",
            "  Downloading evaluate-0.4.3-py3-none-any.whl.metadata (9.2 kB)\n",
            "Collecting datasets>=2.0.0 (from evaluate)\n",
            "  Downloading datasets-3.5.1-py3-none-any.whl.metadata (19 kB)\n",
            "Requirement already satisfied: numpy>=1.17 in /usr/local/lib/python3.11/dist-packages (from evaluate) (2.0.2)\n",
            "Collecting dill (from evaluate)\n",
            "  Downloading dill-0.4.0-py3-none-any.whl.metadata (10 kB)\n",
            "Requirement already satisfied: pandas in /usr/local/lib/python3.11/dist-packages (from evaluate) (2.2.2)\n",
            "Requirement already satisfied: requests>=2.19.0 in /usr/local/lib/python3.11/dist-packages (from evaluate) (2.32.3)\n",
            "Requirement already satisfied: tqdm>=4.62.1 in /usr/local/lib/python3.11/dist-packages (from evaluate) (4.67.1)\n",
            "Collecting xxhash (from evaluate)\n",
            "  Downloading xxhash-3.5.0-cp311-cp311-manylinux_2_17_x86_64.manylinux2014_x86_64.whl.metadata (12 kB)\n",
            "Collecting multiprocess (from evaluate)\n",
            "  Downloading multiprocess-0.70.18-py311-none-any.whl.metadata (7.5 kB)\n",
            "Requirement already satisfied: fsspec>=2021.05.0 in /usr/local/lib/python3.11/dist-packages (from fsspec[http]>=2021.05.0->evaluate) (2025.3.2)\n",
            "Requirement already satisfied: huggingface-hub>=0.7.0 in /usr/local/lib/python3.11/dist-packages (from evaluate) (0.30.2)\n",
            "Requirement already satisfied: packaging in /usr/local/lib/python3.11/dist-packages (from evaluate) (24.2)\n",
            "Requirement already satisfied: filelock in /usr/local/lib/python3.11/dist-packages (from datasets>=2.0.0->evaluate) (3.18.0)\n",
            "Requirement already satisfied: pyarrow>=15.0.0 in /usr/local/lib/python3.11/dist-packages (from datasets>=2.0.0->evaluate) (18.1.0)\n",
            "Collecting dill (from evaluate)\n",
            "  Downloading dill-0.3.8-py3-none-any.whl.metadata (10 kB)\n",
            "Collecting multiprocess (from evaluate)\n",
            "  Downloading multiprocess-0.70.16-py311-none-any.whl.metadata (7.2 kB)\n",
            "Collecting fsspec>=2021.05.0 (from fsspec[http]>=2021.05.0->evaluate)\n",
            "  Downloading fsspec-2025.3.0-py3-none-any.whl.metadata (11 kB)\n",
            "Requirement already satisfied: aiohttp in /usr/local/lib/python3.11/dist-packages (from datasets>=2.0.0->evaluate) (3.11.15)\n",
            "Requirement already satisfied: pyyaml>=5.1 in /usr/local/lib/python3.11/dist-packages (from datasets>=2.0.0->evaluate) (6.0.2)\n",
            "Requirement already satisfied: typing-extensions>=3.7.4.3 in /usr/local/lib/python3.11/dist-packages (from huggingface-hub>=0.7.0->evaluate) (4.13.2)\n",
            "Requirement already satisfied: charset-normalizer<4,>=2 in /usr/local/lib/python3.11/dist-packages (from requests>=2.19.0->evaluate) (3.4.1)\n",
            "Requirement already satisfied: idna<4,>=2.5 in /usr/local/lib/python3.11/dist-packages (from requests>=2.19.0->evaluate) (3.10)\n",
            "Requirement already satisfied: urllib3<3,>=1.21.1 in /usr/local/lib/python3.11/dist-packages (from requests>=2.19.0->evaluate) (2.4.0)\n",
            "Requirement already satisfied: certifi>=2017.4.17 in /usr/local/lib/python3.11/dist-packages (from requests>=2.19.0->evaluate) (2025.4.26)\n",
            "Requirement already satisfied: python-dateutil>=2.8.2 in /usr/local/lib/python3.11/dist-packages (from pandas->evaluate) (2.9.0.post0)\n",
            "Requirement already satisfied: pytz>=2020.1 in /usr/local/lib/python3.11/dist-packages (from pandas->evaluate) (2025.2)\n",
            "Requirement already satisfied: tzdata>=2022.7 in /usr/local/lib/python3.11/dist-packages (from pandas->evaluate) (2025.2)\n",
            "Requirement already satisfied: aiohappyeyeballs>=2.3.0 in /usr/local/lib/python3.11/dist-packages (from aiohttp->datasets>=2.0.0->evaluate) (2.6.1)\n",
            "Requirement already satisfied: aiosignal>=1.1.2 in /usr/local/lib/python3.11/dist-packages (from aiohttp->datasets>=2.0.0->evaluate) (1.3.2)\n",
            "Requirement already satisfied: attrs>=17.3.0 in /usr/local/lib/python3.11/dist-packages (from aiohttp->datasets>=2.0.0->evaluate) (25.3.0)\n",
            "Requirement already satisfied: frozenlist>=1.1.1 in /usr/local/lib/python3.11/dist-packages (from aiohttp->datasets>=2.0.0->evaluate) (1.6.0)\n",
            "Requirement already satisfied: multidict<7.0,>=4.5 in /usr/local/lib/python3.11/dist-packages (from aiohttp->datasets>=2.0.0->evaluate) (6.4.3)\n",
            "Requirement already satisfied: propcache>=0.2.0 in /usr/local/lib/python3.11/dist-packages (from aiohttp->datasets>=2.0.0->evaluate) (0.3.1)\n",
            "Requirement already satisfied: yarl<2.0,>=1.17.0 in /usr/local/lib/python3.11/dist-packages (from aiohttp->datasets>=2.0.0->evaluate) (1.20.0)\n",
            "Requirement already satisfied: six>=1.5 in /usr/local/lib/python3.11/dist-packages (from python-dateutil>=2.8.2->pandas->evaluate) (1.17.0)\n",
            "Downloading evaluate-0.4.3-py3-none-any.whl (84 kB)\n",
            "\u001b[2K   \u001b[90m━━━━━━━━━━━━━━━━━━━━━━━━━━━━━━━━━━━━━━━━\u001b[0m \u001b[32m84.0/84.0 kB\u001b[0m \u001b[31m5.2 MB/s\u001b[0m eta \u001b[36m0:00:00\u001b[0m\n",
            "\u001b[?25hDownloading datasets-3.5.1-py3-none-any.whl (491 kB)\n",
            "\u001b[2K   \u001b[90m━━━━━━━━━━━━━━━━━━━━━━━━━━━━━━━━━━━━━━━━\u001b[0m \u001b[32m491.4/491.4 kB\u001b[0m \u001b[31m20.4 MB/s\u001b[0m eta \u001b[36m0:00:00\u001b[0m\n",
            "\u001b[?25hDownloading dill-0.3.8-py3-none-any.whl (116 kB)\n",
            "\u001b[2K   \u001b[90m━━━━━━━━━━━━━━━━━━━━━━━━━━━━━━━━━━━━━━━━\u001b[0m \u001b[32m116.3/116.3 kB\u001b[0m \u001b[31m11.2 MB/s\u001b[0m eta \u001b[36m0:00:00\u001b[0m\n",
            "\u001b[?25hDownloading fsspec-2025.3.0-py3-none-any.whl (193 kB)\n",
            "\u001b[2K   \u001b[90m━━━━━━━━━━━━━━━━━━━━━━━━━━━━━━━━━━━━━━━━\u001b[0m \u001b[32m193.6/193.6 kB\u001b[0m \u001b[31m19.3 MB/s\u001b[0m eta \u001b[36m0:00:00\u001b[0m\n",
            "\u001b[?25hDownloading multiprocess-0.70.16-py311-none-any.whl (143 kB)\n",
            "\u001b[2K   \u001b[90m━━━━━━━━━━━━━━━━━━━━━━━━━━━━━━━━━━━━━━━━\u001b[0m \u001b[32m143.5/143.5 kB\u001b[0m \u001b[31m14.8 MB/s\u001b[0m eta \u001b[36m0:00:00\u001b[0m\n",
            "\u001b[?25hDownloading xxhash-3.5.0-cp311-cp311-manylinux_2_17_x86_64.manylinux2014_x86_64.whl (194 kB)\n",
            "\u001b[2K   \u001b[90m━━━━━━━━━━━━━━━━━━━━━━━━━━━━━━━━━━━━━━━━\u001b[0m \u001b[32m194.8/194.8 kB\u001b[0m \u001b[31m18.9 MB/s\u001b[0m eta \u001b[36m0:00:00\u001b[0m\n",
            "\u001b[?25hInstalling collected packages: xxhash, fsspec, dill, multiprocess, datasets, evaluate\n",
            "  Attempting uninstall: fsspec\n",
            "    Found existing installation: fsspec 2025.3.2\n",
            "    Uninstalling fsspec-2025.3.2:\n",
            "      Successfully uninstalled fsspec-2025.3.2\n",
            "\u001b[31mERROR: pip's dependency resolver does not currently take into account all the packages that are installed. This behaviour is the source of the following dependency conflicts.\n",
            "torch 2.6.0+cu124 requires nvidia-cublas-cu12==12.4.5.8; platform_system == \"Linux\" and platform_machine == \"x86_64\", but you have nvidia-cublas-cu12 12.5.3.2 which is incompatible.\n",
            "torch 2.6.0+cu124 requires nvidia-cuda-cupti-cu12==12.4.127; platform_system == \"Linux\" and platform_machine == \"x86_64\", but you have nvidia-cuda-cupti-cu12 12.5.82 which is incompatible.\n",
            "torch 2.6.0+cu124 requires nvidia-cuda-nvrtc-cu12==12.4.127; platform_system == \"Linux\" and platform_machine == \"x86_64\", but you have nvidia-cuda-nvrtc-cu12 12.5.82 which is incompatible.\n",
            "torch 2.6.0+cu124 requires nvidia-cuda-runtime-cu12==12.4.127; platform_system == \"Linux\" and platform_machine == \"x86_64\", but you have nvidia-cuda-runtime-cu12 12.5.82 which is incompatible.\n",
            "torch 2.6.0+cu124 requires nvidia-cudnn-cu12==9.1.0.70; platform_system == \"Linux\" and platform_machine == \"x86_64\", but you have nvidia-cudnn-cu12 9.3.0.75 which is incompatible.\n",
            "torch 2.6.0+cu124 requires nvidia-cufft-cu12==11.2.1.3; platform_system == \"Linux\" and platform_machine == \"x86_64\", but you have nvidia-cufft-cu12 11.2.3.61 which is incompatible.\n",
            "torch 2.6.0+cu124 requires nvidia-curand-cu12==10.3.5.147; platform_system == \"Linux\" and platform_machine == \"x86_64\", but you have nvidia-curand-cu12 10.3.6.82 which is incompatible.\n",
            "torch 2.6.0+cu124 requires nvidia-cusolver-cu12==11.6.1.9; platform_system == \"Linux\" and platform_machine == \"x86_64\", but you have nvidia-cusolver-cu12 11.6.3.83 which is incompatible.\n",
            "torch 2.6.0+cu124 requires nvidia-cusparse-cu12==12.3.1.170; platform_system == \"Linux\" and platform_machine == \"x86_64\", but you have nvidia-cusparse-cu12 12.5.1.3 which is incompatible.\n",
            "torch 2.6.0+cu124 requires nvidia-nvjitlink-cu12==12.4.127; platform_system == \"Linux\" and platform_machine == \"x86_64\", but you have nvidia-nvjitlink-cu12 12.5.82 which is incompatible.\n",
            "gcsfs 2025.3.2 requires fsspec==2025.3.2, but you have fsspec 2025.3.0 which is incompatible.\u001b[0m\u001b[31m\n",
            "\u001b[0mSuccessfully installed datasets-3.5.1 dill-0.3.8 evaluate-0.4.3 fsspec-2025.3.0 multiprocess-0.70.16 xxhash-3.5.0\n"
          ]
        },
        {
          "output_type": "stream",
          "name": "stderr",
          "text": [
            "/usr/local/lib/python3.11/dist-packages/huggingface_hub/utils/_auth.py:94: UserWarning: \n",
            "The secret `HF_TOKEN` does not exist in your Colab secrets.\n",
            "To authenticate with the Hugging Face Hub, create a token in your settings tab (https://huggingface.co/settings/tokens), set it as secret in your Google Colab and restart your session.\n",
            "You will be able to reuse this secret in all of your notebooks.\n",
            "Please note that authentication is recommended but still optional to access public models or datasets.\n",
            "  warnings.warn(\n"
          ]
        },
        {
          "output_type": "display_data",
          "data": {
            "text/plain": [
              "Downloading builder script:   0%|          | 0.00/4.49k [00:00<?, ?B/s]"
            ],
            "application/vnd.jupyter.widget-view+json": {
              "version_major": 2,
              "version_minor": 0,
              "model_id": "8442b9fd3ca6442797d059b9ccd29afa"
            }
          },
          "metadata": {}
        }
      ]
    },
    {
      "cell_type": "code",
      "execution_count": 33,
      "metadata": {
        "id": "ssWXWc7CZvNB"
      },
      "outputs": [],
      "source": [
        "@tf.function(jit_compile=True)\n",
        "def eval_fwd(batch):\n",
        "  logits = model(batch, training=False)\n",
        "  return tf.argmax(logits, axis=-1)"
      ]
    },
    {
      "cell_type": "markdown",
      "metadata": {
        "id": "NFh1myg1x4ua"
      },
      "source": [
        "It's time to run the evaluation on validation data now."
      ]
    },
    {
      "cell_type": "code",
      "execution_count": 34,
      "metadata": {
        "id": "EQTFVjZghckJ",
        "colab": {
          "base_uri": "https://localhost:8080/",
          "height": 49,
          "referenced_widgets": [
            "169f8dc53d8740a09a3634f0995c8ea5",
            "540a0726d8c04a699e6b1b0ad4198f47",
            "ac111017b223463c815d83e58457c93c",
            "4912b2a0b2414197add1c5fc8d836e9d",
            "24bdf77d34c645f9bcdf4604d6b26e39",
            "f9c310885fb64766858619cccfb0c98a",
            "915c5d0f6ced4edf8056f041ed775888",
            "f1d51a1ee1dc4ac59d43058642db0621",
            "34767962bcb44c5f8c3eac502eca2994",
            "1ec959b097544bd2870d6f0edcf63fab",
            "705c88db35cd41ca83249ce04004527c"
          ]
        },
        "outputId": "d9be9529-4cfc-4638-f6f4-25c62abbc669"
      },
      "outputs": [
        {
          "output_type": "display_data",
          "data": {
            "text/plain": [
              "  0%|          | 0/4 [00:00<?, ?it/s]"
            ],
            "application/vnd.jupyter.widget-view+json": {
              "version_major": 2,
              "version_minor": 0,
              "model_id": "169f8dc53d8740a09a3634f0995c8ea5"
            }
          },
          "metadata": {}
        }
      ],
      "source": [
        "from tqdm.auto import tqdm\n",
        "\n",
        "for speech, labels in tqdm(val_dataset, total=num_val_batches):\n",
        "    predictions  = eval_fwd(speech)\n",
        "    predictions = [tokenizer.decode(pred) for pred in predictions.numpy().tolist()]\n",
        "    references = [tokenizer.decode(label, group_tokens=False) for label in labels.numpy().tolist()]\n",
        "    metric.add_batch(references=references, predictions=predictions)"
      ]
    },
    {
      "cell_type": "markdown",
      "metadata": {
        "id": "WWCc8qBesv3e"
      },
      "source": [
        "We are using the `tokenizer.decode(...)` method for decoding our predictions and labels back into the text and will add them to the metric for `WER` computation later."
      ]
    },
    {
      "cell_type": "markdown",
      "metadata": {
        "id": "XI_URj8Wtb2g"
      },
      "source": [
        "Now, let's calculate the metric value in following cell:"
      ]
    },
    {
      "cell_type": "code",
      "execution_count": 35,
      "metadata": {
        "id": "a83wekLgWMod",
        "colab": {
          "base_uri": "https://localhost:8080/"
        },
        "outputId": "9d4fb34f-a77b-4775-e445-d8c63c19257d"
      },
      "outputs": [
        {
          "output_type": "execute_result",
          "data": {
            "text/plain": [
              "1.0"
            ]
          },
          "metadata": {},
          "execution_count": 35
        }
      ],
      "source": [
        "metric.compute()"
      ]
    },
    {
      "cell_type": "markdown",
      "metadata": {
        "id": "c_cD1OgVEjl4"
      },
      "source": [
        "**Note:** Here metric value doesn't make any sense as the model is trained on very small data and ASR-like tasks often require a large amount of data to learn a mapping from speech to text. You should probably train on large data to get some good results. This notebook gives you a template to fine-tune a pre-trained speech model."
      ]
    },
    {
      "cell_type": "markdown",
      "metadata": {
        "id": "G14o706kdTE1"
      },
      "source": [
        "## Inference\n",
        "\n",
        "Now that we are satisfied with the training process & have saved the model in `save_dir`, we will see how this model can be used for inference.\n",
        "\n",
        "First, we will load our model using `tf.keras.models.load_model(...)`."
      ]
    },
    {
      "cell_type": "code",
      "execution_count": 36,
      "metadata": {
        "id": "wrTrExiUdaED",
        "colab": {
          "base_uri": "https://localhost:8080/"
        },
        "outputId": "64f34c97-0e36-43c1-ae44-a53d8e107e76"
      },
      "outputs": [
        {
          "output_type": "stream",
          "name": "stderr",
          "text": [
            "WARNING:tensorflow:No training configuration found in save file, so the model was *not* compiled. Compile it manually.\n"
          ]
        }
      ],
      "source": [
        "finetuned_model = keras.models.load_model(save_dir)"
      ]
    },
    {
      "cell_type": "markdown",
      "metadata": {
        "id": "luodSroz20SR"
      },
      "source": [
        "Let's download some speech samples for performing inference. You can replace the following sample with your speech sample also."
      ]
    },
    {
      "cell_type": "code",
      "execution_count": 37,
      "metadata": {
        "id": "HUE0shded6Ej",
        "colab": {
          "base_uri": "https://localhost:8080/"
        },
        "outputId": "a38e6059-c700-47df-da0f-6e012c3addda"
      },
      "outputs": [
        {
          "output_type": "stream",
          "name": "stdout",
          "text": [
            "--2025-05-01 21:07:10--  https://github.com/vasudevgupta7/gsoc-wav2vec2/raw/main/data/SA2.wav\n",
            "Resolving github.com (github.com)... 140.82.113.4\n",
            "Connecting to github.com (github.com)|140.82.113.4|:443... connected.\n",
            "HTTP request sent, awaiting response... 301 Moved Permanently\n",
            "Location: https://github.com/thevasudevgupta/gsoc-wav2vec2/raw/main/data/SA2.wav [following]\n",
            "--2025-05-01 21:07:10--  https://github.com/thevasudevgupta/gsoc-wav2vec2/raw/main/data/SA2.wav\n",
            "Reusing existing connection to github.com:443.\n",
            "HTTP request sent, awaiting response... 302 Found\n",
            "Location: https://raw.githubusercontent.com/thevasudevgupta/gsoc-wav2vec2/main/data/SA2.wav [following]\n",
            "--2025-05-01 21:07:10--  https://raw.githubusercontent.com/thevasudevgupta/gsoc-wav2vec2/main/data/SA2.wav\n",
            "Resolving raw.githubusercontent.com (raw.githubusercontent.com)... 185.199.109.133, 185.199.110.133, 185.199.111.133, ...\n",
            "Connecting to raw.githubusercontent.com (raw.githubusercontent.com)|185.199.109.133|:443... connected.\n",
            "HTTP request sent, awaiting response... 200 OK\n",
            "Length: 94252 (92K) [audio/wav]\n",
            "Saving to: ‘SA2.wav’\n",
            "\n",
            "SA2.wav             100%[===================>]  92.04K  --.-KB/s    in 0.01s   \n",
            "\n",
            "2025-05-01 21:07:11 (7.66 MB/s) - ‘SA2.wav’ saved [94252/94252]\n",
            "\n"
          ]
        }
      ],
      "source": [
        "!wget https://github.com/vasudevgupta7/gsoc-wav2vec2/raw/main/data/SA2.wav"
      ]
    },
    {
      "cell_type": "markdown",
      "metadata": {
        "id": "ycBjU_U53FjL"
      },
      "source": [
        "Now, we will read the speech sample using `soundfile.read(...)` and pad it to `AUDIO_MAXLEN` to satisfy the model signature. Then we will normalize that speech sample using the `Wav2Vec2Processor` instance & will feed it into the model."
      ]
    },
    {
      "cell_type": "code",
      "execution_count": 38,
      "metadata": {
        "id": "z7CARje4d5_H",
        "colab": {
          "base_uri": "https://localhost:8080/"
        },
        "outputId": "f8e3d057-c34c-4c98-e194-7efd59da6a9b"
      },
      "outputs": [
        {
          "output_type": "execute_result",
          "data": {
            "text/plain": [
              "<tf.Tensor: shape=(1, 768, 32), dtype=float32, numpy=\n",
              "array([[[ 6.437108  , -0.43524763, -0.9372016 , ..., -0.02225186,\n",
              "         -0.1516123 , -0.44300503],\n",
              "        [ 6.4488845 , -0.46492705, -1.0301777 , ..., -0.01199191,\n",
              "         -0.11294978, -0.5281335 ],\n",
              "        [ 6.4118214 , -0.40753633, -1.0161344 , ..., -0.02898878,\n",
              "         -0.18163836, -0.3958183 ],\n",
              "        ...,\n",
              "        [ 6.4599614 , -0.59491956, -1.0304283 , ...,  0.13192573,\n",
              "         -0.25528634, -0.5739558 ],\n",
              "        [ 6.465603  , -0.5894994 , -1.0314901 , ...,  0.12987547,\n",
              "         -0.2556316 , -0.5858758 ],\n",
              "        [ 6.449605  , -0.57871133, -1.0426371 , ...,  0.13068128,\n",
              "         -0.26076162, -0.6023362 ]]], dtype=float32)>"
            ]
          },
          "metadata": {},
          "execution_count": 38
        }
      ],
      "source": [
        "import numpy as np\n",
        "\n",
        "speech, _ = sf.read(\"SA2.wav\")\n",
        "speech = np.pad(speech, (0, AUDIO_MAXLEN - len(speech)))\n",
        "speech = tf.expand_dims(processor(tf.constant(speech)), 0)\n",
        "\n",
        "outputs = finetuned_model(speech)\n",
        "outputs"
      ]
    },
    {
      "cell_type": "markdown",
      "metadata": {
        "id": "lUSttSPa30qP"
      },
      "source": [
        "Let's decode numbers back into text sequence using the `Wav2Vec2tokenizer` instance, we defined above."
      ]
    },
    {
      "cell_type": "code",
      "execution_count": 39,
      "metadata": {
        "id": "RYdJqxQ4llgI",
        "colab": {
          "base_uri": "https://localhost:8080/"
        },
        "outputId": "f9ec7586-e43e-4567-83fb-a7bdc5b7eb7b"
      },
      "outputs": [
        {
          "output_type": "execute_result",
          "data": {
            "text/plain": [
              "['']"
            ]
          },
          "metadata": {},
          "execution_count": 39
        }
      ],
      "source": [
        "predictions = tf.argmax(outputs, axis=-1)\n",
        "predictions = [tokenizer.decode(pred) for pred in predictions.numpy().tolist()]\n",
        "predictions"
      ]
    },
    {
      "cell_type": "markdown",
      "metadata": {
        "id": "7DXC757bztJc"
      },
      "source": [
        "This prediction is quite random as the model was never trained on large data in this notebook (as this notebook is not meant for doing complete training). You will get good predictions if you train this model on complete LibriSpeech dataset.\n",
        "\n",
        "Finally, we have reached an end to this notebook. But it's not an end of learning TensorFlow for speech-related tasks, this [repository](https://github.com/tulasiram58827/TTS_TFLite) contains some more amazing tutorials. In case you encountered any bug in this notebook, please create an issue [here](https://github.com/vasudevgupta7/gsoc-wav2vec2/issues)."
      ]
    }
  ],
  "metadata": {
    "accelerator": "GPU",
    "colab": {
      "provenance": []
    },
    "kernelspec": {
      "display_name": "Python 3",
      "name": "python3"
    },
    "widgets": {
      "application/vnd.jupyter.widget-state+json": {
        "8442b9fd3ca6442797d059b9ccd29afa": {
          "model_module": "@jupyter-widgets/controls",
          "model_name": "HBoxModel",
          "model_module_version": "1.5.0",
          "state": {
            "_dom_classes": [],
            "_model_module": "@jupyter-widgets/controls",
            "_model_module_version": "1.5.0",
            "_model_name": "HBoxModel",
            "_view_count": null,
            "_view_module": "@jupyter-widgets/controls",
            "_view_module_version": "1.5.0",
            "_view_name": "HBoxView",
            "box_style": "",
            "children": [
              "IPY_MODEL_824aa15cac1448cea8e106f477f66f96",
              "IPY_MODEL_94d77dd6907644139fb54d6066a6ce96",
              "IPY_MODEL_d11007f7607047d49f25c6b025b68d9a"
            ],
            "layout": "IPY_MODEL_411810ee2b1745d598dc5f59a8114423"
          }
        },
        "824aa15cac1448cea8e106f477f66f96": {
          "model_module": "@jupyter-widgets/controls",
          "model_name": "HTMLModel",
          "model_module_version": "1.5.0",
          "state": {
            "_dom_classes": [],
            "_model_module": "@jupyter-widgets/controls",
            "_model_module_version": "1.5.0",
            "_model_name": "HTMLModel",
            "_view_count": null,
            "_view_module": "@jupyter-widgets/controls",
            "_view_module_version": "1.5.0",
            "_view_name": "HTMLView",
            "description": "",
            "description_tooltip": null,
            "layout": "IPY_MODEL_38b05bb0f5fa460aba44ecd30225bde6",
            "placeholder": "​",
            "style": "IPY_MODEL_26da477b247f40ce99efb6a855cced57",
            "value": "Downloading builder script: 100%"
          }
        },
        "94d77dd6907644139fb54d6066a6ce96": {
          "model_module": "@jupyter-widgets/controls",
          "model_name": "FloatProgressModel",
          "model_module_version": "1.5.0",
          "state": {
            "_dom_classes": [],
            "_model_module": "@jupyter-widgets/controls",
            "_model_module_version": "1.5.0",
            "_model_name": "FloatProgressModel",
            "_view_count": null,
            "_view_module": "@jupyter-widgets/controls",
            "_view_module_version": "1.5.0",
            "_view_name": "ProgressView",
            "bar_style": "success",
            "description": "",
            "description_tooltip": null,
            "layout": "IPY_MODEL_c067b4e26705473ea1a8a229196bf6ef",
            "max": 4485,
            "min": 0,
            "orientation": "horizontal",
            "style": "IPY_MODEL_4004ec651f73407387a3bd18dd0d5731",
            "value": 4485
          }
        },
        "d11007f7607047d49f25c6b025b68d9a": {
          "model_module": "@jupyter-widgets/controls",
          "model_name": "HTMLModel",
          "model_module_version": "1.5.0",
          "state": {
            "_dom_classes": [],
            "_model_module": "@jupyter-widgets/controls",
            "_model_module_version": "1.5.0",
            "_model_name": "HTMLModel",
            "_view_count": null,
            "_view_module": "@jupyter-widgets/controls",
            "_view_module_version": "1.5.0",
            "_view_name": "HTMLView",
            "description": "",
            "description_tooltip": null,
            "layout": "IPY_MODEL_f996f122d27848c58f4bce9854742932",
            "placeholder": "​",
            "style": "IPY_MODEL_5ea05f326929449d9e2343633a7a9828",
            "value": " 4.49k/4.49k [00:00&lt;00:00, 386kB/s]"
          }
        },
        "411810ee2b1745d598dc5f59a8114423": {
          "model_module": "@jupyter-widgets/base",
          "model_name": "LayoutModel",
          "model_module_version": "1.2.0",
          "state": {
            "_model_module": "@jupyter-widgets/base",
            "_model_module_version": "1.2.0",
            "_model_name": "LayoutModel",
            "_view_count": null,
            "_view_module": "@jupyter-widgets/base",
            "_view_module_version": "1.2.0",
            "_view_name": "LayoutView",
            "align_content": null,
            "align_items": null,
            "align_self": null,
            "border": null,
            "bottom": null,
            "display": null,
            "flex": null,
            "flex_flow": null,
            "grid_area": null,
            "grid_auto_columns": null,
            "grid_auto_flow": null,
            "grid_auto_rows": null,
            "grid_column": null,
            "grid_gap": null,
            "grid_row": null,
            "grid_template_areas": null,
            "grid_template_columns": null,
            "grid_template_rows": null,
            "height": null,
            "justify_content": null,
            "justify_items": null,
            "left": null,
            "margin": null,
            "max_height": null,
            "max_width": null,
            "min_height": null,
            "min_width": null,
            "object_fit": null,
            "object_position": null,
            "order": null,
            "overflow": null,
            "overflow_x": null,
            "overflow_y": null,
            "padding": null,
            "right": null,
            "top": null,
            "visibility": null,
            "width": null
          }
        },
        "38b05bb0f5fa460aba44ecd30225bde6": {
          "model_module": "@jupyter-widgets/base",
          "model_name": "LayoutModel",
          "model_module_version": "1.2.0",
          "state": {
            "_model_module": "@jupyter-widgets/base",
            "_model_module_version": "1.2.0",
            "_model_name": "LayoutModel",
            "_view_count": null,
            "_view_module": "@jupyter-widgets/base",
            "_view_module_version": "1.2.0",
            "_view_name": "LayoutView",
            "align_content": null,
            "align_items": null,
            "align_self": null,
            "border": null,
            "bottom": null,
            "display": null,
            "flex": null,
            "flex_flow": null,
            "grid_area": null,
            "grid_auto_columns": null,
            "grid_auto_flow": null,
            "grid_auto_rows": null,
            "grid_column": null,
            "grid_gap": null,
            "grid_row": null,
            "grid_template_areas": null,
            "grid_template_columns": null,
            "grid_template_rows": null,
            "height": null,
            "justify_content": null,
            "justify_items": null,
            "left": null,
            "margin": null,
            "max_height": null,
            "max_width": null,
            "min_height": null,
            "min_width": null,
            "object_fit": null,
            "object_position": null,
            "order": null,
            "overflow": null,
            "overflow_x": null,
            "overflow_y": null,
            "padding": null,
            "right": null,
            "top": null,
            "visibility": null,
            "width": null
          }
        },
        "26da477b247f40ce99efb6a855cced57": {
          "model_module": "@jupyter-widgets/controls",
          "model_name": "DescriptionStyleModel",
          "model_module_version": "1.5.0",
          "state": {
            "_model_module": "@jupyter-widgets/controls",
            "_model_module_version": "1.5.0",
            "_model_name": "DescriptionStyleModel",
            "_view_count": null,
            "_view_module": "@jupyter-widgets/base",
            "_view_module_version": "1.2.0",
            "_view_name": "StyleView",
            "description_width": ""
          }
        },
        "c067b4e26705473ea1a8a229196bf6ef": {
          "model_module": "@jupyter-widgets/base",
          "model_name": "LayoutModel",
          "model_module_version": "1.2.0",
          "state": {
            "_model_module": "@jupyter-widgets/base",
            "_model_module_version": "1.2.0",
            "_model_name": "LayoutModel",
            "_view_count": null,
            "_view_module": "@jupyter-widgets/base",
            "_view_module_version": "1.2.0",
            "_view_name": "LayoutView",
            "align_content": null,
            "align_items": null,
            "align_self": null,
            "border": null,
            "bottom": null,
            "display": null,
            "flex": null,
            "flex_flow": null,
            "grid_area": null,
            "grid_auto_columns": null,
            "grid_auto_flow": null,
            "grid_auto_rows": null,
            "grid_column": null,
            "grid_gap": null,
            "grid_row": null,
            "grid_template_areas": null,
            "grid_template_columns": null,
            "grid_template_rows": null,
            "height": null,
            "justify_content": null,
            "justify_items": null,
            "left": null,
            "margin": null,
            "max_height": null,
            "max_width": null,
            "min_height": null,
            "min_width": null,
            "object_fit": null,
            "object_position": null,
            "order": null,
            "overflow": null,
            "overflow_x": null,
            "overflow_y": null,
            "padding": null,
            "right": null,
            "top": null,
            "visibility": null,
            "width": null
          }
        },
        "4004ec651f73407387a3bd18dd0d5731": {
          "model_module": "@jupyter-widgets/controls",
          "model_name": "ProgressStyleModel",
          "model_module_version": "1.5.0",
          "state": {
            "_model_module": "@jupyter-widgets/controls",
            "_model_module_version": "1.5.0",
            "_model_name": "ProgressStyleModel",
            "_view_count": null,
            "_view_module": "@jupyter-widgets/base",
            "_view_module_version": "1.2.0",
            "_view_name": "StyleView",
            "bar_color": null,
            "description_width": ""
          }
        },
        "f996f122d27848c58f4bce9854742932": {
          "model_module": "@jupyter-widgets/base",
          "model_name": "LayoutModel",
          "model_module_version": "1.2.0",
          "state": {
            "_model_module": "@jupyter-widgets/base",
            "_model_module_version": "1.2.0",
            "_model_name": "LayoutModel",
            "_view_count": null,
            "_view_module": "@jupyter-widgets/base",
            "_view_module_version": "1.2.0",
            "_view_name": "LayoutView",
            "align_content": null,
            "align_items": null,
            "align_self": null,
            "border": null,
            "bottom": null,
            "display": null,
            "flex": null,
            "flex_flow": null,
            "grid_area": null,
            "grid_auto_columns": null,
            "grid_auto_flow": null,
            "grid_auto_rows": null,
            "grid_column": null,
            "grid_gap": null,
            "grid_row": null,
            "grid_template_areas": null,
            "grid_template_columns": null,
            "grid_template_rows": null,
            "height": null,
            "justify_content": null,
            "justify_items": null,
            "left": null,
            "margin": null,
            "max_height": null,
            "max_width": null,
            "min_height": null,
            "min_width": null,
            "object_fit": null,
            "object_position": null,
            "order": null,
            "overflow": null,
            "overflow_x": null,
            "overflow_y": null,
            "padding": null,
            "right": null,
            "top": null,
            "visibility": null,
            "width": null
          }
        },
        "5ea05f326929449d9e2343633a7a9828": {
          "model_module": "@jupyter-widgets/controls",
          "model_name": "DescriptionStyleModel",
          "model_module_version": "1.5.0",
          "state": {
            "_model_module": "@jupyter-widgets/controls",
            "_model_module_version": "1.5.0",
            "_model_name": "DescriptionStyleModel",
            "_view_count": null,
            "_view_module": "@jupyter-widgets/base",
            "_view_module_version": "1.2.0",
            "_view_name": "StyleView",
            "description_width": ""
          }
        },
        "169f8dc53d8740a09a3634f0995c8ea5": {
          "model_module": "@jupyter-widgets/controls",
          "model_name": "HBoxModel",
          "model_module_version": "1.5.0",
          "state": {
            "_dom_classes": [],
            "_model_module": "@jupyter-widgets/controls",
            "_model_module_version": "1.5.0",
            "_model_name": "HBoxModel",
            "_view_count": null,
            "_view_module": "@jupyter-widgets/controls",
            "_view_module_version": "1.5.0",
            "_view_name": "HBoxView",
            "box_style": "",
            "children": [
              "IPY_MODEL_540a0726d8c04a699e6b1b0ad4198f47",
              "IPY_MODEL_ac111017b223463c815d83e58457c93c",
              "IPY_MODEL_4912b2a0b2414197add1c5fc8d836e9d"
            ],
            "layout": "IPY_MODEL_24bdf77d34c645f9bcdf4604d6b26e39"
          }
        },
        "540a0726d8c04a699e6b1b0ad4198f47": {
          "model_module": "@jupyter-widgets/controls",
          "model_name": "HTMLModel",
          "model_module_version": "1.5.0",
          "state": {
            "_dom_classes": [],
            "_model_module": "@jupyter-widgets/controls",
            "_model_module_version": "1.5.0",
            "_model_name": "HTMLModel",
            "_view_count": null,
            "_view_module": "@jupyter-widgets/controls",
            "_view_module_version": "1.5.0",
            "_view_name": "HTMLView",
            "description": "",
            "description_tooltip": null,
            "layout": "IPY_MODEL_f9c310885fb64766858619cccfb0c98a",
            "placeholder": "​",
            "style": "IPY_MODEL_915c5d0f6ced4edf8056f041ed775888",
            "value": "100%"
          }
        },
        "ac111017b223463c815d83e58457c93c": {
          "model_module": "@jupyter-widgets/controls",
          "model_name": "FloatProgressModel",
          "model_module_version": "1.5.0",
          "state": {
            "_dom_classes": [],
            "_model_module": "@jupyter-widgets/controls",
            "_model_module_version": "1.5.0",
            "_model_name": "FloatProgressModel",
            "_view_count": null,
            "_view_module": "@jupyter-widgets/controls",
            "_view_module_version": "1.5.0",
            "_view_name": "ProgressView",
            "bar_style": "success",
            "description": "",
            "description_tooltip": null,
            "layout": "IPY_MODEL_f1d51a1ee1dc4ac59d43058642db0621",
            "max": 4,
            "min": 0,
            "orientation": "horizontal",
            "style": "IPY_MODEL_34767962bcb44c5f8c3eac502eca2994",
            "value": 4
          }
        },
        "4912b2a0b2414197add1c5fc8d836e9d": {
          "model_module": "@jupyter-widgets/controls",
          "model_name": "HTMLModel",
          "model_module_version": "1.5.0",
          "state": {
            "_dom_classes": [],
            "_model_module": "@jupyter-widgets/controls",
            "_model_module_version": "1.5.0",
            "_model_name": "HTMLModel",
            "_view_count": null,
            "_view_module": "@jupyter-widgets/controls",
            "_view_module_version": "1.5.0",
            "_view_name": "HTMLView",
            "description": "",
            "description_tooltip": null,
            "layout": "IPY_MODEL_1ec959b097544bd2870d6f0edcf63fab",
            "placeholder": "​",
            "style": "IPY_MODEL_705c88db35cd41ca83249ce04004527c",
            "value": " 4/4 [00:20&lt;00:00,  1.74s/it]"
          }
        },
        "24bdf77d34c645f9bcdf4604d6b26e39": {
          "model_module": "@jupyter-widgets/base",
          "model_name": "LayoutModel",
          "model_module_version": "1.2.0",
          "state": {
            "_model_module": "@jupyter-widgets/base",
            "_model_module_version": "1.2.0",
            "_model_name": "LayoutModel",
            "_view_count": null,
            "_view_module": "@jupyter-widgets/base",
            "_view_module_version": "1.2.0",
            "_view_name": "LayoutView",
            "align_content": null,
            "align_items": null,
            "align_self": null,
            "border": null,
            "bottom": null,
            "display": null,
            "flex": null,
            "flex_flow": null,
            "grid_area": null,
            "grid_auto_columns": null,
            "grid_auto_flow": null,
            "grid_auto_rows": null,
            "grid_column": null,
            "grid_gap": null,
            "grid_row": null,
            "grid_template_areas": null,
            "grid_template_columns": null,
            "grid_template_rows": null,
            "height": null,
            "justify_content": null,
            "justify_items": null,
            "left": null,
            "margin": null,
            "max_height": null,
            "max_width": null,
            "min_height": null,
            "min_width": null,
            "object_fit": null,
            "object_position": null,
            "order": null,
            "overflow": null,
            "overflow_x": null,
            "overflow_y": null,
            "padding": null,
            "right": null,
            "top": null,
            "visibility": null,
            "width": null
          }
        },
        "f9c310885fb64766858619cccfb0c98a": {
          "model_module": "@jupyter-widgets/base",
          "model_name": "LayoutModel",
          "model_module_version": "1.2.0",
          "state": {
            "_model_module": "@jupyter-widgets/base",
            "_model_module_version": "1.2.0",
            "_model_name": "LayoutModel",
            "_view_count": null,
            "_view_module": "@jupyter-widgets/base",
            "_view_module_version": "1.2.0",
            "_view_name": "LayoutView",
            "align_content": null,
            "align_items": null,
            "align_self": null,
            "border": null,
            "bottom": null,
            "display": null,
            "flex": null,
            "flex_flow": null,
            "grid_area": null,
            "grid_auto_columns": null,
            "grid_auto_flow": null,
            "grid_auto_rows": null,
            "grid_column": null,
            "grid_gap": null,
            "grid_row": null,
            "grid_template_areas": null,
            "grid_template_columns": null,
            "grid_template_rows": null,
            "height": null,
            "justify_content": null,
            "justify_items": null,
            "left": null,
            "margin": null,
            "max_height": null,
            "max_width": null,
            "min_height": null,
            "min_width": null,
            "object_fit": null,
            "object_position": null,
            "order": null,
            "overflow": null,
            "overflow_x": null,
            "overflow_y": null,
            "padding": null,
            "right": null,
            "top": null,
            "visibility": null,
            "width": null
          }
        },
        "915c5d0f6ced4edf8056f041ed775888": {
          "model_module": "@jupyter-widgets/controls",
          "model_name": "DescriptionStyleModel",
          "model_module_version": "1.5.0",
          "state": {
            "_model_module": "@jupyter-widgets/controls",
            "_model_module_version": "1.5.0",
            "_model_name": "DescriptionStyleModel",
            "_view_count": null,
            "_view_module": "@jupyter-widgets/base",
            "_view_module_version": "1.2.0",
            "_view_name": "StyleView",
            "description_width": ""
          }
        },
        "f1d51a1ee1dc4ac59d43058642db0621": {
          "model_module": "@jupyter-widgets/base",
          "model_name": "LayoutModel",
          "model_module_version": "1.2.0",
          "state": {
            "_model_module": "@jupyter-widgets/base",
            "_model_module_version": "1.2.0",
            "_model_name": "LayoutModel",
            "_view_count": null,
            "_view_module": "@jupyter-widgets/base",
            "_view_module_version": "1.2.0",
            "_view_name": "LayoutView",
            "align_content": null,
            "align_items": null,
            "align_self": null,
            "border": null,
            "bottom": null,
            "display": null,
            "flex": null,
            "flex_flow": null,
            "grid_area": null,
            "grid_auto_columns": null,
            "grid_auto_flow": null,
            "grid_auto_rows": null,
            "grid_column": null,
            "grid_gap": null,
            "grid_row": null,
            "grid_template_areas": null,
            "grid_template_columns": null,
            "grid_template_rows": null,
            "height": null,
            "justify_content": null,
            "justify_items": null,
            "left": null,
            "margin": null,
            "max_height": null,
            "max_width": null,
            "min_height": null,
            "min_width": null,
            "object_fit": null,
            "object_position": null,
            "order": null,
            "overflow": null,
            "overflow_x": null,
            "overflow_y": null,
            "padding": null,
            "right": null,
            "top": null,
            "visibility": null,
            "width": null
          }
        },
        "34767962bcb44c5f8c3eac502eca2994": {
          "model_module": "@jupyter-widgets/controls",
          "model_name": "ProgressStyleModel",
          "model_module_version": "1.5.0",
          "state": {
            "_model_module": "@jupyter-widgets/controls",
            "_model_module_version": "1.5.0",
            "_model_name": "ProgressStyleModel",
            "_view_count": null,
            "_view_module": "@jupyter-widgets/base",
            "_view_module_version": "1.2.0",
            "_view_name": "StyleView",
            "bar_color": null,
            "description_width": ""
          }
        },
        "1ec959b097544bd2870d6f0edcf63fab": {
          "model_module": "@jupyter-widgets/base",
          "model_name": "LayoutModel",
          "model_module_version": "1.2.0",
          "state": {
            "_model_module": "@jupyter-widgets/base",
            "_model_module_version": "1.2.0",
            "_model_name": "LayoutModel",
            "_view_count": null,
            "_view_module": "@jupyter-widgets/base",
            "_view_module_version": "1.2.0",
            "_view_name": "LayoutView",
            "align_content": null,
            "align_items": null,
            "align_self": null,
            "border": null,
            "bottom": null,
            "display": null,
            "flex": null,
            "flex_flow": null,
            "grid_area": null,
            "grid_auto_columns": null,
            "grid_auto_flow": null,
            "grid_auto_rows": null,
            "grid_column": null,
            "grid_gap": null,
            "grid_row": null,
            "grid_template_areas": null,
            "grid_template_columns": null,
            "grid_template_rows": null,
            "height": null,
            "justify_content": null,
            "justify_items": null,
            "left": null,
            "margin": null,
            "max_height": null,
            "max_width": null,
            "min_height": null,
            "min_width": null,
            "object_fit": null,
            "object_position": null,
            "order": null,
            "overflow": null,
            "overflow_x": null,
            "overflow_y": null,
            "padding": null,
            "right": null,
            "top": null,
            "visibility": null,
            "width": null
          }
        },
        "705c88db35cd41ca83249ce04004527c": {
          "model_module": "@jupyter-widgets/controls",
          "model_name": "DescriptionStyleModel",
          "model_module_version": "1.5.0",
          "state": {
            "_model_module": "@jupyter-widgets/controls",
            "_model_module_version": "1.5.0",
            "_model_name": "DescriptionStyleModel",
            "_view_count": null,
            "_view_module": "@jupyter-widgets/base",
            "_view_module_version": "1.2.0",
            "_view_name": "StyleView",
            "description_width": ""
          }
        }
      }
    }
  },
  "nbformat": 4,
  "nbformat_minor": 0
}