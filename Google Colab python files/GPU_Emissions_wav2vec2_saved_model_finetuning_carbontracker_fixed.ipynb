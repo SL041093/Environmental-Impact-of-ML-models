{
  "cells": [
    {
      "cell_type": "markdown",
      "metadata": {
        "id": "yCs7P9JTMlzV"
      },
      "source": [
        "##### Copyright 2021 The TensorFlow Hub Authors.\n",
        "\n",
        "Licensed under the Apache License, Version 2.0 (the \"License\");"
      ]
    },
    {
      "cell_type": "code",
      "execution_count": 1,
      "metadata": {
        "id": "Jqn-HYw-Mkea"
      },
      "outputs": [],
      "source": [
        "#@title Copyright 2021 The TensorFlow Hub Authors. All Rights Reserved.\n",
        "#\n",
        "# Licensed under the Apache License, Version 2.0 (the \"License\");\n",
        "# you may not use this file except in compliance with the License.\n",
        "# You may obtain a copy of the License at\n",
        "#\n",
        "#     http://www.apache.org/licenses/LICENSE-2.0\n",
        "#\n",
        "# Unless required by applicable law or agreed to in writing, software\n",
        "# distributed under the License is distributed on an \"AS IS\" BASIS,\n",
        "# WITHOUT WARRANTIES OR CONDITIONS OF ANY KIND, either express or implied.\n",
        "# See the License for the specific language governing permissions and\n",
        "# limitations under the License.\n",
        "# =============================================================================="
      ]
    },
    {
      "cell_type": "markdown",
      "metadata": {
        "id": "stRetE8gMlmZ"
      },
      "source": [
        "<table class=\"tfo-notebook-buttons\" align=\"left\">\n",
        "  <td>\n",
        "    <a target=\"_blank\" href=\"https://www.tensorflow.org/hub/tutorials/wav2vec2_saved_model_finetuning\"><img src=\"https://www.tensorflow.org/images/tf_logo_32px.png\" />View on TensorFlow.org</a>\n",
        "  </td>\n",
        "  <td>\n",
        "    <a target=\"_blank\" href=\"https://colab.research.google.com/github/tensorflow/docs/blob/master/site/en/hub/tutorials/wav2vec2_saved_model_finetuning.ipynb\"><img src=\"https://www.tensorflow.org/images/colab_logo_32px.png\" />Run in Google Colab</a>\n",
        "  </td>\n",
        "  <td>\n",
        "    <a target=\"_blank\" href=\"https://github.com/tensorflow/docs/blob/master/site/en/hub/tutorials/wav2vec2_saved_model_finetuning.ipynb\"><img src=\"https://www.tensorflow.org/images/GitHub-Mark-32px.png\" />View on GitHub</a>\n",
        "  </td>\n",
        "  <td>\n",
        "    <a href=\"https://storage.googleapis.com/tensorflow_docs/docs/site/en/hub/tutorials/wav2vec2_saved_model_finetuning.ipynb\"><img src=\"https://www.tensorflow.org/images/download_logo_32px.png\" />Download notebook</a>\n",
        "  </td>\n",
        "  <td>\n",
        "    <a href=\"https://tfhub.dev/vasudevgupta7/wav2vec2/1\"><img src=\"https://www.tensorflow.org/images/hub_logo_32px.png\" />See TF Hub model</a>\n",
        "  </td>\n",
        "</table>"
      ]
    },
    {
      "cell_type": "markdown",
      "metadata": {
        "id": "ndG8MjmJeicp"
      },
      "source": [
        "# Fine-tuning Wav2Vec2 with an LM head\n",
        "\n",
        "In this notebook, we will load the pre-trained wav2vec2 model from [TFHub](https://tfhub.dev) and will fine-tune it on [LibriSpeech dataset](https://huggingface.co/datasets/librispeech_asr) by appending Language Modeling head (LM) over the top of our pre-trained model. The underlying task is to build a model for **Automatic Speech Recognition** i.e. given some speech, the model should be able to transcribe it into text."
      ]
    },
    {
      "cell_type": "markdown",
      "metadata": {
        "id": "rWk8nL6Ui-_0"
      },
      "source": [
        "## Setting Up\n",
        "\n",
        "Before running this notebook, please ensure that you are on GPU runtime (`Runtime` > `Change runtime type` > `GPU`). The following cell will install [`gsoc-wav2vec2`](https://github.com/vasudevgupta7/gsoc-wav2vec2) package & its dependencies."
      ]
    },
    {
      "cell_type": "code",
      "execution_count": 2,
      "metadata": {
        "id": "seqTlMyeZvM4",
        "colab": {
          "base_uri": "https://localhost:8080/"
        },
        "outputId": "ee368d48-3f95-4d29-ee41-89d1024d821b"
      },
      "outputs": [
        {
          "output_type": "stream",
          "name": "stdout",
          "text": [
            "  Preparing metadata (setup.py) ... \u001b[?25l\u001b[?25hdone\n",
            "\u001b[2K   \u001b[90m\u2501\u2501\u2501\u2501\u2501\u2501\u2501\u2501\u2501\u2501\u2501\u2501\u2501\u2501\u2501\u2501\u2501\u2501\u2501\u2501\u2501\u2501\u2501\u2501\u2501\u2501\u2501\u2501\u2501\u2501\u2501\u2501\u2501\u2501\u2501\u2501\u2501\u2501\u2501\u2501\u001b[0m \u001b[32m3.1/3.1 MB\u001b[0m \u001b[31m17.9 MB/s\u001b[0m eta \u001b[36m0:00:00\u001b[0m\n",
            "\u001b[?25h  Building wheel for wav2vec2 (setup.py) ... \u001b[?25l\u001b[?25hdone\n",
            "Reading package lists... Done\n",
            "Building dependency tree... Done\n",
            "Reading state information... Done\n",
            "libsndfile1-dev is already the newest version (1.0.31-2ubuntu0.2).\n",
            "0 upgraded, 0 newly installed, 0 to remove and 34 not upgraded.\n"
          ]
        }
      ],
      "source": [
        "!pip3 install -q git+https://github.com/vasudevgupta7/gsoc-wav2vec2@main\n",
        "!sudo apt-get install -y libsndfile1-dev\n",
        "!pip3 install -q SoundFile"
      ]
    },
    {
      "cell_type": "markdown",
      "metadata": {
        "id": "wvuJL8-f0zn5"
      },
      "source": [
        "## Model setup using `TFHub`\n",
        "\n",
        "We will start by importing some libraries/modules."
      ]
    },
    {
      "cell_type": "code",
      "execution_count": 3,
      "metadata": {
        "id": "M3_fgx4eZvM7",
        "colab": {
          "base_uri": "https://localhost:8080/"
        },
        "outputId": "03b662ba-fe7b-4a4a-a240-95eb832dfcca"
      },
      "outputs": [
        {
          "output_type": "stream",
          "name": "stdout",
          "text": [
            "TF version: 2.18.0\n"
          ]
        }
      ],
      "source": [
        "import os\n",
        "\n",
        "import tensorflow as tf\n",
        "import tensorflow_hub as hub\n",
        "from wav2vec2 import Wav2Vec2Config\n",
        "\n",
        "config = Wav2Vec2Config()\n",
        "\n",
        "print(\"TF version:\", tf.__version__)"
      ]
    },
    {
      "cell_type": "code",
      "source": [
        "import keras"
      ],
      "metadata": {
        "id": "OIiqrxZUSTdR"
      },
      "execution_count": 4,
      "outputs": []
    },
    {
      "cell_type": "code",
      "source": [
        "# Use Keras 2.\n",
        "version_fn = getattr(keras, \"version\", None)\n",
        "if version_fn and version_fn().startswith(\"3.\"):\n",
        "  import tf_keras as keras\n",
        "else:\n",
        "  keras = tf.keras"
      ],
      "metadata": {
        "id": "i1IWxFosSZls"
      },
      "execution_count": 5,
      "outputs": []
    },
    {
      "cell_type": "markdown",
      "metadata": {
        "id": "y0rVUxyWsS5f"
      },
      "source": [
        "First, we will download our model from TFHub & will wrap our model signature with [`hub.KerasLayer`](https://www.tensorflow.org/hub/api_docs/python/hub/KerasLayer) to be able to use this model like any other Keras layer. Fortunately, `hub.KerasLayer` can do both in just 1 line.\n",
        "\n",
        "**Note:** When loading model with `hub.KerasLayer`, model becomes a bit opaque but sometimes we need finer controls over the model, then we can load the model with `tf.keras.models.load_model(...)`."
      ]
    },
    {
      "cell_type": "code",
      "execution_count": 6,
      "metadata": {
        "id": "NO6QRC7KZvM9"
      },
      "outputs": [],
      "source": [
        "pretrained_layer = hub.KerasLayer(\"https://tfhub.dev/vasudevgupta7/wav2vec2/1\", trainable=True)"
      ]
    },
    {
      "cell_type": "markdown",
      "metadata": {
        "id": "pCputyVBv2e9"
      },
      "source": [
        "You can refer to this [script](https://github.com/vasudevgupta7/gsoc-wav2vec2/blob/main/src/export2hub.py) in case you are interested in the model exporting script. Object `pretrained_layer` is the freezed version of [`Wav2Vec2Model`](https://github.com/vasudevgupta7/gsoc-wav2vec2/blob/main/src/wav2vec2/modeling.py). These pre-trained weights were converted from HuggingFace PyTorch [pre-trained weights](https://huggingface.co/facebook/wav2vec2-base) using [this script](https://github.com/vasudevgupta7/gsoc-wav2vec2/blob/main/src/convert_torch_to_tf.py).\n",
        "\n",
        "Originally, wav2vec2 was pre-trained with a masked language modelling approach with the objective to identify the true quantized latent speech representation for a masked time step. You can read more about the training objective in the paper- [wav2vec 2.0: A Framework for Self-Supervised Learning of Speech Representations](https://arxiv.org/abs/2006.11477)."
      ]
    },
    {
      "cell_type": "markdown",
      "metadata": {
        "id": "SseDnCr7hyhC"
      },
      "source": [
        "Now, we will be defining a few constants and hyper-parameters which will be useful in the next few cells. `AUDIO_MAXLEN` is intentionally set to `246000` as the model signature only accepts static sequence length of `246000`."
      ]
    },
    {
      "cell_type": "code",
      "execution_count": 7,
      "metadata": {
        "id": "eiILuMBERxlO"
      },
      "outputs": [],
      "source": [
        "AUDIO_MAXLEN = 246000\n",
        "LABEL_MAXLEN = 256\n",
        "BATCH_SIZE = 2"
      ]
    },
    {
      "cell_type": "markdown",
      "metadata": {
        "id": "1V4gTgGLgXvO"
      },
      "source": [
        "In the following cell, we will wrap `pretrained_layer` & a dense layer (LM head) with the [Keras's Functional API](https://www.tensorflow.org/guide/keras/functional)."
      ]
    },
    {
      "cell_type": "code",
      "execution_count": 8,
      "metadata": {
        "id": "a3CUN1KEB10Q"
      },
      "outputs": [],
      "source": [
        "inputs = keras.Input(shape=(AUDIO_MAXLEN,))\n",
        "hidden_states = pretrained_layer(inputs)\n",
        "outputs = keras.layers.Dense(config.vocab_size)(hidden_states)\n",
        "\n",
        "model = keras.Model(inputs=inputs, outputs=outputs)"
      ]
    },
    {
      "cell_type": "markdown",
      "metadata": {
        "id": "5zDXuoMXhDMo"
      },
      "source": [
        "The dense layer (defined above) is having an output dimension of `vocab_size` as we want to predict probabilities of each token in the vocabulary at each time step."
      ]
    },
    {
      "cell_type": "markdown",
      "metadata": {
        "id": "oPp18ZHRtnq-"
      },
      "source": [
        "## Setting up training state"
      ]
    },
    {
      "cell_type": "markdown",
      "metadata": {
        "id": "ATQy1ZK3vFr7"
      },
      "source": [
        "In TensorFlow, model weights are built only when `model.call` or `model.build` is called for the first time, so the following cell will build the model weights for us. Further, we will be running `model.summary()` to check the total number of trainable parameters."
      ]
    },
    {
      "cell_type": "code",
      "execution_count": 9,
      "metadata": {
        "id": "ZgL5wyaXZvM-",
        "colab": {
          "base_uri": "https://localhost:8080/"
        },
        "outputId": "e9410094-3b19-450c-8759-411583174f77"
      },
      "outputs": [
        {
          "output_type": "stream",
          "name": "stdout",
          "text": [
            "Model: \"model\"\n",
            "_________________________________________________________________\n",
            " Layer (type)                Output Shape              Param #   \n",
            "=================================================================\n",
            " input_1 (InputLayer)        [(None, 246000)]          0         \n",
            "                                                                 \n",
            " keras_layer (KerasLayer)    (None, 768, 768)          94371712  \n",
            "                                                                 \n",
            " dense (Dense)               (None, 768, 32)           24608     \n",
            "                                                                 \n",
            "=================================================================\n",
            "Total params: 94396320 (360.09 MB)\n",
            "Trainable params: 94396320 (360.09 MB)\n",
            "Non-trainable params: 0 (0.00 Byte)\n",
            "_________________________________________________________________\n"
          ]
        }
      ],
      "source": [
        "model(tf.random.uniform(shape=(BATCH_SIZE, AUDIO_MAXLEN)))\n",
        "model.summary()"
      ]
    },
    {
      "cell_type": "markdown",
      "metadata": {
        "id": "EQxxA4Fevp7m"
      },
      "source": [
        "Now, we need to define the `loss_fn` and optimizer to be able to train the model. The following cell will do that for us. We will be using the `Adam` optimizer for simplicity. `CTCLoss` is a common loss type that is used for tasks (like `ASR`) where input sub-parts can't be easily aligned with output sub-parts. You can read more about CTC-loss from this amazing [blog post](https://distill.pub/2017/ctc/).\n",
        "\n",
        "\n",
        "`CTCLoss` (from [`gsoc-wav2vec2`](https://github.com/vasudevgupta7/gsoc-wav2vec2) package) accepts 3 arguments: `config`, `model_input_shape` & `division_factor`. If `division_factor=1`, then loss will simply get summed, so pass `division_factor` accordingly to get mean over batch."
      ]
    },
    {
      "cell_type": "code",
      "execution_count": 10,
      "metadata": {
        "id": "glDepVEHZvM_"
      },
      "outputs": [],
      "source": [
        "from wav2vec2 import CTCLoss\n",
        "\n",
        "LEARNING_RATE = 5e-5\n",
        "\n",
        "class CustomLoss(CTCLoss):\n",
        "  def _init_(self, config, model_input_shape, division_factor=1):\n",
        "    super()._init_(config, model_input_shape, division_factor)\n",
        "  def call(self, y_true, y_pred):\n",
        "    #print('CustomLoss call()')\n",
        "    #print(type(y_true), type(y_pred))\n",
        "    y_true = tf.cast(y_true, tf.int32)\n",
        "    return super().call(y_true, y_pred)\n",
        "\n",
        "loss_fn = CustomLoss(config, (BATCH_SIZE, AUDIO_MAXLEN), division_factor=BATCH_SIZE)\n",
        "optimizer = keras.optimizers.Adam(LEARNING_RATE)\n",
        "\n",
        "#loss_fn = CTCLoss(config, (BATCH_SIZE, AUDIO_MAXLEN), division_factor=BATCH_SIZE)\n",
        "#optimizer = tf.keras.optimizers.Adam(LEARNING_RATE)"
      ]
    },
    {
      "cell_type": "markdown",
      "metadata": {
        "id": "1mvTuOXpwsQe"
      },
      "source": [
        "## Loading & Pre-processing data\n",
        "\n",
        "Let's now download the LibriSpeech dataset from the [official website](http://www.openslr.org/12) and set it up."
      ]
    },
    {
      "cell_type": "code",
      "execution_count": 11,
      "metadata": {
        "id": "I4kIEC77cBCM",
        "colab": {
          "base_uri": "https://localhost:8080/"
        },
        "outputId": "09ba575b-76f6-47dd-8a8d-95d26094b5d5"
      },
      "outputs": [
        {
          "output_type": "stream",
          "name": "stdout",
          "text": [
            "--2025-05-01 20:53:48--  https://www.openslr.org/resources/12/dev-clean.tar.gz\n",
            "Resolving www.openslr.org (www.openslr.org)... 46.101.158.64\n",
            "Connecting to www.openslr.org (www.openslr.org)|46.101.158.64|:443... connected.\n",
            "HTTP request sent, awaiting response... 302 Found\n",
            "Location: https://openslr.elda.org/resources/12/dev-clean.tar.gz [following]\n",
            "--2025-05-01 20:53:49--  https://openslr.elda.org/resources/12/dev-clean.tar.gz\n",
            "Resolving openslr.elda.org (openslr.elda.org)... 141.94.109.138, 2001:41d0:203:ad8a::\n",
            "Connecting to openslr.elda.org (openslr.elda.org)|141.94.109.138|:443... connected.\n",
            "HTTP request sent, awaiting response... 200 OK\n",
            "Length: 337926286 (322M) [application/x-gzip]\n",
            "Saving to: \u2018./data/train/dev-clean.tar.gz\u2019\n",
            "\n",
            "dev-clean.tar.gz    100%[===================>] 322.27M  22.3MB/s    in 16s     \n",
            "\n",
            "2025-05-01 20:54:06 (20.4 MB/s) - \u2018./data/train/dev-clean.tar.gz\u2019 saved [337926286/337926286]\n",
            "\n"
          ]
        }
      ],
      "source": [
        "!wget https://www.openslr.org/resources/12/dev-clean.tar.gz -P ./data/train/\n",
        "!tar -xf ./data/train/dev-clean.tar.gz -C ./data/train/"
      ]
    },
    {
      "cell_type": "markdown",
      "metadata": {
        "id": "LsQpmpn6jrMI"
      },
      "source": [
        "**Note:** We are using `dev-clean` configuration as this notebook is just for demonstration purposes, so we need a small amount of data. Complete training data can be easily downloaded from [LibriSpeech website](http://www.openslr.org/12)."
      ]
    },
    {
      "cell_type": "code",
      "execution_count": 12,
      "metadata": {
        "id": "ynxAjtGHGFpM",
        "colab": {
          "base_uri": "https://localhost:8080/"
        },
        "outputId": "8d2526f0-1f72-4f19-a1e0-a712f1b6c066"
      },
      "outputs": [
        {
          "output_type": "stream",
          "name": "stdout",
          "text": [
            "dev-clean.tar.gz  \u001b[0m\u001b[01;34mLibriSpeech\u001b[0m/\n"
          ]
        }
      ],
      "source": [
        "ls ./data/train/"
      ]
    },
    {
      "cell_type": "markdown",
      "metadata": {
        "id": "yBMiORo0xJD0"
      },
      "source": [
        "Our dataset lies in the LibriSpeech directory. Let's explore these files."
      ]
    },
    {
      "cell_type": "code",
      "execution_count": 13,
      "metadata": {
        "id": "jkIu_Wt4ZvNA",
        "colab": {
          "base_uri": "https://localhost:8080/"
        },
        "outputId": "ce674682-cada-4823-dfe0-e3a86a853111"
      },
      "outputs": [
        {
          "output_type": "stream",
          "name": "stdout",
          "text": [
            "Transcription files: ['2428-83705.trans.txt'] \n",
            "Sound files: ['2428-83705-0016.flac', '2428-83705-0031.flac', '2428-83705-0037.flac', '2428-83705-0033.flac', '2428-83705-0005.flac', '2428-83705-0038.flac', '2428-83705-0034.flac', '2428-83705-0013.flac', '2428-83705-0011.flac', '2428-83705-0017.flac', '2428-83705-0029.flac', '2428-83705-0023.flac', '2428-83705-0002.flac', '2428-83705-0021.flac', '2428-83705-0024.flac', '2428-83705-0043.flac', '2428-83705-0015.flac', '2428-83705-0028.flac', '2428-83705-0027.flac', '2428-83705-0039.flac', '2428-83705-0008.flac', '2428-83705-0042.flac', '2428-83705-0020.flac', '2428-83705-0018.flac', '2428-83705-0022.flac', '2428-83705-0036.flac', '2428-83705-0025.flac', '2428-83705-0041.flac', '2428-83705-0004.flac', '2428-83705-0014.flac', '2428-83705-0006.flac', '2428-83705-0003.flac', '2428-83705-0007.flac', '2428-83705-0010.flac', '2428-83705-0012.flac', '2428-83705-0030.flac', '2428-83705-0026.flac', '2428-83705-0032.flac', '2428-83705-0000.flac', '2428-83705-0019.flac', '2428-83705-0040.flac', '2428-83705-0035.flac', '2428-83705-0009.flac', '2428-83705-0001.flac']\n"
          ]
        }
      ],
      "source": [
        "data_dir = \"./data/train/LibriSpeech/dev-clean/2428/83705/\"\n",
        "all_files = os.listdir(data_dir)\n",
        "\n",
        "flac_files = [f for f in all_files if f.endswith(\".flac\")]\n",
        "txt_files = [f for f in all_files if f.endswith(\".txt\")]\n",
        "\n",
        "print(\"Transcription files:\", txt_files, \"\\nSound files:\", flac_files)"
      ]
    },
    {
      "cell_type": "markdown",
      "metadata": {
        "id": "XEObi_Apk3ZD"
      },
      "source": [
        "Alright, so each sub-directory has many `.flac` files and a `.txt` file. The `.txt` file contains text transcriptions for all the speech samples (i.e. `.flac` files) present in that sub-directory."
      ]
    },
    {
      "cell_type": "markdown",
      "metadata": {
        "id": "WYW6WKJflO2e"
      },
      "source": [
        "We can load this text data as follows:"
      ]
    },
    {
      "cell_type": "code",
      "execution_count": 14,
      "metadata": {
        "id": "cEBKxQblHPwq"
      },
      "outputs": [],
      "source": [
        "def read_txt_file(f):\n",
        "  with open(f, \"r\") as f:\n",
        "    samples = f.read().split(\"\\n\")\n",
        "    samples = {s.split()[0]: \" \".join(s.split()[1:]) for s in samples if len(s.split()) > 2}\n",
        "  return samples"
      ]
    },
    {
      "cell_type": "markdown",
      "metadata": {
        "id": "Ldkf_ceb0_YW"
      },
      "source": [
        "Similarly, we will define a function for loading a speech sample from a `.flac` file.\n",
        "\n",
        "`REQUIRED_SAMPLE_RATE` is set to `16000` as wav2vec2 was pre-trained with `16K` frequency and it's recommended to fine-tune it without any major change in data distribution due to frequency."
      ]
    },
    {
      "cell_type": "code",
      "execution_count": 15,
      "metadata": {
        "id": "YOJ3OzPsTyXv"
      },
      "outputs": [],
      "source": [
        "import soundfile as sf\n",
        "\n",
        "REQUIRED_SAMPLE_RATE = 16000\n",
        "\n",
        "def read_flac_file(file_path):\n",
        "  with open(file_path, \"rb\") as f:\n",
        "      audio, sample_rate = sf.read(f)\n",
        "  if sample_rate != REQUIRED_SAMPLE_RATE:\n",
        "      raise ValueError(\n",
        "          f\"sample rate (={sample_rate}) of your files must be {REQUIRED_SAMPLE_RATE}\"\n",
        "      )\n",
        "  file_id = os.path.split(file_path)[-1][:-len(\".flac\")]\n",
        "  return {file_id: audio}"
      ]
    },
    {
      "cell_type": "markdown",
      "metadata": {
        "id": "2sxDN8P4nWkW"
      },
      "source": [
        "Now, we will pick some random samples & will try to visualize them."
      ]
    },
    {
      "cell_type": "code",
      "execution_count": 16,
      "metadata": {
        "id": "HI5J-2Dfm_wT",
        "colab": {
          "base_uri": "https://localhost:8080/",
          "height": 111
        },
        "outputId": "4ee24927-a785-48e3-e395-ff0c2556752d"
      },
      "outputs": [
        {
          "output_type": "stream",
          "name": "stdout",
          "text": [
            "Text Transcription: THERE SHE OWNS A COTTAGE OR IT MAY BE A PIGSTYE FOR ALL I KNOW \n",
            "Audio:\n"
          ]
        },
        {
          "output_type": "execute_result",
          "data": {
            "text/plain": [
              "<IPython.lib.display.Audio object>"
            ],
            "text/html": [
              "\n",
              "                <audio  controls=\"controls\" >\n",
              "                    <source src=\"data:audio/flac;base64,ZkxhQwAAACIQABAAAAJ3ABeTA+gA8AABBKCQ6D9LXGXyx3B0fBVui8jdAwAAEgAAAAAAAAAAAAAAAAAAAAAQAAQAACggAAAAcmVmZXJlbmNlIGxpYkZMQUMgMS4yLjEgMjAwNzA5MTcAAAAAgQAgAAAAAAAAAAAAAAAAAAAAAAAAAAAAAAAAAAAAAAAAAAAAAAAAAAAAAAAAAAAAAAAAAAAAAAAAAAAAAAAAAAAAAAAAAAAAAAAAAAAAAAAAAAAAAAAAAAAAAAAAAAAAAAAAAAAAAAAAAAAAAAAAAAAAAAAAAAAAAAAAAAAAAAAAAAAAAAAAAAAAAAAAAAAAAAAAAAAAAAAAAAAAAAAAAAAAAAAAAAAAAAAAAAAAAAAAAAAAAAAAAAAAAAAAAAAAAAAAAAAAAAAAAAAAAAAAAAAAAAAAAAAAAAAAAAAAAAAAAAAAAAAAAAAAAAAAAAAAAAAAAAAAAAAAAAAAAAAAAAAAAAAAAAAAAAAAAAAAAAAAAAAAAAAAAAAAAAAAAAAAAAAAAAAAAAAAAAAAAAAAAAAAAAAAAAAAAAAAAAAAAAAAAAAAAAAAAAAAAAAAAAAAAAAAAAAAAAAAAAAAAAAAAAAAAAAAAAAAAAAAAAAAAAAAAAAAAAAAAAAAAAAAAAAAAAAAAAAAAAAAAAAAAAAAAAAAAAAAAAAAAAAAAAAAAAAAAAAAAAAAAAAAAAAAAAAAAAAAAAAAAAAAAAAAAAAAAAAAAAAAAAAAAAAAAAAAAAAAAAAAAAAAAAAAAAAAAAAAAAAAAAAAAAAAAAAAAAAAAAAAAAAAAAAAAAAAAAAAAAAAAAAAAAAAAAAAAAAAAAAAAAAAAAAAAAAAAAAAAAAAAAAAAAAAAAAAAAAAAAAAAAAAAAAAAAAAAAAAAAAAAAAAAAAAAAAAAAAAAAAAAAAAAAAAAAAAAAAAAAAAAAAAAAAAAAAAAAAAAAAAAAAAAAAAAAAAAAAAAAAAAAAAAAAAAAAAAAAAAAAAAAAAAAAAAAAAAAAAAAAAAAAAAAAAAAAAAAAAAAAAAAAAAAAAAAAAAAAAAAAAAAAAAAAAAAAAAAAAAAAAAAAAAAAAAAAAAAAAAAAAAAAAAAAAAAAAAAAAAAAAAAAAAAAAAAAAAAAAAAAAAAAAAAAAAAAAAAAAAAAAAAAAAAAAAAAAAAAAAAAAAAAAAAAAAAAAAAAAAAAAAAAAAAAAAAAAAAAAAAAAAAAAAAAAAAAAAAAAAAAAAAAAAAAAAAAAAAAAAAAAAAAAAAAAAAAAAAAAAAAAAAAAAAAAAAAAAAAAAAAAAAAAAAAAAAAAAAAAAAAAAAAAAAAAAAAAAAAAAAAAAAAAAAAAAAAAAAAAAAAAAAAAAAAAAAAAAAAAAAAAAAAAAAAAAAAAAAAAAAAAAAAAAAAAAAAAAAAAAAAAAAAAAAAAAAAAAAAAAAAAAAAAAAAAAAAAAAAAAAAAAAAAAAAAAAAAAAAAAAAAAAAAAAAAAAAAAAAAAAAAAAAAAAAAAAAAAAAAAAAAAAAAAAAAAAAAAAAAAAAAAAAAAAAAAAAAAAAAAAAAAAAAAAAAAAAAAAAAAAAAAAAAAAAAAAAAAAAAAAAAAAAAAAAAAAAAAAAAAAAAAAAAAAAAAAAAAAAAAAAAAAAAAAAAAAAAAAAAAAAAAAAAAAAAAAAAAAAAAAAAAAAAAAAAAAAAAAAAAAAAAAAAAAAAAAAAAAAAAAAAAAAAAAAAAAAAAAAAAAAAAAAAAAAAAAAAAAAAAAAAAAAAAAAAAAAAAAAAAAAAAAAAAAAAAAAAAAAAAAAAAAAAAAAAAAAAAAAAAAAAAAAAAAAAAAAAAAAAAAAAAAAAAAAAAAAAAAAAAAAAAAAAAAAAAAAAAAAAAAAAAAAAAAAAAAAAAAAAAAAAAAAAAAAAAAAAAAAAAAAAAAAAAAAAAAAAAAAAAAAAAAAAAAAAAAAAAAAAAAAAAAAAAAAAAAAAAAAAAAAAAAAAAAAAAAAAAAAAAAAAAAAAAAAAAAAAAAAAAAAAAAAAAAAAAAAAAAAAAAAAAAAAAAAAAAAAAAAAAAAAAAAAAAAAAAAAAAAAAAAAAAAAAAAAAAAAAAAAAAAAAAAAAAAAAAAAAAAAAAAAAAAAAAAAAAAAAAAAAAAAAAAAAAAAAAAAAAAAAAAAAAAAAAAAAAAAAAAAAAAAAAAAAAAAAAAAAAAAAAAAAAAAAAAAAAAAAAAAAAAAAAAAAAAAAAAAAAAAAAAAAAAAAAAAAAAAAAAAAAAAAAAAAAAAAAAAAAAAAAAAAAAAAAAAAAAAAAAAAAAAAAAAAAAAAAAAAAAAAAAAAAAAAAAAAAAAAAAAAAAAAAAAAAAAAAAAAAAAAAAAAAAAAAAAAAAAAAAAAAAAAAAAAAAAAAAAAAAAAAAAAAAAAAAAAAAAAAAAAAAAAAAAAAAAAAAAAAAAAAAAAAAAAAAAAAAAAAAAAAAAAAAAAAAAAAAAAAAAAAAAAAAAAAAAAAAAAAAAAAAAAAAAAAAAAAAAAAAAAAAAAAAAAAAAAAAAAAAAAAAAAAAAAAAAAAAAAAAAAAAAAAAAAAAAAAAAAAAAAAAAAAAAAAAAAAAAAAAAAAAAAAAAAAAAAAAAAAAAAAAAAAAAAAAAAAAAAAAAAAAAAAAAAAAAAAAAAAAAAAAAAAAAAAAAAAAAAAAAAAAAAAAAAAAAAAAAAAAAAAAAAAAAAAAAAAAAAAAAAAAAAAAAAAAAAAAAAAAAAAAAAAAAAAAAAAAAAAAAAAAAAAAAAAAAAAAAAAAAAAAAAAAAAAAAAAAAAAAAAAAAAAAAAAAAAAAAAAAAAAAAAAAAAAAAAAAAAAAAAAAAAAAAAAAAAAAAAAAAAAAAAAAAAAAAAAAAAAAAAAAAAAAAAAAAAAAAAAAAAAAAAAAAAAAAAAAAAAAAAAAAAAAAAAAAAAAAAAAAAAAAAAAAAAAAAAAAAAAAAAAAAAAAAAAAAAAAAAAAAAAAAAAAAAAAAAAAAAAAAAAAAAAAAAAAAAAAAAAAAAAAAAAAAAAAAAAAAAAAAAAAAAAAAAAAAAAAAAAAAAAAAAAAAAAAAAAAAAAAAAAAAAAAAAAAAAAAAAAAAAAAAAAAAAAAAAAAAAAAAAAAAAAAAAAAAAAAAAAAAAAAAAAAAAAAAAAAAAAAAAAAAAAAAAAAAAAAAAAAAAAAAAAAAAAAAAAAAAAAAAAAAAAAAAAAAAAAAAAAAAAAAAAAAAAAAAAAAAAAAAAAAAAAAAAAAAAAAAAAAAAAAAAAAAAAAAAAAAAAAAAAAAAAAAAAAAAAAAAAAAAAAAAAAAAAAAAAAAAAAAAAAAAAAAAAAAAAAAAAAAAAAAAAAAAAAAAAAAAAAAAAAAAAAAAAAAAAAAAAAAAAAAAAAAAAAAAAAAAAAAAAAAAAAAAAAAAAAAAAAAAAAAAAAAAAAAAAAAAAAAAAAAAAAAAAAAAAAAAAAAAAAAAAAAAAAAAAAAAAAAAAAAAAAAAAAAAAAAAAAAAAAAAAAAAAAAAAAAAAAAAAAAAAAAAAAAAAAAAAAAAAAAAAAAAAAAAAAAAAAAAAAAAAAAAAAAAAAAAAAAAAAAAAAAAAAAAAAAAAAAAAAAAAAAAAAAAAAAAAAAAAAAAAAAAAAAAAAAAAAAAAAAAAAAAAAAAAAAAAAAAAAAAAAAAAAAAAAAAAAAAAAAAAAAAAAAAAAAAAAAAAAAAAAAAAAAAAAAAAAAAAAAAAAAAAAAAAAAAAAAAAAAAAAAAAAAAAAAAAAAAAAAAAAAAAAAAAAAAAAAAAAAAAAAAAAAAAAAAAAAAAAAAAAAAAAAAAAAAAAAAAAAAAAAAAAAAAAAAAAAAAAAAAAAAAAAAAAAAAAAAAAAAAAAAAAAAAAAAAAAAAAAAAAAAAAAAAAAAAAAAAAAAAAAAAAAAAAAAAAAAAAAAAAAAAAAAAAAAAAAAAAAAAAAAAAAAAAAAAAAAAAAAAAAAAAAAAAAAAAAAAAAAAAAAAAAAAAAAAAAAAAAAAAAAAAAAAAAAAAAAAAAAAAAAAAAAAAAAAAAAAAAAAAAAAAAAAAAAAAAAAAAAAAAAAAAAAAAAAAAAAAAAAAAAAAAAAAAAAAAAAAAAAAAAAAAAAAAAAAAAAAAAAAAAAAAAAAAAAAAAAAAAAAAAAAAAAAAAAAAAAAAAAAAAAAAAAAAAAAAAAAAAAAAAAAAAAAAAAAAAAAAAAAAAAAAAAAAAAAAAAAAAAAAAAAAAAAAAAAAAAAAAAAAAAAAAAAAAAAAAAAAAAAAAAAAAAAAAAAAAAAAAAAAAAAAAAAAAAAAAAAAAAAAAAAAAAAAAAAAAAAAAAAAAAAAAAAAAAAAAAAAAAAAAAAAAAAAAAAAAAAAAAAAAAAAAAAAAAAAAAAAAAAAAAAAAAAAAAAAAAAAAAAAAAAAAAAAAAAAAAAAAAAAAAAAAAAAAAAAAAAAAAAAAAAAAAAAAAAAAAAAAAAAAAAAAAAAAAAAAAAAAAAAAAAAAAAAAAAAAAAAAAAAAAAAAAAAAAAAAAAAAAAAAAAAAAAAAAAAAAAAAAAAAAAAAAAAAAAAAAAAAAAAAAAAAAAAAAAAAAAAAAAAAAAAAAAAAAAAAAAAAAAAAAAAAAAAAAAAAAAAAAAAAAAAAAAAAAAAAAAAAAAAAAAAAAAAAAAAAAAAAAAAAAAAAAAAAAAAAAAAAAAAAAAAAAAAAAAAAAAAAAAAAAAAAAAAAAAAAAAAAAAAAAAAAAAAAAAAAAAAAAAAAAAAAAAAAAAAAAAAAAAAAAAAAAAAAAAAAAAAAAAAAAAAAAAAAAAAAAAAAAAAAAAAAAAAAAAAAAAAAAAAAAAAAAAAAAAAAAAAAAAAAAAAAAAAAAAAAAAAAAAAAAAAAAAAAAAAAAAAAAAAAAAAAAAAAAAAAAAAAAAAAAAAAAAAAAAAAAAAAAAAAAAAAAAAAAAAAAAAAAAAAAAAAAAAAAAAAAAAAAAAAAAAAAAAAAAAAAAAAAAAAAAAAAAAAAAAAAAAAAAAAAAAAAAAAAAAAAAAAAAAAAAAAAAAAAAAAAAAAAAAAAAAAAAAAAAAAAAAAAAAAAAAAAAAAAAAAAAAAAAAAAAAAAAAAAAAAAAAAAAAAAAAAAAAAAAAAAAAAAAAAAAAAAAAAAAAAAAAAAAAAAAAAAAAAAAAAAAAAAAAAAAAAAAAAAAAAAAAAAAAAAAAAAAAAAAAAAAAAAAAAAAAAAAAAAAAAAAAAAAAAAAAAAAAAAAAAAAAAAAAAAAAAAAAAAAAAAAAAAAAAAAAAAAAAAAAAAAAAAAAAAAAAAAAAAAAAAAAAAAAAAAAAAAAAAAAAAAAAAAAAAAAAAAAAAAAAAAAAAAAAAAAAAAAAAAAAAAAAAAAAAAAAAAAAAAAAAAAAAAAAAAAAAAAAAAAAAAAAAAAAAAAAAAAAAAAAAAAAAAAAAAAAAAAAAAAAAAAAAAAAAAAAAAAAAAAAAAAAAAAAAAAAAAAAAAAAAAAAAAAAAAAAAAAAAAAAAAAAAAAAAAAAAAAAAAAAAAAAAAAAAAAAAAAAAAAAAAAAAAAAAAAAAAAAAAAAAAAAAAAAAAAAAAAAAAAAAAAAAAAAAAAAAAAAAAAAAAAAAAAAAAAAAAAAAAAAAAAAAAAAAAAAAAAAAAAAAAAAAAAAAAAAAAAAAAAAAAAAAAAAAAAAAAAAAAAAAAAAAAAAAAAAAAAAAAAAAAAAAAAAAAAAAAAAAAAAAAAAAAAAAAAAAAAAAAAAAAAAAAAAAAAAAAAAAAAAAAAAAAAAAAAAAAAAAAAAAAAAAAAAAAAAAAAAAAAAAAAAAAAAAAAAAAAAAAAAAAAAAAAAAAAAAAAAAAAAAAAAAAAAAAAAAAAAAAAAAAAAAAAAAAAAAAAAAAAAAAAAAAAAAAAAAAAAAAAAAAAAAAAAAAAAAAAAAAAAAAAAAAAAAAAAAAAAAAAAAAAAAAAAAAAAAAAAAAAAAAAAAAAAAAAAAAAAAAAAAAAAAAAAAAAAAAAAAAAAAAAAAAAAAAAAAAAAAAAAAAAAAAAAAAAAAAAAAAAAAAAAAAAAAAAAAAAAAAAAAAAAAAAAAAAAAAAAAAAAAAAAAAAAAAAAAAAAAAAAAAAAAAAAAAAAAAAAAAAAAAAAAAAAAAAAAAAAAAAAAAAAAAAAAAAAAAAAAAAAAAAAAAAAAAAAAAAAAAAAAAAAAAAAAAAAAAAAAAAAAAAAAAAAAAAAAAAAAAAAAAAAAAAAAAAAAAAAAAAAAAAAAAAAAAAAAAAAAAAAAAAAAAAAAAAAAAAAAAAAAAAAAAAAAAAAAAAAAAAAAAAAAAAAAAAAAAAAAAAAAAAAAAAAAAAAAAAAAAAAAAAAAAAAAAAAAAAAAAAAAAAAAAAAAAAAAAAAAAAAAAAAAAAAAAAAAAAAAAAAAAAAAAAAAAAAAAAAAAAAAAAAAAAAAAAAAAAAAAAAAAAAAAAAAAAAAAAAAAAAAAAAAAAAAAAAAAAAAAAAAAAAAAAAAAAAAAAAAAAAAAAAAAAAAAAAAAAAAAAAAAAAAAAAAAAAAAAAAAAAAAAAAAAAAAAAAAAAAAAAAAAAAAAAAAAAAAAAAAAAAAAAAAAAAAAAAAAAAAAAAAAAAAAAAAAAAAAAAAAAAAAAAAAAAAAAAAAAAAAAAAAAAAAAAAAAAAAAAAAAAAAAAAAAAAAAAAAAAAAAAAAAAAAAAAAAAAAAAAAAAAAAAAAAAAAAAAAAAAAAAAAAAAAAAAAAAAAAAAAAAAAAAAAAAAAAAAAAAAAAAAAAAAAAAAAAAAAAAAAAAAAAAAAAAAAAAAAAAAAAAAAAAAAAAAAAAAAAAAAAAAAAAAAAAAAAAAAAAAAAAAAAAAAAAAAAAAAAAAAAAAAAAAAAAAAAAAAAAAAAAAAAAAAAAAAAAAAAAAAAAAAAAAAAAAAAAAAAAAAAAAAAAAAAAAAAAAAAAAAAAAAAAAAAAAAAAAAAAAAAAAAAAAAAAAAAAAAAAAAAAAAAAAAAAAAAAAAAAAAAAAAAAAAAAAAAAAAAAAAAAAAAAAAAAAAAAAAAAAAAAAAAAAAAAAAAAAAAAAAAAAAAAAAAAAAAAAAAAAAAAAAAAAAAAAAAAAAAAAAAAAAAAAAAAAAAAAAAAAAAAAAAAAAAAAAAAAAAAAAAAAAAAAAAAAAAAAAAAAAAAAAAAAAAAAAAAAAAAAAAAAAAAAAAAAAAAAAAAAAAAAAAAAAAAAAAAAAAAAAAAAAAAAAAAAAAAAAAAAAAAAAAAAAAAAAAAAAAAAAAAAAAAAAAAAAAAAAAAAAAAAAAAAAAAAAAAAAAAAAAAAAAAAAAAAAAAAAAAAAAAAAAAAAAAAAAAAAAAAAAAAAAAAAAAAAAAAAAAAAAAAAAAAAAAAAAAAAAAAAAAAAAAAAAAAAAAAAAAAAAAAAAAAAAAAAAAAAAAAAAAAAAAAAAAAAAAAAAAAAAAAAAAAAAAAAAAAAAAAAAAAAAAAAAAAAAAAAAAAAAAAAAAAAAAAAAAAAAAAAAAAAAAAAAAAAAAAAAAAAAAAAAAAAAAAAAAAAAAAAAAAAAAAAAAAAAAAAAAAAAAAAAAAAAAAAAAAAAAAAAAAAAAAAAAAAAAAAAAAAAAAAAAAAAAAAAAAAAAAAAAAAAAAAAAAAAAAAAAAAAAAAAAAAAAAAAAAAAAAAAAAAAAAAAAAAAAAAAAAAAAAAAAAAAAAAAAAAAAAAAAAAAAAAAAAAAAAAAAAAAAAAAAAAAAAAAAAAAAAAAAAAAAAAAAAAAAAAAAAAAAAAAAAAAAAAAAAAAAAAAAAAAAAAAAAAAAAAAAAAAAAAAAAAAAAAAAAAAAAAAAAAAAAAAAAAAAAAAAAAAAAAAAAAAAAAAAAAAAAAAAAAAAAAAAAAAAAAAAAAAAAAAAAAAAAAAAAAAAAAAAAAAAAAAAAAAAAAAAAAAAAAAAAAAAAAAAAAAAAAAAAAAAAAAAAAAAAAAAAAAAAAAAAAAAAAAAAAAAAAAAAAAAAAAAAAAAAAAAAAAAAAAAAAAAAAAAAAAAAAAAAAAAAAAAAAAAAAAAAAAAAAAAAAAAAAAAAAAAAAAAAAAAAAAAAAAAAAAAAAAAAAAAAAAAAAAAAAAAAAAAAAAAAAAAAAAAAAAAAAAAAAAAAAAAAAAAAAAAAAAAAAAAAAAAAAAAAAAAAAAAAAAAAAAAAAAAAAAAAAAAAAAAAAAAAAAAAAAAAAAAAAAAAAAAAAAAAAAAAAAAAAAAAAAAAAAAAAAAAAAAAAAAAAAAAAAAAAAAAAAAAAAAAAAAAAAAAAAAAAAAAAAAAAAAAAAAAAAAAAAAAAAAAAAAAAAAAAAAAAAAAAAAAAAAAAAAAAAAAAAAAAAAAAAAAAAAAAAAAAAAAAAAAAAAAAAAAAAAAAAAAAAAAAAAAAAAAAAAAAAAAAAAAAAAAAAAAAAAAAAAAAAAAAAAAAAAAAAAAAAAAAAAAAAAAAAAAAAAAAAAAAAAAAAAAAAAAAAAAAAAAAAAAAAAAAAAAAAAAAAAAAAAAAAAAAAAAAAAAAAAAAAAAAAAAAAAAAAAAAAAAAAAAAAAAAAAAAAAAAAAAAAAAAAAAAAAAAAAAAAAAAAAAAAAAAAAAAAAAAAAAAAAAAAAAAAAAAAAAAAAAAAAAAAAAAAAAAAAAAAAAAAAAAAAAAAAAAAAAAAAAAAAAAAAAAAAAAAAAAAAAAAAAAAAAAAAAAAAAAAAAAAAAAAAAAAAAAAAAAAAAAAAAAAAAAAAAAAAAAAAAAAAAAAAAAAAAAAAAAAAAAAAAAAAAAAAAAAAAAAAAAAAAAAAAAAAAAAAAAAAAAAAAAAAAAAAAAAAAAAAAAAAAAAAAAAAAAAAAAAAAAAAAAAAAAAAAAAAAAAAAAAAAAAAAAAAAAAAAAAAAAAAAAAAAAAAAAAAAAAAAAAAAAAAAAAAAAAAAAAAAAAAAAAAAAAAAAAAAAAAAAAAAAAAAAAAAAAAAAAAAAAAAAAAAAAAAAAAAAAAAAAAAAAAAAAAAAAAAAAAAAAAAAAAAAAAAAAAAAAAAAAAAAAAAAAAAAAAAAAAAAAAAAAAAAAAAAAAAAAAAAAAAAAAAAAAAAAAAAAAAAAAAAAAAAAAAAAAAAAAAAAAAAAAAAAAAAAAAAAAAAAAAAAAAAAAAAAAAAAAAAAAAAAAAAAAAAAAAAAAAAAAAAAAAAAAAAAAAAAAAAAAAAAAAAAAAAAAAAAAAAAAAAAAAAAAAAAAAAAAAAAAAAAAAAAAAAAAAAAAAAAAAAAAAAAAAAAAAAAAAAAAAAAAAAAAAAAAAAAAAAAAAAAAAAAAAAAAAAAAAAAAAAAAAAAAAAAAAAAAAAAAAAAAAAAAAAAAAAAAAAAAAAAAAAAAAAAAAAAAAAAAAAAAAAAAAAAAAAAAAAAAAAAAAAAAAAAAAAAAAAAAAAAAAAAAAAAAAAAAAAAAAAAAAAAAAAAAAAAAAAAAAAAAAAAAAAAAAAAAAAAAAAAAAAAAAAAAAAAAAAAAAAAAAAAAAAAAAAAAAAAAAAAAAAAAAAAAAAAAAAAAAAAAAAAAAAAAAAAAAAAAAAAAAAAAAAAAAAAAAAAAAAAAAAAAAAAAAAAAAAAAAAAAAAAAAAAAAAAAAAAAAAAAAAAAAAAAAAAAAAAAAAAAAAAAAAAAAAAAAAAAAAAAAAAAAAAAAAAAAAAAAAAAAAAAAAAAAAAAAAAAAAAAAAAAAAAAAAAAAAAAAAAAAAAAAAAAAAAAAAAAAAAAAAAAAAAAAAAAAAAAAAAAAAAAAAAAAAAAAAAAAAAAAAAAAAAAAAAAAAAAAAAAAAAAAAAAAAAAAAAAAAAAAAAAAAAAAAAAAAAAAAAAAAAAAAAAAAAAAAAAAAAAAAAAAAAAAAAAAAAAAAAAAAAAAAAAAAAAAAAAAAAAAAAAAAAAAAAAAAAAAAAAAAAAAAAAAAAAAAAAAAAAAAAAAAAAAAAAAAAAAAAAAAAAAAAAAAAAAAAAAAAAAAAAAAAAAAAAAAAAAAAAAAAAAAAAAAAAAAAAAAAAAAAAAAAAAAAAAAAAAAAAAAAAAAAAAAAAAAAAAAAAAAAAAAAAAAAAAAAAAAAAAAAAAAAAAAAAAAAAAAAAAAAAAAAAAAAAAAAAAAAAAAAAAAAAAAAAAAAAAAAAAAAAAAAAAAAAAAAAAAAAAAAAAAAAAAAAAAAAAAAAAAAAAAAAAAAAAAAAAAAAAAAAAAAAAAAAAAAAAAAAAAAAAAAAAAAAAAAAAAAAAAAAAAAAAAAAAAAAAAAAAAAAAAAAAAAAAAAAAAAAAAAAAAAAAAAAAAAAAAAAAAAAAAAAAAAAAAAAAAAAAAAAAAAAAAAAAAAAAAAAAAAAAAAAAAAAAAAAAAAAAAAAAAAAAAAAAAAAAAAAAAAAAAAAAAAAAAAAAAAAAAAAAAAAAAAAAAAAAAAAAAAAAAAAAAAAAAAAAAAAAAAAAAAAAAAAAAAAAAAAAAAAAAAAAAAAAAAAAAAAAAAAAAAAAAAAAAAAAAAAAAAAAAAAAAAAAAAAAAAAAAAAAAAAAAAAAAAAAAAAAAAAAAAAAAAAAAAAAAAAAAAAAAAAAAAAAAAAAAAAAAAAAAAAAAAAAAAAAAAAAAAAAAAAAAAAAAAAAAAAAAAAAAAAAAAAAAAAAAAAAAAAAAAAAAAAAAAAAAAAAAAAAAAAAAAAAAAAAAAAAAAAAAAAAAAAAAAAAAAAAAAAAAAAAAAAAAAAAAAAAAAAAAAAAAAAAAAAAAAAAAAAAAAAAAAAAAAAAAAAAAAAAAAAAAAAAAAAAAAAAAAAAAAAAAAAAAAAAAAAAAAAAAAAAAAAAAAAAAAAAAAAAAAAAAAAAAAAAAAAAAAAAAAAAAAAAAAAAAAAAAAAAAAAAAAAAAAAAAAAAAAAAAAAAAAAAAAAAAAAAAAAAAAAAAAAAAAAAAAAAAAAAAAAAAAAAAAAAAAAAAAAAAAAAAAAAAAAAAAAAAAAAAAAAAAAAAAAAAAAAAAAAAAAAAAAAAAAAAAAAAAAAAAAAAAAAAAAAAAAAAAAAAAAAAAAAAAAAAAAAAAAAAAAAAAAAAAAAAAAAAAAAAAAAAAAAAAA//jFCABvSv/3//X/9P/y//D/8bUqHy3/QAh7YGGIJkTGbas0Xe9BqhI3Bi4Ru5Fq2WJVZou3jKeMoNbTZyZK4PMRULNESieTVL+FS5bBNZssPIeONPOpMiBHPJis3y0Hg9jsg1ZJoLDJQFietMQlXkRYj1CmFz52ZkiqI56K07Q5D5kxYIJuxSDWxQsLi5iUUK9I2zLxJN5kbYl5pGEyJ5LBQpWCEIKw+FeEnsQvIkhYtRFEluxDFILFksbBNsSgkrhsWVIohkTUCIESLSEkgJHyIftDk8nYZKiyaSKyjIEIXdRQtBkiLxKhAskMhQRpOhJCyEggsiniICFU1kSErYglaSQUVJoopnYTC5pwKKWE4IkZUiEIthIEIgjxFhQTJQTCex2r+aJFDgVAQJBCWECASlZQEAgjFpSCBTMSJC3FCcj5ERHNwiFncECEwJfkEyVURZsKIeJtopQmSaQhGQtgrKVYha8qQhYkhEqLCSQWS9CIVZuEJJckglExIQSAuJxEKPgoJIRsopeIUCJb9iSeoxYIxrCJEQoZWmo6ILUY+bEjcaJQvWFASRDySCJTxCIkaGyboIbYogUMWYRNEyQQsLYGCLIBKRDAkfMxsUWciSok826IaxXbfy+9F0juTJsiZzJjLE8aePOWboT3oTdPepLMYgl0x6QFCDMMGSClKc4SYBEmgUdh1IgiCPXUv6GEI2vHUlUzGby/F7ZjEI0iJEnSrdEUTSxSeNW2pqnMzbon9mawyZHjNkaIb/SdIn1RWRWpKnrbdBGydmiM9iI9REQxQiPKgs1oYZIdYlmkcoXCLUSZ8KIwtWCNaITICcoIRWJYREnCWCLFpSF3KSypyHkaK2AswLIjkCBMIgtIZgF6BHrNEGgnLlgoFClUMgpMJGjEucAqCFFsCZIIxUJFhGoZbJblBNohYpCShcFhM1EUKieIKGmBEgQQqLtFEcIqJi2FCpThDRAPwGAo0BMJE0EAwJgIDFiDBAPDAg7AmhAuCshShHpkIWRoXMXosiEyE+7+BBdJJkWCMhRhHCogtEKtAU5S5heasGJKpggS8W5qdi+CLLigkKZAg2gIiXVkfUluYTVkuXonVM2qVf4lbfrb2pF/yERSJpTGitTEZsR1ihGnpLSmkvjRkiSzGRJTxSaIhldE28hnhGuFTujkyfbJm/Spbqa+pRJ23b5MvJ9BOlnqz71dUvSd/KyjS3US+xsaoSa6t0RvXn+9y1unt4vtp8OFhDo0CqRMiBBdGIgoUdWBYqaa6Nii1CKhCIPJZOJjiEK0ASiyF0AiNJRF72ORFJIkwghGcUNGQ9S3wstAjGMSUeInCBUaBCFkAsgNlniUJEIWrCRBKCHI5DeCM2YJQxS1iEWgklCCjNoVenii9Zf0NvWS7kzeyUlnkhkvREy7P07Vqnk0TS6d4li5mSIQy8hCYxMglG7QIh45I+2xz2oWRImjbcyfqQmSiZp2JZqmpm15IjskvzGQxLJW0ndWpNbfK7SoLUZPM0I8jG/hg0q4RJCa+VGliOUiripFrSSkJkTMKwIIjQQkyYnNSIYIsRiZEMsE44lvxFBITotBPaivOO0JI6BZWCH8ImQBgmnkiGQLEy1SQASRlAhcTJHJlRCIIzmxCRchImURGBBSWwkrTI5QmaJNJW2LSMWti7khGBUXtAhJUBIhAEThKIiPRoFEZbaAIa1KMngMGFqZPGYJATwhWkX7WGlbQSuW4Ql5xE69g8TIbpuRTMKQzCRvIgjBLyyYkJCxCFwU0kp+kUhQsQlhKIzAieRBMoQgUkomEJTJoIiSfCWEGTxC5EqBQSYsXRLC0k2as5iBENAQKMhJSiEPtl+rZJNNHzZLk3qxr2WDM6oGpZAmPxpFrJecZ9FUS/tDkacgioSxidkRkxN26XlSdFT2yRkGsEmT9JNG9TSErXiRkZOuYiaYmeshqqEERybU+IZZ5EyoiFVMaZiIlJrFeLWum8VGSomhMI8zEfJ8iSE+iJIi9pCJBEkZdSeWBRNOBMRJC4hEsaaImxtZHGxguShm1GizYZo0MdxknHoEEUKdER4MWNiBQ2C0RoUaAoE7iJlw1QIVBriESmwsXPhgoXnhSBKQyIhCnxkIJt4inrchC2/nazzARTR2gQhciwyQQgMyEIaJERCEIUOKsL9mxONqgkCXToVPFARtEMLRCQEiFoISQia+GCbOchG6cQJFwTwT5qgkG4e0IkhO8UEZILERsQckGwzRkrDjFqingSWRNwJlyChEEyGJiYXEa1EjRyNQIswkElSsgvHLKK7EdDvEcJEtkp4jvsuGkRFhGZCkJOyJiiOsXLAgxFoWYk1EK0CYte3RvJiZeNbREWmQStlJQMzEx7naxeJnRasW0LOVJ1U1Iz/U0fqsWtqsTYXVuqxJWhJHXHeU5yvkyScjVdkMT7IQykFlkK4p//jFCAFoRP/7//z//LShXhSMkKSW6VFqXoplm31jOQUM92nlt37LrOlrFJnJlI5iptdL4rPs5F+ypFGLBFiRFNU4j5FaKa803N0lMpuQrzKijPk83jKxHMjiOhPQj4Qpl2mgh0IqVt0mmSspljZWIFDFRLDK1N27N4muRxjpuSFEFEe7ScTzMu2UQ5p9Cu6Xpl16Om8yPDFJeZ0Q4nrHMVOjtU+IdukXIqOTqIcR01pH2kiKZcm7cxySViku8SKm6TtrtyPklxjjekTtdJOIdIiyEdJlS6RNpUKk8MVr5FJyhCkqS6faKYpHJXQx9kK2XI+Rddvqj5PJrWKIsoj6sqKQoxxC5nhI5HaySy5YhROrIfEPtZZvKkUjk6XJ8njOnTKSVHEK03M5L0R0RaIcipJpKz6RTVTVTFTOk+SKSrEslbl5HZ2+5i5OnTfKi65zeJNJbWOTp0Vl0Uz6EcxUk7OS+a2IrK1qRzKnhFSp7kcnmn08pjm+isUhTLJIpEVnZdZ9lmu7dp2itLrpNMpimdNPEKS0ytyKzppcT8woj0hRFM9GF2eIrdJJZ+xSeXpXRSHyHRbSsWfLKSyvvIVv9bcuXW1dPcy1FnxUypZL081kECmuXRp01pnbStUTjON2ZohFGVk0CHGxlTCHIIUTsnMpu0aokxIlaNWqI1hrGiJqJ8lStckjRRFI5Ec3SolbtNab1G4lVsuTRvk6XQhSTMqEUlQYczXjLG0TEOGfEWE5FQQKhNZEl0ikcjm6RTHGFbVitJUOGF2nJ6Y4jtmUiZ2l25E5jhPIkpnNc0JSTGsEKaokRkyEOCRxkyUTmsDHZkSsJ0xMzmTJqat2InJtM00xCjKmTs3TjOjTIikk0SaQkKCFRNsyidITk+JaRSTGU3MuZqzUnxFNcy4io0pCObmfMYgoI6JczsjxrY3xhRLNiFNCejKiiTkUQ5s4i5uYoR4SzRooxxik7SkymVJs4hxJ8SSG7Uym5KJYa0R0StSdtqTk5MnEqNoiSkVokibpukkl5ixrcpnQR0EOYgohHaEOaKInQRcRWUIc0YpqnRNuMKZ0RURuiXZwgpt00RSacaUhNzY6isyuRbohEZSIzKqunKVrLZ7vZ7InIyrRdIWiI1SVLRrC0K+rRHnFjCXQ48UnMkUPCP65Ktp0NQiCRTXSWFDzBoiyRhqueODw4JChZxpyaSUK2rpdgyaV65msmDJRGaEevLkHWpxYndSPp0k8RcVtuzZg+U+uWbvKUIUSfJQRQrFgueiit8kXamkTY4n0sR9IgMihUsbqeMlhcMDLCpgRKUvMgJjDfpNiDtKKmlbkoNdrVM+i7UgQrVfBAxqF2DAyX6ndM66SAWSMl6IOtI/qynuyqSTg0TaladfTldSR7mzHL5VYdyvH1NvzypNaBEs/EFga93lKU5i+JB/3HocRUVcFpdLRxeMsNCY2KjM3vF1zLVtdZIlYzg1BBujgbcF8lLMXxDKQSRK5KL2WSiIFE+0fiZd52JUkibeTxV2fTVMqhEXUeDhRVLrBtARZeNxLwJknZ0p+F0lcC7ORAJdinwY8dFhXD/C/ACMBk1KfHoJ3xzyYlgU9gG0Zp7qyWagZZSWF+vulGhPcLh/igsNVxZ5BXjTJxRQX+WDAaq8u/5DIWMbWgz5AUDJ619HQMXBUaejfneRnvBRfjyc8zvCNM2TustcP5Mq9rdaH85RCjfvXEoTR6v9h6H9Rh7WsmnVGBSCaumwIyA5ouZJC1BQz2NKxxUi7LOvfr7Z0F87z0Hqr7VILcWt+fhqnaNlSctSuzGErMc9xfj7GAIMREhjPkRfNLl6WLTN8+GsP6cdUawFobKVdvLTqptO7U3gqfIJZ29V67y1QuvERktsGAbgD2DRRELkgAYMICdWa6AWQAD2CXnC3SCoAxQyveY0CoqqeNbijbjO9pFHXRTtPHaGIxfco3AozBbTP9r3lHDJEesY0HAmBM1UAU+YgnFCSnHUNYXxWpS5mzglI1jPafx0fVOU6ZOTEjOnTXmuM5qwzjt5q7jinND8d31umpfJ1wchKzW6EBDL15TMZzBGYdeluNa5XA0EDpmV2ubmBWikFYf8vfPnPAnxxEW09yZanz3qytKpTBqh52ndhGRvz7OeXtCCE0JkiDw0wy8oKg4RkJ4bBkKksmB08hyh3M7xJJOvr9n62SbWflT0PHkR6gRB6rO2u9OoqYbvLDL1P+yM6i6m+2fJtlpGh/YTCqsDoayAIoBlAuiIPiHwDgQsQX/OXj0QMlKjmJezhf7cASHBTdSdtTgw2uMVu4+m1uUvIny9dAaEmZaUlA4IuJDw00MdOtR7/zupELg0JcHzHnZhlZFYdRu8MXtBpokp4XR8m1s/GdsLnIO+lQn6ZXmQkiEmTL5WHLsdTdoxWXvGBgGhlnBUEBUkE0gb4DIg4eTDBjgBuwXyBJklPZU4X3Ugk1+GT6yAc7XGddqbCbTgjhJH0N9I2mew+2tQH6yVrVjBKNHi5DQqs6ERQMHLDtO8p7Juqq+rAfHdz5HbvdpcKaDLIaj8v5I8LcwaQMjM7tb+pZz4HrT6j5W4hNB8yf5VIa/leXqGR+ClK5gzHKeTxwQyJLl9tzQ6eEHkpAkhgoOfn3Htrp1WYoiW0hVmWT5pNTOgXWfx9S/ArbmfXtxfJoZObep68lur478UjNelPVKFzP+dj29XY1LuwfSfW+q/dNdMT1w5Sa0J5soI+p9jtfoBMlYAKttF0z9NuB2gywtqr87SaQ8mtNbQKVjOrh0EXLOQSuCdRjC1BPcAvMJCjvt+GUDCLKfYjXnTVaQsCTkdGuZWoSqZBeUrsQaFIy83/edIibR3BWLw/L860Y8dbV1J+mtVrzLv3W/DfiYnM+7XanZnK3bGYaoSGzLvRGzm4WCGxCp7Fi4i7FNehNnHlJ2JVKpw0rqiEgHvUF8xHl2KLE1hR9oWcJdVMIkwDYQvmENrrEzYEW0bZeHIq4wg8PlQuPoxmdYK+DJoUrS9sIy2UBwqaqHxDc3O7cEyBSxPJA4RaGqjFjSpmld281cEc5ATmQVE7zStWbkTLXXgNsCRDzPh+yOQVTbP4j0ViU12VhWRKZiCJyUiwB6grExiBDMRGC3QK/ILozj8gBPAOoC1o8OKKAnAy0Met2lIm/hNMAjyFa0Zj2CqoVvF3ft5F3v61LA2cbMVmqxlYr0LWOua8aiO0MHITmY1h+FKbTbcbeh+epi2v5/FdoKXX1UtS33RkCMK3O4YApyl/7Yg/S98qAUM7Igc0IenUonxYoFUBMwhBh8Pihy8uMKo/QyoAj2pRdb16qYpsH9I2nY75Pe+Z+ui1a/mtQNlsleeC3hGh1Ji9h1p0qYU+b0aWd6Y/Q58Y66yF7eYtcbqVdhcCeRUNcDVBl12z/PdB9ZEi/KuFMZUDPaqwFbCyXRy6Cq6hFk3a6pNDZk2nzk7aCFZ78dEEZyFd4agcMlHB27aeuL6bbdcVrmRsZ7VK3Bo+/ZQY0h059MzZLviELV6TeIXUxnQz+7Gsk3Ovd6Or0na+dPOCsi7ntG3Gn339I7ZXXNXFSj13uDHbarGTYnDbiOmNXrkWLfP3NZcMfisy7svhQxqrlNm70GpMMNRCXBDeVd9VG8jtK01VrUlipoOJETxWsFZRhon/IEUgOSdZaE2YtJo/4TPTNWtx9KZntyjqhbbL1C5LQ/yWomvjgyDXzHpese91CDxzNXWxPNfembQYwU1QYB89oSdNVxpJ21NtuHMR9ZVsZJrk/aEg3g0KL7AYDH12oJVXt+T1EtmXmR9q+LWFtBFsCMZBtrRwbXojyftIO43UPUn7UJPCAickXJFI1HTjAiJCeTkDgmy+w5L1UglUhINrnlu9WByVqE9UOzUbLqv4+Tjop6URKykiTwYq6TPP9AIXBkJtcNrqrlZCMGnPMArMAyQMUHXwRhU8CoA69LdKeLXjmEw4uHw9ntEfmVTPemX2Uedrs29Y0E/CY3+Jtw0XeK1OyJIMyNBYqmXqPKcSKzQe67e++fvX8Vndu1olWtGsak7ENNMleJSnWzzJv3soYuAlpQj8IchFvr7jxwShhCQGLAHQnsh1kJ9tJBnIbAuUqDMGGrlofDGqbJtVdmQdN4loVzdgoLyPUAL5FnmZpLxiTSKQL+Iceg6Fc6ByCv76h1oj1iXAd56591ZFVd0PJuY+9WB0H0G2QR3UL3if8SQyABBYW4cNF5Xt7A5ul4ZKAgEASQEWjYYe3jGK1D/ixWAaDUWZVBH8LurWtuMmS6Itli2C+5/Z5HzwjQbsfgotGb4RLBTj4mEkTvIS6QRRbhddCLHucg8hqk/a1Z1y+Kxiqv2ta9BPj7y4QDDCZ0V94EqgWaZwUjIxpEtj+9iCEJgEgALzJHC75vWSrQzFHSlXiQGoBKcGoRWW9KCGepi9BovTHjLqNp7nL2OSOxJnI3KwI5VasRcTZXWIf3F1XG7FPn+w0Hi7NTXqQrINQbR3h/rmXQ/8zUI/GE9bshFgGTjRkuVs69r9qCmJ3FAISAEthBZvMxPxfUmpJDX+LTPZJZhXkXXIV5HkLVX5Mw4TSB77GaP8/EfHwnNKZOXuSu7IiROK6Nobec2zxArc/2de9lR54Td2yfPfRpmseoup1oYuFluxFsiK60FxB8L6VQcP3jTDeX4+KVAeWBYJTZ2fItv5HfRpP/wpl4IguKBkl1b0tUe+kzQrBNbW8EsNZ+o8lgwkQqZ0W29giRtieenYsX+pdTvDtg6k/PZVVP0/qPfekUTU71Z2jTUIg2ddIf/kDNQIkPOQ9SH7G0CoX580UBLQCshcJdVAVEuKSFc3YblwknuVitZO92ekFUhfF1zwEiNSqB9jqRRO0Mm44c4sT6ZaTEsdgNIW3MiqzSdiBKyqfZWx2N/M3Vvn31PFPFkFxE6qIjnpWK2Yh0QMPO1cs1/51yFbHRJnIGeAbcNAV9yKnHlNLWo8HHYkUrilKyOZId81U3osicUIoeu9VlKUN95UeyVUYeb2ZkWa7NNXutl6nxXjBfak1Tb6qTrEsM/PQD6f4X67KZNs7GIbv43qFYgg0V6/tffKLEaw/u3mA64C5xvKReT6z/O9OlBXo6wCJ0LCDrArHaM7dau/C+jLwJVIHdo7NabB0YM3JtPiKwJicaiL9VC/tPoZZyog5f/S/62jXQ3RW411WUSTZ6cmrR80QEojNTWUCbELFset1q6DewPRCanQML0136zqmrdtS79U9HNVcVa1XXk1qfZyy1h/riSyidHRqwde311j3ypyOSo2pK9oq67n7ZWptfaN510Cs2oWrH7FOVWVgV/0qiUJSFVoEYBFhYLc0B6iqi7HvJQj8PPCgX8qCyD82iWoDCLUCClcUTXMUv0oU4+/2hpBsDqmvs+c+5BRaxWPvQIpL/ITX0mVO/jqHel69w8jtDPWPAeaq/uuuiu5klTKJvdldOYUCF4mhEDppejZ5Ic1RMPAokF1DOFdMicdR7b94rQBY7SGnWz282PViUd+Zzd258qxUIpNVkpVeCvnaFcHDljNYWciXoH4/DcDx8thJiyu/UJ2r3g3r2uWx2o3hW1Y7uKFGFZFEM0W86GAkh7/+MUIAmFU8TnyxPvOC7UeFin5KhUgNBNQCcwGd7WzlhYJOaUGSBSUntUBv+hvuLh6naBYFycczHIaET7o6oXo/eCumQh/MIDGokDXbpPuE3GjPDn5dSEqxNy5sSONMaZ6uKp4uz2B7iq5JYSI1PMlSBYM2E1cbV60uus2hmGeoVZhFIZkrEZOBFEURjWA1FEGAINOQ6ONtyOyIeo81icG2t22npou+M0UgpZXJBb8WkNwiUgJ7wI1jLVqeng7W9i9BOqR6IU8lTT09Ma0FqGbD2tH925CuWr4d2MqUXOVPl5/IlL0Wylpa9M1HwNTgttCJ80NUQX2sRWRARxtH38CZAGN4fAiBtvTOE46SisK+CyGm/wtzNoFEpMhf53rdHzkLK4hKgJBCuZL23eo7PeGY7psWFnIJhC3vVCUp1nHYPUFmb7hM/ue8raFptJHalXJNubZJ14ns3aOIXh++EMp5+o1MIp0TEqMiazVDroFd4JFxbQhwkgEUZRFxIbdIFRAJBTSxdWQeXfkgxqbs5NA+d/iQoxwYRMS6UWlh4p7Eyjg7HNp3x6Rah7s57PGi8zac+yT0lBZ+KRqUO3zvf7fGtrp//KuV0yMGAI2EPaWYD6GT+TwaUa7zr1ENFGDl8Z3MUy2ea2zcO8Y0j05AkdNzGFT+G9LkK9S5lWosjucQJlYCohrjTMUYe37YoR2l75W64iRA936Pyi863YmdoLUNjUkzVxeX6GWi2oR/59I9UO9utfxgeJeRACT0IL6sOST38/eKiZFlo3SP5m3TW+ywtcKIXI33FIgXCKFn4xVn05vMrMO+JKhyjFxukkWzdeuPOGbee7iegtclK6Nnavxs4n6p8Iiq1cUqMQQKcuTvdzwr023jbQfBlNlUzdIN75fmeumyzwlQpWgX9VsrwEoxRQKLYTd9f/zAURsi2crxs3YgGPhFVhomZJjyeFSvP06CMaCYRFBMug3SK5tzLf/MPl0neEZ2R/Zui8/sl2C2nGCEM2SqTlSOil4Nv7wd6RX4kopHakrvMeKFzhEh2ByiRNmKLlOE164J4hUESmWNKMSTcgf93wIY2OFPyLKWELxNWPMajsI9CrBjFHUnPcoqwaYUBzp54ElWjq7RUW+Lwpe1KvEeFtFiaFFWemLyRimseqelB7zbplNpX6yXjBVrEDjYDCDi19CTUpPcziPw2AJePeK3+VxJGoK4mc8JkKKW/frMFuv2FWgMHHPCQGUEbXT2B5LqWFUCWCQER0JVUa1+8IpE/GOoYI3v2vE/5k0ns5gnVARZ8s+cdOFl6Sg726/+0csKCLCc4zy/mexNCpBpgCnQTKGWHFJlrJqo4n20wU194SLKBqlOU7yKBKsINUmzOkrye0vpGyCLDcyKkpK/3XjDiZW5e5HbCUCZD0PoPQW2uO/FrRsUtP71wDN/8plE1eY3c5runIucipnDG7IcjQ370gQ4E2Dbi/IFSGZSlWU3MOITtBsH1CkYhAwJfWFRf1N49Y3gngmh3XpSXOOS48zI6IXcLye9Oi0yUXFpxXrWbPO4Tx22tiFwn0K/M7X/zU+sPeGEHhjp18PpSPEIUhxvplZ5pm9np8VNo106bHyREzJGaBpmC1HOOME7CQjMi5FTQlZqeVm/k/wRkKMIq1ag9fwOdu+wR9WXelEtI3Zz+9r3860yOlYLtROKRG9yUjrkZv+Q2LnERh94dn6qvu6Z8xSUyeQikxsoVGq1jgkRUFl/I2ZsChj6vE5SHLkQ4VodUSsjy/vT9GvUpNkesp6TMQi3nYP8J2SEBeEv8atnF+dZ0ZRD89WYX3c69V/GyxfOb8UPtV71X8bp36Fg7MzbdJoTZVdJxRucuQKRmmKPtNZle1PaUjxQ7JGKH+EBNwetdCmtff5UtwpIqKruoKmjjmrvUVbkxZp6lNT7OzM0XJZcjZCVKweScDHKLASE9kZWcyf7ecJmHbDSWonoyF/Jg5cIvtKcCrY+Quj85hINcvQ5uawblOA8AaITYx47lY4meCKoGzGgA66DMWSyI/dUno9IJQrWg5xUv8cEERcVnx50M6EnkQ2Y8xdABPG0wFT5XJ0R9oyokEU+MuaGp+4lzi9bpJXE+YJ8pELuZBh0zspSR4YIh6tjfPQNbT5r+VDJZIjnZ2JPKgKfwV4UkbN4KjTA/Vg0QlLbkkphSyToUjZchYXMqRGbDufUWcWqiP3JhHgSUw1AfWnElV861IJmecSiVM40WSEAzzR0rlAC2CeA7eFh/6V/oi2kRXHWHqlWB4q/2TXEd2CaCed2RXMGC6oyxRLT2PuS4dkCMj4Ka3rKbtGKrf1pLwGvTgZ07EKZRKSaXc5sEAEHLX8wut1BhZhNtsABNhdczpieiJje03pDg8kdIEbBEI0/6tOZ6ggfZtQQ7S+OicZ0ieksebeMfub+HQIgFRWip9q8yZ+ubXrhwl6YqIU4oje4Qd6grHH95iGsa6//Tq50t8hTWMbrGN1JzCSEr4uDrDIl7OSkjw0Vx70/e0vSlPGihmPLVX5WzVVsZTtKq2QjoX5sClGrao1BWdWt9TZFdibPb8pQWnL3OS9v/VbyymaIw+BqS0zRr6VzyrCBpS4wSRX3UnRfKBvlGtzQ/LyCRZLtVAkZI8DL+2Cub0iAkk7UVP4Kl7RH6WSq89N+eNtXb7xLzXp0JiW6MWP369vg4oMh9uaYmZCVhGHBP8UgarWOUvgjGqk0XpydWc1q0pufAOyoWb/zk0kRPU2zgqaQpFZFhrsOC9Ja7tdBMid/L1RJfDBulBCQCBeZhppEN3svA86RbO3Zprb7QhPXDeq33lSX2t+cIU246v4+Xdekckw6opFaX4IsupJ4i7/f5nPJ0fKqS3pn+bvOt/pZrlRTttRg8282ncIV5VwOfE4+6UKrbVoaKJO2lhE8U48mejiihFyRWDSGvUtfxwTWwxbzbhjYtG1LC9XUmmd4tvqY8Ioaz+Ze6eY3LrKclVdTP+RKRj8+jNkMhFSYicIQwchRKuCRaW/5IiXanmTOxtvVqkwTf6GQXcCvzjdjxAy0PwFKBr1Jq2k7PctxnVqUViRvLshB4yzTZ7B/OpybTujCauqy8Ibvq+NpXTUbfyiMQr6+eQWfus8fTUww3WT0iqwXv0zlkFWGCvNRuYiuRvkYsVSsiwufFFyVUfvcmt2TLL7NHcjMrBhhE/AtXojqQ1qYAUFWXe2uZZ5FRBlClGS09y/Yc5mX+RPuMnQvw64pZZdwZsHqzjwZ9JmJ7uWGNyW2fdrFDARZHZrJopwpUwoCiiqSs8S8JmttsmLdY3qwqK83bQtp9ZQupjcqlXnZ6SfQDdUiTdd2BothVO6pBGkJMdfQfV2Mcr2IPlRTjmw3ruVNr8S7/ACXlGq57h/euRcH1xkcMlIunoROJN2UEDbO09cvP2GSUgU7FyYe74Wo06qkU1R++Wc/IQIg6OWsSI7BFpxeGgvi5BQbxfiMAQYPVc7vnRYmLNdjwm68WWoUY18ua447YC/LSCUjaLQGQ6BlVHL1L/febvmbAwAm69Yjugzp+DK2qAwyg5bkFIkup/e5DPsmOKfjheh+Yeywx6gyVaSlXQf32jzyJXyzyhK9vUc4pOf/UOu4nMR111+HblU6g10XYsQlKgbZy5kp703WyYsy9dK97m1BGLy9Fgj/azECFnXaHBWaTcyDFDnHacsk6QWaucQHJNNuE30JE2bcL4+kxmvY7zQq7kuzViGdk7BoCKu4Ac34rUyZmDGyF8nETPowlYt9vo32bsy30wcgZpf9Uw9ZI64TkqOp2j6NUggOeqdGV5VyjTS6JRm3PkhMnWJgFyCcC57RA7iOMU6TFLWGkYFw2qC0Yi39to7Lq2BGusn4NJwrTNty0MoVT/jeDUbUDKQPgpzE9vD0w4fGGIP44+b+IJUVRzbB9twtWtUIeFR82Jztsn5N5lKRUBIuPGPlcUFiF4pV1QgajC4ktzbRJpfFhneWJjNE8xiG9hfqyTuOXKCH7w3oKEn0jqJQgeJGviUavohFDYvu+0jXlpfwvfsiMtv9zcXxETyGlygDngkaXNBqx4df+SsImKqopr9Uo777yFgSEavodmQhfbh//SU0aGKyGSBdViUBPH0JvRsfxcQCDDL6AakXfVMtoCCBAs/Co+ICdzkZXL8e0ShXOnB7U9hLPVI9VNIbYLyYvA3a4K1VJRGJvvRj9w2C2FH9HYmKzOOxNB+cI4+cJnWPSFi71iRBXf4bjiEWSs7oKxcgoVaXXwHb8QkGjavWN145lF7iBOUk2VMlrIBSaAEY1pXgyEyHykOSqwkPIV+2Cec2e+W1NsO11aWvMKcOIyoNl5I9o9xVeIvGMUlou29eTrEEu7pQzFT6JpqLmSPHjFzl/TjmOkymDbr6wjbwAX0JcrtJ4pHxjKdTn++kpDjcayLtxwFAaqgfEn3JFUayTZ8RYtrmpPd6mYvy3VH/Xxrshg0HKk7d5uXAhKktocsAjWXQlOIv9isBNor3QtTBKKQp6gIQ4u0MknqpDBS2EVJFZvEuew82V7JD1QxcJ+2Yd1lZ0GpDJcPexr81Zjyl13xTtSb6YO69BIR3TfaCaDp61tUrQjz4lU0+xRaEg9PetiCMbPLyO1XlQj5QVcfvuBOJpER+YpX8q7sYlWUK8Vk0ZNXE5eb2QmfnVCJYtxYz9EJ01fkSW7kfXS2oTfJdomHPDAmP87kGEc99KPzQk1uDpPJkd5nmtFs5LZ4WzsvURqrar5cl1VG0HGbmWApowSmZ3mRNEedfO23u2ucb2lIp9fS6+zXqRKGql+rLkHSLCLgxzebp/YQqdsWnbGPzjTBAcm/zzCFyjiAorD2qnneFfeTWWJneomU+iwxTzhMSsJPuKCTaHCKCjzVSBKAq66VSrtQ7WwXF+HqcHbNWS3e1Ab90JT/fd8PnQd39K23NvcJEJrEtkIL1BAi00R0lkTt/Nfwfe+qU37k6XeLyFsiLibY5GEvScZjXYCt1JjImVy5tStKYSqYXgCboq8hGtxD7hUofuaRsZFgzzLXm6cWDX5O3vndi2F+qmgyJoVXrIpDXnKtWH+OIlbDcBnrucA089i8bCUEQfljW1QGU8zKBxFhTP1rWSCJqY4ksQmi4lN5D1oYSeTlsrkaQJvaoFgPFW/yKT7e+pPk1Whd2nSOV/eJiMkvu8EIGd3IJTcVmKEkeb7rs3wIoNQ2QOeJBoJbyTZa1dbTKZDx3qODQmJ0utygrGKDvdEKYQyiMlb5C2zG3mc7e2ZLrLA7JFOIEQEgtbe5JnUxvv0el3bl+xJ6J/YwtokdlDpuoKdUVNhSrECqldMB5cgBK8/LTSnCyGKOhzw1n2atSJoy4yJVar6ce6Oy7AzitfqT1P+93F9brdDVQ9qf4tKGRMbLHM245xP/0uQkFEJaT7aVqCDYPvQeOhNGKY7swoxZ59zZSmGO2Sj8G9pbp1uUErdRYgXaIYCeJfGlmRN5nbrzpfAMGxMbmPnYw3IVuILSWUUsitBPqC6tzOIH9oU8H7KHSK5XwjgCBCWS9/kIGceAzgkkgvQiAiVuIseARJUVFraILO1qxPB6MI0+5RfNO8o5//NIRlw9Zzfurgf0BMQbsAXkNSJ/KbgTkJCDHwHwlZjuh9BHKa9gJYn9mwn4uDk2RZNPUd8VMGS46k5EF49LZ1mJTvu0ancB2FKVTBaQlPSI55sH4XUrByhGCzlPOOXIvrivqXx50hWPJqoPQ+9fZiZC7A3hlTiKwoUZOJxMhNjOfeDmbnqzHSh6aZS+i9P/hJJxDCvncHnLSoeD0iO+a86T9M7mlO3BUdR8z6NGdB3peCbKCcmt2lCSnQWpamPaIwhmz6p5TWkrdcqBbyxFDXhG91xRD8UsbKXca1UrsxMbKF5gs8KbTGKAE/FVgP7A3lKAbpkAQCWKhR8yviEC1mMSEs4nT/vgRAo7KMO0TdK28xZyVJEvHNeaTBUiY0q3A25TnkU1esMrYJOTBYl2Ka+L2kcK2/7NopvuJdGlZRZeZcZfZT4jsfuCPQ6sbCw1cAjBz4D2QC18MAjhAQLnDMS2BujqteKqatYlwCDGvLK7AihkFuRompuDppUlw0W9XBKVGEZaYO03blqWZA+GYtEV/4ppV8eByyIENJaakjafNYQg2ZJ1xQ/E2He4tjIyEyVed19CrbU0vhEwjjRV4gc3UTGNTbicMMyO3AKfHohsAPeciGO+GK6JKfcJeOuk+ySfgj4hCjKS3pFnvOCR1Fkn5RoWNsbsZu2qMtSzhHhTRQmlRnb6DHZddIfffJSFRKYVBa1mbRNvLwF6F0uvfys0gUpEsEQmCcQXfJGougEoFEgDQQDGWtAcBxgEyhBZCh7iDmbCQEnantQ4Quy7q0ed/EibcW41zHLGUVn2600TQhB8YkXm2fIwwnt95ovWElcVHEaSFRtQFCG/dxUOhNA+bDm7Lep1Cd8Ns1TK0OsvItY7cfzlBm3iGx8Y8U2d/pP6TyoLABBIC9a3BswjYWOcS3IQZcX2CoiqLBiE7wUczKqsGpTVkMEEdZBUc4FmGJRBgkoqTcnRqQE5SXRMbzmNypyIG55AeqogacxxcyasEtbykZZdU1LRhP9jcNTSgXZsHSCuFabWzJRp49kWmOvNJZwDIJOAIbAGF9oArgREGijaUcHVKQKKGPKCYTYoiQX456duuurJvCKMU1DHN0plVNQ8nzeknm3odS02SkLnwHOaNR49q1lnpF+4oAkBeFCcbSqRCHFWX5VEh23QCVNUylaaU1Mk7kxtfMDHRhKYm9rLQ/wEDMlAXGA5drQDJlpAx0KzkkQaIwYigc0ggiXpR+AUEvKdbIziLOsOUZhY6jaMVpW1Tf1Rj4TleNbd5VTpJ0+y4IRQiyVdxpH6FHKMRFOEBbswJPWkVtKUw0QvxuE7bvu86xngNn9a2t6bKeV1ktMI7COxw5najy0A35CoDkQP1IYA9RBwYqTW9ZYU1CUgW96gh3NwvYJU0C8+0uSAVjC8myLlf3KSsNW4Jp02GiiWZrJ6UpQvAqhXHH5aBYVBsFgVQkr+T0mi4I/xhxjLtGtqAcFpXJkjY4j97JlpAvv+eS6EqhxYwMnVsLBVJFKNvAV2DnTGANajwKnINFfGsZEZwGSbwTjBYa4EJW5hfGIIpRXhVnjJ7S7sC+Igm+S6xZa1uw9WhPa0b2vTdVexlET5DWueKIZIoK/tITgrz5NA0aaoCz5bzJraw3tUb3HH0rQvwrHX4k1pnQW/0nExUX6EajoydWf5qf8ewJLAKtCXQSgAgicRw8r/IKIWEdA1wLquEi3dAl4WkvrHo+kfGmPKEtVRepypB922JPyJSzX6zTR2kyRV0PWvSTAEsSpwjDGTNaJgJ+TJN1pcAiJjjXMSpOTc6q7g/PRGwFsa4Uzv9FFiuz0xpIS6FMhLoulr4noCcojAeGAdvWgDjguxVbabceEVgDFAECPMEArpEyBoximiYxgOKoeetL7i1u0ZMbt2XyjjruzyWc4L6shrkLE1ZV6L94ZoS4U8RYuyu7KwJxaaspxDdmJs7bUhhi2x9Ip9UrzzrfnaG6Ov6+x/TWhYlVzcNLomcS+JPd0fpAaYE+iRIPbldxeYKkZG07UZcTjTVw0AJfTC9DoJ/BICb9Wbh2bh59CTCybmdw51Z3eRTnq/Y9HPNdcIpIC5HRSfe8FQOP+gmxCVRBRSRJ5opypGLZWoqsQvl53CE360n4uyy1qpn8dIFQtYNG3y7I5CdyVjN008KfdPxleXKS+gCAAZuNwgeNLzhfoIcITV7Ygo+5JRPAbkNoVmpKl4+BMZMVFGu8X4DRPeLHxRU2qre1WG628Wn2H/k8QaGhckjgPyj7Cpnwv5MFGdjODGG2kMiNxeRiaklqep9RhHwDa2F3oX+VPWEUJ9T2phTm31OIcj3SuMkuRFIzksyTJ38XLNevGm9gDUwExt1gNKh183wGQnitDfILmICZGKlFrF4rwKsO5WFGkQl6Qzt40URg5qF5wJen+fQOBaMrdEVMsuytSvYZyYE903ke6XK3zslMac5//4xQgDZlYLnxTlEp4LLghdDrMX3xtrGLcVMhMJEEW1OfVSErBCdQACfu/FjWduCGebDXogv6/siNydurnbjRlNo9jB2mt+3Z9Jzrodifk9gnnRtX4J9bQP6/3ww0uwj7xWSEuYR/r8gt0LaMDspVzKfNWKv2FqTzSgle3VYmIlSUq9l6WULXCPSuQ4KDGo2uscNUGWusJ0j+48m56pIKcPDcdUtmqwpzszTXMv4eaI2ZasT8Wl8JJAPUHpkdP21nhKgXhuLi+yt0KPuk91xaqQDubGOQ9s0/U13aSirQeAe1/PimPWUe6FuQHXRYsdwBJJFZ3BQ6GjgLe/FCXCBjOixQmwYoVJCKItPkUSiCrx3R98Iwlna88D2HQ58z9UF2QVl7U5pSXywRcPuaMaT2jUWcnpv3NgJpIBQKShs3P7bHdrqUw2FlatMkM0DfZJ8QugLhi4pAlp+0HYpccNx7dusNAWiSlpINStNVSE7kAkhqIDgoAgmkyDmgbIWm2teXoX74JkNtzev9aZUB3gRWILhYUIO6FNkDkiDhUM1/lnOkZyjrT8V1WN3RsqdkWWU/+36faRE6zOVPwncnZYdzfwvxjDCYkGZzyXx/HuI1L8lzCT+81ALe7qqIMg7gfMV2pFilPWUss6v3quVbuz8856adeTeRK4lSyGcBQK2AoAUJALigi6S6D81HK2ZEcj08J2K33fHnSm+UR4QGjkdHtSuLJd5Nda9LCkd6OGViHkIjm4iWkfH6dnVFouYVbswpRrJn93mCb5Ank4FD7qswapZgxnRGZ+7OVWYn1O74dbZZ2esrkuECQFdQxVP2E/wUV7ZoJZi5OsHdmmSE5Mss60qXLPiy2A3AFjCCIDsIpCTaCtFIJNKrmfC6hjh3Lsxqc3evmLvCAyNGGeyoJx4nlaktmXjq2YKPSRobv8GnRhL0O06gSEoV8Zb6lbK3e9YLXBtpTqa0J60aA99RlDfx8Ht1QxkHZL+iKHutb4tg9Dy9+EblJmZSoRQCGUXU+3LeEzwuVH+wel2hSQLR7tZkk6bRgF+g2RewGpWs7mHXOY1m5CReTENwSZkWAM1BA4R6Zgkrl0ZqUQ0tYi6AQg8Em2OFHBykferywd8aZcLpVqrjuVQDsvkcfq+LI80hSfwoBx3XtalSKZfRQuCYkC77sRgGoSQQPl+rNUkK3UY+tp1RewPZG3NmaT40jNidR3Evd1uSEbW5BN18iC8kCph2p3kfB2ibWVIg38Oo6tRRRb5TaSy5q6e8e0TlWl1TdvVi0Csmg/pqVsUYw7U0jmHix5RYjc3N8Dof0s7RnJJmTr/fJOKIVVPMU9jHaSGPIFeHEAmI1C2O7kO1VhK08Ip8nmf1wI0RwkCc8rTPo0ESgR+h23834vC7cXiJ1HNjlw20J7DDZXAKEAUMS8BFfOnhAoZ67NwiE5gkgRpKVHBLX7m+9MZybm9Vq8noaWtNUlEKFIPGRUhMnndSGBvDxk8479RVCCtbbaVCTfLKvl7bphH1bcxxSkaODZ7YihKWqHAFnIIkTAdbRnDsT+NgOCxet6U8b5UsP/urPe+rV36uB4+R+ZGfaMHGohkILFssAsIBtCdgET6APOBYBn6lSXzZM5fJDZl3v5ZYqgjNTRzNd51/fk9Wtw9/EUHmGBfi+mHBTj8FAl07EyojT9rolJqZ3TwdpWcY98Hcadx2XUwmnIkuatpvX0TtSOtqnfo5CmqDYXlWSJvgqjP2lzWJz0d2vXpPi5H+OtrN9G+n7nzjFQe+M5DngBog0oNNLjMcA2bbVBnbs4iHH47IexREjuY7mDCAgyZA0JJbjVKiDQCnBtAwyZCRx8coIlmxbe62TTN4x2C+bp8/iI9B8+nC6PMiDqUiSLs8FNY3o1LWJk5VoyjPVroy6pTRF2yLcGTURZ1q1+nHlczz1Jq/W0lVn7mtnIhNYNDGJhrQAnoKwHyvfT8DKOHg8h9h1krkusgjPrl4FPULZ63t/anc1oifO1vhJxdBnjHGV1QxJ4Wrsx/GwpgFXiZPm4NRtppwqDkUwxPbnYKOXJOs91F4kDz7RsGXvH2sXBI0+wbkV8RzDMVURakWxpFMbR7SND8esVHqDWLk8k8mLnijMwtkdS4QAxQICQaEEi4h1kBjAR/Q9k+DCvdCgogtp4lcNoHNPqJTJiGklqvJ6wnQUAOsVZ81ICwD5WwFbI7ik6dIoilXJ77u3mS5Zr8K+XOQokVu/2We6WdHGoZhILO+LgOdOPThe0Q4dEOdSXJHRzVM08ZHStV/mk23f1aGeu7Usc08LZDJxUIoID/BpTw0iuAHkebq/crcVDWsykZIw6erCkqhRSkmZu7Yqmn4PNtpCTunofFVbimSQZp6y279cv+ZxCD5ZFUamZDL49T9Vscj9jZUrlXpQIdGsExGl38EVynXGZVi6TAqHguHD0KIwnUcCcq7yU3QtU+uSEbUH5B2wv4/oDugHJGNkOOBYzOBhKfmWBCBi+Na+pAp3pLaMCz/JdWT58qEfZ0DBSI09w5R/rIyLYchIl0kfNgRwvfx6SsbCfCSB8VM6vanpUriN12lKlq44v66oslrMquivXp56Gszg2n7WgmKIS2Sqt8qGF4kpaWprrnUqUtmv4351SK7d1/l35eJgJbos8Y6l0NmH+fgL1VIsQUcSuhDH1NFM5FPRnm26bITbPZTr7ahJ9JPeLS0nQRAgQTZxtiiYVYfRkCa8vuZLTu8vGczOGXpNET6cAwWew7BeTdUdqJfcq+i17rcNWiISHG+a9L91fJLFgzPEmHK4eSp02xPLMq85RWtlkbfycSszoxF5/uxhFA6roDBcQUgU4rXSodvJQMG0s+qZt7mr9o1YWoPOoAe6wGqNgSlky3kdUFDyhmRY4gnC+6xyKsM7ziIPifBJejev4BvaupruyHs10bsLKRPPyR2LRRIRtJVF1K41mzfM1SUfv48fEYTEKy/JdWnRdkRFQpYVcMqE5BwwJeM6TAA3wYqbDmhDHkPENueZfaoJWMEjwzDOkUrCeGRYeElZDQjGsb5C7NU8iwNx33cFOfZuX3Tww1QkJTCgUBNfEnGfSeo96aIbgi5OwoqK2xHJvO6JKaSvHKluh8EdrTDOUjvN3TDU/l4TiTivRqPuUs46yvOTkX8u4U0FLAs4IicWUgrwX57BqUWj4yhrWSwLCE5JIlQ1SAcatxAmsfQ+MVtpTN4QmwoivY5TJlbSREs1iGyx2iDQUghjnATEi8sfqJbr/YjmPhBGhCHvKLJmwgV14GuoePajOTHC4DfZKb3Ku0zRayS4iZTTT2mlTd2X3I2XEkZXTqiyh2wesGzEFTwCmHCpI468RN+hXxGtVdFncEcPQDUUzojRknDG6bAlzFKNHBEAVmog2TwNoJDAekeOgyG1ZBWNpiGzcpBMZAhi8QG4lAnPs070hPqcyfa6myCYkMw7fYxvOF2oQ66dqJXrEwPw1VAcLn8GsrxnLKGKWecKeGJD2l3YoPN/i2vnDI28cHNxaGBUYN4o323Aj0+OTY3c3FHo3X2kEPg/0oTOOc9alMW6V7NAiVP+KQdBpT4+7ExGYQAxDI3VSlg5qpGlHWK+tw35ca0/b9P7qxczz8c+ziY4KSAqtP7uq5AtPDrzvE2/wzQKsDFB3gaIFilgd0MA5x9wf33hEynJJFR6VCeJ/JY9SLLyYMshkm6xfWjNyhwwxEKpI0anW2qBTItpZEYDTJskTWRZI5s9WK23UWpBEM1jWRWqQfmS+EQlvksid9mUVDa0u02hz6ZM0QQeH1uReemS+0orzdLWX57JKSYn7Neb8RESuKMZ0wjZJxK9qFVF0cbBgSHyFsCUL6/n0S8Q8YwZ4kxN91/FYnoXB/t1u1YwzlcpgSkwo1EBEah3NYdzNJNxAnvnlNIEQ4MFGHQmRPk4V3wVqiNzmJveVyTG/N3iUNdfRkmd9JcR5e3+FP88JBd4Toj9sww1w1QsQvYCavLvEoF3eMw7DhP0BOYwgwYlJolMLxORUqIJXsxWDHSqTIc9HFWoQjtX3RaZCNWzhIuRxWW+TRTRaOBtdiujQZbNYRTIhgl0nFFr/WqWMiWK5fNHFIzCcPR6jaP7NaVJ5pu83Oc3RZVEeLdLj5kJ4Kgpu5KOsOuZ2TtmxSFI5McPlhsXhCUvNOFCCB0HZNUrzLKVxxVXiEaPVEVcnjjmeoEoGgqvkosgW1SCIM7ibI3IAKyeElUwUCK5hF0rNJSajU/JaNYHMwFNRN7LubW+nMf5gp9V0uhu65j897byEjm5rDRMhG36/XR9HUbWvwknIaWEjbc4n1uK2YwKom/WiMTU4synDhWJHoKkqlmAK85FM1nW43UN0kUFyiSKUnirPlUpr6GK0zBeBLoRPG8dy+eyuOmrzYP5OXEIRHZXRfhIs2/6tG/V/CUZCperWKFc6bX6110bTveHgP1d+Meh0/r7K9ZPq12OnRCnuMsz0+u2OYbvb54ihwPx/MQbAfnZFuh1O9aBFH81G0cWIxBTF0nEoT24pC6wkpBp6pnENxJBKSURVd0PbKZJJDMuEUpbLOLJfE2H7dfUxLtqhGmmyARrb/rv5lpFY2nWmz6t9QbY8Lnz/JMi3+WIiBDhoF7QjsxPqn/SRSC9tZtIY7im7iC6t5piKJZrCLI09VBUkeLrJVnMvHBNFrelS1bMuFZmcvC5XPhadmAYGxUGQTuo3cJILS1LRhobFsekJ5ISdYqpkGzdRHXsHkucRRLTYATRCFmycXnfwoVE7eL5o0LYPtSXDxZipg+uspbOi47arr8fbkYxmlUReVK8ubh/en2Y9ErV08cGrqM1/i8K2rx2wOkayF5WIgZznc9i9JTH2Edb4yEpLDzGckTJA0ATIllmfG2IsMAs0mdzvOQj0VJJOQ+l+2kmvlf3NwdYnvXBVZ8eZqj+1QnwIIfay1+irjWGLof53ccJWVB/8yI4OiUDV0736qM1PCL+KkEJc51h+TgZ4VUVB475AJJn8d06tMqboktOMO+zhOAk4hlroj0msfN4Dqi+PvNd9W6tEipjNFZXsaQ9rKOfOyQSrsgJZcAXRt+Se655zuTXFsNhu2NPdZnxrr7uIcfbHfWARCWl6sJ0VSO+YjC3BaHU0CQfkU+oNPgNj9xByFYcybMmmtuiQmEoSn8Zx8nxLrYTAp1HY73apK5Up1V/vnIcR3kCZzCDe2/SC2k3Q8M5Jb+EkUHHnxCoRTXbmLhTAhvWs8gq/4irLTbZIiPjOmJfJEFmiunfxpviszDBXr8I8ZSgyfNlnpNSe+NENSFUjyCn2xWuR2FFBHKyENM5fppLNQk4JL3xRna9Q3Uvao3pyIbwXPESfuFnMgQIRCICd6CkSJ+26mgK27HMtxJKFrmuLQBQocc33Di+QxY5lFoToDJwzYiGTITVRX00KFWUhL4wHqBn38CCcJWZCl6HG6FxdGciY9ZqYjWKYndqYX11Pn3xBVbiVmtaq92u7/4RRCJxe+KGEr2ZJ3ehFHnjdaLEV8bVI6Oyofav51a+LKPhDXrDqAqSVWrBe3mt0vtzNE6k3gzeSmNJiWBg/7lCOQowJgwAVY1vsOXSsCis95ne0wD0X41fVKBM8UQU3QhJwNny4Si7Lim4SVBKNpSVDJau0GFY9Se8uS6CUi5AO3jfHxSQ4j4+7VmsSU1u3WC+SevzrpOOkonI+Tb2dnUQpnlJUl1x7N3p6dQyK96aES6oPHyLSpItwEM07Ccju6VZGqXhEWxBlYRp20k9AomGx00IeF0ETiOytHV/iPVNyglLmrkUuhG+hgiirze0kqJnveuWVv0yywV3LWKw0m527Y4PtTkSr9wEni472k1YQp4+QInCxdUBbYf5YWSSdhY4+jh7b+JJ0JekNli432mTAZtVnFFGP1VTiDPsV6TS+6SjJYGPd5ZPeIVbqP6dGTuURSKDHNqUolKNpPWMJw5rzIdnHSBhPBhCiKfhNtA7gOdqNNkZU1XTaftbEVAKPbFZ+JonNmS6wV42RzTATFFytVJe5eDZXZkhlCNFQMTUbjCqhnC3koOCKgcerMb/PkhcTGaMyf0aQ/YtwirZI2foVNHFIw48JssYnBlwrg7fFTL+yEWDxkPRzE18pJcOBZaCmq1LYFjXAkWHGdGuY5XzxnOedpIoewJ2bJJWzcS6T9DZ5rJTLK8ptDkRCF7Zk5zgkBBhBy0F1CQYwu5HpoTmS1RAKvVGPi9uq59h003b7Xco0pVusFhFGUXqkq2sGUlIFAe+SxiaxqXIyAkokn3LLyH8sZW0cJsQvMupZxiRgoo3LSY+CYizK2rmfT5P3mmGWV96E970JI+JFvkDqCuMOoa2Lv/OAq6EE/Zp46kiRH79Q4y6LL9wTAEGH86nsVIGXpUYnIgspbXFqfD3RrykoYEN70Jd4FE5T4L8vvWHe/BkH6kS4qVmX5RMMTnycbyaw2RKDeLeYwmtvEU9O3hjfSVzrpb7HxJZhtZEqDgr+4zBZetw/16jBSivzjxY+QaxfWLjP9TJemTUGgqDXccp6w61bZ32WrM+bkT84qAzdsWTW1c5MJcI9Byp72O0CiFiN8RggUfjRECiLHTcsv3eySjiptCiBpusj9hrO2LgJAV7Ibmttw4yFfpyJvvmEg7M7+kRFeJElZvJouKB/mgXJdKAka7M2kvKsCqyinjd7wWt8N+FYZl5h5SJVJbZNa+gW4DRrjB/YZTT/uC8A5gFhIsgxCeEXX2pbMqEXAkwqDvxgo+McC5eCHtZBJukynTtneO3UpmXirh/gghgHVkLqXk69F7LMlnyiNAj1nbNeFlvynJNazrod392n5z/xAE6U5J0/zzmtDTvZMQXpY00bP16PbXq2Rdz8lVawUp/278pdWYhQPKKUCiQ1N97XCzBswREoK3etSYtSnFxwwZ5ABAgKRFgLSBOwSUkqdBPGwPCO2WFp/v2XhOWmfgepcl0qKPqX/nKbJnniQpqCPPhkqXKd/YlieRkr1W6B78rJcPHuMzGci0XYNDbxYpXK4t1Lj1+gWtUtYYXk0L5cTSlAXdbc8ZyxWxdb2HYC8V0CHhOU3+7aBeAeBSKxEUU5SOfeeDrAaAX7Vv27Jw2FzQ6i+fN/1bTG6u+6qu4TOU6fZdxzjHa6KD+GpulzRmUfiWIT+l+9wLDgZ+xr3SmLSDoetA9eAhiuqI6V8XbyNphRsZUScj6blDz0Op+RU9DU8lIsUkXznzAW5P/4xQgEc0z9Q/1K/M/77fq/+ab5QLSsNJwkD3d1aLh8UKxqBjBNASeRVzCS4+E5Gld2AzMRuBKEiMQjwtCpueJaYtNRdXSAXTjqSQq5tZ5ayur0caA9oFzowUnRGBCTjMaEAlG4+bh2YiQimbdrODLRlQ7+OY537Lfq22IfbvO8E8ka07FibXxHZ2gg8d9SiYfxTJMKMX4X1xh3klS+8vXzktJChpG7+A/sJWsWKnGtb1L8Te1OoXR0JKXGDBsXbUDZWaWLpX2s0g212zon6aJyre3gRIzM+UFIwEtyLqFrotrJD8kI4Gq5f8R63/Zyaqj1IlJJa2LJmirkWx/5bRqab9rMkqiDSBolXQaLimjZjCcM1XTHbrnxfhMVCKYFcEAbrMHSE3U0HdIKH8LdyDAbkGH2DAiScYRWcaiNSwIbJRHDByDop7AtGVmk2EncMCoSVfrhnUIT/XiGdEkSHnQ9+w9TRRQiYEI8iS2VNIbYmuT874383t4LxRD5pE3FcjCCOVqqsUbBYER75z6nN2q4ygTEhXaxmM2bwYVlV2AgRKWjhRKSEHGqvDhsgUXGl6il/ENXIjT6RT/UJUXwuixFfjZ/HC6G02YVIkG/ygiPRARSSmuLdUwYsieITWw449GnQk2s9vaW5rGcVqqQEY6bar9rfyF1PuQS57OiTotZ1qn2s2X4s7yaMGIJmgicoTPT7yCJDqCrhUWTVYvRCri60uuQ6KJ7WknTGZJKNepXZehs8fKeqMNraxQUZIbQ/6C+o/1JtI2SXSmi0lnylZlJrPSg9OiWJyU+9z/fdltq+4ILoK75CWE5yg20Rcq2k64XSyRPLpsL3iadTGDuvTjLF1l1mfUMaCA9hAlXlscEmU8qhKmLgQbYQXkdbwhaBB6sJHNdlOxLuxiDqK2FEREKikEiBog8y0Fkd3mLh2nIaCC2jKLMw/iBZYQDbMaac9Zh9ZMZPzjZ3C+Fogvmcl7QTQvtZUp9KaU2pTPEfNKsYvLKWcpJy5eXPoTcjAkyghB5NzvK7MCJ7JcQVVWXgordIRNLkhHBIutLE86mkmUGxpW5LJUaF3i48fxSCAfA4FbbBgB0BAfSPBUeZIUItyoTFwD0AB9AkIbmNAZwGoEkhRRTLQTxkJ7dd6XinMU0x5JGJjKDP6T8LcrpXQfBiAApgeHkzgnRg1ALYhVQ9hqCeKlXFv5/GcUQiFWCLXHz/bjaxelUrKcLFXhXZG+EhRY+W8ithD9Rc7QuvxdROT6nTc1nBE37ntSRDakamlQLo0DaQu9otkp91GJ/oumXxXCZiZZVMNhJ+a+0RS1qU0cpqnsVuSbR7kNes6nbp7RjuZLCbeqrsxXlhSo3/MQcLMidxXwTYYabql4TJHQ83184iAgS8RjnKYWotBdkcoY/Q7OHow2OaBupJhCTCeOc4hN4j8PV2R6EQ9HuKP4R4iCVbg7w/A8QTwS77AsgRoqOoQcimwcwMmEJTwbc7CxEHspNGjpaOIMZ1UrVR6LHk8IH0lsXvyr5lmBRSf/2UV9uCRqteszHUhuHCTVWN84MRq9uj2EgCXuFoVbhycTdjyia1m1u5NKiWju2MRGOMQts20S/g0zpm3QtZEH4zYO9tc7WBQ45gQqQlJFiRL66MU2Lk+YKspsfEiWs7YXwLS5S6uRqFki8sZ3iJ6tahZrjpVQ7AV1RFr6NbfiJdAtkqdbi9zdBiKaJuBwAVuskOz5Iw8j5Dxq8pCYhJQrGwac8Qlw67NiDNWX8fSuRXBMU1JlTpSIXUSSQ3Sb5xGY62qRTpcaMWhZe3cvcO+p08wiK50aYPqo3LUYk98Vr72e+awQvZNsT3xeyYqqvWnTW+v9HV/faHNrw1sy+xTTptURtllFi86k1wuMhw2Np9V/0qWk3iG32tJsSvSaB4gtRUEYY7LDUC1boaDLiLsShikGOhplWbVkgc4hFHF16XalLpmIQ6Qd4tAteZBLEsBFlBz1+jIxOTzjMHiZjFwM3RFAHiNjv915T1qFfTFJ0wuFoqamUJNjGWLdhD0DnNZPEeKMIRg186SWMfJvdOoP8Gk5acvREbh6sQpBAkotkevTYTASooo/IEOB+DxtI5CJQXobCz/oj0vWx65Yrid8qq/707pB1e0MqhvsnViYNIkuNiUC06G8slM+MaM92Hckv31g+r8FEaFbN/ul9EyOb2FlM8qvPWiNGFEGNW2iMwtHyzQcu6BbiDH3CoNC2bMZx/1uucfhycOf5sOlAg58oy97odWiN6w05weS7xbc4R4QewLR/1FOcSfvXq6kLehzAq5ctUgKb9Rdi24ZNqimuvHKN7DaiCeuYyjxtFJzdkmsWdRMhSsCj7CXnsG90CZRpEWKkDGyqkJkz6xe9KNL6z8DjuhT4nS7eSjU62gXqJfHIrVXD8kUqmVwMTsms8tAzD+hohrYqjE9KWlD2EvXsUhC6vOa5p/WJcyvXUDt82wIZmd2RogfUjuhpKgW/upcgj2xtCTiMq64mCrp0asimfRUiz2ku+qp7TbMnb+lXoPCviBXcRFoPFnB6wj2QFvMJbE9LiYiEvSQBSpyhMOqm7EjBpCsvGSh0BT5GJ4KXpR/kFKOQR2AsZiuU9ubYqHe2Zy8oSY8NZubCInJM5TYdO8pEUbVxSZq0VyR3zuUS/QEKaGEWBCDpk2Vu2INs8xY7noLWoptik57Wvw7+8zcomiUNfoGHIo1K2Z5Z58oJDErjiBfFFrnclt/G1j4ZIF/hbBEAhsUJFRBFxgouZ14sYf03EmQ9LPYZnPS52hixZHN60MTthk5KM9fc7dHhirIr5zsaFL1uqRd48RBoXmhrgo5iDo0AJQEf734TZ9bJJYlFZfIFsjb8qNv9ygHLzEmwim6E8AlccTyZyyY2yaITanJOlshYfsY5ZXHRqPaXMluK3vEg9cqVcvxI00sVlTVLOA18vunK8NtfBqVGW9/pB5z2bs/wYybIMYRfy2gtFfCqhakqRlMrDrMApZVDEudhKkM7WhhFehHXM9Z0FqJQY54dLddTzyEgYJoMc1gpY4xn7rejaLOo6ron3SFIFWJJOFm6mavhUhaIMxxhSsqZoRAx/16UWsRYnkzXqXAIwiVBW+SZ9L5QCLsrZwIHFsbKEqKHSWCZ00VN5ehAQUjYPG6lzr3b4o0VUoGZa/pMprATJoCDmPTW8eK5pMGYpXrSKyZsSE9jRfH6ZBIsHUU0K8x7GmzxrPX1dFkgbPqunvr2imx+joq6/fVGldtdCJmT3OixYba47i5dyXRdkUAnTqJ3ieKm72JlO2e4/toImZ05ppqi3s0NNt8hrBJ02Mka2OczDtXxMslyN/1TCgY6ZIT1RlZlMRE41LgnxQbAZ4QmNAb2AZhFjqhEw3UyfMq6hxCIK4hOqdARZXi/Uf6Zpo6y2uDgZdZ2cxvmHhDSNaGtBLrlhj3K4sNvI017Q2haSITWmKSiKTKem+yQurXTYFu61OSRDaMSlmeGpBlPj8zxyRXq8kJJtkWTzTIsOUvMJv9LusIlCR1HS1dhUv5LHoutKIq+qK8t7i7CeQ+BIvvZpiTxA3+6CkTL3MdYkKqzZIQ+2Qn02l03naCS1VoxrkSv0Aql0+mnRnv5zOYvSz3R2HLNBb7zuarItGSPvtXtf+Rl/RBQzocsg7mxgBSg2EzZ/NZ6LTSzvt+lRhDPEepiBqulBPkgq+RXOWGC0XPcFUNfTPwZyDKPZJ8fM7ImjlIyTXRQJDsr7s2xj6ORIZhK0RrrGZVC5WhMX0FfV+1oXkU14Igo0pjRRxNQYcDggGLAUIAAeoIEe8GNBaJ4DmA2vs9TlIrkzwc7RkZdxdrSirrMdkTjkeS5PkZjAg/WcgxFpQ/ctZtCje5JFLzrhyRdMhylAmzBOMI8k/Agv+3GlU9t1+4+dSHPwfd6hCYQ+KqtelAo4rYVkRUGfgEvAoIo4AKgADjGYAu6xm2B0OYQkhM2x+UKAIxBCcnNOIS5qFbhPf0HGJZKPOvOfRmKSJiLHComgXG1El7iQRbeuyhczOI/S9VT1KgtmU0kesttiurS+4+xIIpJYZJujdbbafCjtPe80oRsbMVkLKBRRbQN4AGKArRu1DiwKAkRfwhqNKElljy0Iu9z85eJlBe6hnpmz/ONj2hSNX+9UNplO4xepghz2fpI4J4ObgLivmnQZrGicIlTGV7FQqjwujZWQQn9/WKoBXtMrfrx01rTZ6cXNo13S8VUlIyoImHZqgKYA+QKIWet4kKsJrbixt47ugwojHej5S84jyAd+cxFRGmj9Q76A4WIyW84qNMxmcBEGyg+An1oi0lpu+zm4RpfEgQz0cTUYygzvY7z20mixLoWauaeD4mAQe3f/8l9jkknX8o7ilRPSO2FnUVqgegLkeArLDXQT4S26kJZxJ1IQJHpHBJDpOhRKLTKdIrwhlA4bp6e64jCfaDVLX5Tteia2mjNYs/xtpRqujjPONZEoVzDWOPUiOzeXWPDz7kQOi0WuQmEUuH2NQ3LYNayOvS3qZl9LyNuENXdVgjATwWLtw+LE8Q+okrYzIkSgpHKfpEtRjnaKUcml5i9TZ0xGkjOceJbqS37JNPaxreM/iCGCFgt4qEKYROIYuiOPilQV//Y9hb28TC0aA+o2rlOzpsV2R7rXLfLU1zVF62QhwnwOMDjAlYAJYAQAOgFgEiEBgBdBHxJop6kZxSKSGXuZTFRoyrPdkqQS67HOTtXjaS4hP+tRG8rHojZoL5/iBUI7jnFwQxwWIYS0zIAjLHfXVvGvHqBA01dGclfiRFog1ekyRb75LcwzLFiPUToHyBtgKkcLSAYAC+DK+n+fBWH8LO1z2h0EdrYFXK95IIhCtWQoCYM7GXf20aRKZ2RgxKHJboWVNJb0/4L14armpBicRAOx8S+prV+RJoyNsVHHUGZBIifVNjPY6h791apM6fU+3Gd6/DTDJBpg5QLton8H0GwNQvuYQTlA7iHQsWQG14f1zbWi8rar/zb98J72itf1joWPzrCzkKz2jcDSvYgYGA99k5P1nHoJKTLBUcUkXEJTx0X2cO0iebJyNaDgkHFeskn1Ope0n/VKskRZAnuE6CzAywPUCH+htAWwQg8JU/HUMpU55YiG3W1gOrVz5TKa3blr1dOh0bl9Tr/TlazWi0LOxHs/B5UaDxxOPI39UiNZLGES0oZDySXgusO99kdNUe7E4sd253J6TN5k4+z8pffWLjIFmlucZmmaNUFGAhwPsLVOBcAuhYBCTDAI4UCdm7dPWxdQvFVzNP0XU/i8vwQxvI6eRLBy+LSia3/opC8rJCnnMz8Jym8781GIrlNuJRRO6Z7tvyS8HDZ0N7yNHKarxUzPZ19RXvK8dfdhquNYq9TpNm6RYoQTYGKAoQLXJNwXg1AlBASxqNh/Ne8331zLSDpoC11NBcJOMvSoUSgjZ931NrIUEZfw8NwbmRAQc5QbwhPlcxYrJplPBQXxANyxQ3pN8+xESVNE+ePfQfJqLTU/qyd4WHvxuTDymX9rUnRPihGKHKD/ASoHiZJZDGGU46BJKgmlI2MeAiHwtlJV0LLSdNIYV3f0judSmR0f4z9VbQNjz0MllR1dl1M6xubSEcN4scUxGVykArqpQER2wsF4oeqTXTgxaT7byAyOamgNqfitO/8baN4oG/w6NwlScp6hghNhOgJsApRIvB/PA7gsAVCoRD+GZd9s+xqyPfqTvZCPqcmGvk8RRIK6UeJ6ZuxhLOSu5paYEdfTUtF3FJSEAT2Dcqcclk8EAQ39HNSK16LshWhC5/XKTMgpvTuwovpxR7DNxSAv2/wLJuv/iJNxo0tRJhPjJBcgoQIsD7QsSRTqFwEAKgoiYXiM6tqpSlxoplM+dff59Ykm4slYiMCy3dO2+Jm5z739gLewn9G5qO6fSFtFfQRD6DEx//4xQgFdEwGMgXzBNsESwPhAxUCOLSnnSmZ+F1pOTT4wNGhtGQiEqolNi8Z8UKsV4pWY6GchMRlfV3dh5P7reivH+TZBsZFcSobqkvOC870tO6bfmRYXgGqDkAf4AqACuBSI6OaAq4A8IAjMALqKuxweYDeAIgD7CoTYzoy4VMuf9Vo6A4AmDCRErIn4VETd5ayoT+GsKQ3nSjO5SFYUTj81nV+y2c+TwXqA8R8C3vq3vjMrC0+bz6CLGCnMh6jDzsMf1dQ8I3pQlxzFJEDSVY1nQ9c0OQZBc51zkep3TzPT2Lcuf67qbL3ErlrpwBsAQoCMBABIySSCQzMNLDYS0d3cse8KqNKWlLaDy1yKVI4j2D5jjCpF5QsygijjrjPnLI7j6VukQ5Vaj+glSvKQoiTf6gatId/29fGUK5kD8dhqPd+STLlCi6MxBXL5astXw281GUYp/oDU4T01HnfS1nEQTrVOabq2teVxGC4lpaaYVufBeNz9FqWVeuLbCiFHxjgqQJsHAGOWqocT2M7CiSvYu/gn43B7HZf6m0hUj1Stn8ssIlwvJsX0RrVqOfhwm/YLpeB5RynidbzN0irDiFcYxCOa4/nspGQgm9RIzFeIVb/QaRSuQVygTxqJi5sXJqR6sKyq8Zjiaa92piXkie7s9G36Revrk3cPVE1RdsO7y5gv5LTUntGxEJd/IC+BhgUgF2ByiOEnHjGJGpCJsm5wRwYYVJxI2c8W8eccsyvHQosBoBAjNIJnUVu/ZsdSWhGNBgIn7V//+Rucl50Pg0GjM0lk67DKBybqs1fQWWySmDd4ry0F/kKKU0HARmZ29MixMqpCo6Oydsk9LGfDx+wfctRnaf5yIohMZ65ZwpCPr/msWzWwipQGUPAg1uolnsYRZK4W3RskjMgdgk+G0zk3kTmpkNzIzJsNahsB2KRQrnbaRWVNpIJYzM2vHKaXFBV7uboiM3ZeaIgwVvSq91L8SiIQhSVuSVj03NCegZPSdiTNyElbb+Pfla2jnqcrpQtxfhXmJW129N0puJegRQk9SeCSjM9Ju+vMYymcS2FNbm92VR17UXRfuJx2MHQpTuP3vYhIBUeCcMWrlfUUGnbq2L82/h49U3XQmOz1saEaHCQ+JHXVSySHyZgmcYdMkJQui7MKa7aCLV4y6PKXjzJb8WP1T55g+CwuQFxhikxjOo/oHQMSYVl5AMTSFKzwE1qNoS/JxVyWk0Sy1q51FdXNpVRI3LOwlmTnZ0/98YHxETsmJiwJjgiasCclcIcXtWks2aVssJyBBxRUHyq9OUkbZw+ExhDAjLX5CS3uGRINkSDHqPnaaDRIuaQOenYyVeLiYyICpRbb8bQaMKXSJRthS6JK2j5PemL/gY0GEmpLqjvK+tqpHcSOfe4llEmu7T7icU9F6wE1R/7ZVJG1ICczcmpEZFTohIjRo1ZuSF4VPlhShkYWPHE+yahZbHLJ11KnXpXcZDPRS6uqtSszNm5S219UJI1G3FWySqz58kNDA4qMHi5A2sbMkLjYmM1h4o0P/2/ZtbJaNEg37+t3FB7hn3+uhhWy2dy26uI8hBNZxDSX9AjQLYZ2/t87SxWKgWAgC459qgjcg7MMlmPEKSeizKiWyI6wPqGypq0rEJ3rr2am6tiITHZUUmOWuIHjEMBIOqnoktYcRSprBLiC6L+QRiw7n8AzDOLgJ4DEMUQjfNdWOnguAgSNkEqkc+uOSJXYffGYvsUyUdIfHLtkkru2ewfVglpXXryGJe2doqw5BWPMafUtfv16NA0gOVJAB21oH5AO4Az4Y49x2hIuFUoGbDLiHGSVYyE3roCkrWo0W09wJhvCq91DRH9E2A02Q+0m05FyNF2UDyJk1zE7OXQjJ0gvlIckgKsrShecTaa0+YzYg6vz72SbhMhdJvi7k64eDAfmi/bKcjGPuMo9LlpvPrzEK8CqRkCpVAw6h/FE4sUyiERpYnshHNHWMiWtyooHoUnINPdwlKUq0dUuJ+F/RM6LGnnDOI3Ysn1Y35HS1m0OnvsUxz6uQK0Th9oKTSQPEFai8hmIFELfZYs4onQ7bOEQ4lNl3bnEq/rogRXsx7RR+t8nT300wQdZEAXzRVv5qwBQWGTb0FM8jZOmOWHY2kQDlGaWOg5+kuMVGifw3SiRrbVI9ejpd08JhjPyCjcdVVDEhxYdNcesCQJJRiY6dxluO1tPFXCqNYxVWkmkm3cIxjoRHQkjN7cl2K+dx8WVX3PYTT4dIrG/udWTEymOokzbfyGb4+BxKYLLlWFu7n2NJWlXNTyKofFgCWBoisgDrroWgVBs5uDsFZDpIFyw29qA+nc4PWhwRCRuwkSuKbdql0xq9gjKY5wWrUrSm+cRfICZESydAmGJQlZmIVLBLR+0n+MGpWExG/a3XqbR43nINouD8SK0BQMUo2EqCJ0bqW7EPg5GUNGunfTpo5PeWnr0Y+RXYXrSM1FzMlzlY3P4E6FEkmyObvBwBtqwuGam1ACQGXyE23Bf9LuVyzu1Koylk6bUU/AtRNsmYyJGMXD9Gqu5cnYxRM2ff+JKOpwCXUwc8BKQ1gIMFPZ6/h/G3LUage20miBTm5bUjD9kHmR2IMRP7XNR2n5UlqqNWha29ltEoDXfytdOGVDUYz+IAwQFhjc8wiHzocRFKauzpDBCElBG8No3oBw4etwVau4Jz9uM0aWgHKcWjcH5fyHndeEqsso8A9iXKITd9uii3qDgy3nKLWQqTPRF1i80EkbIczlw0ef2AKf40ItnqrAfLFYl2vVvsedfw1jd45WZyWXk9fnTlO02Ow3iT6rMl03gByDSBVgE3hgHZ3Kmzd7CgwgzGq0xUAWRdCxseDt0zqMJup2prVDu+HnAW67f7P2PRecijS/DfWiedFFhVSMk75GMZIVm+jcbgT0taV6ngLe5+4RsDaIrmT2H0So7qzxrVxM6Mlh01MyU7FxMrV527t6QsrGr21VV+xILu+qcAlo+dIZYmwWPqszLCAPIBceRIliQ7YdamtNJbraO1UzVTL7kIWEcNnAtFR8ean+uUQa7m6tdpdOx/S/UyWOlnMwwqhoiRqxdEdEwjYfjYxJSsKQWiAlVPoSyIYVnRnedmviR4kD7CSRdHekbsBneeH/bcSu0YhL3W4zfuj50k/zcRJPudaRZGWWvx6D75Z8Kj19//73gnZle+/T3QkDT4ism8HGiL5QgT2YR+IqM1s8kHKmFSV/ZNkZoJiYzgAsSh0MQONhGA0kBoFIiBB6IbhsJ8GluTu9sSKhs6Mrl2lPviHkqE93y2j2swU0oklvIY619jAOUA2gIu8CcyNaWEAOinCXGZ8CAPGVpuHj8wHLoskEvIjmu5sFBWCs7GaFwsKw/55FrHy5mxTORPQPGFV2BehVBxCjJmUbMkLsqVWRSQyJM/sf2M33OsVUKvNQuSBJpp7gQRttlESootShAacEPgVF8Z4eFL0saLXIROn6VokN5T7xDeUdHdpdZjAi3QoCaRbhAjK1QTI7cSYzO7qFaXJae8wtW7XIlEJGnO37WnMhdv079WR2LsUEflcXyJ9g4TaYJFHyIifUfYOGCRCBSylHIJCxYpTjH/KEFZ1snfSbGHWUTaMH+Klato/teqf6/laSlqTnwhTSWkcgWUULcUQWIGGjGnFNNJFBIkxJylkoJYS3ZhEhbSNVf3l3tV1XWU1W1y6Yyi+TmhtMqJvsotyK7rQrWCqNKI3V1NVf+Wa4K+nWH495yDBBIkhhRhwQ0aSSMRLPKOcMUKHDChQQUg6HEOGCFdIiK1EKVDyrpy3JLRcKUQy5/5axlcofopqkX70qjT9p/y2qrXaZEyq2r9l986VDZkRdffERMyZdEVzJkq+TRjTPIyaRPMYMJOEixYWNGkOeHGhwLLDBQsKFCwgKGGHGmCjhJRi2FEEoYvJNextL95r03/b+Vbqo4T4rlJe2dbPOnsUiqO4QwMVw5LDBhhTEsXCnZUPtb9NWLEiRaxpaxJ4ke8mwmAklZ+myc98SrCFJEYcQoUOGChhBQpxAxgUcgqugRxRXIK2EEs08h6mejEoFmmC+vzf8PfDSfuHuXr5GozQhsuXKtUrmZ7GWlD8pJTXLbJbYX6cf8t30npqBbJ/fetKZ+EP7OVnZsMphHFQRhnOOgiIIOk4h5iElVjI7sZKDTGv5mImFrpferEopZltKT7okqcUSMmxxbJ5EFRistiqZM37OS4nxF1ug5CvPn3LsVAphSRTZRMKNqJBqkERwTIQCChrQgppIxyiWo/0buep7FwcEimtU9VTDL6tiapbEeR6t1EZGZpCXItyWXnG0QSjCVJqOjUanErtdbW6j/Q2Zj4xbtThs18SsQaxC74SYbfIyE1GsUP3iwRYnqcyC6tEMpNiSPLpUbLI+vU0+lrqTqFJMi1ZYQHgQD5kaXEckBVIIGFSoVyIh9Ims5AUuoLposIcLZs/o4ECMqa/esCkkITYSiRjkgOTIjXeAnBYW9W3NAvF07PhN72mIDNoGLN/mzpEWXy60tjKvRnlssyEUiN9BgX4isQTk242C/a4sjjs7lSAcTIn2J1ScWS9KYzkOK8WhjBYAewE4S2kERyHvNsjEWiSWaM51V9g4TYfNslHHiI5H2Ep4thipTflpNUEWTCLIEZy9Sa6y5rTXCDS5HJHdWljK66SRfFn21Pmrh2uLf92Lmu+olCHlUdysbRScX8nVsunctFEmb5mZlJY6G2y/W7fRcCGD8CqvER/4lRFdv8YqHWnudhLHsAKAFFFB4CbyQKRZEqO7gqTnuzrLkh8oXhdaVVJTVtXbNI5bkSvn3rCaWran1T2b7ZE7QxQj51GRv24et+K/vUqeteE0FFFaLKoUNW0uivxv3ikFvVs9FHNqTKEcfdRxWogEZJ0S4UFOJS6xg9qOgSHj4sVY4dcqkTZIJeHEIjyboSwzd9NAw9CwaPeHmv1rfPAMcrQg5OrU2sbKsnr6l4kxSSfctqxoC/xuRe6KszqvLKxU/3+K+L7HVFAV8s4QwtfOl8eussb4Qd3NMXM9xEXyMvrD/DvkMss4v/CtdQYUkEeJbcm+pqK+AvIRYkMUtaqFFGAFJUy5IX5tnrIpe3Zzbp/pijEtVcw0Gc3cJcYMRAYsapt1BMgRkqghbAewpJeFlkO8tBexTH9rUL7onQ5bMTdSnZSkEQCw2ZQoTibXMnUErMEg+mRvAJUd0egdOC3IbmoGj53Ak5WncDUjrK3fkrVzh3Sl4xIb+fIUESIjfhMcy80S5a1NMJ3C5yUjjO5L2NvRFyYvgIIQuvLJphpxAquhbOEDfbW7nlWju78jkV1q+kuxB7UQAv/C7Ce8zoM3hMVWHhJcotcgm9JM56VjxCLxUlBJ1Q9aGRb180olpJWYhI+O4CH/BjUwxqLJrkrz4PDnS1KKjfW5l9/afRbfwal2kUO6OEFhCDGX22Y2hLbg4y519HEQE5c5cCX9C2tQRWxiVEB/LqWlezpDAjKGV7VnIcemNCQNmm+uXxAXjHGImuZDoRW6D2SdN/C1++7QDf/4xQgGfRIAJBHpGPtJM4uda7Gs12uCIkQtZclCYXOClh5wopBJBLkedBlCBT7OEyK4jJAGfnD6RKJS4KgZpnpoZBHofOhcKIVjNda+MZdoWiex/qEaUflO9j7QUnGLPhKKr4F2fhTwyLXYVmlojvo08OBOAyWaEJ4E6rOEgTUMYapkj+NgT4p9wK6qImEUPOjlYmFjHft0geT8uGut9ofVW+S/Yy6VhfrUxErWaSye7X5i4I+rSlpiEexzCFspw3TpBPBvDTHGTxkCRIZGpPnOhEC1tjQrnGX4rI+tqEIOv8XU/IIidcblF4KB8gRMeAgEgboTcWPhqVJ+0xJWw8SXGoWUkIPN9FgZgIEsT4HFVDr26Z5ceOymWkPP17HQkniIvCFkQTDBqpgIYYgx2GXP0ZiYLQES54kDlQhOahxNH9/Ykkd6rG2ZzMEzfZsl2crzwe52+M86v7T+wm8qtFoFt7qlFRqTCyzmfysK+sMsLhMUD9Ma2CVQZP0b0ERc6OsnU1wiErkvJlpBtzgYmqyTvrtHaUL1q/AeajS5aNZUrFYh7kt6uzpR9h2rVZmqHl5SluydbaCC3loNZSdHONJBGrlCpL9nSIp+vCCKFlzc3snBbqUK2VtKhEv0upS6LummsXHqtTw9fbzoXFF07wZLHuh4gJFRBCZTY2aIpKdpsvyhOtmyA8YwlFFp8jtXhSU1zGuit941env/Z3cBINEdk4cSLYhVPKbAhQsMUEkOaM4mRJxg34DvTcOyb0SYKBDScnvuqmHkwTUsijyD1TYMVZyGoe4Rutm45H8Sfw11XKSGjK0KIYgjot9ggLuVEhTNwU2FFCWhU4wo6v2gvXGs7SqjcnwLQOK7b/INGqxY2jsyaJUmLCz/qYhPkxzdSj0MqSTJGWXcnEGEV0cd3xHhDKoKGft7iROoQNQyfkuGctw2JW0+cihU7lO/h81GrCq32TcyfPPAbZgTU+1kDBVvuv+p5tGQjZX5HpnKcucIlvXfYQzRKVb5D9KClK3L97zP/shxcJWS8ja3CCTwRUkrQdYgUeiZB7Hht7gYyJYxjeiJpESz92fh6+xFCIAaMj/BMdivHA0cTASFiVCEAxTYif5o6XqK3S28nXhRmsWBNOm6MbNBaO7ifGsk08u9argJHkVtJYX4ipa1eIoIau4qiaftEYD/6ohDMNmmcmYLxNLjYe3k2njN2DoRJw6Gu3+4xG03rhwOS7fAs2rj/KXmjtYUpbTe3Rfp3FLU2trg1yCWstfxpH8OYYWa4UgUE6O1RuzEAIsUs+/oHs3Y49uOBAGfpNuoDbNq3MyWQ206GrFnfoG+QYdMb3qCOPgk5y0xMAIlMBoxxyqD1U5ZT1zk1S2Muc9UAo0+CBjmi3CbbQJeIOM0NdljNiQkFGgFaq5f8/s2A2GbFpPQLlJhUR704CePQf9qZ2TggCgjPoOGKL0cMQPLR1NCtSgvqQoAv0HbVAcgYimJ3J+rb/vGHaORUCCjr8E6gXSoA07KsQOJwhDTFy0Xg6n3J+WG+drpIJyEPfXtsIeLGkpMSTgvF1UNU9B9FKnK3rC0TFPqt5Lko1bKwmHPZNTV1YjSrO29MzbpjKGXvDucpn3IXRSkG0t4RVcWIJwsxdfngmej1DhpRVtGiEKPaY1PlCRGeaNLRXDJFrHPzomyYIanefaDqZAr5pS6CgQUVXOuHddR7nIt4i6CS0/0kVytFQ9ht970fg4StDcMpUixW64HBWi1I8YQ1Dr7Tz/BXGUJUFqmgSgjFiDx/domhcXwhVej4J6FhBPFPLNu5ocnMCzWYRDILGLvkcZqvLJjX/ahvNxzxVZKA7zRri+JZco8o0KLJJRrHECKYYBDhI4RxWuNzxUb/1heTLZfcUXRWLF6+b5MYFV+izCbXAeieMsI2bG4G4iwiV3muBZYiBl6l/tMNQC8CdAeusF4NBpnvY0rA4kFPihYbEFkssoWYk+J3WkL+NI90/gLy9ubKRuoaYfKDJIss4oVLOePexjAgsCdK8++IKgnCrEmWYTwqLkGXRmUSy8I8GvkDaO75NmmZ0GROWptJqMWvkJIj/UUguscKc03cFFJCLNPYFcej9CReediQ65slm2VNWvBIMAW5444oD0MU82Aaki823yMjgRNaWFwU7h+XcYVa4ZucmeBXU5S4PoosWcb8GbXcYZZkkwK/AvcPjo9iUUCF0pud7qBptvQXToXjxHjujAPJKlLAYXOjysE0QI7Yo+DUZI2StOganYZJY6JKHBUsFF6+GxF5ixvPyLjLPmAcykTOLhZ3qn5lOOacTP/j70xcRJAzi4cGj31OxmIlU5H17Rq3u1U8Md2snaaisaLvuPC4opGvjELGa29vJFc3TaxXLFuhaVqXWMzuF1yLEjaggMdixULWZxeK0rarGwct9IxCqV34zeJzCLdQ9Xx109JVam3cuJLOU20s/sJft+gcyOR7TpkNIwHhIN2AZwsk+0Vq/8hH41iTwOzWxlDPYRNBHPb4bBELYfVk2BeluJXyX1xgml9/MBsyJe0ss6UKjQjjmtjAdEQzhBVzsFCCW1ebqZNUT+j3cvZ4Mx9BDVgVjEKZ/T8JmOiAO5rVi0gJc2i8xTkSF076ygdoz2XZb4TOJj18DUYBND25grAxQQqgr2xkCwgCuNckeihxY3O2qGSVtT2VLLQ8QiudVdqPyM1tv/soeuqTBUpGuz+8E+6iJV7VrKed4fNDKW6XRK4SGv/ajyLiBXR4/Ktnqx6OBWuLqzIQOWKhVx9aKF+sJrvhLBIsuaTKuZKFG7PpZkCuyqeBWcsT6SY7ciVfdL9FQFxskCQxB8M9aLeQMm7iw8/sjljjCpXIg5GZkXZCQMCxkCouMBAiMlAlgurDqZ5bM9Z+2WGMie7+JSorEzQSa0In+ihiqp/5IYyJ5RsQGrFx108LMNmSMBQ1GOFXe4UxXK3IRbVqlFTj6KRCZ9NAaa2In0h4o+VqQYxNeu9NKJJlyMTg9AIn3nqfzzVZ1YkRZUPONiqZA9zvV+6WYw6fsaWuujniFd/ggasmXJ0Gj1BUvk4IeXbvZan1++OEHxGuucxdlGLRAShwpwQCDHC1hqpRghjl57AgSDj9wgbjqtDELGVyzEQYThx4gYGg4vIMZ1VmcU4YDCFBw4oEAg2HBfgyQrDMULyGTKOKRhjVRRVQjK5GR7USdvmIhfVpjJ3LGN6rvWuidG/xkyncTBEp36NE9+q7WpqlUmK7khBFLdyQj2RO8a56n5Nfqmx6ptJ4QvLMeslUqEbUuqaJW19RkWXysySTPs5BP7SEw6saP8EtK8ZkiL8y79if+NK7obr26fpEr2aputEROvya7XNu/Zr+mlnzR8iWeNXiIn1IvXoZt/dZtvCQeJkt7GmhWye/MheiXftis08ySLNqn5iP21iyEji1E8TUPhC+CrLgv27JGURMGLLsipkmkJDygm0RAxiKjtDRbZUsTRXr1pc1by1ltJGNgI7GQCYNklOhGpQhoBOlCdEUdJpAo2LBMxkC2slOhRJrtJnSqXsZWWOAUPyNsQKs15pRlIyITEc1HrkaHLWqF8wiw2FZFMEXfwosqmuJ5KaUhJy0biWUQW0KpFlttE0Vk3LRPJOGqxO1Z6USH6NpcSKZycIiyLM/QpQ2SS4It1IRDi8vypGKaSiyRybJxaaIr+brK/bJwyik5wqfkYTPihUZGEP0S3L1VpcUtQlE2pSCZbJE1kgmhe1tCImTxf00iMtSZbLR1hU3sTJxpO6sqNF08mq96KJTrJrLJlyesRWyWWlpk4tLctTxTMlP0iTEYjcuvcNLPQimU02ETqoiTs4U9BPfI8UoWqeIq2LmgSMiatllJc3llZdomTiZY4WTEXmFeNIgvMTMphLJy7sTUs2UtJVXTS6Sz8kTJOzRTW1yI4mLPI0wV/lE+4TjJaqvFzpKQzJLrYkxXVsvSNei4pleTyJKVpGpJLNRrJSu7kCWJD0TaFFP9FErvXzETYqT5EcUbK2JGjRtUQuyMZMWQrnsnwXhPGpKQ1RiKopqPC0Fq2k1FsW0mrLi43JLTSlMpYsciI7SlOV6lJwryWfS5afJJ7XMqaSpE9dadJel/pSSqpHokuzol2im0UcTc1rS/L690kp2kjRwskF36YtUcUUImaINQEa0VvEE2IQQ+KNkVlBBDkxA6KlcfnYglPwo0r/+MUIB3pOAAEAAAAB/////////////bStlQqJKfFcWIyJz6QMUMWhFcSOZ2la5WRU1UaihLeGcolqcy8idRluZ3Ah+8cn7ObSloi8Y2qqNIehScq4IJgUXkYoljDSvkw0qUqz8yc12+5JxjzMeeKkL31VZtSyukIo+wjRSCuqmi8zDaZhATYKDej2f3QsVNJP9W0IwBI4EQdQClQqDkiKtmkRBwbPpChEgsuNmBZVlTATcClxXhAv4ptFdzWYrRJlML4lhdricbJd2YImSCkrKhrLMWSRX4ED4dNoQuOi2XRQ1DFyZBJWFjm1du+lVd+ZBpU1p0UuIQnpVF+qppUNZwSAOAbARAWICgeghA8Yh6rtm1PUsySXZc0UXXOT6aQLlKM+bGviYQm/AYE4FE1/PM5EG2TGCdGkU1ktqkqO+5VmxJVEtQ6Yo7hL9MubTRpB+zSv0FG8mOvnIN4xBFKmbrTvTUV0sX6xXMkqFWtM0Y3mSm1xo3UoXU5nfDr+RDXEkKFnQmRg3Di8RdfTnuTDjSKay5RSVXEVmyz9Igky7jIjTY1XGiLSjtnr5bNR+Iva6jRyWmWsr7YWItapmKU2GbkwhdKpPVZ5XuLM2euIY9k00YskVLZFP9WLEFoYFggtFlPeCj7KahajgtAoXRE75z4NWL7LzyPaKbZlvZ39PUWOeiluSy6iaSZbyqaghtlNk4lEa7ddS0Gja6+xJV2jXEkYtVWjcy871WgsENNGYTQ4eqnWSO08IoSZOq933YIB5AgYHwIdTGCwEPG17STSIjiLqR2QUaPBsChkeGObOxBxr8IWEO+pZkEkI+1XUQQThBKGfpFpdF9amo7CxyWhAnijSrmFQ060qU/Hf5lQWI1ow1mNK20TWu+MYJO2Eb2s1IwmFTWq2uuKkwuwg3wgneKCRiiTxm1CJq+RaSt8iZmTH4UeV+EFum0XlXiSIeVdT4hvmWvmfLJSijhH2Yu3XbEoxLE2HBeEfmuQEh1nhxNjBrnEuxLks3DD3REd8VzTLm0H+kbxasWyVqnxAlUNVfPY9DjWbaKjJYvmTPRnezSPqlMiHUMcSDEcf0wozPCBPCzcSEm3DB/4aRTxk4XkSMrML+3Yof578SD61UqwczTblO19ilXlUkwi0mlgqot/6l5/Wk28nVY6YVnFWm2juLI5Q624Zqp921YRTSTXYg+SX2xWFEst+RKFSFr8YWVKJY+FFyUveuKVi1y2uUxilYarmll8MOio90ItVCowFeu1PlSIcU/JyoQpGZLSm3HAF6w0f47H7QzhQDUcGrtksoiRk06UuvLk2hsdGxoQcFC0IFiuAqaRc+BBds4FG1aV8DAltOL7Je/sqSl75nGgv/XjZnfufeQl3XFzDdU/DEpE+Z21G271qM4BKCBDNswZQH59AR/09nRZGTLCwChFuN4xioMMLtfBjbzPoR7EAI6oHT0KYE1oAtBw+hbZDJT8CpFNJTnBkLhPLaIVAoWtlhZ3Mkm/MjTP5AESvJJ6UC5TEnGpt1RxkPZ/K12REd7w+1186K83i56WM2RYtmdEO58kyAYwQ4aJkB5AzPAAgygGxHOYTtiI4J9jh8eLgEGLUZwltFesn03iHsNTswy7glUaUWXcAaXJ9Qz5fpeTM4zrJm3bkwG1Lv+iWySXWm86JEJanloyokbMmkItXLD5j6EG8UdHSZR66MgWXN5tMQLHyn+UtqVrfESbNAAVSlBmqWD2E0EWOKQkXaKIhJ3jJRwRHShOBi6wKSizCLAst9u/eRfCWi/xh144tVisPwX3EJlWOdxmxmigQfCbmG6KC09NIvbLnXegklF7cYpFyeznLTCiqKIMSG7bGKTXUWpT+6KYW2TOei+TezevdVbNQz3J1bl+daVf5HARAN1g1AJwHESADJKYZBEKgR9WVRRnOHNnIsnxxhBCgsnFb65TcFevCAUJYiLKoqITdpmuPJCbrsRiZ5sj2Igu7lLUX0Kgt0LnLw1Kxf/ddpcV3XQ+/v1R5QP/l4/MxFCx03D11OwU7EjtsWk3Z3dH0uR2N74qzoi96FxEuyYHrJCSAihuuoOP+kEWpcmJoKAELi4ilplREUXYBkLJ+enR43c0YuNSTdRc8hGEkd7nawayjWiGvqkkzre8v8VzUVwuvuJvvpRVHfMXqGZiZ5Fiova+0tBW3Ci52U3f+/i/5RC5fK2k2BzkKl9ejhGabr5ffyE2cK1jgEIIMPV64Ow3gNgMMgxvai8JQw5b+BjhKC8IVysWKIIpkOv5+cddeRl3bAq698HJo/QjYMbjC9oqXQbUbxlJUh4RKEs0Nk9UtDjOob+G92bD6W6dwFC9hjoZrqdtcdf4QkVJ1+vpPcpSU6fvYWqz6PaXw8eO2m+sn0ff9Xj4fHDGQ0VFTRds8CnGlJmky6aAng2ayegR/JH4vuaKyorjMG1fw4eZdbp2tI1pE8QQeiDGK6yF+f4/Dc+ERNP3owFsT3Og3SrBKZz9sKuybF1TJNdp5Hf1EubUlL3acE1opXLIywglqwZuPxaYZQb7aN7EY5CFHoqFzG1qSqNrSFm1TfEhwritkfTMW5vgjQjtr25tN0iQnr5UA0ayYJ4O/6W7ZBasN9VjTBc6nwWgvy9lpk5ROoqBd3giUfncrobFUhb9j4LiVEahyEP636sWf4/DMT2wxWHEEZkMBJoG+XCOzuvF0GWsMS/RMBrxSKzNkk6+A07G7KU+1rWiTV7pMRIJGrAjAsAzyDuB1AYhiHHAFGCGx+bBMocJJktJBmLWEHy5NcW2zc9oKeplAkPl7i1okMexmNNwKNPZzC9rKDKmv1whll7uvk6Oh2twcxJ7sUlGNTLXrrdZ/Mbi0V3gJSyutBz5e/kJya10bncdlxyiXXfWTvmYOoJc936RY86sE0DWDTN+nAvjsCKMV7B6hzMNqWzsrLBfhafo4GKJJMvMrbweCd2gN9gxYtr92oBE/HCM62OChoiLlVJzeylsy39CwKKIqKZdrjKNJf5vLYys82py+SPImFRySMO87z6+9gRcGq6KXQkmgpVWrlL6MxliBXZZpMkTriRgnXGARA0hYkqeggjcaixGMFaJA89pOFRaBSh5HGK4QIL7NwwufE4j5IgP3WaJsO+XiJhGBACLIxcn1e/0+S+E+VBltRH7h5eLiQpYfKs+fwjeNEQN1rvhCrZJNSqQ6mV6Eca044/ZyqngY1jqJmZg1vEtWVImL6k+v1v38f5/73xG3BkE93wk4TjVt5U9AzBgboxLfWkznRhCYL2pRIxikT9Qx8kh7H6hV2Mt6xLPR9M6jpIjLrfqmrxVTt03isxpu6gbjS9igdsA1dKFyyQWrHpEEhp50KxKKWP1KeMqLn5s5qATmsqoCw4ceXYvc+dkjUWjUW09nJESUJGhSym4AEdR7IFWB/SqIfiFgWgU1Ci3+aVkIIIy50DSpEJeZyvcI2KWpQQXIq6QjoPRm7/ba4zFsldcvTDoSkPktyrSfvWuYxNCv9SqDfaeu9t1SKS/gXadJryki0FHfTzCJYtArJ/aKLhr5f2spnekkmcs2m7PF54Jnp861ehXuow10LegJYzLYU4yj0bOKwQGAMmwPFEZN0OxGgvP1tAQ6mkPAPFcmBTOPsRP4VwUCu2oiygvEpUwTmWn+mUIVQYgIBdIjtt/VnuQiSQfKiJHe3nw5rIstvnQ8n0/6uorqthVwn3gim9y5/aY8Ti9jfiYTiEtH27Nj+7l/Co5qyIzJFhzFwWIS0TBJc0TncPR3Ke0MaYN/PUURVEqQkqfRm+feuTJNdE9/eXUglBAKfApZT/2UvuX9MLSzVbgEJdPDCJhhYP2SLnZbtYDsJJPTU9KVlErFNtskoXvXRhIMZuY0EzdHArumt991wunsvrDhuvUbp/nbNmq1x+ocrgEQ4jCY4uk2t3FOZSfcH1QZ6XFhnhBCAOo3xDuVQhZhx2AWCUyEXJbDWEdCYlKlhxjLfdocycGcnGJpdmNJ0cjE/LZ8/9eEAey8UUBk4/ju2UdFnk8LiVW+XQi8+xsl3+R9eXmFg0GpwtS3+5QuaJO2qtoGXFw1OHeNV0sCVJLV3I/yLijy3IZmVdaC6L1XCfS5iWT/r3nf366PkiHIiLxdUyr8wXCWnMqRMpUinMRxoCELDsv2SRZqp+cOqsSmMwKeFfnp4bdmaZbrdQM56E0zu5b37ffaBrJDbSqjmoyW2Ih6lWUZ4wy7Lqq4+tCtH4MQsL2anslxpqJ1RSDcIR4VKi2ovplJMtrQ3ZxxO31kj9FWNV/N/8Ygmrjs3ps1hstkIHIkc7zVezWJ3lWj7K18xoHk3DoD4gMFYyCtkpW6Wez0MZ6LhkIFvv2TdJO4ag4JuC10qr99ftlXmWIk6xniLjgD6A2AJQ92wf4RoZLFNsngQQDKLa4QSVqUmaDJ/yze+GqepBpg6gUgaSiJUqV2GuM8TboJgFAXzkgHhBWu7cTadhbeQhC4FUbDqn2qe6/V/WpBCFdtQefFxV5DWvr29rp1ZtSJRfU73hTXHS/4zns3vTsu3K5lkEaGY6a9FXyJ4Wz3trF4HUGYn1yQNTSC7jZ5eq/bdd+UfOhbw/FM16UwxzX9U2jWosx+kcuUNgLMtTianPkIYyFGjX4jUf0tK0dho88pe8S5hoPbPfG0rgsBhdw9HQndDZ+773PUmY+vc7n+1dadCovdI+qJqjgDAMe8RP86PvlyIrUSgEuJgj02bdlzIudQhX8QYJRGpoaOn6noLa123SmBsp830gmgaQuHJM3b1L9wzV8+BxGwrpWtJGxubBHxb+VFVIcCypKRIrF90FQvm8WkwqynZ5Kx24/EK9fKdwVjcFq1FR9AyloGMIfwKt+00FjKeM/H2LLsZgHUJ0jUVEvK+I+xCrl8jwynd7jO69OY9+ENoHrR5Xc5e8dTna+0K2PB3qf3JGIYJolG3HL96ozvbo5jGGQTgYlJejPrdcrpRZpMUAsNEoPuv9jUXA6+G4SlUqn4dMWPXF1UpXFK1LJsPYFSnEeFzEjGtR2PcYOAC/BtIP94CEjkhH2yqh1CHBNOt5TCiimdRshXqYaqMln6G46U8FklYyEoi83ttkzneUb2S1PfXj5slCOIhdrFu/3wYnYlYSyhTmH2VDaNsr9KbpMpz/yaJgWrIWmK2dPvW48xy+v9fTHtb7icntcLIL0WUuHh6RGOHLCRkodaoMReRepl1yfC9lrL+TGrkpEgHVUzMO4T+p8mNSN3p1vnRmwbJTtFV7N9owQK8dyh3RDcvOJo2CYRJM7rGcLQG0V6AezltG7OayUUJ46U4fOCuGTNn3+71ERS3NqW9pWjKLk7z9ZqBGB7DTDFmDBUxMWvbA1wHOAnwzT/jIye+fekl0woglZ8ESJVMDZ+RLlKGD6l2ZVQubuFZPUM1pCY8wan7bvnW411pJUHRZGt1/XuWvfBm01a2vO7YhzRQjiIcvf+UYo7r9O39IO9KSkUqTQqKIH//jFCAhXVARQ//P8S/rH+yP8Yv3P/uH+a/wj+Du0rCxLJQjxTTrG9qb0EqdyAPDVr9I38bZ+eehJiP8EdmnrcczXvITlpYpfUORFTBTbsk9SlJM86yzHNxSxjZPzuSBq671qFqP93EalHPTZ+mhzm69C4rwL4dy79nEvFVQnN71RG2XoYu07xvAuZNf4qRQDlqGkDIezDFun6OpYbjnZkna1WFoVNmdbxt+es9v+6KVR/yut8ZIZpqhyIBQAY8P8FAQsa2NnCjT38MCXgasFlBGlvEMhYMAakDWnrJECWEuQZsRaw0Z54QnLlP4MRG3Ejup9tugENLYKsNsXQ7iCtS7uPSMgBhCmTVWSphdSqzXqX4pCPVFM65Aas2BWpTf6Px6zSH40Vlns9n6qebF5Xe0ToDJlMzLt3cyQYIEOHoOK4E6M+kxdPazAjgJ2OOeRg7bT/2drXxP6mURZfKT10tbS3TVi8Z6CSKFmbWfjt+rkpfsTQSh/0mU2slS9yp+wSUiLAqrFfljVC9Q2NUHH03KcEXv2mKXJJOQW7l8QY5q1DaddaCfv3u7ZFomav/U6wspss0vWnBIgow+AmCBVknts39uoCUh5BfimoiUCmNrNOVTZHHR1D3mTPWb/M4kmmDVDbWkjcwQe9o8YooSXE2ZxxcnQk+iBlHWQjW0xZ0P5f4vmAuX5UuYqnCaMy10ul8sqy0ZVoNhM1ukF49h3aaxXiwo5uzXnzCXgoI77WAOAGyCvKl5QqYY+YW5/ATQDnE0gfPYknLZuhR1KUCpBuS0lR7q0kWJ5E/DuHdFpqdY2RNGuEC/fe3mxlBfM01EhYSY3HDLIvcJ9O/ordJy+sRfmd+C7WooNXbNZHGvOCxtGzdgsHp1qOxcqazn3VUX09IRPmg3AO4dJkSyAWXsi4gq1tFuCUAvwu84++MTlTwvjdsFZXZBjc4UWDEZk5UvFxjcnFdjJTHEkERMU1aPksLh/XqdZHnr6WEj01HYok/uOgf1negrlQqP6TP//t8srapNkNb5YNgJFclOwybyPKqm59lQE1qyyqdx5aZeRpjZmlkwHv08LvHUYXXyNhrzPZMRWX45mFX4TFGOI1m79SvXaZPljTUwde89SztuNLOz+XZp57gaG9reqx9yJoWm2jsShL2KYlWW7wwGdIpyEdOowbR89ENFC0R+iq12mcKjRFJORp4qgDOwLm73htGm6huGXk5N6A73GoAcMXoMHyyUBYCVseQgC3A2sHFYLY8LjgQ7Khaeuiz0lJMkMgVNw1dxwnahhJGCdquzhWqI2tJenYeh827wWSvLYKCP7Yu/R6wGwzICWasGJsRFysSUUaBmmSIRT+xFY/dzxamu2u+FeQIi6TTF2+YRkVEm5LAVxSRx1uy/ODfgUaaCFwgPQ4xTzQgJ0Vfw2INwkoMaoBEnfUUtByByzxkOurY8ElUKJzemc4K93LsT+PpFZPPL2qkninFchtdgeQiGcer/rzOKtIQM1R1n8+fnmbyd5Ori+6JITKRVmjJtGQxVioY0oyvMWhpyMTVUJXfOOKx6wrkyazStfgoXpeQJQadEqY7Y5Fbf9m4XlYvCjg4IGK83WuEo0HybCbjeQUOjM1SEYt8eMAlSIAlFtzRmbl07eoZeJjZw6H5hbqIHB1skTLsyPiAmfaZzMKzps86kXR1FH28aUaikjTr/SM5C0JTcEYvGJqb5mJPO1f//rTfin5E+dN0KPNPwqgWFJDXqYWZPFnHSoUWDQWFjjgqTaFmVDJD5DGuck208FfPKMy5gjq6qaLoqrJa3di9IlVRc1ImHRsPnQXzkX6ivIv8mLospXa5dKxVI3+RdQJ8YuYVLvCZxrrzn3ukiazB4lJLZvyrXUyx1CvmIrJWnPHga0IAlGR5qUQlHgYVGINnDq6Bs6qZG2SMCbJlsH2xcbJiM1QmsZEdpi6P4MkfupImvxWPmlrFCRahJhYwIHhApxarGniRIoSNMWLKywVzidszP/K7ZVXZMi46qgzaTMRNX5NbFmN6rx5I5MxX0IEhIsQsleJZhpQwUgktf1pbabiQP4iRldGIin8XS7AyKK63ftF2aUE1iMjelEnllmh94nmS4sqYkmGhVoFCoUpis1vTHPkG1r10UYSbPBtHUmyRCAsVX2b86hArcbTIrqLmDr9Q6giuHCuK3TRIWStTxuC8a7W9JrCt0fwwuaVSiVsrJe+03tGEfQalQr+5WzmeVbZX/hK2oLGaoF2sfy/avzm7QTN1Xow0k9lE3e0mLcKWakrVWUvHsEuWVUvgQkww3aXxBRA1WuNpSMWQ1natSulDLiAZcbHfF1W1K+4e0aH1uzVrV9sCnSlrcR8yxSMFWGDhT5QkeLjYu2fYYeWFTJwXPETZV88WLEFm0Wij5W3zLau5mn1a7kKdqckZeajk1LR+QhKSl565R7tTdApduoLIaEG+3FR9cXEWSy5sq6PGxAZHBE2FWCsnmDr5Iw02umkrgjUpfXsrutGp7IU7UjvfpU5Xq3I7CnOhfVfLTb9nUivSeLmzQw6VMJ3likBATFREuVVNJ0iKj5dB0ooiu11nT/xRkK5P+he39ilsV8+41p89ClZzAw5VXekSNEilMuEhEtjyqowzVMsFkLq6x0rXI18hD7eU5rzcTrQ7OTkzEr0Wkoxckqdvypt9nlun+ygZdqtqCJUsIlCpdDCRsfdCYiMjy4YMIhN40XNlySz6bTco5cRPr1n4uKTysiIy5vV7LJH347QSpUyFbK9/nX2yJW/xn2WwrbeSXHaRSHWIrjBkSbZnF4h9zRfxa/ISnm2ITerJb0xIaghbPjeEIr5lju9Q7AqM5qtYlSH+lw6yDkXVPQ1ZK5OO6lPNQp31vhQnCDM6KLir4SaeEy5A2aDR4RBQLHToZNmSwuZXqPEcregpFaMYghEoVgHoELslXy5soT1LViPHPvxrkQc7JejLtOb1Es3b8ujZvtXlYj/2DiX5PUBEbXa/L75QWAuut3JRTYW4WCpR0ZHWS/Ulcu11b9FK0g0KMWtK0qdCZxlZCl5UmzhzSqm36x1N7qMUYiERwPHvIhGlxmklpjKtfCX5ASxDEUFvIPY4ikEWjU38Tq1tgF9lS4K56loguEk2Ighvh1m0TmOkyQCh+KDMvIkGaSMtIJWkNFQQlbB6gciryytL0yiNXqD0SStOzoxvcGWPusHgmh0abeepbM5zCwKZy6JsagpdW4InFmXCsJZC0iXGF2c2nvuPp9CWHcWwjjqzwAsonMstLuVzaF0xAgwTk+isoKRS8pUo04ma9/j0SB0VhqFKqMkLwhUGYjMAeF4QB0aRm/zkWPPLJOu+FpOfk0Ws+14Kten7dnMK1PsKHN0TV5dXbECiiCIpsT7+VAKkvufIqL7ySt9Bk338ancfmTJMkOZuu7e+mPF0GHa2LFJeaKfCmYBpRUEXCz6PYgWMxZtEd6qRFo6MLOa2HdITl7GZEwdGQKhs2ClDq6FFB4EU5VV4ZqZmWoCdGqzPubhSXD5jF7tLeFWRb7qkhcP34sOColSNVnHxk84k+NzS212O+WqNEoxKi3brjZ6SNFsELJl3SAgW8C/UyHTJ5QamYVZX8BRx6rKtGL1bNZeG8zmEvMzZWDx6rv+XzILwvv4oI6J2HLKz/n9OnOgtE4imRKTfk07Jc3k/QJDwoP6kp+PIJ+m8aHCkGhBMi+uqaCT8s1dmaZu9v4ajRZ3vseZ6hBjFIklUukjPOA1cIkZANt1wErN9CzEYpuo9LyVXDHSc4JPIy8x8O42FATWx1Z9Uj7+j1lxwCycSsPJoWCGp1z2oWEgtgxHEvDIQ27U7J1s+D5EaIQlEZC4IFWIpv5jj97RrtTvU0Eg32Aoqrwy6oXXK35dHoVxdlvSAmvMqW0x5NTWXAeQpTVbdWhcTDCwsMh02artN/5yTvGtqgLe3TVpTZSsx7KPvGsHMti8akfPtI4hVNQIBFKvwkdtJIXGeOO3TfMOsR8UG17emvUdhyOohl1hkog3+bhc0YvGVGPAy8DX4jCR28bSniDCcti7ojkew8o/c0qtmX1p19K6ppIU1GNgr8iei73cQwwgI4fFhFrMU3OuSkgSPZ3bBN9vm0T1jVYZZ33Ne3+Wob3XgvziM1blyTakGIaKpcJDbfKnEM+CsJQ0fMUdm8wtd5Bl4txgPkhDClRIGAwvdq1/LIY4kM5Ifm9vDGJKV9r8KPmwMHYcBNf2G+78y63PK9KRO7Ma4oSpDpjR9wWm2BDR0wl//DiCEB1AJqgWxMQrVf6C6TEi5PAir/MygK7Zp+R/zCmHXUXqsDzEFMolXcYZIBHPYR5o39qpv00UAwXltTb7uQX9qClJrNZhAWrW6Ky5BxkrwUjoX9OVTJZdFPdK7xBEGI43E+UL40CaznZJ6KlrrHLkmoVz2uqWdwSfKOlPjx5R6W+ZPxWX1wRx3RDc2AD8A4wJey+OE6YWwPPEX11RjcvXlXKBtR2HfExGXHFxAUQZSw0jfkIQZVGE9pXBRMkb2xX+xKctVsS9W1b9RGmgZ/l5KE5uc+r0Ev6yEX7SU8uJ5iaDaqBe07F68sdolA3eGSR4b5C27LxG+n8rV5fZbsoyDKtudLWxPA3dwzxnT195I6DM0PBnFAo6TDMAAjigBiTGkqMsiHEM2+julrw7YbVY/TikeScTuoD5jUCcRgbke9bBrB4pzG/MQo3g/ZFmQEdQxjvA2ZAGtmxbppgytrijEMhN1XpzZDuKSNUkpczSVI5fqEeTHZ7LZWNHQpkndPYvYvdhVrR/M2S/bwkkwLrOdWxetGofsyLfvtZSNV3Pr+H97vfR6abzS6xAEYRIKrFHghSV9SxBXMOOzo4hbu5t1yWPf9iPUM4y510U/ZmW/BPUQ0TFjkYyPxT0MPUVMFyJ/jtBmNXJ3BGejB66JP2xf9vqKTmXNgtCEpM1TNxccJq+acDNrDIy3S1GzXRflraOlDta5keJih4v0pv/IRZOndYhM7TI7lpu3u2fuWbeN1Zu0w9yudvrEUh0gCbgCGY0wkPyzEmQ6V/XAkIhIX14HhCa0N0A2grveHH/Gc0Q/rv/1N4DiKNX+pDsHWRFUPKdjcUHvIg2Z5mkRMVa/AwOn5O6mJL3nRLsvYotA/+aVQU6qgS3BzUGYswp+cK80iMEDrqh6eq/16uE6qGjP/OEQLSlSWpxaju/p3hkLz5ciF1As45USnHyryIWfuB+MFHE5AaH8VYhw13b8OnKCQZL5Rwjf2HJ1bihLLzghN9EiJ/aLeFerwcKkLPKlmZIIgxOr1FBxkpRb7epiewum0NgxjGIiwBZdWWjRtlohU1ffOG4lSTHLU88BLJGJR35I/7eyEAZ/Q8pEYI5m8TjJ3mOxUjTHNMMyu7Y61CBRzLfr7b2FqwqiBXaiZ65FNqKebI/f+/vqgdt6YCtVLH5G+QfN4zsWBQcOhXRnMVdGiVQHcMkEq2IYGvohwxHHlo05EeIUHXbYHGETxi+mgjG0dTPPQ/6oK0fyIQ3uqiOUJLSEWQ03d6JAGlGIN6LA3Lq1GyEETZ/TppEZQqIUxLcOoI5lmorzGRdDh/QoGvhMFgRNRaJQ7nuuerBSw7UhlNv0x3mZpc/uTxQJ+TuBnrAmECkEoyEHmgnBZr0h8Aw8io3lp25MO3w6FUQif3CekGpFY7Zk7UYb++gl4qup4ERl8E0RDzE/2TuzuEELPmYaAsrgppoCH0Tz/ShdTJ3DsQlSbkI3V8VCEX5Yp5LswYdiVULLqhKmPX3V0JRdDKUEWXHReaa9U8R7or+aJacD0H++D0fm/+2tRushZhBAAeyHAHTyAnARzopH6XGDK9A0oKl5DQ1FQAvgzIJfxpWLdlsM1yJetl/GWcVfWK/NV/tlZhl5abKM3uIcGj5olGylrOnXKta0NfvDEcHZpQ8wIRqvrKpiHl3kFU3tMTXLmGO84hedI4wqR8M9ZNNgQOlqGENsan+xe5e5QLnfQxGGNZ++CbnVikcgO3OFAlYBI8RvlGjfspmcxW4UUVOKgsRBPPIV76FxiHgpvyHCS1s5VgYHAnQ4c3OMUk9Dp0UY3DCTJN/S/sVGLLwizKoSfzqZ8i6U7M/Qme+GC9JSBo10JyEgPa23MHHKQeE7DHngFzwCrMjpFY009zb9m+FeL7Q3MamPa4BSX/+MUICVBWBBQCZv96/iH+gP76/vr9APpI96r3bfYGtKUlShbo8t9ZQwouMRfnVYCACA08WhknwTcG1rZNbFkLM7wLrhDuGEMsSLFyIILTfTBrFWNvWr6Z2nnc+ougLSpr3+NewkZP7S4mdFbl+1LIyYshhbeGqTJjcLe+gySMM3PYGdbHZhk0aj9e6cVIFp5XxdRpcte7LLudg6tOmA3lDfETDmZC9S1g9heK9kfTfyKytmSs8k754xMx56mAFyGnBqwudZByBYApcAsZdIgMMdYVMSr9DJycZIS7HlRDiibHU7Ro0fpRYCW2vXC+T4f//pkvFomuJ6n4+uWLZCkkUmQIo+3Y3ykxZ9GqvGWs6g6uKuhduTzqQQWGQmCkz7A0WEXbMForbHmIgMUZ6PSHHojrtawWhdd35Ys4s5ASIi0iXuyAVY2gCRhgxtwXwpjwA2vcjlIGE1IwxSgxpTyfBhirCWjYwcUL8Ylsasp29c+zaFc9BRpUSiExW2yi8i91guY3hSYKBX7obgtGeYlk/WkgCYIAI36mmFoNKpLmkIGjw0qIDdl25RXkXfLxjfuPXZu0yhPiYLGHBQFlSSsa4ZiTUk334M5SBuS6mrzjtSSyPgxPZWRQCqG+Kmmfywi3RZE78mn91+MyKeSuo7ikXyVz9DOhSsDu4EkXESZjKlvM1jYQiF2dMeX8xrRCoQqIumhbFEXuJ8zMtp6NVIUWVdTzOy7KXQKO+oKziNtg96pIkszZOUX5sjXD9AqRgpYH5zr4dqdDz9RQikEMI5QXTF80O5rKwPwXEBdEWcHGTqGodj5h9dVInWewvGwkHiSsECmhBQRB6ISkWBG+o3iQlJ1VgJXZw529SLeREj9/0JGrI1JATy5+poCGoUlm589Z1iwowRBTxDPbGTTCbQXQzg3gphBCyR+eMgppLLvcTctNHWfKH0mv3kSjGdGGwQ+clAwDg3MMwkGYqGxsZBGuCgfGIpEhYFQmE58EpEEJKzIErJ4amZuVqTYgQ4F3Tjw5yfQY5fPijzGe1/tp6Cu0483Ln3tLI6nxIpjM5tFUkjOWyGpsc1Fgq6zfR+f+fNaGBgemyg1J6Vztr9ys9EopJxc5LXC1us5sxAJRCJjUSiM0NCVkgKigUPmDhwodFz5QsV6020RpYrnSaFb+3gv/XoXM9/UHq8tM3JSIxOCkQhGHodgrDsZj0pOU4jORiUsz1RO/bxkyQwGyiLqSZ2xUkBsJA4EAbCJAQOonXouMg0FwbDINAoGQmESBlCu8dNC5I0KCRoi73X+c/X2eqF+ZQVEd0PaNLXBXJhVAvU82ekJy/fkYhIz0vPwvF4lE5uelqcvaiUrdl7d/bPFkuUEVt2PDej9too4XDIiJuirB5g4jEwqFwdDQ0EBoXOES5cSZGjI4NkiBVc+whn3n4hWVRUOI7oEdsSuSDHafXDNiq96vhUuXpOlakrERiscjcYi8tFIlWtyEnbrSV2TubNU3Spw2r8185smVMiAoLi4u2ZaTNPPjAyLBsXKLhYVIn3ChoiZeNDBE+aT7QawJWcssyCWxZZZRnfXjVfZBNLZyhQs3qt/FwO12oEeAjG4TsRuGq9zh/IQuz+43KVL0jhnglLL0jiXlwztRWMHTYadERtl0um6JDg8EQmEhQJHxM6+aVLiLpYy4XItolh5j97xpohy23yh3nnTzfyW32Uzws62/6dP+SvWpOxavWL0xSl4p1JSG/tvujc+//rYKLel0t427gRb9eTMHTJkwJEC54wRFDIiMiwiKFjp0yVeaaLLPEHiJNl1HpPPh3TOhqrkhr3vrlRPaOV9dRy2yqRybIsjJkqMsiI6ImQ+IiouLviL/zptlFN1E63ojolGWF/X9CShBgUGBxpBxoWECgk4LBAUHhgYOCBRowxxxRJpSzE1tRSznFYJq0R5uN6/srfhH9BPa7pMmmEeqq/1T7t61L3VWQ1O/6GPtj+WZfFf/dXRBdht9N9tGoYUvOryxJwfQFzrQwu+fWFCLJ1xwiSPCS0VMS9hQx0RLyUlU3EzBU1TGQNHRzkn2/VnW5ljLS9neI/miFjpZT9XXHUmk+QASwANkB6HEAfZoLIFSCyEuDyKNjFoKPh0WK6/o5NYKNvLI/QgpQKccSlNlgcZNY84Pw/YEIQZpZTWklEqliUKkSyChmZbSML8rKDgBRJX89pHf9pyUi9p+ESWVVn2e0qbMn3zCXUfuhTbUf6MdgmeoQp2yN8foTIiQz1iE8A0mqG+DFlF+5H0XykRL5uBkAQ00jbg+ryGr+xtLDsiuJsfqEJ5+RyheO+XBya3lrMqJivUfZK4sVbNMqXAk+uuFmylbveGzMdgWtoE4pkTr3j4dU/8YlvLrebgG5vshvN1atACFqTFVhUdJTRsyFrKzrQChT4F/EFE9MZqIS/sD/F1ICdBTBWNOYG3HwKRb07i2EJw67bZ12k1niatZbMrupmpSCtnn1wZi5Xf80tYKT2ILltdB/R/kM3CGZusNxZuilEt7FMq6oP4o65RI6MiWuwk922GhqD5ijbe57z9yy7TNf2JiCSmDqK7hDSKtCAEIKuDrnRNqBvBo2QCCp9X+yMhmlcig95BjACdHf1CKk4j2bIt81Y2/e/qHOlGY0K9k8sB6TESMmC43mbEylyyiaDmkmmBIt3IpQpU1rFGM9/yhpxer+nVdgGtS36URjjkrdv0/VLE5CcqHE0X4Vho9Nclm68mvdI29uDCVwn7ggpApwAY1rAQsAyi+i44/PuduSUKgq5SGtRb+OcsDfz3/GqJW9CZjJLj+9VZCxWGu3hafstJdpDPadpcZkm8sqW8N4n4UWo1xWuFI5JLFMiv3SY1NOqH71iS9Jt/eU+mtF1si3iIxm/5mdqP6kptvrVOdMWX/RoaqpKygnOAlQAwvEGrBmK4GxrHK5l9QZOnVMFt8qUzHiib9W8gIZlXmcQJqCqIFkjyCM0WeoyQQRIjoQ45QjJIpAsSigDcH2Sg/mqizC+R5KdwMQsCVYXMlFdydhFzbkLagEOttKvsuFSBbpxDCjRjhOGb9sOGdXuAEbjJl0LJeXkKECDABqfQV8HgfEbHseEtxlRhrkICeqDxR4KaTxH4dii+LKwGBXDdN/9iPQ6JSFJ8cg3NRhb4AUSxubtiwEXXJ32a42jfaG7i0aNFL5rraRxMDrEU59tyGnmSuIzvoY7bgS/h3p0co59AsW/+dL/NrWVLaSSfnibuC7JJgNkAso4tWRAEuAvNkQM0RA2WeD29yvJuayjwbbB5eOOZaSQdlSt4WFmESYKFyMj+w+F9X7BPC9hDxZlZRov5VrCl0jhq1JLECpUWnTr4o5m7Gu0gg+xZZx5VrLpKmNkjcd2i1xNGLaGIq3jE59jHjbWa4JVQpcfddn96ewCoAA6+LjIP86YXtdKNFmnBrqi9vixS1RiLHw860xYI4LqK4tO2rDkp0/iAPjRO/uyXVUxRwbT1nCr8VirYQVlbJI+zeqtbJFSiOQeR3emkO96RKE1cWj36s35Rj8zJR2aiyk2Hq1TLFfkqlOWbtFEL2ZgSV0kXMV0FuAzAHvAhaZDFG4AzrsK+wB8wINFhRUcg021TJQQfYj5c8sPUf94JCnVWGnYp5ql4U4NPE0cQtetjfUC8U3vGm0+GjbUXqF0pdsXaJgkGus1TcwiahJJwczvounHzn8b9RZ22QGSTFNHbzUmwyXQmmpxSErNddSLDUyUPFQpgSwBv+dIdPq6vf0Wk0EFo4e5C828FJd5XBfSPLFbSkDzmRqQ0fmoD7/AyQka2hQDM5kkaNeqpfi1jWLFWMTG1uQXI/aVvW3HRrXlJS3x1ZauorQeFY0lmMPkWXw0XodSRcO3/RmccxPLXq/0vfbKVXTcUSOVQfsMbGHler6DsJkBAOF1IJmOtImeW8AR+IkdxnOtR/VG8mJGO6hVcKXwOmNI2NeKkfWf2ojbAEyIayfICljwKhe+5gU2U7cr10LlTjORNCzuK5guXgqgneOTxHXZ+UquiP6tWFNy7gblGyBVpK5sjo+QVjpmuzig+lDHYk5Nc4hXCTWgEUAP1VYY2NqxmyDXRoB49+DXs/i0rzpb2o3ZtC+9oKSNEUnjNYRVpVUfzXOI4hIUa4Dk/ZQVsFiMQxbvqtn+LZZhFSPrMlWI5esVV3pRf3tOqfXx7cV41fNKXjFH6QLqXy0dluISvIGaJrvTW2L4cm9rKd16qhKPU/NIHITuYyo+XzXmIpAZmcAXyWt5EgI2QQuNpVrwnYnrXVlhh1VsNTcloWolPNgkXysd1ni9sqbxpCUlsLgkysR/Mq4qldEYUuxX5Uu+RpbyK5ukzv1LcycYxCkpQrte9HsUtjkTjEqtstks7rm6qVj36+lVLaxosFAU4RcnlmN56hNm12qUUQeVF7WrvA+JzKUE7MjnNa7ByXKtiq4102PjWwwRjHe9pAWL1VI2EqoTItS0ETWriFEJCoLJsjmlokHX8CMU9JUuE/q0xNWwCmILlnezM1wOgQb+u0mVl1dwa/q/WRPyzIor3hnx9QvIF9QsACHAYz0FlZEU8nDyoAIIcpOH6eE806VdVB1Oqn4esVn2wWF2hxSY8zpSedjGMHSteg3xMf6ygWgF8NQkG2K3EUarCNa+WSZqyUrQxczkf3L+9XtcA8z1KQimdTdGpczlafDZq+ptFMfAZaW2njzlZDJh2ZLP9EW7ygNgFGM8nhKvq2b5vtLiT8tahLPTJgvGzCjDbsnL9JjWDrd1Q5DEnX/1MWykuBjCOrmQVAFkyu0Jqj5PAtZBaL7bkPS7UqruEFqDt/veX+acOkD0pEt/MsqRh/VHQngFt0FZdyQLGfCz2oWufJ+vff5Zek84t8pcJrfPgjAUwG0e1drn0Mlkw7gBjgphoWAUgssslkvJt0ZBer5TAXdrLmOfmBLCQNHR/bkzLYP8F2DaHOf7C8llvkxTbTbDoiIaXF+e/PlAUZApIv6ssnivoTR8DjMkmEc3eZilFkKdSOVq2iLBrmvLEmREvKSIGfsVUekPCWcdoCUQAXgEWOJ9/uEBHzKihgRgN8FQHMWIoYSUPyY+ML5Np/VWrcUQlZ8iW5uj6MgWSPbN25T6BxBUB+DOOBDmJLu06K76RLIjXqStcTCqzn6JhE6TZILo9rOS+ojmlYNhbPFElu32zoofOq4MQ4iRMjRF+VZO8KrIG5TxMHUWSyxrksz/H+SbF09g6hWDYOJhWOiWJTn78xiiMoVxtDSeCMrWTxPLoykdWGwTAmLRmq0l1X61KDkWFQ3GwpEZyS1M1sbHq9HByZpXMnsbvXWuFrssSvn7UiTCqkz7+GNL7sZfK7OqGpqay/t51KKmnw5fn/16/0WpCuyr9uxW2aK0VfYUdB6NR2PxwPCZ+9KiYhJClaTHRiNR+Zky0q32eHmqKkJsWXjOypPTXQk+ZNEUhGLWKUtiX5lIYnJ+I4mucrsIRWFrvWTTD1e5xryjw5Tq1t8yqbZejcr5saGRwyIpFXHg0FwoFTZkQEAgEBcQeY17pHTJdhjud5oUMsdDR90yyrxeq08cCCiRa1OSFXBaUIgqfBMNt7EAkIXmVIxUPClklxkd+f1VV8uO1H3aVQEF/yfvq8IuEgkPHHsvmSa6zDWpQSuJqU7I1sWIBp4LaJfmmKdNcg6U6+aQWIEyIifSQFiTnEaWpoQ1zV/pu/X3ak9qlTguvSvBpWdpZZg4MCBGJGtXMsW0aGrrChAZWpFhZGhCnIlsvF+pSHpZXQWYs1vcBgMFBTvhZJgwwdLLGqmDFEt3xHd3xEGAjyiMEMIFcFe8pNWiiSFoOPzCMtP3ZVHOifTI+ggizki+Dx4yxAMwcIIYzJk2GDjBXnizSWFYQ0JiyVPPUhbUKBTHRI0Ta8CmiHkpG0UsGELvWhyBRCtolihnHOWH75SMSj7CzKOKEMNhDsGVbSfoQEFMkaGpbhyJOLXJ9VWums7zPR6bF/ZtQWp+qqGCal5AASe//4xQgKWU7/9P/8AAAAAv/+//f//wAStKHF7wwxCWjI1n+3uwx0RqWt9QpfumzW6owUoMzkVyKzYQmiSdSlQgmqE+yFMXNaEGHaVImogKz5e17ayP6GWrbV0qU5UlubDJT+3cpZV5PX7swQyBVmor8jbkS/n0MXnml1PCDnhJIvhw4MRei20oQRL1mn36mIKNUknleMmzqPxi9+2w6yNLabP847U+1ikGFQq0oKVyXkrSpjilrNakqCoXa0FKM5RxqoV0LS2bt0Kt6TboIcU7S7pA4gzDS36o7lfZY/ixRy1fCOVzOL6D0VSdNE7TGfjTScbhB/T6lVDolU+hMfV9UzfzbTWOQEKpRs52BBBrQ9cKOId8JPqiBXFTHPwj4IhrOm7Wu4uoXdbPNbr9ZTCJskn10eMzn7eNMySC/JZAwxlJgnIQpkb/9AxEs+GyMKMwpd48i86OXXfZH9HBo4zqQf41cbrdY0ZxcuGgSbVIEYFCXgxEDDk5zKSozmUmBkYYWQqBAQwkKtFxJAnKz2ChEpkFIqRP96rSpVilekzBFSkczpZC16TpTVp+znX0tUStDGaZ1DSU4KMyPfQ04E4DArgEJn6BoF2wGgi+kDAPjrF7+ku25vntnVTYKCfM3SH9UVHe8pEGVORnNIsJNzZb/kqi2vX1lN3VLOW0mvHINI3VBhCFjIojI+NAVXa2iliJzXa1IsboI7FSCYwTkdymD3mWdIRurDDEmC2iJLIFvzEQI1AN6Oc6AyvUjOhxNgFiJvnrAgW1asVSWQjmYCBoYs72TmP+DU7ZR+lQrjAF8YZ1ItEtMsag4h8xlNYL232aMzjmDAF/MciakqlcoryUTSyLRfQUZN/oCTWhU1GOWY+ZjucjWnqglitjktHUaatlXeReBMoxNFS4JIXuMnk6f7eXBU7x6HKR5iR6JRycKmWRTdn0llryG7Z9OqyDqkh4mPCUGGmEYhcaAFr2M6NaQhhZtOW2X6Xw2HL+tTUAELRCwO1rfnXpEm0LDNvKFyqjhzUFMKurQDzIMaU6wR0H3o8CNWMIUTdVo2t/rUF2kcOVKWlKYw65KLnLcC/rKy0PN2Vb3sohLAhWUsU6ikp/oRz7vt5kWe0Le6qUcaDQSXWClvPy/jrl2Zu68l2uzK893gX/lQ5mQQ5TKOIZjDdzXxqDttM+1dgKVMatqQREsqfQ9bI7XgoeLJpr4wRHZd+RWAdOzhL+YbVng3FbbMO2mkm1HKTa0aKERm8tmjypgy4PMapBNGBqUr4c8U3AWy5a+DGgbgJtn8HcwFxJ2COUgqv50P/TYinxfgWbpdXhLXCGsIO8k404OJCaj6zQWd4c/FUW4MfhZL39qCH/Und4CnQhVtS7xx2hPINrm8Sqo0fiulWHapuISShhJnSLFzSonRRIVakAT5+GfvvQ4fL4c5FWdP2EDCbc5WJXktLGy10EZvU5j7cYQpSI8B2jwJGTIxd/KGbr0677jkMmXqb6YQsU8j1ziSOcRBn4Wpcr/Ol1Sg5qISotM/dYv4z61DUMbVci7mZRNM0up4lZZ2kR6mRCf7/yptoRjTLCn6Jrwvte6S4KM2oxhopFI9vY7UsUKYyP3+SEVKAuplAoa/JMTTxqtie74hL7Le9WmnsQu3V2x7oZZth5sUyilMzkZZYFuvu1t0nLtYaoJGqzO/+d0gSyptyGpkdqdkZ7VG1UfV6yEO1ze20lpv7W21ojq2qmevaukZjTMQ6Nn06bdFwPvrSiVUqHQwfcAnTLTXBarc9ySGnDtcMUdaSNG4pI71vfhkyiSKwogdxuJEJDNsmMspt9IKpQmiSA6QgEiQ3oVGYMKFev+6WagQxwkGuEKs2ZyDOqQUeP98vtm8qUix14eHBBAZOdNm0/38SIKKPhgAf4SMkhOQlRtSpDZgNMUkiSpep32B3rtF4GFeKtwb2itdZO7MW6CrKAUhNE69zlJQyyws07CjFZ90UkMKdxz2Vaf3RiAihiNv7dSIpK/Iwa+iQvyRF57ylQkgJoRQcH64Qb5km51gapRZ737YMagzCLoXUoaKjhCWTcOh6tuUmI6uqD6AXcmi7JbxTknWYpNXc/BGqSozz+0+ItqoaFQCj/yda6s4/3SSdBaSIxKpiSBWQ84DJg5Inl8r0X2M4JI7VQXq0dxSVZVw6PtQ+WRp7MeGRhmnWMrgCAPw+hdjUsv1ZITkqvnJ4TOMuXvuUcIagGv/6Tv3MF7x1uOoodaj3BunQiQ3xqK27k0lzutVyksW+BGgAGEC0y7QNPAugo0RgEYgZwjax7Al9bViZSir4Z0CBxS5ShGeMcmjyRXT2z4Abpq8NsaN2UIj13Xob41ZrWt2Wo6HIbg5h9BVzRXLpNuKCY9q9DbMZ8QKmch+YjffxfmXaQCf6iwICAO4g8FuikZxg/yuX/RkGIF4ogiWYLVtwtDt2+iq0A5AntLSKZ92ujCLOuImI/TMqxzitOZJ22wtDEyPs8nZOiqazYXWFYYpWTv9BW3GUUIn41XavUesHnV9a2SBd9lpqrRPxoA4w+dXJPrNjBpLL8Vq+LBfKs6uF2d/1RY8h4PSfG9HJ+RyNSqJtQqzVdMpRbS2s+oe6FjOSKg4xbmLab1+h1NH3lW7H++4rgut63w7mUSz+Ljclaet17/pu9tlDxxQKISuFQlxpeOU9QgJH5hhWqknyZth02q2SnHC6fPphed5Ith+iLeV9LGxLpszXnGIE336ouX8wZs13W9B0uT5jMkXRMdc6lDPsr01f9oo4j5xVPOSE5fUalCxiXEUYHyWcNeFJl4NomjXHVHwiLLCFE8E6LrMrN6lX6Zwk/ETXvxl0hokzaa0Tn4iHc5cvQWJFPYszSNs2XA0WJieORmIV24gh8K7Jm6eJuTs+q0hX2NGhHBbOaAsQaQCOgX8aEG2tyRW9bzNC3ghhdGEssCKMX032xgv2eU4zdoNwzSXac/Be4+JUT6KFvgrYGK4xzIK9EiFm4O5QsbfzAVfx1KD3028ws4x7oq3eASURE34trKqQO4LEAcslZjQIgMabgoc+/MsCUPpq09/lBpA30JUnW3w7CN4bWEGi8QEKdckWmL8rcKSb5lHkQl/Os+ZFksFCIjnOdTLdjRUDirfJ+Fy1VX/WklGfS1BzbhU4ijHEZIB88kE1HGJW1xHVb9UzP8nV54NCTa5PpvmXXYo50NEsmtrhNogZ0OPkidVdEo6rUOqD1LE/H/lRvoFNoMxGhy365CO+HbQ9L05nLltDOHzJqUlgxrSqmUHWM6AiPv2DZHDJIafklZOsdxi6ahd6sClGARdHYjFoMdEVei9udT5N4mp3Ea+Efmq9UtFjKEK8vLax9NRWmc2FxnKWSmzuBrE5ZvZxrq5WK8N13rwJJSRkxW8gVzYMSEpZJHJkWrIvdifjPOsDPQ52jAUg5Mg07WPCOI5WPozWMIR3EFQBzfnZ2biYTA5h3eRjimUxMYHuJpko5YWMyhSGoHqw4DKdKzvgQ/AHvzBcvlrjHN0KUNZxRlWCRJdlBC1BnqlLEiLhR+qK91dAMLcxmNStam3CQz2cZg8IlyEM2iSxRVaj+mDseCdPR/eVIpSCpPaHUSRh0pRQJR4UGq6N0vVOcmZ8odcVdmVr9P9PkX//IR8KF/teerfEztM9De0f+Z84mEh5UbAg1k0N4xIJLGBmLRNFMckw0FMoiQQRCLCY+mBcRku7OyuKJz/Zirq415Z5pC/76H/TK16/1Xt9Nlj/vdevl6uWLeJ7ocsb4j+Jq1PAzSwW8NTInWwERcXX9JozSUymgHJ8IJGMIgMTw7Nj0WGoQD5WaHQhOEUjX2LOqWHMnKvApxMneo8upHWWdrLIqpJBOaycTSIYwjeP76ihvZQttPE6qjmuDjZ0FNn76SOjs3bjFsYDFEbEpwLjoKS0VBaTjQxGh6LR+UDc2fkqL07JylNwZbcK/AQYLv1ztc91Z28irbimk82tYivLHc/lMaz6d0s+r42lXyedaPEz40pbxR77VRImB6cOjVuWGQhEYmGYhHwjHwzOwiFQ2FoqKTMpXFJMtbK0WxG04oLXaNNHo/88BNY31p7vP9TXyK9sphJphLLmbT6ZXMtn1DJamU0ejZsf5kpRTLXJCQiVqdNSw6IRGWlpaNB6ejA3M2GApFJoXlhSbEZQ5Zu2ypEuQpkTnVh4YsXr/391FVY2dZUUVLQ1FXaWd5eWl5cX0lkd7KLOQ393e/6TKkyF7p2/+ui+uUdLEiRp504NBMJhoPCYeCQIgiNBcaDBoLDxEQYIlVnkm2OtamKfW6PXdCvQ8q25WdqWTcaH7U/rKvpa7rTWFnXW9NW1dLSW1XV0FTw2bM2nKl29Ee1crWuGLtkwInRE7M3RaTvhKZlBc0EykG5yEdwHYA08p5A3wns84gwDjFI5ThSB3mVdRt5uNXV0tv2yaj3Ytat42q1aiKaMJt+8hW08GgbPZmY+doOHBl03Tx8LCR9HI0++r6VOUMVqwnKjqsEkagePRgJpQ08JDxAfGhMXMGniZ4u6UKLbpoq7HSPPpj3LtXct+O5MX7oU25BWsPJioPYU7VDmR1F8NR++frcilohrhjSyqJKeEz2wiXlinbgWgmH77gj8v9ScfsE6DVBtXbNhW1yFwtwp9zrurZ8bktoJK/5Y16njUMeizzSEA0rBOEFYYl/VUvdHUoNAUxA21TKGYl3RSDGKGUXRahtbxPcRAGdilD31kdgvu5osDKEj2OoTltvWuVVr8H4FUQMDPKID/ZdFOdEUoymzTUnuQI+FSSoeWElLs+p4iy0hGFModhNZHsepN8FwpSsIlDQWDT1bCXbGis+vVBXsDntvj3Tkfp/4mhc8xACDO4809STM5Mq5J8L2givaDQYOqTip2mSTCWFy/kk5/8TkIbg2KZ+1WbPz1Hr0uvqrDRotv8iq1eRnDfijkDPAu8dhUsoNcWnxEUNLTxeDU9FfLfD0XMQ79tXLOoyo3BpSJenhZaAmPFkYMuIo2dUObm8aQUYru+3RVbcrnaaLFmpI6osVsemLSh6B1Is8pIu9HXwXkMdOeLsBkJpSjIKCjw7xJZSL2lyijA4Mko6IffaBRW/nPnBW/397JhLm/El9/CNHrpxE8fHSBuXuKerr2mV0u40FEiSYzAvvy4SveC98UEoiguxpYnlcEl/E7Z53C7kpbCpBL3uJrgy6z512gbMzgeEEHHuSQiTtNU8GF2hnW0ToYXDpRd9BRdcmoLLnjofCfYoxVuV3a6dKhApXdRKhJes1e0XFs17mR8rLQFDbjMTYDMeickbD95USiMW7v43JTFSUaply21gQZcG1sXTSiQORHxO14gLOvt2KZ312qIomnRSZxFm7Vf8CLpZ5zlU7WtLtj8QU5YmTo/L//pjMRyPxTZxCnAWdqW7j1FTLccAslT7g18925DFw0K6DRsVCnTAvRyACqsi9NYMZ5TmjvUORHASUwguREscwrebdE//aofYho1F2YeIqS1z3ZduqIfPUasTnfZVx0VnGXcE7YcrZFAUhllhFkndT5kH23KXujAPqGcBJ0XKNF/ysQimicvyYSKRxYJQO+wbuJwhFXHrqHLUEUaq4WFfbF6mFSA4o8zXTugSRCzMVFuG90WK2np6kOwW2F15eeI/78BjlUTzwuyL+d7UZ/FAzhRackBBBjVahVF1xZnpJ44QzI/LR5OUUPZk4oWKJ0S2FFpOW3jrx+VlLfzXeWFoDiJcLzuG0jGaTQAnaXQ4HrMh4EhaBnwISy1FqBbd9hZdrJCGIMAt3QWM1hCRxt90QqtWTdIQY7nrWSlMksuKZqZI8oKTbXPK/IU4lkp1yCJ2keuTpKqion70xcaL8GjXxLRo4lnDhb7mq+/klDg5Qzn8xPvsdVhf8+8smXLTHfy4X8NRZKt5Aqu85+3+n1eCnJhLUhcnyrddFt0aSCbI2wUtsufQE7yEDspnB5PFpDz6NIbrsmVDJek0q/FIWvohIVtAFRyNlP2+SDCIObKBpAk6Fh9kq/CWY//4xQgLXlIAgAB9/7MAiv8l/z0BNP+A/28AUrSgZjsNx/b6cBgCf7wGT8WNUb9F6Y2kzWt18lMJdWejDz+bjTU6tF08c7E3M5qi5QqeMF0kTUj3PWz3hbVBCjuXSnwiG11nppPjF/PPoHcdmGlQkjPbjyMPVrAwCxp7mvDJKuQJo6vZ0lu7S69UZ9FqTbdap5wZotZPMWUbjW//oyigQkMfHMYY/xzx5XcjssKiGaoRPYtfkgW+27lONEVtJ11UipN60PFje/biLAnAmy7hYe5HjhKciEt7V6uNk8jaqCXbo4GNz1HdVJ2up/qtlZDnJaJfv+1Y9Ep7dhhdSSviRabyFL5g2eGMBVdUSZeIulxTcKENRgg5GuVV2mCh7hXv76LUmiivc7CQQoWMsDDYiYV9JbGNycEtyTZtCmX96Zrxx4tX7c+R+XQfgj4lhzOa6poJ+vRV3oPMRs4UkJks2NMG94kHHBdE7sVLKrOn9AyoqjLc40JE9mYgatTEapLIOHzaikil7ea9uLNdTrS6UkqgWbcMN8wjxOKp13RWYeTfoY9m04sIFktIYdLjvpabDAqhCAx/cQIXniHABOhw+wDLzzs8k7IEFxyPXRiTcNhCoU5/pyjzNXNaKt36eqG3xSRRezSwpMR1l+Azmc2f34xfR/8W0FUSeiytLaKdxEYyZhp6aAO6p8UZVyEES9VZi0L6kT+nx43la1LsswhK0udkaZuGmdhu3ybLqi4N2NEKc8CqFfeKGpMszVv1f+L3gr4oWsZT8EoxrRcmejA4m8ahleeqCL46cV3qul6LeM1v9LEwTU4aJ2h4ZPnSGc1RCU7RFiFJcFZOTdypeKwcpbuRJ/mrFkeE2I3rD0bDCiTC/TXhLeqToKK0HGVkPOOX9yQaehjSbievWbLrWgFNzA1WFN5hcckbTGJ0Q679RODErk6gxawIr6mGvhpWY4w4NytPQDisti41oweHCHXyVPaeL5Li1lJtHv3lLUOY8IzxP1L9qDTMuvnrQIu4cqHVieNBo53b3BtPvjlIhQeX+kuMWbRA3wofWqqaoeIs/3M5MfqknBFLYY5TIOPpxlZqUFjphiI8d5w3UTNcOTVlsgQ5iT4FcwiQcPx2JOFG8KuGbfsz1c2cTrgg64UtWu5D6ZD3DGnEMbjkIO5vWkKrPMz0keMNmvoUhfRCd0P6fKfpFIyHiVLGEFMey+IxZju9d8uaeD8eyxIOeKU6VS1wnmR4i3Lhpst09yqEmyl5j/Ha3Cws4v4dLs3ehHJ5Hp1qOf6uojv8pAarVyrjgzb8SV8HyU+qjP5HxEmk62OlNfSVf7+vQoCzEUDWi/QW3XIlbswgGssiEV9VKyYvHDZlrH7iZgDgKurRiyLg3BW+TlXd0id2Y05THLGWWe8Jb3WghjzAKPZqokXFxLLR/yyDD1qxklJmMEt8ZVlX+CQc2mssyrnE7el5B74CYyFiO9Cc43lSoUAHnvkXQQjORWARifZGx1YkZNcGzfLOMiDg2MbV1/o617pRhrbCvJZgyHpTeGy6H7X/PV2ahfknV8daI2HVp+8NcSPYlQYr/sJKlVH4pAfishZ32+ao6YUckqH4iXiR7rNiJ/sCULgx2Z7O6hstqKa5dC6zLMNHHrDnyvtjj+lppv9zRarsMLv98wSCHeCRZ96r9KnLJ/ZZxbRVqPGHM7mnWkjH2i4hEZ1DpY8RcstZG91P51eFSnZMN17h5YS04lcysWTbOgVikFKRkJXE4vrKi4Hs+qmy071Xgp+4XuJJ51Q0+MdhQBUA1qCCHHXYEFaDu7AYAbWQCjChphQLXC1KJCrVmZlzkr/nP3H72C3BZQVQpqXtxRCJs8zQXcMA5ODrGsiC2lWMaeo9ZhiIkgJGeoZETJjZL5KnFYWc9wtJcs3HOD1EEPadpDYJi16b12k3hEPcg0KxeD8pCa4j+26Su7yiZ2xQ3lJjTzZCTqhvtHz24TOgWZAWUW3FbBa1YiaoqteCtl26r58Q4CfUEtg2kfgfN8iH2Uz3eT5VUBB6qKu89+LeWsNRgpL2Ytiewg2VmNslibK5tpSPUZtE/xTFdW85QK3rIZf9Upo73uxofycUVb4YyEzBtB2CqYCOIxHsiUEc6Vi63dF+k4PMZ4I+jxE+2LEFXEgzp1UiBpBWPsFg0HEVObipPhbaEkmG9m5XWJIIQezREU2pTVvPM+GfVCZi/SCoBNGL4QZjdPNYlIA1kpwGFOaIpjPFsUQSggkKXbkROiqlTbOCVWTWr/XStS3gZmKKtc16LCT+qX4nKkw+lRlzaJBFDEPvozFPmKxTYEtw1qKQ3Ou8bh94FAi7IdzyvPZiIfLBKo5IcDdFWy1f0vEoxA0K485qp+u2iibrnsNRV+FqyjxOhMw07+fvgj/6stdHcn9hll49U4ZIVg+1JyYaXWUjxyfci6tjQKNt24xblxRmfF1wEcpN7K0cFUrEkegvGdlFAxOMzeOzPAQNbnXdxvXI9eDSj3+rn4yFalNCMiTCyiuFbbRheRWatIL3Pt/7kdUbt3xtyyLCgZhHX35oINCFqEb5YIkwpeRfp0WOpjIHx6DwiGc847nRSUFjIJrYSIiKxaTFtholBc5hZ9xMi8ocAfF1E1WZA/k7L7WPE/4h4sgS24DHKqUshRan/p2QrkDhNWCQfjO+4DlkEHTG0Z+M/m2Qdv+4o4RYLbBRxhNUmLyGeN+l6wIU4Nu3u1YznBax6kRZGpJ8SsnTv3FRJf0WWRG9ipC2qGNhkTql8mLwBDW0yzrkiTuRhJgnw8AOMP71S3g++tgJynE1MMDxJw925hjdBbR79TWMOlSERtJlNG34LMjCFQReQaw+irTy4nG8kqBHimR7ZP6okhuECnol8yk6QYaf6OdbOwTnDXPdoPlZ2bNCaHVS9orryQlPYFnSViDqiQlH2xbEYwQLL3f2QR1LaHaFSokKOsdhNyImUfLZ0wr3FE/KDaO+pcIhLlLtNsvH//xKETQnjwEdfWDYURGNLyvHF/lt838c7FQKYlkIiT4ZHh8Ht0FhkI4k9STdVl/Ne2JlCHPl/KZwer3T3yw+ixJucNyWxefRjsOf7KjVw+vtZfiQK1cosaCcKcgBFxrQQjClXJSaeNyHuU6QKfkOYZgF04TFyIooXB1zfxqfJzHrniwXiNYXBy29V5ZOByFv2lUlB9Y3Dgs2O/RPhOw2UWB3Owk3nhCKbhUbBdZisuPVt6l5jYP8LdnrEWTQtEA9kh+LAGMviq8ghBkajiFU/n8wl1xMOa6ufjtlIkzZluFHsGYoiXk6lhOTdL4HR/nQ/fvspXU2v9xJApDJdpIZh55YssZgAIqBBAzs8+Bj4CTxMz/JaLf7oQkSsHElilJpUmxpSEuLFU+zcBb3IYNBVqa0RcRJSil2P/rIVyONrrBkiTpmtLJl46bcB5AcAT1VuVD0IYrIehTWQ7xFkCnvFkp9BIiEbBKRNSQQDiHZ0q83HRAC0PDRURMCcI5/CI6CWUgxC8emRfws2Zs2XSFEUnw7GMryZW8PSDquky71t28z6vipZSz6PLpnUOoHW1EljlrvRdWdyey2wAUUDktJBAtRqioXGqCzas5DcB9X6k/kToMew0CklYub1NNBEiKI15t0DSN+nGwXnbFYaglSHFNKjTCLL1Na//731nOPo2RgmO7qD9OKfn/zbcZjPVWGoHy4dd57VHq/Gd19ozGDwqlGcKYWJEkIxOmvGojFO5YL5BFSThEe7z0kwW8xSAQL7dzOU+9obk87I1R2Ntm66/fLRuu8udU3esS7pZyqq/6/6RscEPmM2eEOaBXQJaHnJ8AAzQADwFiA65gX+ebAkVhqb0hAQpLlED9jauGKQJhHfunr0GyCkFIsDFy++GQ+kYLqn/DrknliO7fcu8Vgg3UhcCrTFK1It/IOx9tOjLurfOdllK7iZpdqdBJRJ4i+g1v7pR/LleSgWz6TD0GkF4FkbhUE85FdXRV3EEQwElDPRNQyCIwrPFB7NXqr0rzzRKkja9lkyGGL3T1SnLE0yHFKe4lRonmEeEPLfXxslbeSyY2X20FYgHLA9xeAlva1GKy4kjG+6URRsnlfhpq6bF8pB3dqP61ghMjatosKVLRrOsphuftaFmGKJvwvyaJoDcoywaZLyjy2J8nud49th2BH5ZGpXzRS4S5Hu1oEdzf/LL5SoWk+15iITXwVDYwHEQwklQolh8Fk/GN4UmdBshIT0srF55JCKi62R1ZLPYvzLZXW4YQHa5W/6O6quif38qVqepaY8fG+dV3jKyQ1zy1iqhSxuxVxTTVusACLADRCXAitMKcTo6o/fH/RMLUSIhGgNDp0OJEiZj2TdAco+j/dy7a1F4nBqe4q1PGc2t8RbZrUQ4oeX6Wk2iEl63J2eBIIAl1S4/6+tFTswSsqIivz+v0IbqZadmiGTVxIXCuIQ8BIGF/LQNQGklnKTaW1IzF7qne62+7nMil5j1Sg9t6tGqdrwOZ6N/lnV5uvgm1+//7KJvamPLs6ht6ua6viSFeS4nHG/E9HPPWafWgJAAGABnBLxPz/CsZMMycVSCJL46xH82idCP9wgk6CTF6WABcA9B0bxQUTbscurETx2bilIz1l7XvbaX3ZZAHgenF7VH1hwrpL8kcPmsotg7tU7FN9QExxOJbRUW8fx8dva5qmHgE8fnpJawriO2JNkIwwAyhnXmnCqgjHYhV7AN4RwqOJqtGC9ZhU5qTl+3dm2O5SV459YulatcTZhov7Z7pOV8zvvksNXSQu2drK8Whq5QDAYcQDRifjZ2U/g1bHzXWt4MjqC67UJ02a8nGC9ocWqoNAhlDLtygThL+z3kb9h7S8HiTPr0iXI4PojCIfgChpu6DWOqipiWIaGZL7yL4q0SAEAkTYDgExq+ZfHAqGh2a3N/+F5Cm9DQLQSBYL2AvCQHI3Km3EWjcLQvBceilm0XfFFDKDdMq2kWIHpINHLnK83OZrm43O4rgcfkeTc+Lp9X/VXTf6ouoqwouoKuvWTEopCT8mzFJO6SlZ+GJ8ABNgHAXYBQ58YI8hlwVPLm0DHXtrmAZgUMteweq1uBCukBwAAeQJ5BmKRX0S5HrlGEm6et1JRwtmKEUwuRrHQQyasnxzTPzT8mBcQvrswlYnfmRZjWX3EkKCGRyIqEbCwfRVzc4wCyfeupdUOp4dVdkpPdmMpEI5jXyKPgQS2I9vxG8xPYi2Tqp6Cv12UdkaRHcdivamIXZ6iHaP3h1uqxfVIwOqmTfNdrrNGrsw53fdc13vh0MqhYi7FXeQ0jf8MBuQE2CEjRzd+ELCRoZW51JBPCrHgyBWUytRXb+CbK4Qv3RoglrqM7QvZ0iTVe8vxDT9a4LG9E2bbsgJkQRc0KX1c2iPoR/j0wVIws8wRUljMuRBS1QYxzGcwp29huR9KKbIli46/J8id2c/DWLojm0IAlvCBkq9HqO3+clF3dX3qkuAeQR3JSSh/lDEfr06htIp83+OB8TRZKL5rBSuGSVX+7u0l9M9yGDgFOiP/68dt1c5uj4upeH9xegqGwOXtrmmTKu1ralJVNC9ukr5AE8AGeE2CahxVUDMQ7hczauIJwjRd3RUXTqvCncJRVL/jhbgiz4XVhYc1zcZJEUd6aaqOz+1UPlx5+iGKpGc3CXGfRBqhBJ5Aob73dKG1dBplggsBlcE9nqg7s/2P4YW0S5m+sy+TLW+Ch0jB9kUSLBQA0iYgVzopxhbDdEeJF00sNPp8jUj7HAcgtD2MZUamCgbGykeBZfWIg0D7rAnjI8sh7BNakml4qZ01en0Cw0f02WVp9dN8QzXOEvS/LNb88bjsUoTDF2ZavJMdYpXKwVG7TWATAAEYASkyHKdIkAVR6RPS/BMMJliZKXx2kg6+7LtQ0j0Fc3LXlXgwDK3CHPkq82Up8FesVE697X4M+jD8GkRF9lw+JxT6daKBn9dNmuSZNoeBroeBRx6GUjNvB1nsvITNYmr5RJZFJZV5/G6+w8WYhE4tCYDUGh2U5qNCi28laXvd1FR8ynoRCw9BMHwdrRJ+8jgnILy4x7ayQ021+JV1HX1l4umqqNE+qZWv+i1i5f3DxcNskSTue4SnO83TjNN0kuUJa5YngVwLZPX9wLALApGc3BHHVlJ94ku5X3by8+uX/0ySYW38wCMPQrmN1pfS66G0k02jWFcJookdr61i0MRoJS8XhGHI0KmCHdQyaIohlEolkoldjR4KsWjQUCoaCE2Kzh46RsmCixkEuoq6pso11IgEJWJh0DQEwoLRIPBA+Utni1Ggaefmt88ZqUZGYlDNwUPmrtR1+a8HHx5p+9R296vtJS0nTA5lV9nPipVxptF+atQLxcZylGzS7MEYpOrdpkCQorgMYCI7xM54xgdg8jIdzoNCs5WmkeWrjrD5NMeZwwBBGYnKqLUxPPZJXCCTzSXUatS3YR3PHxbz2+x/lqD2eBoDkFYgaLzMwK0D2npr2byuRSCq8UOr9p0nQRhUGIRD0VnhaZnLxQ2ora1o+BE5qcgsFxmYjCIdDAuNjE0KW61eo/78EvKrGwo1yMhLOhy/JGleQ5TlOSVlJJ+3rTW1MtqP/SQyTrR+6WW10qupRwk0Qzu/uh+O9Kkp2n+uVKusv2nqx1QehkR6hXgjhIPIgHERzoXllfe0TfZl8vXWp5OYuouVtbKD3EkltDW8N6olICC3tKEw+f71WScN2jFkYI2GHSIhMaNWrRi5WpkKil46/NHo1U1EzSSkDI7F1HCEBYAIAFamX6genYQiNfy4sB7eXvjqPEkkltNkaz/+MUIDEtW/zP/hAAGAIUA7AEmASMA3ABtAAP/oP9ptLCUWx6ATetIx4InVRMum403zIrLdOwb7OZQ6okF/KKcjqkSQca1xx+qU9HhOP1YklVtSknMbjSG3CMwxBSXwfQUwaA4ZtrhNN7JSSLvC+sCxRDOTXggfExoKJFpkzBo4dZzlj/7bE7U2VVlBi5Kl1Gi299RG24eWRA9oc79Dh6smXb6Svyi0K2gGhISs9ZyoTao1VHZ1AR9iKiJhWcq2i6iSmVvvLdtYrzgVMTHxdHXK1R270IoBDjQ/iuzS0Tsb4WO2vvZZ4HLMi0WqfimDzcxIUi92RYP0gkRhzYWQAmDCMBqwCzakbJi1AdKWrb5SkOrUNFva7G0OLbHmNNwzaOm8bqJbASI92jD2LLlmaGSnHKpHsbJ1rBFTeUcq5liXAw5V2Ju2Z1nqgujhtop3yi1s071gVDuFxf6yrMUaT9C0uF8/nBfVsSp9ET2mBIIapE6fjZKRuKSnF5+X4Ji3ksXUhmQPWah0z6XJ7yJ4pTkjC1IeVpWSZSgbECfUWFKDzJaWYSIWlFsaSpCu4t72sng4v6QlyGVFv62gsU+UK022t90xGTUq/qlZUUy2XEZdEnVkyFuWN7pFdqB7FlTzBCRqK+4Ut1j+q61DY3nhjoc8GH0jyodrLYqcZFiFGw5KtPBRRv8WSlKvyZRq/vaJjTs8vRFu+O3lA17MfqDoRdiYtkhFs+pt6JMr+Kiuvan1OicP8Sh+63Kt6f5cI0cUQ6FtNDMHNKLgkqS86zmEPgGsM2dFlySoJ7NVRBDGoRzYWdjA8z1x9YkMeMwPuFYosvJCQ/4jCPNPDvhSo3ePBJAlvVuJFrqyeohoDSkJl4j/N2BvYsjXmkLi7EsMRhWK0fCWB9GaSX2ZkFcfmEnhKRy6JT6fBlbNG+ZO1R9s6hkUYIiGuiMwVTJhYSRF52JSoeWyOhK907LJlF7T1QR+FnpeYyoW2ih3QmfSoUVhX9MQnmbrHgQbfBfPRXwaWRvRnMIQvyvnI3pjAgy4MfYrmYIITn9nLEJPg1lwx2jYJpEc3BHqaEsiGtcoJpwEtAbji6R7iDzCgHMuT73PGWrIwhyJ8rqbjexZdWBpQLF/BCv5L7UQVindpNA4h2Pv5XdrdnKQPfHlMjw+bMnXaUllxCsMvBS55f3tyLa1vKwquEzMS0LBwNpcm7fJef6ZqGETBLOCCliUMK4rBBDMXYHRVTrz6Ql3VIZzVJF0Vt9XmSiObB9HI1sEL61MeUQBzFr/9UkeGahlSCoLJYQcCA32x2HneGwSdi8LY1GGMLg3r2DfWxnQMY1Jc7IztUZ3frjJ81kR5fTW4G0kZjKtbpD/YGQJuIbAziUSf1r+uJcD82ti6yIfsbAlsDQJ5k8ypxVEa2n0rElF2eKRBYoKby6kh7UE+DEeDSsbm+tkj7CyaOLKZGWxZnbN9V2NZEfTQbTUv024xm5noZOvCDZxfzMb6CRETVanBxxX4rpTIKZmZDgpzuUmO1wQaHJdbrqyJRd0m53QG8VG0ii8hqbVllciqXqqLWZndmKpQlOtwuCavZu8S6UjaRE/S1LbQh1pymsLa9nqJ7h5WS5IJtxa8pZMQ6C/qOQozFa4XyU4lIt9G4ytySnIPkQjzg3RL9FEVy4LJkprMcUBnNRFVMaWMAsvzf5PSukE0kK8pKTXRX1mwZRKd0zWVBFZq9XhqOYahTsoQ1Ap5BgY/NEmTyHuTqTaQk3aZBhCEZYZiKO0kKOCH0Q8J6cWUUCLHJoEwY6PamqlxzUpBpNnPW/Js6+liAdyNzShjE5QD+OHYLIeh1Kk44kTYwk4WzEw7OG2diT6f5WOZuILQlvb2SQT8ijMAoU9DwCACCABsgC0CXMxCwQsgn/cRiddwRIzkCjyUw++m1m2Vi/9PtONVcRstx2iQKO+JAlTEG+flUSedpGUBNhOSv6goRMoyRrjpHxEjzO6VxyOF2+rZsvZhvhG/agRBpoL832SEoxxZiuhi1Ppg2ukhGm1wcwb82/kE+6dgQB6mlSp550pQES4xgCaAYo2nxnXMp5qCfVTGNckI9W3Xe0tNcFTvJhQocrFQM1iMwWqy9of4M82iT5lEV4oCz5FGgvYqTApH3ULBJ2RAjacf64KO17/ifi1BcofevdPcXipI5nskmKbkBFhVIoif75byx83NPftDWIJh50ZUwKoU/FexF/rZ91oet4jm7A2iQJlKdHD0rCtz6qSkPFfKEuVqdRESF6JEb6kj0uHoQMfF7ZTnoQBqJlqAchtnUVwCYphNgKQ6frEuwuLzUbZ6nZ9HVnx538xKjl9LD7iw0/PkvWftKZbCySIGuZcI3W0LoVynjGSsuX72FQl2JhPYwr1RkkR+TYVtYURXOioS4ayqhSMUcECOqXe4xVTz0lImFMrJLhzZFRrB1HR6bL5W2EySZNSoTJzrlIuhXXVaaLokG0VFWXlCaZBZasV4RqKfqUBC67gnj4z59553ZzJ4yOov3FrFm7bmJmVnYjFIXgpHZ3UBEARD5Zqydi0RtBwxUPRUTMEDJLsZJEiDfeVmrbjJykuLl2el+VeLSQn78JC9elXv0LSnfqGT9imoGDRcRsFHnmy5bXpAh5sECTF1y8cBLob6UGJrxrvlHZV13JrKW3k9nkMpBWSYBabB+Fklbgh3RtJBKEYFr0mErLwd0BBp4ei+b22/fl2G5ngtUlk+oJDsqKctDQxF7zej1KKJWRoCtr070haQlYwVoW2y40bidKQPCtJtQqNW5Wo7MaRGmVOFtIyyf+fb5Ud+dR1tLuXW8IrKFUcXdhEYVvxqKSSEYDGaggqhwIjoERHDsh4pNWSmd4Ludfar1n7XJ4YI3dbxrbOz2EIjJDeFz9y2SKHiU2QMdi7STJxGQkjlGx41/Im7Mi9yQI+jbFnxbFTFM3WeG/VTkSNKT9W/ud73vvsgtI0msfxXeaRyNQrZwahDFgGdCX3RwGBGHxCI0WrQh88Uz6yrKnzM8PGnFhE1ZZiinivi3t3wibn7MtI9S1sveLVuDQbVf6KjQjdKF23tr/83xqnME3lxpTZNDFIuUIvjX8k2vt7nrZ0tNS3OqYfpfcTuE0bRpV8Q/NwnZQtX/q+/rWwQnhiLwnQMnlKq0ZU3+t9V0xpKT0tH6aieWh9STLmx9tyQqOCRak8PHKCpQuUmJRjyHi0UMipfgLudBZGhKk5Y8RJeOlKnWrqJIrT6ECpzlV7PvmrpLeVfLbvP7iP76DObzGmB2+Bq3h+q7SCXUxIOC0YC4OFeDZjQJEqJ7Ye53IZFvxH56ao+ix5KrLbrrUIiaixq+I6krIVrAoWILTGuuyw3fHjtWJuHrBkcrTNHeM8a3k32qrNW3RjqU70CTjiVe7Gjqpba/KG9nN9EUJ4SxzTScCg1EozOQ7AXWIG8Gr+Ck+hY7A5HfoQScyrGvQVVM59Rn3v7EWBqpQ9S0RzyQ/lJWovmwnSJMwQOS5rWon33JypyoWERaJkzr3R5fOR28Imb5RsT7seCnV4MKlCh4tFXfJ58Wc1dpc2HSyvZrEsbwshzNKOBqGIGZtBmQkIMIQ2AvByjLi4HKSul9U4LVZAeRPEVLFM1lUyC0CFys3TN/GMQ8x65WpCJqwTPDkNEKTcjtbvXbmYoEJg6EKQ+vMzBNTyJXSJCp5rW0RT7Xa6SkfI+9SZE3WqobXxtiWR0+wRxZGE2hJCqEs7scACEBCxKxyFoxg64xGBIbkTybFzSEe4LRigRa5nBdG9Prub4IgVipClQI+dzqHD9Oa47BEy3noblqel37eGXIOx0NWiYjQlOzVtZfHBNU/n6vf6aPMzBnTUZM2LrNcWSXo+t5HrL5Xa1chiyZz6Mogg8hFJIAiADA8M5OAftwHEHVsA4DhWL7x7A5nOUqyEghtn7RZanfmxNRJF0SSItsfz6GYhPmUXUEa7j2JCa/i+otWujlfWpZ4TGYqqhF3SsgoK24Er91PukcJleWTiZCf7ZPIgMJfUf/t5yF85ja2eegT5pqPrqDjSeyjxgjPSLwAxB8ZBAlUXzDG+ZYVwgkx+unz6rJ/0A5hGdp0ib+zrt6R9bzlsQXHA3XQgiyYzraf71iFZJdGFWfCcSr12nRPSRcfiVRaQyN90HlTNO67TpJtebkPXHhEEfh/2rCJRgIPTqVWk9J1Td7eVJwsWEp0DL5JNner3yWpU6AhBpB3VLn+zoWBvoVyBRZohzRTZAGUhMBKNR5jhPuB+OBrcSP00MSmA7DqM6KXYzxbp1ULLTxHJsu84NuLhOHFEEKzcyXlGIMybnZapO3LeiEeNlOKVrpAitqRdEwSvrH1NurlxXvOh2ZeFrKtJ6qNJ1p8t/Ys1ZlWSt+yBLD2WEg9VpkKuuohgRx2vd0r4kC6ybXevTnLGMKLg+p3LUbkFY2vRVdnOUareccus5IsWv8L5QMZnYF98quKcG9xX03owtBeNQ3QDuSYitdaC4kZaKWy2GDtBW8+fL3StWhrcTWqtq+QyzpKYxjCILCNt4YAUn47NcuiCxANDesFUYVUmdDJcyBB5a4tNg0IK7iEATBCFLFm5ZP88jkveR68JMJybqJzUyIxmWdqMjUZzVbW9jFdv2pK3IyUrqdmrW8mhFRdSu2logZ50///o5JhFUziVXNXX+Z/dxfI7yRxED4OzYFleaQ7FYtCaNuib8tNU0Y2LsTNxx+pagtNk9+KH6UcCs0J9ltbfPSMKcjokUS0FDnLoFaJVOBR0x+xWfSVlabTBcnJcuJI0KlOrgWccxUj4BloG5VhSIx5YTp2FESyamrtR5dol3C87VQK2fWibhkGGEqxgcBfHyP80zwPDaJUZdoeDU//LbEnHCUcGyt6mWLwzIaFTusnMmhs0SgYXa1PKvm87ednRNrPhb3ZR7OHj924krvznL7Oh03M13d8aPvkxOgjpFXqHA8tbHjKvnl6baV7BtZu90dFAtGDnidz33HkImpS75PK+Iqx7mIcOs39tv8g0j0zLt3DgYDss54y8QlApfa4mCUri7ry8ZKUrytzpuzKjMpQtlZf00K3DRl+3EpIqz0hX8sWqm7q0LnaQnX+pJRx1LnPqgahVjXn0hxJISePIIZFkfQa314WkZEZI6UFSe+VPgzoa0gEkk2pjpW8KdfwRM1xuf1OCJMvYCY1IhRW/aIluMaXVSiZ2lLhciKHPsU5SROa1TTdQC5DabS1p06IWW3QgrRNQoum3eqJc9aoq+qWYTSIGkL5LMxrCmiqRvCP1Q5JKdCPSA4DsGeKFQZAykVYSaFh7NrgLyipmZoJcU3IC7JKBe2cukA7EYRxjsEDGI9HaycITYq4ik4RWDI8s5GkdaOhv7FZmfYG6tdn4akT/TVI67umU0fEmMtb8/27tYtp9p9sm0yz0V1GkX0nONR0KOIJgxZVhQUn8ytn5fXTryckyc9qC1uy2NVuonNRYXJds1BGIoKN0oTTui7JLYMWPKyHZKl6rhLnuEZLS6SspNaB//jFCA1MUgAKAO4BlQG4AYEBIQCX/9P+zP3QtBlNwhfoVuVJaXu/hIen1oz01vbz9NF8NFB9trPQKVqITP2/mXXbP2XaXZKvUuxInO8VzdqbcQD+PQvC2NRFQTqk9HDu/ux9oqHsmrUEvMpuqfhZFgjBqMg2BeBQx9WJDFcY6Liv/DU+OARB0+LwmXyPBho73+8efDMme1anx+y4SPhnTYEWrd8pMN7Pxjqftw5K9YqT632b63IsWokRRl22eq4TXIyAXlsMxhIj4nmo5f2+UONStzPsIawieXj10HM5EwxmQIh3MIQyUiIFN76PYYSPDl2ggDY9DsEpE2FCGa4qzCv4VKlF/OFsgoFU019iP3/V7GR3hIbWt8n0m0qQlq/kQRpPoKIZQbQEEGEB9HE0CNuexCKGM+AsvLq8CMsV/e0SnQmKyJucy/b1waAr1DnTc0hiIIIUxXN5GEhp6a362mvYL76vjyMBPEMmsBGXUVk+sBLydJHSzw0BaQnzxx+TVLFedd2xOed04PrUM3w3u7JIVWp+yeplkyWYix6hMnKty6mM50FcBMFkQy2QhgQSF2dO/hL9QXlNAQVfFIdghiTRRVlGNB4AtAUg4BmPSwfiqL/UaX9dT0rsJhEBGOxgfHhGuQybUXJ9Odw8MOpNXVdli2/d3Jug06eVBaWv6Wa77/79+f6TKVI84Rmm+CFGbbsxLfNwC+FsGQnPIsjs8lup/K99aVLalsj4LWq0SSK9r7v9m9RmEQdzyJQsndfYkX7ofrQejC0j1SWTjUwlkjEhRbe1NQVJR6kJvbNNQ/NPt3efP5MhhVsJY6lmjZZK2fPBqVNq/3Yb1O13jJFiGGJXXZXflIMGYcAtPhRDMYKgsNukzbqdwsfkQx0txJaQ0iSkvprQ5h8QDQEoTBoGA4FhkXu8KrI+7vXZ+hNis7Yq0GEzQJShYcpCRsmUleu8Ag7/zhruZxcewgs3Fg4Ljm7dHqHvULjJkqzLESO8Q5T0CV5BxhBeQaXi3DeKA3NqzE9OGNvvZbITZnpDAXpAt/xYaJMXZn2gz9joIyMGxcDE1HZWcCAibFpGLVVGxPVP8nzIdSLnnFaW1VnDRDrbKf1Hy+5r+gz88tr/y8/N7xl8n/wxkdy9NMlRyi5J9Roo+dpujMMSKI7jBGeBCbpFO56Y3sYScxIOxdTJ6y7T9i/yBc9vMadrMJjEU14zP5RdCWYl4hsxXJTisoBdTjYmmFqj8UvZO4fou5arQf0GCmxoW3qUc0JHwsMizbXWVva3U4jyIIN4VwIIE8DOJ9P62h7BufgL13MCoEAGifFATFQODZDoCs9WoSQwFkcxRWTOM4YWXf5TUNgZnyawDdGKDYPy03OBiHw0QkYgG6w4ydVfvL10JqRuiuG+89SKvuFOiLb2NXAV9Pn0cv6xqPkXTatsi+0xTzOUc5WoXDuAlVFxCALoxxLTAYioW7CIg8sSGNAimJa2SA1Fq53nKNExyL0ZHBS8fdN6GrGXjJ02EoxPHYmHoJhyjmJWCZbJvTgr09uPVc5S1xOVSNHTkWPARk2elxbHfelq8Qgz2FnO/MeRPE0CCNoDeBXCOa/z/Ivys4gtO+ANS8AijbU00NhYY5KfB3ZH6+LNIG6k2fEkS8z1noDj84i4eXSup18UNIqOpEZn06GA2o/8YSsQsRJTsBILO+e4oJumtoTWt4FCIe0jqifk5ehyO2pveWfu51JqXT23e+1WYIoxhvlGk2FQAc4KRrg6t3RDaF2A3rg1xedoMIUY8pVvFtz1Xp4MVhJaRVggSyyPagto6EVwmJy5KYhwaSsuMzZgEgkCg3IDgRHZpRVi88w5SCmGZDQTBKtTq939x9uFxjRU5Bjewq+O73KVUeC1YUQ/aJsoxlnXCjrBHAfbkmA7iKF+BAFCF8NYNcLIuQNYfJWPqLKKgyoqcnDloyZyDnYrVhdizx/TSKzFVUm9oqVRWJ0YLydJR5wYacuyE00/uUNLmX9S9oG2mc5bNtkMFDVLpZF3YIWHqJOv1dHXscnmN9BxzVNvpKcRJmi92ybCADpX4KakC8F+FgoIQBAOB0gwCJCQ60GFYuyEQhYmEw0AeO/85KzRL3QmxezxYaJUQ7qQ6S4rGvWzHfFEjMz4+ICLOBow6tdCsMFfJawVm2cDnXV07c6mif1vGppgYhLYXW59JcSi8GmqH7uIoy0smf8wpD+ephzw7AZkhS0C2Rs64fLso5xiKsUOSBQgz7ITJprmY040ze+9ETZAipiiVw35F4gW66SZO2W5tqcy1a5+vYw06eToEwizeXFhxLVoKGaaHCamKxKtGhKFzGpO2oCZMK10S8rkU877DJWWJXnp7pMq3uQZzmf3jVHaBQgySbgXhCp8SUEsdg4l7S2ZLCcIUlyUkWkQYScCYGFJQ8uuU2yKGra0uBbnsRoplzHY9aYG3hhpVDW+ooWrljTyzvJzlcnWu/+4z+8ieCk0isjAIvGq3M8mtEarYy9QOOjFxXRVerxtnC8vsp3YdNSLT8Z/YSpt/1UZJOsYzKWwEH+p6QGbB+ElDNDI3NvVK9x8dyVjrlwOGGWPS1AltrX1wklmLzIC4M4e0oLqPXjrc4JlehzuhnoSfRDQiOrNqfx4dqYEU1KE8EQy3PXIFe47Upi+bmxTkpCN+8cMgqaykck3D0h6J9x5sqaNDGD8KprKnKe78UMyKBjcC0emkOIEOtlEKGncgqzRuKXLxLy90m6jC1g79PUC+wbdE8cBjG0psNp/ps5H/WgNswO2yVmnES8t+w7FWzyfCPdwIr6PfV1JoFj3KNYzxWRTJ1AkoYOP3+AV+k+6iRPRR6qLLYcVXXVzsybljbGjpsXfLyX++AfT6bvPH+IkkOmBdVowbAL/jzwK6zTiuA1AYrRFCI9cEcQyieAOo3HJQLcw3jkkKpc55kF6YFwoSTULo6SuCK2FgJxjMeZkxApOk7NGsTSaI748aTcE71V0FcsqszkowbmNZkUvzUa6+P2sC4aPoOzpG3zbcwsQDBBLFJQUQY5SA+VPzCrdJp5DuUm2niyL9pDyYu+8TRWJslMtSxWyO6nf+Gf0CL0+3YWoy2T5GzvPZi6CsFxQIRfeBw6tNzkq3j+VOc4pREuzMcM62HHecmKgM/IpJyPwbzD0VKp493ok1zdsQ7wtxtgo3KAmgACED9vCMBgEzJGqCNPJ4AdBrimkVfEDfFwbbxDdG4EIoB3PqJildREjArnHCoEi5FGS6xqedZ4Vi5AQBlEwi8xRPvPQr234QUyJy69jOFyCSStfjZB+ziqhG4FlN1M4VvUmuqRweM8PyyPp/WJua8vRIeX0lolgeAqxYWIJdDkBuMlV/HK5luujmphbT/N5nD66KPhnL0QTtxOc7LMXeKRzhYdtZxC54XZ4aZQS9dR0LhHKlRLqgqDNVzfNSotl+7GkYR3OH4kTs3zaOukLBZGOoAiUDriiyPJJLvZXzmf+MXU0xakq+XUnq3hiAEyUu1wEkECAq86e05rbDeFfIgbmFlNUdpkWgfBbyVLQh0Hp/9zpaOZ8LzL7EQHuGx292zVkUyfRlhr61d4ymr6S3WTZ/zwIuvMwp1OvZBE2zNJzbka0TlEokGBBSEVz6rHoNtOuLuwRd1rrCHkzxMUWIW41SGAZwCsJ09wkFObtafyjC62w/hKvO0GWRqWMZqIuib2/P8lUqXlBBfFNE8jlDWidqqaJ4FVsIQwqYg1bOP7GJYUFmUry5NURLcq0dsmxrGqksN+668msQwmn/6d73oe7cEp4wF6SpF3bVONrnOOMNcPtPgAGRB6i2wjm2NoyuMSFUI6NRvBkcle05dt1BOsXzVkePZxvcTfsdxWCgLDvFBynjqGumFNs3auOejCRy7ZWFxpjkLtFqfWMDQI92KdHKfXYk95lmggUF9asVeqx6e5ne5i6Lj7MzR9jQ7TUfW58QX/2kPLWY/PAbA+BiVpc2ozURp4QRZlSXR42qRr8SPMtMFuIje8szZbWO8kSbLFYB85LiWGrN1gkIG4LKxY8hdUfJjQKgzGMz5LWU5TSXB/SST1JfhrcCveha61rjdqXXWER8NY4K/0d9DN2BqjtKFxvEiRyvODkrWDJBdnJYkubM5ASLagixOTWeUs+nrkCw6dDNYli8W+6zoA0DfabKa/DFDZigTiOkoxyB+bPYEh5NEyTHlI5w5fQotBdXylAw8gUD7vvHi2UbwbTQR/4N1Ehxf0nVRods06F5+hxLDwGbLKo+ZSF86uuLtu3OgJc3xjTDu/mTbCge8b5S84tLj44sTZtwtzJLu0/1dmLCOdzdL4XF0gKkum1vEY8GASZyQZftpjaSGUE6oYyy4eLwd3LJKeqTt85kMvcFePGZwUc/fJdurhLkjk6ycNjc4kYfkG+0WqZY94FdgsS3jkA4FhNC0JgUoLIJRBamqn5khQWWNMWkIFNbzEjr0ZCeoYjaRm1nxNMXMxiOUdbJQqCpwav5BuNt8MbU43sV+oFOk1oju/ul8XvyINy5FGI3cVkfIRfOIrZK17abDr8je1cQvPp53HZfGMicuPKqc/iyIcITQv4KrbYQ7QZpQyHICi63EN24KEwLHYD4PWMmZqdd8ZxEjU2ni3iIP54oyUCUdOsca09hLkd1omjtvykyETnPNdkW51qfKNb2G1qN0DO4WaZyMYyspzlfks6DnCnrY0m2oTOaFSvj3yGo/AWhEtqyqvkBnhSQFtahwYOkBgNzLzE/VCljM4/2yxnltR4ZgcxDW0MAaH/wGPTkRpFJhjkRxZOkvUQv21ZE6F9O+3hlHLRbWfGy1v2Sy6JRm13xkgkbrX3+7hOcDgI+Vhe23bJkfXnJ0RPR3bhpLs/v+f617v+eigLxcwDLpaIFdQsAXQJ+e0pC6jZaqHJ4ifDPkx8c/UG9GQwPBUSK+E7E6h1WUEg2uQdJixMf3YLhWfO2F4j+BunG4f3e6kFNYD1FfrmwkNo397m9xp2i4uJojmzRBt7mb7CE7rc98fXRvdGZIXohc6+AZ4x4BNUjF8iAbhmBeyp5Ksg/ir5twNYK8I0Cqq3MtRON4e/oXRQtCmDy3alXYIujHOY7o/HcFPlmcIwo5bOovyyos2okmaTiLf8SqiryL2bQfqu4jXptlgDj8cp7tmLRt0FSHaoT81fspURAQGWIEAElH1AZQ2JTgkAmprYgjoFAU2ApBnGb9hcrH+SBZWWRb5Rfs6bVXzfT9JFicX8OVzf0hUs2ec33K08BWqWxHUQhKjdHBu1qVn2kKweYYP+IXvdclcyjaf1KMdlUfc6ewkx64lYBHYnNiztm4uyAwQoYA/Zjg0Ui2lJya37FogOsKSJKCtNuRME6VEwROZsz0t67gSzj8SRDy6KDBCYMm4Gd7V2BsggCv4hXTd5TpxUYKJNhSzZoH6hoEXoTCXXMc0Uq+jXR2OT6JiZbRI3HccQ4ynSrTCJSqqAox2qmDlFSBywW8EoRivkWa3J+nTg8kzI/onmRW1C2W1E7kvU7oFGWKUOTwCzJ7BGMTIl6hcr1Yi/shkvT7nEwjR4BmJchvMyU3gm1TTHsqoWaicKnk9NZ+XDIncZ7s4DLV7uO0hKJ8Pg3f/4Gk3163r8e1xIx3tBFz0i6NpesnL1JssABSE3c1nGGVlnukojatQpUrQlYLtSk1EUr/jqD7PEJkjB7EfB/B9IEjtI7CJjSQiORPbs9H30Q00BpIYh1ijPtH4Er4iNYZRSgzd9uE+IPMr3KKHTrRAly4xCiTsgKo+QBc/L23D6TsOIV1JUIMhU/CR57mBTKZo4jL9PxwCh8xEJve2acTxpKVTSKfQWobDV1V7IBq6AzWQUXgMFX1RsmWh2n3WA4rFptsvf68NIEBytynP1dUkFytPtgKtDzEUnVDyx/z9+qZkW+S9Y4Yoq4Xv6xKqZNyyv0ljoOl7TGcjyETogOMtKr4oEY8ldQlpbqLEKJWRltTPSiY6Bi58CsYFZAMVEiTTkoTbRC46l6JZ4Makb8SOz93HTRacL2IbCw/UNVF0//xN2m8+r4ZSyHMhlElo4b0QBLiCuXuLMP/wrq0kFomiU7gWjEpBOXJAcJICFLCRCCpAFIarRy+JwgTQdKo5G8PzOemZo9Tt4oJKlet0cl1C87eaW45l1TjllffZ6Ymt//ntQNDm4PTypvdjWjirPdfLLWeX5rv5jBkoQzSuJ2IkZjhnld6aLI3QpH2Jrq8NTeI5gXTE6FddlFtZmxRLzUbUfCJhWNR0+JyAUiaXrYgJrB1Lzjw1Q88ZdRinN14hFntNnAcUQrs+dBsOqHARXnLJPMIR8KmLpJPoxrqq9hTSgqBn/+MUIDkVG+LD4nPis+YG0qC0HocdQjM3i08ihZPyMFrgZE0BI2gWmkITqUNI6fi9YRmUpKad/QJZGuDRSUvlztkUlbFAQsfjuxR/VSJII+tXUYflvyz+IMZ7hz4VPrXp87dOpwxSbeuP9Sf9t3YzC/kcWxzFk/wjTNdTGqiOIH1sexMy+PRYdJa4Gbsfowoee1A2KoaBgXLqExk5XOBkTBIOnTi58QJDiAoiZRNkEnWTaTcoEOQxExPQ3yZpyWVTX3ratjp4qVWX1zRthjyZuHr7fVM+rJZOY2hNGc31SOpk8WW8bRYe2YrmB3crglXJjoEhAHKcOS/6Uhs3GJwJVGiyJiaiQHaAwNSpA1blXeMjrhIKlbYg0EzATY7X7n+keTe53oErA16N+luBCqsyuZPkyR5KgpqifNVBDWPyMMT0PQpAvBCDMBew/j2MLKqkP2NaiEmB86prAgKWAlESbjHoiHhGKzxfrHhycsBy5coL55p9EJi3NyhQlyF6S0QXKSqWEKSVkcyQ2dudSFAQ5FZFmaccd54JsXTN2Zc2tGspSgkKGK1qzfLX7ElVUpJsKtN7QWtJYSC1jOwhbJ4zmkWQlhBEPStie8mT9EJE7m+3ifEI3SMTYhvHumRTU5sfJvJ1CWZ7JcpM04utKSXwgciCQFIgO7as7K/tpfwnLiN4J7rhYiDvoR5KfWSaEd7T1VsUdVLoqzW34kmjTwmnii/IYsTHjM7ODYoemCBtXLZQX1Leot5RsvtB5uCmSS6KvkN+EyqIrieEMkiONIaVfo+K/c4s10FqUjXOwwRfPMRSvERk+TnNDFCWS44GGUTVLRTiUVp9T5JXvFYzeOvEt1ThGd10SMTCSVJvdE/Qzlf14bOw4XbrpJ2bdIdMZLQVNomXdfwzPRFq7ON6dJOZre115V7EQ0FMWDQZj/QiHZ2e3FR0sN20LJRM5vZLRoUic4jb+X/mbGGG3TNf7/X8StAUHRvxvWo73r7DwjgJ1lg6ZcagjyGrME2NpRc1Wu+bGpOwyiZFMsa4iPpZx7BfBhvtFUHyDq3/WEsx1wYCGJWt/oiNV7TTQRKf7IWZ7LMQNim2/SWBhHlsOEEhPHQSXmeUwTghAanLVu2iGhLARDoKA0aCXDxmTCD44HpTLCXWkj8gcJ8o6+UNKvy8i+YRfzklhi40io3W78nHo/IsfLtHFezbVtu/116R6/3quoqQ81l9/8/8F6AK4TIP2CE6wJELyzRfgRj/0KIp2Y2ZyO9GaE8twbdeZvE+SXoSLuXXdQBsXbrOf2IGw0N0W9M2ydlTGRCH/Jp9nbP2OfiG55PNWwPercZgfGAQVik1nze+kzDGo6WUt/ORIq7n249kQkWh7zEsYkzRYjFpjsichHaWeCLnQ9L/doTManUNvEQ1TaiSqa6qwCKaVGJ9SUdDMoolvyr/0n+VxFCC9tqmzhDZQI/sGlQBFaKDsswMAB2i4BJx/a2OIMOwUOBCpunyp/PX1F+ySn2GCUgQW+xSh+9Hl0RhXlcl6J1Xvp/EyNLBIaRguC29Xo+3li5bSYyyRrPobZLtegiCUNH40+iSuiYGlcqZ1eP7hQCL1H1MX6cR2/kwVZO8ywyFAjIxHzkR+UwSkznCPCEFHb5b0h1yVCJTq1ck+hyOUVCwf6/V/S0q3feuvGGv6SzI+qZFNt5PIRsrO5D7Rl1KNui42mvajRV8h5pd96Ber8Z8ssa3q0+6VACwAEYRgAzS5SG4I9Bh5E8HlL65R5hVgIEuwomAARtHS6UPcvf/CcEBotDsTgQwXfsp5VhEcl2IphdJMZHticEDbxWE8+knuowhASlNEuwRJvI6H4PR+ViFmZ3uqh6tTqCGtqW+TczfdWppJ7Kr42/3amfu5EqkczS/YBZ7pikxU24gqPyfIiFim997VqHvL2rRZFP1BpBdI19qBUftxNR057STtfolO9S6kR86NIx1HRUzf29zBcLPqDveM7QlKubiCYM9JKIC6AexSBFnakGebd/fH0Zx7UcyoiFBdn+7hDZi0dxDJhMVKznoyHaqDkHCG9qbKJZN/z6BqVuztIKYYfc99svCVOs3yW1p5zc/TZm4JWNdQ6MdKTpXqOrc5aDtv1khkXJ1aJPm8W1pEhanasquvov/vtiPStIeaFACVGIv3SLgQ3pQhBCidjXyzASyuYHzBcK1DU1cwjuDYvf3x2yQK7iw6aqzJTH9opF2cZr3afjduaokHG3KZ3ee9TdBB7qNRSHVNLI2xSBaEtYtxPcJv4L7jZ0xMJ7OxJFagfmFJ2F2HQjC0TSEoZBlqHVW89RKAbSlR2xDUjFZu0qaKDZIYkovH41b4oYjbG1IzSi+K+ZcwHjgoKvZ801sirFASGFZsiwliTSumifnRgyIsiGFowGVTbIbipiwK7okORfIzQIZjZOEDWqLKpo4CLQg8kubemUIvWpNqKqbP2Z13nQn7cLnvpe2dVGywl+IT0PXJL+1EnFHJmosYdhwEyGLHqoR/oi1U1kURCeHi/Dk/09XQfT0fFg3PzJrlo5DV8e2/q8dMC1FXkTvRvvoymUOjzvEveiNmxpySEHDo2pj/vS7JuFRI8ZIJLnfc26R8+QGirSLKcDQDD8NQ8CoCUJQ+zUIToJhbqDBKBDwcLwRmkEiYeJd8ohuM/Z0qfyTttAbxrORDcvQ16C/hFWKyvodladv2nl/qwnzb5aLyUo3tM6srtP5QYsDtsuFxMVHQqAmBAsenhNiFuEaAhFyo6ZXvWMkr2FocGwwbCb58h3LZ7ye+tNE8QL5VYxIZ+/4rMGhpFp1jrrQjpTdFQieJkTT5lVDJ+g3XPxgTjQlGm+lVtSfJLz/XX/UnmJYj1dWLFeT0t92c5DmYq3L01bq2bfdXbjc9rZzGebOX2bnruw3odzWjJ4NnQFCgSdDwwwISR0gRonC5JFmBAq8qpRAs8YPDzDmVJWEUEVBtBGNOQ9/0ZbT1cylW31re2QxGgseLQHHmjZqq5bsNPmi7SJpSgYe3Sdd3VZ+/8H5AJeC9B/b81sW6v+f1M/et9rfFSjVpbX9Kf3nDnGVjyq3Fnviu5+4SX8W85q5DuLnNXFZvbqiU7NsLGHwgLg8uJBgdYqWnrtf9bKqaJuFCiG/quW/pHiwxE0ke/aIvNH6aGrNFsHm2t9tff/Q9Rqigop1ZLsOIbUzDwpswIQhKpXT7Q2g8qa3AozMR6fMirr68SMkaotsisTLonx1lH6a5H5Eu271XZfTM02OapWENPvqDMMpojJ42rZVPzSgaAkBo4HgEgewscof/h3Dg5o0Dj3kkNs0RQoJKGhI8QtKzLTs9sf4h5IkfMkoFrWeW1cJOMkzkbMb8twml5c0rbudJ0Wl72pvxqRI0aBfga8E+S9KfmXRfOpple7ruPfoydpmhVT+74rapS8lrXioqltaUTXYNXzDnfeUCRYkcAUSMIkHF5LK2RENlmghIQeU5VyWsNIIFnqGOIKWQteHGUkUoMVwgrBXK7vVVf5i3hG5p+SzXiUhbTV+tbl12TM2WbQ2y7gm7NQLg2UteheLxUtInTcobLkEhBmYZZGLZW2d0B0gyjiGY50HaDrFYFYKRQ5lsOxxjGKEYQZJkHNMeyadZB+ifRRqofnLQycRuQt23kE7I0uySSSg/JTCxALUmxacWfFH7uNSIHvMijVXRtNbE7bCpYruTOxOuRkhmuM3uUjVKRzOIZJDo05KEiEq51HRhWsGPEK9yLZpXS0MfAhcMTkcq6lyanrWjftETZX55RKK/7omJOnoQuEYLRLVzwnog2lFxXfEx+J9EbhU5DF93x2JoinFDFmGGoyDigqoMOJUKWlhQvBiasU/TqLI5Ncosq5q0JiLqSLhXWpT1ax6sraYTic0W4rCxUHRgs+HZzkKmHCArFfLdaRxHJTiDiHZ5pQisCHY1kWSIxUFMS6Yms+SP8Y0qhSWVRKN+MZzOQpattCykoY10M13TEWbc8p5VKJEJ+tnYcTmT5hZUe5eTq++EuaieeY3M1H9C2X+RaKlRBRldlQprMyIzGcl/KR2IxGTCiH0SgziIGKzIdHrFE4JxkjUjstUTiGTGY8tQ5LoiFCVyV4KpUVTTdjqV1pxhcxzHBAcitTT23l3VXvbW6z7QtxZC8YvQwSkIJKFisNKvI3pm+qapnoiISQ3EE3wMcSM7F1xCBECQ3dKqcM4yCVvXZQoMKxFCZ9HOYHBCmwis9I8PitycmOMLSxe0Sp+4gVoUjzLrFZa3yRnu5ZqcEF4xSuZ8ydk0bVpzchESNCcSk+IVu0OAw5kI4xwwUMOJ0nIyhNSNVnxcb0EOTWV8KxUIpNTFY+HtFJ6Mcj4t/95FbFvVZCqQn4gsjsUIcYUNDgg4wU0UMODHRPKitTKEmQhRPSKTMmEs3pdnCQyNEkm5uRGiJFZWcY4IKCHNHZbG/NPiHQgUYvSOGKbki8wKbuM6JMUQcipOR4Q4j61BwwpvUjmKj5iidFMqbkWs6FqQo37ZUmhHNOMOG6jfiVoRwgoikqUYKG9btOJFJJNTFxiOZ2srZxBTVxi0wpjhBcTrt+z6uMeJjmdHb9nZzPGPDDm4lYn/+MUID0JS/+v/6f/p/+n/6f/r/+3/6//t/++1Jyek/2/iet/9gnhHAvfABCcKSFJFWUKyYIWRcK8QpKRXBFk2RKqJOJJIE0WIhRksqyJZeUFXhLL4s0uSqkl1lyxrXrLF9YvGEhbuJ5ER4RERliKT05IOkTXSWxCEfIhNEpllkWJhGQWhELWJiLCJCkxBF5STlFpiiMhO0kqJZaUkmmpLRJKTExEaIp8ipE8YjEU8k68j5Q4FMmSWTJrIQaLRfFCwjFpCWixK1SycShhSLqQmSQURYhE0lIqSMsXF+iJwmyxXRCNM0STWUMRaMmQoaSCckmSRRNQohYnIhNTKtGC9r1hFVCoUsSKYi0VBKkki5iWvBRMSReQonKTRWicIoyFKpFMRbSZdMl2IX8ixMkMVEFiZChBpREYiLpBZl6FkpQhMLikJF0kUiUISllhE5NCJBiIi7QjTKaCCVpQvKUlkSWrRCQomgTtBS0bFOFtAoeWeCylCQzISIkSCSUTESeEzBZzBZGykjhdRRPkhOIhYshLEyLRxCCvQjJwgiSRcFEkolFELIrmlxIgsixWkhZFlI3JpG8mhZRiOEYiWxWz1RJ0mjxZEj28nZlJlxCIi0CJkWimJMKSKRXibeInCaNNRCOFKI4hOKScSgrRctLvpaXEWWuEQQliS5iJYKX7Ea3YTc4RyFCdiyi4RolKapBCJ8EIrXhQkRSLmUpLSbJc0WWEZXoTpKI+EIcUQslwspYSaCcWjFlJMWVpk4vc0nstBO9IsI0KQmUxa6km+WpKFkTKIwmJEqXrBOqsEZEeumFBOyhmEgtEXxcUIpYkIy7SCMIwUVSKsqkR4mYRk5lUk0aRWVyoJAtCKWoUeU0MXKZqysLQhJsJT4iQz+EwRI2o0ZSTFMJpwgRUTRNEBDgjI2QuUuZGIeXaS2I9JJheWxcxJIVclzlpVd33kTOIJ+EjrCNFegskHVLSAjyRQSVIUUCbKlyxISxIuRK4ETJPkYSkKLlLgJmpU0RBDoe+l8kMoZEiaYTPyElGjrRiIEFlCLigiWWyvkBU7EewoKhFpesiaNCKYkxGgkKUQicEUKYnS6xiPVnC1oUS8KRVQoUZuoQSsvSPLEdbUVJIWYqIWQh4mThSjJCoYF3QUSQiz7ImMmQ5FLUlssEhCIXOUspGGTeo2U7FCE+WQIohIypK9Uk0KFEzQiNEhfqZKEXgmYqKXPxELkJFFBIgkIqSag0LNfBJRsWLwld35bIIZaRORCSxICUlkkSIklyyTUh4jSpFi5STQkxaQniCzFaREXKEUiYKXiTWIOJrl0RLSJRkEUIKsWEQJZVCM6J5QkINLuKYRQxbgEFxIIUZBAgiJCmK6ECRYttwTFNEOS2UioXpNIqlykEQkCRExEBFEk2SQCcElIOCSWqUyJxCiaZUREpFrQikiELIWgnQiEskSpUEwSERPLdoRITFhCSUJSJqVtfME2pCptSiZEgjSkrBFihQhISXIW+mSWSjyEQkg1RFQoXcCMigkBTFFisrT5J87IrSmmIuxJFS6ChEUlDyLER6E63jERGSCzIgIpS0UqYKGkJOQJEoopBKSL6SUcMNkuojeTIgkIuCpEJE/CWYERGUCdvRbfUlzFOlIXsRlAqwkFxbMiBAq2EWdYhRmJDSDJlHMN87vIIjAgRCEsJIIQiJl45s5hR4PjkIuLlghNESwk2IhEQtBCiSJURL4xNVhasnUzRelVNMnZmE20fbRPNujpImqxFTJKrYiSpa3u2u1vs9Kuuxtei6YTQzRm9urqQ0XPrJCEbo2YliRNP7Y6xP5GiFdmTVPoxiJWmTF+aIpXpG08n/J0NC20Iiyu8vm06U0JakEjEERG6Jqu2V6+mRJn4hK1rbTSFqJtP/0RRkVHJGI0M7Q0zo1iswk185cdd826nPn8NHtNYkSFViCMiN/AjXZs9VrN0YxL4maRiSS13ROuIhpNlyGjCasb+REtzl2CJLCJjR6TuhhkXoJyoQkKsRTskKnTx0yGRmkX0iepmFdmy4JCU9iSG3NjSKdEhNWDI6NMzPdbVL0RL98aIiIRZXsIaTxuK+RLlbVgQYRstloiQhovfzdNK8u9zEeZasmjEMRTzZkJEENt32R/XuqEWxslQQmENoiQTLH05fa7/xSZGdBGUhDVMgyetGjE+hd1yNakUXMn+qP7EMRH8Q3BXRvHI1SLUIhEk6IiRsuWNvUZ0IgjQ7NEIiMsZVWPScr5RJpUWXkZmIIjksJu+MyLcqrEGVNyV/eq34zI0KyCNvCWMYRmeor26yzJK9QqvMNvSZiYiMQhL0aTkER1e9grpEmVYk89uXMRjGNXLEsUmjPnCL9//h1CBAEn9VE/+f/4v/htTklpIpIBb5DPaO+l2JlPv3axZd+pSFmVgrHcuXYiFi46LBhSXvehxCxkVSOl8J013RUbZuMrkv8N4Ii0lK1TRM6NJ7TFbs1Uxb17kqmLDop4bKYizqpixAi8xa8eydBedOuVJxY7LxL4sXnzJWs5zXMSMlVtsghYm6mVE+apiN0N85LEPdzzPjr4Om7m2uMpnNNV0rXpLSMLSR42ZlkjqRZ8mZU9dFEiIZpyjRWEZJGdJG+ZKlt11ESshD1pCJsbQpCM3DCxyY5OMojQ83RMgZB8Xo/xJ2RwVoThENpmbRtUFIQimRJVqYqGYUgmRXlbIxNJ0KkVAhYm6IxmNiQfEQqAnNHMCFUQhYk2EdIVIsinYgqCfFEyjFnGCujBIjbylIZIYJOZTmmIEyC6fqMJKQ3WHcaJxDxDtazRUe8THYZS2y9WDOPTVSkAhSjGKqQjcyCHcV2LAgZccuKOIIDZUeFKYM1ElArwpUg3Q5nL2bQh2WO6FSvIRd5EI0uJ6hGpvqquzO4NlPSrhWCkFPnKrTmsR47VKCKELCLHozZdfaYpPLRfCTOWGnUyurCVcmfwkbSdwTemFLiK9Ey0hZryWxzfhatpzNj5o8EGMQ17VsYMxAihcrwMjUl9cV9ezSUUUdOKY1FYQrkEWKTZgYaMMUpRJhPFDlhJsZVD0TsxJPRk4qIm4QhboHdBGKiMztAlLBDWGAlY4y2BITI51PCKIchxTmJLghxWFeBugJyJUFGhKBBGMZLSU5qBhyGgoFWWI4CIHKjHwQiywpJhofDBYM3QlgEFMjdBNhggXBiCvCMMVGI95gjPA==\" type=\"audio/flac\" />\n",
              "                    Your browser does not support the audio element.\n",
              "                </audio>\n",
              "              "
            ]
          },
          "metadata": {},
          "execution_count": 16
        }
      ],
      "source": [
        "from IPython.display import Audio\n",
        "import random\n",
        "\n",
        "file_id = random.choice([f[:-len(\".flac\")] for f in flac_files])\n",
        "flac_file_path, txt_file_path = os.path.join(data_dir, f\"{file_id}.flac\"), os.path.join(data_dir, \"2428-83705.trans.txt\")\n",
        "\n",
        "print(\"Text Transcription:\", read_txt_file(txt_file_path)[file_id], \"\\nAudio:\")\n",
        "Audio(filename=flac_file_path)"
      ]
    },
    {
      "cell_type": "markdown",
      "metadata": {
        "id": "M8jJ7Ed81p_A"
      },
      "source": [
        "Now, we will combine all the speech & text samples and will define the function (in next cell) for that purpose."
      ]
    },
    {
      "cell_type": "code",
      "execution_count": 17,
      "metadata": {
        "id": "MI-5YCzaTsei"
      },
      "outputs": [],
      "source": [
        "def fetch_sound_text_mapping(data_dir):\n",
        "  all_files = os.listdir(data_dir)\n",
        "\n",
        "  flac_files = [os.path.join(data_dir, f) for f in all_files if f.endswith(\".flac\")]\n",
        "  txt_files = [os.path.join(data_dir, f) for f in all_files if f.endswith(\".txt\")]\n",
        "\n",
        "  txt_samples = {}\n",
        "  for f in txt_files:\n",
        "    txt_samples.update(read_txt_file(f))\n",
        "\n",
        "  speech_samples = {}\n",
        "  for f in flac_files:\n",
        "    speech_samples.update(read_flac_file(f))\n",
        "\n",
        "  assert len(txt_samples) == len(speech_samples)\n",
        "\n",
        "  samples = [(speech_samples[file_id], txt_samples[file_id]) for file_id in speech_samples.keys() if len(speech_samples[file_id]) < AUDIO_MAXLEN]\n",
        "  return samples"
      ]
    },
    {
      "cell_type": "markdown",
      "metadata": {
        "id": "mx95Lxvu0nT4"
      },
      "source": [
        "It's time to have a look at a few samples ..."
      ]
    },
    {
      "cell_type": "code",
      "execution_count": 18,
      "metadata": {
        "id": "_Ls7X_jqIz4R",
        "colab": {
          "base_uri": "https://localhost:8080/"
        },
        "outputId": "1e127dca-b3f7-4b7c-c63c-64e4a80763c0"
      },
      "outputs": [
        {
          "output_type": "execute_result",
          "data": {
            "text/plain": [
              "[(array([-0.00036621, -0.00015259, -0.00012207, ..., -0.0005188 ,\n",
              "         -0.00048828, -0.00048828]),\n",
              "  'THERE WERE NO SIGNS OF FALTERING ABOUT HER FLOW OF LANGUAGE'),\n",
              " (array([ 0.00018311,  0.00021362,  0.00021362, ..., -0.00036621,\n",
              "         -0.00036621, -0.00036621]),\n",
              "  'SUCH IS THE SELFISHNESS OF HUMAN NATURE'),\n",
              " (array([-6.10351562e-05, -6.10351562e-05, -3.05175781e-05, ...,\n",
              "         -2.13623047e-04, -9.15527344e-05, -3.05175781e-05]),\n",
              "  'I CANNOT PRETEND TO EXPLAIN WHY EXCEPT ON THE SUPPOSITION THAT ROMANCE IS DEAD AT LEAST IN THAT CIRCLE OF SOCIETY IN WHICH THE SNELLINGS MOVE'),\n",
              " (array([ 2.74658203e-04,  2.74658203e-04,  1.22070312e-04, ...,\n",
              "         -1.83105469e-04, -1.22070312e-04, -9.15527344e-05]),\n",
              "  'WE HAVE ALL BEEN GIVING MARY ANN PRESENTS AND I SUPPOSE YOU MISTER WHITING HAVE BEEN GIVING HER SOMETHING TOO'),\n",
              " (array([-0.00201416, -0.0022583 , -0.00234985, ...,  0.00137329,\n",
              "          0.0012207 ,  0.00109863]),\n",
              "  'FOR INSTANCE LOOK AT THEIR BEHAVIOUR IN THE MATTER OF THE RING')]"
            ]
          },
          "metadata": {},
          "execution_count": 18
        }
      ],
      "source": [
        "samples = fetch_sound_text_mapping(data_dir)\n",
        "samples[:5]"
      ]
    },
    {
      "cell_type": "markdown",
      "metadata": {
        "id": "TUjhSWfsnlCL"
      },
      "source": [
        "Note: We are loading this data into memory as we working with a small amount of dataset in this notebook. But for training on the complete dataset (~300 GBs), you will have to load data lazily. You can refer to [this script](https://github.com/vasudevgupta7/gsoc-wav2vec2/blob/main/src/data_utils.py) to know more on that."
      ]
    },
    {
      "cell_type": "markdown",
      "metadata": {
        "id": "xg8Zia1kzw0J"
      },
      "source": [
        "Let's pre-process the data now !!!\n",
        "\n",
        "We will first define the tokenizer & processor using `gsoc-wav2vec2` package. Then, we will do very simple pre-processing. `processor` will normalize raw speech w.r.to frames axis and `tokenizer` will convert our model outputs into the string (using the defined vocabulary) & will take care of the removal of special tokens (depending on your tokenizer configuration)."
      ]
    },
    {
      "cell_type": "code",
      "execution_count": 19,
      "metadata": {
        "id": "gaat_hMLNVHF",
        "colab": {
          "base_uri": "https://localhost:8080/"
        },
        "outputId": "acb00ebe-841d-47da-d8b9-f5ada6820772"
      },
      "outputs": [
        {
          "output_type": "stream",
          "name": "stdout",
          "text": [
            "Downloading `vocab.json` from https://github.com/vasudevgupta7/gsoc-wav2vec2/raw/main/data/vocab.json ... DONE\n"
          ]
        }
      ],
      "source": [
        "from wav2vec2 import Wav2Vec2Processor\n",
        "tokenizer = Wav2Vec2Processor(is_tokenizer=True)\n",
        "processor = Wav2Vec2Processor(is_tokenizer=False)\n",
        "\n",
        "def preprocess_text(text):\n",
        "  label = tokenizer(text)\n",
        "  return tf.constant(label, dtype=tf.int32)\n",
        "\n",
        "def preprocess_speech(audio):\n",
        "  audio = tf.constant(audio, dtype=tf.float32)\n",
        "  return processor(tf.transpose(audio))"
      ]
    },
    {
      "cell_type": "markdown",
      "metadata": {
        "id": "GyKl8QP-zRFC"
      },
      "source": [
        "Now, we will define the python generator to call the preprocessing functions we defined in above cells."
      ]
    },
    {
      "cell_type": "code",
      "execution_count": 20,
      "metadata": {
        "id": "PoQrRalwMpQ6"
      },
      "outputs": [],
      "source": [
        "def inputs_generator():\n",
        "  for speech, text in samples:\n",
        "    yield preprocess_speech(speech), preprocess_text(text)"
      ]
    },
    {
      "cell_type": "markdown",
      "metadata": {
        "id": "7Vlm3ySFULsG"
      },
      "source": [
        "## Setting up `tf.data.Dataset`\n",
        "\n",
        "Following cell will setup `tf.data.Dataset` object using its `.from_generator(...)` method. We will be using the `generator` object, we defined in the above cell.\n",
        "\n",
        "**Note:** For distributed training (especially on TPUs), `.from_generator(...)` doesn't work currently and it is recommended to train on data stored in `.tfrecord` format (Note: The TFRecords should ideally be stored inside a GCS Bucket in order for the TPUs to work to the fullest extent).\n",
        "\n",
        "You can refer to [this script](https://github.com/vasudevgupta7/gsoc-wav2vec2/blob/main/src/make_tfrecords.py) for more details on how to convert LibriSpeech data into tfrecords."
      ]
    },
    {
      "cell_type": "code",
      "execution_count": 21,
      "metadata": {
        "id": "LbQ_dMwGO62h"
      },
      "outputs": [],
      "source": [
        "output_signature = (\n",
        "    tf.TensorSpec(shape=(None),  dtype=tf.float32),\n",
        "    tf.TensorSpec(shape=(None), dtype=tf.int32),\n",
        ")\n",
        "\n",
        "dataset = tf.data.Dataset.from_generator(inputs_generator, output_signature=output_signature)"
      ]
    },
    {
      "cell_type": "code",
      "execution_count": 22,
      "metadata": {
        "id": "HXBbNsRyPyw3"
      },
      "outputs": [],
      "source": [
        "BUFFER_SIZE = len(flac_files)\n",
        "SEED = 42\n",
        "\n",
        "dataset = dataset.shuffle(BUFFER_SIZE, seed=SEED)"
      ]
    },
    {
      "cell_type": "markdown",
      "metadata": {
        "id": "9DAUmns3pXfr"
      },
      "source": [
        "We will pass the dataset into multiple batches, so let's prepare batches in the following cell. Now, all the sequences in a batch should be padded to a constant length. We will use the`.padded_batch(...)` method for that purpose."
      ]
    },
    {
      "cell_type": "code",
      "execution_count": 23,
      "metadata": {
        "id": "Okhko1IWRida"
      },
      "outputs": [],
      "source": [
        "dataset = dataset.padded_batch(BATCH_SIZE, padded_shapes=(AUDIO_MAXLEN, LABEL_MAXLEN), padding_values=(0.0, 0))"
      ]
    },
    {
      "cell_type": "markdown",
      "metadata": {
        "id": "A45CjQG5qSbV"
      },
      "source": [
        "Accelerators (like GPUs/TPUs) are very fast and often data-loading (& pre-processing) becomes the bottleneck during training as the data-loading part happens on CPUs. This can increase the training time significantly especially when there is a lot of online pre-processing involved or data is streamed online from GCS buckets. To handle those issues, `tf.data.Dataset` offers the `.prefetch(...)` method. This method helps in preparing the next few batches in parallel (on CPUs) while the model is making predictions (on GPUs/TPUs) on the current batch."
      ]
    },
    {
      "cell_type": "code",
      "execution_count": 24,
      "metadata": {
        "id": "f-bKu2YjRior"
      },
      "outputs": [],
      "source": [
        "dataset = dataset.prefetch(tf.data.AUTOTUNE)"
      ]
    },
    {
      "cell_type": "markdown",
      "metadata": {
        "id": "Lqk2cs6LxVIh"
      },
      "source": [
        "Since this notebook is made for demonstration purposes, we will be taking first `num_train_batches` and will perform training over only that. You are encouraged to train on the whole dataset though. Similarly, we will evaluate only `num_val_batches`."
      ]
    },
    {
      "cell_type": "code",
      "execution_count": 25,
      "metadata": {
        "id": "z6GO5oYUxXtz"
      },
      "outputs": [],
      "source": [
        "num_train_batches = 10\n",
        "num_val_batches = 4\n",
        "\n",
        "train_dataset = dataset.take(num_train_batches)\n",
        "val_dataset = dataset.skip(num_train_batches).take(num_val_batches)"
      ]
    },
    {
      "cell_type": "markdown",
      "metadata": {
        "id": "CzAOI78tky08"
      },
      "source": [
        "## Model training\n",
        "\n",
        "For training our model, we will be directly calling `.fit(...)` method after compiling our model with `.compile(...)`."
      ]
    },
    {
      "cell_type": "code",
      "execution_count": 26,
      "metadata": {
        "id": "vuBY2sZElgwg"
      },
      "outputs": [],
      "source": [
        "model.compile(optimizer, loss=loss_fn)"
      ]
    },
    {
      "cell_type": "markdown",
      "metadata": {
        "id": "qswxafSl0HjO"
      },
      "source": [
        "The above cell will set up our training state. Now we can initiate training with the `.fit(...)` method."
      ]
    },
    {
      "cell_type": "markdown",
      "source": [
        "#Calculating carbon emissions during model training"
      ],
      "metadata": {
        "id": "-X_vD0CNTsGC"
      }
    },
    {
      "cell_type": "code",
      "source": [
        "!pip install carbontracker\n",
        "from carbontracker.tracker import CarbonTracker"
      ],
      "metadata": {
        "colab": {
          "base_uri": "https://localhost:8080/"
        },
        "id": "3e5FsNVeT1jt",
        "outputId": "d45564c1-93e3-4f7e-f520-122c0741ff2c"
      },
      "execution_count": 27,
      "outputs": [
        {
          "output_type": "stream",
          "name": "stdout",
          "text": [
            "Collecting carbontracker\n",
            "  Downloading carbontracker-2.1.2-py3-none-any.whl.metadata (11 kB)\n",
            "Requirement already satisfied: requests in /usr/local/lib/python3.11/dist-packages (from carbontracker) (2.32.3)\n",
            "Requirement already satisfied: numpy in /usr/local/lib/python3.11/dist-packages (from carbontracker) (2.0.2)\n",
            "Requirement already satisfied: pandas in /usr/local/lib/python3.11/dist-packages (from carbontracker) (2.2.2)\n",
            "Requirement already satisfied: geocoder in /usr/local/lib/python3.11/dist-packages (from carbontracker) (1.38.1)\n",
            "Requirement already satisfied: pynvml in /usr/local/lib/python3.11/dist-packages (from carbontracker) (12.0.0)\n",
            "Requirement already satisfied: psutil in /usr/local/lib/python3.11/dist-packages (from carbontracker) (5.9.5)\n",
            "Requirement already satisfied: importlib-metadata in /usr/local/lib/python3.11/dist-packages (from carbontracker) (8.7.0)\n",
            "Requirement already satisfied: click in /usr/local/lib/python3.11/dist-packages (from geocoder->carbontracker) (8.1.8)\n",
            "Requirement already satisfied: future in /usr/local/lib/python3.11/dist-packages (from geocoder->carbontracker) (1.0.0)\n",
            "Requirement already satisfied: ratelim in /usr/local/lib/python3.11/dist-packages (from geocoder->carbontracker) (0.1.6)\n",
            "Requirement already satisfied: six in /usr/local/lib/python3.11/dist-packages (from geocoder->carbontracker) (1.17.0)\n",
            "Requirement already satisfied: zipp>=3.20 in /usr/local/lib/python3.11/dist-packages (from importlib-metadata->carbontracker) (3.21.0)\n",
            "Requirement already satisfied: python-dateutil>=2.8.2 in /usr/local/lib/python3.11/dist-packages (from pandas->carbontracker) (2.9.0.post0)\n",
            "Requirement already satisfied: pytz>=2020.1 in /usr/local/lib/python3.11/dist-packages (from pandas->carbontracker) (2025.2)\n",
            "Requirement already satisfied: tzdata>=2022.7 in /usr/local/lib/python3.11/dist-packages (from pandas->carbontracker) (2025.2)\n",
            "Requirement already satisfied: nvidia-ml-py<13.0.0a0,>=12.0.0 in /usr/local/lib/python3.11/dist-packages (from pynvml->carbontracker) (12.570.86)\n",
            "Requirement already satisfied: charset-normalizer<4,>=2 in /usr/local/lib/python3.11/dist-packages (from requests->carbontracker) (3.4.1)\n",
            "Requirement already satisfied: idna<4,>=2.5 in /usr/local/lib/python3.11/dist-packages (from requests->carbontracker) (3.10)\n",
            "Requirement already satisfied: urllib3<3,>=1.21.1 in /usr/local/lib/python3.11/dist-packages (from requests->carbontracker) (2.4.0)\n",
            "Requirement already satisfied: certifi>=2017.4.17 in /usr/local/lib/python3.11/dist-packages (from requests->carbontracker) (2025.4.26)\n",
            "Requirement already satisfied: decorator in /usr/local/lib/python3.11/dist-packages (from ratelim->geocoder->carbontracker) (4.4.2)\n",
            "Downloading carbontracker-2.1.2-py3-none-any.whl (39 kB)\n",
            "Installing collected packages: carbontracker\n",
            "Successfully installed carbontracker-2.1.2\n"
          ]
        }
      ]
    },
    {
      "cell_type": "code",
      "execution_count": 28,
      "metadata": {
        "id": "vtuSfnj1l-I_"
      },
      "outputs": [],
      "source": [
        "#history = model.fit(train_dataset, validation_data=val_dataset, epochs=3)\n",
        "#history.history"
      ]
    },
    {
      "cell_type": "code",
      "source": [
        "#Initialize CarbonTracker\n",
        "tracker = CarbonTracker(epochs=3)\n",
        "\n",
        "#Create a custom history dictionary\n",
        "history_dict = {'loss': [], 'accuracy': [], 'val_loss': [], 'val_accuracy': []}\n",
        "\n",
        "# Manually train one epoch at a time\n",
        "for epoch in range(3):\n",
        "    tracker.epoch_start()\n",
        "\n",
        "    #Train for 1 epoch\n",
        "    history = model.fit(\n",
        "        train_dataset,\n",
        "        validation_data=val_dataset,\n",
        "        epochs=1,\n",
        "        verbose=1\n",
        "    )\n",
        "\n",
        "    #Save metrics from this epoch\n",
        "    history_dict['loss'].append(history.history['loss'][0])\n",
        "    history_dict['val_loss'].append(history.history['val_loss'][0])\n",
        "\n",
        "    tracker.epoch_end()\n",
        "\n",
        "# Stop and print final emission report\n",
        "tracker.stop()"
      ],
      "metadata": {
        "colab": {
          "base_uri": "https://localhost:8080/"
        },
        "id": "9abmifYAzALZ",
        "outputId": "ef6b04a5-9e7e-40bb-efbf-7a11188e49fa"
      },
      "execution_count": 29,
      "outputs": [
        {
          "output_type": "stream",
          "name": "stdout",
          "text": [
            "CarbonTracker: The following components were found: GPU with device(s) Tesla T4.\n",
            "CarbonTracker: WARNING - ElectricityMaps API key not set. Will default to average carbon intensity.\n",
            "CarbonTracker: WARNING - Failed to retrieve carbon intensity: Defaulting to average carbon intensity 369.47318 gCO2/kWh.\n"
          ]
        },
        {
          "output_type": "stream",
          "name": "stderr",
          "text": [
            "WARNING:tensorflow:Gradients do not exist for variables ['wav2vec2/masked_spec_embed:0'] when minimizing the loss. If you're using `model.compile()`, did you forget to provide a `loss` argument?\n",
            "WARNING:tensorflow:Gradients do not exist for variables ['wav2vec2/masked_spec_embed:0'] when minimizing the loss. If you're using `model.compile()`, did you forget to provide a `loss` argument?\n",
            "WARNING:tensorflow:Gradients do not exist for variables ['wav2vec2/masked_spec_embed:0'] when minimizing the loss. If you're using `model.compile()`, did you forget to provide a `loss` argument?\n",
            "WARNING:tensorflow:Gradients do not exist for variables ['wav2vec2/masked_spec_embed:0'] when minimizing the loss. If you're using `model.compile()`, did you forget to provide a `loss` argument?\n"
          ]
        },
        {
          "output_type": "stream",
          "name": "stdout",
          "text": [
            "10/10 [==============================] - 73s 2s/step - loss: 978.4582 - val_loss: 1115.3204\n",
            "CarbonTracker: WARNING - ElectricityMaps API key not set. Will default to average carbon intensity.\n",
            "CarbonTracker: WARNING - Failed to retrieve carbon intensity: Defaulting to average carbon intensity 369.47318 gCO2/kWh.\n",
            "CarbonTracker: Live carbon intensity could not be fetched at detected location: Las Vegas, Nevada, US. Defaulted to average carbon intensity for US in 2023 of 369.47 gCO2/kWh. at detected location: Las Vegas, Nevada, US.\n",
            "CarbonTracker: \n",
            "Predicted consumption for 3 epoch(s):\n",
            "\tTime:\t0:03:48\n",
            "\tEnergy:\t0.003426802910 kWh\n",
            "\tCO2eq:\t1.266111768547 g\n",
            "\tThis is equivalent to:\n",
            "\t0.011777783893 km travelled by car\n",
            "10/10 [==============================] - 20s 2s/step - loss: 749.0587 - val_loss: 496.0295\n",
            "10/10 [==============================] - 20s 2s/step - loss: 716.5965 - val_loss: 653.7250\n",
            "CarbonTracker: WARNING - ElectricityMaps API key not set. Will default to average carbon intensity.\n",
            "CarbonTracker: WARNING - Failed to retrieve carbon intensity: Defaulting to average carbon intensity 369.47318 gCO2/kWh.\n",
            "CarbonTracker: Average carbon intensity during training was 369.47 gCO2/kWh at detected location: Las Vegas, Nevada, US.\n",
            "CarbonTracker: \n",
            "Actual consumption for 3 epoch(s):\n",
            "\tTime:\t0:01:56\n",
            "\tEnergy:\t0.002034554948 kWh\n",
            "\tCO2eq:\t0.751713486596 g\n",
            "\tThis is equivalent to:\n",
            "\t0.006992683596 km travelled by car\n",
            "CarbonTracker: Finished monitoring.\n"
          ]
        }
      ]
    },
    {
      "cell_type": "markdown",
      "metadata": {
        "id": "ySvp8r2E1q_V"
      },
      "source": [
        "Let's save our model with `.save(...)` method to be able to perform inference later. You can also export this SavedModel to TFHub by following [TFHub documentation](https://www.tensorflow.org/hub/publish)."
      ]
    },
    {
      "cell_type": "code",
      "execution_count": 30,
      "metadata": {
        "id": "C0KEYcwydwjF"
      },
      "outputs": [],
      "source": [
        "save_dir = \"finetuned-wav2vec2\"\n",
        "model.save(save_dir, include_optimizer=False)"
      ]
    },
    {
      "cell_type": "markdown",
      "metadata": {
        "id": "MkOpp9rZ211t"
      },
      "source": [
        "Note: We are setting `include_optimizer=False` as we want to use this model for inference only."
      ]
    },
    {
      "cell_type": "markdown",
      "metadata": {
        "id": "SJfPlTgezD0i"
      },
      "source": [
        "## Evaluation\n",
        "\n",
        "Now we will be computing Word Error Rate over the validation dataset\n",
        "\n",
        "**Word error rate** (WER) is a common metric for measuring the performance of an automatic speech recognition system. The WER is derived from the Levenshtein distance, working at the word level. Word error rate can then be computed as: WER = (S + D + I) / N = (S + D + I) / (S + D + C) where S is the number of substitutions, D is the number of deletions, I is the number of insertions, C is the number of correct words, N is the number of words in the reference (N=S+D+C). This value indicates the percentage of words that were incorrectly predicted.\n",
        "\n",
        "You can refer to [this paper](https://www.isca-speech.org/archive_v0/interspeech_2004/i04_2765.html) to learn more about WER."
      ]
    },
    {
      "cell_type": "markdown",
      "metadata": {
        "id": "Io_91Y7-r3xu"
      },
      "source": [
        "We will use `load_metric(...)` function from [HuggingFace datasets](https://huggingface.co/docs/datasets/) library. Let's first install the `datasets` library using `pip` and then define the `metric` object."
      ]
    },
    {
      "cell_type": "code",
      "execution_count": 31,
      "metadata": {
        "id": "GW9F_oVDU1TZ"
      },
      "outputs": [],
      "source": [
        "#!pip3 install -q datasets\n",
        "\n",
        "#from datasets import load_metric\n",
        "#metric = load_metric(\"wer\")"
      ]
    },
    {
      "cell_type": "code",
      "source": [
        "!pip3 install evaluate\n",
        "import evaluate\n",
        "metric = evaluate.load(\"wer\")"
      ],
      "metadata": {
        "colab": {
          "base_uri": "https://localhost:8080/",
          "height": 1000,
          "referenced_widgets": [
            "373ce659d0c44bd19b011c1255c4e87d",
            "c969c7c4647440888fa7a29154d97712",
            "7b1ae6542c2f4213ad32e479f37baa22",
            "d57075a2ba3e43ef90f6ae741e045e4c",
            "9204efde142b4a2c8c78a4a4ec2af70a",
            "465965f45962462aafafeafdf0093096",
            "2f6c6241bd724ccfbf1a3be91092d3ec",
            "3a1803c3601a428b8eee904e65146f36",
            "acf95717ef48439992ca49e96b57a6a4",
            "335b1b7b763448c9afabe2cd1b759f51",
            "14db8dcf45534e7aae1f73cc9c473ca0"
          ]
        },
        "id": "tSbQshZuVs17",
        "outputId": "35bbf980-19fe-48e5-900b-268adfff6c3e"
      },
      "execution_count": 32,
      "outputs": [
        {
          "output_type": "stream",
          "name": "stdout",
          "text": [
            "Collecting evaluate\n",
            "  Downloading evaluate-0.4.3-py3-none-any.whl.metadata (9.2 kB)\n",
            "Collecting datasets>=2.0.0 (from evaluate)\n",
            "  Downloading datasets-3.5.1-py3-none-any.whl.metadata (19 kB)\n",
            "Requirement already satisfied: numpy>=1.17 in /usr/local/lib/python3.11/dist-packages (from evaluate) (2.0.2)\n",
            "Collecting dill (from evaluate)\n",
            "  Downloading dill-0.4.0-py3-none-any.whl.metadata (10 kB)\n",
            "Requirement already satisfied: pandas in /usr/local/lib/python3.11/dist-packages (from evaluate) (2.2.2)\n",
            "Requirement already satisfied: requests>=2.19.0 in /usr/local/lib/python3.11/dist-packages (from evaluate) (2.32.3)\n",
            "Requirement already satisfied: tqdm>=4.62.1 in /usr/local/lib/python3.11/dist-packages (from evaluate) (4.67.1)\n",
            "Collecting xxhash (from evaluate)\n",
            "  Downloading xxhash-3.5.0-cp311-cp311-manylinux_2_17_x86_64.manylinux2014_x86_64.whl.metadata (12 kB)\n",
            "Collecting multiprocess (from evaluate)\n",
            "  Downloading multiprocess-0.70.18-py311-none-any.whl.metadata (7.5 kB)\n",
            "Requirement already satisfied: fsspec>=2021.05.0 in /usr/local/lib/python3.11/dist-packages (from fsspec[http]>=2021.05.0->evaluate) (2025.3.2)\n",
            "Requirement already satisfied: huggingface-hub>=0.7.0 in /usr/local/lib/python3.11/dist-packages (from evaluate) (0.30.2)\n",
            "Requirement already satisfied: packaging in /usr/local/lib/python3.11/dist-packages (from evaluate) (24.2)\n",
            "Requirement already satisfied: filelock in /usr/local/lib/python3.11/dist-packages (from datasets>=2.0.0->evaluate) (3.18.0)\n",
            "Requirement already satisfied: pyarrow>=15.0.0 in /usr/local/lib/python3.11/dist-packages (from datasets>=2.0.0->evaluate) (18.1.0)\n",
            "Collecting dill (from evaluate)\n",
            "  Downloading dill-0.3.8-py3-none-any.whl.metadata (10 kB)\n",
            "Collecting multiprocess (from evaluate)\n",
            "  Downloading multiprocess-0.70.16-py311-none-any.whl.metadata (7.2 kB)\n",
            "Collecting fsspec>=2021.05.0 (from fsspec[http]>=2021.05.0->evaluate)\n",
            "  Downloading fsspec-2025.3.0-py3-none-any.whl.metadata (11 kB)\n",
            "Requirement already satisfied: aiohttp in /usr/local/lib/python3.11/dist-packages (from datasets>=2.0.0->evaluate) (3.11.15)\n",
            "Requirement already satisfied: pyyaml>=5.1 in /usr/local/lib/python3.11/dist-packages (from datasets>=2.0.0->evaluate) (6.0.2)\n",
            "Requirement already satisfied: typing-extensions>=3.7.4.3 in /usr/local/lib/python3.11/dist-packages (from huggingface-hub>=0.7.0->evaluate) (4.13.2)\n",
            "Requirement already satisfied: charset-normalizer<4,>=2 in /usr/local/lib/python3.11/dist-packages (from requests>=2.19.0->evaluate) (3.4.1)\n",
            "Requirement already satisfied: idna<4,>=2.5 in /usr/local/lib/python3.11/dist-packages (from requests>=2.19.0->evaluate) (3.10)\n",
            "Requirement already satisfied: urllib3<3,>=1.21.1 in /usr/local/lib/python3.11/dist-packages (from requests>=2.19.0->evaluate) (2.4.0)\n",
            "Requirement already satisfied: certifi>=2017.4.17 in /usr/local/lib/python3.11/dist-packages (from requests>=2.19.0->evaluate) (2025.4.26)\n",
            "Requirement already satisfied: python-dateutil>=2.8.2 in /usr/local/lib/python3.11/dist-packages (from pandas->evaluate) (2.9.0.post0)\n",
            "Requirement already satisfied: pytz>=2020.1 in /usr/local/lib/python3.11/dist-packages (from pandas->evaluate) (2025.2)\n",
            "Requirement already satisfied: tzdata>=2022.7 in /usr/local/lib/python3.11/dist-packages (from pandas->evaluate) (2025.2)\n",
            "Requirement already satisfied: aiohappyeyeballs>=2.3.0 in /usr/local/lib/python3.11/dist-packages (from aiohttp->datasets>=2.0.0->evaluate) (2.6.1)\n",
            "Requirement already satisfied: aiosignal>=1.1.2 in /usr/local/lib/python3.11/dist-packages (from aiohttp->datasets>=2.0.0->evaluate) (1.3.2)\n",
            "Requirement already satisfied: attrs>=17.3.0 in /usr/local/lib/python3.11/dist-packages (from aiohttp->datasets>=2.0.0->evaluate) (25.3.0)\n",
            "Requirement already satisfied: frozenlist>=1.1.1 in /usr/local/lib/python3.11/dist-packages (from aiohttp->datasets>=2.0.0->evaluate) (1.6.0)\n",
            "Requirement already satisfied: multidict<7.0,>=4.5 in /usr/local/lib/python3.11/dist-packages (from aiohttp->datasets>=2.0.0->evaluate) (6.4.3)\n",
            "Requirement already satisfied: propcache>=0.2.0 in /usr/local/lib/python3.11/dist-packages (from aiohttp->datasets>=2.0.0->evaluate) (0.3.1)\n",
            "Requirement already satisfied: yarl<2.0,>=1.17.0 in /usr/local/lib/python3.11/dist-packages (from aiohttp->datasets>=2.0.0->evaluate) (1.20.0)\n",
            "Requirement already satisfied: six>=1.5 in /usr/local/lib/python3.11/dist-packages (from python-dateutil>=2.8.2->pandas->evaluate) (1.17.0)\n",
            "Downloading evaluate-0.4.3-py3-none-any.whl (84 kB)\n",
            "\u001b[2K   \u001b[90m\u2501\u2501\u2501\u2501\u2501\u2501\u2501\u2501\u2501\u2501\u2501\u2501\u2501\u2501\u2501\u2501\u2501\u2501\u2501\u2501\u2501\u2501\u2501\u2501\u2501\u2501\u2501\u2501\u2501\u2501\u2501\u2501\u2501\u2501\u2501\u2501\u2501\u2501\u2501\u2501\u001b[0m \u001b[32m84.0/84.0 kB\u001b[0m \u001b[31m5.0 MB/s\u001b[0m eta \u001b[36m0:00:00\u001b[0m\n",
            "\u001b[?25hDownloading datasets-3.5.1-py3-none-any.whl (491 kB)\n",
            "\u001b[2K   \u001b[90m\u2501\u2501\u2501\u2501\u2501\u2501\u2501\u2501\u2501\u2501\u2501\u2501\u2501\u2501\u2501\u2501\u2501\u2501\u2501\u2501\u2501\u2501\u2501\u2501\u2501\u2501\u2501\u2501\u2501\u2501\u2501\u2501\u2501\u2501\u2501\u2501\u2501\u2501\u2501\u2501\u001b[0m \u001b[32m491.4/491.4 kB\u001b[0m \u001b[31m23.4 MB/s\u001b[0m eta \u001b[36m0:00:00\u001b[0m\n",
            "\u001b[?25hDownloading dill-0.3.8-py3-none-any.whl (116 kB)\n",
            "\u001b[2K   \u001b[90m\u2501\u2501\u2501\u2501\u2501\u2501\u2501\u2501\u2501\u2501\u2501\u2501\u2501\u2501\u2501\u2501\u2501\u2501\u2501\u2501\u2501\u2501\u2501\u2501\u2501\u2501\u2501\u2501\u2501\u2501\u2501\u2501\u2501\u2501\u2501\u2501\u2501\u2501\u2501\u2501\u001b[0m \u001b[32m116.3/116.3 kB\u001b[0m \u001b[31m13.7 MB/s\u001b[0m eta \u001b[36m0:00:00\u001b[0m\n",
            "\u001b[?25hDownloading fsspec-2025.3.0-py3-none-any.whl (193 kB)\n",
            "\u001b[2K   \u001b[90m\u2501\u2501\u2501\u2501\u2501\u2501\u2501\u2501\u2501\u2501\u2501\u2501\u2501\u2501\u2501\u2501\u2501\u2501\u2501\u2501\u2501\u2501\u2501\u2501\u2501\u2501\u2501\u2501\u2501\u2501\u2501\u2501\u2501\u2501\u2501\u2501\u2501\u2501\u2501\u2501\u001b[0m \u001b[32m193.6/193.6 kB\u001b[0m \u001b[31m20.8 MB/s\u001b[0m eta \u001b[36m0:00:00\u001b[0m\n",
            "\u001b[?25hDownloading multiprocess-0.70.16-py311-none-any.whl (143 kB)\n",
            "\u001b[2K   \u001b[90m\u2501\u2501\u2501\u2501\u2501\u2501\u2501\u2501\u2501\u2501\u2501\u2501\u2501\u2501\u2501\u2501\u2501\u2501\u2501\u2501\u2501\u2501\u2501\u2501\u2501\u2501\u2501\u2501\u2501\u2501\u2501\u2501\u2501\u2501\u2501\u2501\u2501\u2501\u2501\u2501\u001b[0m \u001b[32m143.5/143.5 kB\u001b[0m \u001b[31m14.5 MB/s\u001b[0m eta \u001b[36m0:00:00\u001b[0m\n",
            "\u001b[?25hDownloading xxhash-3.5.0-cp311-cp311-manylinux_2_17_x86_64.manylinux2014_x86_64.whl (194 kB)\n",
            "\u001b[2K   \u001b[90m\u2501\u2501\u2501\u2501\u2501\u2501\u2501\u2501\u2501\u2501\u2501\u2501\u2501\u2501\u2501\u2501\u2501\u2501\u2501\u2501\u2501\u2501\u2501\u2501\u2501\u2501\u2501\u2501\u2501\u2501\u2501\u2501\u2501\u2501\u2501\u2501\u2501\u2501\u2501\u2501\u001b[0m \u001b[32m194.8/194.8 kB\u001b[0m \u001b[31m19.4 MB/s\u001b[0m eta \u001b[36m0:00:00\u001b[0m\n",
            "\u001b[?25hInstalling collected packages: xxhash, fsspec, dill, multiprocess, datasets, evaluate\n",
            "  Attempting uninstall: fsspec\n",
            "    Found existing installation: fsspec 2025.3.2\n",
            "    Uninstalling fsspec-2025.3.2:\n",
            "      Successfully uninstalled fsspec-2025.3.2\n",
            "\u001b[31mERROR: pip's dependency resolver does not currently take into account all the packages that are installed. This behaviour is the source of the following dependency conflicts.\n",
            "torch 2.6.0+cu124 requires nvidia-cublas-cu12==12.4.5.8; platform_system == \"Linux\" and platform_machine == \"x86_64\", but you have nvidia-cublas-cu12 12.5.3.2 which is incompatible.\n",
            "torch 2.6.0+cu124 requires nvidia-cuda-cupti-cu12==12.4.127; platform_system == \"Linux\" and platform_machine == \"x86_64\", but you have nvidia-cuda-cupti-cu12 12.5.82 which is incompatible.\n",
            "torch 2.6.0+cu124 requires nvidia-cuda-nvrtc-cu12==12.4.127; platform_system == \"Linux\" and platform_machine == \"x86_64\", but you have nvidia-cuda-nvrtc-cu12 12.5.82 which is incompatible.\n",
            "torch 2.6.0+cu124 requires nvidia-cuda-runtime-cu12==12.4.127; platform_system == \"Linux\" and platform_machine == \"x86_64\", but you have nvidia-cuda-runtime-cu12 12.5.82 which is incompatible.\n",
            "torch 2.6.0+cu124 requires nvidia-cudnn-cu12==9.1.0.70; platform_system == \"Linux\" and platform_machine == \"x86_64\", but you have nvidia-cudnn-cu12 9.3.0.75 which is incompatible.\n",
            "torch 2.6.0+cu124 requires nvidia-cufft-cu12==11.2.1.3; platform_system == \"Linux\" and platform_machine == \"x86_64\", but you have nvidia-cufft-cu12 11.2.3.61 which is incompatible.\n",
            "torch 2.6.0+cu124 requires nvidia-curand-cu12==10.3.5.147; platform_system == \"Linux\" and platform_machine == \"x86_64\", but you have nvidia-curand-cu12 10.3.6.82 which is incompatible.\n",
            "torch 2.6.0+cu124 requires nvidia-cusolver-cu12==11.6.1.9; platform_system == \"Linux\" and platform_machine == \"x86_64\", but you have nvidia-cusolver-cu12 11.6.3.83 which is incompatible.\n",
            "torch 2.6.0+cu124 requires nvidia-cusparse-cu12==12.3.1.170; platform_system == \"Linux\" and platform_machine == \"x86_64\", but you have nvidia-cusparse-cu12 12.5.1.3 which is incompatible.\n",
            "torch 2.6.0+cu124 requires nvidia-nvjitlink-cu12==12.4.127; platform_system == \"Linux\" and platform_machine == \"x86_64\", but you have nvidia-nvjitlink-cu12 12.5.82 which is incompatible.\n",
            "gcsfs 2025.3.2 requires fsspec==2025.3.2, but you have fsspec 2025.3.0 which is incompatible.\u001b[0m\u001b[31m\n",
            "\u001b[0mSuccessfully installed datasets-3.5.1 dill-0.3.8 evaluate-0.4.3 fsspec-2025.3.0 multiprocess-0.70.16 xxhash-3.5.0\n"
          ]
        },
        {
          "output_type": "stream",
          "name": "stderr",
          "text": [
            "/usr/local/lib/python3.11/dist-packages/huggingface_hub/utils/_auth.py:94: UserWarning: \n",
            "The secret `HF_TOKEN` does not exist in your Colab secrets.\n",
            "To authenticate with the Hugging Face Hub, create a token in your settings tab (https://huggingface.co/settings/tokens), set it as secret in your Google Colab and restart your session.\n",
            "You will be able to reuse this secret in all of your notebooks.\n",
            "Please note that authentication is recommended but still optional to access public models or datasets.\n",
            "  warnings.warn(\n"
          ]
        },
        {
          "output_type": "display_data",
          "data": {
            "text/plain": [
              "Downloading builder script:   0%|          | 0.00/4.49k [00:00<?, ?B/s]"
            ],
            "application/vnd.jupyter.widget-view+json": {
              "version_major": 2,
              "version_minor": 0,
              "model_id": "373ce659d0c44bd19b011c1255c4e87d"
            }
          },
          "metadata": {}
        }
      ]
    },
    {
      "cell_type": "code",
      "execution_count": 33,
      "metadata": {
        "id": "ssWXWc7CZvNB"
      },
      "outputs": [],
      "source": [
        "@tf.function(jit_compile=True)\n",
        "def eval_fwd(batch):\n",
        "  logits = model(batch, training=False)\n",
        "  return tf.argmax(logits, axis=-1)"
      ]
    },
    {
      "cell_type": "markdown",
      "metadata": {
        "id": "NFh1myg1x4ua"
      },
      "source": [
        "It's time to run the evaluation on validation data now."
      ]
    },
    {
      "cell_type": "code",
      "execution_count": 34,
      "metadata": {
        "id": "EQTFVjZghckJ",
        "colab": {
          "base_uri": "https://localhost:8080/",
          "height": 49,
          "referenced_widgets": [
            "b0ebc5ddb15e4e4d821cd3153f955a34",
            "126d3a0f96204d36a2c5c08e70103780",
            "30b2f064bf8545679131aa6630183608",
            "e10cdd5952124cfc8b4b658384241d51",
            "8b66e351ee914688a3339e6f2e9d2e05",
            "f3ee477757ce49e8b149d5ba5db1f9a2",
            "49f5576a70b747a3a4e06672202a0ee7",
            "ae686ad17ac64fc38b20a99a54f32f76",
            "5072422543ea4d33908513c3c38cda88",
            "0d5ab060f5a54b9284aafef42526ab56",
            "c8098839fce748e48c8e072fa642378c"
          ]
        },
        "outputId": "b552254b-6430-42d4-fdc4-3f222f04d2b7"
      },
      "outputs": [
        {
          "output_type": "display_data",
          "data": {
            "text/plain": [
              "  0%|          | 0/4 [00:00<?, ?it/s]"
            ],
            "application/vnd.jupyter.widget-view+json": {
              "version_major": 2,
              "version_minor": 0,
              "model_id": "b0ebc5ddb15e4e4d821cd3153f955a34"
            }
          },
          "metadata": {}
        }
      ],
      "source": [
        "from tqdm.auto import tqdm\n",
        "\n",
        "for speech, labels in tqdm(val_dataset, total=num_val_batches):\n",
        "    predictions  = eval_fwd(speech)\n",
        "    predictions = [tokenizer.decode(pred) for pred in predictions.numpy().tolist()]\n",
        "    references = [tokenizer.decode(label, group_tokens=False) for label in labels.numpy().tolist()]\n",
        "    metric.add_batch(references=references, predictions=predictions)"
      ]
    },
    {
      "cell_type": "markdown",
      "metadata": {
        "id": "WWCc8qBesv3e"
      },
      "source": [
        "We are using the `tokenizer.decode(...)` method for decoding our predictions and labels back into the text and will add them to the metric for `WER` computation later."
      ]
    },
    {
      "cell_type": "markdown",
      "metadata": {
        "id": "XI_URj8Wtb2g"
      },
      "source": [
        "Now, let's calculate the metric value in following cell:"
      ]
    },
    {
      "cell_type": "code",
      "execution_count": 35,
      "metadata": {
        "id": "a83wekLgWMod",
        "colab": {
          "base_uri": "https://localhost:8080/"
        },
        "outputId": "172f6e87-42b4-44be-d8e4-37771c8e9ab3"
      },
      "outputs": [
        {
          "output_type": "execute_result",
          "data": {
            "text/plain": [
              "1.0"
            ]
          },
          "metadata": {},
          "execution_count": 35
        }
      ],
      "source": [
        "metric.compute()"
      ]
    },
    {
      "cell_type": "markdown",
      "metadata": {
        "id": "c_cD1OgVEjl4"
      },
      "source": [
        "**Note:** Here metric value doesn't make any sense as the model is trained on very small data and ASR-like tasks often require a large amount of data to learn a mapping from speech to text. You should probably train on large data to get some good results. This notebook gives you a template to fine-tune a pre-trained speech model."
      ]
    },
    {
      "cell_type": "markdown",
      "metadata": {
        "id": "G14o706kdTE1"
      },
      "source": [
        "## Inference\n",
        "\n",
        "Now that we are satisfied with the training process & have saved the model in `save_dir`, we will see how this model can be used for inference.\n",
        "\n",
        "First, we will load our model using `tf.keras.models.load_model(...)`."
      ]
    },
    {
      "cell_type": "code",
      "execution_count": 36,
      "metadata": {
        "id": "wrTrExiUdaED",
        "colab": {
          "base_uri": "https://localhost:8080/"
        },
        "outputId": "95a76d88-b756-4696-f2a8-0d3f1d9a85b2"
      },
      "outputs": [
        {
          "output_type": "stream",
          "name": "stderr",
          "text": [
            "WARNING:tensorflow:No training configuration found in save file, so the model was *not* compiled. Compile it manually.\n"
          ]
        }
      ],
      "source": [
        "finetuned_model = keras.models.load_model(save_dir)"
      ]
    },
    {
      "cell_type": "markdown",
      "metadata": {
        "id": "luodSroz20SR"
      },
      "source": [
        "Let's download some speech samples for performing inference. You can replace the following sample with your speech sample also."
      ]
    },
    {
      "cell_type": "code",
      "execution_count": 37,
      "metadata": {
        "id": "HUE0shded6Ej",
        "colab": {
          "base_uri": "https://localhost:8080/"
        },
        "outputId": "f43c4902-4d07-4f27-9f04-69af29324be6"
      },
      "outputs": [
        {
          "output_type": "stream",
          "name": "stdout",
          "text": [
            "--2025-05-01 20:57:27--  https://github.com/vasudevgupta7/gsoc-wav2vec2/raw/main/data/SA2.wav\n",
            "Resolving github.com (github.com)... 140.82.113.4\n",
            "Connecting to github.com (github.com)|140.82.113.4|:443... connected.\n",
            "HTTP request sent, awaiting response... 301 Moved Permanently\n",
            "Location: https://github.com/thevasudevgupta/gsoc-wav2vec2/raw/main/data/SA2.wav [following]\n",
            "--2025-05-01 20:57:28--  https://github.com/thevasudevgupta/gsoc-wav2vec2/raw/main/data/SA2.wav\n",
            "Reusing existing connection to github.com:443.\n",
            "HTTP request sent, awaiting response... 302 Found\n",
            "Location: https://raw.githubusercontent.com/thevasudevgupta/gsoc-wav2vec2/main/data/SA2.wav [following]\n",
            "--2025-05-01 20:57:28--  https://raw.githubusercontent.com/thevasudevgupta/gsoc-wav2vec2/main/data/SA2.wav\n",
            "Resolving raw.githubusercontent.com (raw.githubusercontent.com)... 185.199.108.133, 185.199.109.133, 185.199.110.133, ...\n",
            "Connecting to raw.githubusercontent.com (raw.githubusercontent.com)|185.199.108.133|:443... connected.\n",
            "HTTP request sent, awaiting response... 200 OK\n",
            "Length: 94252 (92K) [audio/wav]\n",
            "Saving to: \u2018SA2.wav\u2019\n",
            "\n",
            "SA2.wav             100%[===================>]  92.04K  --.-KB/s    in 0.01s   \n",
            "\n",
            "2025-05-01 20:57:28 (6.66 MB/s) - \u2018SA2.wav\u2019 saved [94252/94252]\n",
            "\n"
          ]
        }
      ],
      "source": [
        "!wget https://github.com/vasudevgupta7/gsoc-wav2vec2/raw/main/data/SA2.wav"
      ]
    },
    {
      "cell_type": "markdown",
      "metadata": {
        "id": "ycBjU_U53FjL"
      },
      "source": [
        "Now, we will read the speech sample using `soundfile.read(...)` and pad it to `AUDIO_MAXLEN` to satisfy the model signature. Then we will normalize that speech sample using the `Wav2Vec2Processor` instance & will feed it into the model."
      ]
    },
    {
      "cell_type": "code",
      "execution_count": 38,
      "metadata": {
        "id": "z7CARje4d5_H",
        "colab": {
          "base_uri": "https://localhost:8080/"
        },
        "outputId": "a761e4ed-edc5-4063-9dfa-868ee3944417"
      },
      "outputs": [
        {
          "output_type": "execute_result",
          "data": {
            "text/plain": [
              "<tf.Tensor: shape=(1, 768, 32), dtype=float32, numpy=\n",
              "array([[[ 0.33396512, -0.99180466, -0.96451646, ..., -0.5379523 ,\n",
              "         -0.6983371 ,  0.14255863],\n",
              "        [ 0.3327678 , -0.99038416, -0.963915  , ..., -0.5385642 ,\n",
              "         -0.6984959 ,  0.14263141],\n",
              "        [ 0.33343336, -0.9908779 , -0.96452177, ..., -0.5402275 ,\n",
              "         -0.69786257,  0.14294216],\n",
              "        ...,\n",
              "        [ 0.33401078, -0.98747367, -0.96035594, ..., -0.5414892 ,\n",
              "         -0.6916287 ,  0.14410712],\n",
              "        [ 0.33391365, -0.9872419 , -0.9603482 , ..., -0.54161024,\n",
              "         -0.69156694,  0.14414358],\n",
              "        [ 0.33399794, -0.98696834, -0.9603336 , ..., -0.54160964,\n",
              "         -0.69148   ,  0.1440935 ]]], dtype=float32)>"
            ]
          },
          "metadata": {},
          "execution_count": 38
        }
      ],
      "source": [
        "import numpy as np\n",
        "\n",
        "speech, _ = sf.read(\"SA2.wav\")\n",
        "speech = np.pad(speech, (0, AUDIO_MAXLEN - len(speech)))\n",
        "speech = tf.expand_dims(processor(tf.constant(speech)), 0)\n",
        "\n",
        "outputs = finetuned_model(speech)\n",
        "outputs"
      ]
    },
    {
      "cell_type": "markdown",
      "metadata": {
        "id": "lUSttSPa30qP"
      },
      "source": [
        "Let's decode numbers back into text sequence using the `Wav2Vec2tokenizer` instance, we defined above."
      ]
    },
    {
      "cell_type": "code",
      "execution_count": 39,
      "metadata": {
        "id": "RYdJqxQ4llgI",
        "colab": {
          "base_uri": "https://localhost:8080/"
        },
        "outputId": "7a04fe11-ddea-4537-824c-5e843c64a16b"
      },
      "outputs": [
        {
          "output_type": "execute_result",
          "data": {
            "text/plain": [
              "['T']"
            ]
          },
          "metadata": {},
          "execution_count": 39
        }
      ],
      "source": [
        "predictions = tf.argmax(outputs, axis=-1)\n",
        "predictions = [tokenizer.decode(pred) for pred in predictions.numpy().tolist()]\n",
        "predictions"
      ]
    },
    {
      "cell_type": "markdown",
      "metadata": {
        "id": "7DXC757bztJc"
      },
      "source": [
        "This prediction is quite random as the model was never trained on large data in this notebook (as this notebook is not meant for doing complete training). You will get good predictions if you train this model on complete LibriSpeech dataset.\n",
        "\n",
        "Finally, we have reached an end to this notebook. But it's not an end of learning TensorFlow for speech-related tasks, this [repository](https://github.com/tulasiram58827/TTS_TFLite) contains some more amazing tutorials. In case you encountered any bug in this notebook, please create an issue [here](https://github.com/vasudevgupta7/gsoc-wav2vec2/issues)."
      ]
    }
  ],
  "metadata": {
    "accelerator": "GPU",
    "colab": {
      "provenance": []
    },
    "kernelspec": {
      "display_name": "Python 3",
      "name": "python3"
    }
  },
  "nbformat": 4,
  "nbformat_minor": 0
}